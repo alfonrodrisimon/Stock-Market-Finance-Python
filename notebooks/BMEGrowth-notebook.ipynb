{
 "cells": [
  {
   "cell_type": "code",
   "execution_count": 18,
   "metadata": {},
   "outputs": [
    {
     "data": {
      "text/html": [
       "        <script type=\"text/javascript\">\n",
       "        window.PlotlyConfig = {MathJaxConfig: 'local'};\n",
       "        if (window.MathJax && window.MathJax.Hub && window.MathJax.Hub.Config) {window.MathJax.Hub.Config({SVG: {font: \"STIX-Web\"}});}\n",
       "        </script>\n",
       "        <script type=\"module\">import \"https://cdn.plot.ly/plotly-3.0.0.min\"</script>\n",
       "        "
      ]
     },
     "metadata": {},
     "output_type": "display_data"
    },
    {
     "data": {
      "text/html": [
       "        <script type=\"text/javascript\">\n",
       "        window.PlotlyConfig = {MathJaxConfig: 'local'};\n",
       "        if (window.MathJax && window.MathJax.Hub && window.MathJax.Hub.Config) {window.MathJax.Hub.Config({SVG: {font: \"STIX-Web\"}});}\n",
       "        </script>\n",
       "        <script type=\"module\">import \"https://cdn.plot.ly/plotly-3.0.0.min\"</script>\n",
       "        "
      ]
     },
     "metadata": {},
     "output_type": "display_data"
    }
   ],
   "source": [
    "# Import Libraries\n",
    "import yfinance as yf\n",
    "import matplotlib.pyplot as plt\n",
    "import pandas as pd\n",
    "from ta.volatility import BollingerBands\n",
    "from ta.momentum import RSIIndicator\n",
    "from ta.others import daily_return,cumulative_return\n",
    "from plotly.offline import init_notebook_mode\n",
    "import cufflinks as cf\n",
    "from plotly.subplots import make_subplots\n",
    "import plotly.graph_objects as go\n",
    "import os\n",
    "import requests\n",
    "from bs4 import BeautifulSoup\n",
    "import warnings\n",
    "from tqdm.auto import tqdm\n",
    "\n",
    "warnings.filterwarnings(\"ignore\")\n",
    "%matplotlib inline\n",
    "init_notebook_mode(connected=True)\n",
    "cf.go_offline()"
   ]
  },
  {
   "cell_type": "code",
   "execution_count": 19,
   "metadata": {},
   "outputs": [
    {
     "name": "stdout",
     "output_type": "stream",
     "text": [
      "'../input' folder already exists.\n"
     ]
    }
   ],
   "source": [
    "# Check if folder input exists\n",
    "\n",
    "# Define the folder name\n",
    "folder_name = '../input'\n",
    "\n",
    "# Check if the folder exists\n",
    "if not os.path.exists(folder_name):\n",
    "    # If it doesn't exist, create the folder\n",
    "    os.makedirs(folder_name)\n",
    "    print(f\"'{folder_name}' folder created.\")\n",
    "else:\n",
    "    print(f\"'{folder_name}' folder already exists.\")"
   ]
  },
  {
   "cell_type": "code",
   "execution_count": 20,
   "metadata": {},
   "outputs": [
    {
     "name": "stdout",
     "output_type": "stream",
     "text": [
      "'../tickers' folder already exists.\n"
     ]
    }
   ],
   "source": [
    "# Check if folder tickers exists\n",
    "\n",
    "# Define the folder name\n",
    "folder_name = '../tickers'\n",
    "\n",
    "# Check if the folder exists\n",
    "if not os.path.exists(folder_name):\n",
    "    # If it doesn't exist, create the folder\n",
    "    os.makedirs(folder_name)\n",
    "    print(f\"'{folder_name}' folder created.\")\n",
    "else:\n",
    "    print(f\"'{folder_name}' folder already exists.\")"
   ]
  },
  {
   "cell_type": "code",
   "execution_count": 21,
   "metadata": {},
   "outputs": [],
   "source": [
    "# Webscrapping Wikipedia table to get the IBEX 35 Growth components\n",
    "page = requests.get(\"https://es.wikipedia.org/wiki/BME_Growth\")\n",
    "soup = BeautifulSoup(page.text, 'html.parser') \n",
    "table = soup.find('table',class_=\"wikitable sortable\")"
   ]
  },
  {
   "cell_type": "code",
   "execution_count": 22,
   "metadata": {},
   "outputs": [
    {
     "data": {
      "text/html": [
       "<div>\n",
       "<style scoped>\n",
       "    .dataframe tbody tr th:only-of-type {\n",
       "        vertical-align: middle;\n",
       "    }\n",
       "\n",
       "    .dataframe tbody tr th {\n",
       "        vertical-align: top;\n",
       "    }\n",
       "\n",
       "    .dataframe thead th {\n",
       "        text-align: right;\n",
       "    }\n",
       "</style>\n",
       "<table border=\"1\" class=\"dataframe\">\n",
       "  <thead>\n",
       "    <tr style=\"text-align: right;\">\n",
       "      <th></th>\n",
       "      <th>Ticker</th>\n",
       "      <th>Empresa</th>\n",
       "      <th>Sede</th>\n",
       "      <th>Sector[7]​</th>\n",
       "      <th>Contratación[7]​</th>\n",
       "      <th>ISIN</th>\n",
       "    </tr>\n",
       "  </thead>\n",
       "  <tbody>\n",
       "    <tr>\n",
       "      <th>0</th>\n",
       "      <td>ADL.MC</td>\n",
       "      <td>ADL Bionatur Solutions</td>\n",
       "      <td>Jerez de la Frontera</td>\n",
       "      <td>Productos farmacéuticos y biotecnología</td>\n",
       "      <td>Continuo</td>\n",
       "      <td>ES0184980003</td>\n",
       "    </tr>\n",
       "    <tr>\n",
       "      <th>1</th>\n",
       "      <td>AGIL.MC</td>\n",
       "      <td>Agile Content</td>\n",
       "      <td>Madrid</td>\n",
       "      <td>Electrónica y software</td>\n",
       "      <td>Continuo</td>\n",
       "      <td>ES0105102000</td>\n",
       "    </tr>\n",
       "    <tr>\n",
       "      <th>2</th>\n",
       "      <td>COM.MC</td>\n",
       "      <td>Catenon</td>\n",
       "      <td>Madrid</td>\n",
       "      <td>Electrónica y software</td>\n",
       "      <td>Continuo</td>\n",
       "      <td>ES0112320009</td>\n",
       "    </tr>\n",
       "    <tr>\n",
       "      <th>3</th>\n",
       "      <td>EIDF.MC</td>\n",
       "      <td>EiDF</td>\n",
       "      <td>Pontevedra</td>\n",
       "      <td>Energías renovables</td>\n",
       "      <td>Continuo</td>\n",
       "      <td>ES0105517009</td>\n",
       "    </tr>\n",
       "    <tr>\n",
       "      <th>4</th>\n",
       "      <td>ELZ.MC</td>\n",
       "      <td>Asturiana de Laminados (elZinc)</td>\n",
       "      <td>Lena</td>\n",
       "      <td>Mineral, metales y transformación</td>\n",
       "      <td>Continuo</td>\n",
       "      <td>ES0105227005</td>\n",
       "    </tr>\n",
       "    <tr>\n",
       "      <th>5</th>\n",
       "      <td>END.MC</td>\n",
       "      <td>Endurance Motive</td>\n",
       "      <td>Canet de Berenguer</td>\n",
       "      <td>Fabricación y montaje de bienes de equipo</td>\n",
       "      <td>Continuo</td>\n",
       "      <td>ES0105589008</td>\n",
       "    </tr>\n",
       "    <tr>\n",
       "      <th>6</th>\n",
       "      <td>FACE.MC</td>\n",
       "      <td>FacePhi Biometria</td>\n",
       "      <td>Alicante</td>\n",
       "      <td>Electrónica y software</td>\n",
       "      <td>Continuo</td>\n",
       "      <td>ES0105029005</td>\n",
       "    </tr>\n",
       "    <tr>\n",
       "      <th>7</th>\n",
       "      <td>GIGA.MC</td>\n",
       "      <td>Gigas Hosting</td>\n",
       "      <td>Alcobendas</td>\n",
       "      <td>Electrónica y software</td>\n",
       "      <td>Continuo</td>\n",
       "      <td>ES0105093001</td>\n",
       "    </tr>\n",
       "    <tr>\n",
       "      <th>8</th>\n",
       "      <td>GRN.MC</td>\n",
       "      <td>Greenalia</td>\n",
       "      <td>La Coruña</td>\n",
       "      <td>Energías renovables</td>\n",
       "      <td>Continuo</td>\n",
       "      <td>ES0105293007</td>\n",
       "    </tr>\n",
       "    <tr>\n",
       "      <th>9</th>\n",
       "      <td>HLZ.MC</td>\n",
       "      <td>Holaluz</td>\n",
       "      <td>Barcelona</td>\n",
       "      <td>Energías renovables</td>\n",
       "      <td>Continuo</td>\n",
       "      <td>ES0105456026</td>\n",
       "    </tr>\n",
       "    <tr>\n",
       "      <th>10</th>\n",
       "      <td>IZER.MC</td>\n",
       "      <td>Izertis</td>\n",
       "      <td>Gijón</td>\n",
       "      <td>Telecomunicaciones y otros</td>\n",
       "      <td>Continuo</td>\n",
       "      <td>ES0105449005</td>\n",
       "    </tr>\n",
       "    <tr>\n",
       "      <th>11</th>\n",
       "      <td>LLN.MC</td>\n",
       "      <td>Lleida.net</td>\n",
       "      <td>Lérida</td>\n",
       "      <td>Telecomunicaciones y otros</td>\n",
       "      <td>Continuo</td>\n",
       "      <td>ES0105089009</td>\n",
       "    </tr>\n",
       "    <tr>\n",
       "      <th>12</th>\n",
       "      <td>PAR.MC</td>\n",
       "      <td>Parlem Telecom</td>\n",
       "      <td>Barcelona</td>\n",
       "      <td>Telecomunicaciones y otros</td>\n",
       "      <td>Continuo</td>\n",
       "      <td>ES0105561007</td>\n",
       "    </tr>\n",
       "    <tr>\n",
       "      <th>13</th>\n",
       "      <td>SNG.MC</td>\n",
       "      <td>SNGULAR</td>\n",
       "      <td>Madrid</td>\n",
       "      <td>Electrónica y software</td>\n",
       "      <td>Continuo</td>\n",
       "      <td>ES0105611000</td>\n",
       "    </tr>\n",
       "    <tr>\n",
       "      <th>14</th>\n",
       "      <td>TR1.MC</td>\n",
       "      <td>Tier1 Technology</td>\n",
       "      <td>Camas</td>\n",
       "      <td>Electrónica y software</td>\n",
       "      <td>Continuo</td>\n",
       "      <td>ES0105344016</td>\n",
       "    </tr>\n",
       "  </tbody>\n",
       "</table>\n",
       "</div>"
      ],
      "text/plain": [
       "     Ticker                          Empresa                  Sede  \\\n",
       "0    ADL.MC           ADL Bionatur Solutions  Jerez de la Frontera   \n",
       "1   AGIL.MC                    Agile Content                Madrid   \n",
       "2    COM.MC                          Catenon                Madrid   \n",
       "3   EIDF.MC                             EiDF            Pontevedra   \n",
       "4    ELZ.MC  Asturiana de Laminados (elZinc)                  Lena   \n",
       "5    END.MC                 Endurance Motive    Canet de Berenguer   \n",
       "6   FACE.MC                FacePhi Biometria              Alicante   \n",
       "7   GIGA.MC                    Gigas Hosting            Alcobendas   \n",
       "8    GRN.MC                        Greenalia             La Coruña   \n",
       "9    HLZ.MC                          Holaluz             Barcelona   \n",
       "10  IZER.MC                          Izertis                 Gijón   \n",
       "11   LLN.MC                       Lleida.net                Lérida   \n",
       "12   PAR.MC                   Parlem Telecom             Barcelona   \n",
       "13   SNG.MC                          SNGULAR                Madrid   \n",
       "14   TR1.MC                 Tier1 Technology                 Camas   \n",
       "\n",
       "                                   Sector[7]​ Contratación[7]​          ISIN  \n",
       "0     Productos farmacéuticos y biotecnología         Continuo  ES0184980003  \n",
       "1                      Electrónica y software         Continuo  ES0105102000  \n",
       "2                      Electrónica y software         Continuo  ES0112320009  \n",
       "3                         Energías renovables         Continuo  ES0105517009  \n",
       "4           Mineral, metales y transformación         Continuo  ES0105227005  \n",
       "5   Fabricación y montaje de bienes de equipo         Continuo  ES0105589008  \n",
       "6                      Electrónica y software         Continuo  ES0105029005  \n",
       "7                      Electrónica y software         Continuo  ES0105093001  \n",
       "8                         Energías renovables         Continuo  ES0105293007  \n",
       "9                         Energías renovables         Continuo  ES0105456026  \n",
       "10                 Telecomunicaciones y otros         Continuo  ES0105449005  \n",
       "11                 Telecomunicaciones y otros         Continuo  ES0105089009  \n",
       "12                 Telecomunicaciones y otros         Continuo  ES0105561007  \n",
       "13                     Electrónica y software         Continuo  ES0105611000  \n",
       "14                     Electrónica y software         Continuo  ES0105344016  "
      ]
     },
     "execution_count": 22,
     "metadata": {},
     "output_type": "execute_result"
    }
   ],
   "source": [
    "# Convert html table to dataframe\n",
    "wiki = pd.read_html(str(table))\n",
    "wiki = pd.concat(wiki)\n",
    "wiki.head(40)"
   ]
  },
  {
   "cell_type": "code",
   "execution_count": 23,
   "metadata": {},
   "outputs": [
    {
     "data": {
      "text/html": [
       "<div>\n",
       "<style scoped>\n",
       "    .dataframe tbody tr th:only-of-type {\n",
       "        vertical-align: middle;\n",
       "    }\n",
       "\n",
       "    .dataframe tbody tr th {\n",
       "        vertical-align: top;\n",
       "    }\n",
       "\n",
       "    .dataframe thead th {\n",
       "        text-align: right;\n",
       "    }\n",
       "</style>\n",
       "<table border=\"1\" class=\"dataframe\">\n",
       "  <thead>\n",
       "    <tr style=\"text-align: right;\">\n",
       "      <th></th>\n",
       "      <th>Ticker</th>\n",
       "      <th>Empresa</th>\n",
       "      <th>Sede</th>\n",
       "      <th>Sector[7]​</th>\n",
       "      <th>Contratación[7]​</th>\n",
       "      <th>ISIN</th>\n",
       "    </tr>\n",
       "  </thead>\n",
       "  <tbody>\n",
       "    <tr>\n",
       "      <th>1</th>\n",
       "      <td>AGIL.MC</td>\n",
       "      <td>Agile Content</td>\n",
       "      <td>Madrid</td>\n",
       "      <td>Electrónica y software</td>\n",
       "      <td>Continuo</td>\n",
       "      <td>ES0105102000</td>\n",
       "    </tr>\n",
       "    <tr>\n",
       "      <th>2</th>\n",
       "      <td>COM.MC</td>\n",
       "      <td>Catenon</td>\n",
       "      <td>Madrid</td>\n",
       "      <td>Electrónica y software</td>\n",
       "      <td>Continuo</td>\n",
       "      <td>ES0112320009</td>\n",
       "    </tr>\n",
       "    <tr>\n",
       "      <th>3</th>\n",
       "      <td>EIDF.MC</td>\n",
       "      <td>EiDF</td>\n",
       "      <td>Pontevedra</td>\n",
       "      <td>Energías renovables</td>\n",
       "      <td>Continuo</td>\n",
       "      <td>ES0105517009</td>\n",
       "    </tr>\n",
       "    <tr>\n",
       "      <th>4</th>\n",
       "      <td>ELZ.MC</td>\n",
       "      <td>Asturiana de Laminados (elZinc)</td>\n",
       "      <td>Lena</td>\n",
       "      <td>Mineral, metales y transformación</td>\n",
       "      <td>Continuo</td>\n",
       "      <td>ES0105227005</td>\n",
       "    </tr>\n",
       "    <tr>\n",
       "      <th>5</th>\n",
       "      <td>END.MC</td>\n",
       "      <td>Endurance Motive</td>\n",
       "      <td>Canet de Berenguer</td>\n",
       "      <td>Fabricación y montaje de bienes de equipo</td>\n",
       "      <td>Continuo</td>\n",
       "      <td>ES0105589008</td>\n",
       "    </tr>\n",
       "    <tr>\n",
       "      <th>6</th>\n",
       "      <td>FACE.MC</td>\n",
       "      <td>FacePhi Biometria</td>\n",
       "      <td>Alicante</td>\n",
       "      <td>Electrónica y software</td>\n",
       "      <td>Continuo</td>\n",
       "      <td>ES0105029005</td>\n",
       "    </tr>\n",
       "    <tr>\n",
       "      <th>7</th>\n",
       "      <td>GIGA.MC</td>\n",
       "      <td>Gigas Hosting</td>\n",
       "      <td>Alcobendas</td>\n",
       "      <td>Electrónica y software</td>\n",
       "      <td>Continuo</td>\n",
       "      <td>ES0105093001</td>\n",
       "    </tr>\n",
       "    <tr>\n",
       "      <th>9</th>\n",
       "      <td>HLZ.MC</td>\n",
       "      <td>Holaluz</td>\n",
       "      <td>Barcelona</td>\n",
       "      <td>Energías renovables</td>\n",
       "      <td>Continuo</td>\n",
       "      <td>ES0105456026</td>\n",
       "    </tr>\n",
       "    <tr>\n",
       "      <th>10</th>\n",
       "      <td>IZER.MC</td>\n",
       "      <td>Izertis</td>\n",
       "      <td>Gijón</td>\n",
       "      <td>Telecomunicaciones y otros</td>\n",
       "      <td>Continuo</td>\n",
       "      <td>ES0105449005</td>\n",
       "    </tr>\n",
       "    <tr>\n",
       "      <th>11</th>\n",
       "      <td>LLN.MC</td>\n",
       "      <td>Lleida.net</td>\n",
       "      <td>Lérida</td>\n",
       "      <td>Telecomunicaciones y otros</td>\n",
       "      <td>Continuo</td>\n",
       "      <td>ES0105089009</td>\n",
       "    </tr>\n",
       "    <tr>\n",
       "      <th>12</th>\n",
       "      <td>PAR.MC</td>\n",
       "      <td>Parlem Telecom</td>\n",
       "      <td>Barcelona</td>\n",
       "      <td>Telecomunicaciones y otros</td>\n",
       "      <td>Continuo</td>\n",
       "      <td>ES0105561007</td>\n",
       "    </tr>\n",
       "    <tr>\n",
       "      <th>13</th>\n",
       "      <td>SNG.MC</td>\n",
       "      <td>SNGULAR</td>\n",
       "      <td>Madrid</td>\n",
       "      <td>Electrónica y software</td>\n",
       "      <td>Continuo</td>\n",
       "      <td>ES0105611000</td>\n",
       "    </tr>\n",
       "  </tbody>\n",
       "</table>\n",
       "</div>"
      ],
      "text/plain": [
       "     Ticker                          Empresa                Sede  \\\n",
       "1   AGIL.MC                    Agile Content              Madrid   \n",
       "2    COM.MC                          Catenon              Madrid   \n",
       "3   EIDF.MC                             EiDF          Pontevedra   \n",
       "4    ELZ.MC  Asturiana de Laminados (elZinc)                Lena   \n",
       "5    END.MC                 Endurance Motive  Canet de Berenguer   \n",
       "6   FACE.MC                FacePhi Biometria            Alicante   \n",
       "7   GIGA.MC                    Gigas Hosting          Alcobendas   \n",
       "9    HLZ.MC                          Holaluz           Barcelona   \n",
       "10  IZER.MC                          Izertis               Gijón   \n",
       "11   LLN.MC                       Lleida.net              Lérida   \n",
       "12   PAR.MC                   Parlem Telecom           Barcelona   \n",
       "13   SNG.MC                          SNGULAR              Madrid   \n",
       "\n",
       "                                   Sector[7]​ Contratación[7]​          ISIN  \n",
       "1                      Electrónica y software         Continuo  ES0105102000  \n",
       "2                      Electrónica y software         Continuo  ES0112320009  \n",
       "3                         Energías renovables         Continuo  ES0105517009  \n",
       "4           Mineral, metales y transformación         Continuo  ES0105227005  \n",
       "5   Fabricación y montaje de bienes de equipo         Continuo  ES0105589008  \n",
       "6                      Electrónica y software         Continuo  ES0105029005  \n",
       "7                      Electrónica y software         Continuo  ES0105093001  \n",
       "9                         Energías renovables         Continuo  ES0105456026  \n",
       "10                 Telecomunicaciones y otros         Continuo  ES0105449005  \n",
       "11                 Telecomunicaciones y otros         Continuo  ES0105089009  \n",
       "12                 Telecomunicaciones y otros         Continuo  ES0105561007  \n",
       "13                     Electrónica y software         Continuo  ES0105611000  "
      ]
     },
     "execution_count": 23,
     "metadata": {},
     "output_type": "execute_result"
    }
   ],
   "source": [
    "# Unfortunately Greenalia and ADL do not have tickers in Yahoo finance\n",
    "tickers_to_drop = ['ADL.MC', 'GRN.MC','TR1.MC']\n",
    "wiki = wiki[~wiki['Ticker'].isin(tickers_to_drop)]\n",
    "wiki"
   ]
  },
  {
   "cell_type": "code",
   "execution_count": 24,
   "metadata": {},
   "outputs": [],
   "source": [
    "wiki.rename(columns={'Empresa':'Name','Sector[7]\\u200b':'Sector'}, inplace=True)"
   ]
  },
  {
   "cell_type": "code",
   "execution_count": 25,
   "metadata": {},
   "outputs": [],
   "source": [
    "# Get the data for the stock index\n",
    "index_list = wiki['Ticker'].tolist()"
   ]
  },
  {
   "cell_type": "code",
   "execution_count": 26,
   "metadata": {},
   "outputs": [
    {
     "data": {
      "application/vnd.jupyter.widget-view+json": {
       "model_id": "d627748004fc4d75ae5ce23199eb6821",
       "version_major": 2,
       "version_minor": 0
      },
      "text/plain": [
       "  0%|          | 0/12 [00:00<?, ?it/s]"
      ]
     },
     "metadata": {},
     "output_type": "display_data"
    }
   ],
   "source": [
    "# Save all the historical data\n",
    "for stock in tqdm(index_list):\n",
    "    data = yf.download(stock, progress=False,multi_level_index=False,actions=True,auto_adjust=False)\n",
    "    data.to_csv(f\"../input/{stock}.csv\",index=True)"
   ]
  },
  {
   "cell_type": "code",
   "execution_count": 27,
   "metadata": {},
   "outputs": [],
   "source": [
    "# Get the name of the notebook\n",
    "notebook_name = os.path.basename(globals()['__vsc_ipynb_file__'])\n",
    "notebook_name = notebook_name.split('-')[0]"
   ]
  },
  {
   "cell_type": "code",
   "execution_count": 28,
   "metadata": {},
   "outputs": [],
   "source": [
    "# Save all the tickers data\n",
    "wiki[['Name','Sector','Ticker']].to_csv(f\"../tickers/{notebook_name}.csv\",index=True)"
   ]
  },
  {
   "cell_type": "code",
   "execution_count": 29,
   "metadata": {},
   "outputs": [],
   "source": [
    "# Configuration of different parameters of the notebook\n",
    "ticker = 'HLZ.MC'\n",
    "year = '2025'"
   ]
  },
  {
   "cell_type": "code",
   "execution_count": 30,
   "metadata": {},
   "outputs": [
    {
     "data": {
      "text/html": [
       "<div>\n",
       "<style scoped>\n",
       "    .dataframe tbody tr th:only-of-type {\n",
       "        vertical-align: middle;\n",
       "    }\n",
       "\n",
       "    .dataframe tbody tr th {\n",
       "        vertical-align: top;\n",
       "    }\n",
       "\n",
       "    .dataframe thead th {\n",
       "        text-align: right;\n",
       "    }\n",
       "</style>\n",
       "<table border=\"1\" class=\"dataframe\">\n",
       "  <thead>\n",
       "    <tr style=\"text-align: right;\">\n",
       "      <th></th>\n",
       "      <th>Adj Close</th>\n",
       "      <th>Close</th>\n",
       "      <th>Dividends</th>\n",
       "      <th>High</th>\n",
       "      <th>Low</th>\n",
       "      <th>Open</th>\n",
       "      <th>Stock Splits</th>\n",
       "      <th>Volume</th>\n",
       "    </tr>\n",
       "    <tr>\n",
       "      <th>Date</th>\n",
       "      <th></th>\n",
       "      <th></th>\n",
       "      <th></th>\n",
       "      <th></th>\n",
       "      <th></th>\n",
       "      <th></th>\n",
       "      <th></th>\n",
       "      <th></th>\n",
       "    </tr>\n",
       "  </thead>\n",
       "  <tbody>\n",
       "    <tr>\n",
       "      <th>2020-07-30</th>\n",
       "      <td>7.00</td>\n",
       "      <td>7.00</td>\n",
       "      <td>0.0</td>\n",
       "      <td>7.14</td>\n",
       "      <td>7.00</td>\n",
       "      <td>7.00</td>\n",
       "      <td>0.0</td>\n",
       "      <td>7455</td>\n",
       "    </tr>\n",
       "    <tr>\n",
       "      <th>2020-07-31</th>\n",
       "      <td>7.10</td>\n",
       "      <td>7.10</td>\n",
       "      <td>0.0</td>\n",
       "      <td>7.15</td>\n",
       "      <td>7.00</td>\n",
       "      <td>7.15</td>\n",
       "      <td>0.0</td>\n",
       "      <td>7801</td>\n",
       "    </tr>\n",
       "    <tr>\n",
       "      <th>2020-08-03</th>\n",
       "      <td>7.00</td>\n",
       "      <td>7.00</td>\n",
       "      <td>0.0</td>\n",
       "      <td>7.14</td>\n",
       "      <td>6.95</td>\n",
       "      <td>7.01</td>\n",
       "      <td>0.0</td>\n",
       "      <td>5465</td>\n",
       "    </tr>\n",
       "    <tr>\n",
       "      <th>2020-08-04</th>\n",
       "      <td>7.00</td>\n",
       "      <td>7.00</td>\n",
       "      <td>0.0</td>\n",
       "      <td>7.10</td>\n",
       "      <td>6.85</td>\n",
       "      <td>7.00</td>\n",
       "      <td>0.0</td>\n",
       "      <td>1714</td>\n",
       "    </tr>\n",
       "    <tr>\n",
       "      <th>2020-08-05</th>\n",
       "      <td>7.09</td>\n",
       "      <td>7.09</td>\n",
       "      <td>0.0</td>\n",
       "      <td>7.09</td>\n",
       "      <td>7.05</td>\n",
       "      <td>7.09</td>\n",
       "      <td>0.0</td>\n",
       "      <td>1066</td>\n",
       "    </tr>\n",
       "    <tr>\n",
       "      <th>2020-08-06</th>\n",
       "      <td>7.10</td>\n",
       "      <td>7.10</td>\n",
       "      <td>0.0</td>\n",
       "      <td>7.15</td>\n",
       "      <td>6.80</td>\n",
       "      <td>7.09</td>\n",
       "      <td>0.0</td>\n",
       "      <td>9197</td>\n",
       "    </tr>\n",
       "    <tr>\n",
       "      <th>2020-08-07</th>\n",
       "      <td>6.92</td>\n",
       "      <td>6.92</td>\n",
       "      <td>0.0</td>\n",
       "      <td>7.15</td>\n",
       "      <td>6.92</td>\n",
       "      <td>7.15</td>\n",
       "      <td>0.0</td>\n",
       "      <td>9668</td>\n",
       "    </tr>\n",
       "    <tr>\n",
       "      <th>2020-08-10</th>\n",
       "      <td>6.92</td>\n",
       "      <td>6.92</td>\n",
       "      <td>0.0</td>\n",
       "      <td>6.96</td>\n",
       "      <td>6.96</td>\n",
       "      <td>6.96</td>\n",
       "      <td>0.0</td>\n",
       "      <td>145</td>\n",
       "    </tr>\n",
       "    <tr>\n",
       "      <th>2020-08-11</th>\n",
       "      <td>7.06</td>\n",
       "      <td>7.06</td>\n",
       "      <td>0.0</td>\n",
       "      <td>7.10</td>\n",
       "      <td>6.92</td>\n",
       "      <td>6.92</td>\n",
       "      <td>0.0</td>\n",
       "      <td>1673</td>\n",
       "    </tr>\n",
       "    <tr>\n",
       "      <th>2020-08-12</th>\n",
       "      <td>7.00</td>\n",
       "      <td>7.00</td>\n",
       "      <td>0.0</td>\n",
       "      <td>7.10</td>\n",
       "      <td>6.95</td>\n",
       "      <td>7.10</td>\n",
       "      <td>0.0</td>\n",
       "      <td>1329</td>\n",
       "    </tr>\n",
       "  </tbody>\n",
       "</table>\n",
       "</div>"
      ],
      "text/plain": [
       "            Adj Close  Close  Dividends  High   Low  Open  Stock Splits  \\\n",
       "Date                                                                      \n",
       "2020-07-30       7.00   7.00        0.0  7.14  7.00  7.00           0.0   \n",
       "2020-07-31       7.10   7.10        0.0  7.15  7.00  7.15           0.0   \n",
       "2020-08-03       7.00   7.00        0.0  7.14  6.95  7.01           0.0   \n",
       "2020-08-04       7.00   7.00        0.0  7.10  6.85  7.00           0.0   \n",
       "2020-08-05       7.09   7.09        0.0  7.09  7.05  7.09           0.0   \n",
       "2020-08-06       7.10   7.10        0.0  7.15  6.80  7.09           0.0   \n",
       "2020-08-07       6.92   6.92        0.0  7.15  6.92  7.15           0.0   \n",
       "2020-08-10       6.92   6.92        0.0  6.96  6.96  6.96           0.0   \n",
       "2020-08-11       7.06   7.06        0.0  7.10  6.92  6.92           0.0   \n",
       "2020-08-12       7.00   7.00        0.0  7.10  6.95  7.10           0.0   \n",
       "\n",
       "            Volume  \n",
       "Date                \n",
       "2020-07-30    7455  \n",
       "2020-07-31    7801  \n",
       "2020-08-03    5465  \n",
       "2020-08-04    1714  \n",
       "2020-08-05    1066  \n",
       "2020-08-06    9197  \n",
       "2020-08-07    9668  \n",
       "2020-08-10     145  \n",
       "2020-08-11    1673  \n",
       "2020-08-12    1329  "
      ]
     },
     "execution_count": 30,
     "metadata": {},
     "output_type": "execute_result"
    }
   ],
   "source": [
    "# Check DataFrame\n",
    "stock_ticker = pd.read_csv(f\"../input/{ticker}.csv\",index_col=\"Date\",parse_dates=True)\n",
    "stock_ticker.head(10)"
   ]
  },
  {
   "cell_type": "code",
   "execution_count": 31,
   "metadata": {},
   "outputs": [
    {
     "data": {
      "application/vnd.plotly.v1+json": {
       "config": {
        "plotlyServerURL": "https://plot.ly"
       },
       "data": [
        {
         "mode": "lines",
         "name": "HLZ.MC",
         "type": "scatter",
         "x": [
          "2020-07-30T00:00:00.000000000",
          "2020-07-31T00:00:00.000000000",
          "2020-08-03T00:00:00.000000000",
          "2020-08-04T00:00:00.000000000",
          "2020-08-05T00:00:00.000000000",
          "2020-08-06T00:00:00.000000000",
          "2020-08-07T00:00:00.000000000",
          "2020-08-10T00:00:00.000000000",
          "2020-08-11T00:00:00.000000000",
          "2020-08-12T00:00:00.000000000",
          "2020-08-13T00:00:00.000000000",
          "2020-08-14T00:00:00.000000000",
          "2020-08-17T00:00:00.000000000",
          "2020-08-18T00:00:00.000000000",
          "2020-08-19T00:00:00.000000000",
          "2020-08-20T00:00:00.000000000",
          "2020-08-21T00:00:00.000000000",
          "2020-08-24T00:00:00.000000000",
          "2020-08-25T00:00:00.000000000",
          "2020-08-26T00:00:00.000000000",
          "2020-08-27T00:00:00.000000000",
          "2020-08-28T00:00:00.000000000",
          "2020-08-31T00:00:00.000000000",
          "2020-09-01T00:00:00.000000000",
          "2020-09-02T00:00:00.000000000",
          "2020-09-03T00:00:00.000000000",
          "2020-09-04T00:00:00.000000000",
          "2020-09-07T00:00:00.000000000",
          "2020-09-08T00:00:00.000000000",
          "2020-09-09T00:00:00.000000000",
          "2020-09-10T00:00:00.000000000",
          "2020-09-11T00:00:00.000000000",
          "2020-09-14T00:00:00.000000000",
          "2020-09-15T00:00:00.000000000",
          "2020-09-16T00:00:00.000000000",
          "2020-09-17T00:00:00.000000000",
          "2020-09-18T00:00:00.000000000",
          "2020-09-21T00:00:00.000000000",
          "2020-09-22T00:00:00.000000000",
          "2020-09-23T00:00:00.000000000",
          "2020-09-24T00:00:00.000000000",
          "2020-09-25T00:00:00.000000000",
          "2020-09-28T00:00:00.000000000",
          "2020-09-29T00:00:00.000000000",
          "2020-09-30T00:00:00.000000000",
          "2020-10-01T00:00:00.000000000",
          "2020-10-02T00:00:00.000000000",
          "2020-10-05T00:00:00.000000000",
          "2020-10-06T00:00:00.000000000",
          "2020-10-07T00:00:00.000000000",
          "2020-10-08T00:00:00.000000000",
          "2020-10-09T00:00:00.000000000",
          "2020-10-12T00:00:00.000000000",
          "2020-10-13T00:00:00.000000000",
          "2020-10-14T00:00:00.000000000",
          "2020-10-15T00:00:00.000000000",
          "2020-10-16T00:00:00.000000000",
          "2020-10-19T00:00:00.000000000",
          "2020-10-20T00:00:00.000000000",
          "2020-10-21T00:00:00.000000000",
          "2020-10-22T00:00:00.000000000",
          "2020-10-23T00:00:00.000000000",
          "2020-10-26T00:00:00.000000000",
          "2020-10-27T00:00:00.000000000",
          "2020-10-28T00:00:00.000000000",
          "2020-10-29T00:00:00.000000000",
          "2020-10-30T00:00:00.000000000",
          "2020-11-02T00:00:00.000000000",
          "2020-11-03T00:00:00.000000000",
          "2020-11-04T00:00:00.000000000",
          "2020-11-05T00:00:00.000000000",
          "2020-11-06T00:00:00.000000000",
          "2020-11-09T00:00:00.000000000",
          "2020-11-10T00:00:00.000000000",
          "2020-11-11T00:00:00.000000000",
          "2020-11-12T00:00:00.000000000",
          "2020-11-13T00:00:00.000000000",
          "2020-11-16T00:00:00.000000000",
          "2020-11-17T00:00:00.000000000",
          "2020-11-18T00:00:00.000000000",
          "2020-11-19T00:00:00.000000000",
          "2020-11-20T00:00:00.000000000",
          "2020-11-23T00:00:00.000000000",
          "2020-11-24T00:00:00.000000000",
          "2020-11-25T00:00:00.000000000",
          "2020-11-26T00:00:00.000000000",
          "2020-11-27T00:00:00.000000000",
          "2020-11-30T00:00:00.000000000",
          "2020-12-01T00:00:00.000000000",
          "2020-12-02T00:00:00.000000000",
          "2020-12-03T00:00:00.000000000",
          "2020-12-04T00:00:00.000000000",
          "2020-12-07T00:00:00.000000000",
          "2020-12-08T00:00:00.000000000",
          "2020-12-09T00:00:00.000000000",
          "2020-12-10T00:00:00.000000000",
          "2020-12-11T00:00:00.000000000",
          "2020-12-14T00:00:00.000000000",
          "2020-12-15T00:00:00.000000000",
          "2020-12-16T00:00:00.000000000",
          "2020-12-17T00:00:00.000000000",
          "2020-12-18T00:00:00.000000000",
          "2020-12-21T00:00:00.000000000",
          "2020-12-22T00:00:00.000000000",
          "2020-12-23T00:00:00.000000000",
          "2020-12-24T00:00:00.000000000",
          "2020-12-28T00:00:00.000000000",
          "2020-12-29T00:00:00.000000000",
          "2020-12-30T00:00:00.000000000",
          "2020-12-31T00:00:00.000000000",
          "2021-01-04T00:00:00.000000000",
          "2021-01-05T00:00:00.000000000",
          "2021-01-06T00:00:00.000000000",
          "2021-01-07T00:00:00.000000000",
          "2021-01-08T00:00:00.000000000",
          "2021-01-11T00:00:00.000000000",
          "2021-01-12T00:00:00.000000000",
          "2021-01-13T00:00:00.000000000",
          "2021-01-14T00:00:00.000000000",
          "2021-01-15T00:00:00.000000000",
          "2021-01-18T00:00:00.000000000",
          "2021-01-19T00:00:00.000000000",
          "2021-01-20T00:00:00.000000000",
          "2021-01-21T00:00:00.000000000",
          "2021-01-22T00:00:00.000000000",
          "2021-01-25T00:00:00.000000000",
          "2021-01-26T00:00:00.000000000",
          "2021-01-27T00:00:00.000000000",
          "2021-01-28T00:00:00.000000000",
          "2021-01-29T00:00:00.000000000",
          "2021-02-01T00:00:00.000000000",
          "2021-02-02T00:00:00.000000000",
          "2021-02-03T00:00:00.000000000",
          "2021-02-04T00:00:00.000000000",
          "2021-02-05T00:00:00.000000000",
          "2021-02-08T00:00:00.000000000",
          "2021-02-09T00:00:00.000000000",
          "2021-02-10T00:00:00.000000000",
          "2021-02-11T00:00:00.000000000",
          "2021-02-12T00:00:00.000000000",
          "2021-02-15T00:00:00.000000000",
          "2021-02-16T00:00:00.000000000",
          "2021-02-17T00:00:00.000000000",
          "2021-02-18T00:00:00.000000000",
          "2021-02-19T00:00:00.000000000",
          "2021-02-22T00:00:00.000000000",
          "2021-02-23T00:00:00.000000000",
          "2021-02-24T00:00:00.000000000",
          "2021-02-25T00:00:00.000000000",
          "2021-02-26T00:00:00.000000000",
          "2021-03-01T00:00:00.000000000",
          "2021-03-02T00:00:00.000000000",
          "2021-03-03T00:00:00.000000000",
          "2021-03-04T00:00:00.000000000",
          "2021-03-05T00:00:00.000000000",
          "2021-03-08T00:00:00.000000000",
          "2021-03-09T00:00:00.000000000",
          "2021-03-10T00:00:00.000000000",
          "2021-03-11T00:00:00.000000000",
          "2021-03-12T00:00:00.000000000",
          "2021-03-15T00:00:00.000000000",
          "2021-03-16T00:00:00.000000000",
          "2021-03-17T00:00:00.000000000",
          "2021-03-18T00:00:00.000000000",
          "2021-03-19T00:00:00.000000000",
          "2021-03-22T00:00:00.000000000",
          "2021-03-23T00:00:00.000000000",
          "2021-03-24T00:00:00.000000000",
          "2021-03-25T00:00:00.000000000",
          "2021-03-26T00:00:00.000000000",
          "2021-03-29T00:00:00.000000000",
          "2021-03-30T00:00:00.000000000",
          "2021-03-31T00:00:00.000000000",
          "2021-04-01T00:00:00.000000000",
          "2021-04-06T00:00:00.000000000",
          "2021-04-07T00:00:00.000000000",
          "2021-04-08T00:00:00.000000000",
          "2021-04-09T00:00:00.000000000",
          "2021-04-12T00:00:00.000000000",
          "2021-04-13T00:00:00.000000000",
          "2021-04-14T00:00:00.000000000",
          "2021-04-15T00:00:00.000000000",
          "2021-04-16T00:00:00.000000000",
          "2021-04-19T00:00:00.000000000",
          "2021-04-20T00:00:00.000000000",
          "2021-04-21T00:00:00.000000000",
          "2021-04-22T00:00:00.000000000",
          "2021-04-23T00:00:00.000000000",
          "2021-04-26T00:00:00.000000000",
          "2021-04-27T00:00:00.000000000",
          "2021-04-28T00:00:00.000000000",
          "2021-04-29T00:00:00.000000000",
          "2021-04-30T00:00:00.000000000",
          "2021-05-03T00:00:00.000000000",
          "2021-05-04T00:00:00.000000000",
          "2021-05-05T00:00:00.000000000",
          "2021-05-06T00:00:00.000000000",
          "2021-05-07T00:00:00.000000000",
          "2021-05-10T00:00:00.000000000",
          "2021-05-11T00:00:00.000000000",
          "2021-05-12T00:00:00.000000000",
          "2021-05-13T00:00:00.000000000",
          "2021-05-14T00:00:00.000000000",
          "2021-05-17T00:00:00.000000000",
          "2021-05-18T00:00:00.000000000",
          "2021-05-19T00:00:00.000000000",
          "2021-05-20T00:00:00.000000000",
          "2021-05-21T00:00:00.000000000",
          "2021-05-24T00:00:00.000000000",
          "2021-05-25T00:00:00.000000000",
          "2021-05-26T00:00:00.000000000",
          "2021-05-27T00:00:00.000000000",
          "2021-05-28T00:00:00.000000000",
          "2021-05-31T00:00:00.000000000",
          "2021-06-01T00:00:00.000000000",
          "2021-06-02T00:00:00.000000000",
          "2021-06-03T00:00:00.000000000",
          "2021-06-04T00:00:00.000000000",
          "2021-06-07T00:00:00.000000000",
          "2021-06-08T00:00:00.000000000",
          "2021-06-09T00:00:00.000000000",
          "2021-06-10T00:00:00.000000000",
          "2021-06-11T00:00:00.000000000",
          "2021-06-14T00:00:00.000000000",
          "2021-06-15T00:00:00.000000000",
          "2021-06-16T00:00:00.000000000",
          "2021-06-17T00:00:00.000000000",
          "2021-06-18T00:00:00.000000000",
          "2021-06-21T00:00:00.000000000",
          "2021-06-22T00:00:00.000000000",
          "2021-06-23T00:00:00.000000000",
          "2021-06-24T00:00:00.000000000",
          "2021-06-25T00:00:00.000000000",
          "2021-06-28T00:00:00.000000000",
          "2021-06-29T00:00:00.000000000",
          "2021-06-30T00:00:00.000000000",
          "2021-07-01T00:00:00.000000000",
          "2021-07-02T00:00:00.000000000",
          "2021-07-05T00:00:00.000000000",
          "2021-07-06T00:00:00.000000000",
          "2021-07-07T00:00:00.000000000",
          "2021-07-08T00:00:00.000000000",
          "2021-07-09T00:00:00.000000000",
          "2021-07-12T00:00:00.000000000",
          "2021-07-13T00:00:00.000000000",
          "2021-07-14T00:00:00.000000000",
          "2021-07-15T00:00:00.000000000",
          "2021-07-16T00:00:00.000000000",
          "2021-07-19T00:00:00.000000000",
          "2021-07-20T00:00:00.000000000",
          "2021-07-21T00:00:00.000000000",
          "2021-07-22T00:00:00.000000000",
          "2021-07-23T00:00:00.000000000",
          "2021-07-26T00:00:00.000000000",
          "2021-07-27T00:00:00.000000000",
          "2021-07-28T00:00:00.000000000",
          "2021-07-29T00:00:00.000000000",
          "2021-07-30T00:00:00.000000000",
          "2021-08-02T00:00:00.000000000",
          "2021-08-03T00:00:00.000000000",
          "2021-08-04T00:00:00.000000000",
          "2021-08-05T00:00:00.000000000",
          "2021-08-06T00:00:00.000000000",
          "2021-08-09T00:00:00.000000000",
          "2021-08-10T00:00:00.000000000",
          "2021-08-11T00:00:00.000000000",
          "2021-08-12T00:00:00.000000000",
          "2021-08-13T00:00:00.000000000",
          "2021-08-16T00:00:00.000000000",
          "2021-08-17T00:00:00.000000000",
          "2021-08-18T00:00:00.000000000",
          "2021-08-19T00:00:00.000000000",
          "2021-08-20T00:00:00.000000000",
          "2021-08-23T00:00:00.000000000",
          "2021-08-24T00:00:00.000000000",
          "2021-08-25T00:00:00.000000000",
          "2021-08-26T00:00:00.000000000",
          "2021-08-27T00:00:00.000000000",
          "2021-08-30T00:00:00.000000000",
          "2021-08-31T00:00:00.000000000",
          "2021-09-01T00:00:00.000000000",
          "2021-09-02T00:00:00.000000000",
          "2021-09-03T00:00:00.000000000",
          "2021-09-06T00:00:00.000000000",
          "2021-09-07T00:00:00.000000000",
          "2021-09-08T00:00:00.000000000",
          "2021-09-09T00:00:00.000000000",
          "2021-09-10T00:00:00.000000000",
          "2021-09-13T00:00:00.000000000",
          "2021-09-14T00:00:00.000000000",
          "2021-09-15T00:00:00.000000000",
          "2021-09-16T00:00:00.000000000",
          "2021-09-17T00:00:00.000000000",
          "2021-09-20T00:00:00.000000000",
          "2021-09-21T00:00:00.000000000",
          "2021-09-22T00:00:00.000000000",
          "2021-09-23T00:00:00.000000000",
          "2021-09-24T00:00:00.000000000",
          "2021-09-27T00:00:00.000000000",
          "2021-09-28T00:00:00.000000000",
          "2021-09-29T00:00:00.000000000",
          "2021-09-30T00:00:00.000000000",
          "2021-10-01T00:00:00.000000000",
          "2021-10-04T00:00:00.000000000",
          "2021-10-05T00:00:00.000000000",
          "2021-10-06T00:00:00.000000000",
          "2021-10-07T00:00:00.000000000",
          "2021-10-08T00:00:00.000000000",
          "2021-10-11T00:00:00.000000000",
          "2021-10-12T00:00:00.000000000",
          "2021-10-13T00:00:00.000000000",
          "2021-10-14T00:00:00.000000000",
          "2021-10-15T00:00:00.000000000",
          "2021-10-18T00:00:00.000000000",
          "2021-10-19T00:00:00.000000000",
          "2021-10-20T00:00:00.000000000",
          "2021-10-21T00:00:00.000000000",
          "2021-10-22T00:00:00.000000000",
          "2021-10-25T00:00:00.000000000",
          "2021-10-26T00:00:00.000000000",
          "2021-10-27T00:00:00.000000000",
          "2021-10-28T00:00:00.000000000",
          "2021-10-29T00:00:00.000000000",
          "2021-11-01T00:00:00.000000000",
          "2021-11-02T00:00:00.000000000",
          "2021-11-03T00:00:00.000000000",
          "2021-11-04T00:00:00.000000000",
          "2021-11-05T00:00:00.000000000",
          "2021-11-08T00:00:00.000000000",
          "2021-11-09T00:00:00.000000000",
          "2021-11-10T00:00:00.000000000",
          "2021-11-11T00:00:00.000000000",
          "2021-11-12T00:00:00.000000000",
          "2021-11-15T00:00:00.000000000",
          "2021-11-16T00:00:00.000000000",
          "2021-11-17T00:00:00.000000000",
          "2021-11-18T00:00:00.000000000",
          "2021-11-19T00:00:00.000000000",
          "2021-11-22T00:00:00.000000000",
          "2021-11-23T00:00:00.000000000",
          "2021-11-24T00:00:00.000000000",
          "2021-11-25T00:00:00.000000000",
          "2021-11-26T00:00:00.000000000",
          "2021-11-29T00:00:00.000000000",
          "2021-11-30T00:00:00.000000000",
          "2021-12-01T00:00:00.000000000",
          "2021-12-02T00:00:00.000000000",
          "2021-12-03T00:00:00.000000000",
          "2021-12-06T00:00:00.000000000",
          "2021-12-07T00:00:00.000000000",
          "2021-12-08T00:00:00.000000000",
          "2021-12-09T00:00:00.000000000",
          "2021-12-10T00:00:00.000000000",
          "2021-12-13T00:00:00.000000000",
          "2021-12-14T00:00:00.000000000",
          "2021-12-15T00:00:00.000000000",
          "2021-12-16T00:00:00.000000000",
          "2021-12-17T00:00:00.000000000",
          "2021-12-20T00:00:00.000000000",
          "2021-12-21T00:00:00.000000000",
          "2021-12-22T00:00:00.000000000",
          "2021-12-23T00:00:00.000000000",
          "2021-12-27T00:00:00.000000000",
          "2021-12-28T00:00:00.000000000",
          "2021-12-29T00:00:00.000000000",
          "2021-12-30T00:00:00.000000000",
          "2022-01-03T00:00:00.000000000",
          "2022-01-04T00:00:00.000000000",
          "2022-01-05T00:00:00.000000000",
          "2022-01-06T00:00:00.000000000",
          "2022-01-07T00:00:00.000000000",
          "2022-01-10T00:00:00.000000000",
          "2022-01-11T00:00:00.000000000",
          "2022-01-12T00:00:00.000000000",
          "2022-01-13T00:00:00.000000000",
          "2022-01-14T00:00:00.000000000",
          "2022-01-17T00:00:00.000000000",
          "2022-01-18T00:00:00.000000000",
          "2022-01-19T00:00:00.000000000",
          "2022-01-20T00:00:00.000000000",
          "2022-01-21T00:00:00.000000000",
          "2022-01-24T00:00:00.000000000",
          "2022-01-25T00:00:00.000000000",
          "2022-01-26T00:00:00.000000000",
          "2022-01-27T00:00:00.000000000",
          "2022-01-28T00:00:00.000000000",
          "2022-01-31T00:00:00.000000000",
          "2022-02-01T00:00:00.000000000",
          "2022-02-02T00:00:00.000000000",
          "2022-02-03T00:00:00.000000000",
          "2022-02-04T00:00:00.000000000",
          "2022-02-07T00:00:00.000000000",
          "2022-02-08T00:00:00.000000000",
          "2022-02-09T00:00:00.000000000",
          "2022-02-10T00:00:00.000000000",
          "2022-02-11T00:00:00.000000000",
          "2022-02-14T00:00:00.000000000",
          "2022-02-15T00:00:00.000000000",
          "2022-02-16T00:00:00.000000000",
          "2022-02-17T00:00:00.000000000",
          "2022-02-18T00:00:00.000000000",
          "2022-02-21T00:00:00.000000000",
          "2022-02-22T00:00:00.000000000",
          "2022-02-23T00:00:00.000000000",
          "2022-02-24T00:00:00.000000000",
          "2022-02-25T00:00:00.000000000",
          "2022-02-28T00:00:00.000000000",
          "2022-03-01T00:00:00.000000000",
          "2022-03-02T00:00:00.000000000",
          "2022-03-03T00:00:00.000000000",
          "2022-03-04T00:00:00.000000000",
          "2022-03-07T00:00:00.000000000",
          "2022-03-08T00:00:00.000000000",
          "2022-03-09T00:00:00.000000000",
          "2022-03-10T00:00:00.000000000",
          "2022-03-11T00:00:00.000000000",
          "2022-03-14T00:00:00.000000000",
          "2022-03-15T00:00:00.000000000",
          "2022-03-16T00:00:00.000000000",
          "2022-03-17T00:00:00.000000000",
          "2022-03-18T00:00:00.000000000",
          "2022-03-21T00:00:00.000000000",
          "2022-03-22T00:00:00.000000000",
          "2022-03-23T00:00:00.000000000",
          "2022-03-24T00:00:00.000000000",
          "2022-03-25T00:00:00.000000000",
          "2022-03-28T00:00:00.000000000",
          "2022-03-29T00:00:00.000000000",
          "2022-03-30T00:00:00.000000000",
          "2022-03-31T00:00:00.000000000",
          "2022-04-01T00:00:00.000000000",
          "2022-04-04T00:00:00.000000000",
          "2022-04-05T00:00:00.000000000",
          "2022-04-06T00:00:00.000000000",
          "2022-04-07T00:00:00.000000000",
          "2022-04-08T00:00:00.000000000",
          "2022-04-11T00:00:00.000000000",
          "2022-04-12T00:00:00.000000000",
          "2022-04-13T00:00:00.000000000",
          "2022-04-14T00:00:00.000000000",
          "2022-04-19T00:00:00.000000000",
          "2022-04-20T00:00:00.000000000",
          "2022-04-21T00:00:00.000000000",
          "2022-04-22T00:00:00.000000000",
          "2022-04-25T00:00:00.000000000",
          "2022-04-26T00:00:00.000000000",
          "2022-04-27T00:00:00.000000000",
          "2022-04-28T00:00:00.000000000",
          "2022-04-29T00:00:00.000000000",
          "2022-05-02T00:00:00.000000000",
          "2022-05-03T00:00:00.000000000",
          "2022-05-04T00:00:00.000000000",
          "2022-05-05T00:00:00.000000000",
          "2022-05-06T00:00:00.000000000",
          "2022-05-09T00:00:00.000000000",
          "2022-05-10T00:00:00.000000000",
          "2022-05-11T00:00:00.000000000",
          "2022-05-12T00:00:00.000000000",
          "2022-05-13T00:00:00.000000000",
          "2022-05-16T00:00:00.000000000",
          "2022-05-17T00:00:00.000000000",
          "2022-05-18T00:00:00.000000000",
          "2022-05-19T00:00:00.000000000",
          "2022-05-20T00:00:00.000000000",
          "2022-05-23T00:00:00.000000000",
          "2022-05-24T00:00:00.000000000",
          "2022-05-25T00:00:00.000000000",
          "2022-05-26T00:00:00.000000000",
          "2022-05-27T00:00:00.000000000",
          "2022-05-30T00:00:00.000000000",
          "2022-05-31T00:00:00.000000000",
          "2022-06-01T00:00:00.000000000",
          "2022-06-02T00:00:00.000000000",
          "2022-06-03T00:00:00.000000000",
          "2022-06-06T00:00:00.000000000",
          "2022-06-07T00:00:00.000000000",
          "2022-06-08T00:00:00.000000000",
          "2022-06-09T00:00:00.000000000",
          "2022-06-10T00:00:00.000000000",
          "2022-06-13T00:00:00.000000000",
          "2022-06-14T00:00:00.000000000",
          "2022-06-15T00:00:00.000000000",
          "2022-06-16T00:00:00.000000000",
          "2022-06-17T00:00:00.000000000",
          "2022-06-20T00:00:00.000000000",
          "2022-06-21T00:00:00.000000000",
          "2022-06-22T00:00:00.000000000",
          "2022-06-23T00:00:00.000000000",
          "2022-06-24T00:00:00.000000000",
          "2022-06-27T00:00:00.000000000",
          "2022-06-28T00:00:00.000000000",
          "2022-06-29T00:00:00.000000000",
          "2022-06-30T00:00:00.000000000",
          "2022-07-01T00:00:00.000000000",
          "2022-07-04T00:00:00.000000000",
          "2022-07-05T00:00:00.000000000",
          "2022-07-06T00:00:00.000000000",
          "2022-07-07T00:00:00.000000000",
          "2022-07-08T00:00:00.000000000",
          "2022-07-11T00:00:00.000000000",
          "2022-07-12T00:00:00.000000000",
          "2022-07-13T00:00:00.000000000",
          "2022-07-14T00:00:00.000000000",
          "2022-07-15T00:00:00.000000000",
          "2022-07-18T00:00:00.000000000",
          "2022-07-19T00:00:00.000000000",
          "2022-07-20T00:00:00.000000000",
          "2022-07-21T00:00:00.000000000",
          "2022-07-22T00:00:00.000000000",
          "2022-07-25T00:00:00.000000000",
          "2022-07-26T00:00:00.000000000",
          "2022-07-27T00:00:00.000000000",
          "2022-07-28T00:00:00.000000000",
          "2022-07-29T00:00:00.000000000",
          "2022-08-01T00:00:00.000000000",
          "2022-08-02T00:00:00.000000000",
          "2022-08-03T00:00:00.000000000",
          "2022-08-04T00:00:00.000000000",
          "2022-08-05T00:00:00.000000000",
          "2022-08-08T00:00:00.000000000",
          "2022-08-09T00:00:00.000000000",
          "2022-08-10T00:00:00.000000000",
          "2022-08-11T00:00:00.000000000",
          "2022-08-12T00:00:00.000000000",
          "2022-08-15T00:00:00.000000000",
          "2022-08-16T00:00:00.000000000",
          "2022-08-17T00:00:00.000000000",
          "2022-08-18T00:00:00.000000000",
          "2022-08-19T00:00:00.000000000",
          "2022-08-22T00:00:00.000000000",
          "2022-08-23T00:00:00.000000000",
          "2022-08-24T00:00:00.000000000",
          "2022-08-25T00:00:00.000000000",
          "2022-08-26T00:00:00.000000000",
          "2022-08-29T00:00:00.000000000",
          "2022-08-30T00:00:00.000000000",
          "2022-08-31T00:00:00.000000000",
          "2022-09-01T00:00:00.000000000",
          "2022-09-02T00:00:00.000000000",
          "2022-09-05T00:00:00.000000000",
          "2022-09-06T00:00:00.000000000",
          "2022-09-07T00:00:00.000000000",
          "2022-09-08T00:00:00.000000000",
          "2022-09-09T00:00:00.000000000",
          "2022-09-12T00:00:00.000000000",
          "2022-09-13T00:00:00.000000000",
          "2022-09-14T00:00:00.000000000",
          "2022-09-15T00:00:00.000000000",
          "2022-09-16T00:00:00.000000000",
          "2022-09-19T00:00:00.000000000",
          "2022-09-20T00:00:00.000000000",
          "2022-09-21T00:00:00.000000000",
          "2022-09-22T00:00:00.000000000",
          "2022-09-23T00:00:00.000000000",
          "2022-09-26T00:00:00.000000000",
          "2022-09-27T00:00:00.000000000",
          "2022-09-28T00:00:00.000000000",
          "2022-09-29T00:00:00.000000000",
          "2022-09-30T00:00:00.000000000",
          "2022-10-03T00:00:00.000000000",
          "2022-10-04T00:00:00.000000000",
          "2022-10-05T00:00:00.000000000",
          "2022-10-06T00:00:00.000000000",
          "2022-10-07T00:00:00.000000000",
          "2022-10-10T00:00:00.000000000",
          "2022-10-11T00:00:00.000000000",
          "2022-10-12T00:00:00.000000000",
          "2022-10-13T00:00:00.000000000",
          "2022-10-14T00:00:00.000000000",
          "2022-10-17T00:00:00.000000000",
          "2022-10-18T00:00:00.000000000",
          "2022-10-19T00:00:00.000000000",
          "2022-10-20T00:00:00.000000000",
          "2022-10-21T00:00:00.000000000",
          "2022-10-24T00:00:00.000000000",
          "2022-10-25T00:00:00.000000000",
          "2022-10-26T00:00:00.000000000",
          "2022-10-27T00:00:00.000000000",
          "2022-10-28T00:00:00.000000000",
          "2022-10-31T00:00:00.000000000",
          "2022-11-01T00:00:00.000000000",
          "2022-11-02T00:00:00.000000000",
          "2022-11-03T00:00:00.000000000",
          "2022-11-04T00:00:00.000000000",
          "2022-11-07T00:00:00.000000000",
          "2022-11-08T00:00:00.000000000",
          "2022-11-09T00:00:00.000000000",
          "2022-11-10T00:00:00.000000000",
          "2022-11-11T00:00:00.000000000",
          "2022-11-14T00:00:00.000000000",
          "2022-11-15T00:00:00.000000000",
          "2022-11-16T00:00:00.000000000",
          "2022-11-17T00:00:00.000000000",
          "2022-11-18T00:00:00.000000000",
          "2022-11-21T00:00:00.000000000",
          "2022-11-22T00:00:00.000000000",
          "2022-11-23T00:00:00.000000000",
          "2022-11-24T00:00:00.000000000",
          "2022-11-25T00:00:00.000000000",
          "2022-11-28T00:00:00.000000000",
          "2022-11-29T00:00:00.000000000",
          "2022-11-30T00:00:00.000000000",
          "2022-12-01T00:00:00.000000000",
          "2022-12-02T00:00:00.000000000",
          "2022-12-05T00:00:00.000000000",
          "2022-12-06T00:00:00.000000000",
          "2022-12-07T00:00:00.000000000",
          "2022-12-08T00:00:00.000000000",
          "2022-12-09T00:00:00.000000000",
          "2022-12-12T00:00:00.000000000",
          "2022-12-13T00:00:00.000000000",
          "2022-12-14T00:00:00.000000000",
          "2022-12-15T00:00:00.000000000",
          "2022-12-16T00:00:00.000000000",
          "2022-12-19T00:00:00.000000000",
          "2022-12-20T00:00:00.000000000",
          "2022-12-21T00:00:00.000000000",
          "2022-12-22T00:00:00.000000000",
          "2022-12-23T00:00:00.000000000",
          "2022-12-27T00:00:00.000000000",
          "2022-12-28T00:00:00.000000000",
          "2022-12-29T00:00:00.000000000",
          "2022-12-30T00:00:00.000000000",
          "2023-01-02T00:00:00.000000000",
          "2023-01-03T00:00:00.000000000",
          "2023-01-04T00:00:00.000000000",
          "2023-01-05T00:00:00.000000000",
          "2023-01-06T00:00:00.000000000",
          "2023-01-09T00:00:00.000000000",
          "2023-01-10T00:00:00.000000000",
          "2023-01-11T00:00:00.000000000",
          "2023-01-12T00:00:00.000000000",
          "2023-01-13T00:00:00.000000000",
          "2023-01-16T00:00:00.000000000",
          "2023-01-17T00:00:00.000000000",
          "2023-01-18T00:00:00.000000000",
          "2023-01-19T00:00:00.000000000",
          "2023-01-20T00:00:00.000000000",
          "2023-01-23T00:00:00.000000000",
          "2023-01-24T00:00:00.000000000",
          "2023-01-25T00:00:00.000000000",
          "2023-01-26T00:00:00.000000000",
          "2023-01-27T00:00:00.000000000",
          "2023-01-30T00:00:00.000000000",
          "2023-01-31T00:00:00.000000000",
          "2023-02-01T00:00:00.000000000",
          "2023-02-02T00:00:00.000000000",
          "2023-02-03T00:00:00.000000000",
          "2023-02-06T00:00:00.000000000",
          "2023-02-07T00:00:00.000000000",
          "2023-02-08T00:00:00.000000000",
          "2023-02-09T00:00:00.000000000",
          "2023-02-10T00:00:00.000000000",
          "2023-02-13T00:00:00.000000000",
          "2023-02-14T00:00:00.000000000",
          "2023-02-15T00:00:00.000000000",
          "2023-02-16T00:00:00.000000000",
          "2023-02-17T00:00:00.000000000",
          "2023-02-20T00:00:00.000000000",
          "2023-02-21T00:00:00.000000000",
          "2023-02-22T00:00:00.000000000",
          "2023-02-23T00:00:00.000000000",
          "2023-02-24T00:00:00.000000000",
          "2023-02-27T00:00:00.000000000",
          "2023-02-28T00:00:00.000000000",
          "2023-03-01T00:00:00.000000000",
          "2023-03-02T00:00:00.000000000",
          "2023-03-03T00:00:00.000000000",
          "2023-03-06T00:00:00.000000000",
          "2023-03-07T00:00:00.000000000",
          "2023-03-08T00:00:00.000000000",
          "2023-03-09T00:00:00.000000000",
          "2023-03-10T00:00:00.000000000",
          "2023-03-13T00:00:00.000000000",
          "2023-03-14T00:00:00.000000000",
          "2023-03-15T00:00:00.000000000",
          "2023-03-16T00:00:00.000000000",
          "2023-03-17T00:00:00.000000000",
          "2023-03-20T00:00:00.000000000",
          "2023-03-21T00:00:00.000000000",
          "2023-03-22T00:00:00.000000000",
          "2023-03-23T00:00:00.000000000",
          "2023-03-24T00:00:00.000000000",
          "2023-03-27T00:00:00.000000000",
          "2023-03-28T00:00:00.000000000",
          "2023-03-29T00:00:00.000000000",
          "2023-03-30T00:00:00.000000000",
          "2023-03-31T00:00:00.000000000",
          "2023-04-03T00:00:00.000000000",
          "2023-04-04T00:00:00.000000000",
          "2023-04-05T00:00:00.000000000",
          "2023-04-06T00:00:00.000000000",
          "2023-04-11T00:00:00.000000000",
          "2023-04-12T00:00:00.000000000",
          "2023-04-13T00:00:00.000000000",
          "2023-04-14T00:00:00.000000000",
          "2023-04-17T00:00:00.000000000",
          "2023-04-18T00:00:00.000000000",
          "2023-04-19T00:00:00.000000000",
          "2023-04-20T00:00:00.000000000",
          "2023-04-21T00:00:00.000000000",
          "2023-04-24T00:00:00.000000000",
          "2023-04-25T00:00:00.000000000",
          "2023-04-26T00:00:00.000000000",
          "2023-04-27T00:00:00.000000000",
          "2023-04-28T00:00:00.000000000",
          "2023-05-02T00:00:00.000000000",
          "2023-05-03T00:00:00.000000000",
          "2023-05-04T00:00:00.000000000",
          "2023-05-05T00:00:00.000000000",
          "2023-05-08T00:00:00.000000000",
          "2023-05-09T00:00:00.000000000",
          "2023-05-10T00:00:00.000000000",
          "2023-05-11T00:00:00.000000000",
          "2023-05-12T00:00:00.000000000",
          "2023-05-15T00:00:00.000000000",
          "2023-05-16T00:00:00.000000000",
          "2023-05-17T00:00:00.000000000",
          "2023-05-18T00:00:00.000000000",
          "2023-05-19T00:00:00.000000000",
          "2023-05-22T00:00:00.000000000",
          "2023-05-23T00:00:00.000000000",
          "2023-05-24T00:00:00.000000000",
          "2023-05-25T00:00:00.000000000",
          "2023-05-26T00:00:00.000000000",
          "2023-05-29T00:00:00.000000000",
          "2023-05-30T00:00:00.000000000",
          "2023-05-31T00:00:00.000000000",
          "2023-06-01T00:00:00.000000000",
          "2023-06-02T00:00:00.000000000",
          "2023-06-05T00:00:00.000000000",
          "2023-06-06T00:00:00.000000000",
          "2023-06-07T00:00:00.000000000",
          "2023-06-08T00:00:00.000000000",
          "2023-06-09T00:00:00.000000000",
          "2023-06-12T00:00:00.000000000",
          "2023-06-13T00:00:00.000000000",
          "2023-06-14T00:00:00.000000000",
          "2023-06-15T00:00:00.000000000",
          "2023-06-16T00:00:00.000000000",
          "2023-06-19T00:00:00.000000000",
          "2023-06-20T00:00:00.000000000",
          "2023-06-21T00:00:00.000000000",
          "2023-06-22T00:00:00.000000000",
          "2023-06-23T00:00:00.000000000",
          "2023-06-26T00:00:00.000000000",
          "2023-06-27T00:00:00.000000000",
          "2023-06-28T00:00:00.000000000",
          "2023-06-29T00:00:00.000000000",
          "2023-06-30T00:00:00.000000000",
          "2023-07-03T00:00:00.000000000",
          "2023-07-04T00:00:00.000000000",
          "2023-07-05T00:00:00.000000000",
          "2023-07-06T00:00:00.000000000",
          "2023-07-07T00:00:00.000000000",
          "2023-07-10T00:00:00.000000000",
          "2023-07-11T00:00:00.000000000",
          "2023-07-12T00:00:00.000000000",
          "2023-07-13T00:00:00.000000000",
          "2023-07-14T00:00:00.000000000",
          "2023-07-17T00:00:00.000000000",
          "2023-07-18T00:00:00.000000000",
          "2023-07-19T00:00:00.000000000",
          "2023-07-20T00:00:00.000000000",
          "2023-07-21T00:00:00.000000000",
          "2023-07-24T00:00:00.000000000",
          "2023-07-25T00:00:00.000000000",
          "2023-07-26T00:00:00.000000000",
          "2023-07-27T00:00:00.000000000",
          "2023-07-28T00:00:00.000000000",
          "2023-07-31T00:00:00.000000000",
          "2023-08-01T00:00:00.000000000",
          "2023-08-02T00:00:00.000000000",
          "2023-08-03T00:00:00.000000000",
          "2023-08-04T00:00:00.000000000",
          "2023-08-07T00:00:00.000000000",
          "2023-08-08T00:00:00.000000000",
          "2023-08-09T00:00:00.000000000",
          "2023-08-10T00:00:00.000000000",
          "2023-08-11T00:00:00.000000000",
          "2023-08-14T00:00:00.000000000",
          "2023-08-15T00:00:00.000000000",
          "2023-08-16T00:00:00.000000000",
          "2023-08-17T00:00:00.000000000",
          "2023-08-18T00:00:00.000000000",
          "2023-08-21T00:00:00.000000000",
          "2023-08-22T00:00:00.000000000",
          "2023-08-23T00:00:00.000000000",
          "2023-08-24T00:00:00.000000000",
          "2023-08-25T00:00:00.000000000",
          "2023-08-28T00:00:00.000000000",
          "2023-08-29T00:00:00.000000000",
          "2023-08-30T00:00:00.000000000",
          "2023-08-31T00:00:00.000000000",
          "2023-09-01T00:00:00.000000000",
          "2023-09-04T00:00:00.000000000",
          "2023-09-05T00:00:00.000000000",
          "2023-09-06T00:00:00.000000000",
          "2023-09-07T00:00:00.000000000",
          "2023-09-08T00:00:00.000000000",
          "2023-09-11T00:00:00.000000000",
          "2023-09-12T00:00:00.000000000",
          "2023-09-13T00:00:00.000000000",
          "2023-09-14T00:00:00.000000000",
          "2023-09-15T00:00:00.000000000",
          "2023-09-18T00:00:00.000000000",
          "2023-09-19T00:00:00.000000000",
          "2023-09-20T00:00:00.000000000",
          "2023-09-21T00:00:00.000000000",
          "2023-09-22T00:00:00.000000000",
          "2023-09-25T00:00:00.000000000",
          "2023-09-26T00:00:00.000000000",
          "2023-09-27T00:00:00.000000000",
          "2023-09-28T00:00:00.000000000",
          "2023-09-29T00:00:00.000000000",
          "2023-10-02T00:00:00.000000000",
          "2023-10-03T00:00:00.000000000",
          "2023-10-04T00:00:00.000000000",
          "2023-10-05T00:00:00.000000000",
          "2023-10-06T00:00:00.000000000",
          "2023-10-09T00:00:00.000000000",
          "2023-10-10T00:00:00.000000000",
          "2023-10-11T00:00:00.000000000",
          "2023-10-12T00:00:00.000000000",
          "2023-10-13T00:00:00.000000000",
          "2023-10-16T00:00:00.000000000",
          "2023-10-17T00:00:00.000000000",
          "2023-10-18T00:00:00.000000000",
          "2023-10-19T00:00:00.000000000",
          "2023-10-20T00:00:00.000000000",
          "2023-10-23T00:00:00.000000000",
          "2023-10-24T00:00:00.000000000",
          "2023-10-25T00:00:00.000000000",
          "2023-10-26T00:00:00.000000000",
          "2023-10-27T00:00:00.000000000",
          "2023-10-30T00:00:00.000000000",
          "2023-10-31T00:00:00.000000000",
          "2023-11-01T00:00:00.000000000",
          "2023-11-02T00:00:00.000000000",
          "2023-11-03T00:00:00.000000000",
          "2023-11-06T00:00:00.000000000",
          "2023-11-07T00:00:00.000000000",
          "2023-11-08T00:00:00.000000000",
          "2023-11-09T00:00:00.000000000",
          "2023-11-10T00:00:00.000000000",
          "2023-11-13T00:00:00.000000000",
          "2023-11-14T00:00:00.000000000",
          "2023-11-15T00:00:00.000000000",
          "2023-11-16T00:00:00.000000000",
          "2023-11-17T00:00:00.000000000",
          "2023-11-20T00:00:00.000000000",
          "2023-11-21T00:00:00.000000000",
          "2023-11-22T00:00:00.000000000",
          "2023-11-23T00:00:00.000000000",
          "2023-11-24T00:00:00.000000000",
          "2023-11-27T00:00:00.000000000",
          "2023-11-28T00:00:00.000000000",
          "2023-11-29T00:00:00.000000000",
          "2023-11-30T00:00:00.000000000",
          "2023-12-01T00:00:00.000000000",
          "2023-12-04T00:00:00.000000000",
          "2023-12-05T00:00:00.000000000",
          "2023-12-06T00:00:00.000000000",
          "2023-12-07T00:00:00.000000000",
          "2023-12-08T00:00:00.000000000",
          "2023-12-11T00:00:00.000000000",
          "2023-12-12T00:00:00.000000000",
          "2023-12-13T00:00:00.000000000",
          "2023-12-14T00:00:00.000000000",
          "2023-12-15T00:00:00.000000000",
          "2023-12-18T00:00:00.000000000",
          "2023-12-19T00:00:00.000000000",
          "2023-12-20T00:00:00.000000000",
          "2023-12-21T00:00:00.000000000",
          "2023-12-22T00:00:00.000000000",
          "2023-12-27T00:00:00.000000000",
          "2023-12-28T00:00:00.000000000",
          "2023-12-29T00:00:00.000000000",
          "2024-01-02T00:00:00.000000000",
          "2024-01-03T00:00:00.000000000",
          "2024-01-04T00:00:00.000000000",
          "2024-01-05T00:00:00.000000000",
          "2024-01-08T00:00:00.000000000",
          "2024-01-09T00:00:00.000000000",
          "2024-01-10T00:00:00.000000000",
          "2024-01-11T00:00:00.000000000",
          "2024-01-12T00:00:00.000000000",
          "2024-01-15T00:00:00.000000000",
          "2024-01-16T00:00:00.000000000",
          "2024-01-17T00:00:00.000000000",
          "2024-01-18T00:00:00.000000000",
          "2024-01-19T00:00:00.000000000",
          "2024-01-22T00:00:00.000000000",
          "2024-01-23T00:00:00.000000000",
          "2024-01-24T00:00:00.000000000",
          "2024-01-25T00:00:00.000000000",
          "2024-01-26T00:00:00.000000000",
          "2024-01-29T00:00:00.000000000",
          "2024-01-30T00:00:00.000000000",
          "2024-01-31T00:00:00.000000000",
          "2024-02-01T00:00:00.000000000",
          "2024-02-02T00:00:00.000000000",
          "2024-02-05T00:00:00.000000000",
          "2024-02-06T00:00:00.000000000",
          "2024-02-07T00:00:00.000000000",
          "2024-02-08T00:00:00.000000000",
          "2024-02-09T00:00:00.000000000",
          "2024-02-12T00:00:00.000000000",
          "2024-02-13T00:00:00.000000000",
          "2024-02-14T00:00:00.000000000",
          "2024-02-15T00:00:00.000000000",
          "2024-02-16T00:00:00.000000000",
          "2024-02-19T00:00:00.000000000",
          "2024-02-20T00:00:00.000000000",
          "2024-02-21T00:00:00.000000000",
          "2024-02-22T00:00:00.000000000",
          "2024-02-23T00:00:00.000000000",
          "2024-02-26T00:00:00.000000000",
          "2024-02-27T00:00:00.000000000",
          "2024-02-28T00:00:00.000000000",
          "2024-02-29T00:00:00.000000000",
          "2024-03-01T00:00:00.000000000",
          "2024-03-04T00:00:00.000000000",
          "2024-03-05T00:00:00.000000000",
          "2024-03-06T00:00:00.000000000",
          "2024-03-07T00:00:00.000000000",
          "2024-03-08T00:00:00.000000000",
          "2024-03-11T00:00:00.000000000",
          "2024-03-12T00:00:00.000000000",
          "2024-03-13T00:00:00.000000000",
          "2024-03-14T00:00:00.000000000",
          "2024-03-15T00:00:00.000000000",
          "2024-03-18T00:00:00.000000000",
          "2024-03-19T00:00:00.000000000",
          "2024-03-20T00:00:00.000000000",
          "2024-03-21T00:00:00.000000000",
          "2024-03-22T00:00:00.000000000",
          "2024-03-25T00:00:00.000000000",
          "2024-03-26T00:00:00.000000000",
          "2024-03-27T00:00:00.000000000",
          "2024-03-28T00:00:00.000000000",
          "2024-04-02T00:00:00.000000000",
          "2024-04-03T00:00:00.000000000",
          "2024-04-04T00:00:00.000000000",
          "2024-04-05T00:00:00.000000000",
          "2024-04-08T00:00:00.000000000",
          "2024-04-09T00:00:00.000000000",
          "2024-04-10T00:00:00.000000000",
          "2024-04-11T00:00:00.000000000",
          "2024-04-12T00:00:00.000000000",
          "2024-04-15T00:00:00.000000000",
          "2024-04-16T00:00:00.000000000",
          "2024-04-17T00:00:00.000000000",
          "2024-04-18T00:00:00.000000000",
          "2024-04-19T00:00:00.000000000",
          "2024-04-22T00:00:00.000000000",
          "2024-04-23T00:00:00.000000000",
          "2024-04-24T00:00:00.000000000",
          "2024-04-25T00:00:00.000000000",
          "2024-04-26T00:00:00.000000000",
          "2024-04-29T00:00:00.000000000",
          "2024-04-30T00:00:00.000000000",
          "2024-05-02T00:00:00.000000000",
          "2024-05-03T00:00:00.000000000",
          "2024-05-06T00:00:00.000000000",
          "2024-05-07T00:00:00.000000000",
          "2024-05-08T00:00:00.000000000",
          "2024-05-09T00:00:00.000000000",
          "2024-05-10T00:00:00.000000000",
          "2024-05-13T00:00:00.000000000",
          "2024-05-14T00:00:00.000000000",
          "2024-05-15T00:00:00.000000000",
          "2024-05-16T00:00:00.000000000",
          "2024-05-17T00:00:00.000000000",
          "2024-05-20T00:00:00.000000000",
          "2024-05-21T00:00:00.000000000",
          "2024-05-22T00:00:00.000000000",
          "2024-05-23T00:00:00.000000000",
          "2024-05-24T00:00:00.000000000",
          "2024-05-27T00:00:00.000000000",
          "2024-05-28T00:00:00.000000000",
          "2024-05-29T00:00:00.000000000",
          "2024-05-30T00:00:00.000000000",
          "2024-05-31T00:00:00.000000000",
          "2024-06-03T00:00:00.000000000",
          "2024-06-04T00:00:00.000000000",
          "2024-06-05T00:00:00.000000000",
          "2024-06-06T00:00:00.000000000",
          "2024-06-07T00:00:00.000000000",
          "2024-06-10T00:00:00.000000000",
          "2024-06-11T00:00:00.000000000",
          "2024-06-12T00:00:00.000000000",
          "2024-06-13T00:00:00.000000000",
          "2024-06-14T00:00:00.000000000",
          "2024-06-17T00:00:00.000000000",
          "2024-06-18T00:00:00.000000000",
          "2024-06-19T00:00:00.000000000",
          "2024-06-20T00:00:00.000000000",
          "2024-06-21T00:00:00.000000000",
          "2024-06-24T00:00:00.000000000",
          "2024-06-25T00:00:00.000000000",
          "2024-06-26T00:00:00.000000000",
          "2024-06-27T00:00:00.000000000",
          "2024-06-28T00:00:00.000000000",
          "2024-07-01T00:00:00.000000000",
          "2024-07-02T00:00:00.000000000",
          "2024-07-03T00:00:00.000000000",
          "2024-07-04T00:00:00.000000000",
          "2024-07-05T00:00:00.000000000",
          "2024-07-08T00:00:00.000000000",
          "2024-07-09T00:00:00.000000000",
          "2024-07-10T00:00:00.000000000",
          "2024-07-11T00:00:00.000000000",
          "2024-07-12T00:00:00.000000000",
          "2024-07-15T00:00:00.000000000",
          "2024-07-16T00:00:00.000000000",
          "2024-07-17T00:00:00.000000000",
          "2024-07-18T00:00:00.000000000",
          "2024-07-19T00:00:00.000000000",
          "2024-07-22T00:00:00.000000000",
          "2024-07-23T00:00:00.000000000",
          "2024-07-24T00:00:00.000000000",
          "2024-07-25T00:00:00.000000000",
          "2024-07-26T00:00:00.000000000",
          "2024-07-29T00:00:00.000000000",
          "2024-07-30T00:00:00.000000000",
          "2024-07-31T00:00:00.000000000",
          "2024-08-01T00:00:00.000000000",
          "2024-08-02T00:00:00.000000000",
          "2024-08-05T00:00:00.000000000",
          "2024-08-06T00:00:00.000000000",
          "2024-08-07T00:00:00.000000000",
          "2024-08-08T00:00:00.000000000",
          "2024-08-09T00:00:00.000000000",
          "2024-08-12T00:00:00.000000000",
          "2024-08-13T00:00:00.000000000",
          "2024-08-14T00:00:00.000000000",
          "2024-08-15T00:00:00.000000000",
          "2024-08-16T00:00:00.000000000",
          "2024-08-19T00:00:00.000000000",
          "2024-08-20T00:00:00.000000000",
          "2024-08-21T00:00:00.000000000",
          "2024-08-22T00:00:00.000000000",
          "2024-08-23T00:00:00.000000000",
          "2024-08-26T00:00:00.000000000",
          "2024-08-27T00:00:00.000000000",
          "2024-08-28T00:00:00.000000000",
          "2024-08-29T00:00:00.000000000",
          "2024-08-30T00:00:00.000000000",
          "2024-09-02T00:00:00.000000000",
          "2024-09-03T00:00:00.000000000",
          "2024-09-04T00:00:00.000000000",
          "2024-09-05T00:00:00.000000000",
          "2024-09-06T00:00:00.000000000",
          "2024-09-09T00:00:00.000000000",
          "2024-09-10T00:00:00.000000000",
          "2024-09-11T00:00:00.000000000",
          "2024-09-12T00:00:00.000000000",
          "2024-09-13T00:00:00.000000000",
          "2024-09-16T00:00:00.000000000",
          "2024-09-17T00:00:00.000000000",
          "2024-09-18T00:00:00.000000000",
          "2024-09-19T00:00:00.000000000",
          "2024-09-20T00:00:00.000000000",
          "2024-09-23T00:00:00.000000000",
          "2024-09-24T00:00:00.000000000",
          "2024-09-25T00:00:00.000000000",
          "2024-09-26T00:00:00.000000000",
          "2024-09-27T00:00:00.000000000",
          "2024-09-30T00:00:00.000000000",
          "2024-10-01T00:00:00.000000000",
          "2024-10-02T00:00:00.000000000",
          "2024-10-03T00:00:00.000000000",
          "2024-10-04T00:00:00.000000000",
          "2024-10-07T00:00:00.000000000",
          "2024-10-08T00:00:00.000000000",
          "2024-10-09T00:00:00.000000000",
          "2024-10-10T00:00:00.000000000",
          "2024-10-11T00:00:00.000000000",
          "2024-10-14T00:00:00.000000000",
          "2024-10-15T00:00:00.000000000",
          "2024-10-16T00:00:00.000000000",
          "2024-10-17T00:00:00.000000000",
          "2024-10-18T00:00:00.000000000",
          "2024-10-21T00:00:00.000000000",
          "2024-10-22T00:00:00.000000000",
          "2024-10-23T00:00:00.000000000",
          "2024-10-24T00:00:00.000000000",
          "2024-10-25T00:00:00.000000000",
          "2024-10-28T00:00:00.000000000",
          "2024-10-29T00:00:00.000000000",
          "2024-10-30T00:00:00.000000000",
          "2024-10-31T00:00:00.000000000",
          "2024-11-01T00:00:00.000000000",
          "2024-11-04T00:00:00.000000000",
          "2024-11-05T00:00:00.000000000",
          "2024-11-06T00:00:00.000000000",
          "2024-11-07T00:00:00.000000000",
          "2024-11-08T00:00:00.000000000",
          "2024-11-11T00:00:00.000000000",
          "2024-11-12T00:00:00.000000000",
          "2024-11-13T00:00:00.000000000",
          "2024-11-14T00:00:00.000000000",
          "2024-11-15T00:00:00.000000000",
          "2024-11-18T00:00:00.000000000",
          "2024-11-19T00:00:00.000000000",
          "2024-11-20T00:00:00.000000000",
          "2024-11-21T00:00:00.000000000",
          "2024-11-22T00:00:00.000000000",
          "2024-11-25T00:00:00.000000000",
          "2024-11-26T00:00:00.000000000",
          "2024-11-27T00:00:00.000000000",
          "2024-11-28T00:00:00.000000000",
          "2024-11-29T00:00:00.000000000",
          "2024-12-02T00:00:00.000000000",
          "2024-12-03T00:00:00.000000000",
          "2024-12-04T00:00:00.000000000",
          "2024-12-05T00:00:00.000000000",
          "2024-12-06T00:00:00.000000000",
          "2024-12-09T00:00:00.000000000",
          "2024-12-10T00:00:00.000000000",
          "2024-12-11T00:00:00.000000000",
          "2024-12-12T00:00:00.000000000",
          "2024-12-13T00:00:00.000000000",
          "2024-12-16T00:00:00.000000000",
          "2024-12-17T00:00:00.000000000",
          "2024-12-18T00:00:00.000000000",
          "2024-12-19T00:00:00.000000000",
          "2024-12-20T00:00:00.000000000",
          "2024-12-23T00:00:00.000000000",
          "2024-12-24T00:00:00.000000000",
          "2024-12-27T00:00:00.000000000",
          "2024-12-30T00:00:00.000000000",
          "2024-12-31T00:00:00.000000000",
          "2025-01-02T00:00:00.000000000",
          "2025-01-03T00:00:00.000000000",
          "2025-01-06T00:00:00.000000000",
          "2025-01-07T00:00:00.000000000",
          "2025-01-08T00:00:00.000000000",
          "2025-01-09T00:00:00.000000000",
          "2025-01-10T00:00:00.000000000",
          "2025-01-13T00:00:00.000000000",
          "2025-01-14T00:00:00.000000000",
          "2025-01-15T00:00:00.000000000",
          "2025-01-16T00:00:00.000000000",
          "2025-01-17T00:00:00.000000000",
          "2025-01-20T00:00:00.000000000",
          "2025-01-21T00:00:00.000000000",
          "2025-01-22T00:00:00.000000000",
          "2025-01-23T00:00:00.000000000",
          "2025-01-24T00:00:00.000000000",
          "2025-01-27T00:00:00.000000000",
          "2025-01-28T00:00:00.000000000",
          "2025-01-29T00:00:00.000000000",
          "2025-01-30T00:00:00.000000000",
          "2025-01-31T00:00:00.000000000",
          "2025-02-03T00:00:00.000000000",
          "2025-02-04T00:00:00.000000000",
          "2025-02-05T00:00:00.000000000",
          "2025-02-06T00:00:00.000000000",
          "2025-02-07T00:00:00.000000000",
          "2025-02-10T00:00:00.000000000",
          "2025-02-11T00:00:00.000000000",
          "2025-02-12T00:00:00.000000000",
          "2025-02-13T00:00:00.000000000",
          "2025-02-14T00:00:00.000000000",
          "2025-02-17T00:00:00.000000000",
          "2025-02-18T00:00:00.000000000",
          "2025-02-19T00:00:00.000000000",
          "2025-02-20T00:00:00.000000000",
          "2025-02-21T00:00:00.000000000",
          "2025-02-24T00:00:00.000000000",
          "2025-02-25T00:00:00.000000000",
          "2025-02-26T00:00:00.000000000",
          "2025-02-27T00:00:00.000000000",
          "2025-02-28T00:00:00.000000000",
          "2025-03-03T00:00:00.000000000",
          "2025-03-04T00:00:00.000000000",
          "2025-03-05T00:00:00.000000000",
          "2025-03-06T00:00:00.000000000",
          "2025-03-07T00:00:00.000000000",
          "2025-03-10T00:00:00.000000000",
          "2025-03-11T00:00:00.000000000",
          "2025-03-12T00:00:00.000000000",
          "2025-03-13T00:00:00.000000000",
          "2025-03-14T00:00:00.000000000",
          "2025-03-17T00:00:00.000000000",
          "2025-03-18T00:00:00.000000000",
          "2025-03-19T00:00:00.000000000",
          "2025-03-20T00:00:00.000000000",
          "2025-03-21T00:00:00.000000000",
          "2025-03-24T00:00:00.000000000",
          "2025-03-25T00:00:00.000000000",
          "2025-03-26T00:00:00.000000000",
          "2025-03-27T00:00:00.000000000",
          "2025-03-28T00:00:00.000000000",
          "2025-03-31T00:00:00.000000000",
          "2025-04-01T00:00:00.000000000",
          "2025-04-02T00:00:00.000000000",
          "2025-04-03T00:00:00.000000000",
          "2025-04-04T00:00:00.000000000",
          "2025-04-07T00:00:00.000000000",
          "2025-04-08T00:00:00.000000000",
          "2025-04-09T00:00:00.000000000",
          "2025-04-10T00:00:00.000000000",
          "2025-04-11T00:00:00.000000000",
          "2025-04-14T00:00:00.000000000",
          "2025-04-15T00:00:00.000000000",
          "2025-04-16T00:00:00.000000000",
          "2025-04-17T00:00:00.000000000"
         ],
         "xaxis": "x",
         "y": {
          "bdata": "AAAAAAAAHEAAAABgZmYcQAAAAAAAABxAAAAAAAAAHEAAAAAAKVwcQAAAAGBmZhxAAAAAgBSuG0AAAACAFK4bQAAAAKBwPRxAAAAAAAAAHEAAAABgZmYcQAAAAGBmZhxAAAAAYGZmHEAAAAAAAAAcQAAAAMDMzBxAAAAAwMzMHEAAAACgcD0cQAAAAKBwPRxAAAAAQDMzHUAAAABA4XocQAAAAOCjcBtAAAAAIFyPG0AAAABAMzMbQAAAAGCPwhtAAAAAwPUoG0AAAADAHoUbQAAAAKCZmRtAAAAAoJmZG0AAAACgcD0bQAAAAGCPwhtAAAAAoJmZG0AAAABgj8IbQAAAAAAAABxAAAAAANejG0AAAAAgXI8cQAAAAEDhehxAAAAAYGZmHEAAAAAAAAAcQAAAAGBmZhtAAAAAIFyPG0AAAABAMzMbQAAAAKCZmRtAAAAAQDMzG0AAAAAAAAAbQAAAAGC4HhtAAAAAYLgeG0AAAADAzMwaQAAAAKBH4RtAAAAAoJmZHUAAAACA61EeQAAAAKCZmR9AAAAAwB6FH0AAAABAMzMfQAAAAIDC9R5AAAAAoJmZH0AAAAAAAAAeQAAAAEAK1x5AAAAA4HoUH0AAAAAA16MdQAAAAOBRuB5AAAAAgBSuHkAAAACAPQoeQAAAAAAAAB1AAAAAAAAAHUAAAADgUbgdQAAAAOCjcBxAAAAAoHA9HEAAAAAAAAAcQAAAAAAAABxAAAAAYGZmHEAAAABgZmYcQAAAAKBwPRxAAAAAgML1HEAAAACgcD0cQAAAAIDrURxAAAAAwMzMHEAAAACAwvUdQAAAAEAK1x1AAAAAAAAAHkAAAAAAAAAdQAAAAIDC9RxAAAAAAAAAHUAAAAAghesdQAAAAEAzMx1AAAAAoJmZHUAAAAAAAAAeQAAAAADXox1AAAAAAAAAHkAAAACgcD0dQAAAAAApXB1AAAAAgML1HUAAAACgmZkdQAAAAIAUrh1AAAAAgOtRHUAAAACgmZkdQAAAAKBH4R1AAAAAgBSuHUAAAADgUbgeQAAAAGC4Hh9AAAAAoEfhHUAAAACgmZkdQAAAAKCZmR1AAAAAoJmZHUAAAAAghesdQAAAAOB6FB9AAAAAoEfhHkAAAAAAAAAeQAAAAKCZmR9AAAAAQArXH0AAAADgehQgQAAAAAAp3CBAAAAAoHC9IEAAAACAFC4hQAAAAKCZmSJAAAAAYLgeIkAAAABguB4iQAAAAKBHYSJAAAAAwB4FIkAAAAAAAAAiQAAAAMDMzCFAAAAAAAAAIkAAAAAA16MhQAAAAMAehSFAAAAAgBQuIUAAAADgepQhQAAAAMAehSFAAAAA4HqUIUAAAACgmZkhQAAAAGC4niFAAAAAQOH6IUAAAADAzMwhQAAAAMDMzCFAAAAAwMzMIUAAAADAzMwhQAAAAAAAACJAAAAAACncIUAAAAAAAAAiQAAAAMAehSFAAAAAANejIUAAAABA4fohQAAAAEAK1yFAAQAAQDOzIkD///+/zMwiQP///7/MTCNAAAAAIFyPI0D/////KFwjQAAAACCuRyNAAAAAgD0KIkAAAACgmRkjQAEAAEAzMyNAAAAAoJkZI0D///+/zEwjQAEAAEAzsyJAAAAAIIXrIkAAAACAwvUiQAEAAEAzMyNAAAAAYI/CI0AAAACAwvUjQAAAAEDh+iNAAAAAAAAAJEAAAABguB4kQAEAAMD1KCRAAQAAQDMzJEAAAACAFK4kQAAAAGBmZiRAAQAAQDMzJUAAAACAFK4lQAAAAIA9CiVAAAAAAAAAJUAAAABgj8IkQP///7/MzCRAAAAAgD0KJUAAAACgcD0mQAAAAAAAACZAAAAAYGbmJkABAABAMzMoQP///7/MzCdAAAAAYGZmJ0AAAACgmZkpQAEAAEAzMylAAAAAYGZmKUAAAAAAAAAqQAAAAAAAACpA////v8xMK0AAAACgmZkqQAAAAGBmZipAAQAAQDOzKkAAAABgZmYrQAAAAGBmZitA////v8zMKkD///+/zEwrQAAAAAAAACtAAAAAYGZmK0ABAABAMzMrQAEAAEAzMypAAQAAQDOzKkAAAAAAAAArQAAAAKCZGStA////v8xMK0AAAAAAAAArQAAAAGBmZitAAAAAoJmZK0ABAABAM7MrQAEAAEAzMytAAAAAYGZmK0AAAABgZmYrQAEAAEAzsytAAQAAQDMzK0AAAAAAAIArQAAAAKCZmSpA////v8zMKkAAAACgmZkqQAAAAGBm5ipAAAAAAAAAK0AAAAAAAAArQAAAAKCZGSxAAAAAYGbmK0AAAAAAAIArQP///7/MTCtAAAAAYGZmK0AAAAAAAAAsQP///7/MzCtA////v8zMK0D///+/zMwrQAAAAKCZGSxAAAAAAAAALEAAAAAAAAAsQAAAAAAAACxAAAAAAAAALEABAABAMzMsQAEAAEAzMyxAAQAAQDMzLEAAAACgmRksQAAAAAAAACxAAAAAoJmZK0AAAABgZuYrQAEAAEAzsyxAAAAAAAAALUAAAAAAAAAtQAAAAAAAAC1AAAAAAAAALUAAAACgmRksQAEAAEAzMy1A////v8zMLEAAAACgmZksQAAAAGBmZixAAQAAQDMzLED///+/zEwsQAAAAGBm5itA////v8xMLEAAAABgZmYsQAAAAKCZGSxAAAAAoJkZLEAAAAAAAAAsQAAAAGBm5itAAAAAYGZmK0D///+/zMwrQAAAAKCZmStAAAAAoJmZK0D///+/zEwrQAAAAGBmZitAAAAAYGbmK0D///+/zEwrQAEAAEAzMytA////v8zMLEAAAABgZmYrQP///7/MzCtAAAAAYGZmLED///+/zMwrQP///7/MzCtA////v8xMK0D///+/zEwrQAAAAGBmZitA////v8xMK0AAAABgZmYrQAEAAEAzMytAAAAAYGZmKkAAAABgZmYrQAAAAKCZmStA////v8zMKkD///+/zEwqQAAAAGBmZipA////v8zMKkAAAABgZuYqQP///7/MzCpAAAAAAACAKkAAAACgmZkqQP///7/MzCpAAAAAoJmZK0AAAAAAAAArQAAAAAAAACtAAAAAYGZmKkAAAACgmZkqQAAAAGBm5ipAAAAAoJkZKkABAABAMzMqQP///7/MzClAAAAAoJmZKUAAAAAAAIApQAAAAKCZGShAAAAAAACAKUAAAACgmRkpQAAAAKCZmSlAAAAAAAAAKUAAAAAAAAApQAAAAAAAAChAAQAAQDMzKEAAAAAAAAAoQAAAAAAAAChAAAAAAAAAKEAAAABgZuYnQAAAAGBmZilAAAAAAAAAKEABAABAMzMnQP///7/MzCZAAAAAAAAAJ0AAAAAAAAAoQAAAAKCZmSdA////v8zMJ0D///+/zMwnQAAAAGBmZidAAAAAoJmZJ0AAAACgmZknQAAAAGBmZidAAAAAAAAAJ0D///+/zMwnQAAAAKCZmSdA////v8xMJ0AAAACgmZknQAAAAKCZmSdAAAAAAAAAKEAAAAAAAAAoQAAAAAAAAChAAAAAAAAAKEAAAABgZuYoQAAAAGBmZihAAAAAAAAAKED///+/zMwnQP///7/MzCdAAAAAoJmZJ0AAAACgmZkmQP///7/MzCZAAAAAoJkZJUAAAACgmZklQAAAAKCZmSVAAAAAoJmZJUAAAAAAAAAmQAAAAAAAACZAAAAAYGZmJUAAAAAAAAAmQAAAAAAAACZAAAAAYGZmJkAAAAAAAAAmQAEAAEAzMyZAAQAAQDMzJ0AAAACgmRkmQP///7/MzCdAAQAAQDOzKEAAAAAAAAApQAAAAAAAgClAAAAAAAAAKkAAAABgZmYpQP///7/MzClAAQAAQDMzKUAAAAAAAAApQAAAAAAAAClAAAAAAAAAKUD///+/zEwpQAAAAKCZmSlAAQAAQDMzKUAAAAAAAAApQAAAAKCZmSlAAAAAoJkZKUABAABAMzMpQP///7/MTClAAAAAAAAAKUAAAAAAAAApQAEAAEAzsyhAAAAAoJkZKUABAABAM7MoQAAAAKCZmShAAAAAAACAJ0AAAACgmZknQP///7/MzCdAAAAAYGbmJ0AAAABgZuYnQP///7/MzCdAAQAAQDOzJ0ABAABAM7MnQAAAAGBmZidAAQAAQDMzJ0AAAAAAAAAnQAAAAGBmZiVAAAAAYGZmJUAAAAAAAIAlQAAAAAAAACVAAAAAYGbmJEAAAAAAAAAkQAAAAAAAACRAAAAAoJkZJEAAAAAAAIAkQAAAAKCZmSRA////v8zMI0AAAABgZmYkQAAAAKCZmSNA////v8zMJEAAAACgmZkkQAAAAAAAACVAAAAAYGZmJUAAAAAAAAAlQAAAAKCZmSRAAAAAAAAAJED///+/zMwkQAAAAAAAACVA////v8zMJEAAAACgmZkkQAAAAGBmZiRA////v8zMJEAAAACgmZkkQAAAAKCZmSRAAAAAIIXrI0ABAABAMzMkQAAAAKCZmSRAAAAAoJmZJEAAAAAAAAAlQAEAAEAzMyVAAQAAQDMzJUAAAABgZuYlQAAAAAAAACZA////v8zMJUAAAACgmZknQAAAAAAAAChA////v8zMKEAAAACgmZkoQAAAAAAAgChA////v8zMKEAAAAAAAAApQAAAAGBmZilA////v8zMKEAAAAAAAAApQP///7/MzChAAAAAAAAAKUAAAACgmZkoQAAAAKCZmShAAAAAAAAAKUAAAAAAAAApQAEAAEAzsyhAAAAAAAAAKUAAAACgmZkpQAAAAGBm5ilAAAAAYGZmKUAAAACgmZkpQAEAAEAzMylAAQAAQDMzKUAAAAAAAAApQAAAAKCZmShAAQAAQDMzKEAAAAAAAAAoQAEAAEAzMydAAAAAYGbmJkAAAAAAAAAnQAAAAGBm5iZAAAAAYGbmJkAAAABgZuYmQAAAAAAAACdAAAAAYGbmJkAAAABgZuYmQAAAAGBm5iZAAAAAoJkZJ0ABAABAM7MmQP///7/MzCZA////v8zMJkD///+/zMwmQAEAAEAzsyZAAAAAAAAAJ0D///+/zMwmQAAAAGBm5iZAAAAAYGZmJkAAAAAAAAAmQAAAAAAAACZAAAAAAAAAJkAAAABgZuYlQP///7/MzCVAAAAAAAAAJUAAAAAAAAAlQP///7/MzCRAAAAAoJmZJUAAAACgmZklQAAAAKCZmSRAAAAAoJmZJEAAAACgmRkkQAAAAKCZGSRA////v8zMI0D///+/zMwjQAAAAAAAACRAAAAAAAAAJEAAAACAwvUjQAAAAAAAACRAAAAAAAAAJEAAAAAAAAAkQAAAAAAAACRAAAAAgML1I0D///+/zMwjQP///z8K1yNAAAAAwB6FI0AAAADAHoUjQP///7/MzCNAAAAAwB6FI0AAAABgZmYiQAEAAEAzMyJAAAAAgOtRIkAAAABgZmYiQAAAAEAK1yFAAQAAQDMzIkAAAACgmZkiQAAAAGBmZiJAAAAAYGZmIkABAADA9SgjQAEAAEAzMyNA////v8zMIkAAAACAPQojQAAAAIA9CiNAAAAAYGZmI0AAAABgj8IjQAAAAGCPwiNA////PwrXI0D///+/zMwjQAAAAIDC9SNAAAAAYGZmJEAAAACgmZkkQAEAAEAzMyVA////v8zMJUAAAAAAAAAmQAAAAAAAACZAAQAAQDMzJkAAAAAAAAAmQAAAAKCZmSVA////v8xMJUD///+/zEwlQAEAAEAzsyRAAAAAoJmZJED///+/zEwkQAAAAAAAgCRAAQAAQDMzJUD///+/zEwlQP///7/MzCRA////v8zMJED///+/zMwkQAAAAGBmZiRAAAAAYGZmJEAAAAAAAAAkQAAAAGBmZiRAAAAA4FG4I0AAAAAAAAAjQAAAAAAAACNAAAAAAAAAJEAAAAAAAAAkQAAAAKCZmSJA////v8zMIkD///+/zMwiQAAAAOCjcCJAAAAA4KNwIkABAABAMzMiQAEAAEAzMyJAAAAAQDMzIUAAAABgZmYgQAAAAEAzMyBAAAAAYGZmIEAAAABAMzMhQAAAAGCPwiBAAAAAoJmZIEAAAABAMzMgQAAAAKCZmR9AAAAAQDMzIEAAAACA61EgQAAAAEDheiBAAAAAQOF6IEAAAACgcD0gQAAAAOB6FCBAAAAAwB6FIEAAAACgmZkgQAAAAAApXCBAAAAAAAAAIEAAAABgj8IfQAAAAKCZmR9AAAAAAAAAIEAAAAAAAAAgQAAAAAAAACBAAAAAQDMzH0AAAABACtcfQAAAAAAAACBAAAAAAAAAIEAAAABguB4fQAAAAAAAACBAAAAAoJmZH0AAAADAzMwcQAAAAMDMzBxAAAAAQDMzHUAAAACA61EcQAAAAEAzMx1AAAAAwMzMHEAAAADAzMwcQAAAAGBmZhxAAAAAQDMzHUAAAAAgXI8cQAAAAEDhehxAAAAAAAAAHEAAAABACtcbQAAAAOCjcBtAAAAA4KNwG0AAAABACtcbQAAAAOCjcBtAAAAAgD0KG0AAAAAAKVwbQAAAAEAzMxtAAAAAgD0KG0AAAADAzMwaQAAAAGBmZhpAAAAAgD0KG0AAAABgj8IZQAAAAKCZmRlAAAAAwMzMGkAAAABgZmYaQAAAAEAzMxtAAAAAAAAAHEAAAABgj8IbQAAAAOB6FBpAAAAAoJmZG0AAAABAMzMbQAAAAMDMzBpAAAAAoEfhGkAAAACgcD0aQAAAAKBwPRpAAAAAgBSuG0AAAACgmZkbQAAAAKCZmRtAAAAAoEfhGkAAAADAzMwaQAAAAIA9ChtAAAAAoEfhGkAAAACAwvUaQAAAAAAAABxAAAAAIK5HG0AAAACgmZkbQAAAAEAzMxtAAAAAoEfhGkAAAADgUbgaQAAAAADXoxpAAAAAQOF6GkAAAABgZmYaQAAAAIDrURpAAAAAAAAAGkAAAACgmZkZQAAAAIDrURpAAAAAAAAAGkAAAABACtcZQAAAAKCZmRlAAAAAANejGEAAAAAAAAAYQAAAAAAAABhAAAAAAAAAGEAAAABAMzMXQAAAAKBH4RZAAAAA4KNwF0AAAAAA16MWQAAAAIDC9RZAAAAAgD0KF0AAAAAgXI8WQAAAAMDMzBZAAAAAoEfhFkAAAABgZmYWQAAAAIDC9RZAAAAAwMzMFkAAAABgZmYWQAAAAEDhehZAAAAAAAAAFkAAAAAghesVQAAAAIAUrhVAAAAAoJmZFUAAAACgmZkVQAAAAEAK1xVAAAAAIIXrFUAAAABgj8IVQAAAAAApXBVAAAAAQDMzFUAAAABACtcVQAAAAEAzMxVAAAAAYI/CFUAAAACgmZkVQAAAAKCZmRVAAAAAoJmZFUAAAACgcD0WQAAAAMD1KBZAAAAAgOtRFkAAAADAzMwWQAAAAOB6FBhAAAAAIFyPGEAAAAAgXI8YQAAAAGC4HhlAAAAA4KNwGUAAAACgmZkZQAAAAMAehRlAAAAA4KNwGUAAAAAgrkcXQAAAAEAK1xdAAAAAgBSuF0AAAABgj8IXQAAAAEAK1xdAAAAAoJmZF0AAAAAAKVwXQAAAAOCjcBdAAAAAoEfhGEAAAABACtcZQAAAAAApXBlAAAAAQDMzGUAAAABAMzMZQAAAAEDhehhAAAAAQOF6GEAAAADgehQYQAAAAGBmZhhAAAAAoJmZGUAAAACAPQoZQAAAAEAzMxlAAAAAgD0KGUAAAAAA16MYQAAAAADXoxhAAAAAAAAAGEAAAAAAAAAYQAAAAMDMzBZAAAAAYGZmFkAAAAAAAAAWQAAAAGBmZhZAAAAAAClcFUAAAACgmZkVQAAAAKCZmRVAAAAAYGZmFkAAAADA9SgWQAAAACCuRxVAAAAAAAAAFEAAAAAA16MUQAAAAEDhehRAAAAAQOF6FEAAAAAAAAAUQAAAAKCZmRNAAAAAAAAAFEAAAAAAAAAUQAAAAAAAABNAAAAAoJmZE0AAAAAAAAAUQAAAAADXoxNAAAAAgD0KE0AAAACgmZkTQAAAACCuRxNAAAAAIK5HE0AAAAAAKVwTQAAAAEDhehNAAAAAQArXE0AAAABA4XoTQAAAAKCZmRNAAAAAQDMzE0AAAABgj8ITQAAAAMAehRNAAAAAwMzMEkAAAADgUbgSQAAAAKCZmRJAAAAAoJmZEkAAAACgmZkSQAAAAEAK1xFAAAAAIIXrEUAAAAAgXI8SQAAAAMDMzBJAAAAAYLgeE0AAAABguB4TQAAAAOCjcBNAAAAAYI/CE0AAAAAA16MTQAAAAADXoxNAAAAAQArXE0AAAACgcD0UQAAAAADXoxRAAAAAgD0KFUAAAABgZmYUQAAAAMDMzBRAAAAAoHA9FEAAAABAMzMTQAAAAEAzMxNAAAAAQDMzE0AAAABAMzMTQAAAAOCjcBFAAAAAYGZmFEAAAACgmZkTQAAAAIAUrhNAAAAAoHA9FEAAAABgZmYUQAAAAIAUrhNAAAAAYGZmFEAAAABgZmYUQAAAAMDMzBNAAAAAoHA9FEAAAABgZmYUQAAAAKBwPRRAAAAAoHA9FEAAAACgcD0UQAAAAKBwPRRAAAAAoHA9FEAAAACgcD0UQAAAAMDMzBNAAAAAQArXE0AAAAAAAAAUQAAAAAAAABRAAAAAAAAAFEAAAADAzMwTQAAAAMDMzBNAAAAAwMzME0AAAADAzMwTQAAAAMDMzBNAAAAAwMzME0AAAABAMzMTQAAAAAAAABJAAAAAIIXrEUAAAAAghesRQAAAAGBmZhBAAAAAAAAAEEAAAACgmZkPQAAAAIDC9QxAAAAAAAAADEAAAAAAAAAOQAAAAGBmZg5AAAAAAAAADkAAAAAAAAAOQAAAAKCZmQ1AAAAAAAAADkAAAACgmZkNQAAAAEDhegxAAAAAYGZmDEAAAACAFK4LQAAAAGBmZgpAAAAA4HoUCkAAAAAgXI8GQAAAAGBmZgZAAAAAYGZmBkAAAAAAAAAGQAAAAAAAAAZAAAAAwB6FBUAAAACgmZkFQAAAAAAAAARAAAAAANejBEAAAAAAKVwDQAAAAKCZmQNAAAAAIK5HA0ABAABAMzMDQAEAAEAzMwNAAAAAoJmZA0AAAACAwvUCQAEAAIDrUQJAAAAAQOF6AkAAAACAwvUCQAAAAEDhegJAAAAAoEfhAkAAAAAAAAACQAAAAKBwPQJAAAAAwB6FAUAAAADAHoUBQAAAAMAehQFAAAAAYLgeAUAAAACgmZkBQAAAAMDMzABAAAAAYGZmAEAAAADAHoUBQAAAAGBmZgZAAAAAIIXrEEABAABAMzMPQAAAAKBwPQ5AAAAAoJmZDUAAAACAFK4JQAAAAGBmZghAAAAAgML1CkD///9fj8IJQAAAAGBmZghAAAAAgD0KB0AAAAAAAAAIQAAAAMDMzAZAAAAAoJmZB0ABAACA61EKQAAAAMDMzAhAAAAAYLgeCUAAAADAHoUJQAAAAADXowhAAAAA4HoUCEAAAAAghesHQAAAACCF6wdAAAAAgD0KB0AAAACAFK4HQAAAAEAK1wdAAAAAQOF6CEAAAABA4XoIQAAAAKCZmQlAAAAAgBSuB0AAAABACtcHQAAAAIAUrgdAAAAAAClcB0AAAABACtcHQAAAAKCZmQdAAAAAoJmZB0AAAAAgXI8GQAAAAKCZmQdAAAAAYGZmBkAAAACgR+EGQAAAAOB6FAZAAQAAQDMzBUAAAADAzMwEQAAAAKBH4QRAAAAAQOF6BEAAAABgZmYGQAEAAEAzMwVAAAAAoEfhBEAAAADgehQGQAAAAOBRuAZAAAAA4HoUBkAAAAAAAAAGQAAAAGBmZgZAAAAAIK5HBUAAAABACtcFQAAAAEDhegZAAAAAIK5HBUABAABAMzMFQAAAACCF6wNAAAAA4FG4BEAAAACgcD0EQAAAAMDMzARAAAAAgD0KBUAAAAAAAAAEQAAAAMDMzARAAAAAwB6FBUAAAADgo3AFQP///1+PwgNAAAAAwPUoBEAAAAAAAAAEQAAAAOB6FARAAAAAAAAABkAAAAAAAAAGQAAAAGBmZgZAAQAAQDMzB0ABAABAMzMHQAAAAEDhegZAAAAAIFyPCEAAAAAAKVwJQAAAAAAAAAhAAAAAAAAACEAAAABgZmYIQAAAAKCZmQlAAAAAAAAACEAAAADgo3AJQAAAAAAAAAhAAAAAAAAACEAAAACgmZkHQAAAAAApXAdAAAAAIK5HBUAAAADAzMwCQAAAAADXowRAAAAAoHA9BEAAAAAgXI8EQAAAACBcjwRAAAAAIFyPBEAAAAAgXI8EQAAAACBcjwRAAAAAQOF6AEAAAADA9Sj0PwAAAIAUrvU/AAAAwMzM9j8AAACgmZn3PwAAAGBmZvY/AAAAgBSu9z8AAADAHoX1PwAAAMAehfU/AAAA4FG49D8AAABAMzPzPwAAAKBH4fI/AAAAoHA98j8AAADgUbjyPwAAAOBRuPI/AAAAAAAA+D8AAABguB75PwAAAKBwPfY/AAAA4KNw+T8AAADgehT4PwAAACBcj/Y/AAAAIIXr9T8AAAAAAAD2PwAAAIDC9fQ/AAAA4KNw9T8AAACgmZn1P//////Wo/g//////9aj+D8AAABgZmb4PwEAAAApXPc/AAAAQDMz+T8AAAAAAAD4PwAAAEDhevg/AAAAQDMz+T8AAABA4Xr4PwAAAMAehfc//////9aj9j8BAAAAKVz3PwAAAEDhevY/AAAAoEfh9j8AAADAHoX3PwAAAEAzM/c/AAAAgBSu9z8AAABAMzP3PwAAAMAehfc/AAAAgD0K9z8AAAAgXI/2PwAAAAAAAPY/AAAAYI/C9T8AAACgmZn1PwAAAGCPwvU/AAAAoEfh9j8AAADgUbj2PwAAAIAUrvc/AAAAgD0K9z8AAACAPQr3PwAAAEAzM/c/AAAAYI/C9z8AAADgUbj2PwAAAEDhevY/AAAAoEfh9D8AAADgo3D1PwAAAMDMzPQ/AAAAgD0K8z8AAADAzMzyPwAAAKCZmfM/AAAAQArX8z8AAADgUbj0PwAAAGC4HvU/AAAAwMzM9D8AAAAAAAD0PwAAAMD1KPQ/AAAAQArX8z8AAABACtfzPwAAAEAK1/M/AAAAoEfh9D8AAACgR+H0PwAAAKBH4fQ/AAAAIK5H9T8AAADgUbj0PwAAAEAzM/U/AAAAIK5H9T8AAACA61H0PwAAAOB6FPQ/AAAAQArX8z8AAADAHoXzPwAAACCuR/M/AAAA4KNw8z8AAACgmZnzPwAAAEAzM/M/AAAAgML18j8AAABAMzPzPwAAAGBmZvI/AAAA4FG48j8AAAAghevxPwAAAEAK1/E/AAAA4HoU8j8BAAAAKVzxPwAAAOCjcPE/AAAAgML18D8AAACAwvXwPwAAAIDC9fA/AAAAIFyP8D8BAADgUbjuPwAAAOB6FO4/AAAA4M736z8AAACgR+HwPwAAAIDC9fA/AAAAwMzM9D//////1qP0PwAAAMD1KPQ/AAAAoJmZ8z8AAAAgXI/0PwAAAOCjcPM/AAAAoEfh8j8AAABgZmbyPwAAAEAK1/E/AAAAgD0K8T8AAADAzMzwPwAAAIDrUfA/AAAAgOtR8D//////1qPwPwAAAOB6FPI/AAAAgML18D8AAABguB7xPwAAAMDMzPA//////9aj8D8AAABAMzPzPwAAAAAAAPo/AAAAQOF6+D8AAABgZmb2PwAAAMD1KPY/AAAAoJmZ9z8AAACgcD32PwAAACCuR/U/AAAAIIXr9T8AAABgj8L1PwAAACCuR/U/AAAAwPUo9j8AAADAzMz0PwAAAMDMzPQ/AAAAQOF69D8AAACgcD32PwAAAIDrUfY/AAAAYI/C9z8AAACAwvX4PwAAACBcj/g//////9aj+D8AAACgR+H2PwAAAIAUrvU/AAAAoJmZ9T8AAADgUbj2PwAAAMDMzPY/AAAAYGZm9j8AAAAAAAD2PwAAAGBmZvY/AAAAQOF6+D8AAABgj8L3PwAAAOBRuPY/AAAAwPUo9j8AAABAMzP3PwAAAEAK1/U/AAAAwPUo9D8BAAAAKVzzPwAAAGBmZvI/AAAAYGZm8j8AAABgZmbyPwAAACCuR/E/AAAAIFyP9D8AAADA9Sj0PwAAAIAUrvM/AAAAoJmZ8z8AAACAwvXyPwAAAMAehfM/AAAAwPUo9D8BAAAAKVzzPwAAAIA9CvM/AAAAYLge8z8AAADA9Sj0PwAAAEAK1/U/AAAAIK5H9T8AAABACtf1PwAAAEDhevY/AAAAwPUo9j8AAABgZmb2PwAAAGCPwvU/AAAAoHA99j8AAABgZmb0PwAAAIDrUfQ/AAAAAAAA9D8AAACAFK7zPwAAAIDrUfQ/AAAAIIXr8z8AAABA4Xr0PwAAAMAehfM/AAAAwB6F8z8AAABAMzPzPwAAAAAAAPQ/AAAAIK5H8z8AAADgehT0PwAAAIAUrvM/AAAAQDMz9T8AAADgo3D1PwAAAIDC9fQ/AAAAwMzM9D8AAADgehT2PwAAAKCZmfU/AAAA4KNw9T8AAABgj8L1PwAAACCuR/U/AAAAIK5H9T8AAACA61H0PwAAAEDhevQ/AAAAoJmZ9T8AAABgj8L1PwAAAIDC9fQ/AAAAwB6F+T8AAAAghev3PwAAAOB6FPY/AAAA4HoU9j8AAACAFK73PwAAAEAzM/c/AAAAYLge9z8AAABgZmb2PwAAAKBwPfY/AAAA4HoU9j8AAAAghev1P//////Wo/Y/AAAAgOtR9j8AAABACtf1PwAAAKCZmfU/AAAAwMzM9D8AAADgehT0PwAAAKBwPfQ/AAAAYLge8z8AAADgUbjyPwAAAGCPwvM/AAAAQDMz8z8AAACgcD30PwAAAMD1KPQ/AAAAQDMz8z8AAABAMzPzPwAAAAAAAPQ/AAAAAAAA9D8=",
          "dtype": "f8"
         },
         "yaxis": "y"
        },
        {
         "mode": "lines",
         "name": "Volume",
         "type": "scatter",
         "x": [
          "2020-07-30T00:00:00.000000000",
          "2020-07-31T00:00:00.000000000",
          "2020-08-03T00:00:00.000000000",
          "2020-08-04T00:00:00.000000000",
          "2020-08-05T00:00:00.000000000",
          "2020-08-06T00:00:00.000000000",
          "2020-08-07T00:00:00.000000000",
          "2020-08-10T00:00:00.000000000",
          "2020-08-11T00:00:00.000000000",
          "2020-08-12T00:00:00.000000000",
          "2020-08-13T00:00:00.000000000",
          "2020-08-14T00:00:00.000000000",
          "2020-08-17T00:00:00.000000000",
          "2020-08-18T00:00:00.000000000",
          "2020-08-19T00:00:00.000000000",
          "2020-08-20T00:00:00.000000000",
          "2020-08-21T00:00:00.000000000",
          "2020-08-24T00:00:00.000000000",
          "2020-08-25T00:00:00.000000000",
          "2020-08-26T00:00:00.000000000",
          "2020-08-27T00:00:00.000000000",
          "2020-08-28T00:00:00.000000000",
          "2020-08-31T00:00:00.000000000",
          "2020-09-01T00:00:00.000000000",
          "2020-09-02T00:00:00.000000000",
          "2020-09-03T00:00:00.000000000",
          "2020-09-04T00:00:00.000000000",
          "2020-09-07T00:00:00.000000000",
          "2020-09-08T00:00:00.000000000",
          "2020-09-09T00:00:00.000000000",
          "2020-09-10T00:00:00.000000000",
          "2020-09-11T00:00:00.000000000",
          "2020-09-14T00:00:00.000000000",
          "2020-09-15T00:00:00.000000000",
          "2020-09-16T00:00:00.000000000",
          "2020-09-17T00:00:00.000000000",
          "2020-09-18T00:00:00.000000000",
          "2020-09-21T00:00:00.000000000",
          "2020-09-22T00:00:00.000000000",
          "2020-09-23T00:00:00.000000000",
          "2020-09-24T00:00:00.000000000",
          "2020-09-25T00:00:00.000000000",
          "2020-09-28T00:00:00.000000000",
          "2020-09-29T00:00:00.000000000",
          "2020-09-30T00:00:00.000000000",
          "2020-10-01T00:00:00.000000000",
          "2020-10-02T00:00:00.000000000",
          "2020-10-05T00:00:00.000000000",
          "2020-10-06T00:00:00.000000000",
          "2020-10-07T00:00:00.000000000",
          "2020-10-08T00:00:00.000000000",
          "2020-10-09T00:00:00.000000000",
          "2020-10-12T00:00:00.000000000",
          "2020-10-13T00:00:00.000000000",
          "2020-10-14T00:00:00.000000000",
          "2020-10-15T00:00:00.000000000",
          "2020-10-16T00:00:00.000000000",
          "2020-10-19T00:00:00.000000000",
          "2020-10-20T00:00:00.000000000",
          "2020-10-21T00:00:00.000000000",
          "2020-10-22T00:00:00.000000000",
          "2020-10-23T00:00:00.000000000",
          "2020-10-26T00:00:00.000000000",
          "2020-10-27T00:00:00.000000000",
          "2020-10-28T00:00:00.000000000",
          "2020-10-29T00:00:00.000000000",
          "2020-10-30T00:00:00.000000000",
          "2020-11-02T00:00:00.000000000",
          "2020-11-03T00:00:00.000000000",
          "2020-11-04T00:00:00.000000000",
          "2020-11-05T00:00:00.000000000",
          "2020-11-06T00:00:00.000000000",
          "2020-11-09T00:00:00.000000000",
          "2020-11-10T00:00:00.000000000",
          "2020-11-11T00:00:00.000000000",
          "2020-11-12T00:00:00.000000000",
          "2020-11-13T00:00:00.000000000",
          "2020-11-16T00:00:00.000000000",
          "2020-11-17T00:00:00.000000000",
          "2020-11-18T00:00:00.000000000",
          "2020-11-19T00:00:00.000000000",
          "2020-11-20T00:00:00.000000000",
          "2020-11-23T00:00:00.000000000",
          "2020-11-24T00:00:00.000000000",
          "2020-11-25T00:00:00.000000000",
          "2020-11-26T00:00:00.000000000",
          "2020-11-27T00:00:00.000000000",
          "2020-11-30T00:00:00.000000000",
          "2020-12-01T00:00:00.000000000",
          "2020-12-02T00:00:00.000000000",
          "2020-12-03T00:00:00.000000000",
          "2020-12-04T00:00:00.000000000",
          "2020-12-07T00:00:00.000000000",
          "2020-12-08T00:00:00.000000000",
          "2020-12-09T00:00:00.000000000",
          "2020-12-10T00:00:00.000000000",
          "2020-12-11T00:00:00.000000000",
          "2020-12-14T00:00:00.000000000",
          "2020-12-15T00:00:00.000000000",
          "2020-12-16T00:00:00.000000000",
          "2020-12-17T00:00:00.000000000",
          "2020-12-18T00:00:00.000000000",
          "2020-12-21T00:00:00.000000000",
          "2020-12-22T00:00:00.000000000",
          "2020-12-23T00:00:00.000000000",
          "2020-12-24T00:00:00.000000000",
          "2020-12-28T00:00:00.000000000",
          "2020-12-29T00:00:00.000000000",
          "2020-12-30T00:00:00.000000000",
          "2020-12-31T00:00:00.000000000",
          "2021-01-04T00:00:00.000000000",
          "2021-01-05T00:00:00.000000000",
          "2021-01-06T00:00:00.000000000",
          "2021-01-07T00:00:00.000000000",
          "2021-01-08T00:00:00.000000000",
          "2021-01-11T00:00:00.000000000",
          "2021-01-12T00:00:00.000000000",
          "2021-01-13T00:00:00.000000000",
          "2021-01-14T00:00:00.000000000",
          "2021-01-15T00:00:00.000000000",
          "2021-01-18T00:00:00.000000000",
          "2021-01-19T00:00:00.000000000",
          "2021-01-20T00:00:00.000000000",
          "2021-01-21T00:00:00.000000000",
          "2021-01-22T00:00:00.000000000",
          "2021-01-25T00:00:00.000000000",
          "2021-01-26T00:00:00.000000000",
          "2021-01-27T00:00:00.000000000",
          "2021-01-28T00:00:00.000000000",
          "2021-01-29T00:00:00.000000000",
          "2021-02-01T00:00:00.000000000",
          "2021-02-02T00:00:00.000000000",
          "2021-02-03T00:00:00.000000000",
          "2021-02-04T00:00:00.000000000",
          "2021-02-05T00:00:00.000000000",
          "2021-02-08T00:00:00.000000000",
          "2021-02-09T00:00:00.000000000",
          "2021-02-10T00:00:00.000000000",
          "2021-02-11T00:00:00.000000000",
          "2021-02-12T00:00:00.000000000",
          "2021-02-15T00:00:00.000000000",
          "2021-02-16T00:00:00.000000000",
          "2021-02-17T00:00:00.000000000",
          "2021-02-18T00:00:00.000000000",
          "2021-02-19T00:00:00.000000000",
          "2021-02-22T00:00:00.000000000",
          "2021-02-23T00:00:00.000000000",
          "2021-02-24T00:00:00.000000000",
          "2021-02-25T00:00:00.000000000",
          "2021-02-26T00:00:00.000000000",
          "2021-03-01T00:00:00.000000000",
          "2021-03-02T00:00:00.000000000",
          "2021-03-03T00:00:00.000000000",
          "2021-03-04T00:00:00.000000000",
          "2021-03-05T00:00:00.000000000",
          "2021-03-08T00:00:00.000000000",
          "2021-03-09T00:00:00.000000000",
          "2021-03-10T00:00:00.000000000",
          "2021-03-11T00:00:00.000000000",
          "2021-03-12T00:00:00.000000000",
          "2021-03-15T00:00:00.000000000",
          "2021-03-16T00:00:00.000000000",
          "2021-03-17T00:00:00.000000000",
          "2021-03-18T00:00:00.000000000",
          "2021-03-19T00:00:00.000000000",
          "2021-03-22T00:00:00.000000000",
          "2021-03-23T00:00:00.000000000",
          "2021-03-24T00:00:00.000000000",
          "2021-03-25T00:00:00.000000000",
          "2021-03-26T00:00:00.000000000",
          "2021-03-29T00:00:00.000000000",
          "2021-03-30T00:00:00.000000000",
          "2021-03-31T00:00:00.000000000",
          "2021-04-01T00:00:00.000000000",
          "2021-04-06T00:00:00.000000000",
          "2021-04-07T00:00:00.000000000",
          "2021-04-08T00:00:00.000000000",
          "2021-04-09T00:00:00.000000000",
          "2021-04-12T00:00:00.000000000",
          "2021-04-13T00:00:00.000000000",
          "2021-04-14T00:00:00.000000000",
          "2021-04-15T00:00:00.000000000",
          "2021-04-16T00:00:00.000000000",
          "2021-04-19T00:00:00.000000000",
          "2021-04-20T00:00:00.000000000",
          "2021-04-21T00:00:00.000000000",
          "2021-04-22T00:00:00.000000000",
          "2021-04-23T00:00:00.000000000",
          "2021-04-26T00:00:00.000000000",
          "2021-04-27T00:00:00.000000000",
          "2021-04-28T00:00:00.000000000",
          "2021-04-29T00:00:00.000000000",
          "2021-04-30T00:00:00.000000000",
          "2021-05-03T00:00:00.000000000",
          "2021-05-04T00:00:00.000000000",
          "2021-05-05T00:00:00.000000000",
          "2021-05-06T00:00:00.000000000",
          "2021-05-07T00:00:00.000000000",
          "2021-05-10T00:00:00.000000000",
          "2021-05-11T00:00:00.000000000",
          "2021-05-12T00:00:00.000000000",
          "2021-05-13T00:00:00.000000000",
          "2021-05-14T00:00:00.000000000",
          "2021-05-17T00:00:00.000000000",
          "2021-05-18T00:00:00.000000000",
          "2021-05-19T00:00:00.000000000",
          "2021-05-20T00:00:00.000000000",
          "2021-05-21T00:00:00.000000000",
          "2021-05-24T00:00:00.000000000",
          "2021-05-25T00:00:00.000000000",
          "2021-05-26T00:00:00.000000000",
          "2021-05-27T00:00:00.000000000",
          "2021-05-28T00:00:00.000000000",
          "2021-05-31T00:00:00.000000000",
          "2021-06-01T00:00:00.000000000",
          "2021-06-02T00:00:00.000000000",
          "2021-06-03T00:00:00.000000000",
          "2021-06-04T00:00:00.000000000",
          "2021-06-07T00:00:00.000000000",
          "2021-06-08T00:00:00.000000000",
          "2021-06-09T00:00:00.000000000",
          "2021-06-10T00:00:00.000000000",
          "2021-06-11T00:00:00.000000000",
          "2021-06-14T00:00:00.000000000",
          "2021-06-15T00:00:00.000000000",
          "2021-06-16T00:00:00.000000000",
          "2021-06-17T00:00:00.000000000",
          "2021-06-18T00:00:00.000000000",
          "2021-06-21T00:00:00.000000000",
          "2021-06-22T00:00:00.000000000",
          "2021-06-23T00:00:00.000000000",
          "2021-06-24T00:00:00.000000000",
          "2021-06-25T00:00:00.000000000",
          "2021-06-28T00:00:00.000000000",
          "2021-06-29T00:00:00.000000000",
          "2021-06-30T00:00:00.000000000",
          "2021-07-01T00:00:00.000000000",
          "2021-07-02T00:00:00.000000000",
          "2021-07-05T00:00:00.000000000",
          "2021-07-06T00:00:00.000000000",
          "2021-07-07T00:00:00.000000000",
          "2021-07-08T00:00:00.000000000",
          "2021-07-09T00:00:00.000000000",
          "2021-07-12T00:00:00.000000000",
          "2021-07-13T00:00:00.000000000",
          "2021-07-14T00:00:00.000000000",
          "2021-07-15T00:00:00.000000000",
          "2021-07-16T00:00:00.000000000",
          "2021-07-19T00:00:00.000000000",
          "2021-07-20T00:00:00.000000000",
          "2021-07-21T00:00:00.000000000",
          "2021-07-22T00:00:00.000000000",
          "2021-07-23T00:00:00.000000000",
          "2021-07-26T00:00:00.000000000",
          "2021-07-27T00:00:00.000000000",
          "2021-07-28T00:00:00.000000000",
          "2021-07-29T00:00:00.000000000",
          "2021-07-30T00:00:00.000000000",
          "2021-08-02T00:00:00.000000000",
          "2021-08-03T00:00:00.000000000",
          "2021-08-04T00:00:00.000000000",
          "2021-08-05T00:00:00.000000000",
          "2021-08-06T00:00:00.000000000",
          "2021-08-09T00:00:00.000000000",
          "2021-08-10T00:00:00.000000000",
          "2021-08-11T00:00:00.000000000",
          "2021-08-12T00:00:00.000000000",
          "2021-08-13T00:00:00.000000000",
          "2021-08-16T00:00:00.000000000",
          "2021-08-17T00:00:00.000000000",
          "2021-08-18T00:00:00.000000000",
          "2021-08-19T00:00:00.000000000",
          "2021-08-20T00:00:00.000000000",
          "2021-08-23T00:00:00.000000000",
          "2021-08-24T00:00:00.000000000",
          "2021-08-25T00:00:00.000000000",
          "2021-08-26T00:00:00.000000000",
          "2021-08-27T00:00:00.000000000",
          "2021-08-30T00:00:00.000000000",
          "2021-08-31T00:00:00.000000000",
          "2021-09-01T00:00:00.000000000",
          "2021-09-02T00:00:00.000000000",
          "2021-09-03T00:00:00.000000000",
          "2021-09-06T00:00:00.000000000",
          "2021-09-07T00:00:00.000000000",
          "2021-09-08T00:00:00.000000000",
          "2021-09-09T00:00:00.000000000",
          "2021-09-10T00:00:00.000000000",
          "2021-09-13T00:00:00.000000000",
          "2021-09-14T00:00:00.000000000",
          "2021-09-15T00:00:00.000000000",
          "2021-09-16T00:00:00.000000000",
          "2021-09-17T00:00:00.000000000",
          "2021-09-20T00:00:00.000000000",
          "2021-09-21T00:00:00.000000000",
          "2021-09-22T00:00:00.000000000",
          "2021-09-23T00:00:00.000000000",
          "2021-09-24T00:00:00.000000000",
          "2021-09-27T00:00:00.000000000",
          "2021-09-28T00:00:00.000000000",
          "2021-09-29T00:00:00.000000000",
          "2021-09-30T00:00:00.000000000",
          "2021-10-01T00:00:00.000000000",
          "2021-10-04T00:00:00.000000000",
          "2021-10-05T00:00:00.000000000",
          "2021-10-06T00:00:00.000000000",
          "2021-10-07T00:00:00.000000000",
          "2021-10-08T00:00:00.000000000",
          "2021-10-11T00:00:00.000000000",
          "2021-10-12T00:00:00.000000000",
          "2021-10-13T00:00:00.000000000",
          "2021-10-14T00:00:00.000000000",
          "2021-10-15T00:00:00.000000000",
          "2021-10-18T00:00:00.000000000",
          "2021-10-19T00:00:00.000000000",
          "2021-10-20T00:00:00.000000000",
          "2021-10-21T00:00:00.000000000",
          "2021-10-22T00:00:00.000000000",
          "2021-10-25T00:00:00.000000000",
          "2021-10-26T00:00:00.000000000",
          "2021-10-27T00:00:00.000000000",
          "2021-10-28T00:00:00.000000000",
          "2021-10-29T00:00:00.000000000",
          "2021-11-01T00:00:00.000000000",
          "2021-11-02T00:00:00.000000000",
          "2021-11-03T00:00:00.000000000",
          "2021-11-04T00:00:00.000000000",
          "2021-11-05T00:00:00.000000000",
          "2021-11-08T00:00:00.000000000",
          "2021-11-09T00:00:00.000000000",
          "2021-11-10T00:00:00.000000000",
          "2021-11-11T00:00:00.000000000",
          "2021-11-12T00:00:00.000000000",
          "2021-11-15T00:00:00.000000000",
          "2021-11-16T00:00:00.000000000",
          "2021-11-17T00:00:00.000000000",
          "2021-11-18T00:00:00.000000000",
          "2021-11-19T00:00:00.000000000",
          "2021-11-22T00:00:00.000000000",
          "2021-11-23T00:00:00.000000000",
          "2021-11-24T00:00:00.000000000",
          "2021-11-25T00:00:00.000000000",
          "2021-11-26T00:00:00.000000000",
          "2021-11-29T00:00:00.000000000",
          "2021-11-30T00:00:00.000000000",
          "2021-12-01T00:00:00.000000000",
          "2021-12-02T00:00:00.000000000",
          "2021-12-03T00:00:00.000000000",
          "2021-12-06T00:00:00.000000000",
          "2021-12-07T00:00:00.000000000",
          "2021-12-08T00:00:00.000000000",
          "2021-12-09T00:00:00.000000000",
          "2021-12-10T00:00:00.000000000",
          "2021-12-13T00:00:00.000000000",
          "2021-12-14T00:00:00.000000000",
          "2021-12-15T00:00:00.000000000",
          "2021-12-16T00:00:00.000000000",
          "2021-12-17T00:00:00.000000000",
          "2021-12-20T00:00:00.000000000",
          "2021-12-21T00:00:00.000000000",
          "2021-12-22T00:00:00.000000000",
          "2021-12-23T00:00:00.000000000",
          "2021-12-27T00:00:00.000000000",
          "2021-12-28T00:00:00.000000000",
          "2021-12-29T00:00:00.000000000",
          "2021-12-30T00:00:00.000000000",
          "2022-01-03T00:00:00.000000000",
          "2022-01-04T00:00:00.000000000",
          "2022-01-05T00:00:00.000000000",
          "2022-01-06T00:00:00.000000000",
          "2022-01-07T00:00:00.000000000",
          "2022-01-10T00:00:00.000000000",
          "2022-01-11T00:00:00.000000000",
          "2022-01-12T00:00:00.000000000",
          "2022-01-13T00:00:00.000000000",
          "2022-01-14T00:00:00.000000000",
          "2022-01-17T00:00:00.000000000",
          "2022-01-18T00:00:00.000000000",
          "2022-01-19T00:00:00.000000000",
          "2022-01-20T00:00:00.000000000",
          "2022-01-21T00:00:00.000000000",
          "2022-01-24T00:00:00.000000000",
          "2022-01-25T00:00:00.000000000",
          "2022-01-26T00:00:00.000000000",
          "2022-01-27T00:00:00.000000000",
          "2022-01-28T00:00:00.000000000",
          "2022-01-31T00:00:00.000000000",
          "2022-02-01T00:00:00.000000000",
          "2022-02-02T00:00:00.000000000",
          "2022-02-03T00:00:00.000000000",
          "2022-02-04T00:00:00.000000000",
          "2022-02-07T00:00:00.000000000",
          "2022-02-08T00:00:00.000000000",
          "2022-02-09T00:00:00.000000000",
          "2022-02-10T00:00:00.000000000",
          "2022-02-11T00:00:00.000000000",
          "2022-02-14T00:00:00.000000000",
          "2022-02-15T00:00:00.000000000",
          "2022-02-16T00:00:00.000000000",
          "2022-02-17T00:00:00.000000000",
          "2022-02-18T00:00:00.000000000",
          "2022-02-21T00:00:00.000000000",
          "2022-02-22T00:00:00.000000000",
          "2022-02-23T00:00:00.000000000",
          "2022-02-24T00:00:00.000000000",
          "2022-02-25T00:00:00.000000000",
          "2022-02-28T00:00:00.000000000",
          "2022-03-01T00:00:00.000000000",
          "2022-03-02T00:00:00.000000000",
          "2022-03-03T00:00:00.000000000",
          "2022-03-04T00:00:00.000000000",
          "2022-03-07T00:00:00.000000000",
          "2022-03-08T00:00:00.000000000",
          "2022-03-09T00:00:00.000000000",
          "2022-03-10T00:00:00.000000000",
          "2022-03-11T00:00:00.000000000",
          "2022-03-14T00:00:00.000000000",
          "2022-03-15T00:00:00.000000000",
          "2022-03-16T00:00:00.000000000",
          "2022-03-17T00:00:00.000000000",
          "2022-03-18T00:00:00.000000000",
          "2022-03-21T00:00:00.000000000",
          "2022-03-22T00:00:00.000000000",
          "2022-03-23T00:00:00.000000000",
          "2022-03-24T00:00:00.000000000",
          "2022-03-25T00:00:00.000000000",
          "2022-03-28T00:00:00.000000000",
          "2022-03-29T00:00:00.000000000",
          "2022-03-30T00:00:00.000000000",
          "2022-03-31T00:00:00.000000000",
          "2022-04-01T00:00:00.000000000",
          "2022-04-04T00:00:00.000000000",
          "2022-04-05T00:00:00.000000000",
          "2022-04-06T00:00:00.000000000",
          "2022-04-07T00:00:00.000000000",
          "2022-04-08T00:00:00.000000000",
          "2022-04-11T00:00:00.000000000",
          "2022-04-12T00:00:00.000000000",
          "2022-04-13T00:00:00.000000000",
          "2022-04-14T00:00:00.000000000",
          "2022-04-19T00:00:00.000000000",
          "2022-04-20T00:00:00.000000000",
          "2022-04-21T00:00:00.000000000",
          "2022-04-22T00:00:00.000000000",
          "2022-04-25T00:00:00.000000000",
          "2022-04-26T00:00:00.000000000",
          "2022-04-27T00:00:00.000000000",
          "2022-04-28T00:00:00.000000000",
          "2022-04-29T00:00:00.000000000",
          "2022-05-02T00:00:00.000000000",
          "2022-05-03T00:00:00.000000000",
          "2022-05-04T00:00:00.000000000",
          "2022-05-05T00:00:00.000000000",
          "2022-05-06T00:00:00.000000000",
          "2022-05-09T00:00:00.000000000",
          "2022-05-10T00:00:00.000000000",
          "2022-05-11T00:00:00.000000000",
          "2022-05-12T00:00:00.000000000",
          "2022-05-13T00:00:00.000000000",
          "2022-05-16T00:00:00.000000000",
          "2022-05-17T00:00:00.000000000",
          "2022-05-18T00:00:00.000000000",
          "2022-05-19T00:00:00.000000000",
          "2022-05-20T00:00:00.000000000",
          "2022-05-23T00:00:00.000000000",
          "2022-05-24T00:00:00.000000000",
          "2022-05-25T00:00:00.000000000",
          "2022-05-26T00:00:00.000000000",
          "2022-05-27T00:00:00.000000000",
          "2022-05-30T00:00:00.000000000",
          "2022-05-31T00:00:00.000000000",
          "2022-06-01T00:00:00.000000000",
          "2022-06-02T00:00:00.000000000",
          "2022-06-03T00:00:00.000000000",
          "2022-06-06T00:00:00.000000000",
          "2022-06-07T00:00:00.000000000",
          "2022-06-08T00:00:00.000000000",
          "2022-06-09T00:00:00.000000000",
          "2022-06-10T00:00:00.000000000",
          "2022-06-13T00:00:00.000000000",
          "2022-06-14T00:00:00.000000000",
          "2022-06-15T00:00:00.000000000",
          "2022-06-16T00:00:00.000000000",
          "2022-06-17T00:00:00.000000000",
          "2022-06-20T00:00:00.000000000",
          "2022-06-21T00:00:00.000000000",
          "2022-06-22T00:00:00.000000000",
          "2022-06-23T00:00:00.000000000",
          "2022-06-24T00:00:00.000000000",
          "2022-06-27T00:00:00.000000000",
          "2022-06-28T00:00:00.000000000",
          "2022-06-29T00:00:00.000000000",
          "2022-06-30T00:00:00.000000000",
          "2022-07-01T00:00:00.000000000",
          "2022-07-04T00:00:00.000000000",
          "2022-07-05T00:00:00.000000000",
          "2022-07-06T00:00:00.000000000",
          "2022-07-07T00:00:00.000000000",
          "2022-07-08T00:00:00.000000000",
          "2022-07-11T00:00:00.000000000",
          "2022-07-12T00:00:00.000000000",
          "2022-07-13T00:00:00.000000000",
          "2022-07-14T00:00:00.000000000",
          "2022-07-15T00:00:00.000000000",
          "2022-07-18T00:00:00.000000000",
          "2022-07-19T00:00:00.000000000",
          "2022-07-20T00:00:00.000000000",
          "2022-07-21T00:00:00.000000000",
          "2022-07-22T00:00:00.000000000",
          "2022-07-25T00:00:00.000000000",
          "2022-07-26T00:00:00.000000000",
          "2022-07-27T00:00:00.000000000",
          "2022-07-28T00:00:00.000000000",
          "2022-07-29T00:00:00.000000000",
          "2022-08-01T00:00:00.000000000",
          "2022-08-02T00:00:00.000000000",
          "2022-08-03T00:00:00.000000000",
          "2022-08-04T00:00:00.000000000",
          "2022-08-05T00:00:00.000000000",
          "2022-08-08T00:00:00.000000000",
          "2022-08-09T00:00:00.000000000",
          "2022-08-10T00:00:00.000000000",
          "2022-08-11T00:00:00.000000000",
          "2022-08-12T00:00:00.000000000",
          "2022-08-15T00:00:00.000000000",
          "2022-08-16T00:00:00.000000000",
          "2022-08-17T00:00:00.000000000",
          "2022-08-18T00:00:00.000000000",
          "2022-08-19T00:00:00.000000000",
          "2022-08-22T00:00:00.000000000",
          "2022-08-23T00:00:00.000000000",
          "2022-08-24T00:00:00.000000000",
          "2022-08-25T00:00:00.000000000",
          "2022-08-26T00:00:00.000000000",
          "2022-08-29T00:00:00.000000000",
          "2022-08-30T00:00:00.000000000",
          "2022-08-31T00:00:00.000000000",
          "2022-09-01T00:00:00.000000000",
          "2022-09-02T00:00:00.000000000",
          "2022-09-05T00:00:00.000000000",
          "2022-09-06T00:00:00.000000000",
          "2022-09-07T00:00:00.000000000",
          "2022-09-08T00:00:00.000000000",
          "2022-09-09T00:00:00.000000000",
          "2022-09-12T00:00:00.000000000",
          "2022-09-13T00:00:00.000000000",
          "2022-09-14T00:00:00.000000000",
          "2022-09-15T00:00:00.000000000",
          "2022-09-16T00:00:00.000000000",
          "2022-09-19T00:00:00.000000000",
          "2022-09-20T00:00:00.000000000",
          "2022-09-21T00:00:00.000000000",
          "2022-09-22T00:00:00.000000000",
          "2022-09-23T00:00:00.000000000",
          "2022-09-26T00:00:00.000000000",
          "2022-09-27T00:00:00.000000000",
          "2022-09-28T00:00:00.000000000",
          "2022-09-29T00:00:00.000000000",
          "2022-09-30T00:00:00.000000000",
          "2022-10-03T00:00:00.000000000",
          "2022-10-04T00:00:00.000000000",
          "2022-10-05T00:00:00.000000000",
          "2022-10-06T00:00:00.000000000",
          "2022-10-07T00:00:00.000000000",
          "2022-10-10T00:00:00.000000000",
          "2022-10-11T00:00:00.000000000",
          "2022-10-12T00:00:00.000000000",
          "2022-10-13T00:00:00.000000000",
          "2022-10-14T00:00:00.000000000",
          "2022-10-17T00:00:00.000000000",
          "2022-10-18T00:00:00.000000000",
          "2022-10-19T00:00:00.000000000",
          "2022-10-20T00:00:00.000000000",
          "2022-10-21T00:00:00.000000000",
          "2022-10-24T00:00:00.000000000",
          "2022-10-25T00:00:00.000000000",
          "2022-10-26T00:00:00.000000000",
          "2022-10-27T00:00:00.000000000",
          "2022-10-28T00:00:00.000000000",
          "2022-10-31T00:00:00.000000000",
          "2022-11-01T00:00:00.000000000",
          "2022-11-02T00:00:00.000000000",
          "2022-11-03T00:00:00.000000000",
          "2022-11-04T00:00:00.000000000",
          "2022-11-07T00:00:00.000000000",
          "2022-11-08T00:00:00.000000000",
          "2022-11-09T00:00:00.000000000",
          "2022-11-10T00:00:00.000000000",
          "2022-11-11T00:00:00.000000000",
          "2022-11-14T00:00:00.000000000",
          "2022-11-15T00:00:00.000000000",
          "2022-11-16T00:00:00.000000000",
          "2022-11-17T00:00:00.000000000",
          "2022-11-18T00:00:00.000000000",
          "2022-11-21T00:00:00.000000000",
          "2022-11-22T00:00:00.000000000",
          "2022-11-23T00:00:00.000000000",
          "2022-11-24T00:00:00.000000000",
          "2022-11-25T00:00:00.000000000",
          "2022-11-28T00:00:00.000000000",
          "2022-11-29T00:00:00.000000000",
          "2022-11-30T00:00:00.000000000",
          "2022-12-01T00:00:00.000000000",
          "2022-12-02T00:00:00.000000000",
          "2022-12-05T00:00:00.000000000",
          "2022-12-06T00:00:00.000000000",
          "2022-12-07T00:00:00.000000000",
          "2022-12-08T00:00:00.000000000",
          "2022-12-09T00:00:00.000000000",
          "2022-12-12T00:00:00.000000000",
          "2022-12-13T00:00:00.000000000",
          "2022-12-14T00:00:00.000000000",
          "2022-12-15T00:00:00.000000000",
          "2022-12-16T00:00:00.000000000",
          "2022-12-19T00:00:00.000000000",
          "2022-12-20T00:00:00.000000000",
          "2022-12-21T00:00:00.000000000",
          "2022-12-22T00:00:00.000000000",
          "2022-12-23T00:00:00.000000000",
          "2022-12-27T00:00:00.000000000",
          "2022-12-28T00:00:00.000000000",
          "2022-12-29T00:00:00.000000000",
          "2022-12-30T00:00:00.000000000",
          "2023-01-02T00:00:00.000000000",
          "2023-01-03T00:00:00.000000000",
          "2023-01-04T00:00:00.000000000",
          "2023-01-05T00:00:00.000000000",
          "2023-01-06T00:00:00.000000000",
          "2023-01-09T00:00:00.000000000",
          "2023-01-10T00:00:00.000000000",
          "2023-01-11T00:00:00.000000000",
          "2023-01-12T00:00:00.000000000",
          "2023-01-13T00:00:00.000000000",
          "2023-01-16T00:00:00.000000000",
          "2023-01-17T00:00:00.000000000",
          "2023-01-18T00:00:00.000000000",
          "2023-01-19T00:00:00.000000000",
          "2023-01-20T00:00:00.000000000",
          "2023-01-23T00:00:00.000000000",
          "2023-01-24T00:00:00.000000000",
          "2023-01-25T00:00:00.000000000",
          "2023-01-26T00:00:00.000000000",
          "2023-01-27T00:00:00.000000000",
          "2023-01-30T00:00:00.000000000",
          "2023-01-31T00:00:00.000000000",
          "2023-02-01T00:00:00.000000000",
          "2023-02-02T00:00:00.000000000",
          "2023-02-03T00:00:00.000000000",
          "2023-02-06T00:00:00.000000000",
          "2023-02-07T00:00:00.000000000",
          "2023-02-08T00:00:00.000000000",
          "2023-02-09T00:00:00.000000000",
          "2023-02-10T00:00:00.000000000",
          "2023-02-13T00:00:00.000000000",
          "2023-02-14T00:00:00.000000000",
          "2023-02-15T00:00:00.000000000",
          "2023-02-16T00:00:00.000000000",
          "2023-02-17T00:00:00.000000000",
          "2023-02-20T00:00:00.000000000",
          "2023-02-21T00:00:00.000000000",
          "2023-02-22T00:00:00.000000000",
          "2023-02-23T00:00:00.000000000",
          "2023-02-24T00:00:00.000000000",
          "2023-02-27T00:00:00.000000000",
          "2023-02-28T00:00:00.000000000",
          "2023-03-01T00:00:00.000000000",
          "2023-03-02T00:00:00.000000000",
          "2023-03-03T00:00:00.000000000",
          "2023-03-06T00:00:00.000000000",
          "2023-03-07T00:00:00.000000000",
          "2023-03-08T00:00:00.000000000",
          "2023-03-09T00:00:00.000000000",
          "2023-03-10T00:00:00.000000000",
          "2023-03-13T00:00:00.000000000",
          "2023-03-14T00:00:00.000000000",
          "2023-03-15T00:00:00.000000000",
          "2023-03-16T00:00:00.000000000",
          "2023-03-17T00:00:00.000000000",
          "2023-03-20T00:00:00.000000000",
          "2023-03-21T00:00:00.000000000",
          "2023-03-22T00:00:00.000000000",
          "2023-03-23T00:00:00.000000000",
          "2023-03-24T00:00:00.000000000",
          "2023-03-27T00:00:00.000000000",
          "2023-03-28T00:00:00.000000000",
          "2023-03-29T00:00:00.000000000",
          "2023-03-30T00:00:00.000000000",
          "2023-03-31T00:00:00.000000000",
          "2023-04-03T00:00:00.000000000",
          "2023-04-04T00:00:00.000000000",
          "2023-04-05T00:00:00.000000000",
          "2023-04-06T00:00:00.000000000",
          "2023-04-11T00:00:00.000000000",
          "2023-04-12T00:00:00.000000000",
          "2023-04-13T00:00:00.000000000",
          "2023-04-14T00:00:00.000000000",
          "2023-04-17T00:00:00.000000000",
          "2023-04-18T00:00:00.000000000",
          "2023-04-19T00:00:00.000000000",
          "2023-04-20T00:00:00.000000000",
          "2023-04-21T00:00:00.000000000",
          "2023-04-24T00:00:00.000000000",
          "2023-04-25T00:00:00.000000000",
          "2023-04-26T00:00:00.000000000",
          "2023-04-27T00:00:00.000000000",
          "2023-04-28T00:00:00.000000000",
          "2023-05-02T00:00:00.000000000",
          "2023-05-03T00:00:00.000000000",
          "2023-05-04T00:00:00.000000000",
          "2023-05-05T00:00:00.000000000",
          "2023-05-08T00:00:00.000000000",
          "2023-05-09T00:00:00.000000000",
          "2023-05-10T00:00:00.000000000",
          "2023-05-11T00:00:00.000000000",
          "2023-05-12T00:00:00.000000000",
          "2023-05-15T00:00:00.000000000",
          "2023-05-16T00:00:00.000000000",
          "2023-05-17T00:00:00.000000000",
          "2023-05-18T00:00:00.000000000",
          "2023-05-19T00:00:00.000000000",
          "2023-05-22T00:00:00.000000000",
          "2023-05-23T00:00:00.000000000",
          "2023-05-24T00:00:00.000000000",
          "2023-05-25T00:00:00.000000000",
          "2023-05-26T00:00:00.000000000",
          "2023-05-29T00:00:00.000000000",
          "2023-05-30T00:00:00.000000000",
          "2023-05-31T00:00:00.000000000",
          "2023-06-01T00:00:00.000000000",
          "2023-06-02T00:00:00.000000000",
          "2023-06-05T00:00:00.000000000",
          "2023-06-06T00:00:00.000000000",
          "2023-06-07T00:00:00.000000000",
          "2023-06-08T00:00:00.000000000",
          "2023-06-09T00:00:00.000000000",
          "2023-06-12T00:00:00.000000000",
          "2023-06-13T00:00:00.000000000",
          "2023-06-14T00:00:00.000000000",
          "2023-06-15T00:00:00.000000000",
          "2023-06-16T00:00:00.000000000",
          "2023-06-19T00:00:00.000000000",
          "2023-06-20T00:00:00.000000000",
          "2023-06-21T00:00:00.000000000",
          "2023-06-22T00:00:00.000000000",
          "2023-06-23T00:00:00.000000000",
          "2023-06-26T00:00:00.000000000",
          "2023-06-27T00:00:00.000000000",
          "2023-06-28T00:00:00.000000000",
          "2023-06-29T00:00:00.000000000",
          "2023-06-30T00:00:00.000000000",
          "2023-07-03T00:00:00.000000000",
          "2023-07-04T00:00:00.000000000",
          "2023-07-05T00:00:00.000000000",
          "2023-07-06T00:00:00.000000000",
          "2023-07-07T00:00:00.000000000",
          "2023-07-10T00:00:00.000000000",
          "2023-07-11T00:00:00.000000000",
          "2023-07-12T00:00:00.000000000",
          "2023-07-13T00:00:00.000000000",
          "2023-07-14T00:00:00.000000000",
          "2023-07-17T00:00:00.000000000",
          "2023-07-18T00:00:00.000000000",
          "2023-07-19T00:00:00.000000000",
          "2023-07-20T00:00:00.000000000",
          "2023-07-21T00:00:00.000000000",
          "2023-07-24T00:00:00.000000000",
          "2023-07-25T00:00:00.000000000",
          "2023-07-26T00:00:00.000000000",
          "2023-07-27T00:00:00.000000000",
          "2023-07-28T00:00:00.000000000",
          "2023-07-31T00:00:00.000000000",
          "2023-08-01T00:00:00.000000000",
          "2023-08-02T00:00:00.000000000",
          "2023-08-03T00:00:00.000000000",
          "2023-08-04T00:00:00.000000000",
          "2023-08-07T00:00:00.000000000",
          "2023-08-08T00:00:00.000000000",
          "2023-08-09T00:00:00.000000000",
          "2023-08-10T00:00:00.000000000",
          "2023-08-11T00:00:00.000000000",
          "2023-08-14T00:00:00.000000000",
          "2023-08-15T00:00:00.000000000",
          "2023-08-16T00:00:00.000000000",
          "2023-08-17T00:00:00.000000000",
          "2023-08-18T00:00:00.000000000",
          "2023-08-21T00:00:00.000000000",
          "2023-08-22T00:00:00.000000000",
          "2023-08-23T00:00:00.000000000",
          "2023-08-24T00:00:00.000000000",
          "2023-08-25T00:00:00.000000000",
          "2023-08-28T00:00:00.000000000",
          "2023-08-29T00:00:00.000000000",
          "2023-08-30T00:00:00.000000000",
          "2023-08-31T00:00:00.000000000",
          "2023-09-01T00:00:00.000000000",
          "2023-09-04T00:00:00.000000000",
          "2023-09-05T00:00:00.000000000",
          "2023-09-06T00:00:00.000000000",
          "2023-09-07T00:00:00.000000000",
          "2023-09-08T00:00:00.000000000",
          "2023-09-11T00:00:00.000000000",
          "2023-09-12T00:00:00.000000000",
          "2023-09-13T00:00:00.000000000",
          "2023-09-14T00:00:00.000000000",
          "2023-09-15T00:00:00.000000000",
          "2023-09-18T00:00:00.000000000",
          "2023-09-19T00:00:00.000000000",
          "2023-09-20T00:00:00.000000000",
          "2023-09-21T00:00:00.000000000",
          "2023-09-22T00:00:00.000000000",
          "2023-09-25T00:00:00.000000000",
          "2023-09-26T00:00:00.000000000",
          "2023-09-27T00:00:00.000000000",
          "2023-09-28T00:00:00.000000000",
          "2023-09-29T00:00:00.000000000",
          "2023-10-02T00:00:00.000000000",
          "2023-10-03T00:00:00.000000000",
          "2023-10-04T00:00:00.000000000",
          "2023-10-05T00:00:00.000000000",
          "2023-10-06T00:00:00.000000000",
          "2023-10-09T00:00:00.000000000",
          "2023-10-10T00:00:00.000000000",
          "2023-10-11T00:00:00.000000000",
          "2023-10-12T00:00:00.000000000",
          "2023-10-13T00:00:00.000000000",
          "2023-10-16T00:00:00.000000000",
          "2023-10-17T00:00:00.000000000",
          "2023-10-18T00:00:00.000000000",
          "2023-10-19T00:00:00.000000000",
          "2023-10-20T00:00:00.000000000",
          "2023-10-23T00:00:00.000000000",
          "2023-10-24T00:00:00.000000000",
          "2023-10-25T00:00:00.000000000",
          "2023-10-26T00:00:00.000000000",
          "2023-10-27T00:00:00.000000000",
          "2023-10-30T00:00:00.000000000",
          "2023-10-31T00:00:00.000000000",
          "2023-11-01T00:00:00.000000000",
          "2023-11-02T00:00:00.000000000",
          "2023-11-03T00:00:00.000000000",
          "2023-11-06T00:00:00.000000000",
          "2023-11-07T00:00:00.000000000",
          "2023-11-08T00:00:00.000000000",
          "2023-11-09T00:00:00.000000000",
          "2023-11-10T00:00:00.000000000",
          "2023-11-13T00:00:00.000000000",
          "2023-11-14T00:00:00.000000000",
          "2023-11-15T00:00:00.000000000",
          "2023-11-16T00:00:00.000000000",
          "2023-11-17T00:00:00.000000000",
          "2023-11-20T00:00:00.000000000",
          "2023-11-21T00:00:00.000000000",
          "2023-11-22T00:00:00.000000000",
          "2023-11-23T00:00:00.000000000",
          "2023-11-24T00:00:00.000000000",
          "2023-11-27T00:00:00.000000000",
          "2023-11-28T00:00:00.000000000",
          "2023-11-29T00:00:00.000000000",
          "2023-11-30T00:00:00.000000000",
          "2023-12-01T00:00:00.000000000",
          "2023-12-04T00:00:00.000000000",
          "2023-12-05T00:00:00.000000000",
          "2023-12-06T00:00:00.000000000",
          "2023-12-07T00:00:00.000000000",
          "2023-12-08T00:00:00.000000000",
          "2023-12-11T00:00:00.000000000",
          "2023-12-12T00:00:00.000000000",
          "2023-12-13T00:00:00.000000000",
          "2023-12-14T00:00:00.000000000",
          "2023-12-15T00:00:00.000000000",
          "2023-12-18T00:00:00.000000000",
          "2023-12-19T00:00:00.000000000",
          "2023-12-20T00:00:00.000000000",
          "2023-12-21T00:00:00.000000000",
          "2023-12-22T00:00:00.000000000",
          "2023-12-27T00:00:00.000000000",
          "2023-12-28T00:00:00.000000000",
          "2023-12-29T00:00:00.000000000",
          "2024-01-02T00:00:00.000000000",
          "2024-01-03T00:00:00.000000000",
          "2024-01-04T00:00:00.000000000",
          "2024-01-05T00:00:00.000000000",
          "2024-01-08T00:00:00.000000000",
          "2024-01-09T00:00:00.000000000",
          "2024-01-10T00:00:00.000000000",
          "2024-01-11T00:00:00.000000000",
          "2024-01-12T00:00:00.000000000",
          "2024-01-15T00:00:00.000000000",
          "2024-01-16T00:00:00.000000000",
          "2024-01-17T00:00:00.000000000",
          "2024-01-18T00:00:00.000000000",
          "2024-01-19T00:00:00.000000000",
          "2024-01-22T00:00:00.000000000",
          "2024-01-23T00:00:00.000000000",
          "2024-01-24T00:00:00.000000000",
          "2024-01-25T00:00:00.000000000",
          "2024-01-26T00:00:00.000000000",
          "2024-01-29T00:00:00.000000000",
          "2024-01-30T00:00:00.000000000",
          "2024-01-31T00:00:00.000000000",
          "2024-02-01T00:00:00.000000000",
          "2024-02-02T00:00:00.000000000",
          "2024-02-05T00:00:00.000000000",
          "2024-02-06T00:00:00.000000000",
          "2024-02-07T00:00:00.000000000",
          "2024-02-08T00:00:00.000000000",
          "2024-02-09T00:00:00.000000000",
          "2024-02-12T00:00:00.000000000",
          "2024-02-13T00:00:00.000000000",
          "2024-02-14T00:00:00.000000000",
          "2024-02-15T00:00:00.000000000",
          "2024-02-16T00:00:00.000000000",
          "2024-02-19T00:00:00.000000000",
          "2024-02-20T00:00:00.000000000",
          "2024-02-21T00:00:00.000000000",
          "2024-02-22T00:00:00.000000000",
          "2024-02-23T00:00:00.000000000",
          "2024-02-26T00:00:00.000000000",
          "2024-02-27T00:00:00.000000000",
          "2024-02-28T00:00:00.000000000",
          "2024-02-29T00:00:00.000000000",
          "2024-03-01T00:00:00.000000000",
          "2024-03-04T00:00:00.000000000",
          "2024-03-05T00:00:00.000000000",
          "2024-03-06T00:00:00.000000000",
          "2024-03-07T00:00:00.000000000",
          "2024-03-08T00:00:00.000000000",
          "2024-03-11T00:00:00.000000000",
          "2024-03-12T00:00:00.000000000",
          "2024-03-13T00:00:00.000000000",
          "2024-03-14T00:00:00.000000000",
          "2024-03-15T00:00:00.000000000",
          "2024-03-18T00:00:00.000000000",
          "2024-03-19T00:00:00.000000000",
          "2024-03-20T00:00:00.000000000",
          "2024-03-21T00:00:00.000000000",
          "2024-03-22T00:00:00.000000000",
          "2024-03-25T00:00:00.000000000",
          "2024-03-26T00:00:00.000000000",
          "2024-03-27T00:00:00.000000000",
          "2024-03-28T00:00:00.000000000",
          "2024-04-02T00:00:00.000000000",
          "2024-04-03T00:00:00.000000000",
          "2024-04-04T00:00:00.000000000",
          "2024-04-05T00:00:00.000000000",
          "2024-04-08T00:00:00.000000000",
          "2024-04-09T00:00:00.000000000",
          "2024-04-10T00:00:00.000000000",
          "2024-04-11T00:00:00.000000000",
          "2024-04-12T00:00:00.000000000",
          "2024-04-15T00:00:00.000000000",
          "2024-04-16T00:00:00.000000000",
          "2024-04-17T00:00:00.000000000",
          "2024-04-18T00:00:00.000000000",
          "2024-04-19T00:00:00.000000000",
          "2024-04-22T00:00:00.000000000",
          "2024-04-23T00:00:00.000000000",
          "2024-04-24T00:00:00.000000000",
          "2024-04-25T00:00:00.000000000",
          "2024-04-26T00:00:00.000000000",
          "2024-04-29T00:00:00.000000000",
          "2024-04-30T00:00:00.000000000",
          "2024-05-02T00:00:00.000000000",
          "2024-05-03T00:00:00.000000000",
          "2024-05-06T00:00:00.000000000",
          "2024-05-07T00:00:00.000000000",
          "2024-05-08T00:00:00.000000000",
          "2024-05-09T00:00:00.000000000",
          "2024-05-10T00:00:00.000000000",
          "2024-05-13T00:00:00.000000000",
          "2024-05-14T00:00:00.000000000",
          "2024-05-15T00:00:00.000000000",
          "2024-05-16T00:00:00.000000000",
          "2024-05-17T00:00:00.000000000",
          "2024-05-20T00:00:00.000000000",
          "2024-05-21T00:00:00.000000000",
          "2024-05-22T00:00:00.000000000",
          "2024-05-23T00:00:00.000000000",
          "2024-05-24T00:00:00.000000000",
          "2024-05-27T00:00:00.000000000",
          "2024-05-28T00:00:00.000000000",
          "2024-05-29T00:00:00.000000000",
          "2024-05-30T00:00:00.000000000",
          "2024-05-31T00:00:00.000000000",
          "2024-06-03T00:00:00.000000000",
          "2024-06-04T00:00:00.000000000",
          "2024-06-05T00:00:00.000000000",
          "2024-06-06T00:00:00.000000000",
          "2024-06-07T00:00:00.000000000",
          "2024-06-10T00:00:00.000000000",
          "2024-06-11T00:00:00.000000000",
          "2024-06-12T00:00:00.000000000",
          "2024-06-13T00:00:00.000000000",
          "2024-06-14T00:00:00.000000000",
          "2024-06-17T00:00:00.000000000",
          "2024-06-18T00:00:00.000000000",
          "2024-06-19T00:00:00.000000000",
          "2024-06-20T00:00:00.000000000",
          "2024-06-21T00:00:00.000000000",
          "2024-06-24T00:00:00.000000000",
          "2024-06-25T00:00:00.000000000",
          "2024-06-26T00:00:00.000000000",
          "2024-06-27T00:00:00.000000000",
          "2024-06-28T00:00:00.000000000",
          "2024-07-01T00:00:00.000000000",
          "2024-07-02T00:00:00.000000000",
          "2024-07-03T00:00:00.000000000",
          "2024-07-04T00:00:00.000000000",
          "2024-07-05T00:00:00.000000000",
          "2024-07-08T00:00:00.000000000",
          "2024-07-09T00:00:00.000000000",
          "2024-07-10T00:00:00.000000000",
          "2024-07-11T00:00:00.000000000",
          "2024-07-12T00:00:00.000000000",
          "2024-07-15T00:00:00.000000000",
          "2024-07-16T00:00:00.000000000",
          "2024-07-17T00:00:00.000000000",
          "2024-07-18T00:00:00.000000000",
          "2024-07-19T00:00:00.000000000",
          "2024-07-22T00:00:00.000000000",
          "2024-07-23T00:00:00.000000000",
          "2024-07-24T00:00:00.000000000",
          "2024-07-25T00:00:00.000000000",
          "2024-07-26T00:00:00.000000000",
          "2024-07-29T00:00:00.000000000",
          "2024-07-30T00:00:00.000000000",
          "2024-07-31T00:00:00.000000000",
          "2024-08-01T00:00:00.000000000",
          "2024-08-02T00:00:00.000000000",
          "2024-08-05T00:00:00.000000000",
          "2024-08-06T00:00:00.000000000",
          "2024-08-07T00:00:00.000000000",
          "2024-08-08T00:00:00.000000000",
          "2024-08-09T00:00:00.000000000",
          "2024-08-12T00:00:00.000000000",
          "2024-08-13T00:00:00.000000000",
          "2024-08-14T00:00:00.000000000",
          "2024-08-15T00:00:00.000000000",
          "2024-08-16T00:00:00.000000000",
          "2024-08-19T00:00:00.000000000",
          "2024-08-20T00:00:00.000000000",
          "2024-08-21T00:00:00.000000000",
          "2024-08-22T00:00:00.000000000",
          "2024-08-23T00:00:00.000000000",
          "2024-08-26T00:00:00.000000000",
          "2024-08-27T00:00:00.000000000",
          "2024-08-28T00:00:00.000000000",
          "2024-08-29T00:00:00.000000000",
          "2024-08-30T00:00:00.000000000",
          "2024-09-02T00:00:00.000000000",
          "2024-09-03T00:00:00.000000000",
          "2024-09-04T00:00:00.000000000",
          "2024-09-05T00:00:00.000000000",
          "2024-09-06T00:00:00.000000000",
          "2024-09-09T00:00:00.000000000",
          "2024-09-10T00:00:00.000000000",
          "2024-09-11T00:00:00.000000000",
          "2024-09-12T00:00:00.000000000",
          "2024-09-13T00:00:00.000000000",
          "2024-09-16T00:00:00.000000000",
          "2024-09-17T00:00:00.000000000",
          "2024-09-18T00:00:00.000000000",
          "2024-09-19T00:00:00.000000000",
          "2024-09-20T00:00:00.000000000",
          "2024-09-23T00:00:00.000000000",
          "2024-09-24T00:00:00.000000000",
          "2024-09-25T00:00:00.000000000",
          "2024-09-26T00:00:00.000000000",
          "2024-09-27T00:00:00.000000000",
          "2024-09-30T00:00:00.000000000",
          "2024-10-01T00:00:00.000000000",
          "2024-10-02T00:00:00.000000000",
          "2024-10-03T00:00:00.000000000",
          "2024-10-04T00:00:00.000000000",
          "2024-10-07T00:00:00.000000000",
          "2024-10-08T00:00:00.000000000",
          "2024-10-09T00:00:00.000000000",
          "2024-10-10T00:00:00.000000000",
          "2024-10-11T00:00:00.000000000",
          "2024-10-14T00:00:00.000000000",
          "2024-10-15T00:00:00.000000000",
          "2024-10-16T00:00:00.000000000",
          "2024-10-17T00:00:00.000000000",
          "2024-10-18T00:00:00.000000000",
          "2024-10-21T00:00:00.000000000",
          "2024-10-22T00:00:00.000000000",
          "2024-10-23T00:00:00.000000000",
          "2024-10-24T00:00:00.000000000",
          "2024-10-25T00:00:00.000000000",
          "2024-10-28T00:00:00.000000000",
          "2024-10-29T00:00:00.000000000",
          "2024-10-30T00:00:00.000000000",
          "2024-10-31T00:00:00.000000000",
          "2024-11-01T00:00:00.000000000",
          "2024-11-04T00:00:00.000000000",
          "2024-11-05T00:00:00.000000000",
          "2024-11-06T00:00:00.000000000",
          "2024-11-07T00:00:00.000000000",
          "2024-11-08T00:00:00.000000000",
          "2024-11-11T00:00:00.000000000",
          "2024-11-12T00:00:00.000000000",
          "2024-11-13T00:00:00.000000000",
          "2024-11-14T00:00:00.000000000",
          "2024-11-15T00:00:00.000000000",
          "2024-11-18T00:00:00.000000000",
          "2024-11-19T00:00:00.000000000",
          "2024-11-20T00:00:00.000000000",
          "2024-11-21T00:00:00.000000000",
          "2024-11-22T00:00:00.000000000",
          "2024-11-25T00:00:00.000000000",
          "2024-11-26T00:00:00.000000000",
          "2024-11-27T00:00:00.000000000",
          "2024-11-28T00:00:00.000000000",
          "2024-11-29T00:00:00.000000000",
          "2024-12-02T00:00:00.000000000",
          "2024-12-03T00:00:00.000000000",
          "2024-12-04T00:00:00.000000000",
          "2024-12-05T00:00:00.000000000",
          "2024-12-06T00:00:00.000000000",
          "2024-12-09T00:00:00.000000000",
          "2024-12-10T00:00:00.000000000",
          "2024-12-11T00:00:00.000000000",
          "2024-12-12T00:00:00.000000000",
          "2024-12-13T00:00:00.000000000",
          "2024-12-16T00:00:00.000000000",
          "2024-12-17T00:00:00.000000000",
          "2024-12-18T00:00:00.000000000",
          "2024-12-19T00:00:00.000000000",
          "2024-12-20T00:00:00.000000000",
          "2024-12-23T00:00:00.000000000",
          "2024-12-24T00:00:00.000000000",
          "2024-12-27T00:00:00.000000000",
          "2024-12-30T00:00:00.000000000",
          "2024-12-31T00:00:00.000000000",
          "2025-01-02T00:00:00.000000000",
          "2025-01-03T00:00:00.000000000",
          "2025-01-06T00:00:00.000000000",
          "2025-01-07T00:00:00.000000000",
          "2025-01-08T00:00:00.000000000",
          "2025-01-09T00:00:00.000000000",
          "2025-01-10T00:00:00.000000000",
          "2025-01-13T00:00:00.000000000",
          "2025-01-14T00:00:00.000000000",
          "2025-01-15T00:00:00.000000000",
          "2025-01-16T00:00:00.000000000",
          "2025-01-17T00:00:00.000000000",
          "2025-01-20T00:00:00.000000000",
          "2025-01-21T00:00:00.000000000",
          "2025-01-22T00:00:00.000000000",
          "2025-01-23T00:00:00.000000000",
          "2025-01-24T00:00:00.000000000",
          "2025-01-27T00:00:00.000000000",
          "2025-01-28T00:00:00.000000000",
          "2025-01-29T00:00:00.000000000",
          "2025-01-30T00:00:00.000000000",
          "2025-01-31T00:00:00.000000000",
          "2025-02-03T00:00:00.000000000",
          "2025-02-04T00:00:00.000000000",
          "2025-02-05T00:00:00.000000000",
          "2025-02-06T00:00:00.000000000",
          "2025-02-07T00:00:00.000000000",
          "2025-02-10T00:00:00.000000000",
          "2025-02-11T00:00:00.000000000",
          "2025-02-12T00:00:00.000000000",
          "2025-02-13T00:00:00.000000000",
          "2025-02-14T00:00:00.000000000",
          "2025-02-17T00:00:00.000000000",
          "2025-02-18T00:00:00.000000000",
          "2025-02-19T00:00:00.000000000",
          "2025-02-20T00:00:00.000000000",
          "2025-02-21T00:00:00.000000000",
          "2025-02-24T00:00:00.000000000",
          "2025-02-25T00:00:00.000000000",
          "2025-02-26T00:00:00.000000000",
          "2025-02-27T00:00:00.000000000",
          "2025-02-28T00:00:00.000000000",
          "2025-03-03T00:00:00.000000000",
          "2025-03-04T00:00:00.000000000",
          "2025-03-05T00:00:00.000000000",
          "2025-03-06T00:00:00.000000000",
          "2025-03-07T00:00:00.000000000",
          "2025-03-10T00:00:00.000000000",
          "2025-03-11T00:00:00.000000000",
          "2025-03-12T00:00:00.000000000",
          "2025-03-13T00:00:00.000000000",
          "2025-03-14T00:00:00.000000000",
          "2025-03-17T00:00:00.000000000",
          "2025-03-18T00:00:00.000000000",
          "2025-03-19T00:00:00.000000000",
          "2025-03-20T00:00:00.000000000",
          "2025-03-21T00:00:00.000000000",
          "2025-03-24T00:00:00.000000000",
          "2025-03-25T00:00:00.000000000",
          "2025-03-26T00:00:00.000000000",
          "2025-03-27T00:00:00.000000000",
          "2025-03-28T00:00:00.000000000",
          "2025-03-31T00:00:00.000000000",
          "2025-04-01T00:00:00.000000000",
          "2025-04-02T00:00:00.000000000",
          "2025-04-03T00:00:00.000000000",
          "2025-04-04T00:00:00.000000000",
          "2025-04-07T00:00:00.000000000",
          "2025-04-08T00:00:00.000000000",
          "2025-04-09T00:00:00.000000000",
          "2025-04-10T00:00:00.000000000",
          "2025-04-11T00:00:00.000000000",
          "2025-04-14T00:00:00.000000000",
          "2025-04-15T00:00:00.000000000",
          "2025-04-16T00:00:00.000000000",
          "2025-04-17T00:00:00.000000000"
         ],
         "xaxis": "x2",
         "y": {
          "bdata": "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",
          "dtype": "i4"
         },
         "yaxis": "y2"
        }
       ],
       "layout": {
        "height": 800,
        "showlegend": false,
        "template": {
         "data": {
          "bar": [
           {
            "error_x": {
             "color": "#2a3f5f"
            },
            "error_y": {
             "color": "#2a3f5f"
            },
            "marker": {
             "line": {
              "color": "#E5ECF6",
              "width": 0.5
             },
             "pattern": {
              "fillmode": "overlay",
              "size": 10,
              "solidity": 0.2
             }
            },
            "type": "bar"
           }
          ],
          "barpolar": [
           {
            "marker": {
             "line": {
              "color": "#E5ECF6",
              "width": 0.5
             },
             "pattern": {
              "fillmode": "overlay",
              "size": 10,
              "solidity": 0.2
             }
            },
            "type": "barpolar"
           }
          ],
          "carpet": [
           {
            "aaxis": {
             "endlinecolor": "#2a3f5f",
             "gridcolor": "white",
             "linecolor": "white",
             "minorgridcolor": "white",
             "startlinecolor": "#2a3f5f"
            },
            "baxis": {
             "endlinecolor": "#2a3f5f",
             "gridcolor": "white",
             "linecolor": "white",
             "minorgridcolor": "white",
             "startlinecolor": "#2a3f5f"
            },
            "type": "carpet"
           }
          ],
          "choropleth": [
           {
            "colorbar": {
             "outlinewidth": 0,
             "ticks": ""
            },
            "type": "choropleth"
           }
          ],
          "contour": [
           {
            "colorbar": {
             "outlinewidth": 0,
             "ticks": ""
            },
            "colorscale": [
             [
              0,
              "#0d0887"
             ],
             [
              0.1111111111111111,
              "#46039f"
             ],
             [
              0.2222222222222222,
              "#7201a8"
             ],
             [
              0.3333333333333333,
              "#9c179e"
             ],
             [
              0.4444444444444444,
              "#bd3786"
             ],
             [
              0.5555555555555556,
              "#d8576b"
             ],
             [
              0.6666666666666666,
              "#ed7953"
             ],
             [
              0.7777777777777778,
              "#fb9f3a"
             ],
             [
              0.8888888888888888,
              "#fdca26"
             ],
             [
              1,
              "#f0f921"
             ]
            ],
            "type": "contour"
           }
          ],
          "contourcarpet": [
           {
            "colorbar": {
             "outlinewidth": 0,
             "ticks": ""
            },
            "type": "contourcarpet"
           }
          ],
          "heatmap": [
           {
            "colorbar": {
             "outlinewidth": 0,
             "ticks": ""
            },
            "colorscale": [
             [
              0,
              "#0d0887"
             ],
             [
              0.1111111111111111,
              "#46039f"
             ],
             [
              0.2222222222222222,
              "#7201a8"
             ],
             [
              0.3333333333333333,
              "#9c179e"
             ],
             [
              0.4444444444444444,
              "#bd3786"
             ],
             [
              0.5555555555555556,
              "#d8576b"
             ],
             [
              0.6666666666666666,
              "#ed7953"
             ],
             [
              0.7777777777777778,
              "#fb9f3a"
             ],
             [
              0.8888888888888888,
              "#fdca26"
             ],
             [
              1,
              "#f0f921"
             ]
            ],
            "type": "heatmap"
           }
          ],
          "histogram": [
           {
            "marker": {
             "pattern": {
              "fillmode": "overlay",
              "size": 10,
              "solidity": 0.2
             }
            },
            "type": "histogram"
           }
          ],
          "histogram2d": [
           {
            "colorbar": {
             "outlinewidth": 0,
             "ticks": ""
            },
            "colorscale": [
             [
              0,
              "#0d0887"
             ],
             [
              0.1111111111111111,
              "#46039f"
             ],
             [
              0.2222222222222222,
              "#7201a8"
             ],
             [
              0.3333333333333333,
              "#9c179e"
             ],
             [
              0.4444444444444444,
              "#bd3786"
             ],
             [
              0.5555555555555556,
              "#d8576b"
             ],
             [
              0.6666666666666666,
              "#ed7953"
             ],
             [
              0.7777777777777778,
              "#fb9f3a"
             ],
             [
              0.8888888888888888,
              "#fdca26"
             ],
             [
              1,
              "#f0f921"
             ]
            ],
            "type": "histogram2d"
           }
          ],
          "histogram2dcontour": [
           {
            "colorbar": {
             "outlinewidth": 0,
             "ticks": ""
            },
            "colorscale": [
             [
              0,
              "#0d0887"
             ],
             [
              0.1111111111111111,
              "#46039f"
             ],
             [
              0.2222222222222222,
              "#7201a8"
             ],
             [
              0.3333333333333333,
              "#9c179e"
             ],
             [
              0.4444444444444444,
              "#bd3786"
             ],
             [
              0.5555555555555556,
              "#d8576b"
             ],
             [
              0.6666666666666666,
              "#ed7953"
             ],
             [
              0.7777777777777778,
              "#fb9f3a"
             ],
             [
              0.8888888888888888,
              "#fdca26"
             ],
             [
              1,
              "#f0f921"
             ]
            ],
            "type": "histogram2dcontour"
           }
          ],
          "mesh3d": [
           {
            "colorbar": {
             "outlinewidth": 0,
             "ticks": ""
            },
            "type": "mesh3d"
           }
          ],
          "parcoords": [
           {
            "line": {
             "colorbar": {
              "outlinewidth": 0,
              "ticks": ""
             }
            },
            "type": "parcoords"
           }
          ],
          "pie": [
           {
            "automargin": true,
            "type": "pie"
           }
          ],
          "scatter": [
           {
            "fillpattern": {
             "fillmode": "overlay",
             "size": 10,
             "solidity": 0.2
            },
            "type": "scatter"
           }
          ],
          "scatter3d": [
           {
            "line": {
             "colorbar": {
              "outlinewidth": 0,
              "ticks": ""
             }
            },
            "marker": {
             "colorbar": {
              "outlinewidth": 0,
              "ticks": ""
             }
            },
            "type": "scatter3d"
           }
          ],
          "scattercarpet": [
           {
            "marker": {
             "colorbar": {
              "outlinewidth": 0,
              "ticks": ""
             }
            },
            "type": "scattercarpet"
           }
          ],
          "scattergeo": [
           {
            "marker": {
             "colorbar": {
              "outlinewidth": 0,
              "ticks": ""
             }
            },
            "type": "scattergeo"
           }
          ],
          "scattergl": [
           {
            "marker": {
             "colorbar": {
              "outlinewidth": 0,
              "ticks": ""
             }
            },
            "type": "scattergl"
           }
          ],
          "scattermap": [
           {
            "marker": {
             "colorbar": {
              "outlinewidth": 0,
              "ticks": ""
             }
            },
            "type": "scattermap"
           }
          ],
          "scattermapbox": [
           {
            "marker": {
             "colorbar": {
              "outlinewidth": 0,
              "ticks": ""
             }
            },
            "type": "scattermapbox"
           }
          ],
          "scatterpolar": [
           {
            "marker": {
             "colorbar": {
              "outlinewidth": 0,
              "ticks": ""
             }
            },
            "type": "scatterpolar"
           }
          ],
          "scatterpolargl": [
           {
            "marker": {
             "colorbar": {
              "outlinewidth": 0,
              "ticks": ""
             }
            },
            "type": "scatterpolargl"
           }
          ],
          "scatterternary": [
           {
            "marker": {
             "colorbar": {
              "outlinewidth": 0,
              "ticks": ""
             }
            },
            "type": "scatterternary"
           }
          ],
          "surface": [
           {
            "colorbar": {
             "outlinewidth": 0,
             "ticks": ""
            },
            "colorscale": [
             [
              0,
              "#0d0887"
             ],
             [
              0.1111111111111111,
              "#46039f"
             ],
             [
              0.2222222222222222,
              "#7201a8"
             ],
             [
              0.3333333333333333,
              "#9c179e"
             ],
             [
              0.4444444444444444,
              "#bd3786"
             ],
             [
              0.5555555555555556,
              "#d8576b"
             ],
             [
              0.6666666666666666,
              "#ed7953"
             ],
             [
              0.7777777777777778,
              "#fb9f3a"
             ],
             [
              0.8888888888888888,
              "#fdca26"
             ],
             [
              1,
              "#f0f921"
             ]
            ],
            "type": "surface"
           }
          ],
          "table": [
           {
            "cells": {
             "fill": {
              "color": "#EBF0F8"
             },
             "line": {
              "color": "white"
             }
            },
            "header": {
             "fill": {
              "color": "#C8D4E3"
             },
             "line": {
              "color": "white"
             }
            },
            "type": "table"
           }
          ]
         },
         "layout": {
          "annotationdefaults": {
           "arrowcolor": "#2a3f5f",
           "arrowhead": 0,
           "arrowwidth": 1
          },
          "autotypenumbers": "strict",
          "coloraxis": {
           "colorbar": {
            "outlinewidth": 0,
            "ticks": ""
           }
          },
          "colorscale": {
           "diverging": [
            [
             0,
             "#8e0152"
            ],
            [
             0.1,
             "#c51b7d"
            ],
            [
             0.2,
             "#de77ae"
            ],
            [
             0.3,
             "#f1b6da"
            ],
            [
             0.4,
             "#fde0ef"
            ],
            [
             0.5,
             "#f7f7f7"
            ],
            [
             0.6,
             "#e6f5d0"
            ],
            [
             0.7,
             "#b8e186"
            ],
            [
             0.8,
             "#7fbc41"
            ],
            [
             0.9,
             "#4d9221"
            ],
            [
             1,
             "#276419"
            ]
           ],
           "sequential": [
            [
             0,
             "#0d0887"
            ],
            [
             0.1111111111111111,
             "#46039f"
            ],
            [
             0.2222222222222222,
             "#7201a8"
            ],
            [
             0.3333333333333333,
             "#9c179e"
            ],
            [
             0.4444444444444444,
             "#bd3786"
            ],
            [
             0.5555555555555556,
             "#d8576b"
            ],
            [
             0.6666666666666666,
             "#ed7953"
            ],
            [
             0.7777777777777778,
             "#fb9f3a"
            ],
            [
             0.8888888888888888,
             "#fdca26"
            ],
            [
             1,
             "#f0f921"
            ]
           ],
           "sequentialminus": [
            [
             0,
             "#0d0887"
            ],
            [
             0.1111111111111111,
             "#46039f"
            ],
            [
             0.2222222222222222,
             "#7201a8"
            ],
            [
             0.3333333333333333,
             "#9c179e"
            ],
            [
             0.4444444444444444,
             "#bd3786"
            ],
            [
             0.5555555555555556,
             "#d8576b"
            ],
            [
             0.6666666666666666,
             "#ed7953"
            ],
            [
             0.7777777777777778,
             "#fb9f3a"
            ],
            [
             0.8888888888888888,
             "#fdca26"
            ],
            [
             1,
             "#f0f921"
            ]
           ]
          },
          "colorway": [
           "#636efa",
           "#EF553B",
           "#00cc96",
           "#ab63fa",
           "#FFA15A",
           "#19d3f3",
           "#FF6692",
           "#B6E880",
           "#FF97FF",
           "#FECB52"
          ],
          "font": {
           "color": "#2a3f5f"
          },
          "geo": {
           "bgcolor": "white",
           "lakecolor": "white",
           "landcolor": "#E5ECF6",
           "showlakes": true,
           "showland": true,
           "subunitcolor": "white"
          },
          "hoverlabel": {
           "align": "left"
          },
          "hovermode": "closest",
          "mapbox": {
           "style": "light"
          },
          "paper_bgcolor": "white",
          "plot_bgcolor": "#E5ECF6",
          "polar": {
           "angularaxis": {
            "gridcolor": "white",
            "linecolor": "white",
            "ticks": ""
           },
           "bgcolor": "#E5ECF6",
           "radialaxis": {
            "gridcolor": "white",
            "linecolor": "white",
            "ticks": ""
           }
          },
          "scene": {
           "xaxis": {
            "backgroundcolor": "#E5ECF6",
            "gridcolor": "white",
            "gridwidth": 2,
            "linecolor": "white",
            "showbackground": true,
            "ticks": "",
            "zerolinecolor": "white"
           },
           "yaxis": {
            "backgroundcolor": "#E5ECF6",
            "gridcolor": "white",
            "gridwidth": 2,
            "linecolor": "white",
            "showbackground": true,
            "ticks": "",
            "zerolinecolor": "white"
           },
           "zaxis": {
            "backgroundcolor": "#E5ECF6",
            "gridcolor": "white",
            "gridwidth": 2,
            "linecolor": "white",
            "showbackground": true,
            "ticks": "",
            "zerolinecolor": "white"
           }
          },
          "shapedefaults": {
           "line": {
            "color": "#2a3f5f"
           }
          },
          "ternary": {
           "aaxis": {
            "gridcolor": "white",
            "linecolor": "white",
            "ticks": ""
           },
           "baxis": {
            "gridcolor": "white",
            "linecolor": "white",
            "ticks": ""
           },
           "bgcolor": "#E5ECF6",
           "caxis": {
            "gridcolor": "white",
            "linecolor": "white",
            "ticks": ""
           }
          },
          "title": {
           "x": 0.05
          },
          "xaxis": {
           "automargin": true,
           "gridcolor": "white",
           "linecolor": "white",
           "ticks": "",
           "title": {
            "standoff": 15
           },
           "zerolinecolor": "white",
           "zerolinewidth": 2
          },
          "yaxis": {
           "automargin": true,
           "gridcolor": "white",
           "linecolor": "white",
           "ticks": "",
           "title": {
            "standoff": 15
           },
           "zerolinecolor": "white",
           "zerolinewidth": 2
          }
         }
        },
        "title": {
         "text": "HLZ.MC"
        },
        "width": 1300,
        "xaxis": {
         "anchor": "y",
         "domain": [
          0,
          1
         ],
         "matches": "x2",
         "showticklabels": false
        },
        "xaxis2": {
         "anchor": "y2",
         "domain": [
          0,
          1
         ]
        },
        "yaxis": {
         "anchor": "x",
         "domain": [
          0.2525,
          1
         ],
         "title": {
          "text": "Price"
         }
        },
        "yaxis2": {
         "anchor": "x2",
         "domain": [
          0,
          0.2425
         ],
         "title": {
          "text": "Volume"
         }
        }
       }
      },
      "text/html": [
       "<div>            <script src=\"https://cdnjs.cloudflare.com/ajax/libs/mathjax/2.7.5/MathJax.js?config=TeX-AMS-MML_SVG\"></script><script type=\"text/javascript\">if (window.MathJax && window.MathJax.Hub && window.MathJax.Hub.Config) {window.MathJax.Hub.Config({SVG: {font: \"STIX-Web\"}});}</script>                <script type=\"text/javascript\">window.PlotlyConfig = {MathJaxConfig: 'local'};</script>\n",
       "        <script charset=\"utf-8\" src=\"https://cdn.plot.ly/plotly-3.0.0.min.js\"></script>                <div id=\"1e072fd8-2418-4b61-882a-4ec37e7b4b85\" class=\"plotly-graph-div\" style=\"height:800px; width:1300px;\"></div>            <script type=\"text/javascript\">                window.PLOTLYENV=window.PLOTLYENV || {};                                if (document.getElementById(\"1e072fd8-2418-4b61-882a-4ec37e7b4b85\")) {                    Plotly.newPlot(                        \"1e072fd8-2418-4b61-882a-4ec37e7b4b85\",                        [{\"mode\":\"lines\",\"name\":\"HLZ.MC\",\"x\":[\"2020-07-30T00:00:00.000000000\",\"2020-07-31T00:00:00.000000000\",\"2020-08-03T00:00:00.000000000\",\"2020-08-04T00:00:00.000000000\",\"2020-08-05T00:00:00.000000000\",\"2020-08-06T00:00:00.000000000\",\"2020-08-07T00:00:00.000000000\",\"2020-08-10T00:00:00.000000000\",\"2020-08-11T00:00:00.000000000\",\"2020-08-12T00:00:00.000000000\",\"2020-08-13T00:00:00.000000000\",\"2020-08-14T00:00:00.000000000\",\"2020-08-17T00:00:00.000000000\",\"2020-08-18T00:00:00.000000000\",\"2020-08-19T00:00:00.000000000\",\"2020-08-20T00:00:00.000000000\",\"2020-08-21T00:00:00.000000000\",\"2020-08-24T00:00:00.000000000\",\"2020-08-25T00:00:00.000000000\",\"2020-08-26T00:00:00.000000000\",\"2020-08-27T00:00:00.000000000\",\"2020-08-28T00:00:00.000000000\",\"2020-08-31T00:00:00.000000000\",\"2020-09-01T00:00:00.000000000\",\"2020-09-02T00:00:00.000000000\",\"2020-09-03T00:00:00.000000000\",\"2020-09-04T00:00:00.000000000\",\"2020-09-07T00:00:00.000000000\",\"2020-09-08T00:00:00.000000000\",\"2020-09-09T00:00:00.000000000\",\"2020-09-10T00:00:00.000000000\",\"2020-09-11T00:00:00.000000000\",\"2020-09-14T00:00:00.000000000\",\"2020-09-15T00:00:00.000000000\",\"2020-09-16T00:00:00.000000000\",\"2020-09-17T00:00:00.000000000\",\"2020-09-18T00:00:00.000000000\",\"2020-09-21T00:00:00.000000000\",\"2020-09-22T00:00:00.000000000\",\"2020-09-23T00:00:00.000000000\",\"2020-09-24T00:00:00.000000000\",\"2020-09-25T00:00:00.000000000\",\"2020-09-28T00:00:00.000000000\",\"2020-09-29T00:00:00.000000000\",\"2020-09-30T00:00:00.000000000\",\"2020-10-01T00:00:00.000000000\",\"2020-10-02T00:00:00.000000000\",\"2020-10-05T00:00:00.000000000\",\"2020-10-06T00:00:00.000000000\",\"2020-10-07T00:00:00.000000000\",\"2020-10-08T00:00:00.000000000\",\"2020-10-09T00:00:00.000000000\",\"2020-10-12T00:00:00.000000000\",\"2020-10-13T00:00:00.000000000\",\"2020-10-14T00:00:00.000000000\",\"2020-10-15T00:00:00.000000000\",\"2020-10-16T00:00:00.000000000\",\"2020-10-19T00:00:00.000000000\",\"2020-10-20T00:00:00.000000000\",\"2020-10-21T00:00:00.000000000\",\"2020-10-22T00:00:00.000000000\",\"2020-10-23T00:00:00.000000000\",\"2020-10-26T00:00:00.000000000\",\"2020-10-27T00:00:00.000000000\",\"2020-10-28T00:00:00.000000000\",\"2020-10-29T00:00:00.000000000\",\"2020-10-30T00:00:00.000000000\",\"2020-11-02T00:00:00.000000000\",\"2020-11-03T00:00:00.000000000\",\"2020-11-04T00:00:00.000000000\",\"2020-11-05T00:00:00.000000000\",\"2020-11-06T00:00:00.000000000\",\"2020-11-09T00:00:00.000000000\",\"2020-11-10T00:00:00.000000000\",\"2020-11-11T00:00:00.000000000\",\"2020-11-12T00:00:00.000000000\",\"2020-11-13T00:00:00.000000000\",\"2020-11-16T00:00:00.000000000\",\"2020-11-17T00:00:00.000000000\",\"2020-11-18T00:00:00.000000000\",\"2020-11-19T00:00:00.000000000\",\"2020-11-20T00:00:00.000000000\",\"2020-11-23T00:00:00.000000000\",\"2020-11-24T00:00:00.000000000\",\"2020-11-25T00:00:00.000000000\",\"2020-11-26T00:00:00.000000000\",\"2020-11-27T00:00:00.000000000\",\"2020-11-30T00:00:00.000000000\",\"2020-12-01T00:00:00.000000000\",\"2020-12-02T00:00:00.000000000\",\"2020-12-03T00:00:00.000000000\",\"2020-12-04T00:00:00.000000000\",\"2020-12-07T00:00:00.000000000\",\"2020-12-08T00:00:00.000000000\",\"2020-12-09T00:00:00.000000000\",\"2020-12-10T00:00:00.000000000\",\"2020-12-11T00:00:00.000000000\",\"2020-12-14T00:00:00.000000000\",\"2020-12-15T00:00:00.000000000\",\"2020-12-16T00:00:00.000000000\",\"2020-12-17T00:00:00.000000000\",\"2020-12-18T00:00:00.000000000\",\"2020-12-21T00:00:00.000000000\",\"2020-12-22T00:00:00.000000000\",\"2020-12-23T00:00:00.000000000\",\"2020-12-24T00:00:00.000000000\",\"2020-12-28T00:00:00.000000000\",\"2020-12-29T00:00:00.000000000\",\"2020-12-30T00:00:00.000000000\",\"2020-12-31T00:00:00.000000000\",\"2021-01-04T00:00:00.000000000\",\"2021-01-05T00:00:00.000000000\",\"2021-01-06T00:00:00.000000000\",\"2021-01-07T00:00:00.000000000\",\"2021-01-08T00:00:00.000000000\",\"2021-01-11T00:00:00.000000000\",\"2021-01-12T00:00:00.000000000\",\"2021-01-13T00:00:00.000000000\",\"2021-01-14T00:00:00.000000000\",\"2021-01-15T00:00:00.000000000\",\"2021-01-18T00:00:00.000000000\",\"2021-01-19T00:00:00.000000000\",\"2021-01-20T00:00:00.000000000\",\"2021-01-21T00:00:00.000000000\",\"2021-01-22T00:00:00.000000000\",\"2021-01-25T00:00:00.000000000\",\"2021-01-26T00:00:00.000000000\",\"2021-01-27T00:00:00.000000000\",\"2021-01-28T00:00:00.000000000\",\"2021-01-29T00:00:00.000000000\",\"2021-02-01T00:00:00.000000000\",\"2021-02-02T00:00:00.000000000\",\"2021-02-03T00:00:00.000000000\",\"2021-02-04T00:00:00.000000000\",\"2021-02-05T00:00:00.000000000\",\"2021-02-08T00:00:00.000000000\",\"2021-02-09T00:00:00.000000000\",\"2021-02-10T00:00:00.000000000\",\"2021-02-11T00:00:00.000000000\",\"2021-02-12T00:00:00.000000000\",\"2021-02-15T00:00:00.000000000\",\"2021-02-16T00:00:00.000000000\",\"2021-02-17T00:00:00.000000000\",\"2021-02-18T00:00:00.000000000\",\"2021-02-19T00:00:00.000000000\",\"2021-02-22T00:00:00.000000000\",\"2021-02-23T00:00:00.000000000\",\"2021-02-24T00:00:00.000000000\",\"2021-02-25T00:00:00.000000000\",\"2021-02-26T00:00:00.000000000\",\"2021-03-01T00:00:00.000000000\",\"2021-03-02T00:00:00.000000000\",\"2021-03-03T00:00:00.000000000\",\"2021-03-04T00:00:00.000000000\",\"2021-03-05T00:00:00.000000000\",\"2021-03-08T00:00:00.000000000\",\"2021-03-09T00:00:00.000000000\",\"2021-03-10T00:00:00.000000000\",\"2021-03-11T00:00:00.000000000\",\"2021-03-12T00:00:00.000000000\",\"2021-03-15T00:00:00.000000000\",\"2021-03-16T00:00:00.000000000\",\"2021-03-17T00:00:00.000000000\",\"2021-03-18T00:00:00.000000000\",\"2021-03-19T00:00:00.000000000\",\"2021-03-22T00:00:00.000000000\",\"2021-03-23T00:00:00.000000000\",\"2021-03-24T00:00:00.000000000\",\"2021-03-25T00:00:00.000000000\",\"2021-03-26T00:00:00.000000000\",\"2021-03-29T00:00:00.000000000\",\"2021-03-30T00:00:00.000000000\",\"2021-03-31T00:00:00.000000000\",\"2021-04-01T00:00:00.000000000\",\"2021-04-06T00:00:00.000000000\",\"2021-04-07T00:00:00.000000000\",\"2021-04-08T00:00:00.000000000\",\"2021-04-09T00:00:00.000000000\",\"2021-04-12T00:00:00.000000000\",\"2021-04-13T00:00:00.000000000\",\"2021-04-14T00:00:00.000000000\",\"2021-04-15T00:00:00.000000000\",\"2021-04-16T00:00:00.000000000\",\"2021-04-19T00:00:00.000000000\",\"2021-04-20T00:00:00.000000000\",\"2021-04-21T00:00:00.000000000\",\"2021-04-22T00:00:00.000000000\",\"2021-04-23T00:00:00.000000000\",\"2021-04-26T00:00:00.000000000\",\"2021-04-27T00:00:00.000000000\",\"2021-04-28T00:00:00.000000000\",\"2021-04-29T00:00:00.000000000\",\"2021-04-30T00:00:00.000000000\",\"2021-05-03T00:00:00.000000000\",\"2021-05-04T00:00:00.000000000\",\"2021-05-05T00:00:00.000000000\",\"2021-05-06T00:00:00.000000000\",\"2021-05-07T00:00:00.000000000\",\"2021-05-10T00:00:00.000000000\",\"2021-05-11T00:00:00.000000000\",\"2021-05-12T00:00:00.000000000\",\"2021-05-13T00:00:00.000000000\",\"2021-05-14T00:00:00.000000000\",\"2021-05-17T00:00:00.000000000\",\"2021-05-18T00:00:00.000000000\",\"2021-05-19T00:00:00.000000000\",\"2021-05-20T00:00:00.000000000\",\"2021-05-21T00:00:00.000000000\",\"2021-05-24T00:00:00.000000000\",\"2021-05-25T00:00:00.000000000\",\"2021-05-26T00:00:00.000000000\",\"2021-05-27T00:00:00.000000000\",\"2021-05-28T00:00:00.000000000\",\"2021-05-31T00:00:00.000000000\",\"2021-06-01T00:00:00.000000000\",\"2021-06-02T00:00:00.000000000\",\"2021-06-03T00:00:00.000000000\",\"2021-06-04T00:00:00.000000000\",\"2021-06-07T00:00:00.000000000\",\"2021-06-08T00:00:00.000000000\",\"2021-06-09T00:00:00.000000000\",\"2021-06-10T00:00:00.000000000\",\"2021-06-11T00:00:00.000000000\",\"2021-06-14T00:00:00.000000000\",\"2021-06-15T00:00:00.000000000\",\"2021-06-16T00:00:00.000000000\",\"2021-06-17T00:00:00.000000000\",\"2021-06-18T00:00:00.000000000\",\"2021-06-21T00:00:00.000000000\",\"2021-06-22T00:00:00.000000000\",\"2021-06-23T00:00:00.000000000\",\"2021-06-24T00:00:00.000000000\",\"2021-06-25T00:00:00.000000000\",\"2021-06-28T00:00:00.000000000\",\"2021-06-29T00:00:00.000000000\",\"2021-06-30T00:00:00.000000000\",\"2021-07-01T00:00:00.000000000\",\"2021-07-02T00:00:00.000000000\",\"2021-07-05T00:00:00.000000000\",\"2021-07-06T00:00:00.000000000\",\"2021-07-07T00:00:00.000000000\",\"2021-07-08T00:00:00.000000000\",\"2021-07-09T00:00:00.000000000\",\"2021-07-12T00:00:00.000000000\",\"2021-07-13T00:00:00.000000000\",\"2021-07-14T00:00:00.000000000\",\"2021-07-15T00:00:00.000000000\",\"2021-07-16T00:00:00.000000000\",\"2021-07-19T00:00:00.000000000\",\"2021-07-20T00:00:00.000000000\",\"2021-07-21T00:00:00.000000000\",\"2021-07-22T00:00:00.000000000\",\"2021-07-23T00:00:00.000000000\",\"2021-07-26T00:00:00.000000000\",\"2021-07-27T00:00:00.000000000\",\"2021-07-28T00:00:00.000000000\",\"2021-07-29T00:00:00.000000000\",\"2021-07-30T00:00:00.000000000\",\"2021-08-02T00:00:00.000000000\",\"2021-08-03T00:00:00.000000000\",\"2021-08-04T00:00:00.000000000\",\"2021-08-05T00:00:00.000000000\",\"2021-08-06T00:00:00.000000000\",\"2021-08-09T00:00:00.000000000\",\"2021-08-10T00:00:00.000000000\",\"2021-08-11T00:00:00.000000000\",\"2021-08-12T00:00:00.000000000\",\"2021-08-13T00:00:00.000000000\",\"2021-08-16T00:00:00.000000000\",\"2021-08-17T00:00:00.000000000\",\"2021-08-18T00:00:00.000000000\",\"2021-08-19T00:00:00.000000000\",\"2021-08-20T00:00:00.000000000\",\"2021-08-23T00:00:00.000000000\",\"2021-08-24T00:00:00.000000000\",\"2021-08-25T00:00:00.000000000\",\"2021-08-26T00:00:00.000000000\",\"2021-08-27T00:00:00.000000000\",\"2021-08-30T00:00:00.000000000\",\"2021-08-31T00:00:00.000000000\",\"2021-09-01T00:00:00.000000000\",\"2021-09-02T00:00:00.000000000\",\"2021-09-03T00:00:00.000000000\",\"2021-09-06T00:00:00.000000000\",\"2021-09-07T00:00:00.000000000\",\"2021-09-08T00:00:00.000000000\",\"2021-09-09T00:00:00.000000000\",\"2021-09-10T00:00:00.000000000\",\"2021-09-13T00:00:00.000000000\",\"2021-09-14T00:00:00.000000000\",\"2021-09-15T00:00:00.000000000\",\"2021-09-16T00:00:00.000000000\",\"2021-09-17T00:00:00.000000000\",\"2021-09-20T00:00:00.000000000\",\"2021-09-21T00:00:00.000000000\",\"2021-09-22T00:00:00.000000000\",\"2021-09-23T00:00:00.000000000\",\"2021-09-24T00:00:00.000000000\",\"2021-09-27T00:00:00.000000000\",\"2021-09-28T00:00:00.000000000\",\"2021-09-29T00:00:00.000000000\",\"2021-09-30T00:00:00.000000000\",\"2021-10-01T00:00:00.000000000\",\"2021-10-04T00:00:00.000000000\",\"2021-10-05T00:00:00.000000000\",\"2021-10-06T00:00:00.000000000\",\"2021-10-07T00:00:00.000000000\",\"2021-10-08T00:00:00.000000000\",\"2021-10-11T00:00:00.000000000\",\"2021-10-12T00:00:00.000000000\",\"2021-10-13T00:00:00.000000000\",\"2021-10-14T00:00:00.000000000\",\"2021-10-15T00:00:00.000000000\",\"2021-10-18T00:00:00.000000000\",\"2021-10-19T00:00:00.000000000\",\"2021-10-20T00:00:00.000000000\",\"2021-10-21T00:00:00.000000000\",\"2021-10-22T00:00:00.000000000\",\"2021-10-25T00:00:00.000000000\",\"2021-10-26T00:00:00.000000000\",\"2021-10-27T00:00:00.000000000\",\"2021-10-28T00:00:00.000000000\",\"2021-10-29T00:00:00.000000000\",\"2021-11-01T00:00:00.000000000\",\"2021-11-02T00:00:00.000000000\",\"2021-11-03T00:00:00.000000000\",\"2021-11-04T00:00:00.000000000\",\"2021-11-05T00:00:00.000000000\",\"2021-11-08T00:00:00.000000000\",\"2021-11-09T00:00:00.000000000\",\"2021-11-10T00:00:00.000000000\",\"2021-11-11T00:00:00.000000000\",\"2021-11-12T00:00:00.000000000\",\"2021-11-15T00:00:00.000000000\",\"2021-11-16T00:00:00.000000000\",\"2021-11-17T00:00:00.000000000\",\"2021-11-18T00:00:00.000000000\",\"2021-11-19T00:00:00.000000000\",\"2021-11-22T00:00:00.000000000\",\"2021-11-23T00:00:00.000000000\",\"2021-11-24T00:00:00.000000000\",\"2021-11-25T00:00:00.000000000\",\"2021-11-26T00:00:00.000000000\",\"2021-11-29T00:00:00.000000000\",\"2021-11-30T00:00:00.000000000\",\"2021-12-01T00:00:00.000000000\",\"2021-12-02T00:00:00.000000000\",\"2021-12-03T00:00:00.000000000\",\"2021-12-06T00:00:00.000000000\",\"2021-12-07T00:00:00.000000000\",\"2021-12-08T00:00:00.000000000\",\"2021-12-09T00:00:00.000000000\",\"2021-12-10T00:00:00.000000000\",\"2021-12-13T00:00:00.000000000\",\"2021-12-14T00:00:00.000000000\",\"2021-12-15T00:00:00.000000000\",\"2021-12-16T00:00:00.000000000\",\"2021-12-17T00:00:00.000000000\",\"2021-12-20T00:00:00.000000000\",\"2021-12-21T00:00:00.000000000\",\"2021-12-22T00:00:00.000000000\",\"2021-12-23T00:00:00.000000000\",\"2021-12-27T00:00:00.000000000\",\"2021-12-28T00:00:00.000000000\",\"2021-12-29T00:00:00.000000000\",\"2021-12-30T00:00:00.000000000\",\"2022-01-03T00:00:00.000000000\",\"2022-01-04T00:00:00.000000000\",\"2022-01-05T00:00:00.000000000\",\"2022-01-06T00:00:00.000000000\",\"2022-01-07T00:00:00.000000000\",\"2022-01-10T00:00:00.000000000\",\"2022-01-11T00:00:00.000000000\",\"2022-01-12T00:00:00.000000000\",\"2022-01-13T00:00:00.000000000\",\"2022-01-14T00:00:00.000000000\",\"2022-01-17T00:00:00.000000000\",\"2022-01-18T00:00:00.000000000\",\"2022-01-19T00:00:00.000000000\",\"2022-01-20T00:00:00.000000000\",\"2022-01-21T00:00:00.000000000\",\"2022-01-24T00:00:00.000000000\",\"2022-01-25T00:00:00.000000000\",\"2022-01-26T00:00:00.000000000\",\"2022-01-27T00:00:00.000000000\",\"2022-01-28T00:00:00.000000000\",\"2022-01-31T00:00:00.000000000\",\"2022-02-01T00:00:00.000000000\",\"2022-02-02T00:00:00.000000000\",\"2022-02-03T00:00:00.000000000\",\"2022-02-04T00:00:00.000000000\",\"2022-02-07T00:00:00.000000000\",\"2022-02-08T00:00:00.000000000\",\"2022-02-09T00:00:00.000000000\",\"2022-02-10T00:00:00.000000000\",\"2022-02-11T00:00:00.000000000\",\"2022-02-14T00:00:00.000000000\",\"2022-02-15T00:00:00.000000000\",\"2022-02-16T00:00:00.000000000\",\"2022-02-17T00:00:00.000000000\",\"2022-02-18T00:00:00.000000000\",\"2022-02-21T00:00:00.000000000\",\"2022-02-22T00:00:00.000000000\",\"2022-02-23T00:00:00.000000000\",\"2022-02-24T00:00:00.000000000\",\"2022-02-25T00:00:00.000000000\",\"2022-02-28T00:00:00.000000000\",\"2022-03-01T00:00:00.000000000\",\"2022-03-02T00:00:00.000000000\",\"2022-03-03T00:00:00.000000000\",\"2022-03-04T00:00:00.000000000\",\"2022-03-07T00:00:00.000000000\",\"2022-03-08T00:00:00.000000000\",\"2022-03-09T00:00:00.000000000\",\"2022-03-10T00:00:00.000000000\",\"2022-03-11T00:00:00.000000000\",\"2022-03-14T00:00:00.000000000\",\"2022-03-15T00:00:00.000000000\",\"2022-03-16T00:00:00.000000000\",\"2022-03-17T00:00:00.000000000\",\"2022-03-18T00:00:00.000000000\",\"2022-03-21T00:00:00.000000000\",\"2022-03-22T00:00:00.000000000\",\"2022-03-23T00:00:00.000000000\",\"2022-03-24T00:00:00.000000000\",\"2022-03-25T00:00:00.000000000\",\"2022-03-28T00:00:00.000000000\",\"2022-03-29T00:00:00.000000000\",\"2022-03-30T00:00:00.000000000\",\"2022-03-31T00:00:00.000000000\",\"2022-04-01T00:00:00.000000000\",\"2022-04-04T00:00:00.000000000\",\"2022-04-05T00:00:00.000000000\",\"2022-04-06T00:00:00.000000000\",\"2022-04-07T00:00:00.000000000\",\"2022-04-08T00:00:00.000000000\",\"2022-04-11T00:00:00.000000000\",\"2022-04-12T00:00:00.000000000\",\"2022-04-13T00:00:00.000000000\",\"2022-04-14T00:00:00.000000000\",\"2022-04-19T00:00:00.000000000\",\"2022-04-20T00:00:00.000000000\",\"2022-04-21T00:00:00.000000000\",\"2022-04-22T00:00:00.000000000\",\"2022-04-25T00:00:00.000000000\",\"2022-04-26T00:00:00.000000000\",\"2022-04-27T00:00:00.000000000\",\"2022-04-28T00:00:00.000000000\",\"2022-04-29T00:00:00.000000000\",\"2022-05-02T00:00:00.000000000\",\"2022-05-03T00:00:00.000000000\",\"2022-05-04T00:00:00.000000000\",\"2022-05-05T00:00:00.000000000\",\"2022-05-06T00:00:00.000000000\",\"2022-05-09T00:00:00.000000000\",\"2022-05-10T00:00:00.000000000\",\"2022-05-11T00:00:00.000000000\",\"2022-05-12T00:00:00.000000000\",\"2022-05-13T00:00:00.000000000\",\"2022-05-16T00:00:00.000000000\",\"2022-05-17T00:00:00.000000000\",\"2022-05-18T00:00:00.000000000\",\"2022-05-19T00:00:00.000000000\",\"2022-05-20T00:00:00.000000000\",\"2022-05-23T00:00:00.000000000\",\"2022-05-24T00:00:00.000000000\",\"2022-05-25T00:00:00.000000000\",\"2022-05-26T00:00:00.000000000\",\"2022-05-27T00:00:00.000000000\",\"2022-05-30T00:00:00.000000000\",\"2022-05-31T00:00:00.000000000\",\"2022-06-01T00:00:00.000000000\",\"2022-06-02T00:00:00.000000000\",\"2022-06-03T00:00:00.000000000\",\"2022-06-06T00:00:00.000000000\",\"2022-06-07T00:00:00.000000000\",\"2022-06-08T00:00:00.000000000\",\"2022-06-09T00:00:00.000000000\",\"2022-06-10T00:00:00.000000000\",\"2022-06-13T00:00:00.000000000\",\"2022-06-14T00:00:00.000000000\",\"2022-06-15T00:00:00.000000000\",\"2022-06-16T00:00:00.000000000\",\"2022-06-17T00:00:00.000000000\",\"2022-06-20T00:00:00.000000000\",\"2022-06-21T00:00:00.000000000\",\"2022-06-22T00:00:00.000000000\",\"2022-06-23T00:00:00.000000000\",\"2022-06-24T00:00:00.000000000\",\"2022-06-27T00:00:00.000000000\",\"2022-06-28T00:00:00.000000000\",\"2022-06-29T00:00:00.000000000\",\"2022-06-30T00:00:00.000000000\",\"2022-07-01T00:00:00.000000000\",\"2022-07-04T00:00:00.000000000\",\"2022-07-05T00:00:00.000000000\",\"2022-07-06T00:00:00.000000000\",\"2022-07-07T00:00:00.000000000\",\"2022-07-08T00:00:00.000000000\",\"2022-07-11T00:00:00.000000000\",\"2022-07-12T00:00:00.000000000\",\"2022-07-13T00:00:00.000000000\",\"2022-07-14T00:00:00.000000000\",\"2022-07-15T00:00:00.000000000\",\"2022-07-18T00:00:00.000000000\",\"2022-07-19T00:00:00.000000000\",\"2022-07-20T00:00:00.000000000\",\"2022-07-21T00:00:00.000000000\",\"2022-07-22T00:00:00.000000000\",\"2022-07-25T00:00:00.000000000\",\"2022-07-26T00:00:00.000000000\",\"2022-07-27T00:00:00.000000000\",\"2022-07-28T00:00:00.000000000\",\"2022-07-29T00:00:00.000000000\",\"2022-08-01T00:00:00.000000000\",\"2022-08-02T00:00:00.000000000\",\"2022-08-03T00:00:00.000000000\",\"2022-08-04T00:00:00.000000000\",\"2022-08-05T00:00:00.000000000\",\"2022-08-08T00:00:00.000000000\",\"2022-08-09T00:00:00.000000000\",\"2022-08-10T00:00:00.000000000\",\"2022-08-11T00:00:00.000000000\",\"2022-08-12T00:00:00.000000000\",\"2022-08-15T00:00:00.000000000\",\"2022-08-16T00:00:00.000000000\",\"2022-08-17T00:00:00.000000000\",\"2022-08-18T00:00:00.000000000\",\"2022-08-19T00:00:00.000000000\",\"2022-08-22T00:00:00.000000000\",\"2022-08-23T00:00:00.000000000\",\"2022-08-24T00:00:00.000000000\",\"2022-08-25T00:00:00.000000000\",\"2022-08-26T00:00:00.000000000\",\"2022-08-29T00:00:00.000000000\",\"2022-08-30T00:00:00.000000000\",\"2022-08-31T00:00:00.000000000\",\"2022-09-01T00:00:00.000000000\",\"2022-09-02T00:00:00.000000000\",\"2022-09-05T00:00:00.000000000\",\"2022-09-06T00:00:00.000000000\",\"2022-09-07T00:00:00.000000000\",\"2022-09-08T00:00:00.000000000\",\"2022-09-09T00:00:00.000000000\",\"2022-09-12T00:00:00.000000000\",\"2022-09-13T00:00:00.000000000\",\"2022-09-14T00:00:00.000000000\",\"2022-09-15T00:00:00.000000000\",\"2022-09-16T00:00:00.000000000\",\"2022-09-19T00:00:00.000000000\",\"2022-09-20T00:00:00.000000000\",\"2022-09-21T00:00:00.000000000\",\"2022-09-22T00:00:00.000000000\",\"2022-09-23T00:00:00.000000000\",\"2022-09-26T00:00:00.000000000\",\"2022-09-27T00:00:00.000000000\",\"2022-09-28T00:00:00.000000000\",\"2022-09-29T00:00:00.000000000\",\"2022-09-30T00:00:00.000000000\",\"2022-10-03T00:00:00.000000000\",\"2022-10-04T00:00:00.000000000\",\"2022-10-05T00:00:00.000000000\",\"2022-10-06T00:00:00.000000000\",\"2022-10-07T00:00:00.000000000\",\"2022-10-10T00:00:00.000000000\",\"2022-10-11T00:00:00.000000000\",\"2022-10-12T00:00:00.000000000\",\"2022-10-13T00:00:00.000000000\",\"2022-10-14T00:00:00.000000000\",\"2022-10-17T00:00:00.000000000\",\"2022-10-18T00:00:00.000000000\",\"2022-10-19T00:00:00.000000000\",\"2022-10-20T00:00:00.000000000\",\"2022-10-21T00:00:00.000000000\",\"2022-10-24T00:00:00.000000000\",\"2022-10-25T00:00:00.000000000\",\"2022-10-26T00:00:00.000000000\",\"2022-10-27T00:00:00.000000000\",\"2022-10-28T00:00:00.000000000\",\"2022-10-31T00:00:00.000000000\",\"2022-11-01T00:00:00.000000000\",\"2022-11-02T00:00:00.000000000\",\"2022-11-03T00:00:00.000000000\",\"2022-11-04T00:00:00.000000000\",\"2022-11-07T00:00:00.000000000\",\"2022-11-08T00:00:00.000000000\",\"2022-11-09T00:00:00.000000000\",\"2022-11-10T00:00:00.000000000\",\"2022-11-11T00:00:00.000000000\",\"2022-11-14T00:00:00.000000000\",\"2022-11-15T00:00:00.000000000\",\"2022-11-16T00:00:00.000000000\",\"2022-11-17T00:00:00.000000000\",\"2022-11-18T00:00:00.000000000\",\"2022-11-21T00:00:00.000000000\",\"2022-11-22T00:00:00.000000000\",\"2022-11-23T00:00:00.000000000\",\"2022-11-24T00:00:00.000000000\",\"2022-11-25T00:00:00.000000000\",\"2022-11-28T00:00:00.000000000\",\"2022-11-29T00:00:00.000000000\",\"2022-11-30T00:00:00.000000000\",\"2022-12-01T00:00:00.000000000\",\"2022-12-02T00:00:00.000000000\",\"2022-12-05T00:00:00.000000000\",\"2022-12-06T00:00:00.000000000\",\"2022-12-07T00:00:00.000000000\",\"2022-12-08T00:00:00.000000000\",\"2022-12-09T00:00:00.000000000\",\"2022-12-12T00:00:00.000000000\",\"2022-12-13T00:00:00.000000000\",\"2022-12-14T00:00:00.000000000\",\"2022-12-15T00:00:00.000000000\",\"2022-12-16T00:00:00.000000000\",\"2022-12-19T00:00:00.000000000\",\"2022-12-20T00:00:00.000000000\",\"2022-12-21T00:00:00.000000000\",\"2022-12-22T00:00:00.000000000\",\"2022-12-23T00:00:00.000000000\",\"2022-12-27T00:00:00.000000000\",\"2022-12-28T00:00:00.000000000\",\"2022-12-29T00:00:00.000000000\",\"2022-12-30T00:00:00.000000000\",\"2023-01-02T00:00:00.000000000\",\"2023-01-03T00:00:00.000000000\",\"2023-01-04T00:00:00.000000000\",\"2023-01-05T00:00:00.000000000\",\"2023-01-06T00:00:00.000000000\",\"2023-01-09T00:00:00.000000000\",\"2023-01-10T00:00:00.000000000\",\"2023-01-11T00:00:00.000000000\",\"2023-01-12T00:00:00.000000000\",\"2023-01-13T00:00:00.000000000\",\"2023-01-16T00:00:00.000000000\",\"2023-01-17T00:00:00.000000000\",\"2023-01-18T00:00:00.000000000\",\"2023-01-19T00:00:00.000000000\",\"2023-01-20T00:00:00.000000000\",\"2023-01-23T00:00:00.000000000\",\"2023-01-24T00:00:00.000000000\",\"2023-01-25T00:00:00.000000000\",\"2023-01-26T00:00:00.000000000\",\"2023-01-27T00:00:00.000000000\",\"2023-01-30T00:00:00.000000000\",\"2023-01-31T00:00:00.000000000\",\"2023-02-01T00:00:00.000000000\",\"2023-02-02T00:00:00.000000000\",\"2023-02-03T00:00:00.000000000\",\"2023-02-06T00:00:00.000000000\",\"2023-02-07T00:00:00.000000000\",\"2023-02-08T00:00:00.000000000\",\"2023-02-09T00:00:00.000000000\",\"2023-02-10T00:00:00.000000000\",\"2023-02-13T00:00:00.000000000\",\"2023-02-14T00:00:00.000000000\",\"2023-02-15T00:00:00.000000000\",\"2023-02-16T00:00:00.000000000\",\"2023-02-17T00:00:00.000000000\",\"2023-02-20T00:00:00.000000000\",\"2023-02-21T00:00:00.000000000\",\"2023-02-22T00:00:00.000000000\",\"2023-02-23T00:00:00.000000000\",\"2023-02-24T00:00:00.000000000\",\"2023-02-27T00:00:00.000000000\",\"2023-02-28T00:00:00.000000000\",\"2023-03-01T00:00:00.000000000\",\"2023-03-02T00:00:00.000000000\",\"2023-03-03T00:00:00.000000000\",\"2023-03-06T00:00:00.000000000\",\"2023-03-07T00:00:00.000000000\",\"2023-03-08T00:00:00.000000000\",\"2023-03-09T00:00:00.000000000\",\"2023-03-10T00:00:00.000000000\",\"2023-03-13T00:00:00.000000000\",\"2023-03-14T00:00:00.000000000\",\"2023-03-15T00:00:00.000000000\",\"2023-03-16T00:00:00.000000000\",\"2023-03-17T00:00:00.000000000\",\"2023-03-20T00:00:00.000000000\",\"2023-03-21T00:00:00.000000000\",\"2023-03-22T00:00:00.000000000\",\"2023-03-23T00:00:00.000000000\",\"2023-03-24T00:00:00.000000000\",\"2023-03-27T00:00:00.000000000\",\"2023-03-28T00:00:00.000000000\",\"2023-03-29T00:00:00.000000000\",\"2023-03-30T00:00:00.000000000\",\"2023-03-31T00:00:00.000000000\",\"2023-04-03T00:00:00.000000000\",\"2023-04-04T00:00:00.000000000\",\"2023-04-05T00:00:00.000000000\",\"2023-04-06T00:00:00.000000000\",\"2023-04-11T00:00:00.000000000\",\"2023-04-12T00:00:00.000000000\",\"2023-04-13T00:00:00.000000000\",\"2023-04-14T00:00:00.000000000\",\"2023-04-17T00:00:00.000000000\",\"2023-04-18T00:00:00.000000000\",\"2023-04-19T00:00:00.000000000\",\"2023-04-20T00:00:00.000000000\",\"2023-04-21T00:00:00.000000000\",\"2023-04-24T00:00:00.000000000\",\"2023-04-25T00:00:00.000000000\",\"2023-04-26T00:00:00.000000000\",\"2023-04-27T00:00:00.000000000\",\"2023-04-28T00:00:00.000000000\",\"2023-05-02T00:00:00.000000000\",\"2023-05-03T00:00:00.000000000\",\"2023-05-04T00:00:00.000000000\",\"2023-05-05T00:00:00.000000000\",\"2023-05-08T00:00:00.000000000\",\"2023-05-09T00:00:00.000000000\",\"2023-05-10T00:00:00.000000000\",\"2023-05-11T00:00:00.000000000\",\"2023-05-12T00:00:00.000000000\",\"2023-05-15T00:00:00.000000000\",\"2023-05-16T00:00:00.000000000\",\"2023-05-17T00:00:00.000000000\",\"2023-05-18T00:00:00.000000000\",\"2023-05-19T00:00:00.000000000\",\"2023-05-22T00:00:00.000000000\",\"2023-05-23T00:00:00.000000000\",\"2023-05-24T00:00:00.000000000\",\"2023-05-25T00:00:00.000000000\",\"2023-05-26T00:00:00.000000000\",\"2023-05-29T00:00:00.000000000\",\"2023-05-30T00:00:00.000000000\",\"2023-05-31T00:00:00.000000000\",\"2023-06-01T00:00:00.000000000\",\"2023-06-02T00:00:00.000000000\",\"2023-06-05T00:00:00.000000000\",\"2023-06-06T00:00:00.000000000\",\"2023-06-07T00:00:00.000000000\",\"2023-06-08T00:00:00.000000000\",\"2023-06-09T00:00:00.000000000\",\"2023-06-12T00:00:00.000000000\",\"2023-06-13T00:00:00.000000000\",\"2023-06-14T00:00:00.000000000\",\"2023-06-15T00:00:00.000000000\",\"2023-06-16T00:00:00.000000000\",\"2023-06-19T00:00:00.000000000\",\"2023-06-20T00:00:00.000000000\",\"2023-06-21T00:00:00.000000000\",\"2023-06-22T00:00:00.000000000\",\"2023-06-23T00:00:00.000000000\",\"2023-06-26T00:00:00.000000000\",\"2023-06-27T00:00:00.000000000\",\"2023-06-28T00:00:00.000000000\",\"2023-06-29T00:00:00.000000000\",\"2023-06-30T00:00:00.000000000\",\"2023-07-03T00:00:00.000000000\",\"2023-07-04T00:00:00.000000000\",\"2023-07-05T00:00:00.000000000\",\"2023-07-06T00:00:00.000000000\",\"2023-07-07T00:00:00.000000000\",\"2023-07-10T00:00:00.000000000\",\"2023-07-11T00:00:00.000000000\",\"2023-07-12T00:00:00.000000000\",\"2023-07-13T00:00:00.000000000\",\"2023-07-14T00:00:00.000000000\",\"2023-07-17T00:00:00.000000000\",\"2023-07-18T00:00:00.000000000\",\"2023-07-19T00:00:00.000000000\",\"2023-07-20T00:00:00.000000000\",\"2023-07-21T00:00:00.000000000\",\"2023-07-24T00:00:00.000000000\",\"2023-07-25T00:00:00.000000000\",\"2023-07-26T00:00:00.000000000\",\"2023-07-27T00:00:00.000000000\",\"2023-07-28T00:00:00.000000000\",\"2023-07-31T00:00:00.000000000\",\"2023-08-01T00:00:00.000000000\",\"2023-08-02T00:00:00.000000000\",\"2023-08-03T00:00:00.000000000\",\"2023-08-04T00:00:00.000000000\",\"2023-08-07T00:00:00.000000000\",\"2023-08-08T00:00:00.000000000\",\"2023-08-09T00:00:00.000000000\",\"2023-08-10T00:00:00.000000000\",\"2023-08-11T00:00:00.000000000\",\"2023-08-14T00:00:00.000000000\",\"2023-08-15T00:00:00.000000000\",\"2023-08-16T00:00:00.000000000\",\"2023-08-17T00:00:00.000000000\",\"2023-08-18T00:00:00.000000000\",\"2023-08-21T00:00:00.000000000\",\"2023-08-22T00:00:00.000000000\",\"2023-08-23T00:00:00.000000000\",\"2023-08-24T00:00:00.000000000\",\"2023-08-25T00:00:00.000000000\",\"2023-08-28T00:00:00.000000000\",\"2023-08-29T00:00:00.000000000\",\"2023-08-30T00:00:00.000000000\",\"2023-08-31T00:00:00.000000000\",\"2023-09-01T00:00:00.000000000\",\"2023-09-04T00:00:00.000000000\",\"2023-09-05T00:00:00.000000000\",\"2023-09-06T00:00:00.000000000\",\"2023-09-07T00:00:00.000000000\",\"2023-09-08T00:00:00.000000000\",\"2023-09-11T00:00:00.000000000\",\"2023-09-12T00:00:00.000000000\",\"2023-09-13T00:00:00.000000000\",\"2023-09-14T00:00:00.000000000\",\"2023-09-15T00:00:00.000000000\",\"2023-09-18T00:00:00.000000000\",\"2023-09-19T00:00:00.000000000\",\"2023-09-20T00:00:00.000000000\",\"2023-09-21T00:00:00.000000000\",\"2023-09-22T00:00:00.000000000\",\"2023-09-25T00:00:00.000000000\",\"2023-09-26T00:00:00.000000000\",\"2023-09-27T00:00:00.000000000\",\"2023-09-28T00:00:00.000000000\",\"2023-09-29T00:00:00.000000000\",\"2023-10-02T00:00:00.000000000\",\"2023-10-03T00:00:00.000000000\",\"2023-10-04T00:00:00.000000000\",\"2023-10-05T00:00:00.000000000\",\"2023-10-06T00:00:00.000000000\",\"2023-10-09T00:00:00.000000000\",\"2023-10-10T00:00:00.000000000\",\"2023-10-11T00:00:00.000000000\",\"2023-10-12T00:00:00.000000000\",\"2023-10-13T00:00:00.000000000\",\"2023-10-16T00:00:00.000000000\",\"2023-10-17T00:00:00.000000000\",\"2023-10-18T00:00:00.000000000\",\"2023-10-19T00:00:00.000000000\",\"2023-10-20T00:00:00.000000000\",\"2023-10-23T00:00:00.000000000\",\"2023-10-24T00:00:00.000000000\",\"2023-10-25T00:00:00.000000000\",\"2023-10-26T00:00:00.000000000\",\"2023-10-27T00:00:00.000000000\",\"2023-10-30T00:00:00.000000000\",\"2023-10-31T00:00:00.000000000\",\"2023-11-01T00:00:00.000000000\",\"2023-11-02T00:00:00.000000000\",\"2023-11-03T00:00:00.000000000\",\"2023-11-06T00:00:00.000000000\",\"2023-11-07T00:00:00.000000000\",\"2023-11-08T00:00:00.000000000\",\"2023-11-09T00:00:00.000000000\",\"2023-11-10T00:00:00.000000000\",\"2023-11-13T00:00:00.000000000\",\"2023-11-14T00:00:00.000000000\",\"2023-11-15T00:00:00.000000000\",\"2023-11-16T00:00:00.000000000\",\"2023-11-17T00:00:00.000000000\",\"2023-11-20T00:00:00.000000000\",\"2023-11-21T00:00:00.000000000\",\"2023-11-22T00:00:00.000000000\",\"2023-11-23T00:00:00.000000000\",\"2023-11-24T00:00:00.000000000\",\"2023-11-27T00:00:00.000000000\",\"2023-11-28T00:00:00.000000000\",\"2023-11-29T00:00:00.000000000\",\"2023-11-30T00:00:00.000000000\",\"2023-12-01T00:00:00.000000000\",\"2023-12-04T00:00:00.000000000\",\"2023-12-05T00:00:00.000000000\",\"2023-12-06T00:00:00.000000000\",\"2023-12-07T00:00:00.000000000\",\"2023-12-08T00:00:00.000000000\",\"2023-12-11T00:00:00.000000000\",\"2023-12-12T00:00:00.000000000\",\"2023-12-13T00:00:00.000000000\",\"2023-12-14T00:00:00.000000000\",\"2023-12-15T00:00:00.000000000\",\"2023-12-18T00:00:00.000000000\",\"2023-12-19T00:00:00.000000000\",\"2023-12-20T00:00:00.000000000\",\"2023-12-21T00:00:00.000000000\",\"2023-12-22T00:00:00.000000000\",\"2023-12-27T00:00:00.000000000\",\"2023-12-28T00:00:00.000000000\",\"2023-12-29T00:00:00.000000000\",\"2024-01-02T00:00:00.000000000\",\"2024-01-03T00:00:00.000000000\",\"2024-01-04T00:00:00.000000000\",\"2024-01-05T00:00:00.000000000\",\"2024-01-08T00:00:00.000000000\",\"2024-01-09T00:00:00.000000000\",\"2024-01-10T00:00:00.000000000\",\"2024-01-11T00:00:00.000000000\",\"2024-01-12T00:00:00.000000000\",\"2024-01-15T00:00:00.000000000\",\"2024-01-16T00:00:00.000000000\",\"2024-01-17T00:00:00.000000000\",\"2024-01-18T00:00:00.000000000\",\"2024-01-19T00:00:00.000000000\",\"2024-01-22T00:00:00.000000000\",\"2024-01-23T00:00:00.000000000\",\"2024-01-24T00:00:00.000000000\",\"2024-01-25T00:00:00.000000000\",\"2024-01-26T00:00:00.000000000\",\"2024-01-29T00:00:00.000000000\",\"2024-01-30T00:00:00.000000000\",\"2024-01-31T00:00:00.000000000\",\"2024-02-01T00:00:00.000000000\",\"2024-02-02T00:00:00.000000000\",\"2024-02-05T00:00:00.000000000\",\"2024-02-06T00:00:00.000000000\",\"2024-02-07T00:00:00.000000000\",\"2024-02-08T00:00:00.000000000\",\"2024-02-09T00:00:00.000000000\",\"2024-02-12T00:00:00.000000000\",\"2024-02-13T00:00:00.000000000\",\"2024-02-14T00:00:00.000000000\",\"2024-02-15T00:00:00.000000000\",\"2024-02-16T00:00:00.000000000\",\"2024-02-19T00:00:00.000000000\",\"2024-02-20T00:00:00.000000000\",\"2024-02-21T00:00:00.000000000\",\"2024-02-22T00:00:00.000000000\",\"2024-02-23T00:00:00.000000000\",\"2024-02-26T00:00:00.000000000\",\"2024-02-27T00:00:00.000000000\",\"2024-02-28T00:00:00.000000000\",\"2024-02-29T00:00:00.000000000\",\"2024-03-01T00:00:00.000000000\",\"2024-03-04T00:00:00.000000000\",\"2024-03-05T00:00:00.000000000\",\"2024-03-06T00:00:00.000000000\",\"2024-03-07T00:00:00.000000000\",\"2024-03-08T00:00:00.000000000\",\"2024-03-11T00:00:00.000000000\",\"2024-03-12T00:00:00.000000000\",\"2024-03-13T00:00:00.000000000\",\"2024-03-14T00:00:00.000000000\",\"2024-03-15T00:00:00.000000000\",\"2024-03-18T00:00:00.000000000\",\"2024-03-19T00:00:00.000000000\",\"2024-03-20T00:00:00.000000000\",\"2024-03-21T00:00:00.000000000\",\"2024-03-22T00:00:00.000000000\",\"2024-03-25T00:00:00.000000000\",\"2024-03-26T00:00:00.000000000\",\"2024-03-27T00:00:00.000000000\",\"2024-03-28T00:00:00.000000000\",\"2024-04-02T00:00:00.000000000\",\"2024-04-03T00:00:00.000000000\",\"2024-04-04T00:00:00.000000000\",\"2024-04-05T00:00:00.000000000\",\"2024-04-08T00:00:00.000000000\",\"2024-04-09T00:00:00.000000000\",\"2024-04-10T00:00:00.000000000\",\"2024-04-11T00:00:00.000000000\",\"2024-04-12T00:00:00.000000000\",\"2024-04-15T00:00:00.000000000\",\"2024-04-16T00:00:00.000000000\",\"2024-04-17T00:00:00.000000000\",\"2024-04-18T00:00:00.000000000\",\"2024-04-19T00:00:00.000000000\",\"2024-04-22T00:00:00.000000000\",\"2024-04-23T00:00:00.000000000\",\"2024-04-24T00:00:00.000000000\",\"2024-04-25T00:00:00.000000000\",\"2024-04-26T00:00:00.000000000\",\"2024-04-29T00:00:00.000000000\",\"2024-04-30T00:00:00.000000000\",\"2024-05-02T00:00:00.000000000\",\"2024-05-03T00:00:00.000000000\",\"2024-05-06T00:00:00.000000000\",\"2024-05-07T00:00:00.000000000\",\"2024-05-08T00:00:00.000000000\",\"2024-05-09T00:00:00.000000000\",\"2024-05-10T00:00:00.000000000\",\"2024-05-13T00:00:00.000000000\",\"2024-05-14T00:00:00.000000000\",\"2024-05-15T00:00:00.000000000\",\"2024-05-16T00:00:00.000000000\",\"2024-05-17T00:00:00.000000000\",\"2024-05-20T00:00:00.000000000\",\"2024-05-21T00:00:00.000000000\",\"2024-05-22T00:00:00.000000000\",\"2024-05-23T00:00:00.000000000\",\"2024-05-24T00:00:00.000000000\",\"2024-05-27T00:00:00.000000000\",\"2024-05-28T00:00:00.000000000\",\"2024-05-29T00:00:00.000000000\",\"2024-05-30T00:00:00.000000000\",\"2024-05-31T00:00:00.000000000\",\"2024-06-03T00:00:00.000000000\",\"2024-06-04T00:00:00.000000000\",\"2024-06-05T00:00:00.000000000\",\"2024-06-06T00:00:00.000000000\",\"2024-06-07T00:00:00.000000000\",\"2024-06-10T00:00:00.000000000\",\"2024-06-11T00:00:00.000000000\",\"2024-06-12T00:00:00.000000000\",\"2024-06-13T00:00:00.000000000\",\"2024-06-14T00:00:00.000000000\",\"2024-06-17T00:00:00.000000000\",\"2024-06-18T00:00:00.000000000\",\"2024-06-19T00:00:00.000000000\",\"2024-06-20T00:00:00.000000000\",\"2024-06-21T00:00:00.000000000\",\"2024-06-24T00:00:00.000000000\",\"2024-06-25T00:00:00.000000000\",\"2024-06-26T00:00:00.000000000\",\"2024-06-27T00:00:00.000000000\",\"2024-06-28T00:00:00.000000000\",\"2024-07-01T00:00:00.000000000\",\"2024-07-02T00:00:00.000000000\",\"2024-07-03T00:00:00.000000000\",\"2024-07-04T00:00:00.000000000\",\"2024-07-05T00:00:00.000000000\",\"2024-07-08T00:00:00.000000000\",\"2024-07-09T00:00:00.000000000\",\"2024-07-10T00:00:00.000000000\",\"2024-07-11T00:00:00.000000000\",\"2024-07-12T00:00:00.000000000\",\"2024-07-15T00:00:00.000000000\",\"2024-07-16T00:00:00.000000000\",\"2024-07-17T00:00:00.000000000\",\"2024-07-18T00:00:00.000000000\",\"2024-07-19T00:00:00.000000000\",\"2024-07-22T00:00:00.000000000\",\"2024-07-23T00:00:00.000000000\",\"2024-07-24T00:00:00.000000000\",\"2024-07-25T00:00:00.000000000\",\"2024-07-26T00:00:00.000000000\",\"2024-07-29T00:00:00.000000000\",\"2024-07-30T00:00:00.000000000\",\"2024-07-31T00:00:00.000000000\",\"2024-08-01T00:00:00.000000000\",\"2024-08-02T00:00:00.000000000\",\"2024-08-05T00:00:00.000000000\",\"2024-08-06T00:00:00.000000000\",\"2024-08-07T00:00:00.000000000\",\"2024-08-08T00:00:00.000000000\",\"2024-08-09T00:00:00.000000000\",\"2024-08-12T00:00:00.000000000\",\"2024-08-13T00:00:00.000000000\",\"2024-08-14T00:00:00.000000000\",\"2024-08-15T00:00:00.000000000\",\"2024-08-16T00:00:00.000000000\",\"2024-08-19T00:00:00.000000000\",\"2024-08-20T00:00:00.000000000\",\"2024-08-21T00:00:00.000000000\",\"2024-08-22T00:00:00.000000000\",\"2024-08-23T00:00:00.000000000\",\"2024-08-26T00:00:00.000000000\",\"2024-08-27T00:00:00.000000000\",\"2024-08-28T00:00:00.000000000\",\"2024-08-29T00:00:00.000000000\",\"2024-08-30T00:00:00.000000000\",\"2024-09-02T00:00:00.000000000\",\"2024-09-03T00:00:00.000000000\",\"2024-09-04T00:00:00.000000000\",\"2024-09-05T00:00:00.000000000\",\"2024-09-06T00:00:00.000000000\",\"2024-09-09T00:00:00.000000000\",\"2024-09-10T00:00:00.000000000\",\"2024-09-11T00:00:00.000000000\",\"2024-09-12T00:00:00.000000000\",\"2024-09-13T00:00:00.000000000\",\"2024-09-16T00:00:00.000000000\",\"2024-09-17T00:00:00.000000000\",\"2024-09-18T00:00:00.000000000\",\"2024-09-19T00:00:00.000000000\",\"2024-09-20T00:00:00.000000000\",\"2024-09-23T00:00:00.000000000\",\"2024-09-24T00:00:00.000000000\",\"2024-09-25T00:00:00.000000000\",\"2024-09-26T00:00:00.000000000\",\"2024-09-27T00:00:00.000000000\",\"2024-09-30T00:00:00.000000000\",\"2024-10-01T00:00:00.000000000\",\"2024-10-02T00:00:00.000000000\",\"2024-10-03T00:00:00.000000000\",\"2024-10-04T00:00:00.000000000\",\"2024-10-07T00:00:00.000000000\",\"2024-10-08T00:00:00.000000000\",\"2024-10-09T00:00:00.000000000\",\"2024-10-10T00:00:00.000000000\",\"2024-10-11T00:00:00.000000000\",\"2024-10-14T00:00:00.000000000\",\"2024-10-15T00:00:00.000000000\",\"2024-10-16T00:00:00.000000000\",\"2024-10-17T00:00:00.000000000\",\"2024-10-18T00:00:00.000000000\",\"2024-10-21T00:00:00.000000000\",\"2024-10-22T00:00:00.000000000\",\"2024-10-23T00:00:00.000000000\",\"2024-10-24T00:00:00.000000000\",\"2024-10-25T00:00:00.000000000\",\"2024-10-28T00:00:00.000000000\",\"2024-10-29T00:00:00.000000000\",\"2024-10-30T00:00:00.000000000\",\"2024-10-31T00:00:00.000000000\",\"2024-11-01T00:00:00.000000000\",\"2024-11-04T00:00:00.000000000\",\"2024-11-05T00:00:00.000000000\",\"2024-11-06T00:00:00.000000000\",\"2024-11-07T00:00:00.000000000\",\"2024-11-08T00:00:00.000000000\",\"2024-11-11T00:00:00.000000000\",\"2024-11-12T00:00:00.000000000\",\"2024-11-13T00:00:00.000000000\",\"2024-11-14T00:00:00.000000000\",\"2024-11-15T00:00:00.000000000\",\"2024-11-18T00:00:00.000000000\",\"2024-11-19T00:00:00.000000000\",\"2024-11-20T00:00:00.000000000\",\"2024-11-21T00:00:00.000000000\",\"2024-11-22T00:00:00.000000000\",\"2024-11-25T00:00:00.000000000\",\"2024-11-26T00:00:00.000000000\",\"2024-11-27T00:00:00.000000000\",\"2024-11-28T00:00:00.000000000\",\"2024-11-29T00:00:00.000000000\",\"2024-12-02T00:00:00.000000000\",\"2024-12-03T00:00:00.000000000\",\"2024-12-04T00:00:00.000000000\",\"2024-12-05T00:00:00.000000000\",\"2024-12-06T00:00:00.000000000\",\"2024-12-09T00:00:00.000000000\",\"2024-12-10T00:00:00.000000000\",\"2024-12-11T00:00:00.000000000\",\"2024-12-12T00:00:00.000000000\",\"2024-12-13T00:00:00.000000000\",\"2024-12-16T00:00:00.000000000\",\"2024-12-17T00:00:00.000000000\",\"2024-12-18T00:00:00.000000000\",\"2024-12-19T00:00:00.000000000\",\"2024-12-20T00:00:00.000000000\",\"2024-12-23T00:00:00.000000000\",\"2024-12-24T00:00:00.000000000\",\"2024-12-27T00:00:00.000000000\",\"2024-12-30T00:00:00.000000000\",\"2024-12-31T00:00:00.000000000\",\"2025-01-02T00:00:00.000000000\",\"2025-01-03T00:00:00.000000000\",\"2025-01-06T00:00:00.000000000\",\"2025-01-07T00:00:00.000000000\",\"2025-01-08T00:00:00.000000000\",\"2025-01-09T00:00:00.000000000\",\"2025-01-10T00:00:00.000000000\",\"2025-01-13T00:00:00.000000000\",\"2025-01-14T00:00:00.000000000\",\"2025-01-15T00:00:00.000000000\",\"2025-01-16T00:00:00.000000000\",\"2025-01-17T00:00:00.000000000\",\"2025-01-20T00:00:00.000000000\",\"2025-01-21T00:00:00.000000000\",\"2025-01-22T00:00:00.000000000\",\"2025-01-23T00:00:00.000000000\",\"2025-01-24T00:00:00.000000000\",\"2025-01-27T00:00:00.000000000\",\"2025-01-28T00:00:00.000000000\",\"2025-01-29T00:00:00.000000000\",\"2025-01-30T00:00:00.000000000\",\"2025-01-31T00:00:00.000000000\",\"2025-02-03T00:00:00.000000000\",\"2025-02-04T00:00:00.000000000\",\"2025-02-05T00:00:00.000000000\",\"2025-02-06T00:00:00.000000000\",\"2025-02-07T00:00:00.000000000\",\"2025-02-10T00:00:00.000000000\",\"2025-02-11T00:00:00.000000000\",\"2025-02-12T00:00:00.000000000\",\"2025-02-13T00:00:00.000000000\",\"2025-02-14T00:00:00.000000000\",\"2025-02-17T00:00:00.000000000\",\"2025-02-18T00:00:00.000000000\",\"2025-02-19T00:00:00.000000000\",\"2025-02-20T00:00:00.000000000\",\"2025-02-21T00:00:00.000000000\",\"2025-02-24T00:00:00.000000000\",\"2025-02-25T00:00:00.000000000\",\"2025-02-26T00:00:00.000000000\",\"2025-02-27T00:00:00.000000000\",\"2025-02-28T00:00:00.000000000\",\"2025-03-03T00:00:00.000000000\",\"2025-03-04T00:00:00.000000000\",\"2025-03-05T00:00:00.000000000\",\"2025-03-06T00:00:00.000000000\",\"2025-03-07T00:00:00.000000000\",\"2025-03-10T00:00:00.000000000\",\"2025-03-11T00:00:00.000000000\",\"2025-03-12T00:00:00.000000000\",\"2025-03-13T00:00:00.000000000\",\"2025-03-14T00:00:00.000000000\",\"2025-03-17T00:00:00.000000000\",\"2025-03-18T00:00:00.000000000\",\"2025-03-19T00:00:00.000000000\",\"2025-03-20T00:00:00.000000000\",\"2025-03-21T00:00:00.000000000\",\"2025-03-24T00:00:00.000000000\",\"2025-03-25T00:00:00.000000000\",\"2025-03-26T00:00:00.000000000\",\"2025-03-27T00:00:00.000000000\",\"2025-03-28T00:00:00.000000000\",\"2025-03-31T00:00:00.000000000\",\"2025-04-01T00:00:00.000000000\",\"2025-04-02T00:00:00.000000000\",\"2025-04-03T00:00:00.000000000\",\"2025-04-04T00:00:00.000000000\",\"2025-04-07T00:00:00.000000000\",\"2025-04-08T00:00:00.000000000\",\"2025-04-09T00:00:00.000000000\",\"2025-04-10T00:00:00.000000000\",\"2025-04-11T00:00:00.000000000\",\"2025-04-14T00:00:00.000000000\",\"2025-04-15T00:00:00.000000000\",\"2025-04-16T00:00:00.000000000\",\"2025-04-17T00:00:00.000000000\"],\"y\":{\"dtype\":\"f8\",\"bdata\":\"AAAAAAAAHEAAAABgZmYcQAAAAAAAABxAAAAAAAAAHEAAAAAAKVwcQAAAAGBmZhxAAAAAgBSuG0AAAACAFK4bQAAAAKBwPRxAAAAAAAAAHEAAAABgZmYcQAAAAGBmZhxAAAAAYGZmHEAAAAAAAAAcQAAAAMDMzBxAAAAAwMzMHEAAAACgcD0cQAAAAKBwPRxAAAAAQDMzHUAAAABA4XocQAAAAOCjcBtAAAAAIFyPG0AAAABAMzMbQAAAAGCPwhtAAAAAwPUoG0AAAADAHoUbQAAAAKCZmRtAAAAAoJmZG0AAAACgcD0bQAAAAGCPwhtAAAAAoJmZG0AAAABgj8IbQAAAAAAAABxAAAAAANejG0AAAAAgXI8cQAAAAEDhehxAAAAAYGZmHEAAAAAAAAAcQAAAAGBmZhtAAAAAIFyPG0AAAABAMzMbQAAAAKCZmRtAAAAAQDMzG0AAAAAAAAAbQAAAAGC4HhtAAAAAYLgeG0AAAADAzMwaQAAAAKBH4RtAAAAAoJmZHUAAAACA61EeQAAAAKCZmR9AAAAAwB6FH0AAAABAMzMfQAAAAIDC9R5AAAAAoJmZH0AAAAAAAAAeQAAAAEAK1x5AAAAA4HoUH0AAAAAA16MdQAAAAOBRuB5AAAAAgBSuHkAAAACAPQoeQAAAAAAAAB1AAAAAAAAAHUAAAADgUbgdQAAAAOCjcBxAAAAAoHA9HEAAAAAAAAAcQAAAAAAAABxAAAAAYGZmHEAAAABgZmYcQAAAAKBwPRxAAAAAgML1HEAAAACgcD0cQAAAAIDrURxAAAAAwMzMHEAAAACAwvUdQAAAAEAK1x1AAAAAAAAAHkAAAAAAAAAdQAAAAIDC9RxAAAAAAAAAHUAAAAAghesdQAAAAEAzMx1AAAAAoJmZHUAAAAAAAAAeQAAAAADXox1AAAAAAAAAHkAAAACgcD0dQAAAAAApXB1AAAAAgML1HUAAAACgmZkdQAAAAIAUrh1AAAAAgOtRHUAAAACgmZkdQAAAAKBH4R1AAAAAgBSuHUAAAADgUbgeQAAAAGC4Hh9AAAAAoEfhHUAAAACgmZkdQAAAAKCZmR1AAAAAoJmZHUAAAAAghesdQAAAAOB6FB9AAAAAoEfhHkAAAAAAAAAeQAAAAKCZmR9AAAAAQArXH0AAAADgehQgQAAAAAAp3CBAAAAAoHC9IEAAAACAFC4hQAAAAKCZmSJAAAAAYLgeIkAAAABguB4iQAAAAKBHYSJAAAAAwB4FIkAAAAAAAAAiQAAAAMDMzCFAAAAAAAAAIkAAAAAA16MhQAAAAMAehSFAAAAAgBQuIUAAAADgepQhQAAAAMAehSFAAAAA4HqUIUAAAACgmZkhQAAAAGC4niFAAAAAQOH6IUAAAADAzMwhQAAAAMDMzCFAAAAAwMzMIUAAAADAzMwhQAAAAAAAACJAAAAAACncIUAAAAAAAAAiQAAAAMAehSFAAAAAANejIUAAAABA4fohQAAAAEAK1yFAAQAAQDOzIkD\\u002f\\u002f\\u002f+\\u002fzMwiQP\\u002f\\u002f\\u002f7\\u002fMTCNAAAAAIFyPI0D\\u002f\\u002f\\u002f\\u002f\\u002fKFwjQAAAACCuRyNAAAAAgD0KIkAAAACgmRkjQAEAAEAzMyNAAAAAoJkZI0D\\u002f\\u002f\\u002f+\\u002fzEwjQAEAAEAzsyJAAAAAIIXrIkAAAACAwvUiQAEAAEAzMyNAAAAAYI\\u002fCI0AAAACAwvUjQAAAAEDh+iNAAAAAAAAAJEAAAABguB4kQAEAAMD1KCRAAQAAQDMzJEAAAACAFK4kQAAAAGBmZiRAAQAAQDMzJUAAAACAFK4lQAAAAIA9CiVAAAAAAAAAJUAAAABgj8IkQP\\u002f\\u002f\\u002f7\\u002fMzCRAAAAAgD0KJUAAAACgcD0mQAAAAAAAACZAAAAAYGbmJkABAABAMzMoQP\\u002f\\u002f\\u002f7\\u002fMzCdAAAAAYGZmJ0AAAACgmZkpQAEAAEAzMylAAAAAYGZmKUAAAAAAAAAqQAAAAAAAACpA\\u002f\\u002f\\u002f\\u002fv8xMK0AAAACgmZkqQAAAAGBmZipAAQAAQDOzKkAAAABgZmYrQAAAAGBmZitA\\u002f\\u002f\\u002f\\u002fv8zMKkD\\u002f\\u002f\\u002f+\\u002fzEwrQAAAAAAAACtAAAAAYGZmK0ABAABAMzMrQAEAAEAzMypAAQAAQDOzKkAAAAAAAAArQAAAAKCZGStA\\u002f\\u002f\\u002f\\u002fv8xMK0AAAAAAAAArQAAAAGBmZitAAAAAoJmZK0ABAABAM7MrQAEAAEAzMytAAAAAYGZmK0AAAABgZmYrQAEAAEAzsytAAQAAQDMzK0AAAAAAAIArQAAAAKCZmSpA\\u002f\\u002f\\u002f\\u002fv8zMKkAAAACgmZkqQAAAAGBm5ipAAAAAAAAAK0AAAAAAAAArQAAAAKCZGSxAAAAAYGbmK0AAAAAAAIArQP\\u002f\\u002f\\u002f7\\u002fMTCtAAAAAYGZmK0AAAAAAAAAsQP\\u002f\\u002f\\u002f7\\u002fMzCtA\\u002f\\u002f\\u002f\\u002fv8zMK0D\\u002f\\u002f\\u002f+\\u002fzMwrQAAAAKCZGSxAAAAAAAAALEAAAAAAAAAsQAAAAAAAACxAAAAAAAAALEABAABAMzMsQAEAAEAzMyxAAQAAQDMzLEAAAACgmRksQAAAAAAAACxAAAAAoJmZK0AAAABgZuYrQAEAAEAzsyxAAAAAAAAALUAAAAAAAAAtQAAAAAAAAC1AAAAAAAAALUAAAACgmRksQAEAAEAzMy1A\\u002f\\u002f\\u002f\\u002fv8zMLEAAAACgmZksQAAAAGBmZixAAQAAQDMzLED\\u002f\\u002f\\u002f+\\u002fzEwsQAAAAGBm5itA\\u002f\\u002f\\u002f\\u002fv8xMLEAAAABgZmYsQAAAAKCZGSxAAAAAoJkZLEAAAAAAAAAsQAAAAGBm5itAAAAAYGZmK0D\\u002f\\u002f\\u002f+\\u002fzMwrQAAAAKCZmStAAAAAoJmZK0D\\u002f\\u002f\\u002f+\\u002fzEwrQAAAAGBmZitAAAAAYGbmK0D\\u002f\\u002f\\u002f+\\u002fzEwrQAEAAEAzMytA\\u002f\\u002f\\u002f\\u002fv8zMLEAAAABgZmYrQP\\u002f\\u002f\\u002f7\\u002fMzCtAAAAAYGZmLED\\u002f\\u002f\\u002f+\\u002fzMwrQP\\u002f\\u002f\\u002f7\\u002fMzCtA\\u002f\\u002f\\u002f\\u002fv8xMK0D\\u002f\\u002f\\u002f+\\u002fzEwrQAAAAGBmZitA\\u002f\\u002f\\u002f\\u002fv8xMK0AAAABgZmYrQAEAAEAzMytAAAAAYGZmKkAAAABgZmYrQAAAAKCZmStA\\u002f\\u002f\\u002f\\u002fv8zMKkD\\u002f\\u002f\\u002f+\\u002fzEwqQAAAAGBmZipA\\u002f\\u002f\\u002f\\u002fv8zMKkAAAABgZuYqQP\\u002f\\u002f\\u002f7\\u002fMzCpAAAAAAACAKkAAAACgmZkqQP\\u002f\\u002f\\u002f7\\u002fMzCpAAAAAoJmZK0AAAAAAAAArQAAAAAAAACtAAAAAYGZmKkAAAACgmZkqQAAAAGBm5ipAAAAAoJkZKkABAABAMzMqQP\\u002f\\u002f\\u002f7\\u002fMzClAAAAAoJmZKUAAAAAAAIApQAAAAKCZGShAAAAAAACAKUAAAACgmRkpQAAAAKCZmSlAAAAAAAAAKUAAAAAAAAApQAAAAAAAAChAAQAAQDMzKEAAAAAAAAAoQAAAAAAAAChAAAAAAAAAKEAAAABgZuYnQAAAAGBmZilAAAAAAAAAKEABAABAMzMnQP\\u002f\\u002f\\u002f7\\u002fMzCZAAAAAAAAAJ0AAAAAAAAAoQAAAAKCZmSdA\\u002f\\u002f\\u002f\\u002fv8zMJ0D\\u002f\\u002f\\u002f+\\u002fzMwnQAAAAGBmZidAAAAAoJmZJ0AAAACgmZknQAAAAGBmZidAAAAAAAAAJ0D\\u002f\\u002f\\u002f+\\u002fzMwnQAAAAKCZmSdA\\u002f\\u002f\\u002f\\u002fv8xMJ0AAAACgmZknQAAAAKCZmSdAAAAAAAAAKEAAAAAAAAAoQAAAAAAAAChAAAAAAAAAKEAAAABgZuYoQAAAAGBmZihAAAAAAAAAKED\\u002f\\u002f\\u002f+\\u002fzMwnQP\\u002f\\u002f\\u002f7\\u002fMzCdAAAAAoJmZJ0AAAACgmZkmQP\\u002f\\u002f\\u002f7\\u002fMzCZAAAAAoJkZJUAAAACgmZklQAAAAKCZmSVAAAAAoJmZJUAAAAAAAAAmQAAAAAAAACZAAAAAYGZmJUAAAAAAAAAmQAAAAAAAACZAAAAAYGZmJkAAAAAAAAAmQAEAAEAzMyZAAQAAQDMzJ0AAAACgmRkmQP\\u002f\\u002f\\u002f7\\u002fMzCdAAQAAQDOzKEAAAAAAAAApQAAAAAAAgClAAAAAAAAAKkAAAABgZmYpQP\\u002f\\u002f\\u002f7\\u002fMzClAAQAAQDMzKUAAAAAAAAApQAAAAAAAAClAAAAAAAAAKUD\\u002f\\u002f\\u002f+\\u002fzEwpQAAAAKCZmSlAAQAAQDMzKUAAAAAAAAApQAAAAKCZmSlAAAAAoJkZKUABAABAMzMpQP\\u002f\\u002f\\u002f7\\u002fMTClAAAAAAAAAKUAAAAAAAAApQAEAAEAzsyhAAAAAoJkZKUABAABAM7MoQAAAAKCZmShAAAAAAACAJ0AAAACgmZknQP\\u002f\\u002f\\u002f7\\u002fMzCdAAAAAYGbmJ0AAAABgZuYnQP\\u002f\\u002f\\u002f7\\u002fMzCdAAQAAQDOzJ0ABAABAM7MnQAAAAGBmZidAAQAAQDMzJ0AAAAAAAAAnQAAAAGBmZiVAAAAAYGZmJUAAAAAAAIAlQAAAAAAAACVAAAAAYGbmJEAAAAAAAAAkQAAAAAAAACRAAAAAoJkZJEAAAAAAAIAkQAAAAKCZmSRA\\u002f\\u002f\\u002f\\u002fv8zMI0AAAABgZmYkQAAAAKCZmSNA\\u002f\\u002f\\u002f\\u002fv8zMJEAAAACgmZkkQAAAAAAAACVAAAAAYGZmJUAAAAAAAAAlQAAAAKCZmSRAAAAAAAAAJED\\u002f\\u002f\\u002f+\\u002fzMwkQAAAAAAAACVA\\u002f\\u002f\\u002f\\u002fv8zMJEAAAACgmZkkQAAAAGBmZiRA\\u002f\\u002f\\u002f\\u002fv8zMJEAAAACgmZkkQAAAAKCZmSRAAAAAIIXrI0ABAABAMzMkQAAAAKCZmSRAAAAAoJmZJEAAAAAAAAAlQAEAAEAzMyVAAQAAQDMzJUAAAABgZuYlQAAAAAAAACZA\\u002f\\u002f\\u002f\\u002fv8zMJUAAAACgmZknQAAAAAAAAChA\\u002f\\u002f\\u002f\\u002fv8zMKEAAAACgmZkoQAAAAAAAgChA\\u002f\\u002f\\u002f\\u002fv8zMKEAAAAAAAAApQAAAAGBmZilA\\u002f\\u002f\\u002f\\u002fv8zMKEAAAAAAAAApQP\\u002f\\u002f\\u002f7\\u002fMzChAAAAAAAAAKUAAAACgmZkoQAAAAKCZmShAAAAAAAAAKUAAAAAAAAApQAEAAEAzsyhAAAAAAAAAKUAAAACgmZkpQAAAAGBm5ilAAAAAYGZmKUAAAACgmZkpQAEAAEAzMylAAQAAQDMzKUAAAAAAAAApQAAAAKCZmShAAQAAQDMzKEAAAAAAAAAoQAEAAEAzMydAAAAAYGbmJkAAAAAAAAAnQAAAAGBm5iZAAAAAYGbmJkAAAABgZuYmQAAAAAAAACdAAAAAYGbmJkAAAABgZuYmQAAAAGBm5iZAAAAAoJkZJ0ABAABAM7MmQP\\u002f\\u002f\\u002f7\\u002fMzCZA\\u002f\\u002f\\u002f\\u002fv8zMJkD\\u002f\\u002f\\u002f+\\u002fzMwmQAEAAEAzsyZAAAAAAAAAJ0D\\u002f\\u002f\\u002f+\\u002fzMwmQAAAAGBm5iZAAAAAYGZmJkAAAAAAAAAmQAAAAAAAACZAAAAAAAAAJkAAAABgZuYlQP\\u002f\\u002f\\u002f7\\u002fMzCVAAAAAAAAAJUAAAAAAAAAlQP\\u002f\\u002f\\u002f7\\u002fMzCRAAAAAoJmZJUAAAACgmZklQAAAAKCZmSRAAAAAoJmZJEAAAACgmRkkQAAAAKCZGSRA\\u002f\\u002f\\u002f\\u002fv8zMI0D\\u002f\\u002f\\u002f+\\u002fzMwjQAAAAAAAACRAAAAAAAAAJEAAAACAwvUjQAAAAAAAACRAAAAAAAAAJEAAAAAAAAAkQAAAAAAAACRAAAAAgML1I0D\\u002f\\u002f\\u002f+\\u002fzMwjQP\\u002f\\u002f\\u002fz8K1yNAAAAAwB6FI0AAAADAHoUjQP\\u002f\\u002f\\u002f7\\u002fMzCNAAAAAwB6FI0AAAABgZmYiQAEAAEAzMyJAAAAAgOtRIkAAAABgZmYiQAAAAEAK1yFAAQAAQDMzIkAAAACgmZkiQAAAAGBmZiJAAAAAYGZmIkABAADA9SgjQAEAAEAzMyNA\\u002f\\u002f\\u002f\\u002fv8zMIkAAAACAPQojQAAAAIA9CiNAAAAAYGZmI0AAAABgj8IjQAAAAGCPwiNA\\u002f\\u002f\\u002f\\u002fPwrXI0D\\u002f\\u002f\\u002f+\\u002fzMwjQAAAAIDC9SNAAAAAYGZmJEAAAACgmZkkQAEAAEAzMyVA\\u002f\\u002f\\u002f\\u002fv8zMJUAAAAAAAAAmQAAAAAAAACZAAQAAQDMzJkAAAAAAAAAmQAAAAKCZmSVA\\u002f\\u002f\\u002f\\u002fv8xMJUD\\u002f\\u002f\\u002f+\\u002fzEwlQAEAAEAzsyRAAAAAoJmZJED\\u002f\\u002f\\u002f+\\u002fzEwkQAAAAAAAgCRAAQAAQDMzJUD\\u002f\\u002f\\u002f+\\u002fzEwlQP\\u002f\\u002f\\u002f7\\u002fMzCRA\\u002f\\u002f\\u002f\\u002fv8zMJED\\u002f\\u002f\\u002f+\\u002fzMwkQAAAAGBmZiRAAAAAYGZmJEAAAAAAAAAkQAAAAGBmZiRAAAAA4FG4I0AAAAAAAAAjQAAAAAAAACNAAAAAAAAAJEAAAAAAAAAkQAAAAKCZmSJA\\u002f\\u002f\\u002f\\u002fv8zMIkD\\u002f\\u002f\\u002f+\\u002fzMwiQAAAAOCjcCJAAAAA4KNwIkABAABAMzMiQAEAAEAzMyJAAAAAQDMzIUAAAABgZmYgQAAAAEAzMyBAAAAAYGZmIEAAAABAMzMhQAAAAGCPwiBAAAAAoJmZIEAAAABAMzMgQAAAAKCZmR9AAAAAQDMzIEAAAACA61EgQAAAAEDheiBAAAAAQOF6IEAAAACgcD0gQAAAAOB6FCBAAAAAwB6FIEAAAACgmZkgQAAAAAApXCBAAAAAAAAAIEAAAABgj8IfQAAAAKCZmR9AAAAAAAAAIEAAAAAAAAAgQAAAAAAAACBAAAAAQDMzH0AAAABACtcfQAAAAAAAACBAAAAAAAAAIEAAAABguB4fQAAAAAAAACBAAAAAoJmZH0AAAADAzMwcQAAAAMDMzBxAAAAAQDMzHUAAAACA61EcQAAAAEAzMx1AAAAAwMzMHEAAAADAzMwcQAAAAGBmZhxAAAAAQDMzHUAAAAAgXI8cQAAAAEDhehxAAAAAAAAAHEAAAABACtcbQAAAAOCjcBtAAAAA4KNwG0AAAABACtcbQAAAAOCjcBtAAAAAgD0KG0AAAAAAKVwbQAAAAEAzMxtAAAAAgD0KG0AAAADAzMwaQAAAAGBmZhpAAAAAgD0KG0AAAABgj8IZQAAAAKCZmRlAAAAAwMzMGkAAAABgZmYaQAAAAEAzMxtAAAAAAAAAHEAAAABgj8IbQAAAAOB6FBpAAAAAoJmZG0AAAABAMzMbQAAAAMDMzBpAAAAAoEfhGkAAAACgcD0aQAAAAKBwPRpAAAAAgBSuG0AAAACgmZkbQAAAAKCZmRtAAAAAoEfhGkAAAADAzMwaQAAAAIA9ChtAAAAAoEfhGkAAAACAwvUaQAAAAAAAABxAAAAAIK5HG0AAAACgmZkbQAAAAEAzMxtAAAAAoEfhGkAAAADgUbgaQAAAAADXoxpAAAAAQOF6GkAAAABgZmYaQAAAAIDrURpAAAAAAAAAGkAAAACgmZkZQAAAAIDrURpAAAAAAAAAGkAAAABACtcZQAAAAKCZmRlAAAAAANejGEAAAAAAAAAYQAAAAAAAABhAAAAAAAAAGEAAAABAMzMXQAAAAKBH4RZAAAAA4KNwF0AAAAAA16MWQAAAAIDC9RZAAAAAgD0KF0AAAAAgXI8WQAAAAMDMzBZAAAAAoEfhFkAAAABgZmYWQAAAAIDC9RZAAAAAwMzMFkAAAABgZmYWQAAAAEDhehZAAAAAAAAAFkAAAAAghesVQAAAAIAUrhVAAAAAoJmZFUAAAACgmZkVQAAAAEAK1xVAAAAAIIXrFUAAAABgj8IVQAAAAAApXBVAAAAAQDMzFUAAAABACtcVQAAAAEAzMxVAAAAAYI\\u002fCFUAAAACgmZkVQAAAAKCZmRVAAAAAoJmZFUAAAACgcD0WQAAAAMD1KBZAAAAAgOtRFkAAAADAzMwWQAAAAOB6FBhAAAAAIFyPGEAAAAAgXI8YQAAAAGC4HhlAAAAA4KNwGUAAAACgmZkZQAAAAMAehRlAAAAA4KNwGUAAAAAgrkcXQAAAAEAK1xdAAAAAgBSuF0AAAABgj8IXQAAAAEAK1xdAAAAAoJmZF0AAAAAAKVwXQAAAAOCjcBdAAAAAoEfhGEAAAABACtcZQAAAAAApXBlAAAAAQDMzGUAAAABAMzMZQAAAAEDhehhAAAAAQOF6GEAAAADgehQYQAAAAGBmZhhAAAAAoJmZGUAAAACAPQoZQAAAAEAzMxlAAAAAgD0KGUAAAAAA16MYQAAAAADXoxhAAAAAAAAAGEAAAAAAAAAYQAAAAMDMzBZAAAAAYGZmFkAAAAAAAAAWQAAAAGBmZhZAAAAAAClcFUAAAACgmZkVQAAAAKCZmRVAAAAAYGZmFkAAAADA9SgWQAAAACCuRxVAAAAAAAAAFEAAAAAA16MUQAAAAEDhehRAAAAAQOF6FEAAAAAAAAAUQAAAAKCZmRNAAAAAAAAAFEAAAAAAAAAUQAAAAAAAABNAAAAAoJmZE0AAAAAAAAAUQAAAAADXoxNAAAAAgD0KE0AAAACgmZkTQAAAACCuRxNAAAAAIK5HE0AAAAAAKVwTQAAAAEDhehNAAAAAQArXE0AAAABA4XoTQAAAAKCZmRNAAAAAQDMzE0AAAABgj8ITQAAAAMAehRNAAAAAwMzMEkAAAADgUbgSQAAAAKCZmRJAAAAAoJmZEkAAAACgmZkSQAAAAEAK1xFAAAAAIIXrEUAAAAAgXI8SQAAAAMDMzBJAAAAAYLgeE0AAAABguB4TQAAAAOCjcBNAAAAAYI\\u002fCE0AAAAAA16MTQAAAAADXoxNAAAAAQArXE0AAAACgcD0UQAAAAADXoxRAAAAAgD0KFUAAAABgZmYUQAAAAMDMzBRAAAAAoHA9FEAAAABAMzMTQAAAAEAzMxNAAAAAQDMzE0AAAABAMzMTQAAAAOCjcBFAAAAAYGZmFEAAAACgmZkTQAAAAIAUrhNAAAAAoHA9FEAAAABgZmYUQAAAAIAUrhNAAAAAYGZmFEAAAABgZmYUQAAAAMDMzBNAAAAAoHA9FEAAAABgZmYUQAAAAKBwPRRAAAAAoHA9FEAAAACgcD0UQAAAAKBwPRRAAAAAoHA9FEAAAACgcD0UQAAAAMDMzBNAAAAAQArXE0AAAAAAAAAUQAAAAAAAABRAAAAAAAAAFEAAAADAzMwTQAAAAMDMzBNAAAAAwMzME0AAAADAzMwTQAAAAMDMzBNAAAAAwMzME0AAAABAMzMTQAAAAAAAABJAAAAAIIXrEUAAAAAghesRQAAAAGBmZhBAAAAAAAAAEEAAAACgmZkPQAAAAIDC9QxAAAAAAAAADEAAAAAAAAAOQAAAAGBmZg5AAAAAAAAADkAAAAAAAAAOQAAAAKCZmQ1AAAAAAAAADkAAAACgmZkNQAAAAEDhegxAAAAAYGZmDEAAAACAFK4LQAAAAGBmZgpAAAAA4HoUCkAAAAAgXI8GQAAAAGBmZgZAAAAAYGZmBkAAAAAAAAAGQAAAAAAAAAZAAAAAwB6FBUAAAACgmZkFQAAAAAAAAARAAAAAANejBEAAAAAAKVwDQAAAAKCZmQNAAAAAIK5HA0ABAABAMzMDQAEAAEAzMwNAAAAAoJmZA0AAAACAwvUCQAEAAIDrUQJAAAAAQOF6AkAAAACAwvUCQAAAAEDhegJAAAAAoEfhAkAAAAAAAAACQAAAAKBwPQJAAAAAwB6FAUAAAADAHoUBQAAAAMAehQFAAAAAYLgeAUAAAACgmZkBQAAAAMDMzABAAAAAYGZmAEAAAADAHoUBQAAAAGBmZgZAAAAAIIXrEEABAABAMzMPQAAAAKBwPQ5AAAAAoJmZDUAAAACAFK4JQAAAAGBmZghAAAAAgML1CkD\\u002f\\u002f\\u002f9fj8IJQAAAAGBmZghAAAAAgD0KB0AAAAAAAAAIQAAAAMDMzAZAAAAAoJmZB0ABAACA61EKQAAAAMDMzAhAAAAAYLgeCUAAAADAHoUJQAAAAADXowhAAAAA4HoUCEAAAAAghesHQAAAACCF6wdAAAAAgD0KB0AAAACAFK4HQAAAAEAK1wdAAAAAQOF6CEAAAABA4XoIQAAAAKCZmQlAAAAAgBSuB0AAAABACtcHQAAAAIAUrgdAAAAAAClcB0AAAABACtcHQAAAAKCZmQdAAAAAoJmZB0AAAAAgXI8GQAAAAKCZmQdAAAAAYGZmBkAAAACgR+EGQAAAAOB6FAZAAQAAQDMzBUAAAADAzMwEQAAAAKBH4QRAAAAAQOF6BEAAAABgZmYGQAEAAEAzMwVAAAAAoEfhBEAAAADgehQGQAAAAOBRuAZAAAAA4HoUBkAAAAAAAAAGQAAAAGBmZgZAAAAAIK5HBUAAAABACtcFQAAAAEDhegZAAAAAIK5HBUABAABAMzMFQAAAACCF6wNAAAAA4FG4BEAAAACgcD0EQAAAAMDMzARAAAAAgD0KBUAAAAAAAAAEQAAAAMDMzARAAAAAwB6FBUAAAADgo3AFQP\\u002f\\u002f\\u002f1+PwgNAAAAAwPUoBEAAAAAAAAAEQAAAAOB6FARAAAAAAAAABkAAAAAAAAAGQAAAAGBmZgZAAQAAQDMzB0ABAABAMzMHQAAAAEDhegZAAAAAIFyPCEAAAAAAKVwJQAAAAAAAAAhAAAAAAAAACEAAAABgZmYIQAAAAKCZmQlAAAAAAAAACEAAAADgo3AJQAAAAAAAAAhAAAAAAAAACEAAAACgmZkHQAAAAAApXAdAAAAAIK5HBUAAAADAzMwCQAAAAADXowRAAAAAoHA9BEAAAAAgXI8EQAAAACBcjwRAAAAAIFyPBEAAAAAgXI8EQAAAACBcjwRAAAAAQOF6AEAAAADA9Sj0PwAAAIAUrvU\\u002fAAAAwMzM9j8AAACgmZn3PwAAAGBmZvY\\u002fAAAAgBSu9z8AAADAHoX1PwAAAMAehfU\\u002fAAAA4FG49D8AAABAMzPzPwAAAKBH4fI\\u002fAAAAoHA98j8AAADgUbjyPwAAAOBRuPI\\u002fAAAAAAAA+D8AAABguB75PwAAAKBwPfY\\u002fAAAA4KNw+T8AAADgehT4PwAAACBcj\\u002fY\\u002fAAAAIIXr9T8AAAAAAAD2PwAAAIDC9fQ\\u002fAAAA4KNw9T8AAACgmZn1P\\u002f\\u002f\\u002f\\u002f\\u002f\\u002fWo\\u002fg\\u002f\\u002f\\u002f\\u002f\\u002f\\u002f9aj+D8AAABgZmb4PwEAAAApXPc\\u002fAAAAQDMz+T8AAAAAAAD4PwAAAEDhevg\\u002fAAAAQDMz+T8AAABA4Xr4PwAAAMAehfc\\u002f\\u002f\\u002f\\u002f\\u002f\\u002f9aj9j8BAAAAKVz3PwAAAEDhevY\\u002fAAAAoEfh9j8AAADAHoX3PwAAAEAzM\\u002fc\\u002fAAAAgBSu9z8AAABAMzP3PwAAAMAehfc\\u002fAAAAgD0K9z8AAAAgXI\\u002f2PwAAAAAAAPY\\u002fAAAAYI\\u002fC9T8AAACgmZn1PwAAAGCPwvU\\u002fAAAAoEfh9j8AAADgUbj2PwAAAIAUrvc\\u002fAAAAgD0K9z8AAACAPQr3PwAAAEAzM\\u002fc\\u002fAAAAYI\\u002fC9z8AAADgUbj2PwAAAEDhevY\\u002fAAAAoEfh9D8AAADgo3D1PwAAAMDMzPQ\\u002fAAAAgD0K8z8AAADAzMzyPwAAAKCZmfM\\u002fAAAAQArX8z8AAADgUbj0PwAAAGC4HvU\\u002fAAAAwMzM9D8AAAAAAAD0PwAAAMD1KPQ\\u002fAAAAQArX8z8AAABACtfzPwAAAEAK1\\u002fM\\u002fAAAAoEfh9D8AAACgR+H0PwAAAKBH4fQ\\u002fAAAAIK5H9T8AAADgUbj0PwAAAEAzM\\u002fU\\u002fAAAAIK5H9T8AAACA61H0PwAAAOB6FPQ\\u002fAAAAQArX8z8AAADAHoXzPwAAACCuR\\u002fM\\u002fAAAA4KNw8z8AAACgmZnzPwAAAEAzM\\u002fM\\u002fAAAAgML18j8AAABAMzPzPwAAAGBmZvI\\u002fAAAA4FG48j8AAAAghevxPwAAAEAK1\\u002fE\\u002fAAAA4HoU8j8BAAAAKVzxPwAAAOCjcPE\\u002fAAAAgML18D8AAACAwvXwPwAAAIDC9fA\\u002fAAAAIFyP8D8BAADgUbjuPwAAAOB6FO4\\u002fAAAA4M736z8AAACgR+HwPwAAAIDC9fA\\u002fAAAAwMzM9D\\u002f\\u002f\\u002f\\u002f\\u002f\\u002f1qP0PwAAAMD1KPQ\\u002fAAAAoJmZ8z8AAAAgXI\\u002f0PwAAAOCjcPM\\u002fAAAAoEfh8j8AAABgZmbyPwAAAEAK1\\u002fE\\u002fAAAAgD0K8T8AAADAzMzwPwAAAIDrUfA\\u002fAAAAgOtR8D\\u002f\\u002f\\u002f\\u002f\\u002f\\u002f1qPwPwAAAOB6FPI\\u002fAAAAgML18D8AAABguB7xPwAAAMDMzPA\\u002f\\u002f\\u002f\\u002f\\u002f\\u002f9aj8D8AAABAMzPzPwAAAAAAAPo\\u002fAAAAQOF6+D8AAABgZmb2PwAAAMD1KPY\\u002fAAAAoJmZ9z8AAACgcD32PwAAACCuR\\u002fU\\u002fAAAAIIXr9T8AAABgj8L1PwAAACCuR\\u002fU\\u002fAAAAwPUo9j8AAADAzMz0PwAAAMDMzPQ\\u002fAAAAQOF69D8AAACgcD32PwAAAIDrUfY\\u002fAAAAYI\\u002fC9z8AAACAwvX4PwAAACBcj\\u002fg\\u002f\\u002f\\u002f\\u002f\\u002f\\u002f9aj+D8AAACgR+H2PwAAAIAUrvU\\u002fAAAAoJmZ9T8AAADgUbj2PwAAAMDMzPY\\u002fAAAAYGZm9j8AAAAAAAD2PwAAAGBmZvY\\u002fAAAAQOF6+D8AAABgj8L3PwAAAOBRuPY\\u002fAAAAwPUo9j8AAABAMzP3PwAAAEAK1\\u002fU\\u002fAAAAwPUo9D8BAAAAKVzzPwAAAGBmZvI\\u002fAAAAYGZm8j8AAABgZmbyPwAAACCuR\\u002fE\\u002fAAAAIFyP9D8AAADA9Sj0PwAAAIAUrvM\\u002fAAAAoJmZ8z8AAACAwvXyPwAAAMAehfM\\u002fAAAAwPUo9D8BAAAAKVzzPwAAAIA9CvM\\u002fAAAAYLge8z8AAADA9Sj0PwAAAEAK1\\u002fU\\u002fAAAAIK5H9T8AAABACtf1PwAAAEDhevY\\u002fAAAAwPUo9j8AAABgZmb2PwAAAGCPwvU\\u002fAAAAoHA99j8AAABgZmb0PwAAAIDrUfQ\\u002fAAAAAAAA9D8AAACAFK7zPwAAAIDrUfQ\\u002fAAAAIIXr8z8AAABA4Xr0PwAAAMAehfM\\u002fAAAAwB6F8z8AAABAMzPzPwAAAAAAAPQ\\u002fAAAAIK5H8z8AAADgehT0PwAAAIAUrvM\\u002fAAAAQDMz9T8AAADgo3D1PwAAAIDC9fQ\\u002fAAAAwMzM9D8AAADgehT2PwAAAKCZmfU\\u002fAAAA4KNw9T8AAABgj8L1PwAAACCuR\\u002fU\\u002fAAAAIK5H9T8AAACA61H0PwAAAEDhevQ\\u002fAAAAoJmZ9T8AAABgj8L1PwAAAIDC9fQ\\u002fAAAAwB6F+T8AAAAghev3PwAAAOB6FPY\\u002fAAAA4HoU9j8AAACAFK73PwAAAEAzM\\u002fc\\u002fAAAAYLge9z8AAABgZmb2PwAAAKBwPfY\\u002fAAAA4HoU9j8AAAAghev1P\\u002f\\u002f\\u002f\\u002f\\u002f\\u002fWo\\u002fY\\u002fAAAAgOtR9j8AAABACtf1PwAAAKCZmfU\\u002fAAAAwMzM9D8AAADgehT0PwAAAKBwPfQ\\u002fAAAAYLge8z8AAADgUbjyPwAAAGCPwvM\\u002fAAAAQDMz8z8AAACgcD30PwAAAMD1KPQ\\u002fAAAAQDMz8z8AAABAMzPzPwAAAAAAAPQ\\u002fAAAAAAAA9D8=\"},\"type\":\"scatter\",\"xaxis\":\"x\",\"yaxis\":\"y\"},{\"mode\":\"lines\",\"name\":\"Volume\",\"x\":[\"2020-07-30T00:00:00.000000000\",\"2020-07-31T00:00:00.000000000\",\"2020-08-03T00:00:00.000000000\",\"2020-08-04T00:00:00.000000000\",\"2020-08-05T00:00:00.000000000\",\"2020-08-06T00:00:00.000000000\",\"2020-08-07T00:00:00.000000000\",\"2020-08-10T00:00:00.000000000\",\"2020-08-11T00:00:00.000000000\",\"2020-08-12T00:00:00.000000000\",\"2020-08-13T00:00:00.000000000\",\"2020-08-14T00:00:00.000000000\",\"2020-08-17T00:00:00.000000000\",\"2020-08-18T00:00:00.000000000\",\"2020-08-19T00:00:00.000000000\",\"2020-08-20T00:00:00.000000000\",\"2020-08-21T00:00:00.000000000\",\"2020-08-24T00:00:00.000000000\",\"2020-08-25T00:00:00.000000000\",\"2020-08-26T00:00:00.000000000\",\"2020-08-27T00:00:00.000000000\",\"2020-08-28T00:00:00.000000000\",\"2020-08-31T00:00:00.000000000\",\"2020-09-01T00:00:00.000000000\",\"2020-09-02T00:00:00.000000000\",\"2020-09-03T00:00:00.000000000\",\"2020-09-04T00:00:00.000000000\",\"2020-09-07T00:00:00.000000000\",\"2020-09-08T00:00:00.000000000\",\"2020-09-09T00:00:00.000000000\",\"2020-09-10T00:00:00.000000000\",\"2020-09-11T00:00:00.000000000\",\"2020-09-14T00:00:00.000000000\",\"2020-09-15T00:00:00.000000000\",\"2020-09-16T00:00:00.000000000\",\"2020-09-17T00:00:00.000000000\",\"2020-09-18T00:00:00.000000000\",\"2020-09-21T00:00:00.000000000\",\"2020-09-22T00:00:00.000000000\",\"2020-09-23T00:00:00.000000000\",\"2020-09-24T00:00:00.000000000\",\"2020-09-25T00:00:00.000000000\",\"2020-09-28T00:00:00.000000000\",\"2020-09-29T00:00:00.000000000\",\"2020-09-30T00:00:00.000000000\",\"2020-10-01T00:00:00.000000000\",\"2020-10-02T00:00:00.000000000\",\"2020-10-05T00:00:00.000000000\",\"2020-10-06T00:00:00.000000000\",\"2020-10-07T00:00:00.000000000\",\"2020-10-08T00:00:00.000000000\",\"2020-10-09T00:00:00.000000000\",\"2020-10-12T00:00:00.000000000\",\"2020-10-13T00:00:00.000000000\",\"2020-10-14T00:00:00.000000000\",\"2020-10-15T00:00:00.000000000\",\"2020-10-16T00:00:00.000000000\",\"2020-10-19T00:00:00.000000000\",\"2020-10-20T00:00:00.000000000\",\"2020-10-21T00:00:00.000000000\",\"2020-10-22T00:00:00.000000000\",\"2020-10-23T00:00:00.000000000\",\"2020-10-26T00:00:00.000000000\",\"2020-10-27T00:00:00.000000000\",\"2020-10-28T00:00:00.000000000\",\"2020-10-29T00:00:00.000000000\",\"2020-10-30T00:00:00.000000000\",\"2020-11-02T00:00:00.000000000\",\"2020-11-03T00:00:00.000000000\",\"2020-11-04T00:00:00.000000000\",\"2020-11-05T00:00:00.000000000\",\"2020-11-06T00:00:00.000000000\",\"2020-11-09T00:00:00.000000000\",\"2020-11-10T00:00:00.000000000\",\"2020-11-11T00:00:00.000000000\",\"2020-11-12T00:00:00.000000000\",\"2020-11-13T00:00:00.000000000\",\"2020-11-16T00:00:00.000000000\",\"2020-11-17T00:00:00.000000000\",\"2020-11-18T00:00:00.000000000\",\"2020-11-19T00:00:00.000000000\",\"2020-11-20T00:00:00.000000000\",\"2020-11-23T00:00:00.000000000\",\"2020-11-24T00:00:00.000000000\",\"2020-11-25T00:00:00.000000000\",\"2020-11-26T00:00:00.000000000\",\"2020-11-27T00:00:00.000000000\",\"2020-11-30T00:00:00.000000000\",\"2020-12-01T00:00:00.000000000\",\"2020-12-02T00:00:00.000000000\",\"2020-12-03T00:00:00.000000000\",\"2020-12-04T00:00:00.000000000\",\"2020-12-07T00:00:00.000000000\",\"2020-12-08T00:00:00.000000000\",\"2020-12-09T00:00:00.000000000\",\"2020-12-10T00:00:00.000000000\",\"2020-12-11T00:00:00.000000000\",\"2020-12-14T00:00:00.000000000\",\"2020-12-15T00:00:00.000000000\",\"2020-12-16T00:00:00.000000000\",\"2020-12-17T00:00:00.000000000\",\"2020-12-18T00:00:00.000000000\",\"2020-12-21T00:00:00.000000000\",\"2020-12-22T00:00:00.000000000\",\"2020-12-23T00:00:00.000000000\",\"2020-12-24T00:00:00.000000000\",\"2020-12-28T00:00:00.000000000\",\"2020-12-29T00:00:00.000000000\",\"2020-12-30T00:00:00.000000000\",\"2020-12-31T00:00:00.000000000\",\"2021-01-04T00:00:00.000000000\",\"2021-01-05T00:00:00.000000000\",\"2021-01-06T00:00:00.000000000\",\"2021-01-07T00:00:00.000000000\",\"2021-01-08T00:00:00.000000000\",\"2021-01-11T00:00:00.000000000\",\"2021-01-12T00:00:00.000000000\",\"2021-01-13T00:00:00.000000000\",\"2021-01-14T00:00:00.000000000\",\"2021-01-15T00:00:00.000000000\",\"2021-01-18T00:00:00.000000000\",\"2021-01-19T00:00:00.000000000\",\"2021-01-20T00:00:00.000000000\",\"2021-01-21T00:00:00.000000000\",\"2021-01-22T00:00:00.000000000\",\"2021-01-25T00:00:00.000000000\",\"2021-01-26T00:00:00.000000000\",\"2021-01-27T00:00:00.000000000\",\"2021-01-28T00:00:00.000000000\",\"2021-01-29T00:00:00.000000000\",\"2021-02-01T00:00:00.000000000\",\"2021-02-02T00:00:00.000000000\",\"2021-02-03T00:00:00.000000000\",\"2021-02-04T00:00:00.000000000\",\"2021-02-05T00:00:00.000000000\",\"2021-02-08T00:00:00.000000000\",\"2021-02-09T00:00:00.000000000\",\"2021-02-10T00:00:00.000000000\",\"2021-02-11T00:00:00.000000000\",\"2021-02-12T00:00:00.000000000\",\"2021-02-15T00:00:00.000000000\",\"2021-02-16T00:00:00.000000000\",\"2021-02-17T00:00:00.000000000\",\"2021-02-18T00:00:00.000000000\",\"2021-02-19T00:00:00.000000000\",\"2021-02-22T00:00:00.000000000\",\"2021-02-23T00:00:00.000000000\",\"2021-02-24T00:00:00.000000000\",\"2021-02-25T00:00:00.000000000\",\"2021-02-26T00:00:00.000000000\",\"2021-03-01T00:00:00.000000000\",\"2021-03-02T00:00:00.000000000\",\"2021-03-03T00:00:00.000000000\",\"2021-03-04T00:00:00.000000000\",\"2021-03-05T00:00:00.000000000\",\"2021-03-08T00:00:00.000000000\",\"2021-03-09T00:00:00.000000000\",\"2021-03-10T00:00:00.000000000\",\"2021-03-11T00:00:00.000000000\",\"2021-03-12T00:00:00.000000000\",\"2021-03-15T00:00:00.000000000\",\"2021-03-16T00:00:00.000000000\",\"2021-03-17T00:00:00.000000000\",\"2021-03-18T00:00:00.000000000\",\"2021-03-19T00:00:00.000000000\",\"2021-03-22T00:00:00.000000000\",\"2021-03-23T00:00:00.000000000\",\"2021-03-24T00:00:00.000000000\",\"2021-03-25T00:00:00.000000000\",\"2021-03-26T00:00:00.000000000\",\"2021-03-29T00:00:00.000000000\",\"2021-03-30T00:00:00.000000000\",\"2021-03-31T00:00:00.000000000\",\"2021-04-01T00:00:00.000000000\",\"2021-04-06T00:00:00.000000000\",\"2021-04-07T00:00:00.000000000\",\"2021-04-08T00:00:00.000000000\",\"2021-04-09T00:00:00.000000000\",\"2021-04-12T00:00:00.000000000\",\"2021-04-13T00:00:00.000000000\",\"2021-04-14T00:00:00.000000000\",\"2021-04-15T00:00:00.000000000\",\"2021-04-16T00:00:00.000000000\",\"2021-04-19T00:00:00.000000000\",\"2021-04-20T00:00:00.000000000\",\"2021-04-21T00:00:00.000000000\",\"2021-04-22T00:00:00.000000000\",\"2021-04-23T00:00:00.000000000\",\"2021-04-26T00:00:00.000000000\",\"2021-04-27T00:00:00.000000000\",\"2021-04-28T00:00:00.000000000\",\"2021-04-29T00:00:00.000000000\",\"2021-04-30T00:00:00.000000000\",\"2021-05-03T00:00:00.000000000\",\"2021-05-04T00:00:00.000000000\",\"2021-05-05T00:00:00.000000000\",\"2021-05-06T00:00:00.000000000\",\"2021-05-07T00:00:00.000000000\",\"2021-05-10T00:00:00.000000000\",\"2021-05-11T00:00:00.000000000\",\"2021-05-12T00:00:00.000000000\",\"2021-05-13T00:00:00.000000000\",\"2021-05-14T00:00:00.000000000\",\"2021-05-17T00:00:00.000000000\",\"2021-05-18T00:00:00.000000000\",\"2021-05-19T00:00:00.000000000\",\"2021-05-20T00:00:00.000000000\",\"2021-05-21T00:00:00.000000000\",\"2021-05-24T00:00:00.000000000\",\"2021-05-25T00:00:00.000000000\",\"2021-05-26T00:00:00.000000000\",\"2021-05-27T00:00:00.000000000\",\"2021-05-28T00:00:00.000000000\",\"2021-05-31T00:00:00.000000000\",\"2021-06-01T00:00:00.000000000\",\"2021-06-02T00:00:00.000000000\",\"2021-06-03T00:00:00.000000000\",\"2021-06-04T00:00:00.000000000\",\"2021-06-07T00:00:00.000000000\",\"2021-06-08T00:00:00.000000000\",\"2021-06-09T00:00:00.000000000\",\"2021-06-10T00:00:00.000000000\",\"2021-06-11T00:00:00.000000000\",\"2021-06-14T00:00:00.000000000\",\"2021-06-15T00:00:00.000000000\",\"2021-06-16T00:00:00.000000000\",\"2021-06-17T00:00:00.000000000\",\"2021-06-18T00:00:00.000000000\",\"2021-06-21T00:00:00.000000000\",\"2021-06-22T00:00:00.000000000\",\"2021-06-23T00:00:00.000000000\",\"2021-06-24T00:00:00.000000000\",\"2021-06-25T00:00:00.000000000\",\"2021-06-28T00:00:00.000000000\",\"2021-06-29T00:00:00.000000000\",\"2021-06-30T00:00:00.000000000\",\"2021-07-01T00:00:00.000000000\",\"2021-07-02T00:00:00.000000000\",\"2021-07-05T00:00:00.000000000\",\"2021-07-06T00:00:00.000000000\",\"2021-07-07T00:00:00.000000000\",\"2021-07-08T00:00:00.000000000\",\"2021-07-09T00:00:00.000000000\",\"2021-07-12T00:00:00.000000000\",\"2021-07-13T00:00:00.000000000\",\"2021-07-14T00:00:00.000000000\",\"2021-07-15T00:00:00.000000000\",\"2021-07-16T00:00:00.000000000\",\"2021-07-19T00:00:00.000000000\",\"2021-07-20T00:00:00.000000000\",\"2021-07-21T00:00:00.000000000\",\"2021-07-22T00:00:00.000000000\",\"2021-07-23T00:00:00.000000000\",\"2021-07-26T00:00:00.000000000\",\"2021-07-27T00:00:00.000000000\",\"2021-07-28T00:00:00.000000000\",\"2021-07-29T00:00:00.000000000\",\"2021-07-30T00:00:00.000000000\",\"2021-08-02T00:00:00.000000000\",\"2021-08-03T00:00:00.000000000\",\"2021-08-04T00:00:00.000000000\",\"2021-08-05T00:00:00.000000000\",\"2021-08-06T00:00:00.000000000\",\"2021-08-09T00:00:00.000000000\",\"2021-08-10T00:00:00.000000000\",\"2021-08-11T00:00:00.000000000\",\"2021-08-12T00:00:00.000000000\",\"2021-08-13T00:00:00.000000000\",\"2021-08-16T00:00:00.000000000\",\"2021-08-17T00:00:00.000000000\",\"2021-08-18T00:00:00.000000000\",\"2021-08-19T00:00:00.000000000\",\"2021-08-20T00:00:00.000000000\",\"2021-08-23T00:00:00.000000000\",\"2021-08-24T00:00:00.000000000\",\"2021-08-25T00:00:00.000000000\",\"2021-08-26T00:00:00.000000000\",\"2021-08-27T00:00:00.000000000\",\"2021-08-30T00:00:00.000000000\",\"2021-08-31T00:00:00.000000000\",\"2021-09-01T00:00:00.000000000\",\"2021-09-02T00:00:00.000000000\",\"2021-09-03T00:00:00.000000000\",\"2021-09-06T00:00:00.000000000\",\"2021-09-07T00:00:00.000000000\",\"2021-09-08T00:00:00.000000000\",\"2021-09-09T00:00:00.000000000\",\"2021-09-10T00:00:00.000000000\",\"2021-09-13T00:00:00.000000000\",\"2021-09-14T00:00:00.000000000\",\"2021-09-15T00:00:00.000000000\",\"2021-09-16T00:00:00.000000000\",\"2021-09-17T00:00:00.000000000\",\"2021-09-20T00:00:00.000000000\",\"2021-09-21T00:00:00.000000000\",\"2021-09-22T00:00:00.000000000\",\"2021-09-23T00:00:00.000000000\",\"2021-09-24T00:00:00.000000000\",\"2021-09-27T00:00:00.000000000\",\"2021-09-28T00:00:00.000000000\",\"2021-09-29T00:00:00.000000000\",\"2021-09-30T00:00:00.000000000\",\"2021-10-01T00:00:00.000000000\",\"2021-10-04T00:00:00.000000000\",\"2021-10-05T00:00:00.000000000\",\"2021-10-06T00:00:00.000000000\",\"2021-10-07T00:00:00.000000000\",\"2021-10-08T00:00:00.000000000\",\"2021-10-11T00:00:00.000000000\",\"2021-10-12T00:00:00.000000000\",\"2021-10-13T00:00:00.000000000\",\"2021-10-14T00:00:00.000000000\",\"2021-10-15T00:00:00.000000000\",\"2021-10-18T00:00:00.000000000\",\"2021-10-19T00:00:00.000000000\",\"2021-10-20T00:00:00.000000000\",\"2021-10-21T00:00:00.000000000\",\"2021-10-22T00:00:00.000000000\",\"2021-10-25T00:00:00.000000000\",\"2021-10-26T00:00:00.000000000\",\"2021-10-27T00:00:00.000000000\",\"2021-10-28T00:00:00.000000000\",\"2021-10-29T00:00:00.000000000\",\"2021-11-01T00:00:00.000000000\",\"2021-11-02T00:00:00.000000000\",\"2021-11-03T00:00:00.000000000\",\"2021-11-04T00:00:00.000000000\",\"2021-11-05T00:00:00.000000000\",\"2021-11-08T00:00:00.000000000\",\"2021-11-09T00:00:00.000000000\",\"2021-11-10T00:00:00.000000000\",\"2021-11-11T00:00:00.000000000\",\"2021-11-12T00:00:00.000000000\",\"2021-11-15T00:00:00.000000000\",\"2021-11-16T00:00:00.000000000\",\"2021-11-17T00:00:00.000000000\",\"2021-11-18T00:00:00.000000000\",\"2021-11-19T00:00:00.000000000\",\"2021-11-22T00:00:00.000000000\",\"2021-11-23T00:00:00.000000000\",\"2021-11-24T00:00:00.000000000\",\"2021-11-25T00:00:00.000000000\",\"2021-11-26T00:00:00.000000000\",\"2021-11-29T00:00:00.000000000\",\"2021-11-30T00:00:00.000000000\",\"2021-12-01T00:00:00.000000000\",\"2021-12-02T00:00:00.000000000\",\"2021-12-03T00:00:00.000000000\",\"2021-12-06T00:00:00.000000000\",\"2021-12-07T00:00:00.000000000\",\"2021-12-08T00:00:00.000000000\",\"2021-12-09T00:00:00.000000000\",\"2021-12-10T00:00:00.000000000\",\"2021-12-13T00:00:00.000000000\",\"2021-12-14T00:00:00.000000000\",\"2021-12-15T00:00:00.000000000\",\"2021-12-16T00:00:00.000000000\",\"2021-12-17T00:00:00.000000000\",\"2021-12-20T00:00:00.000000000\",\"2021-12-21T00:00:00.000000000\",\"2021-12-22T00:00:00.000000000\",\"2021-12-23T00:00:00.000000000\",\"2021-12-27T00:00:00.000000000\",\"2021-12-28T00:00:00.000000000\",\"2021-12-29T00:00:00.000000000\",\"2021-12-30T00:00:00.000000000\",\"2022-01-03T00:00:00.000000000\",\"2022-01-04T00:00:00.000000000\",\"2022-01-05T00:00:00.000000000\",\"2022-01-06T00:00:00.000000000\",\"2022-01-07T00:00:00.000000000\",\"2022-01-10T00:00:00.000000000\",\"2022-01-11T00:00:00.000000000\",\"2022-01-12T00:00:00.000000000\",\"2022-01-13T00:00:00.000000000\",\"2022-01-14T00:00:00.000000000\",\"2022-01-17T00:00:00.000000000\",\"2022-01-18T00:00:00.000000000\",\"2022-01-19T00:00:00.000000000\",\"2022-01-20T00:00:00.000000000\",\"2022-01-21T00:00:00.000000000\",\"2022-01-24T00:00:00.000000000\",\"2022-01-25T00:00:00.000000000\",\"2022-01-26T00:00:00.000000000\",\"2022-01-27T00:00:00.000000000\",\"2022-01-28T00:00:00.000000000\",\"2022-01-31T00:00:00.000000000\",\"2022-02-01T00:00:00.000000000\",\"2022-02-02T00:00:00.000000000\",\"2022-02-03T00:00:00.000000000\",\"2022-02-04T00:00:00.000000000\",\"2022-02-07T00:00:00.000000000\",\"2022-02-08T00:00:00.000000000\",\"2022-02-09T00:00:00.000000000\",\"2022-02-10T00:00:00.000000000\",\"2022-02-11T00:00:00.000000000\",\"2022-02-14T00:00:00.000000000\",\"2022-02-15T00:00:00.000000000\",\"2022-02-16T00:00:00.000000000\",\"2022-02-17T00:00:00.000000000\",\"2022-02-18T00:00:00.000000000\",\"2022-02-21T00:00:00.000000000\",\"2022-02-22T00:00:00.000000000\",\"2022-02-23T00:00:00.000000000\",\"2022-02-24T00:00:00.000000000\",\"2022-02-25T00:00:00.000000000\",\"2022-02-28T00:00:00.000000000\",\"2022-03-01T00:00:00.000000000\",\"2022-03-02T00:00:00.000000000\",\"2022-03-03T00:00:00.000000000\",\"2022-03-04T00:00:00.000000000\",\"2022-03-07T00:00:00.000000000\",\"2022-03-08T00:00:00.000000000\",\"2022-03-09T00:00:00.000000000\",\"2022-03-10T00:00:00.000000000\",\"2022-03-11T00:00:00.000000000\",\"2022-03-14T00:00:00.000000000\",\"2022-03-15T00:00:00.000000000\",\"2022-03-16T00:00:00.000000000\",\"2022-03-17T00:00:00.000000000\",\"2022-03-18T00:00:00.000000000\",\"2022-03-21T00:00:00.000000000\",\"2022-03-22T00:00:00.000000000\",\"2022-03-23T00:00:00.000000000\",\"2022-03-24T00:00:00.000000000\",\"2022-03-25T00:00:00.000000000\",\"2022-03-28T00:00:00.000000000\",\"2022-03-29T00:00:00.000000000\",\"2022-03-30T00:00:00.000000000\",\"2022-03-31T00:00:00.000000000\",\"2022-04-01T00:00:00.000000000\",\"2022-04-04T00:00:00.000000000\",\"2022-04-05T00:00:00.000000000\",\"2022-04-06T00:00:00.000000000\",\"2022-04-07T00:00:00.000000000\",\"2022-04-08T00:00:00.000000000\",\"2022-04-11T00:00:00.000000000\",\"2022-04-12T00:00:00.000000000\",\"2022-04-13T00:00:00.000000000\",\"2022-04-14T00:00:00.000000000\",\"2022-04-19T00:00:00.000000000\",\"2022-04-20T00:00:00.000000000\",\"2022-04-21T00:00:00.000000000\",\"2022-04-22T00:00:00.000000000\",\"2022-04-25T00:00:00.000000000\",\"2022-04-26T00:00:00.000000000\",\"2022-04-27T00:00:00.000000000\",\"2022-04-28T00:00:00.000000000\",\"2022-04-29T00:00:00.000000000\",\"2022-05-02T00:00:00.000000000\",\"2022-05-03T00:00:00.000000000\",\"2022-05-04T00:00:00.000000000\",\"2022-05-05T00:00:00.000000000\",\"2022-05-06T00:00:00.000000000\",\"2022-05-09T00:00:00.000000000\",\"2022-05-10T00:00:00.000000000\",\"2022-05-11T00:00:00.000000000\",\"2022-05-12T00:00:00.000000000\",\"2022-05-13T00:00:00.000000000\",\"2022-05-16T00:00:00.000000000\",\"2022-05-17T00:00:00.000000000\",\"2022-05-18T00:00:00.000000000\",\"2022-05-19T00:00:00.000000000\",\"2022-05-20T00:00:00.000000000\",\"2022-05-23T00:00:00.000000000\",\"2022-05-24T00:00:00.000000000\",\"2022-05-25T00:00:00.000000000\",\"2022-05-26T00:00:00.000000000\",\"2022-05-27T00:00:00.000000000\",\"2022-05-30T00:00:00.000000000\",\"2022-05-31T00:00:00.000000000\",\"2022-06-01T00:00:00.000000000\",\"2022-06-02T00:00:00.000000000\",\"2022-06-03T00:00:00.000000000\",\"2022-06-06T00:00:00.000000000\",\"2022-06-07T00:00:00.000000000\",\"2022-06-08T00:00:00.000000000\",\"2022-06-09T00:00:00.000000000\",\"2022-06-10T00:00:00.000000000\",\"2022-06-13T00:00:00.000000000\",\"2022-06-14T00:00:00.000000000\",\"2022-06-15T00:00:00.000000000\",\"2022-06-16T00:00:00.000000000\",\"2022-06-17T00:00:00.000000000\",\"2022-06-20T00:00:00.000000000\",\"2022-06-21T00:00:00.000000000\",\"2022-06-22T00:00:00.000000000\",\"2022-06-23T00:00:00.000000000\",\"2022-06-24T00:00:00.000000000\",\"2022-06-27T00:00:00.000000000\",\"2022-06-28T00:00:00.000000000\",\"2022-06-29T00:00:00.000000000\",\"2022-06-30T00:00:00.000000000\",\"2022-07-01T00:00:00.000000000\",\"2022-07-04T00:00:00.000000000\",\"2022-07-05T00:00:00.000000000\",\"2022-07-06T00:00:00.000000000\",\"2022-07-07T00:00:00.000000000\",\"2022-07-08T00:00:00.000000000\",\"2022-07-11T00:00:00.000000000\",\"2022-07-12T00:00:00.000000000\",\"2022-07-13T00:00:00.000000000\",\"2022-07-14T00:00:00.000000000\",\"2022-07-15T00:00:00.000000000\",\"2022-07-18T00:00:00.000000000\",\"2022-07-19T00:00:00.000000000\",\"2022-07-20T00:00:00.000000000\",\"2022-07-21T00:00:00.000000000\",\"2022-07-22T00:00:00.000000000\",\"2022-07-25T00:00:00.000000000\",\"2022-07-26T00:00:00.000000000\",\"2022-07-27T00:00:00.000000000\",\"2022-07-28T00:00:00.000000000\",\"2022-07-29T00:00:00.000000000\",\"2022-08-01T00:00:00.000000000\",\"2022-08-02T00:00:00.000000000\",\"2022-08-03T00:00:00.000000000\",\"2022-08-04T00:00:00.000000000\",\"2022-08-05T00:00:00.000000000\",\"2022-08-08T00:00:00.000000000\",\"2022-08-09T00:00:00.000000000\",\"2022-08-10T00:00:00.000000000\",\"2022-08-11T00:00:00.000000000\",\"2022-08-12T00:00:00.000000000\",\"2022-08-15T00:00:00.000000000\",\"2022-08-16T00:00:00.000000000\",\"2022-08-17T00:00:00.000000000\",\"2022-08-18T00:00:00.000000000\",\"2022-08-19T00:00:00.000000000\",\"2022-08-22T00:00:00.000000000\",\"2022-08-23T00:00:00.000000000\",\"2022-08-24T00:00:00.000000000\",\"2022-08-25T00:00:00.000000000\",\"2022-08-26T00:00:00.000000000\",\"2022-08-29T00:00:00.000000000\",\"2022-08-30T00:00:00.000000000\",\"2022-08-31T00:00:00.000000000\",\"2022-09-01T00:00:00.000000000\",\"2022-09-02T00:00:00.000000000\",\"2022-09-05T00:00:00.000000000\",\"2022-09-06T00:00:00.000000000\",\"2022-09-07T00:00:00.000000000\",\"2022-09-08T00:00:00.000000000\",\"2022-09-09T00:00:00.000000000\",\"2022-09-12T00:00:00.000000000\",\"2022-09-13T00:00:00.000000000\",\"2022-09-14T00:00:00.000000000\",\"2022-09-15T00:00:00.000000000\",\"2022-09-16T00:00:00.000000000\",\"2022-09-19T00:00:00.000000000\",\"2022-09-20T00:00:00.000000000\",\"2022-09-21T00:00:00.000000000\",\"2022-09-22T00:00:00.000000000\",\"2022-09-23T00:00:00.000000000\",\"2022-09-26T00:00:00.000000000\",\"2022-09-27T00:00:00.000000000\",\"2022-09-28T00:00:00.000000000\",\"2022-09-29T00:00:00.000000000\",\"2022-09-30T00:00:00.000000000\",\"2022-10-03T00:00:00.000000000\",\"2022-10-04T00:00:00.000000000\",\"2022-10-05T00:00:00.000000000\",\"2022-10-06T00:00:00.000000000\",\"2022-10-07T00:00:00.000000000\",\"2022-10-10T00:00:00.000000000\",\"2022-10-11T00:00:00.000000000\",\"2022-10-12T00:00:00.000000000\",\"2022-10-13T00:00:00.000000000\",\"2022-10-14T00:00:00.000000000\",\"2022-10-17T00:00:00.000000000\",\"2022-10-18T00:00:00.000000000\",\"2022-10-19T00:00:00.000000000\",\"2022-10-20T00:00:00.000000000\",\"2022-10-21T00:00:00.000000000\",\"2022-10-24T00:00:00.000000000\",\"2022-10-25T00:00:00.000000000\",\"2022-10-26T00:00:00.000000000\",\"2022-10-27T00:00:00.000000000\",\"2022-10-28T00:00:00.000000000\",\"2022-10-31T00:00:00.000000000\",\"2022-11-01T00:00:00.000000000\",\"2022-11-02T00:00:00.000000000\",\"2022-11-03T00:00:00.000000000\",\"2022-11-04T00:00:00.000000000\",\"2022-11-07T00:00:00.000000000\",\"2022-11-08T00:00:00.000000000\",\"2022-11-09T00:00:00.000000000\",\"2022-11-10T00:00:00.000000000\",\"2022-11-11T00:00:00.000000000\",\"2022-11-14T00:00:00.000000000\",\"2022-11-15T00:00:00.000000000\",\"2022-11-16T00:00:00.000000000\",\"2022-11-17T00:00:00.000000000\",\"2022-11-18T00:00:00.000000000\",\"2022-11-21T00:00:00.000000000\",\"2022-11-22T00:00:00.000000000\",\"2022-11-23T00:00:00.000000000\",\"2022-11-24T00:00:00.000000000\",\"2022-11-25T00:00:00.000000000\",\"2022-11-28T00:00:00.000000000\",\"2022-11-29T00:00:00.000000000\",\"2022-11-30T00:00:00.000000000\",\"2022-12-01T00:00:00.000000000\",\"2022-12-02T00:00:00.000000000\",\"2022-12-05T00:00:00.000000000\",\"2022-12-06T00:00:00.000000000\",\"2022-12-07T00:00:00.000000000\",\"2022-12-08T00:00:00.000000000\",\"2022-12-09T00:00:00.000000000\",\"2022-12-12T00:00:00.000000000\",\"2022-12-13T00:00:00.000000000\",\"2022-12-14T00:00:00.000000000\",\"2022-12-15T00:00:00.000000000\",\"2022-12-16T00:00:00.000000000\",\"2022-12-19T00:00:00.000000000\",\"2022-12-20T00:00:00.000000000\",\"2022-12-21T00:00:00.000000000\",\"2022-12-22T00:00:00.000000000\",\"2022-12-23T00:00:00.000000000\",\"2022-12-27T00:00:00.000000000\",\"2022-12-28T00:00:00.000000000\",\"2022-12-29T00:00:00.000000000\",\"2022-12-30T00:00:00.000000000\",\"2023-01-02T00:00:00.000000000\",\"2023-01-03T00:00:00.000000000\",\"2023-01-04T00:00:00.000000000\",\"2023-01-05T00:00:00.000000000\",\"2023-01-06T00:00:00.000000000\",\"2023-01-09T00:00:00.000000000\",\"2023-01-10T00:00:00.000000000\",\"2023-01-11T00:00:00.000000000\",\"2023-01-12T00:00:00.000000000\",\"2023-01-13T00:00:00.000000000\",\"2023-01-16T00:00:00.000000000\",\"2023-01-17T00:00:00.000000000\",\"2023-01-18T00:00:00.000000000\",\"2023-01-19T00:00:00.000000000\",\"2023-01-20T00:00:00.000000000\",\"2023-01-23T00:00:00.000000000\",\"2023-01-24T00:00:00.000000000\",\"2023-01-25T00:00:00.000000000\",\"2023-01-26T00:00:00.000000000\",\"2023-01-27T00:00:00.000000000\",\"2023-01-30T00:00:00.000000000\",\"2023-01-31T00:00:00.000000000\",\"2023-02-01T00:00:00.000000000\",\"2023-02-02T00:00:00.000000000\",\"2023-02-03T00:00:00.000000000\",\"2023-02-06T00:00:00.000000000\",\"2023-02-07T00:00:00.000000000\",\"2023-02-08T00:00:00.000000000\",\"2023-02-09T00:00:00.000000000\",\"2023-02-10T00:00:00.000000000\",\"2023-02-13T00:00:00.000000000\",\"2023-02-14T00:00:00.000000000\",\"2023-02-15T00:00:00.000000000\",\"2023-02-16T00:00:00.000000000\",\"2023-02-17T00:00:00.000000000\",\"2023-02-20T00:00:00.000000000\",\"2023-02-21T00:00:00.000000000\",\"2023-02-22T00:00:00.000000000\",\"2023-02-23T00:00:00.000000000\",\"2023-02-24T00:00:00.000000000\",\"2023-02-27T00:00:00.000000000\",\"2023-02-28T00:00:00.000000000\",\"2023-03-01T00:00:00.000000000\",\"2023-03-02T00:00:00.000000000\",\"2023-03-03T00:00:00.000000000\",\"2023-03-06T00:00:00.000000000\",\"2023-03-07T00:00:00.000000000\",\"2023-03-08T00:00:00.000000000\",\"2023-03-09T00:00:00.000000000\",\"2023-03-10T00:00:00.000000000\",\"2023-03-13T00:00:00.000000000\",\"2023-03-14T00:00:00.000000000\",\"2023-03-15T00:00:00.000000000\",\"2023-03-16T00:00:00.000000000\",\"2023-03-17T00:00:00.000000000\",\"2023-03-20T00:00:00.000000000\",\"2023-03-21T00:00:00.000000000\",\"2023-03-22T00:00:00.000000000\",\"2023-03-23T00:00:00.000000000\",\"2023-03-24T00:00:00.000000000\",\"2023-03-27T00:00:00.000000000\",\"2023-03-28T00:00:00.000000000\",\"2023-03-29T00:00:00.000000000\",\"2023-03-30T00:00:00.000000000\",\"2023-03-31T00:00:00.000000000\",\"2023-04-03T00:00:00.000000000\",\"2023-04-04T00:00:00.000000000\",\"2023-04-05T00:00:00.000000000\",\"2023-04-06T00:00:00.000000000\",\"2023-04-11T00:00:00.000000000\",\"2023-04-12T00:00:00.000000000\",\"2023-04-13T00:00:00.000000000\",\"2023-04-14T00:00:00.000000000\",\"2023-04-17T00:00:00.000000000\",\"2023-04-18T00:00:00.000000000\",\"2023-04-19T00:00:00.000000000\",\"2023-04-20T00:00:00.000000000\",\"2023-04-21T00:00:00.000000000\",\"2023-04-24T00:00:00.000000000\",\"2023-04-25T00:00:00.000000000\",\"2023-04-26T00:00:00.000000000\",\"2023-04-27T00:00:00.000000000\",\"2023-04-28T00:00:00.000000000\",\"2023-05-02T00:00:00.000000000\",\"2023-05-03T00:00:00.000000000\",\"2023-05-04T00:00:00.000000000\",\"2023-05-05T00:00:00.000000000\",\"2023-05-08T00:00:00.000000000\",\"2023-05-09T00:00:00.000000000\",\"2023-05-10T00:00:00.000000000\",\"2023-05-11T00:00:00.000000000\",\"2023-05-12T00:00:00.000000000\",\"2023-05-15T00:00:00.000000000\",\"2023-05-16T00:00:00.000000000\",\"2023-05-17T00:00:00.000000000\",\"2023-05-18T00:00:00.000000000\",\"2023-05-19T00:00:00.000000000\",\"2023-05-22T00:00:00.000000000\",\"2023-05-23T00:00:00.000000000\",\"2023-05-24T00:00:00.000000000\",\"2023-05-25T00:00:00.000000000\",\"2023-05-26T00:00:00.000000000\",\"2023-05-29T00:00:00.000000000\",\"2023-05-30T00:00:00.000000000\",\"2023-05-31T00:00:00.000000000\",\"2023-06-01T00:00:00.000000000\",\"2023-06-02T00:00:00.000000000\",\"2023-06-05T00:00:00.000000000\",\"2023-06-06T00:00:00.000000000\",\"2023-06-07T00:00:00.000000000\",\"2023-06-08T00:00:00.000000000\",\"2023-06-09T00:00:00.000000000\",\"2023-06-12T00:00:00.000000000\",\"2023-06-13T00:00:00.000000000\",\"2023-06-14T00:00:00.000000000\",\"2023-06-15T00:00:00.000000000\",\"2023-06-16T00:00:00.000000000\",\"2023-06-19T00:00:00.000000000\",\"2023-06-20T00:00:00.000000000\",\"2023-06-21T00:00:00.000000000\",\"2023-06-22T00:00:00.000000000\",\"2023-06-23T00:00:00.000000000\",\"2023-06-26T00:00:00.000000000\",\"2023-06-27T00:00:00.000000000\",\"2023-06-28T00:00:00.000000000\",\"2023-06-29T00:00:00.000000000\",\"2023-06-30T00:00:00.000000000\",\"2023-07-03T00:00:00.000000000\",\"2023-07-04T00:00:00.000000000\",\"2023-07-05T00:00:00.000000000\",\"2023-07-06T00:00:00.000000000\",\"2023-07-07T00:00:00.000000000\",\"2023-07-10T00:00:00.000000000\",\"2023-07-11T00:00:00.000000000\",\"2023-07-12T00:00:00.000000000\",\"2023-07-13T00:00:00.000000000\",\"2023-07-14T00:00:00.000000000\",\"2023-07-17T00:00:00.000000000\",\"2023-07-18T00:00:00.000000000\",\"2023-07-19T00:00:00.000000000\",\"2023-07-20T00:00:00.000000000\",\"2023-07-21T00:00:00.000000000\",\"2023-07-24T00:00:00.000000000\",\"2023-07-25T00:00:00.000000000\",\"2023-07-26T00:00:00.000000000\",\"2023-07-27T00:00:00.000000000\",\"2023-07-28T00:00:00.000000000\",\"2023-07-31T00:00:00.000000000\",\"2023-08-01T00:00:00.000000000\",\"2023-08-02T00:00:00.000000000\",\"2023-08-03T00:00:00.000000000\",\"2023-08-04T00:00:00.000000000\",\"2023-08-07T00:00:00.000000000\",\"2023-08-08T00:00:00.000000000\",\"2023-08-09T00:00:00.000000000\",\"2023-08-10T00:00:00.000000000\",\"2023-08-11T00:00:00.000000000\",\"2023-08-14T00:00:00.000000000\",\"2023-08-15T00:00:00.000000000\",\"2023-08-16T00:00:00.000000000\",\"2023-08-17T00:00:00.000000000\",\"2023-08-18T00:00:00.000000000\",\"2023-08-21T00:00:00.000000000\",\"2023-08-22T00:00:00.000000000\",\"2023-08-23T00:00:00.000000000\",\"2023-08-24T00:00:00.000000000\",\"2023-08-25T00:00:00.000000000\",\"2023-08-28T00:00:00.000000000\",\"2023-08-29T00:00:00.000000000\",\"2023-08-30T00:00:00.000000000\",\"2023-08-31T00:00:00.000000000\",\"2023-09-01T00:00:00.000000000\",\"2023-09-04T00:00:00.000000000\",\"2023-09-05T00:00:00.000000000\",\"2023-09-06T00:00:00.000000000\",\"2023-09-07T00:00:00.000000000\",\"2023-09-08T00:00:00.000000000\",\"2023-09-11T00:00:00.000000000\",\"2023-09-12T00:00:00.000000000\",\"2023-09-13T00:00:00.000000000\",\"2023-09-14T00:00:00.000000000\",\"2023-09-15T00:00:00.000000000\",\"2023-09-18T00:00:00.000000000\",\"2023-09-19T00:00:00.000000000\",\"2023-09-20T00:00:00.000000000\",\"2023-09-21T00:00:00.000000000\",\"2023-09-22T00:00:00.000000000\",\"2023-09-25T00:00:00.000000000\",\"2023-09-26T00:00:00.000000000\",\"2023-09-27T00:00:00.000000000\",\"2023-09-28T00:00:00.000000000\",\"2023-09-29T00:00:00.000000000\",\"2023-10-02T00:00:00.000000000\",\"2023-10-03T00:00:00.000000000\",\"2023-10-04T00:00:00.000000000\",\"2023-10-05T00:00:00.000000000\",\"2023-10-06T00:00:00.000000000\",\"2023-10-09T00:00:00.000000000\",\"2023-10-10T00:00:00.000000000\",\"2023-10-11T00:00:00.000000000\",\"2023-10-12T00:00:00.000000000\",\"2023-10-13T00:00:00.000000000\",\"2023-10-16T00:00:00.000000000\",\"2023-10-17T00:00:00.000000000\",\"2023-10-18T00:00:00.000000000\",\"2023-10-19T00:00:00.000000000\",\"2023-10-20T00:00:00.000000000\",\"2023-10-23T00:00:00.000000000\",\"2023-10-24T00:00:00.000000000\",\"2023-10-25T00:00:00.000000000\",\"2023-10-26T00:00:00.000000000\",\"2023-10-27T00:00:00.000000000\",\"2023-10-30T00:00:00.000000000\",\"2023-10-31T00:00:00.000000000\",\"2023-11-01T00:00:00.000000000\",\"2023-11-02T00:00:00.000000000\",\"2023-11-03T00:00:00.000000000\",\"2023-11-06T00:00:00.000000000\",\"2023-11-07T00:00:00.000000000\",\"2023-11-08T00:00:00.000000000\",\"2023-11-09T00:00:00.000000000\",\"2023-11-10T00:00:00.000000000\",\"2023-11-13T00:00:00.000000000\",\"2023-11-14T00:00:00.000000000\",\"2023-11-15T00:00:00.000000000\",\"2023-11-16T00:00:00.000000000\",\"2023-11-17T00:00:00.000000000\",\"2023-11-20T00:00:00.000000000\",\"2023-11-21T00:00:00.000000000\",\"2023-11-22T00:00:00.000000000\",\"2023-11-23T00:00:00.000000000\",\"2023-11-24T00:00:00.000000000\",\"2023-11-27T00:00:00.000000000\",\"2023-11-28T00:00:00.000000000\",\"2023-11-29T00:00:00.000000000\",\"2023-11-30T00:00:00.000000000\",\"2023-12-01T00:00:00.000000000\",\"2023-12-04T00:00:00.000000000\",\"2023-12-05T00:00:00.000000000\",\"2023-12-06T00:00:00.000000000\",\"2023-12-07T00:00:00.000000000\",\"2023-12-08T00:00:00.000000000\",\"2023-12-11T00:00:00.000000000\",\"2023-12-12T00:00:00.000000000\",\"2023-12-13T00:00:00.000000000\",\"2023-12-14T00:00:00.000000000\",\"2023-12-15T00:00:00.000000000\",\"2023-12-18T00:00:00.000000000\",\"2023-12-19T00:00:00.000000000\",\"2023-12-20T00:00:00.000000000\",\"2023-12-21T00:00:00.000000000\",\"2023-12-22T00:00:00.000000000\",\"2023-12-27T00:00:00.000000000\",\"2023-12-28T00:00:00.000000000\",\"2023-12-29T00:00:00.000000000\",\"2024-01-02T00:00:00.000000000\",\"2024-01-03T00:00:00.000000000\",\"2024-01-04T00:00:00.000000000\",\"2024-01-05T00:00:00.000000000\",\"2024-01-08T00:00:00.000000000\",\"2024-01-09T00:00:00.000000000\",\"2024-01-10T00:00:00.000000000\",\"2024-01-11T00:00:00.000000000\",\"2024-01-12T00:00:00.000000000\",\"2024-01-15T00:00:00.000000000\",\"2024-01-16T00:00:00.000000000\",\"2024-01-17T00:00:00.000000000\",\"2024-01-18T00:00:00.000000000\",\"2024-01-19T00:00:00.000000000\",\"2024-01-22T00:00:00.000000000\",\"2024-01-23T00:00:00.000000000\",\"2024-01-24T00:00:00.000000000\",\"2024-01-25T00:00:00.000000000\",\"2024-01-26T00:00:00.000000000\",\"2024-01-29T00:00:00.000000000\",\"2024-01-30T00:00:00.000000000\",\"2024-01-31T00:00:00.000000000\",\"2024-02-01T00:00:00.000000000\",\"2024-02-02T00:00:00.000000000\",\"2024-02-05T00:00:00.000000000\",\"2024-02-06T00:00:00.000000000\",\"2024-02-07T00:00:00.000000000\",\"2024-02-08T00:00:00.000000000\",\"2024-02-09T00:00:00.000000000\",\"2024-02-12T00:00:00.000000000\",\"2024-02-13T00:00:00.000000000\",\"2024-02-14T00:00:00.000000000\",\"2024-02-15T00:00:00.000000000\",\"2024-02-16T00:00:00.000000000\",\"2024-02-19T00:00:00.000000000\",\"2024-02-20T00:00:00.000000000\",\"2024-02-21T00:00:00.000000000\",\"2024-02-22T00:00:00.000000000\",\"2024-02-23T00:00:00.000000000\",\"2024-02-26T00:00:00.000000000\",\"2024-02-27T00:00:00.000000000\",\"2024-02-28T00:00:00.000000000\",\"2024-02-29T00:00:00.000000000\",\"2024-03-01T00:00:00.000000000\",\"2024-03-04T00:00:00.000000000\",\"2024-03-05T00:00:00.000000000\",\"2024-03-06T00:00:00.000000000\",\"2024-03-07T00:00:00.000000000\",\"2024-03-08T00:00:00.000000000\",\"2024-03-11T00:00:00.000000000\",\"2024-03-12T00:00:00.000000000\",\"2024-03-13T00:00:00.000000000\",\"2024-03-14T00:00:00.000000000\",\"2024-03-15T00:00:00.000000000\",\"2024-03-18T00:00:00.000000000\",\"2024-03-19T00:00:00.000000000\",\"2024-03-20T00:00:00.000000000\",\"2024-03-21T00:00:00.000000000\",\"2024-03-22T00:00:00.000000000\",\"2024-03-25T00:00:00.000000000\",\"2024-03-26T00:00:00.000000000\",\"2024-03-27T00:00:00.000000000\",\"2024-03-28T00:00:00.000000000\",\"2024-04-02T00:00:00.000000000\",\"2024-04-03T00:00:00.000000000\",\"2024-04-04T00:00:00.000000000\",\"2024-04-05T00:00:00.000000000\",\"2024-04-08T00:00:00.000000000\",\"2024-04-09T00:00:00.000000000\",\"2024-04-10T00:00:00.000000000\",\"2024-04-11T00:00:00.000000000\",\"2024-04-12T00:00:00.000000000\",\"2024-04-15T00:00:00.000000000\",\"2024-04-16T00:00:00.000000000\",\"2024-04-17T00:00:00.000000000\",\"2024-04-18T00:00:00.000000000\",\"2024-04-19T00:00:00.000000000\",\"2024-04-22T00:00:00.000000000\",\"2024-04-23T00:00:00.000000000\",\"2024-04-24T00:00:00.000000000\",\"2024-04-25T00:00:00.000000000\",\"2024-04-26T00:00:00.000000000\",\"2024-04-29T00:00:00.000000000\",\"2024-04-30T00:00:00.000000000\",\"2024-05-02T00:00:00.000000000\",\"2024-05-03T00:00:00.000000000\",\"2024-05-06T00:00:00.000000000\",\"2024-05-07T00:00:00.000000000\",\"2024-05-08T00:00:00.000000000\",\"2024-05-09T00:00:00.000000000\",\"2024-05-10T00:00:00.000000000\",\"2024-05-13T00:00:00.000000000\",\"2024-05-14T00:00:00.000000000\",\"2024-05-15T00:00:00.000000000\",\"2024-05-16T00:00:00.000000000\",\"2024-05-17T00:00:00.000000000\",\"2024-05-20T00:00:00.000000000\",\"2024-05-21T00:00:00.000000000\",\"2024-05-22T00:00:00.000000000\",\"2024-05-23T00:00:00.000000000\",\"2024-05-24T00:00:00.000000000\",\"2024-05-27T00:00:00.000000000\",\"2024-05-28T00:00:00.000000000\",\"2024-05-29T00:00:00.000000000\",\"2024-05-30T00:00:00.000000000\",\"2024-05-31T00:00:00.000000000\",\"2024-06-03T00:00:00.000000000\",\"2024-06-04T00:00:00.000000000\",\"2024-06-05T00:00:00.000000000\",\"2024-06-06T00:00:00.000000000\",\"2024-06-07T00:00:00.000000000\",\"2024-06-10T00:00:00.000000000\",\"2024-06-11T00:00:00.000000000\",\"2024-06-12T00:00:00.000000000\",\"2024-06-13T00:00:00.000000000\",\"2024-06-14T00:00:00.000000000\",\"2024-06-17T00:00:00.000000000\",\"2024-06-18T00:00:00.000000000\",\"2024-06-19T00:00:00.000000000\",\"2024-06-20T00:00:00.000000000\",\"2024-06-21T00:00:00.000000000\",\"2024-06-24T00:00:00.000000000\",\"2024-06-25T00:00:00.000000000\",\"2024-06-26T00:00:00.000000000\",\"2024-06-27T00:00:00.000000000\",\"2024-06-28T00:00:00.000000000\",\"2024-07-01T00:00:00.000000000\",\"2024-07-02T00:00:00.000000000\",\"2024-07-03T00:00:00.000000000\",\"2024-07-04T00:00:00.000000000\",\"2024-07-05T00:00:00.000000000\",\"2024-07-08T00:00:00.000000000\",\"2024-07-09T00:00:00.000000000\",\"2024-07-10T00:00:00.000000000\",\"2024-07-11T00:00:00.000000000\",\"2024-07-12T00:00:00.000000000\",\"2024-07-15T00:00:00.000000000\",\"2024-07-16T00:00:00.000000000\",\"2024-07-17T00:00:00.000000000\",\"2024-07-18T00:00:00.000000000\",\"2024-07-19T00:00:00.000000000\",\"2024-07-22T00:00:00.000000000\",\"2024-07-23T00:00:00.000000000\",\"2024-07-24T00:00:00.000000000\",\"2024-07-25T00:00:00.000000000\",\"2024-07-26T00:00:00.000000000\",\"2024-07-29T00:00:00.000000000\",\"2024-07-30T00:00:00.000000000\",\"2024-07-31T00:00:00.000000000\",\"2024-08-01T00:00:00.000000000\",\"2024-08-02T00:00:00.000000000\",\"2024-08-05T00:00:00.000000000\",\"2024-08-06T00:00:00.000000000\",\"2024-08-07T00:00:00.000000000\",\"2024-08-08T00:00:00.000000000\",\"2024-08-09T00:00:00.000000000\",\"2024-08-12T00:00:00.000000000\",\"2024-08-13T00:00:00.000000000\",\"2024-08-14T00:00:00.000000000\",\"2024-08-15T00:00:00.000000000\",\"2024-08-16T00:00:00.000000000\",\"2024-08-19T00:00:00.000000000\",\"2024-08-20T00:00:00.000000000\",\"2024-08-21T00:00:00.000000000\",\"2024-08-22T00:00:00.000000000\",\"2024-08-23T00:00:00.000000000\",\"2024-08-26T00:00:00.000000000\",\"2024-08-27T00:00:00.000000000\",\"2024-08-28T00:00:00.000000000\",\"2024-08-29T00:00:00.000000000\",\"2024-08-30T00:00:00.000000000\",\"2024-09-02T00:00:00.000000000\",\"2024-09-03T00:00:00.000000000\",\"2024-09-04T00:00:00.000000000\",\"2024-09-05T00:00:00.000000000\",\"2024-09-06T00:00:00.000000000\",\"2024-09-09T00:00:00.000000000\",\"2024-09-10T00:00:00.000000000\",\"2024-09-11T00:00:00.000000000\",\"2024-09-12T00:00:00.000000000\",\"2024-09-13T00:00:00.000000000\",\"2024-09-16T00:00:00.000000000\",\"2024-09-17T00:00:00.000000000\",\"2024-09-18T00:00:00.000000000\",\"2024-09-19T00:00:00.000000000\",\"2024-09-20T00:00:00.000000000\",\"2024-09-23T00:00:00.000000000\",\"2024-09-24T00:00:00.000000000\",\"2024-09-25T00:00:00.000000000\",\"2024-09-26T00:00:00.000000000\",\"2024-09-27T00:00:00.000000000\",\"2024-09-30T00:00:00.000000000\",\"2024-10-01T00:00:00.000000000\",\"2024-10-02T00:00:00.000000000\",\"2024-10-03T00:00:00.000000000\",\"2024-10-04T00:00:00.000000000\",\"2024-10-07T00:00:00.000000000\",\"2024-10-08T00:00:00.000000000\",\"2024-10-09T00:00:00.000000000\",\"2024-10-10T00:00:00.000000000\",\"2024-10-11T00:00:00.000000000\",\"2024-10-14T00:00:00.000000000\",\"2024-10-15T00:00:00.000000000\",\"2024-10-16T00:00:00.000000000\",\"2024-10-17T00:00:00.000000000\",\"2024-10-18T00:00:00.000000000\",\"2024-10-21T00:00:00.000000000\",\"2024-10-22T00:00:00.000000000\",\"2024-10-23T00:00:00.000000000\",\"2024-10-24T00:00:00.000000000\",\"2024-10-25T00:00:00.000000000\",\"2024-10-28T00:00:00.000000000\",\"2024-10-29T00:00:00.000000000\",\"2024-10-30T00:00:00.000000000\",\"2024-10-31T00:00:00.000000000\",\"2024-11-01T00:00:00.000000000\",\"2024-11-04T00:00:00.000000000\",\"2024-11-05T00:00:00.000000000\",\"2024-11-06T00:00:00.000000000\",\"2024-11-07T00:00:00.000000000\",\"2024-11-08T00:00:00.000000000\",\"2024-11-11T00:00:00.000000000\",\"2024-11-12T00:00:00.000000000\",\"2024-11-13T00:00:00.000000000\",\"2024-11-14T00:00:00.000000000\",\"2024-11-15T00:00:00.000000000\",\"2024-11-18T00:00:00.000000000\",\"2024-11-19T00:00:00.000000000\",\"2024-11-20T00:00:00.000000000\",\"2024-11-21T00:00:00.000000000\",\"2024-11-22T00:00:00.000000000\",\"2024-11-25T00:00:00.000000000\",\"2024-11-26T00:00:00.000000000\",\"2024-11-27T00:00:00.000000000\",\"2024-11-28T00:00:00.000000000\",\"2024-11-29T00:00:00.000000000\",\"2024-12-02T00:00:00.000000000\",\"2024-12-03T00:00:00.000000000\",\"2024-12-04T00:00:00.000000000\",\"2024-12-05T00:00:00.000000000\",\"2024-12-06T00:00:00.000000000\",\"2024-12-09T00:00:00.000000000\",\"2024-12-10T00:00:00.000000000\",\"2024-12-11T00:00:00.000000000\",\"2024-12-12T00:00:00.000000000\",\"2024-12-13T00:00:00.000000000\",\"2024-12-16T00:00:00.000000000\",\"2024-12-17T00:00:00.000000000\",\"2024-12-18T00:00:00.000000000\",\"2024-12-19T00:00:00.000000000\",\"2024-12-20T00:00:00.000000000\",\"2024-12-23T00:00:00.000000000\",\"2024-12-24T00:00:00.000000000\",\"2024-12-27T00:00:00.000000000\",\"2024-12-30T00:00:00.000000000\",\"2024-12-31T00:00:00.000000000\",\"2025-01-02T00:00:00.000000000\",\"2025-01-03T00:00:00.000000000\",\"2025-01-06T00:00:00.000000000\",\"2025-01-07T00:00:00.000000000\",\"2025-01-08T00:00:00.000000000\",\"2025-01-09T00:00:00.000000000\",\"2025-01-10T00:00:00.000000000\",\"2025-01-13T00:00:00.000000000\",\"2025-01-14T00:00:00.000000000\",\"2025-01-15T00:00:00.000000000\",\"2025-01-16T00:00:00.000000000\",\"2025-01-17T00:00:00.000000000\",\"2025-01-20T00:00:00.000000000\",\"2025-01-21T00:00:00.000000000\",\"2025-01-22T00:00:00.000000000\",\"2025-01-23T00:00:00.000000000\",\"2025-01-24T00:00:00.000000000\",\"2025-01-27T00:00:00.000000000\",\"2025-01-28T00:00:00.000000000\",\"2025-01-29T00:00:00.000000000\",\"2025-01-30T00:00:00.000000000\",\"2025-01-31T00:00:00.000000000\",\"2025-02-03T00:00:00.000000000\",\"2025-02-04T00:00:00.000000000\",\"2025-02-05T00:00:00.000000000\",\"2025-02-06T00:00:00.000000000\",\"2025-02-07T00:00:00.000000000\",\"2025-02-10T00:00:00.000000000\",\"2025-02-11T00:00:00.000000000\",\"2025-02-12T00:00:00.000000000\",\"2025-02-13T00:00:00.000000000\",\"2025-02-14T00:00:00.000000000\",\"2025-02-17T00:00:00.000000000\",\"2025-02-18T00:00:00.000000000\",\"2025-02-19T00:00:00.000000000\",\"2025-02-20T00:00:00.000000000\",\"2025-02-21T00:00:00.000000000\",\"2025-02-24T00:00:00.000000000\",\"2025-02-25T00:00:00.000000000\",\"2025-02-26T00:00:00.000000000\",\"2025-02-27T00:00:00.000000000\",\"2025-02-28T00:00:00.000000000\",\"2025-03-03T00:00:00.000000000\",\"2025-03-04T00:00:00.000000000\",\"2025-03-05T00:00:00.000000000\",\"2025-03-06T00:00:00.000000000\",\"2025-03-07T00:00:00.000000000\",\"2025-03-10T00:00:00.000000000\",\"2025-03-11T00:00:00.000000000\",\"2025-03-12T00:00:00.000000000\",\"2025-03-13T00:00:00.000000000\",\"2025-03-14T00:00:00.000000000\",\"2025-03-17T00:00:00.000000000\",\"2025-03-18T00:00:00.000000000\",\"2025-03-19T00:00:00.000000000\",\"2025-03-20T00:00:00.000000000\",\"2025-03-21T00:00:00.000000000\",\"2025-03-24T00:00:00.000000000\",\"2025-03-25T00:00:00.000000000\",\"2025-03-26T00:00:00.000000000\",\"2025-03-27T00:00:00.000000000\",\"2025-03-28T00:00:00.000000000\",\"2025-03-31T00:00:00.000000000\",\"2025-04-01T00:00:00.000000000\",\"2025-04-02T00:00:00.000000000\",\"2025-04-03T00:00:00.000000000\",\"2025-04-04T00:00:00.000000000\",\"2025-04-07T00:00:00.000000000\",\"2025-04-08T00:00:00.000000000\",\"2025-04-09T00:00:00.000000000\",\"2025-04-10T00:00:00.000000000\",\"2025-04-11T00:00:00.000000000\",\"2025-04-14T00:00:00.000000000\",\"2025-04-15T00:00:00.000000000\",\"2025-04-16T00:00:00.000000000\",\"2025-04-17T00:00:00.000000000\"],\"y\":{\"dtype\":\"i4\",\"bdata\":\"Hx0AAHkeAABZFQAAsgYAACoEAADtIwAAxCUAAJEAAACJBgAAMQUAACcMAACFAQAASgoAANwFAAD\\u002fHQAAMQUAAAkHAABzCQAAZwgAAMw+AABPFAAAhA0AANYQAAAnBAAAbhkAADAyAACNAwAAbwEAAJIWAACcPQAAfwoAAB0IAACWLQAAYAQAAHsdAABXDgAAWBUAAMkFAAApGAAADxEAAO8FAABVCAAAbDMAAFQRAABuBQAAMQkAAOIhAABoXQAAIVcAAPZXAAADXgAA8jkAADQsAACDDgAAvRkAAHVDAACkAwAAZBgAAM4sAADLBwAA4AYAAIMjAAAaCQAA8QcAANIJAADCCgAAXw8AAG0NAACJAQAAfQUAAA4EAAA1FwAAaRMAAMIhAAAnCwAAngIAALkLAADYCAAAEB4AAPASAAASCgAAuQUAAKgQAAD0BQAANTwAAJJRAAA2AwAAIUoAAGNSAAA3AwAAASMAAKoUAABTIwAApVQAADoLAQBnFQAAKAUAALvdAAA8MAAAhgcAADwaAADkBwAAzkYAAN0NAACJEAAAcgsAAFlDAAAiZgAAz1kAAGQcAACRTgAA0RsAABYEAAAnXAAAxFYAAIBaAACRBQAAsRUAAJ4NAACSIgAASgQAAMMKAABaEAAAGC8AAO0nAACfFgAA5yEAAOcJAACTMgAA4QUAAPBBAADCUQAA5S8AADc+AACdMAAAhwQAAHALAAAHnwAAJh0AAGUvAADaHgAAengAAAQ8AABsRQAAciYAACohAAAuFQAAylgAAH4wAACNGwAAFiAAAFMyAADRFgAANQgAAGkGAADHCwAAUuQAAAaKAAAGKgAAVAUAACBsAABPIQAAnVwAACCpAACREgAATjUAANwZAAACQwAAo2YAALUPAABLLQAA1mcAAHwWAABLIAAAFGoAACY6AADaIgAAmxcAAKRuAABmPwAAIikAANEmAAB3HAAAOEcAAP5fAADinAAAy5EAAEgMAAAUDwAAFxQAAJoXAAD\\u002fGwAAJ30AAH4SAADmWgAAuTMAAP4dAAAfDAAAKyYAAE8jAADoHgAAHh4AABcjAAAjRAAABA0AABEXAACpRgAAPggAAGgQAADHHwAAxDIAAP4DAACgDwAAQwQAALAIAACZ0gAAvToAAAgbAAD2CgAAyAsAAJOCAAC6MAAAhD4AAKaSAQAoyAAArx0AAKIMAAD+wwAAOYIBAOIWAAD5HQAADXQAAEYQAACzCwAALT8AAP0rAAAaOwAAticAAMmBAADeDgAA30QAAKlYAADQBAAA5wcAAGcfAACqPAAA2hoAAEOVAACnHwAAilEAAL1KAADRGQAAsB0AAP0HAAATEwAAxgwAAHwCAACmBAAAlCMAACgVAAAeBQAAFwMAAFAQAABaCwAAiiIAAHwhAAAsFwAAdRQAAB0GAAD7AAAALQ0AABkMAACWBAAAoQYAAPoIAAAgFgAAYkQAAKw2AABhDwAAxwMAAM0aAAADgAAA0CcAAP1FAAAvCQAAuwgAAL7rAAA4rgAAzg8AAJQxAACrFwAAfDcDAAl8AQA6cQAAK04AAItIAQBPEgAAgQ0AAB0vAABhJwAAGJAAAPwqAAAMCwIAwwoAADMLAADIPgAAqSQAAIBdAACLEgAAfQQAAMAOAAB5QgAAlyUAANoyAAATKQAAfCkAAKYtAADdAgAABiAAABoKAACzAgAAfnwAACsHAACHAwAAiSMAAAUXAACLDQAA+hIAAIMoAABTPwAAbxoAAN8hAACQXAAAURgAABYTAAAPAgAACQMAAH8GAAD5DAIAhQIAAO0QAAC0AgAArIMAABkOAAASBAAAmQEAAPAOAAB6GAAAAQ8AAJ0DAAD0AgAAIQEAALMBAABHEwAALyEAAJkJAAC7SAAAM1IAAIUcAACtFgAADhEAAOYNAACdLQAATxYAAAQLAABeDgAARwUAANYPAAAeBwAAqw0AAIIDAADOEAAAyQ4AALMKAABYEAAAAQ0AAEcPAADCEQAArAMAAK0JAABYEgAAPBcAAOcHAAChEQAAGwIAAMQPAAD0AQAAQxEAAB8IAACXBQAA4UEAADgJAADrrQAAz0AAANISAAAQCgAAKAcAAMtJAADxJgAA\\u002fwAAANkoAAB4IwAAKEIAAKEgAACkGgAA1QoAADILAAAaBQAADQwAAJUcAAAoNgAAARAAAG4fAAB9FQAA7BQAAJkDAAAvBQAA+iQAABgkAABtAQAAaAYAACkgAAAPDQAA2wAAAMcXAACQLAAAAw8AACYQAADSQgAANBkAAIhRAAC7RwAADi8AAFceAAA0IQAAzz4AAJgSAAAfCwAAFhgAAI0KAADxEAAA+QsAALYFAAAcFwAALykAAH0AAAAbDAAAYwwAAC8lAAAOTwAAmg4AADcTAABoCAAAuiEAAPkHAACECQAASRUAAF4yAABpNAAA1gYAAFcEAABMAgAACwEAAAABAABOKQAAM1MAAPsAAADmAAAAGyUAANQGAABrBAAAWAIAAN0QAABVBAAAcAMAAFQEAACoCQAAyhUAAJlTAAAjIAAATQQAAHcDAACxCAAA9wkAAIcBAAALCwAAjgUAAMgAAACFCAAAmAMAAGVLAACbAwAAJxMAAOkAAAAJHAAAkgEAAEsCAAAlFgAAyQAAAC4BAABKAQAATgIAAJgGAABQDAAAUwQAAGkAAAD0AQAAuAEAAMomAACXQwAArwQAAEgIAAAGBQAAhgkBALguAAD2AwAAEwEAABEKAAASAgAAQwkAAHkCAADwAQAA6woAAJ4EAAAYAAAAchEAAEUFAAB4BQAA2A0AAK0IAAA9DAAAkScAAA4LAAACCAAA7gcAAIAGAAByCwAAKgsAAAAAAAA4BAAA5AgAAHgsAAB1GAAAn70AADoPAABYDgAAoAAAAGcMAADACQAAQAAAANIBAABDAQAAMgUAAAoIAABXBAAA0QoAAAMIAAAqFQAAPx4AACsMAACzBAAACgAAAIIFAAAwBgAABRAAAJ4TAAA+BwAAVhMAAKc3AAASBQAA+QEAAD0JAABXBwAAdhoAAJQLAAATBgAAZQAAACQbAAAZDwAAEgIAAJYAAACjAwAA3AYAAOMKAADMAgAAIwwAAA85AACVAAAAcw8AAIMVAACfKgAA3AUAAJE9AAB6EwAAUG0AAC2\\u002fAAAIDAAAgBEAANx4AADRDQAAdwQAAO8BAACIAwAAWgoAAFYeAADmGQAANTUAAMwqAACBMAAAdwMAAJweAABxCwAAMQgAAME0AACiFQAAch0AAKQvAAAkLAAATSAAADwSAAAULgAATT8AAKokAACjEwAABh4AALQHAAAPFAAA+Q4AAAQWAABwHAAA9yAAAEsMAADNHAAA+1AAALAmAACuJQAAlREAAFlIAAC\\u002fJAAAdCMAAB5tAACfEgIANcwAANNMAACgQgAAwz4AADRJAABQMwAArzEAABhsAAAQSgAAaRQAAPcsAADAGAAAlDMAAGobAADJGwAA1UIAADwiAABZOgAANwoAAM8oAAD4HAAARTMAAEAUAABIHAAABRQAAMQjAACMGwAAd14AAGIdAAAwIAAAVgYAAP0zAACoCwAAxBUAAHMJAAAARgAAZTAAABIWAABDBwAAiB8AAGE4AAD1HQAAgh8AACYPAACRbwAAX0oAAN04AACMRQAAw0UAALI7AACtEAAAmAQAAHsDAADfGwAA8BkAAC8YAACSBgAArA4AANwHAAA+DQAARAkAAE50AABLBQAA3QEAABEKAADBBAAA5AwAAD8MAABUAgAAZWUAAEgSAABDAAAARRUAAEQEAAArAQAAGAEAAJwCAACdAAAAeAcAAOoDAADYAQAAKwAAAK4BAACyAAAAAwQAAEARAACbEQAAHiQAAPkJAACGDwAAtgkAAK4HAAAGCgAA3hAAANsGAABuFQAAdUEAADkNAADkAwAACA4AABsfAABXFAAA7RkAAHIIAAASEgAANAwAABcPAADnBgAAGgoAAAwDAACGCgAABAAAACUDAAAIDwAAhAMAAPYFAABSBQAAIxQAAOsDAACkBgAAVmQAAOgUAADbOgAA+X4AAGoJAAAlAwAAciEAANsNAAADIwAAthIAAAIyAABPAwAAXBYAACQUAADFAgAAmAcAAIgWAADSMwAAMgwAANA5AABVDAAAqQcAADUTAAA1AAAAAAAAAAAAAAAPWgAAlHwAAMdbAAAwBQAA8wcAAEAJAAAmCAAAhAIAAJUBAAD2CAAAEgUAAHMDAAA5AgAAdgIAADABAABFAQAAwQQAAKgfAAA4JwAAZAAAAM0FAACVFAAA9QIAAJwAAABVAAAAmQEAAEADAADIAgAA+AcAADwYAABeHwAALwcAAN8CAAAfLAAAVSoAAJApAACmRgAA800AAFmWAAAnFgAABQMAAORVAACfBwAAoB0AAHkNAACaBQAASgsAAE8DAACcFQAAmQQAAEFsAAAxOQAAyTYAAHQcAADGBgAA\\u002fTEAAMgFAAAmQgAAPj8AAGsTAAA7XQAAIhMAAP4IAACgDAAA7hMAAOhSAABcIQAAMU4AAPkmAAAyJgAA0R4AAGMlAAAAEgAAgKsAAHYaAAAyVQAA1BAAAEkdAACkHAAAsBwAABpRAAA0qQEAtBECAL+SAQAwgAAAIhcAABltAAArVAAA+KMAAOVLAAAeKQAAjSMAAPAYAABLEAAAmQ0AAE+hAACcGgAAdzYAAIobAACyCQAA0AwAAO05AACZQAAA2R0AACIRAAD7FgAA1xQAAJUAAABxNwAAUCMAAAcLAAA3iAAAvh8AAFkTAACbBAAAJw8AAEoNAAAaBAAAtQ8AAJ0GAADnHwAAMiAAAKEdAACyBwAA5x0AADE2AAA2LAAADREAAMcIAABJEQAAtgYAAGcCAAB8BgAAAAoAAH8mAACGBQAAUBQAAAgHAAAJPgAAxwkAAHQJAAB\\u002fFgAAmgIAAO82AAC5BwAAAiEAAIcHAAARMAAACQ4AAJEXAADXHwAAcyUAAJ4AAAA5OAAAxHAAAGVAAAAKDwAAfTUAAEAvAADQEwAAiBUAAGQjAAD7EwAAxykAAMBOAAAhJgAALRwAAP4GAAB8FQAAoJMAAJRJAACDFgAALSsAALBKAAAAAAAAAAAAAAAAAAAAAAAARRYAAF0qAwBojgYAbI8CALADAQAbawAAhVMAAM5aAQA\\u002fNQAAGzcAABuZAABNOQAAlG0AAETCAAC7WAAAUPwBAK1JAwDxpQEAvvEBAPB3AAAmWAAAqCEAAHnRAgB+8gAAOy8AAPR3AAAbRwIAOsUBAGZ0AADPgwAAlPEAAJuaAQDQRAAAdzYBAIieAABZjQAAbIYAAGsKAQDpdwAAj2EAAHiaAABAXwAAk4EDADXCAADnjwAA0EoAANNhAADWiAAAsU4AAOsgAABHBQAA6DEAALSzAAC0dgAAJxYAAPEhAAB5CQAAKREAAOILAADmFAAAb2YAAOYUAABUCwAAfjwAALQcAAC1iwAAdQ0AALOzAAB4BQAABBoAAGgSAABnEAAAaRQAAN8kAAA4AwAAwQsAAF4BAACNCQAAEToAALILAABvIgAA0AcAAIQRAADkCwAA\\u002fmQAAPoXAAD1IwAAXQkAAGIGAADuKQAAqxsAAAYiAADpOwAARHQAAFNQAACDJgAAQloAAIQsAABCKQAA7CwAAH0LAAD7LQAAnmQAAHZyAAA+UQAA\\u002fSEBAJdLAgBVngEAGE8HAD8sBQD2vAEAhm8AAK4fAADozAAAx7AAAP\\u002flAACa+QAAEXQBAFYXAADvFwAALAEAANEoAAB4NwEA6S0BAFc1AAALEAAAyQ8AAIndBABm3gQAWlUDAK40AQD2PgAAHPQAAGmEAADLZAAAWaQBAGZKAAB7EgAA0ywBANbqAAAyOwAAADoAAKtIAQAxOQAAcYYAAHc9AQDjoAAABq8BAAbkAABxtgAAKDYAAG5GAABCHAAA2ykAAD4WAACfSgAA4hIBAKCuAAAbRgAA0jUAAIqHAQDfyAAA9k0BAO+0AABmUAAAtH4AAGCgAADQxgAAEQABAAbjAACqVwAAARoAAKxHAABeSQAAbygAAMItAABcIQAAzgsAAJ48AABx7AEAX30AANySAAB90wEAwYwAAFtlAADGPQAA1BwAAH5GAQAxXwAA\\u002fhsAAMYFAAB+KQAAsQ0AAEMiAADUQQAAZgUAADB1AAAUGQAAMTwAANUpAADaSAAAXYcBAPIMAQBhQAAA310AAEuyAABLfAAAPlcAAL43AAAbLwAAPnkAABAYAACVQAAAPZAAAER2AAB8eAAAVzMIAK5VAQDjzAAAVMgAAPWzAQB+BAEA+moBAF9pAAC0rAAAiH4AAFwvAABaQgAAkFcAABMqAAAtLAAAy2UAAOXJAAAgAwAAjtEAALeDAADcNQAABkQAAM4NAABZAgAAHzYAAB94AAD26QAAmycAAA==\"},\"type\":\"scatter\",\"xaxis\":\"x2\",\"yaxis\":\"y2\"}],                        {\"template\":{\"data\":{\"histogram2dcontour\":[{\"type\":\"histogram2dcontour\",\"colorbar\":{\"outlinewidth\":0,\"ticks\":\"\"},\"colorscale\":[[0.0,\"#0d0887\"],[0.1111111111111111,\"#46039f\"],[0.2222222222222222,\"#7201a8\"],[0.3333333333333333,\"#9c179e\"],[0.4444444444444444,\"#bd3786\"],[0.5555555555555556,\"#d8576b\"],[0.6666666666666666,\"#ed7953\"],[0.7777777777777778,\"#fb9f3a\"],[0.8888888888888888,\"#fdca26\"],[1.0,\"#f0f921\"]]}],\"choropleth\":[{\"type\":\"choropleth\",\"colorbar\":{\"outlinewidth\":0,\"ticks\":\"\"}}],\"histogram2d\":[{\"type\":\"histogram2d\",\"colorbar\":{\"outlinewidth\":0,\"ticks\":\"\"},\"colorscale\":[[0.0,\"#0d0887\"],[0.1111111111111111,\"#46039f\"],[0.2222222222222222,\"#7201a8\"],[0.3333333333333333,\"#9c179e\"],[0.4444444444444444,\"#bd3786\"],[0.5555555555555556,\"#d8576b\"],[0.6666666666666666,\"#ed7953\"],[0.7777777777777778,\"#fb9f3a\"],[0.8888888888888888,\"#fdca26\"],[1.0,\"#f0f921\"]]}],\"heatmap\":[{\"type\":\"heatmap\",\"colorbar\":{\"outlinewidth\":0,\"ticks\":\"\"},\"colorscale\":[[0.0,\"#0d0887\"],[0.1111111111111111,\"#46039f\"],[0.2222222222222222,\"#7201a8\"],[0.3333333333333333,\"#9c179e\"],[0.4444444444444444,\"#bd3786\"],[0.5555555555555556,\"#d8576b\"],[0.6666666666666666,\"#ed7953\"],[0.7777777777777778,\"#fb9f3a\"],[0.8888888888888888,\"#fdca26\"],[1.0,\"#f0f921\"]]}],\"contourcarpet\":[{\"type\":\"contourcarpet\",\"colorbar\":{\"outlinewidth\":0,\"ticks\":\"\"}}],\"contour\":[{\"type\":\"contour\",\"colorbar\":{\"outlinewidth\":0,\"ticks\":\"\"},\"colorscale\":[[0.0,\"#0d0887\"],[0.1111111111111111,\"#46039f\"],[0.2222222222222222,\"#7201a8\"],[0.3333333333333333,\"#9c179e\"],[0.4444444444444444,\"#bd3786\"],[0.5555555555555556,\"#d8576b\"],[0.6666666666666666,\"#ed7953\"],[0.7777777777777778,\"#fb9f3a\"],[0.8888888888888888,\"#fdca26\"],[1.0,\"#f0f921\"]]}],\"surface\":[{\"type\":\"surface\",\"colorbar\":{\"outlinewidth\":0,\"ticks\":\"\"},\"colorscale\":[[0.0,\"#0d0887\"],[0.1111111111111111,\"#46039f\"],[0.2222222222222222,\"#7201a8\"],[0.3333333333333333,\"#9c179e\"],[0.4444444444444444,\"#bd3786\"],[0.5555555555555556,\"#d8576b\"],[0.6666666666666666,\"#ed7953\"],[0.7777777777777778,\"#fb9f3a\"],[0.8888888888888888,\"#fdca26\"],[1.0,\"#f0f921\"]]}],\"mesh3d\":[{\"type\":\"mesh3d\",\"colorbar\":{\"outlinewidth\":0,\"ticks\":\"\"}}],\"scatter\":[{\"fillpattern\":{\"fillmode\":\"overlay\",\"size\":10,\"solidity\":0.2},\"type\":\"scatter\"}],\"parcoords\":[{\"type\":\"parcoords\",\"line\":{\"colorbar\":{\"outlinewidth\":0,\"ticks\":\"\"}}}],\"scatterpolargl\":[{\"type\":\"scatterpolargl\",\"marker\":{\"colorbar\":{\"outlinewidth\":0,\"ticks\":\"\"}}}],\"bar\":[{\"error_x\":{\"color\":\"#2a3f5f\"},\"error_y\":{\"color\":\"#2a3f5f\"},\"marker\":{\"line\":{\"color\":\"#E5ECF6\",\"width\":0.5},\"pattern\":{\"fillmode\":\"overlay\",\"size\":10,\"solidity\":0.2}},\"type\":\"bar\"}],\"scattergeo\":[{\"type\":\"scattergeo\",\"marker\":{\"colorbar\":{\"outlinewidth\":0,\"ticks\":\"\"}}}],\"scatterpolar\":[{\"type\":\"scatterpolar\",\"marker\":{\"colorbar\":{\"outlinewidth\":0,\"ticks\":\"\"}}}],\"histogram\":[{\"marker\":{\"pattern\":{\"fillmode\":\"overlay\",\"size\":10,\"solidity\":0.2}},\"type\":\"histogram\"}],\"scattergl\":[{\"type\":\"scattergl\",\"marker\":{\"colorbar\":{\"outlinewidth\":0,\"ticks\":\"\"}}}],\"scatter3d\":[{\"type\":\"scatter3d\",\"line\":{\"colorbar\":{\"outlinewidth\":0,\"ticks\":\"\"}},\"marker\":{\"colorbar\":{\"outlinewidth\":0,\"ticks\":\"\"}}}],\"scattermap\":[{\"type\":\"scattermap\",\"marker\":{\"colorbar\":{\"outlinewidth\":0,\"ticks\":\"\"}}}],\"scattermapbox\":[{\"type\":\"scattermapbox\",\"marker\":{\"colorbar\":{\"outlinewidth\":0,\"ticks\":\"\"}}}],\"scatterternary\":[{\"type\":\"scatterternary\",\"marker\":{\"colorbar\":{\"outlinewidth\":0,\"ticks\":\"\"}}}],\"scattercarpet\":[{\"type\":\"scattercarpet\",\"marker\":{\"colorbar\":{\"outlinewidth\":0,\"ticks\":\"\"}}}],\"carpet\":[{\"aaxis\":{\"endlinecolor\":\"#2a3f5f\",\"gridcolor\":\"white\",\"linecolor\":\"white\",\"minorgridcolor\":\"white\",\"startlinecolor\":\"#2a3f5f\"},\"baxis\":{\"endlinecolor\":\"#2a3f5f\",\"gridcolor\":\"white\",\"linecolor\":\"white\",\"minorgridcolor\":\"white\",\"startlinecolor\":\"#2a3f5f\"},\"type\":\"carpet\"}],\"table\":[{\"cells\":{\"fill\":{\"color\":\"#EBF0F8\"},\"line\":{\"color\":\"white\"}},\"header\":{\"fill\":{\"color\":\"#C8D4E3\"},\"line\":{\"color\":\"white\"}},\"type\":\"table\"}],\"barpolar\":[{\"marker\":{\"line\":{\"color\":\"#E5ECF6\",\"width\":0.5},\"pattern\":{\"fillmode\":\"overlay\",\"size\":10,\"solidity\":0.2}},\"type\":\"barpolar\"}],\"pie\":[{\"automargin\":true,\"type\":\"pie\"}]},\"layout\":{\"autotypenumbers\":\"strict\",\"colorway\":[\"#636efa\",\"#EF553B\",\"#00cc96\",\"#ab63fa\",\"#FFA15A\",\"#19d3f3\",\"#FF6692\",\"#B6E880\",\"#FF97FF\",\"#FECB52\"],\"font\":{\"color\":\"#2a3f5f\"},\"hovermode\":\"closest\",\"hoverlabel\":{\"align\":\"left\"},\"paper_bgcolor\":\"white\",\"plot_bgcolor\":\"#E5ECF6\",\"polar\":{\"bgcolor\":\"#E5ECF6\",\"angularaxis\":{\"gridcolor\":\"white\",\"linecolor\":\"white\",\"ticks\":\"\"},\"radialaxis\":{\"gridcolor\":\"white\",\"linecolor\":\"white\",\"ticks\":\"\"}},\"ternary\":{\"bgcolor\":\"#E5ECF6\",\"aaxis\":{\"gridcolor\":\"white\",\"linecolor\":\"white\",\"ticks\":\"\"},\"baxis\":{\"gridcolor\":\"white\",\"linecolor\":\"white\",\"ticks\":\"\"},\"caxis\":{\"gridcolor\":\"white\",\"linecolor\":\"white\",\"ticks\":\"\"}},\"coloraxis\":{\"colorbar\":{\"outlinewidth\":0,\"ticks\":\"\"}},\"colorscale\":{\"sequential\":[[0.0,\"#0d0887\"],[0.1111111111111111,\"#46039f\"],[0.2222222222222222,\"#7201a8\"],[0.3333333333333333,\"#9c179e\"],[0.4444444444444444,\"#bd3786\"],[0.5555555555555556,\"#d8576b\"],[0.6666666666666666,\"#ed7953\"],[0.7777777777777778,\"#fb9f3a\"],[0.8888888888888888,\"#fdca26\"],[1.0,\"#f0f921\"]],\"sequentialminus\":[[0.0,\"#0d0887\"],[0.1111111111111111,\"#46039f\"],[0.2222222222222222,\"#7201a8\"],[0.3333333333333333,\"#9c179e\"],[0.4444444444444444,\"#bd3786\"],[0.5555555555555556,\"#d8576b\"],[0.6666666666666666,\"#ed7953\"],[0.7777777777777778,\"#fb9f3a\"],[0.8888888888888888,\"#fdca26\"],[1.0,\"#f0f921\"]],\"diverging\":[[0,\"#8e0152\"],[0.1,\"#c51b7d\"],[0.2,\"#de77ae\"],[0.3,\"#f1b6da\"],[0.4,\"#fde0ef\"],[0.5,\"#f7f7f7\"],[0.6,\"#e6f5d0\"],[0.7,\"#b8e186\"],[0.8,\"#7fbc41\"],[0.9,\"#4d9221\"],[1,\"#276419\"]]},\"xaxis\":{\"gridcolor\":\"white\",\"linecolor\":\"white\",\"ticks\":\"\",\"title\":{\"standoff\":15},\"zerolinecolor\":\"white\",\"automargin\":true,\"zerolinewidth\":2},\"yaxis\":{\"gridcolor\":\"white\",\"linecolor\":\"white\",\"ticks\":\"\",\"title\":{\"standoff\":15},\"zerolinecolor\":\"white\",\"automargin\":true,\"zerolinewidth\":2},\"scene\":{\"xaxis\":{\"backgroundcolor\":\"#E5ECF6\",\"gridcolor\":\"white\",\"linecolor\":\"white\",\"showbackground\":true,\"ticks\":\"\",\"zerolinecolor\":\"white\",\"gridwidth\":2},\"yaxis\":{\"backgroundcolor\":\"#E5ECF6\",\"gridcolor\":\"white\",\"linecolor\":\"white\",\"showbackground\":true,\"ticks\":\"\",\"zerolinecolor\":\"white\",\"gridwidth\":2},\"zaxis\":{\"backgroundcolor\":\"#E5ECF6\",\"gridcolor\":\"white\",\"linecolor\":\"white\",\"showbackground\":true,\"ticks\":\"\",\"zerolinecolor\":\"white\",\"gridwidth\":2}},\"shapedefaults\":{\"line\":{\"color\":\"#2a3f5f\"}},\"annotationdefaults\":{\"arrowcolor\":\"#2a3f5f\",\"arrowhead\":0,\"arrowwidth\":1},\"geo\":{\"bgcolor\":\"white\",\"landcolor\":\"#E5ECF6\",\"subunitcolor\":\"white\",\"showland\":true,\"showlakes\":true,\"lakecolor\":\"white\"},\"title\":{\"x\":0.05},\"mapbox\":{\"style\":\"light\"}}},\"xaxis\":{\"anchor\":\"y\",\"domain\":[0.0,1.0],\"matches\":\"x2\",\"showticklabels\":false},\"yaxis\":{\"anchor\":\"x\",\"domain\":[0.2525,1.0],\"title\":{\"text\":\"Price\"}},\"xaxis2\":{\"anchor\":\"y2\",\"domain\":[0.0,1.0]},\"yaxis2\":{\"anchor\":\"x2\",\"domain\":[0.0,0.2425],\"title\":{\"text\":\"Volume\"}},\"height\":800,\"width\":1300,\"showlegend\":false,\"title\":{\"text\":\"HLZ.MC\"}},                        {\"responsive\": true}                    ).then(function(){\n",
       "                            \n",
       "var gd = document.getElementById('1e072fd8-2418-4b61-882a-4ec37e7b4b85');\n",
       "var x = new MutationObserver(function (mutations, observer) {{\n",
       "        var display = window.getComputedStyle(gd).display;\n",
       "        if (!display || display === 'none') {{\n",
       "            console.log([gd, 'removed!']);\n",
       "            Plotly.purge(gd);\n",
       "            observer.disconnect();\n",
       "        }}\n",
       "}});\n",
       "\n",
       "// Listen for the removal of the full notebook cells\n",
       "var notebookContainer = gd.closest('#notebook-container');\n",
       "if (notebookContainer) {{\n",
       "    x.observe(notebookContainer, {childList: true});\n",
       "}}\n",
       "\n",
       "// Listen for the clearing of the current output cell\n",
       "var outputEl = gd.closest('.output');\n",
       "if (outputEl) {{\n",
       "    x.observe(outputEl, {childList: true});\n",
       "}}\n",
       "\n",
       "                        })                };            </script>        </div>"
      ]
     },
     "metadata": {},
     "output_type": "display_data"
    }
   ],
   "source": [
    "fig = make_subplots(rows=4, cols=1,shared_xaxes=True,vertical_spacing=0.01,specs=[[{'rowspan':3,'colspan':1}],[None],[None],[{'rowspan':1,'colspan':1}]])\n",
    "\n",
    "# Graph (1,1)\n",
    "fig.add_trace(go.Scatter(x=stock_ticker.index,y=stock_ticker['Close'],mode=\"lines\",name=f\"{ticker}\"),row=1, col=1)\n",
    "# Update xaxis properties\n",
    "fig.update_yaxes(title_text=\"Price\", row=1, col=1)\n",
    "\n",
    "# Graph (4,1)\n",
    "fig.add_trace(go.Scatter(x=stock_ticker.index,y=stock_ticker['Volume'],mode=\"lines\",name='Volume'),row=4, col=1)\n",
    "fig.update_yaxes(title_text=\"Volume\", row=4, col=1)\n",
    "\n",
    "fig.update_layout(height=800, width=1300,showlegend=False,title=f\"{ticker}\")\n",
    "\n",
    "fig.show()"
   ]
  },
  {
   "cell_type": "code",
   "execution_count": 32,
   "metadata": {},
   "outputs": [],
   "source": [
    "# Add Technical Analysis Indicators\n",
    "\n",
    "# Modified Moving Average 20\n",
    "stock_ticker['MMA20'] = stock_ticker['Adj Close'].loc[year].rolling(20).mean() #Adj Close 20 MA\n",
    "\n",
    "# Initialize Bollinger Bands Indicator\n",
    "indicator_bb = BollingerBands(close=stock_ticker[\"Adj Close\"].loc[year], window=20, window_dev=2)\n",
    "\n",
    "# Bollinger Bands\n",
    "stock_ticker['BB_Upper'] = indicator_bb.bollinger_hband()\n",
    "stock_ticker['BB_Lower'] = indicator_bb.bollinger_lband()\n",
    "\n",
    "# Initialize RSI Indicator\n",
    "indicator_rsi = RSIIndicator(close=stock_ticker[\"Adj Close\"].loc[year], window=14)\n",
    "\n",
    "# RSI\n",
    "stock_ticker['RSI'] = indicator_rsi.rsi()\n",
    "\n",
    "# Daily Return\n",
    "stock_ticker['Daily_Return'] = daily_return(stock_ticker[\"Adj Close\"].loc[year])"
   ]
  },
  {
   "cell_type": "code",
   "execution_count": 33,
   "metadata": {},
   "outputs": [
    {
     "data": {
      "application/vnd.plotly.v1+json": {
       "config": {
        "plotlyServerURL": "https://plot.ly"
       },
       "data": [
        {
         "mode": "lines",
         "name": "HLZ.MC",
         "type": "scatter",
         "x": [
          "2025-01-02T00:00:00.000000000",
          "2025-01-03T00:00:00.000000000",
          "2025-01-06T00:00:00.000000000",
          "2025-01-07T00:00:00.000000000",
          "2025-01-08T00:00:00.000000000",
          "2025-01-09T00:00:00.000000000",
          "2025-01-10T00:00:00.000000000",
          "2025-01-13T00:00:00.000000000",
          "2025-01-14T00:00:00.000000000",
          "2025-01-15T00:00:00.000000000",
          "2025-01-16T00:00:00.000000000",
          "2025-01-17T00:00:00.000000000",
          "2025-01-20T00:00:00.000000000",
          "2025-01-21T00:00:00.000000000",
          "2025-01-22T00:00:00.000000000",
          "2025-01-23T00:00:00.000000000",
          "2025-01-24T00:00:00.000000000",
          "2025-01-27T00:00:00.000000000",
          "2025-01-28T00:00:00.000000000",
          "2025-01-29T00:00:00.000000000",
          "2025-01-30T00:00:00.000000000",
          "2025-01-31T00:00:00.000000000",
          "2025-02-03T00:00:00.000000000",
          "2025-02-04T00:00:00.000000000",
          "2025-02-05T00:00:00.000000000",
          "2025-02-06T00:00:00.000000000",
          "2025-02-07T00:00:00.000000000",
          "2025-02-10T00:00:00.000000000",
          "2025-02-11T00:00:00.000000000",
          "2025-02-12T00:00:00.000000000",
          "2025-02-13T00:00:00.000000000",
          "2025-02-14T00:00:00.000000000",
          "2025-02-17T00:00:00.000000000",
          "2025-02-18T00:00:00.000000000",
          "2025-02-19T00:00:00.000000000",
          "2025-02-20T00:00:00.000000000",
          "2025-02-21T00:00:00.000000000",
          "2025-02-24T00:00:00.000000000",
          "2025-02-25T00:00:00.000000000",
          "2025-02-26T00:00:00.000000000",
          "2025-02-27T00:00:00.000000000",
          "2025-02-28T00:00:00.000000000",
          "2025-03-03T00:00:00.000000000",
          "2025-03-04T00:00:00.000000000",
          "2025-03-05T00:00:00.000000000",
          "2025-03-06T00:00:00.000000000",
          "2025-03-07T00:00:00.000000000",
          "2025-03-10T00:00:00.000000000",
          "2025-03-11T00:00:00.000000000",
          "2025-03-12T00:00:00.000000000",
          "2025-03-13T00:00:00.000000000",
          "2025-03-14T00:00:00.000000000",
          "2025-03-17T00:00:00.000000000",
          "2025-03-18T00:00:00.000000000",
          "2025-03-19T00:00:00.000000000",
          "2025-03-20T00:00:00.000000000",
          "2025-03-21T00:00:00.000000000",
          "2025-03-24T00:00:00.000000000",
          "2025-03-25T00:00:00.000000000",
          "2025-03-26T00:00:00.000000000",
          "2025-03-27T00:00:00.000000000",
          "2025-03-28T00:00:00.000000000",
          "2025-03-31T00:00:00.000000000",
          "2025-04-01T00:00:00.000000000",
          "2025-04-02T00:00:00.000000000",
          "2025-04-03T00:00:00.000000000",
          "2025-04-04T00:00:00.000000000",
          "2025-04-07T00:00:00.000000000",
          "2025-04-08T00:00:00.000000000",
          "2025-04-09T00:00:00.000000000",
          "2025-04-10T00:00:00.000000000",
          "2025-04-11T00:00:00.000000000",
          "2025-04-14T00:00:00.000000000",
          "2025-04-15T00:00:00.000000000",
          "2025-04-16T00:00:00.000000000",
          "2025-04-17T00:00:00.000000000"
         ],
         "xaxis": "x",
         "y": {
          "bdata": "AAAAIFyP9D8AAADA9Sj0PwAAAIAUrvM/AAAAoJmZ8z8AAACAwvXyPwAAAMAehfM/AAAAwPUo9D8BAAAAKVzzPwAAAIA9CvM/AAAAYLge8z8AAADA9Sj0PwAAAEAK1/U/AAAAIK5H9T8AAABACtf1PwAAAEDhevY/AAAAwPUo9j8AAABgZmb2PwAAAGCPwvU/AAAAoHA99j8AAABgZmb0PwAAAIDrUfQ/AAAAAAAA9D8AAACAFK7zPwAAAIDrUfQ/AAAAIIXr8z8AAABA4Xr0PwAAAMAehfM/AAAAwB6F8z8AAABAMzPzPwAAAAAAAPQ/AAAAIK5H8z8AAADgehT0PwAAAIAUrvM/AAAAQDMz9T8AAADgo3D1PwAAAIDC9fQ/AAAAwMzM9D8AAADgehT2PwAAAKCZmfU/AAAA4KNw9T8AAABgj8L1PwAAACCuR/U/AAAAIK5H9T8AAACA61H0PwAAAEDhevQ/AAAAoJmZ9T8AAABgj8L1PwAAAIDC9fQ/AAAAwB6F+T8AAAAghev3PwAAAOB6FPY/AAAA4HoU9j8AAACAFK73PwAAAEAzM/c/AAAAYLge9z8AAABgZmb2PwAAAKBwPfY/AAAA4HoU9j8AAAAghev1P//////Wo/Y/AAAAgOtR9j8AAABACtf1PwAAAKCZmfU/AAAAwMzM9D8AAADgehT0PwAAAKBwPfQ/AAAAYLge8z8AAADgUbjyPwAAAGCPwvM/AAAAQDMz8z8AAACgcD30PwAAAMD1KPQ/AAAAQDMz8z8AAABAMzPzPwAAAAAAAPQ/AAAAAAAA9D8=",
          "dtype": "f8"
         },
         "yaxis": "y"
        },
        {
         "mode": "lines",
         "name": "BB_Lower",
         "type": "scatter",
         "x": [
          "2025-01-02T00:00:00.000000000",
          "2025-01-03T00:00:00.000000000",
          "2025-01-06T00:00:00.000000000",
          "2025-01-07T00:00:00.000000000",
          "2025-01-08T00:00:00.000000000",
          "2025-01-09T00:00:00.000000000",
          "2025-01-10T00:00:00.000000000",
          "2025-01-13T00:00:00.000000000",
          "2025-01-14T00:00:00.000000000",
          "2025-01-15T00:00:00.000000000",
          "2025-01-16T00:00:00.000000000",
          "2025-01-17T00:00:00.000000000",
          "2025-01-20T00:00:00.000000000",
          "2025-01-21T00:00:00.000000000",
          "2025-01-22T00:00:00.000000000",
          "2025-01-23T00:00:00.000000000",
          "2025-01-24T00:00:00.000000000",
          "2025-01-27T00:00:00.000000000",
          "2025-01-28T00:00:00.000000000",
          "2025-01-29T00:00:00.000000000",
          "2025-01-30T00:00:00.000000000",
          "2025-01-31T00:00:00.000000000",
          "2025-02-03T00:00:00.000000000",
          "2025-02-04T00:00:00.000000000",
          "2025-02-05T00:00:00.000000000",
          "2025-02-06T00:00:00.000000000",
          "2025-02-07T00:00:00.000000000",
          "2025-02-10T00:00:00.000000000",
          "2025-02-11T00:00:00.000000000",
          "2025-02-12T00:00:00.000000000",
          "2025-02-13T00:00:00.000000000",
          "2025-02-14T00:00:00.000000000",
          "2025-02-17T00:00:00.000000000",
          "2025-02-18T00:00:00.000000000",
          "2025-02-19T00:00:00.000000000",
          "2025-02-20T00:00:00.000000000",
          "2025-02-21T00:00:00.000000000",
          "2025-02-24T00:00:00.000000000",
          "2025-02-25T00:00:00.000000000",
          "2025-02-26T00:00:00.000000000",
          "2025-02-27T00:00:00.000000000",
          "2025-02-28T00:00:00.000000000",
          "2025-03-03T00:00:00.000000000",
          "2025-03-04T00:00:00.000000000",
          "2025-03-05T00:00:00.000000000",
          "2025-03-06T00:00:00.000000000",
          "2025-03-07T00:00:00.000000000",
          "2025-03-10T00:00:00.000000000",
          "2025-03-11T00:00:00.000000000",
          "2025-03-12T00:00:00.000000000",
          "2025-03-13T00:00:00.000000000",
          "2025-03-14T00:00:00.000000000",
          "2025-03-17T00:00:00.000000000",
          "2025-03-18T00:00:00.000000000",
          "2025-03-19T00:00:00.000000000",
          "2025-03-20T00:00:00.000000000",
          "2025-03-21T00:00:00.000000000",
          "2025-03-24T00:00:00.000000000",
          "2025-03-25T00:00:00.000000000",
          "2025-03-26T00:00:00.000000000",
          "2025-03-27T00:00:00.000000000",
          "2025-03-28T00:00:00.000000000",
          "2025-03-31T00:00:00.000000000",
          "2025-04-01T00:00:00.000000000",
          "2025-04-02T00:00:00.000000000",
          "2025-04-03T00:00:00.000000000",
          "2025-04-04T00:00:00.000000000",
          "2025-04-07T00:00:00.000000000",
          "2025-04-08T00:00:00.000000000",
          "2025-04-09T00:00:00.000000000",
          "2025-04-10T00:00:00.000000000",
          "2025-04-11T00:00:00.000000000",
          "2025-04-14T00:00:00.000000000",
          "2025-04-15T00:00:00.000000000",
          "2025-04-16T00:00:00.000000000",
          "2025-04-17T00:00:00.000000000"
         ],
         "xaxis": "x",
         "y": {
          "bdata": "AAAAAAAA+H8AAAAAAAD4fwAAAAAAAPh/AAAAAAAA+H8AAAAAAAD4fwAAAAAAAPh/AAAAAAAA+H8AAAAAAAD4fwAAAAAAAPh/AAAAAAAA+H8AAAAAAAD4fwAAAAAAAPh/AAAAAAAA+H8AAAAAAAD4fwAAAAAAAPh/AAAAAAAA+H8AAAAAAAD4fwAAAAAAAPh/AAAAAAAA+H/mCvkcujfyP+e8LbmwM/I/nA7lkNEv8j+cDuWQ0S/yP02/LClZQ/I/lsrMc55p8j+aksQvrYXyPw7LiSyAcPI/RrvTSix38j+inqFSFX/yP67NTobwovI/OP1zK1GC8j/aT2WS7HbyP0OtT3bNXfI/tAO+sEtk8j/0wMpfcHzyP0y+lxqDkPI/2l9rgFq18j/Oe5KQ86nyP4Bw8DmFwfI/CWy0/uu78j+Lc6a8CrPyPwUXyQ54vfI/NLB+QUrV8j80sH5BStXyP5LL2Dsg4/I/2dN9cqzk8j9hGpaVTQfzP66QcAPpMvM/P5auwRiy8j9h3v1Q/67yPwYBjT2//PI/w201ljMq8z9uhdvVFWDzPwRUSJuja/M/vocSbvx18z9JiRy7vJLzP0SDFe2qtvM/RIMV7aq28z8oImabY73zP8erIgt50PM/4ryAz+nZ8z+s4TTOgOnzP4hGlJ518/M/+Lq4rzAM9D9SBP/mD/XzP4LlL7r/vPM/eGBzVcpD8z8of3V97tLyP2tzKIMx2PI/N+isGpea8j80u9mk03ryPxw/p62ZW/I/ppTlzvw48j+joMiWnRjyPxnXIQN2IPI/xL8HqMgd8j8=",
          "dtype": "f8"
         },
         "yaxis": "y"
        },
        {
         "mode": "lines",
         "name": "BB_Upper",
         "type": "scatter",
         "x": [
          "2025-01-02T00:00:00.000000000",
          "2025-01-03T00:00:00.000000000",
          "2025-01-06T00:00:00.000000000",
          "2025-01-07T00:00:00.000000000",
          "2025-01-08T00:00:00.000000000",
          "2025-01-09T00:00:00.000000000",
          "2025-01-10T00:00:00.000000000",
          "2025-01-13T00:00:00.000000000",
          "2025-01-14T00:00:00.000000000",
          "2025-01-15T00:00:00.000000000",
          "2025-01-16T00:00:00.000000000",
          "2025-01-17T00:00:00.000000000",
          "2025-01-20T00:00:00.000000000",
          "2025-01-21T00:00:00.000000000",
          "2025-01-22T00:00:00.000000000",
          "2025-01-23T00:00:00.000000000",
          "2025-01-24T00:00:00.000000000",
          "2025-01-27T00:00:00.000000000",
          "2025-01-28T00:00:00.000000000",
          "2025-01-29T00:00:00.000000000",
          "2025-01-30T00:00:00.000000000",
          "2025-01-31T00:00:00.000000000",
          "2025-02-03T00:00:00.000000000",
          "2025-02-04T00:00:00.000000000",
          "2025-02-05T00:00:00.000000000",
          "2025-02-06T00:00:00.000000000",
          "2025-02-07T00:00:00.000000000",
          "2025-02-10T00:00:00.000000000",
          "2025-02-11T00:00:00.000000000",
          "2025-02-12T00:00:00.000000000",
          "2025-02-13T00:00:00.000000000",
          "2025-02-14T00:00:00.000000000",
          "2025-02-17T00:00:00.000000000",
          "2025-02-18T00:00:00.000000000",
          "2025-02-19T00:00:00.000000000",
          "2025-02-20T00:00:00.000000000",
          "2025-02-21T00:00:00.000000000",
          "2025-02-24T00:00:00.000000000",
          "2025-02-25T00:00:00.000000000",
          "2025-02-26T00:00:00.000000000",
          "2025-02-27T00:00:00.000000000",
          "2025-02-28T00:00:00.000000000",
          "2025-03-03T00:00:00.000000000",
          "2025-03-04T00:00:00.000000000",
          "2025-03-05T00:00:00.000000000",
          "2025-03-06T00:00:00.000000000",
          "2025-03-07T00:00:00.000000000",
          "2025-03-10T00:00:00.000000000",
          "2025-03-11T00:00:00.000000000",
          "2025-03-12T00:00:00.000000000",
          "2025-03-13T00:00:00.000000000",
          "2025-03-14T00:00:00.000000000",
          "2025-03-17T00:00:00.000000000",
          "2025-03-18T00:00:00.000000000",
          "2025-03-19T00:00:00.000000000",
          "2025-03-20T00:00:00.000000000",
          "2025-03-21T00:00:00.000000000",
          "2025-03-24T00:00:00.000000000",
          "2025-03-25T00:00:00.000000000",
          "2025-03-26T00:00:00.000000000",
          "2025-03-27T00:00:00.000000000",
          "2025-03-28T00:00:00.000000000",
          "2025-03-31T00:00:00.000000000",
          "2025-04-01T00:00:00.000000000",
          "2025-04-02T00:00:00.000000000",
          "2025-04-03T00:00:00.000000000",
          "2025-04-04T00:00:00.000000000",
          "2025-04-07T00:00:00.000000000",
          "2025-04-08T00:00:00.000000000",
          "2025-04-09T00:00:00.000000000",
          "2025-04-10T00:00:00.000000000",
          "2025-04-11T00:00:00.000000000",
          "2025-04-14T00:00:00.000000000",
          "2025-04-15T00:00:00.000000000",
          "2025-04-16T00:00:00.000000000",
          "2025-04-17T00:00:00.000000000"
         ],
         "xaxis": "x",
         "y": {
          "bdata": "AAAAAAAA+H8AAAAAAAD4fwAAAAAAAPh/AAAAAAAA+H8AAAAAAAD4fwAAAAAAAPh/AAAAAAAA+H8AAAAAAAD4fwAAAAAAAPh/AAAAAAAA+H8AAAAAAAD4fwAAAAAAAPh/AAAAAAAA+H8AAAAAAAD4fwAAAAAAAPh/AAAAAAAA+H8AAAAAAAD4fwAAAAAAAPh/AAAAAAAA+H/mwdOv5w33PxlD0jbMC/c/ML7ny5IL9z8wvufLkgv3P+dzBsp5Cvc/BM/M9cf89j8yOgitTPn2P/I0dmMX/vY/7ndf2IP79j/Ex8Rjs/f2P1IysVlf6vY/Lmnyinf09j8msJrNzdL2P4kffSb3wvY/TPxBnxas9j9AcmgzUnn2P7RBaCWHRvY/8mxh/Ln49T9mt6ASUgz2P+b1dRxe5PU/XfqxF5cE9j/b8r+JVTL2Py8catSsSPY/MrbnZNBZ9j8ytudk0Fn2PwjOwG1QWvY/W1+1QHB19j/TGJ0tJ4z2P1Jvj+xohfY/wWlR7gOo9z9r7s57dw/4P/r+cqJlCfg/ccX9fCQP+D8sFL6jqD/4P8h4hBFOZ/g/3BGHS/eH+D9REH0uFJD4P1YWhCwDkfg/VhaELAOR+D/Y3Zmke5L4PzlU3YQenvg/UnaywwOj+D+6hDHIwqH4P0SGOB7/n/g/bqutxo2T+D8UYmcfcaD4P34a0GWwtfg/iJ+MSlDr+D/YgIoS1CL5P8m/ClAcivg/L365u+FO+D8yq4yRij/4P7CNJZ+dLfg/JjjnXYrd9z/DxZ0vg5f3P4HCd4bLP/c/oqZePggF9z8=",
          "dtype": "f8"
         },
         "yaxis": "y"
        },
        {
         "mode": "lines",
         "name": "MMA20",
         "type": "scatter",
         "x": [
          "2025-01-02T00:00:00.000000000",
          "2025-01-03T00:00:00.000000000",
          "2025-01-06T00:00:00.000000000",
          "2025-01-07T00:00:00.000000000",
          "2025-01-08T00:00:00.000000000",
          "2025-01-09T00:00:00.000000000",
          "2025-01-10T00:00:00.000000000",
          "2025-01-13T00:00:00.000000000",
          "2025-01-14T00:00:00.000000000",
          "2025-01-15T00:00:00.000000000",
          "2025-01-16T00:00:00.000000000",
          "2025-01-17T00:00:00.000000000",
          "2025-01-20T00:00:00.000000000",
          "2025-01-21T00:00:00.000000000",
          "2025-01-22T00:00:00.000000000",
          "2025-01-23T00:00:00.000000000",
          "2025-01-24T00:00:00.000000000",
          "2025-01-27T00:00:00.000000000",
          "2025-01-28T00:00:00.000000000",
          "2025-01-29T00:00:00.000000000",
          "2025-01-30T00:00:00.000000000",
          "2025-01-31T00:00:00.000000000",
          "2025-02-03T00:00:00.000000000",
          "2025-02-04T00:00:00.000000000",
          "2025-02-05T00:00:00.000000000",
          "2025-02-06T00:00:00.000000000",
          "2025-02-07T00:00:00.000000000",
          "2025-02-10T00:00:00.000000000",
          "2025-02-11T00:00:00.000000000",
          "2025-02-12T00:00:00.000000000",
          "2025-02-13T00:00:00.000000000",
          "2025-02-14T00:00:00.000000000",
          "2025-02-17T00:00:00.000000000",
          "2025-02-18T00:00:00.000000000",
          "2025-02-19T00:00:00.000000000",
          "2025-02-20T00:00:00.000000000",
          "2025-02-21T00:00:00.000000000",
          "2025-02-24T00:00:00.000000000",
          "2025-02-25T00:00:00.000000000",
          "2025-02-26T00:00:00.000000000",
          "2025-02-27T00:00:00.000000000",
          "2025-02-28T00:00:00.000000000",
          "2025-03-03T00:00:00.000000000",
          "2025-03-04T00:00:00.000000000",
          "2025-03-05T00:00:00.000000000",
          "2025-03-06T00:00:00.000000000",
          "2025-03-07T00:00:00.000000000",
          "2025-03-10T00:00:00.000000000",
          "2025-03-11T00:00:00.000000000",
          "2025-03-12T00:00:00.000000000",
          "2025-03-13T00:00:00.000000000",
          "2025-03-14T00:00:00.000000000",
          "2025-03-17T00:00:00.000000000",
          "2025-03-18T00:00:00.000000000",
          "2025-03-19T00:00:00.000000000",
          "2025-03-20T00:00:00.000000000",
          "2025-03-21T00:00:00.000000000",
          "2025-03-24T00:00:00.000000000",
          "2025-03-25T00:00:00.000000000",
          "2025-03-26T00:00:00.000000000",
          "2025-03-27T00:00:00.000000000",
          "2025-03-28T00:00:00.000000000",
          "2025-03-31T00:00:00.000000000",
          "2025-04-01T00:00:00.000000000",
          "2025-04-02T00:00:00.000000000",
          "2025-04-03T00:00:00.000000000",
          "2025-04-04T00:00:00.000000000",
          "2025-04-07T00:00:00.000000000",
          "2025-04-08T00:00:00.000000000",
          "2025-04-09T00:00:00.000000000",
          "2025-04-10T00:00:00.000000000",
          "2025-04-11T00:00:00.000000000",
          "2025-04-14T00:00:00.000000000",
          "2025-04-15T00:00:00.000000000",
          "2025-04-16T00:00:00.000000000",
          "2025-04-17T00:00:00.000000000"
         ],
         "xaxis": "x",
         "y": {
          "bdata": "AAAAAAAA+H8AAAAAAAD4fwAAAAAAAPh/AAAAAAAA+H8AAAAAAAD4fwAAAAAAAPh/AAAAAAAA+H8AAAAAAAD4fwAAAAAAAPh/AAAAAAAA+H8AAAAAAAD4fwAAAAAAAPh/AAAAAAAA+H8AAAAAAAD4fwAAAAAAAPh/AAAAAAAA+H8AAAAAAAD4fwAAAAAAAPh/AAAAAAAA+H9mZmbm0KL0PwAAAHi+n/Q/ZmZmLrKd9D9mZmYusp30P5qZmXnppvQ/zczMNDOz9D9mZmbufL/0PwAAAMhLt/Q/mpmZEVi59D8zMzNbZLv0PwAAAPCnxvQ/MzMzW2S79D8AAAAw3aT0P2ZmZk5ikPQ/AAAAKDGI9D+amZlJ4Xr0PwAAACCFa/Q/ZmZmPgpX9D+amZnRIlv0PzMzM6vxUvQ/MzMzi0Fg9D8zMzMjsHL0P5qZmXESg/Q/MzMzU42X9D8zMzNTjZf0P83MzFS4nvQ/mpmZWQ6t9D+amZlhusn0PwAAAPgo3PQ/AAAAWA4t9T9mZmZmO1/1PwAAAHASg/U/mpmZCayc9T/NzMw838/1P2ZmZtZ46fU/zczM3Pn+9T/NzMx0aBH2P83MzAzXI/Y/zczMDNcj9j8AAACg7yf2PwAAAMhLN/Y/mpmZyXY+9j8zMzPLoUX2P2ZmZl66SfY/MzMzO99P9j8zMzODwEr2PwAAABBYOfY/AAAAUI0X9j8AAABI4fr1P5qZmekmsfU/MzMza7x09T8zMzMbL131P2ZmZqabRPU/ZmZmlkML9T8zMzNjENj0P83MzMQgsPQ/MzMzc2iR9D8=",
          "dtype": "f8"
         },
         "yaxis": "y"
        },
        {
         "mode": "lines",
         "name": "Volume",
         "type": "scatter",
         "x": [
          "2025-01-02T00:00:00.000000000",
          "2025-01-03T00:00:00.000000000",
          "2025-01-06T00:00:00.000000000",
          "2025-01-07T00:00:00.000000000",
          "2025-01-08T00:00:00.000000000",
          "2025-01-09T00:00:00.000000000",
          "2025-01-10T00:00:00.000000000",
          "2025-01-13T00:00:00.000000000",
          "2025-01-14T00:00:00.000000000",
          "2025-01-15T00:00:00.000000000",
          "2025-01-16T00:00:00.000000000",
          "2025-01-17T00:00:00.000000000",
          "2025-01-20T00:00:00.000000000",
          "2025-01-21T00:00:00.000000000",
          "2025-01-22T00:00:00.000000000",
          "2025-01-23T00:00:00.000000000",
          "2025-01-24T00:00:00.000000000",
          "2025-01-27T00:00:00.000000000",
          "2025-01-28T00:00:00.000000000",
          "2025-01-29T00:00:00.000000000",
          "2025-01-30T00:00:00.000000000",
          "2025-01-31T00:00:00.000000000",
          "2025-02-03T00:00:00.000000000",
          "2025-02-04T00:00:00.000000000",
          "2025-02-05T00:00:00.000000000",
          "2025-02-06T00:00:00.000000000",
          "2025-02-07T00:00:00.000000000",
          "2025-02-10T00:00:00.000000000",
          "2025-02-11T00:00:00.000000000",
          "2025-02-12T00:00:00.000000000",
          "2025-02-13T00:00:00.000000000",
          "2025-02-14T00:00:00.000000000",
          "2025-02-17T00:00:00.000000000",
          "2025-02-18T00:00:00.000000000",
          "2025-02-19T00:00:00.000000000",
          "2025-02-20T00:00:00.000000000",
          "2025-02-21T00:00:00.000000000",
          "2025-02-24T00:00:00.000000000",
          "2025-02-25T00:00:00.000000000",
          "2025-02-26T00:00:00.000000000",
          "2025-02-27T00:00:00.000000000",
          "2025-02-28T00:00:00.000000000",
          "2025-03-03T00:00:00.000000000",
          "2025-03-04T00:00:00.000000000",
          "2025-03-05T00:00:00.000000000",
          "2025-03-06T00:00:00.000000000",
          "2025-03-07T00:00:00.000000000",
          "2025-03-10T00:00:00.000000000",
          "2025-03-11T00:00:00.000000000",
          "2025-03-12T00:00:00.000000000",
          "2025-03-13T00:00:00.000000000",
          "2025-03-14T00:00:00.000000000",
          "2025-03-17T00:00:00.000000000",
          "2025-03-18T00:00:00.000000000",
          "2025-03-19T00:00:00.000000000",
          "2025-03-20T00:00:00.000000000",
          "2025-03-21T00:00:00.000000000",
          "2025-03-24T00:00:00.000000000",
          "2025-03-25T00:00:00.000000000",
          "2025-03-26T00:00:00.000000000",
          "2025-03-27T00:00:00.000000000",
          "2025-03-28T00:00:00.000000000",
          "2025-03-31T00:00:00.000000000",
          "2025-04-01T00:00:00.000000000",
          "2025-04-02T00:00:00.000000000",
          "2025-04-03T00:00:00.000000000",
          "2025-04-04T00:00:00.000000000",
          "2025-04-07T00:00:00.000000000",
          "2025-04-08T00:00:00.000000000",
          "2025-04-09T00:00:00.000000000",
          "2025-04-10T00:00:00.000000000",
          "2025-04-11T00:00:00.000000000",
          "2025-04-14T00:00:00.000000000",
          "2025-04-15T00:00:00.000000000",
          "2025-04-16T00:00:00.000000000",
          "2025-04-17T00:00:00.000000000"
         ],
         "xaxis": "x2",
         "y": {
          "bdata": "EQABAAbjAACqVwAAARoAAKxHAABeSQAAbygAAMItAABcIQAAzgsAAJ48AABx7AEAX30AANySAAB90wEAwYwAAFtlAADGPQAA1BwAAH5GAQAxXwAA/hsAAMYFAAB+KQAAsQ0AAEMiAADUQQAAZgUAADB1AAAUGQAAMTwAANUpAADaSAAAXYcBAPIMAQBhQAAA310AAEuyAABLfAAAPlcAAL43AAAbLwAAPnkAABAYAACVQAAAPZAAAER2AAB8eAAAVzMIAK5VAQDjzAAAVMgAAPWzAQB+BAEA+moBAF9pAAC0rAAAiH4AAFwvAABaQgAAkFcAABMqAAAtLAAAy2UAAOXJAAAgAwAAjtEAALeDAADcNQAABkQAAM4NAABZAgAAHzYAAB94AAD26QAAmycAAA==",
          "dtype": "i4"
         },
         "yaxis": "y2"
        },
        {
         "mode": "lines",
         "name": "MMA20",
         "type": "scatter",
         "x": [
          "2025-01-02T00:00:00.000000000",
          "2025-01-03T00:00:00.000000000",
          "2025-01-06T00:00:00.000000000",
          "2025-01-07T00:00:00.000000000",
          "2025-01-08T00:00:00.000000000",
          "2025-01-09T00:00:00.000000000",
          "2025-01-10T00:00:00.000000000",
          "2025-01-13T00:00:00.000000000",
          "2025-01-14T00:00:00.000000000",
          "2025-01-15T00:00:00.000000000",
          "2025-01-16T00:00:00.000000000",
          "2025-01-17T00:00:00.000000000",
          "2025-01-20T00:00:00.000000000",
          "2025-01-21T00:00:00.000000000",
          "2025-01-22T00:00:00.000000000",
          "2025-01-23T00:00:00.000000000",
          "2025-01-24T00:00:00.000000000",
          "2025-01-27T00:00:00.000000000",
          "2025-01-28T00:00:00.000000000",
          "2025-01-29T00:00:00.000000000",
          "2025-01-30T00:00:00.000000000",
          "2025-01-31T00:00:00.000000000",
          "2025-02-03T00:00:00.000000000",
          "2025-02-04T00:00:00.000000000",
          "2025-02-05T00:00:00.000000000",
          "2025-02-06T00:00:00.000000000",
          "2025-02-07T00:00:00.000000000",
          "2025-02-10T00:00:00.000000000",
          "2025-02-11T00:00:00.000000000",
          "2025-02-12T00:00:00.000000000",
          "2025-02-13T00:00:00.000000000",
          "2025-02-14T00:00:00.000000000",
          "2025-02-17T00:00:00.000000000",
          "2025-02-18T00:00:00.000000000",
          "2025-02-19T00:00:00.000000000",
          "2025-02-20T00:00:00.000000000",
          "2025-02-21T00:00:00.000000000",
          "2025-02-24T00:00:00.000000000",
          "2025-02-25T00:00:00.000000000",
          "2025-02-26T00:00:00.000000000",
          "2025-02-27T00:00:00.000000000",
          "2025-02-28T00:00:00.000000000",
          "2025-03-03T00:00:00.000000000",
          "2025-03-04T00:00:00.000000000",
          "2025-03-05T00:00:00.000000000",
          "2025-03-06T00:00:00.000000000",
          "2025-03-07T00:00:00.000000000",
          "2025-03-10T00:00:00.000000000",
          "2025-03-11T00:00:00.000000000",
          "2025-03-12T00:00:00.000000000",
          "2025-03-13T00:00:00.000000000",
          "2025-03-14T00:00:00.000000000",
          "2025-03-17T00:00:00.000000000",
          "2025-03-18T00:00:00.000000000",
          "2025-03-19T00:00:00.000000000",
          "2025-03-20T00:00:00.000000000",
          "2025-03-21T00:00:00.000000000",
          "2025-03-24T00:00:00.000000000",
          "2025-03-25T00:00:00.000000000",
          "2025-03-26T00:00:00.000000000",
          "2025-03-27T00:00:00.000000000",
          "2025-03-28T00:00:00.000000000",
          "2025-03-31T00:00:00.000000000",
          "2025-04-01T00:00:00.000000000",
          "2025-04-02T00:00:00.000000000",
          "2025-04-03T00:00:00.000000000",
          "2025-04-04T00:00:00.000000000",
          "2025-04-07T00:00:00.000000000",
          "2025-04-08T00:00:00.000000000",
          "2025-04-09T00:00:00.000000000",
          "2025-04-10T00:00:00.000000000",
          "2025-04-11T00:00:00.000000000",
          "2025-04-14T00:00:00.000000000",
          "2025-04-15T00:00:00.000000000",
          "2025-04-16T00:00:00.000000000",
          "2025-04-17T00:00:00.000000000"
         ],
         "xaxis": "x2",
         "y": {
          "bdata": "AAAAAAAA+H8AAAAAAAD4fwAAAAAAAPh/AAAAAAAA+H8AAAAAAAD4fwAAAAAAAPh/AAAAAAAA+H8AAAAAAAD4fwAAAAAAAPh/AAAAAAAA+H8AAAAAAAD4fwAAAAAAAPh/AAAAAAAA+H8AAAAAAAD4fwAAAAAAAPh/AAAAAAAA+H8AAAAAAAD4fwAAAAAAAPh/AAAAAAAA+H9mZmZmNqjhQAAAAADQpuBAmpmZmbnQ3kDNzMzMrMrdQM3MzMw8/N1AMzMzM7NC3UAAAAAAkMXcQDMzMzPTFt1AzczMzKyV3EDNzMzM7KHdQGZmZmZmzN1AmpmZmQnL3UBmZmZmFinYQGZmZmYGgddAAAAAAHCP2kCamZmZGRTYQDMzMzOzH9dAAAAAAMAH10DNzMzMnHzYQJqZmZkZrtlAAAAAAICw1kAzMzMzQzLWQM3MzMxsb9ZAzczMzOzg10BmZmZmJqnXQAAAAAAATNhAzczMzOyr2UCamZmZuVPaQAAAAAAAxNtAmpmZmXFF6kCamZmZAUDsQM3MzMyEJ+1AzczMzBwl7kBmZmZmCjXwQAAAAACwmO9AmpmZmZEX8EDNzMzMXDjwQJqZmZltd/BAzczMzARO8EDNzMzMeBDwQM3MzMyE/+9AMzMzMzcZ8EDNzMzMMBXwQDMzMzMTr+9AzczMzLgV8EBmZmZmkoPwQGZmZmauEvBAZmZmZrZb8EBmZmZmsmTwQAAAAACgAORAZmZmZsZK4kAzMzMzCxnhQM3MzMyMuN9AzczMzKzy2kDNzMzMfDHZQDMzMzOjlNdAAAAAADDC1kA=",
          "dtype": "f8"
         },
         "yaxis": "y2"
        },
        {
         "mode": "lines",
         "name": "RSI",
         "type": "scatter",
         "x": [
          "2025-01-02T00:00:00.000000000",
          "2025-01-03T00:00:00.000000000",
          "2025-01-06T00:00:00.000000000",
          "2025-01-07T00:00:00.000000000",
          "2025-01-08T00:00:00.000000000",
          "2025-01-09T00:00:00.000000000",
          "2025-01-10T00:00:00.000000000",
          "2025-01-13T00:00:00.000000000",
          "2025-01-14T00:00:00.000000000",
          "2025-01-15T00:00:00.000000000",
          "2025-01-16T00:00:00.000000000",
          "2025-01-17T00:00:00.000000000",
          "2025-01-20T00:00:00.000000000",
          "2025-01-21T00:00:00.000000000",
          "2025-01-22T00:00:00.000000000",
          "2025-01-23T00:00:00.000000000",
          "2025-01-24T00:00:00.000000000",
          "2025-01-27T00:00:00.000000000",
          "2025-01-28T00:00:00.000000000",
          "2025-01-29T00:00:00.000000000",
          "2025-01-30T00:00:00.000000000",
          "2025-01-31T00:00:00.000000000",
          "2025-02-03T00:00:00.000000000",
          "2025-02-04T00:00:00.000000000",
          "2025-02-05T00:00:00.000000000",
          "2025-02-06T00:00:00.000000000",
          "2025-02-07T00:00:00.000000000",
          "2025-02-10T00:00:00.000000000",
          "2025-02-11T00:00:00.000000000",
          "2025-02-12T00:00:00.000000000",
          "2025-02-13T00:00:00.000000000",
          "2025-02-14T00:00:00.000000000",
          "2025-02-17T00:00:00.000000000",
          "2025-02-18T00:00:00.000000000",
          "2025-02-19T00:00:00.000000000",
          "2025-02-20T00:00:00.000000000",
          "2025-02-21T00:00:00.000000000",
          "2025-02-24T00:00:00.000000000",
          "2025-02-25T00:00:00.000000000",
          "2025-02-26T00:00:00.000000000",
          "2025-02-27T00:00:00.000000000",
          "2025-02-28T00:00:00.000000000",
          "2025-03-03T00:00:00.000000000",
          "2025-03-04T00:00:00.000000000",
          "2025-03-05T00:00:00.000000000",
          "2025-03-06T00:00:00.000000000",
          "2025-03-07T00:00:00.000000000",
          "2025-03-10T00:00:00.000000000",
          "2025-03-11T00:00:00.000000000",
          "2025-03-12T00:00:00.000000000",
          "2025-03-13T00:00:00.000000000",
          "2025-03-14T00:00:00.000000000",
          "2025-03-17T00:00:00.000000000",
          "2025-03-18T00:00:00.000000000",
          "2025-03-19T00:00:00.000000000",
          "2025-03-20T00:00:00.000000000",
          "2025-03-21T00:00:00.000000000",
          "2025-03-24T00:00:00.000000000",
          "2025-03-25T00:00:00.000000000",
          "2025-03-26T00:00:00.000000000",
          "2025-03-27T00:00:00.000000000",
          "2025-03-28T00:00:00.000000000",
          "2025-03-31T00:00:00.000000000",
          "2025-04-01T00:00:00.000000000",
          "2025-04-02T00:00:00.000000000",
          "2025-04-03T00:00:00.000000000",
          "2025-04-04T00:00:00.000000000",
          "2025-04-07T00:00:00.000000000",
          "2025-04-08T00:00:00.000000000",
          "2025-04-09T00:00:00.000000000",
          "2025-04-10T00:00:00.000000000",
          "2025-04-11T00:00:00.000000000",
          "2025-04-14T00:00:00.000000000",
          "2025-04-15T00:00:00.000000000",
          "2025-04-16T00:00:00.000000000",
          "2025-04-17T00:00:00.000000000"
         ],
         "xaxis": "x3",
         "y": {
          "bdata": "AAAAAAAA+H8AAAAAAAD4fwAAAAAAAPh/AAAAAAAA+H8AAAAAAAD4fwAAAAAAAPh/AAAAAAAA+H8AAAAAAAD4fwAAAAAAAPh/AAAAAAAA+H8AAAAAAAD4fwAAAAAAAPh/AAAAAAAA+H/p2A6uxxBQQH1mTZzlC1FAECLrik8YUEDCwC+lp3pQQKYeNcpBU01AFbwdovUDT0CYOmMibjBHQNNbDTwc60ZATY8tTR/SRUBn+GWQJMBEQPPH3WuSi0dAQnVrbF0fRkA/Kh6/OnNIQKVAfv9FL0VApUB+/0UvRUC6gdr8AiVEQA4lJQpUoUdA/cC6G2M6RUBrmNWsKVlIQOz0CWVDAUdAhTEKAjD6S0AoCPWQZ6VMQK3wUuwq40pAgX6xLL1OSkDK+xiVAwVOQFD8YgKzO0xAU3CXeoikS0ArHpcMP5tMQALcfoaCvkpAAtx+hoK+SkDWgwhrUTxHQNIsIh/x2UdA0dbnkUa3S0CjXOUjGjZMQPRywY35MUlASH3cmgmDUUB4/NrjdHZOQHe5Pm5lO0pAd7k+bmU7SkAejmVR6SZNQMvuPiMCCkxA5V1mpyjZS0CR4ABcAyBKQHOctwdrvklAL4OQrHNYSUD/QMLjHO5IQP3sf3lWxkpALe7vLCjdSUAVvjOvP4RIQMWP3bcB2UdA0h2qC2e4RUA7x5Mc5/1DQEwpqC15jURAZgV8G74DQkCmuyrXojJBQCWl8cOk5ERAZhIQK6mcQ0Aw4Hwjge5GQMQUWqzauUZArkEUuJZdRECuQRS4ll1EQB/5EhWnEUdAH/kSFacRR0A=",
          "dtype": "f8"
         },
         "yaxis": "y3"
        }
       ],
       "layout": {
        "height": 800,
        "shapes": [
         {
          "line": {
           "color": "green",
           "dash": "dash",
           "width": 1
          },
          "type": "line",
          "x0": 0,
          "x1": 1,
          "xref": "x3 domain",
          "y0": 30,
          "y1": 30,
          "yref": "y3"
         },
         {
          "line": {
           "color": "red",
           "dash": "dash",
           "width": 1
          },
          "type": "line",
          "x0": 0,
          "x1": 1,
          "xref": "x3 domain",
          "y0": 70,
          "y1": 70,
          "yref": "y3"
         }
        ],
        "showlegend": false,
        "template": {
         "data": {
          "bar": [
           {
            "error_x": {
             "color": "#2a3f5f"
            },
            "error_y": {
             "color": "#2a3f5f"
            },
            "marker": {
             "line": {
              "color": "#E5ECF6",
              "width": 0.5
             },
             "pattern": {
              "fillmode": "overlay",
              "size": 10,
              "solidity": 0.2
             }
            },
            "type": "bar"
           }
          ],
          "barpolar": [
           {
            "marker": {
             "line": {
              "color": "#E5ECF6",
              "width": 0.5
             },
             "pattern": {
              "fillmode": "overlay",
              "size": 10,
              "solidity": 0.2
             }
            },
            "type": "barpolar"
           }
          ],
          "carpet": [
           {
            "aaxis": {
             "endlinecolor": "#2a3f5f",
             "gridcolor": "white",
             "linecolor": "white",
             "minorgridcolor": "white",
             "startlinecolor": "#2a3f5f"
            },
            "baxis": {
             "endlinecolor": "#2a3f5f",
             "gridcolor": "white",
             "linecolor": "white",
             "minorgridcolor": "white",
             "startlinecolor": "#2a3f5f"
            },
            "type": "carpet"
           }
          ],
          "choropleth": [
           {
            "colorbar": {
             "outlinewidth": 0,
             "ticks": ""
            },
            "type": "choropleth"
           }
          ],
          "contour": [
           {
            "colorbar": {
             "outlinewidth": 0,
             "ticks": ""
            },
            "colorscale": [
             [
              0,
              "#0d0887"
             ],
             [
              0.1111111111111111,
              "#46039f"
             ],
             [
              0.2222222222222222,
              "#7201a8"
             ],
             [
              0.3333333333333333,
              "#9c179e"
             ],
             [
              0.4444444444444444,
              "#bd3786"
             ],
             [
              0.5555555555555556,
              "#d8576b"
             ],
             [
              0.6666666666666666,
              "#ed7953"
             ],
             [
              0.7777777777777778,
              "#fb9f3a"
             ],
             [
              0.8888888888888888,
              "#fdca26"
             ],
             [
              1,
              "#f0f921"
             ]
            ],
            "type": "contour"
           }
          ],
          "contourcarpet": [
           {
            "colorbar": {
             "outlinewidth": 0,
             "ticks": ""
            },
            "type": "contourcarpet"
           }
          ],
          "heatmap": [
           {
            "colorbar": {
             "outlinewidth": 0,
             "ticks": ""
            },
            "colorscale": [
             [
              0,
              "#0d0887"
             ],
             [
              0.1111111111111111,
              "#46039f"
             ],
             [
              0.2222222222222222,
              "#7201a8"
             ],
             [
              0.3333333333333333,
              "#9c179e"
             ],
             [
              0.4444444444444444,
              "#bd3786"
             ],
             [
              0.5555555555555556,
              "#d8576b"
             ],
             [
              0.6666666666666666,
              "#ed7953"
             ],
             [
              0.7777777777777778,
              "#fb9f3a"
             ],
             [
              0.8888888888888888,
              "#fdca26"
             ],
             [
              1,
              "#f0f921"
             ]
            ],
            "type": "heatmap"
           }
          ],
          "histogram": [
           {
            "marker": {
             "pattern": {
              "fillmode": "overlay",
              "size": 10,
              "solidity": 0.2
             }
            },
            "type": "histogram"
           }
          ],
          "histogram2d": [
           {
            "colorbar": {
             "outlinewidth": 0,
             "ticks": ""
            },
            "colorscale": [
             [
              0,
              "#0d0887"
             ],
             [
              0.1111111111111111,
              "#46039f"
             ],
             [
              0.2222222222222222,
              "#7201a8"
             ],
             [
              0.3333333333333333,
              "#9c179e"
             ],
             [
              0.4444444444444444,
              "#bd3786"
             ],
             [
              0.5555555555555556,
              "#d8576b"
             ],
             [
              0.6666666666666666,
              "#ed7953"
             ],
             [
              0.7777777777777778,
              "#fb9f3a"
             ],
             [
              0.8888888888888888,
              "#fdca26"
             ],
             [
              1,
              "#f0f921"
             ]
            ],
            "type": "histogram2d"
           }
          ],
          "histogram2dcontour": [
           {
            "colorbar": {
             "outlinewidth": 0,
             "ticks": ""
            },
            "colorscale": [
             [
              0,
              "#0d0887"
             ],
             [
              0.1111111111111111,
              "#46039f"
             ],
             [
              0.2222222222222222,
              "#7201a8"
             ],
             [
              0.3333333333333333,
              "#9c179e"
             ],
             [
              0.4444444444444444,
              "#bd3786"
             ],
             [
              0.5555555555555556,
              "#d8576b"
             ],
             [
              0.6666666666666666,
              "#ed7953"
             ],
             [
              0.7777777777777778,
              "#fb9f3a"
             ],
             [
              0.8888888888888888,
              "#fdca26"
             ],
             [
              1,
              "#f0f921"
             ]
            ],
            "type": "histogram2dcontour"
           }
          ],
          "mesh3d": [
           {
            "colorbar": {
             "outlinewidth": 0,
             "ticks": ""
            },
            "type": "mesh3d"
           }
          ],
          "parcoords": [
           {
            "line": {
             "colorbar": {
              "outlinewidth": 0,
              "ticks": ""
             }
            },
            "type": "parcoords"
           }
          ],
          "pie": [
           {
            "automargin": true,
            "type": "pie"
           }
          ],
          "scatter": [
           {
            "fillpattern": {
             "fillmode": "overlay",
             "size": 10,
             "solidity": 0.2
            },
            "type": "scatter"
           }
          ],
          "scatter3d": [
           {
            "line": {
             "colorbar": {
              "outlinewidth": 0,
              "ticks": ""
             }
            },
            "marker": {
             "colorbar": {
              "outlinewidth": 0,
              "ticks": ""
             }
            },
            "type": "scatter3d"
           }
          ],
          "scattercarpet": [
           {
            "marker": {
             "colorbar": {
              "outlinewidth": 0,
              "ticks": ""
             }
            },
            "type": "scattercarpet"
           }
          ],
          "scattergeo": [
           {
            "marker": {
             "colorbar": {
              "outlinewidth": 0,
              "ticks": ""
             }
            },
            "type": "scattergeo"
           }
          ],
          "scattergl": [
           {
            "marker": {
             "colorbar": {
              "outlinewidth": 0,
              "ticks": ""
             }
            },
            "type": "scattergl"
           }
          ],
          "scattermap": [
           {
            "marker": {
             "colorbar": {
              "outlinewidth": 0,
              "ticks": ""
             }
            },
            "type": "scattermap"
           }
          ],
          "scattermapbox": [
           {
            "marker": {
             "colorbar": {
              "outlinewidth": 0,
              "ticks": ""
             }
            },
            "type": "scattermapbox"
           }
          ],
          "scatterpolar": [
           {
            "marker": {
             "colorbar": {
              "outlinewidth": 0,
              "ticks": ""
             }
            },
            "type": "scatterpolar"
           }
          ],
          "scatterpolargl": [
           {
            "marker": {
             "colorbar": {
              "outlinewidth": 0,
              "ticks": ""
             }
            },
            "type": "scatterpolargl"
           }
          ],
          "scatterternary": [
           {
            "marker": {
             "colorbar": {
              "outlinewidth": 0,
              "ticks": ""
             }
            },
            "type": "scatterternary"
           }
          ],
          "surface": [
           {
            "colorbar": {
             "outlinewidth": 0,
             "ticks": ""
            },
            "colorscale": [
             [
              0,
              "#0d0887"
             ],
             [
              0.1111111111111111,
              "#46039f"
             ],
             [
              0.2222222222222222,
              "#7201a8"
             ],
             [
              0.3333333333333333,
              "#9c179e"
             ],
             [
              0.4444444444444444,
              "#bd3786"
             ],
             [
              0.5555555555555556,
              "#d8576b"
             ],
             [
              0.6666666666666666,
              "#ed7953"
             ],
             [
              0.7777777777777778,
              "#fb9f3a"
             ],
             [
              0.8888888888888888,
              "#fdca26"
             ],
             [
              1,
              "#f0f921"
             ]
            ],
            "type": "surface"
           }
          ],
          "table": [
           {
            "cells": {
             "fill": {
              "color": "#EBF0F8"
             },
             "line": {
              "color": "white"
             }
            },
            "header": {
             "fill": {
              "color": "#C8D4E3"
             },
             "line": {
              "color": "white"
             }
            },
            "type": "table"
           }
          ]
         },
         "layout": {
          "annotationdefaults": {
           "arrowcolor": "#2a3f5f",
           "arrowhead": 0,
           "arrowwidth": 1
          },
          "autotypenumbers": "strict",
          "coloraxis": {
           "colorbar": {
            "outlinewidth": 0,
            "ticks": ""
           }
          },
          "colorscale": {
           "diverging": [
            [
             0,
             "#8e0152"
            ],
            [
             0.1,
             "#c51b7d"
            ],
            [
             0.2,
             "#de77ae"
            ],
            [
             0.3,
             "#f1b6da"
            ],
            [
             0.4,
             "#fde0ef"
            ],
            [
             0.5,
             "#f7f7f7"
            ],
            [
             0.6,
             "#e6f5d0"
            ],
            [
             0.7,
             "#b8e186"
            ],
            [
             0.8,
             "#7fbc41"
            ],
            [
             0.9,
             "#4d9221"
            ],
            [
             1,
             "#276419"
            ]
           ],
           "sequential": [
            [
             0,
             "#0d0887"
            ],
            [
             0.1111111111111111,
             "#46039f"
            ],
            [
             0.2222222222222222,
             "#7201a8"
            ],
            [
             0.3333333333333333,
             "#9c179e"
            ],
            [
             0.4444444444444444,
             "#bd3786"
            ],
            [
             0.5555555555555556,
             "#d8576b"
            ],
            [
             0.6666666666666666,
             "#ed7953"
            ],
            [
             0.7777777777777778,
             "#fb9f3a"
            ],
            [
             0.8888888888888888,
             "#fdca26"
            ],
            [
             1,
             "#f0f921"
            ]
           ],
           "sequentialminus": [
            [
             0,
             "#0d0887"
            ],
            [
             0.1111111111111111,
             "#46039f"
            ],
            [
             0.2222222222222222,
             "#7201a8"
            ],
            [
             0.3333333333333333,
             "#9c179e"
            ],
            [
             0.4444444444444444,
             "#bd3786"
            ],
            [
             0.5555555555555556,
             "#d8576b"
            ],
            [
             0.6666666666666666,
             "#ed7953"
            ],
            [
             0.7777777777777778,
             "#fb9f3a"
            ],
            [
             0.8888888888888888,
             "#fdca26"
            ],
            [
             1,
             "#f0f921"
            ]
           ]
          },
          "colorway": [
           "#636efa",
           "#EF553B",
           "#00cc96",
           "#ab63fa",
           "#FFA15A",
           "#19d3f3",
           "#FF6692",
           "#B6E880",
           "#FF97FF",
           "#FECB52"
          ],
          "font": {
           "color": "#2a3f5f"
          },
          "geo": {
           "bgcolor": "white",
           "lakecolor": "white",
           "landcolor": "#E5ECF6",
           "showlakes": true,
           "showland": true,
           "subunitcolor": "white"
          },
          "hoverlabel": {
           "align": "left"
          },
          "hovermode": "closest",
          "mapbox": {
           "style": "light"
          },
          "paper_bgcolor": "white",
          "plot_bgcolor": "#E5ECF6",
          "polar": {
           "angularaxis": {
            "gridcolor": "white",
            "linecolor": "white",
            "ticks": ""
           },
           "bgcolor": "#E5ECF6",
           "radialaxis": {
            "gridcolor": "white",
            "linecolor": "white",
            "ticks": ""
           }
          },
          "scene": {
           "xaxis": {
            "backgroundcolor": "#E5ECF6",
            "gridcolor": "white",
            "gridwidth": 2,
            "linecolor": "white",
            "showbackground": true,
            "ticks": "",
            "zerolinecolor": "white"
           },
           "yaxis": {
            "backgroundcolor": "#E5ECF6",
            "gridcolor": "white",
            "gridwidth": 2,
            "linecolor": "white",
            "showbackground": true,
            "ticks": "",
            "zerolinecolor": "white"
           },
           "zaxis": {
            "backgroundcolor": "#E5ECF6",
            "gridcolor": "white",
            "gridwidth": 2,
            "linecolor": "white",
            "showbackground": true,
            "ticks": "",
            "zerolinecolor": "white"
           }
          },
          "shapedefaults": {
           "line": {
            "color": "#2a3f5f"
           }
          },
          "ternary": {
           "aaxis": {
            "gridcolor": "white",
            "linecolor": "white",
            "ticks": ""
           },
           "baxis": {
            "gridcolor": "white",
            "linecolor": "white",
            "ticks": ""
           },
           "bgcolor": "#E5ECF6",
           "caxis": {
            "gridcolor": "white",
            "linecolor": "white",
            "ticks": ""
           }
          },
          "title": {
           "x": 0.05
          },
          "xaxis": {
           "automargin": true,
           "gridcolor": "white",
           "linecolor": "white",
           "ticks": "",
           "title": {
            "standoff": 15
           },
           "zerolinecolor": "white",
           "zerolinewidth": 2
          },
          "yaxis": {
           "automargin": true,
           "gridcolor": "white",
           "linecolor": "white",
           "ticks": "",
           "title": {
            "standoff": 15
           },
           "zerolinecolor": "white",
           "zerolinewidth": 2
          }
         }
        },
        "title": {
         "text": "HLZ.MC 2025"
        },
        "width": 1300,
        "xaxis": {
         "anchor": "y",
         "domain": [
          0,
          1
         ],
         "matches": "x3",
         "showticklabels": false
        },
        "xaxis2": {
         "anchor": "y2",
         "domain": [
          0,
          1
         ],
         "matches": "x3",
         "showticklabels": false
        },
        "xaxis3": {
         "anchor": "y3",
         "domain": [
          0,
          1
         ]
        },
        "yaxis": {
         "anchor": "x",
         "domain": [
          0.505,
          1
         ],
         "title": {
          "text": "Price"
         }
        },
        "yaxis2": {
         "anchor": "x2",
         "domain": [
          0.2525,
          0.495
         ],
         "title": {
          "text": "Volume"
         }
        },
        "yaxis3": {
         "anchor": "x3",
         "domain": [
          0,
          0.2425
         ],
         "title": {
          "text": "RSI"
         }
        }
       }
      },
      "text/html": [
       "<div>            <script src=\"https://cdnjs.cloudflare.com/ajax/libs/mathjax/2.7.5/MathJax.js?config=TeX-AMS-MML_SVG\"></script><script type=\"text/javascript\">if (window.MathJax && window.MathJax.Hub && window.MathJax.Hub.Config) {window.MathJax.Hub.Config({SVG: {font: \"STIX-Web\"}});}</script>                <script type=\"text/javascript\">window.PlotlyConfig = {MathJaxConfig: 'local'};</script>\n",
       "        <script charset=\"utf-8\" src=\"https://cdn.plot.ly/plotly-3.0.0.min.js\"></script>                <div id=\"7aaa1923-991d-4442-940f-2721b00eb0b1\" class=\"plotly-graph-div\" style=\"height:800px; width:1300px;\"></div>            <script type=\"text/javascript\">                window.PLOTLYENV=window.PLOTLYENV || {};                                if (document.getElementById(\"7aaa1923-991d-4442-940f-2721b00eb0b1\")) {                    Plotly.newPlot(                        \"7aaa1923-991d-4442-940f-2721b00eb0b1\",                        [{\"mode\":\"lines\",\"name\":\"HLZ.MC\",\"x\":[\"2025-01-02T00:00:00.000000000\",\"2025-01-03T00:00:00.000000000\",\"2025-01-06T00:00:00.000000000\",\"2025-01-07T00:00:00.000000000\",\"2025-01-08T00:00:00.000000000\",\"2025-01-09T00:00:00.000000000\",\"2025-01-10T00:00:00.000000000\",\"2025-01-13T00:00:00.000000000\",\"2025-01-14T00:00:00.000000000\",\"2025-01-15T00:00:00.000000000\",\"2025-01-16T00:00:00.000000000\",\"2025-01-17T00:00:00.000000000\",\"2025-01-20T00:00:00.000000000\",\"2025-01-21T00:00:00.000000000\",\"2025-01-22T00:00:00.000000000\",\"2025-01-23T00:00:00.000000000\",\"2025-01-24T00:00:00.000000000\",\"2025-01-27T00:00:00.000000000\",\"2025-01-28T00:00:00.000000000\",\"2025-01-29T00:00:00.000000000\",\"2025-01-30T00:00:00.000000000\",\"2025-01-31T00:00:00.000000000\",\"2025-02-03T00:00:00.000000000\",\"2025-02-04T00:00:00.000000000\",\"2025-02-05T00:00:00.000000000\",\"2025-02-06T00:00:00.000000000\",\"2025-02-07T00:00:00.000000000\",\"2025-02-10T00:00:00.000000000\",\"2025-02-11T00:00:00.000000000\",\"2025-02-12T00:00:00.000000000\",\"2025-02-13T00:00:00.000000000\",\"2025-02-14T00:00:00.000000000\",\"2025-02-17T00:00:00.000000000\",\"2025-02-18T00:00:00.000000000\",\"2025-02-19T00:00:00.000000000\",\"2025-02-20T00:00:00.000000000\",\"2025-02-21T00:00:00.000000000\",\"2025-02-24T00:00:00.000000000\",\"2025-02-25T00:00:00.000000000\",\"2025-02-26T00:00:00.000000000\",\"2025-02-27T00:00:00.000000000\",\"2025-02-28T00:00:00.000000000\",\"2025-03-03T00:00:00.000000000\",\"2025-03-04T00:00:00.000000000\",\"2025-03-05T00:00:00.000000000\",\"2025-03-06T00:00:00.000000000\",\"2025-03-07T00:00:00.000000000\",\"2025-03-10T00:00:00.000000000\",\"2025-03-11T00:00:00.000000000\",\"2025-03-12T00:00:00.000000000\",\"2025-03-13T00:00:00.000000000\",\"2025-03-14T00:00:00.000000000\",\"2025-03-17T00:00:00.000000000\",\"2025-03-18T00:00:00.000000000\",\"2025-03-19T00:00:00.000000000\",\"2025-03-20T00:00:00.000000000\",\"2025-03-21T00:00:00.000000000\",\"2025-03-24T00:00:00.000000000\",\"2025-03-25T00:00:00.000000000\",\"2025-03-26T00:00:00.000000000\",\"2025-03-27T00:00:00.000000000\",\"2025-03-28T00:00:00.000000000\",\"2025-03-31T00:00:00.000000000\",\"2025-04-01T00:00:00.000000000\",\"2025-04-02T00:00:00.000000000\",\"2025-04-03T00:00:00.000000000\",\"2025-04-04T00:00:00.000000000\",\"2025-04-07T00:00:00.000000000\",\"2025-04-08T00:00:00.000000000\",\"2025-04-09T00:00:00.000000000\",\"2025-04-10T00:00:00.000000000\",\"2025-04-11T00:00:00.000000000\",\"2025-04-14T00:00:00.000000000\",\"2025-04-15T00:00:00.000000000\",\"2025-04-16T00:00:00.000000000\",\"2025-04-17T00:00:00.000000000\"],\"y\":{\"dtype\":\"f8\",\"bdata\":\"AAAAIFyP9D8AAADA9Sj0PwAAAIAUrvM\\u002fAAAAoJmZ8z8AAACAwvXyPwAAAMAehfM\\u002fAAAAwPUo9D8BAAAAKVzzPwAAAIA9CvM\\u002fAAAAYLge8z8AAADA9Sj0PwAAAEAK1\\u002fU\\u002fAAAAIK5H9T8AAABACtf1PwAAAEDhevY\\u002fAAAAwPUo9j8AAABgZmb2PwAAAGCPwvU\\u002fAAAAoHA99j8AAABgZmb0PwAAAIDrUfQ\\u002fAAAAAAAA9D8AAACAFK7zPwAAAIDrUfQ\\u002fAAAAIIXr8z8AAABA4Xr0PwAAAMAehfM\\u002fAAAAwB6F8z8AAABAMzPzPwAAAAAAAPQ\\u002fAAAAIK5H8z8AAADgehT0PwAAAIAUrvM\\u002fAAAAQDMz9T8AAADgo3D1PwAAAIDC9fQ\\u002fAAAAwMzM9D8AAADgehT2PwAAAKCZmfU\\u002fAAAA4KNw9T8AAABgj8L1PwAAACCuR\\u002fU\\u002fAAAAIK5H9T8AAACA61H0PwAAAEDhevQ\\u002fAAAAoJmZ9T8AAABgj8L1PwAAAIDC9fQ\\u002fAAAAwB6F+T8AAAAghev3PwAAAOB6FPY\\u002fAAAA4HoU9j8AAACAFK73PwAAAEAzM\\u002fc\\u002fAAAAYLge9z8AAABgZmb2PwAAAKBwPfY\\u002fAAAA4HoU9j8AAAAghev1P\\u002f\\u002f\\u002f\\u002f\\u002f\\u002fWo\\u002fY\\u002fAAAAgOtR9j8AAABACtf1PwAAAKCZmfU\\u002fAAAAwMzM9D8AAADgehT0PwAAAKBwPfQ\\u002fAAAAYLge8z8AAADgUbjyPwAAAGCPwvM\\u002fAAAAQDMz8z8AAACgcD30PwAAAMD1KPQ\\u002fAAAAQDMz8z8AAABAMzPzPwAAAAAAAPQ\\u002fAAAAAAAA9D8=\"},\"type\":\"scatter\",\"xaxis\":\"x\",\"yaxis\":\"y\"},{\"mode\":\"lines\",\"name\":\"BB_Lower\",\"x\":[\"2025-01-02T00:00:00.000000000\",\"2025-01-03T00:00:00.000000000\",\"2025-01-06T00:00:00.000000000\",\"2025-01-07T00:00:00.000000000\",\"2025-01-08T00:00:00.000000000\",\"2025-01-09T00:00:00.000000000\",\"2025-01-10T00:00:00.000000000\",\"2025-01-13T00:00:00.000000000\",\"2025-01-14T00:00:00.000000000\",\"2025-01-15T00:00:00.000000000\",\"2025-01-16T00:00:00.000000000\",\"2025-01-17T00:00:00.000000000\",\"2025-01-20T00:00:00.000000000\",\"2025-01-21T00:00:00.000000000\",\"2025-01-22T00:00:00.000000000\",\"2025-01-23T00:00:00.000000000\",\"2025-01-24T00:00:00.000000000\",\"2025-01-27T00:00:00.000000000\",\"2025-01-28T00:00:00.000000000\",\"2025-01-29T00:00:00.000000000\",\"2025-01-30T00:00:00.000000000\",\"2025-01-31T00:00:00.000000000\",\"2025-02-03T00:00:00.000000000\",\"2025-02-04T00:00:00.000000000\",\"2025-02-05T00:00:00.000000000\",\"2025-02-06T00:00:00.000000000\",\"2025-02-07T00:00:00.000000000\",\"2025-02-10T00:00:00.000000000\",\"2025-02-11T00:00:00.000000000\",\"2025-02-12T00:00:00.000000000\",\"2025-02-13T00:00:00.000000000\",\"2025-02-14T00:00:00.000000000\",\"2025-02-17T00:00:00.000000000\",\"2025-02-18T00:00:00.000000000\",\"2025-02-19T00:00:00.000000000\",\"2025-02-20T00:00:00.000000000\",\"2025-02-21T00:00:00.000000000\",\"2025-02-24T00:00:00.000000000\",\"2025-02-25T00:00:00.000000000\",\"2025-02-26T00:00:00.000000000\",\"2025-02-27T00:00:00.000000000\",\"2025-02-28T00:00:00.000000000\",\"2025-03-03T00:00:00.000000000\",\"2025-03-04T00:00:00.000000000\",\"2025-03-05T00:00:00.000000000\",\"2025-03-06T00:00:00.000000000\",\"2025-03-07T00:00:00.000000000\",\"2025-03-10T00:00:00.000000000\",\"2025-03-11T00:00:00.000000000\",\"2025-03-12T00:00:00.000000000\",\"2025-03-13T00:00:00.000000000\",\"2025-03-14T00:00:00.000000000\",\"2025-03-17T00:00:00.000000000\",\"2025-03-18T00:00:00.000000000\",\"2025-03-19T00:00:00.000000000\",\"2025-03-20T00:00:00.000000000\",\"2025-03-21T00:00:00.000000000\",\"2025-03-24T00:00:00.000000000\",\"2025-03-25T00:00:00.000000000\",\"2025-03-26T00:00:00.000000000\",\"2025-03-27T00:00:00.000000000\",\"2025-03-28T00:00:00.000000000\",\"2025-03-31T00:00:00.000000000\",\"2025-04-01T00:00:00.000000000\",\"2025-04-02T00:00:00.000000000\",\"2025-04-03T00:00:00.000000000\",\"2025-04-04T00:00:00.000000000\",\"2025-04-07T00:00:00.000000000\",\"2025-04-08T00:00:00.000000000\",\"2025-04-09T00:00:00.000000000\",\"2025-04-10T00:00:00.000000000\",\"2025-04-11T00:00:00.000000000\",\"2025-04-14T00:00:00.000000000\",\"2025-04-15T00:00:00.000000000\",\"2025-04-16T00:00:00.000000000\",\"2025-04-17T00:00:00.000000000\"],\"y\":{\"dtype\":\"f8\",\"bdata\":\"AAAAAAAA+H8AAAAAAAD4fwAAAAAAAPh\\u002fAAAAAAAA+H8AAAAAAAD4fwAAAAAAAPh\\u002fAAAAAAAA+H8AAAAAAAD4fwAAAAAAAPh\\u002fAAAAAAAA+H8AAAAAAAD4fwAAAAAAAPh\\u002fAAAAAAAA+H8AAAAAAAD4fwAAAAAAAPh\\u002fAAAAAAAA+H8AAAAAAAD4fwAAAAAAAPh\\u002fAAAAAAAA+H\\u002fmCvkcujfyP+e8LbmwM\\u002fI\\u002fnA7lkNEv8j+cDuWQ0S\\u002fyP02\\u002fLClZQ\\u002fI\\u002flsrMc55p8j+aksQvrYXyPw7LiSyAcPI\\u002fRrvTSix38j+inqFSFX\\u002fyP67NTobwovI\\u002fOP1zK1GC8j\\u002faT2WS7HbyP0OtT3bNXfI\\u002ftAO+sEtk8j\\u002f0wMpfcHzyP0y+lxqDkPI\\u002f2l9rgFq18j\\u002fOe5KQ86nyP4Bw8DmFwfI\\u002fCWy0\\u002fuu78j+Lc6a8CrPyPwUXyQ54vfI\\u002fNLB+QUrV8j80sH5BStXyP5LL2Dsg4\\u002fI\\u002f2dN9cqzk8j9hGpaVTQfzP66QcAPpMvM\\u002fP5auwRiy8j9h3v1Q\\u002f67yPwYBjT2\\u002f\\u002fPI\\u002fw201ljMq8z9uhdvVFWDzPwRUSJuja\\u002fM\\u002fvocSbvx18z9JiRy7vJLzP0SDFe2qtvM\\u002fRIMV7aq28z8oImabY73zP8erIgt50PM\\u002f4ryAz+nZ8z+s4TTOgOnzP4hGlJ518\\u002fM\\u002f+Lq4rzAM9D9SBP\\u002fmD\\u002fXzP4LlL7r\\u002fvPM\\u002feGBzVcpD8z8of3V97tLyP2tzKIMx2PI\\u002fN+isGpea8j80u9mk03ryPxw\\u002fp62ZW\\u002fI\\u002fppTlzvw48j+joMiWnRjyPxnXIQN2IPI\\u002fxL8HqMgd8j8=\"},\"type\":\"scatter\",\"xaxis\":\"x\",\"yaxis\":\"y\"},{\"mode\":\"lines\",\"name\":\"BB_Upper\",\"x\":[\"2025-01-02T00:00:00.000000000\",\"2025-01-03T00:00:00.000000000\",\"2025-01-06T00:00:00.000000000\",\"2025-01-07T00:00:00.000000000\",\"2025-01-08T00:00:00.000000000\",\"2025-01-09T00:00:00.000000000\",\"2025-01-10T00:00:00.000000000\",\"2025-01-13T00:00:00.000000000\",\"2025-01-14T00:00:00.000000000\",\"2025-01-15T00:00:00.000000000\",\"2025-01-16T00:00:00.000000000\",\"2025-01-17T00:00:00.000000000\",\"2025-01-20T00:00:00.000000000\",\"2025-01-21T00:00:00.000000000\",\"2025-01-22T00:00:00.000000000\",\"2025-01-23T00:00:00.000000000\",\"2025-01-24T00:00:00.000000000\",\"2025-01-27T00:00:00.000000000\",\"2025-01-28T00:00:00.000000000\",\"2025-01-29T00:00:00.000000000\",\"2025-01-30T00:00:00.000000000\",\"2025-01-31T00:00:00.000000000\",\"2025-02-03T00:00:00.000000000\",\"2025-02-04T00:00:00.000000000\",\"2025-02-05T00:00:00.000000000\",\"2025-02-06T00:00:00.000000000\",\"2025-02-07T00:00:00.000000000\",\"2025-02-10T00:00:00.000000000\",\"2025-02-11T00:00:00.000000000\",\"2025-02-12T00:00:00.000000000\",\"2025-02-13T00:00:00.000000000\",\"2025-02-14T00:00:00.000000000\",\"2025-02-17T00:00:00.000000000\",\"2025-02-18T00:00:00.000000000\",\"2025-02-19T00:00:00.000000000\",\"2025-02-20T00:00:00.000000000\",\"2025-02-21T00:00:00.000000000\",\"2025-02-24T00:00:00.000000000\",\"2025-02-25T00:00:00.000000000\",\"2025-02-26T00:00:00.000000000\",\"2025-02-27T00:00:00.000000000\",\"2025-02-28T00:00:00.000000000\",\"2025-03-03T00:00:00.000000000\",\"2025-03-04T00:00:00.000000000\",\"2025-03-05T00:00:00.000000000\",\"2025-03-06T00:00:00.000000000\",\"2025-03-07T00:00:00.000000000\",\"2025-03-10T00:00:00.000000000\",\"2025-03-11T00:00:00.000000000\",\"2025-03-12T00:00:00.000000000\",\"2025-03-13T00:00:00.000000000\",\"2025-03-14T00:00:00.000000000\",\"2025-03-17T00:00:00.000000000\",\"2025-03-18T00:00:00.000000000\",\"2025-03-19T00:00:00.000000000\",\"2025-03-20T00:00:00.000000000\",\"2025-03-21T00:00:00.000000000\",\"2025-03-24T00:00:00.000000000\",\"2025-03-25T00:00:00.000000000\",\"2025-03-26T00:00:00.000000000\",\"2025-03-27T00:00:00.000000000\",\"2025-03-28T00:00:00.000000000\",\"2025-03-31T00:00:00.000000000\",\"2025-04-01T00:00:00.000000000\",\"2025-04-02T00:00:00.000000000\",\"2025-04-03T00:00:00.000000000\",\"2025-04-04T00:00:00.000000000\",\"2025-04-07T00:00:00.000000000\",\"2025-04-08T00:00:00.000000000\",\"2025-04-09T00:00:00.000000000\",\"2025-04-10T00:00:00.000000000\",\"2025-04-11T00:00:00.000000000\",\"2025-04-14T00:00:00.000000000\",\"2025-04-15T00:00:00.000000000\",\"2025-04-16T00:00:00.000000000\",\"2025-04-17T00:00:00.000000000\"],\"y\":{\"dtype\":\"f8\",\"bdata\":\"AAAAAAAA+H8AAAAAAAD4fwAAAAAAAPh\\u002fAAAAAAAA+H8AAAAAAAD4fwAAAAAAAPh\\u002fAAAAAAAA+H8AAAAAAAD4fwAAAAAAAPh\\u002fAAAAAAAA+H8AAAAAAAD4fwAAAAAAAPh\\u002fAAAAAAAA+H8AAAAAAAD4fwAAAAAAAPh\\u002fAAAAAAAA+H8AAAAAAAD4fwAAAAAAAPh\\u002fAAAAAAAA+H\\u002fmwdOv5w33PxlD0jbMC\\u002fc\\u002fML7ny5IL9z8wvufLkgv3P+dzBsp5Cvc\\u002fBM\\u002fM9cf89j8yOgitTPn2P\\u002fI0dmMX\\u002fvY\\u002f7ndf2IP79j\\u002fEx8Rjs\\u002ff2P1IysVlf6vY\\u002fLmnyinf09j8msJrNzdL2P4kffSb3wvY\\u002fTPxBnxas9j9AcmgzUnn2P7RBaCWHRvY\\u002f8mxh\\u002fLn49T9mt6ASUgz2P+b1dRxe5PU\\u002fXfqxF5cE9j\\u002fb8r+JVTL2Py8catSsSPY\\u002fMrbnZNBZ9j8ytudk0Fn2PwjOwG1QWvY\\u002fW1+1QHB19j\\u002fTGJ0tJ4z2P1Jvj+xohfY\\u002fwWlR7gOo9z9r7s57dw\\u002f4P\\u002fr+cqJlCfg\\u002fccX9fCQP+D8sFL6jqD\\u002f4P8h4hBFOZ\\u002fg\\u002f3BGHS\\u002feH+D9REH0uFJD4P1YWhCwDkfg\\u002fVhaELAOR+D\\u002fY3Zmke5L4PzlU3YQenvg\\u002fUnaywwOj+D+6hDHIwqH4P0SGOB7\\u002fn\\u002fg\\u002fbqutxo2T+D8UYmcfcaD4P34a0GWwtfg\\u002fiJ+MSlDr+D\\u002fYgIoS1CL5P8m\\u002fClAcivg\\u002fL365u+FO+D8yq4yRij\\u002f4P7CNJZ+dLfg\\u002fJjjnXYrd9z\\u002fDxZ0vg5f3P4HCd4bLP\\u002fc\\u002foqZePggF9z8=\"},\"type\":\"scatter\",\"xaxis\":\"x\",\"yaxis\":\"y\"},{\"mode\":\"lines\",\"name\":\"MMA20\",\"x\":[\"2025-01-02T00:00:00.000000000\",\"2025-01-03T00:00:00.000000000\",\"2025-01-06T00:00:00.000000000\",\"2025-01-07T00:00:00.000000000\",\"2025-01-08T00:00:00.000000000\",\"2025-01-09T00:00:00.000000000\",\"2025-01-10T00:00:00.000000000\",\"2025-01-13T00:00:00.000000000\",\"2025-01-14T00:00:00.000000000\",\"2025-01-15T00:00:00.000000000\",\"2025-01-16T00:00:00.000000000\",\"2025-01-17T00:00:00.000000000\",\"2025-01-20T00:00:00.000000000\",\"2025-01-21T00:00:00.000000000\",\"2025-01-22T00:00:00.000000000\",\"2025-01-23T00:00:00.000000000\",\"2025-01-24T00:00:00.000000000\",\"2025-01-27T00:00:00.000000000\",\"2025-01-28T00:00:00.000000000\",\"2025-01-29T00:00:00.000000000\",\"2025-01-30T00:00:00.000000000\",\"2025-01-31T00:00:00.000000000\",\"2025-02-03T00:00:00.000000000\",\"2025-02-04T00:00:00.000000000\",\"2025-02-05T00:00:00.000000000\",\"2025-02-06T00:00:00.000000000\",\"2025-02-07T00:00:00.000000000\",\"2025-02-10T00:00:00.000000000\",\"2025-02-11T00:00:00.000000000\",\"2025-02-12T00:00:00.000000000\",\"2025-02-13T00:00:00.000000000\",\"2025-02-14T00:00:00.000000000\",\"2025-02-17T00:00:00.000000000\",\"2025-02-18T00:00:00.000000000\",\"2025-02-19T00:00:00.000000000\",\"2025-02-20T00:00:00.000000000\",\"2025-02-21T00:00:00.000000000\",\"2025-02-24T00:00:00.000000000\",\"2025-02-25T00:00:00.000000000\",\"2025-02-26T00:00:00.000000000\",\"2025-02-27T00:00:00.000000000\",\"2025-02-28T00:00:00.000000000\",\"2025-03-03T00:00:00.000000000\",\"2025-03-04T00:00:00.000000000\",\"2025-03-05T00:00:00.000000000\",\"2025-03-06T00:00:00.000000000\",\"2025-03-07T00:00:00.000000000\",\"2025-03-10T00:00:00.000000000\",\"2025-03-11T00:00:00.000000000\",\"2025-03-12T00:00:00.000000000\",\"2025-03-13T00:00:00.000000000\",\"2025-03-14T00:00:00.000000000\",\"2025-03-17T00:00:00.000000000\",\"2025-03-18T00:00:00.000000000\",\"2025-03-19T00:00:00.000000000\",\"2025-03-20T00:00:00.000000000\",\"2025-03-21T00:00:00.000000000\",\"2025-03-24T00:00:00.000000000\",\"2025-03-25T00:00:00.000000000\",\"2025-03-26T00:00:00.000000000\",\"2025-03-27T00:00:00.000000000\",\"2025-03-28T00:00:00.000000000\",\"2025-03-31T00:00:00.000000000\",\"2025-04-01T00:00:00.000000000\",\"2025-04-02T00:00:00.000000000\",\"2025-04-03T00:00:00.000000000\",\"2025-04-04T00:00:00.000000000\",\"2025-04-07T00:00:00.000000000\",\"2025-04-08T00:00:00.000000000\",\"2025-04-09T00:00:00.000000000\",\"2025-04-10T00:00:00.000000000\",\"2025-04-11T00:00:00.000000000\",\"2025-04-14T00:00:00.000000000\",\"2025-04-15T00:00:00.000000000\",\"2025-04-16T00:00:00.000000000\",\"2025-04-17T00:00:00.000000000\"],\"y\":{\"dtype\":\"f8\",\"bdata\":\"AAAAAAAA+H8AAAAAAAD4fwAAAAAAAPh\\u002fAAAAAAAA+H8AAAAAAAD4fwAAAAAAAPh\\u002fAAAAAAAA+H8AAAAAAAD4fwAAAAAAAPh\\u002fAAAAAAAA+H8AAAAAAAD4fwAAAAAAAPh\\u002fAAAAAAAA+H8AAAAAAAD4fwAAAAAAAPh\\u002fAAAAAAAA+H8AAAAAAAD4fwAAAAAAAPh\\u002fAAAAAAAA+H9mZmbm0KL0PwAAAHi+n\\u002fQ\\u002fZmZmLrKd9D9mZmYusp30P5qZmXnppvQ\\u002fzczMNDOz9D9mZmbufL\\u002f0PwAAAMhLt\\u002fQ\\u002fmpmZEVi59D8zMzNbZLv0PwAAAPCnxvQ\\u002fMzMzW2S79D8AAAAw3aT0P2ZmZk5ikPQ\\u002fAAAAKDGI9D+amZlJ4Xr0PwAAACCFa\\u002fQ\\u002fZmZmPgpX9D+amZnRIlv0PzMzM6vxUvQ\\u002fMzMzi0Fg9D8zMzMjsHL0P5qZmXESg\\u002fQ\\u002fMzMzU42X9D8zMzNTjZf0P83MzFS4nvQ\\u002fmpmZWQ6t9D+amZlhusn0PwAAAPgo3PQ\\u002fAAAAWA4t9T9mZmZmO1\\u002f1PwAAAHASg\\u002fU\\u002fmpmZCayc9T\\u002fNzMw838\\u002f1P2ZmZtZ46fU\\u002fzczM3Pn+9T\\u002fNzMx0aBH2P83MzAzXI\\u002fY\\u002fzczMDNcj9j8AAACg7yf2PwAAAMhLN\\u002fY\\u002fmpmZyXY+9j8zMzPLoUX2P2ZmZl66SfY\\u002fMzMzO99P9j8zMzODwEr2PwAAABBYOfY\\u002fAAAAUI0X9j8AAABI4fr1P5qZmekmsfU\\u002fMzMza7x09T8zMzMbL131P2ZmZqabRPU\\u002fZmZmlkML9T8zMzNjENj0P83MzMQgsPQ\\u002fMzMzc2iR9D8=\"},\"type\":\"scatter\",\"xaxis\":\"x\",\"yaxis\":\"y\"},{\"mode\":\"lines\",\"name\":\"Volume\",\"x\":[\"2025-01-02T00:00:00.000000000\",\"2025-01-03T00:00:00.000000000\",\"2025-01-06T00:00:00.000000000\",\"2025-01-07T00:00:00.000000000\",\"2025-01-08T00:00:00.000000000\",\"2025-01-09T00:00:00.000000000\",\"2025-01-10T00:00:00.000000000\",\"2025-01-13T00:00:00.000000000\",\"2025-01-14T00:00:00.000000000\",\"2025-01-15T00:00:00.000000000\",\"2025-01-16T00:00:00.000000000\",\"2025-01-17T00:00:00.000000000\",\"2025-01-20T00:00:00.000000000\",\"2025-01-21T00:00:00.000000000\",\"2025-01-22T00:00:00.000000000\",\"2025-01-23T00:00:00.000000000\",\"2025-01-24T00:00:00.000000000\",\"2025-01-27T00:00:00.000000000\",\"2025-01-28T00:00:00.000000000\",\"2025-01-29T00:00:00.000000000\",\"2025-01-30T00:00:00.000000000\",\"2025-01-31T00:00:00.000000000\",\"2025-02-03T00:00:00.000000000\",\"2025-02-04T00:00:00.000000000\",\"2025-02-05T00:00:00.000000000\",\"2025-02-06T00:00:00.000000000\",\"2025-02-07T00:00:00.000000000\",\"2025-02-10T00:00:00.000000000\",\"2025-02-11T00:00:00.000000000\",\"2025-02-12T00:00:00.000000000\",\"2025-02-13T00:00:00.000000000\",\"2025-02-14T00:00:00.000000000\",\"2025-02-17T00:00:00.000000000\",\"2025-02-18T00:00:00.000000000\",\"2025-02-19T00:00:00.000000000\",\"2025-02-20T00:00:00.000000000\",\"2025-02-21T00:00:00.000000000\",\"2025-02-24T00:00:00.000000000\",\"2025-02-25T00:00:00.000000000\",\"2025-02-26T00:00:00.000000000\",\"2025-02-27T00:00:00.000000000\",\"2025-02-28T00:00:00.000000000\",\"2025-03-03T00:00:00.000000000\",\"2025-03-04T00:00:00.000000000\",\"2025-03-05T00:00:00.000000000\",\"2025-03-06T00:00:00.000000000\",\"2025-03-07T00:00:00.000000000\",\"2025-03-10T00:00:00.000000000\",\"2025-03-11T00:00:00.000000000\",\"2025-03-12T00:00:00.000000000\",\"2025-03-13T00:00:00.000000000\",\"2025-03-14T00:00:00.000000000\",\"2025-03-17T00:00:00.000000000\",\"2025-03-18T00:00:00.000000000\",\"2025-03-19T00:00:00.000000000\",\"2025-03-20T00:00:00.000000000\",\"2025-03-21T00:00:00.000000000\",\"2025-03-24T00:00:00.000000000\",\"2025-03-25T00:00:00.000000000\",\"2025-03-26T00:00:00.000000000\",\"2025-03-27T00:00:00.000000000\",\"2025-03-28T00:00:00.000000000\",\"2025-03-31T00:00:00.000000000\",\"2025-04-01T00:00:00.000000000\",\"2025-04-02T00:00:00.000000000\",\"2025-04-03T00:00:00.000000000\",\"2025-04-04T00:00:00.000000000\",\"2025-04-07T00:00:00.000000000\",\"2025-04-08T00:00:00.000000000\",\"2025-04-09T00:00:00.000000000\",\"2025-04-10T00:00:00.000000000\",\"2025-04-11T00:00:00.000000000\",\"2025-04-14T00:00:00.000000000\",\"2025-04-15T00:00:00.000000000\",\"2025-04-16T00:00:00.000000000\",\"2025-04-17T00:00:00.000000000\"],\"y\":{\"dtype\":\"i4\",\"bdata\":\"EQABAAbjAACqVwAAARoAAKxHAABeSQAAbygAAMItAABcIQAAzgsAAJ48AABx7AEAX30AANySAAB90wEAwYwAAFtlAADGPQAA1BwAAH5GAQAxXwAA\\u002fhsAAMYFAAB+KQAAsQ0AAEMiAADUQQAAZgUAADB1AAAUGQAAMTwAANUpAADaSAAAXYcBAPIMAQBhQAAA310AAEuyAABLfAAAPlcAAL43AAAbLwAAPnkAABAYAACVQAAAPZAAAER2AAB8eAAAVzMIAK5VAQDjzAAAVMgAAPWzAQB+BAEA+moBAF9pAAC0rAAAiH4AAFwvAABaQgAAkFcAABMqAAAtLAAAy2UAAOXJAAAgAwAAjtEAALeDAADcNQAABkQAAM4NAABZAgAAHzYAAB94AAD26QAAmycAAA==\"},\"type\":\"scatter\",\"xaxis\":\"x2\",\"yaxis\":\"y2\"},{\"mode\":\"lines\",\"name\":\"MMA20\",\"x\":[\"2025-01-02T00:00:00.000000000\",\"2025-01-03T00:00:00.000000000\",\"2025-01-06T00:00:00.000000000\",\"2025-01-07T00:00:00.000000000\",\"2025-01-08T00:00:00.000000000\",\"2025-01-09T00:00:00.000000000\",\"2025-01-10T00:00:00.000000000\",\"2025-01-13T00:00:00.000000000\",\"2025-01-14T00:00:00.000000000\",\"2025-01-15T00:00:00.000000000\",\"2025-01-16T00:00:00.000000000\",\"2025-01-17T00:00:00.000000000\",\"2025-01-20T00:00:00.000000000\",\"2025-01-21T00:00:00.000000000\",\"2025-01-22T00:00:00.000000000\",\"2025-01-23T00:00:00.000000000\",\"2025-01-24T00:00:00.000000000\",\"2025-01-27T00:00:00.000000000\",\"2025-01-28T00:00:00.000000000\",\"2025-01-29T00:00:00.000000000\",\"2025-01-30T00:00:00.000000000\",\"2025-01-31T00:00:00.000000000\",\"2025-02-03T00:00:00.000000000\",\"2025-02-04T00:00:00.000000000\",\"2025-02-05T00:00:00.000000000\",\"2025-02-06T00:00:00.000000000\",\"2025-02-07T00:00:00.000000000\",\"2025-02-10T00:00:00.000000000\",\"2025-02-11T00:00:00.000000000\",\"2025-02-12T00:00:00.000000000\",\"2025-02-13T00:00:00.000000000\",\"2025-02-14T00:00:00.000000000\",\"2025-02-17T00:00:00.000000000\",\"2025-02-18T00:00:00.000000000\",\"2025-02-19T00:00:00.000000000\",\"2025-02-20T00:00:00.000000000\",\"2025-02-21T00:00:00.000000000\",\"2025-02-24T00:00:00.000000000\",\"2025-02-25T00:00:00.000000000\",\"2025-02-26T00:00:00.000000000\",\"2025-02-27T00:00:00.000000000\",\"2025-02-28T00:00:00.000000000\",\"2025-03-03T00:00:00.000000000\",\"2025-03-04T00:00:00.000000000\",\"2025-03-05T00:00:00.000000000\",\"2025-03-06T00:00:00.000000000\",\"2025-03-07T00:00:00.000000000\",\"2025-03-10T00:00:00.000000000\",\"2025-03-11T00:00:00.000000000\",\"2025-03-12T00:00:00.000000000\",\"2025-03-13T00:00:00.000000000\",\"2025-03-14T00:00:00.000000000\",\"2025-03-17T00:00:00.000000000\",\"2025-03-18T00:00:00.000000000\",\"2025-03-19T00:00:00.000000000\",\"2025-03-20T00:00:00.000000000\",\"2025-03-21T00:00:00.000000000\",\"2025-03-24T00:00:00.000000000\",\"2025-03-25T00:00:00.000000000\",\"2025-03-26T00:00:00.000000000\",\"2025-03-27T00:00:00.000000000\",\"2025-03-28T00:00:00.000000000\",\"2025-03-31T00:00:00.000000000\",\"2025-04-01T00:00:00.000000000\",\"2025-04-02T00:00:00.000000000\",\"2025-04-03T00:00:00.000000000\",\"2025-04-04T00:00:00.000000000\",\"2025-04-07T00:00:00.000000000\",\"2025-04-08T00:00:00.000000000\",\"2025-04-09T00:00:00.000000000\",\"2025-04-10T00:00:00.000000000\",\"2025-04-11T00:00:00.000000000\",\"2025-04-14T00:00:00.000000000\",\"2025-04-15T00:00:00.000000000\",\"2025-04-16T00:00:00.000000000\",\"2025-04-17T00:00:00.000000000\"],\"y\":{\"dtype\":\"f8\",\"bdata\":\"AAAAAAAA+H8AAAAAAAD4fwAAAAAAAPh\\u002fAAAAAAAA+H8AAAAAAAD4fwAAAAAAAPh\\u002fAAAAAAAA+H8AAAAAAAD4fwAAAAAAAPh\\u002fAAAAAAAA+H8AAAAAAAD4fwAAAAAAAPh\\u002fAAAAAAAA+H8AAAAAAAD4fwAAAAAAAPh\\u002fAAAAAAAA+H8AAAAAAAD4fwAAAAAAAPh\\u002fAAAAAAAA+H9mZmZmNqjhQAAAAADQpuBAmpmZmbnQ3kDNzMzMrMrdQM3MzMw8\\u002fN1AMzMzM7NC3UAAAAAAkMXcQDMzMzPTFt1AzczMzKyV3EDNzMzM7KHdQGZmZmZmzN1AmpmZmQnL3UBmZmZmFinYQGZmZmYGgddAAAAAAHCP2kCamZmZGRTYQDMzMzOzH9dAAAAAAMAH10DNzMzMnHzYQJqZmZkZrtlAAAAAAICw1kAzMzMzQzLWQM3MzMxsb9ZAzczMzOzg10BmZmZmJqnXQAAAAAAATNhAzczMzOyr2UCamZmZuVPaQAAAAAAAxNtAmpmZmXFF6kCamZmZAUDsQM3MzMyEJ+1AzczMzBwl7kBmZmZmCjXwQAAAAACwmO9AmpmZmZEX8EDNzMzMXDjwQJqZmZltd\\u002fBAzczMzARO8EDNzMzMeBDwQM3MzMyE\\u002f+9AMzMzMzcZ8EDNzMzMMBXwQDMzMzMTr+9AzczMzLgV8EBmZmZmkoPwQGZmZmauEvBAZmZmZrZb8EBmZmZmsmTwQAAAAACgAORAZmZmZsZK4kAzMzMzCxnhQM3MzMyMuN9AzczMzKzy2kDNzMzMfDHZQDMzMzOjlNdAAAAAADDC1kA=\"},\"type\":\"scatter\",\"xaxis\":\"x2\",\"yaxis\":\"y2\"},{\"mode\":\"lines\",\"name\":\"RSI\",\"x\":[\"2025-01-02T00:00:00.000000000\",\"2025-01-03T00:00:00.000000000\",\"2025-01-06T00:00:00.000000000\",\"2025-01-07T00:00:00.000000000\",\"2025-01-08T00:00:00.000000000\",\"2025-01-09T00:00:00.000000000\",\"2025-01-10T00:00:00.000000000\",\"2025-01-13T00:00:00.000000000\",\"2025-01-14T00:00:00.000000000\",\"2025-01-15T00:00:00.000000000\",\"2025-01-16T00:00:00.000000000\",\"2025-01-17T00:00:00.000000000\",\"2025-01-20T00:00:00.000000000\",\"2025-01-21T00:00:00.000000000\",\"2025-01-22T00:00:00.000000000\",\"2025-01-23T00:00:00.000000000\",\"2025-01-24T00:00:00.000000000\",\"2025-01-27T00:00:00.000000000\",\"2025-01-28T00:00:00.000000000\",\"2025-01-29T00:00:00.000000000\",\"2025-01-30T00:00:00.000000000\",\"2025-01-31T00:00:00.000000000\",\"2025-02-03T00:00:00.000000000\",\"2025-02-04T00:00:00.000000000\",\"2025-02-05T00:00:00.000000000\",\"2025-02-06T00:00:00.000000000\",\"2025-02-07T00:00:00.000000000\",\"2025-02-10T00:00:00.000000000\",\"2025-02-11T00:00:00.000000000\",\"2025-02-12T00:00:00.000000000\",\"2025-02-13T00:00:00.000000000\",\"2025-02-14T00:00:00.000000000\",\"2025-02-17T00:00:00.000000000\",\"2025-02-18T00:00:00.000000000\",\"2025-02-19T00:00:00.000000000\",\"2025-02-20T00:00:00.000000000\",\"2025-02-21T00:00:00.000000000\",\"2025-02-24T00:00:00.000000000\",\"2025-02-25T00:00:00.000000000\",\"2025-02-26T00:00:00.000000000\",\"2025-02-27T00:00:00.000000000\",\"2025-02-28T00:00:00.000000000\",\"2025-03-03T00:00:00.000000000\",\"2025-03-04T00:00:00.000000000\",\"2025-03-05T00:00:00.000000000\",\"2025-03-06T00:00:00.000000000\",\"2025-03-07T00:00:00.000000000\",\"2025-03-10T00:00:00.000000000\",\"2025-03-11T00:00:00.000000000\",\"2025-03-12T00:00:00.000000000\",\"2025-03-13T00:00:00.000000000\",\"2025-03-14T00:00:00.000000000\",\"2025-03-17T00:00:00.000000000\",\"2025-03-18T00:00:00.000000000\",\"2025-03-19T00:00:00.000000000\",\"2025-03-20T00:00:00.000000000\",\"2025-03-21T00:00:00.000000000\",\"2025-03-24T00:00:00.000000000\",\"2025-03-25T00:00:00.000000000\",\"2025-03-26T00:00:00.000000000\",\"2025-03-27T00:00:00.000000000\",\"2025-03-28T00:00:00.000000000\",\"2025-03-31T00:00:00.000000000\",\"2025-04-01T00:00:00.000000000\",\"2025-04-02T00:00:00.000000000\",\"2025-04-03T00:00:00.000000000\",\"2025-04-04T00:00:00.000000000\",\"2025-04-07T00:00:00.000000000\",\"2025-04-08T00:00:00.000000000\",\"2025-04-09T00:00:00.000000000\",\"2025-04-10T00:00:00.000000000\",\"2025-04-11T00:00:00.000000000\",\"2025-04-14T00:00:00.000000000\",\"2025-04-15T00:00:00.000000000\",\"2025-04-16T00:00:00.000000000\",\"2025-04-17T00:00:00.000000000\"],\"y\":{\"dtype\":\"f8\",\"bdata\":\"AAAAAAAA+H8AAAAAAAD4fwAAAAAAAPh\\u002fAAAAAAAA+H8AAAAAAAD4fwAAAAAAAPh\\u002fAAAAAAAA+H8AAAAAAAD4fwAAAAAAAPh\\u002fAAAAAAAA+H8AAAAAAAD4fwAAAAAAAPh\\u002fAAAAAAAA+H\\u002fp2A6uxxBQQH1mTZzlC1FAECLrik8YUEDCwC+lp3pQQKYeNcpBU01AFbwdovUDT0CYOmMibjBHQNNbDTwc60ZATY8tTR\\u002fSRUBn+GWQJMBEQPPH3WuSi0dAQnVrbF0fRkA\\u002fKh6\\u002fOnNIQKVAfv9FL0VApUB+\\u002f0UvRUC6gdr8AiVEQA4lJQpUoUdA\\u002fcC6G2M6RUBrmNWsKVlIQOz0CWVDAUdAhTEKAjD6S0AoCPWQZ6VMQK3wUuwq40pAgX6xLL1OSkDK+xiVAwVOQFD8YgKzO0xAU3CXeoikS0ArHpcMP5tMQALcfoaCvkpAAtx+hoK+SkDWgwhrUTxHQNIsIh\\u002fx2UdA0dbnkUa3S0CjXOUjGjZMQPRywY35MUlASH3cmgmDUUB4\\u002fNrjdHZOQHe5Pm5lO0pAd7k+bmU7SkAejmVR6SZNQMvuPiMCCkxA5V1mpyjZS0CR4ABcAyBKQHOctwdrvklAL4OQrHNYSUD\\u002fQMLjHO5IQP3sf3lWxkpALe7vLCjdSUAVvjOvP4RIQMWP3bcB2UdA0h2qC2e4RUA7x5Mc5\\u002f1DQEwpqC15jURAZgV8G74DQkCmuyrXojJBQCWl8cOk5ERAZhIQK6mcQ0Aw4Hwjge5GQMQUWqzauUZArkEUuJZdRECuQRS4ll1EQB\\u002f5EhWnEUdAH\\u002fkSFacRR0A=\"},\"type\":\"scatter\",\"xaxis\":\"x3\",\"yaxis\":\"y3\"}],                        {\"template\":{\"data\":{\"histogram2dcontour\":[{\"type\":\"histogram2dcontour\",\"colorbar\":{\"outlinewidth\":0,\"ticks\":\"\"},\"colorscale\":[[0.0,\"#0d0887\"],[0.1111111111111111,\"#46039f\"],[0.2222222222222222,\"#7201a8\"],[0.3333333333333333,\"#9c179e\"],[0.4444444444444444,\"#bd3786\"],[0.5555555555555556,\"#d8576b\"],[0.6666666666666666,\"#ed7953\"],[0.7777777777777778,\"#fb9f3a\"],[0.8888888888888888,\"#fdca26\"],[1.0,\"#f0f921\"]]}],\"choropleth\":[{\"type\":\"choropleth\",\"colorbar\":{\"outlinewidth\":0,\"ticks\":\"\"}}],\"histogram2d\":[{\"type\":\"histogram2d\",\"colorbar\":{\"outlinewidth\":0,\"ticks\":\"\"},\"colorscale\":[[0.0,\"#0d0887\"],[0.1111111111111111,\"#46039f\"],[0.2222222222222222,\"#7201a8\"],[0.3333333333333333,\"#9c179e\"],[0.4444444444444444,\"#bd3786\"],[0.5555555555555556,\"#d8576b\"],[0.6666666666666666,\"#ed7953\"],[0.7777777777777778,\"#fb9f3a\"],[0.8888888888888888,\"#fdca26\"],[1.0,\"#f0f921\"]]}],\"heatmap\":[{\"type\":\"heatmap\",\"colorbar\":{\"outlinewidth\":0,\"ticks\":\"\"},\"colorscale\":[[0.0,\"#0d0887\"],[0.1111111111111111,\"#46039f\"],[0.2222222222222222,\"#7201a8\"],[0.3333333333333333,\"#9c179e\"],[0.4444444444444444,\"#bd3786\"],[0.5555555555555556,\"#d8576b\"],[0.6666666666666666,\"#ed7953\"],[0.7777777777777778,\"#fb9f3a\"],[0.8888888888888888,\"#fdca26\"],[1.0,\"#f0f921\"]]}],\"contourcarpet\":[{\"type\":\"contourcarpet\",\"colorbar\":{\"outlinewidth\":0,\"ticks\":\"\"}}],\"contour\":[{\"type\":\"contour\",\"colorbar\":{\"outlinewidth\":0,\"ticks\":\"\"},\"colorscale\":[[0.0,\"#0d0887\"],[0.1111111111111111,\"#46039f\"],[0.2222222222222222,\"#7201a8\"],[0.3333333333333333,\"#9c179e\"],[0.4444444444444444,\"#bd3786\"],[0.5555555555555556,\"#d8576b\"],[0.6666666666666666,\"#ed7953\"],[0.7777777777777778,\"#fb9f3a\"],[0.8888888888888888,\"#fdca26\"],[1.0,\"#f0f921\"]]}],\"surface\":[{\"type\":\"surface\",\"colorbar\":{\"outlinewidth\":0,\"ticks\":\"\"},\"colorscale\":[[0.0,\"#0d0887\"],[0.1111111111111111,\"#46039f\"],[0.2222222222222222,\"#7201a8\"],[0.3333333333333333,\"#9c179e\"],[0.4444444444444444,\"#bd3786\"],[0.5555555555555556,\"#d8576b\"],[0.6666666666666666,\"#ed7953\"],[0.7777777777777778,\"#fb9f3a\"],[0.8888888888888888,\"#fdca26\"],[1.0,\"#f0f921\"]]}],\"mesh3d\":[{\"type\":\"mesh3d\",\"colorbar\":{\"outlinewidth\":0,\"ticks\":\"\"}}],\"scatter\":[{\"fillpattern\":{\"fillmode\":\"overlay\",\"size\":10,\"solidity\":0.2},\"type\":\"scatter\"}],\"parcoords\":[{\"type\":\"parcoords\",\"line\":{\"colorbar\":{\"outlinewidth\":0,\"ticks\":\"\"}}}],\"scatterpolargl\":[{\"type\":\"scatterpolargl\",\"marker\":{\"colorbar\":{\"outlinewidth\":0,\"ticks\":\"\"}}}],\"bar\":[{\"error_x\":{\"color\":\"#2a3f5f\"},\"error_y\":{\"color\":\"#2a3f5f\"},\"marker\":{\"line\":{\"color\":\"#E5ECF6\",\"width\":0.5},\"pattern\":{\"fillmode\":\"overlay\",\"size\":10,\"solidity\":0.2}},\"type\":\"bar\"}],\"scattergeo\":[{\"type\":\"scattergeo\",\"marker\":{\"colorbar\":{\"outlinewidth\":0,\"ticks\":\"\"}}}],\"scatterpolar\":[{\"type\":\"scatterpolar\",\"marker\":{\"colorbar\":{\"outlinewidth\":0,\"ticks\":\"\"}}}],\"histogram\":[{\"marker\":{\"pattern\":{\"fillmode\":\"overlay\",\"size\":10,\"solidity\":0.2}},\"type\":\"histogram\"}],\"scattergl\":[{\"type\":\"scattergl\",\"marker\":{\"colorbar\":{\"outlinewidth\":0,\"ticks\":\"\"}}}],\"scatter3d\":[{\"type\":\"scatter3d\",\"line\":{\"colorbar\":{\"outlinewidth\":0,\"ticks\":\"\"}},\"marker\":{\"colorbar\":{\"outlinewidth\":0,\"ticks\":\"\"}}}],\"scattermap\":[{\"type\":\"scattermap\",\"marker\":{\"colorbar\":{\"outlinewidth\":0,\"ticks\":\"\"}}}],\"scattermapbox\":[{\"type\":\"scattermapbox\",\"marker\":{\"colorbar\":{\"outlinewidth\":0,\"ticks\":\"\"}}}],\"scatterternary\":[{\"type\":\"scatterternary\",\"marker\":{\"colorbar\":{\"outlinewidth\":0,\"ticks\":\"\"}}}],\"scattercarpet\":[{\"type\":\"scattercarpet\",\"marker\":{\"colorbar\":{\"outlinewidth\":0,\"ticks\":\"\"}}}],\"carpet\":[{\"aaxis\":{\"endlinecolor\":\"#2a3f5f\",\"gridcolor\":\"white\",\"linecolor\":\"white\",\"minorgridcolor\":\"white\",\"startlinecolor\":\"#2a3f5f\"},\"baxis\":{\"endlinecolor\":\"#2a3f5f\",\"gridcolor\":\"white\",\"linecolor\":\"white\",\"minorgridcolor\":\"white\",\"startlinecolor\":\"#2a3f5f\"},\"type\":\"carpet\"}],\"table\":[{\"cells\":{\"fill\":{\"color\":\"#EBF0F8\"},\"line\":{\"color\":\"white\"}},\"header\":{\"fill\":{\"color\":\"#C8D4E3\"},\"line\":{\"color\":\"white\"}},\"type\":\"table\"}],\"barpolar\":[{\"marker\":{\"line\":{\"color\":\"#E5ECF6\",\"width\":0.5},\"pattern\":{\"fillmode\":\"overlay\",\"size\":10,\"solidity\":0.2}},\"type\":\"barpolar\"}],\"pie\":[{\"automargin\":true,\"type\":\"pie\"}]},\"layout\":{\"autotypenumbers\":\"strict\",\"colorway\":[\"#636efa\",\"#EF553B\",\"#00cc96\",\"#ab63fa\",\"#FFA15A\",\"#19d3f3\",\"#FF6692\",\"#B6E880\",\"#FF97FF\",\"#FECB52\"],\"font\":{\"color\":\"#2a3f5f\"},\"hovermode\":\"closest\",\"hoverlabel\":{\"align\":\"left\"},\"paper_bgcolor\":\"white\",\"plot_bgcolor\":\"#E5ECF6\",\"polar\":{\"bgcolor\":\"#E5ECF6\",\"angularaxis\":{\"gridcolor\":\"white\",\"linecolor\":\"white\",\"ticks\":\"\"},\"radialaxis\":{\"gridcolor\":\"white\",\"linecolor\":\"white\",\"ticks\":\"\"}},\"ternary\":{\"bgcolor\":\"#E5ECF6\",\"aaxis\":{\"gridcolor\":\"white\",\"linecolor\":\"white\",\"ticks\":\"\"},\"baxis\":{\"gridcolor\":\"white\",\"linecolor\":\"white\",\"ticks\":\"\"},\"caxis\":{\"gridcolor\":\"white\",\"linecolor\":\"white\",\"ticks\":\"\"}},\"coloraxis\":{\"colorbar\":{\"outlinewidth\":0,\"ticks\":\"\"}},\"colorscale\":{\"sequential\":[[0.0,\"#0d0887\"],[0.1111111111111111,\"#46039f\"],[0.2222222222222222,\"#7201a8\"],[0.3333333333333333,\"#9c179e\"],[0.4444444444444444,\"#bd3786\"],[0.5555555555555556,\"#d8576b\"],[0.6666666666666666,\"#ed7953\"],[0.7777777777777778,\"#fb9f3a\"],[0.8888888888888888,\"#fdca26\"],[1.0,\"#f0f921\"]],\"sequentialminus\":[[0.0,\"#0d0887\"],[0.1111111111111111,\"#46039f\"],[0.2222222222222222,\"#7201a8\"],[0.3333333333333333,\"#9c179e\"],[0.4444444444444444,\"#bd3786\"],[0.5555555555555556,\"#d8576b\"],[0.6666666666666666,\"#ed7953\"],[0.7777777777777778,\"#fb9f3a\"],[0.8888888888888888,\"#fdca26\"],[1.0,\"#f0f921\"]],\"diverging\":[[0,\"#8e0152\"],[0.1,\"#c51b7d\"],[0.2,\"#de77ae\"],[0.3,\"#f1b6da\"],[0.4,\"#fde0ef\"],[0.5,\"#f7f7f7\"],[0.6,\"#e6f5d0\"],[0.7,\"#b8e186\"],[0.8,\"#7fbc41\"],[0.9,\"#4d9221\"],[1,\"#276419\"]]},\"xaxis\":{\"gridcolor\":\"white\",\"linecolor\":\"white\",\"ticks\":\"\",\"title\":{\"standoff\":15},\"zerolinecolor\":\"white\",\"automargin\":true,\"zerolinewidth\":2},\"yaxis\":{\"gridcolor\":\"white\",\"linecolor\":\"white\",\"ticks\":\"\",\"title\":{\"standoff\":15},\"zerolinecolor\":\"white\",\"automargin\":true,\"zerolinewidth\":2},\"scene\":{\"xaxis\":{\"backgroundcolor\":\"#E5ECF6\",\"gridcolor\":\"white\",\"linecolor\":\"white\",\"showbackground\":true,\"ticks\":\"\",\"zerolinecolor\":\"white\",\"gridwidth\":2},\"yaxis\":{\"backgroundcolor\":\"#E5ECF6\",\"gridcolor\":\"white\",\"linecolor\":\"white\",\"showbackground\":true,\"ticks\":\"\",\"zerolinecolor\":\"white\",\"gridwidth\":2},\"zaxis\":{\"backgroundcolor\":\"#E5ECF6\",\"gridcolor\":\"white\",\"linecolor\":\"white\",\"showbackground\":true,\"ticks\":\"\",\"zerolinecolor\":\"white\",\"gridwidth\":2}},\"shapedefaults\":{\"line\":{\"color\":\"#2a3f5f\"}},\"annotationdefaults\":{\"arrowcolor\":\"#2a3f5f\",\"arrowhead\":0,\"arrowwidth\":1},\"geo\":{\"bgcolor\":\"white\",\"landcolor\":\"#E5ECF6\",\"subunitcolor\":\"white\",\"showland\":true,\"showlakes\":true,\"lakecolor\":\"white\"},\"title\":{\"x\":0.05},\"mapbox\":{\"style\":\"light\"}}},\"xaxis\":{\"anchor\":\"y\",\"domain\":[0.0,1.0],\"matches\":\"x3\",\"showticklabels\":false},\"yaxis\":{\"anchor\":\"x\",\"domain\":[0.505,1.0],\"title\":{\"text\":\"Price\"}},\"xaxis2\":{\"anchor\":\"y2\",\"domain\":[0.0,1.0],\"matches\":\"x3\",\"showticklabels\":false},\"yaxis2\":{\"anchor\":\"x2\",\"domain\":[0.2525,0.495],\"title\":{\"text\":\"Volume\"}},\"xaxis3\":{\"anchor\":\"y3\",\"domain\":[0.0,1.0]},\"yaxis3\":{\"anchor\":\"x3\",\"domain\":[0.0,0.2425],\"title\":{\"text\":\"RSI\"}},\"shapes\":[{\"line\":{\"color\":\"green\",\"dash\":\"dash\",\"width\":1},\"type\":\"line\",\"x0\":0,\"x1\":1,\"xref\":\"x3 domain\",\"y0\":30,\"y1\":30,\"yref\":\"y3\"},{\"line\":{\"color\":\"red\",\"dash\":\"dash\",\"width\":1},\"type\":\"line\",\"x0\":0,\"x1\":1,\"xref\":\"x3 domain\",\"y0\":70,\"y1\":70,\"yref\":\"y3\"}],\"height\":800,\"width\":1300,\"showlegend\":false,\"title\":{\"text\":\"HLZ.MC 2025\"}},                        {\"responsive\": true}                    ).then(function(){\n",
       "                            \n",
       "var gd = document.getElementById('7aaa1923-991d-4442-940f-2721b00eb0b1');\n",
       "var x = new MutationObserver(function (mutations, observer) {{\n",
       "        var display = window.getComputedStyle(gd).display;\n",
       "        if (!display || display === 'none') {{\n",
       "            console.log([gd, 'removed!']);\n",
       "            Plotly.purge(gd);\n",
       "            observer.disconnect();\n",
       "        }}\n",
       "}});\n",
       "\n",
       "// Listen for the removal of the full notebook cells\n",
       "var notebookContainer = gd.closest('#notebook-container');\n",
       "if (notebookContainer) {{\n",
       "    x.observe(notebookContainer, {childList: true});\n",
       "}}\n",
       "\n",
       "// Listen for the clearing of the current output cell\n",
       "var outputEl = gd.closest('.output');\n",
       "if (outputEl) {{\n",
       "    x.observe(outputEl, {childList: true});\n",
       "}}\n",
       "\n",
       "                        })                };            </script>        </div>"
      ]
     },
     "metadata": {},
     "output_type": "display_data"
    }
   ],
   "source": [
    "# Plot the adjusted close price\n",
    "fig = make_subplots(rows=4, cols=1,shared_xaxes=True,vertical_spacing=0.01,specs=[[{'rowspan':2,'colspan':1}],[None],[{'rowspan':1,'colspan':1}],[{'rowspan':1,'colspan':1}]])\n",
    "\n",
    "# Graph (1,1)\n",
    "fig.add_trace(go.Scatter(x=stock_ticker['Adj Close'].loc[year].index,y=stock_ticker['Adj Close'].loc[year],mode=\"lines\",name=f'{ticker}'),row=1,col=1)\n",
    "fig.add_trace(go.Scatter(x=stock_ticker['BB_Lower'].loc[year].index,y=stock_ticker['BB_Lower'].loc[year],mode=\"lines\",name='BB_Lower'),row=1,col=1)\n",
    "fig.add_trace(go.Scatter(x=stock_ticker['BB_Upper'].loc[year].index,y=stock_ticker['BB_Upper'].loc[year],mode=\"lines\",name='BB_Upper'),row=1,col=1)\n",
    "fig.add_trace(go.Scatter(x=stock_ticker['MMA20'].loc[year].index,y=stock_ticker['MMA20'].loc[year],mode=\"lines\",name='MMA20'),row=1,col=1)\n",
    "# Update xaxis properties\n",
    "fig.update_yaxes(title_text=\"Price\", row=1, col=1)\n",
    "\n",
    "# Graph (3,1)\n",
    "fig.add_trace(go.Scatter(x=stock_ticker['Volume'].loc[year].index,y=stock_ticker['Volume'].loc[year],mode=\"lines\",name='Volume'),row=3, col=1)\n",
    "fig.add_trace(go.Scatter(x=stock_ticker['Volume'].loc[year].index,y=stock_ticker['Volume'].loc[year].rolling(20).mean(),mode=\"lines\",name='MMA20'),row=3,col=1)\n",
    "fig.update_yaxes(title_text=\"Volume\", row=3, col=1)\n",
    "\n",
    "# Graph (4,1)\n",
    "fig.add_trace(go.Scatter(x=stock_ticker['RSI'].loc[year].index,y=stock_ticker['RSI'].loc[year],mode=\"lines\",name='RSI'),row=4, col=1)\n",
    "fig.add_hline(y=30, line_width=1, line_dash=\"dash\", line_color=\"green\",row=4,col=1)\n",
    "fig.add_hline(y=70, line_width=1, line_dash=\"dash\", line_color=\"red\",row=4,col=1)\n",
    "fig.update_yaxes(title_text=\"RSI\", row=4, col=1)\n",
    "\n",
    "fig.update_layout(height=800, width=1300,showlegend=False,title=f\"{ticker} {year}\")\n",
    "\n",
    "fig.show()"
   ]
  },
  {
   "cell_type": "code",
   "execution_count": 34,
   "metadata": {},
   "outputs": [
    {
     "data": {
      "application/vnd.jupyter.widget-view+json": {
       "model_id": "998a5460f4a94bb88bd2821723777156",
       "version_major": 2,
       "version_minor": 0
      },
      "text/plain": [
       "  0%|          | 0/12 [00:00<?, ?it/s]"
      ]
     },
     "metadata": {},
     "output_type": "display_data"
    },
    {
     "data": {
      "application/vnd.plotly.v1+json": {
       "config": {
        "plotlyServerURL": "https://plot.ly"
       },
       "data": [
        {
         "mode": "lines",
         "name": "AGIL",
         "type": "scatter",
         "x": [
          "2025-01-02T00:00:00.000000000",
          "2025-01-03T00:00:00.000000000",
          "2025-01-06T00:00:00.000000000",
          "2025-01-07T00:00:00.000000000",
          "2025-01-08T00:00:00.000000000",
          "2025-01-09T00:00:00.000000000",
          "2025-01-10T00:00:00.000000000",
          "2025-01-13T00:00:00.000000000",
          "2025-01-14T00:00:00.000000000",
          "2025-01-15T00:00:00.000000000",
          "2025-01-16T00:00:00.000000000",
          "2025-01-17T00:00:00.000000000",
          "2025-01-20T00:00:00.000000000",
          "2025-01-21T00:00:00.000000000",
          "2025-01-22T00:00:00.000000000",
          "2025-01-23T00:00:00.000000000",
          "2025-01-24T00:00:00.000000000",
          "2025-01-27T00:00:00.000000000",
          "2025-01-28T00:00:00.000000000",
          "2025-01-29T00:00:00.000000000",
          "2025-01-30T00:00:00.000000000",
          "2025-01-31T00:00:00.000000000",
          "2025-02-03T00:00:00.000000000",
          "2025-02-04T00:00:00.000000000",
          "2025-02-05T00:00:00.000000000",
          "2025-02-06T00:00:00.000000000",
          "2025-02-07T00:00:00.000000000",
          "2025-02-10T00:00:00.000000000",
          "2025-02-11T00:00:00.000000000",
          "2025-02-12T00:00:00.000000000",
          "2025-02-13T00:00:00.000000000",
          "2025-02-14T00:00:00.000000000",
          "2025-02-17T00:00:00.000000000",
          "2025-02-18T00:00:00.000000000",
          "2025-02-19T00:00:00.000000000",
          "2025-02-20T00:00:00.000000000",
          "2025-02-21T00:00:00.000000000",
          "2025-02-24T00:00:00.000000000",
          "2025-02-25T00:00:00.000000000",
          "2025-02-26T00:00:00.000000000",
          "2025-02-27T00:00:00.000000000",
          "2025-02-28T00:00:00.000000000",
          "2025-03-03T00:00:00.000000000",
          "2025-03-04T00:00:00.000000000",
          "2025-03-05T00:00:00.000000000",
          "2025-03-06T00:00:00.000000000",
          "2025-03-07T00:00:00.000000000",
          "2025-03-10T00:00:00.000000000",
          "2025-03-11T00:00:00.000000000",
          "2025-03-12T00:00:00.000000000",
          "2025-03-13T00:00:00.000000000",
          "2025-03-14T00:00:00.000000000",
          "2025-03-17T00:00:00.000000000",
          "2025-03-18T00:00:00.000000000",
          "2025-03-19T00:00:00.000000000",
          "2025-03-20T00:00:00.000000000",
          "2025-03-21T00:00:00.000000000",
          "2025-03-24T00:00:00.000000000",
          "2025-03-25T00:00:00.000000000",
          "2025-03-26T00:00:00.000000000",
          "2025-03-27T00:00:00.000000000",
          "2025-03-28T00:00:00.000000000",
          "2025-03-31T00:00:00.000000000",
          "2025-04-01T00:00:00.000000000",
          "2025-04-02T00:00:00.000000000",
          "2025-04-03T00:00:00.000000000",
          "2025-04-04T00:00:00.000000000",
          "2025-04-07T00:00:00.000000000",
          "2025-04-08T00:00:00.000000000",
          "2025-04-09T00:00:00.000000000",
          "2025-04-10T00:00:00.000000000",
          "2025-04-11T00:00:00.000000000",
          "2025-04-14T00:00:00.000000000",
          "2025-04-15T00:00:00.000000000",
          "2025-04-16T00:00:00.000000000",
          "2025-04-17T00:00:00.000000000"
         ],
         "xaxis": "x",
         "y": {
          "bdata": "AAAAAAAAAADkJW0LC4n2Pwy55z0Ciea/DLnnPQKJ5r/kJW0LC4n2Pwy55z0Cifa/DLnnPQKJ9r+AgTAVxuYAQHALBrkkWhlAgIEwFcbmAECouOc9AonmP4CBMBXG5gBAgIEwFcbmAECAgTAVxuYAQOQlbQsLifY/gIEwFcbmAEDUXSQ0RysMQKi45z0CieY/DLnnPQKJ5r9Pp2HNQisMwOrBKvbhtxPAycptrsHmAMDqwSr24bcTwOrBKvbhtxPA6sEq9uG3E8DJym2uweYAwOrBKvbhtxPA6sEq9uG3E8DqwSr24bcTwKb5f0hl/B7AOOJ2e5PxJ8D18/zrUk8iwIZv2w/jtyPA9fP861JPIsBZ2TPDs8IqwHvQ8ArUky3AyF1VnyNaKcA44nZ7k/EnwL0x7P2aAzPAOOJ2e5PxJ8A44nZ7k/EnwDjidnuT8SfApvl/SGX8HsCnZphXA4kmwOrBKvbhtxPA6sEq9uG3E8BPp2HNQisMwE+nYc1CKwzADLnnPQKJ5r9Pp2HNQisMwAy55z0Cifa/ycptrsHmAMCouOc9AonmPwy55z0CiQbADLnnPQKJ9r8Muec9Aonmv8nKba7B5gDA6sEq9uG3E8AMuec9AokGwOrBKvbhtxPA6sEq9uG3E8DqwSr24bcTwOrBKvbhtxPADLnnPQKJBsAMuec9AokGwAy55z0CiQbA6sEq9uG3E8BkeB7IwuYgwGR4HsjC5iDAZHgeyMLmIMBkeB7IwuYgwGR4HsjC5iDAOOJ2e5PxJ8CGb9sP47cjwIZv2w/jtyPAhm/bD+O3I8A=",
          "dtype": "f8"
         },
         "yaxis": "y"
        },
        {
         "mode": "lines",
         "name": "COM",
         "type": "scatter",
         "x": [
          "2025-01-02T00:00:00.000000000",
          "2025-01-03T00:00:00.000000000",
          "2025-01-06T00:00:00.000000000",
          "2025-01-07T00:00:00.000000000",
          "2025-01-08T00:00:00.000000000",
          "2025-01-09T00:00:00.000000000",
          "2025-01-10T00:00:00.000000000",
          "2025-01-13T00:00:00.000000000",
          "2025-01-14T00:00:00.000000000",
          "2025-01-15T00:00:00.000000000",
          "2025-01-16T00:00:00.000000000",
          "2025-01-17T00:00:00.000000000",
          "2025-01-20T00:00:00.000000000",
          "2025-01-21T00:00:00.000000000",
          "2025-01-22T00:00:00.000000000",
          "2025-01-23T00:00:00.000000000",
          "2025-01-24T00:00:00.000000000",
          "2025-01-27T00:00:00.000000000",
          "2025-01-28T00:00:00.000000000",
          "2025-01-29T00:00:00.000000000",
          "2025-01-30T00:00:00.000000000",
          "2025-01-31T00:00:00.000000000",
          "2025-02-03T00:00:00.000000000",
          "2025-02-04T00:00:00.000000000",
          "2025-02-05T00:00:00.000000000",
          "2025-02-06T00:00:00.000000000",
          "2025-02-07T00:00:00.000000000",
          "2025-02-10T00:00:00.000000000",
          "2025-02-11T00:00:00.000000000",
          "2025-02-12T00:00:00.000000000",
          "2025-02-13T00:00:00.000000000",
          "2025-02-14T00:00:00.000000000",
          "2025-02-17T00:00:00.000000000",
          "2025-02-18T00:00:00.000000000",
          "2025-02-19T00:00:00.000000000",
          "2025-02-20T00:00:00.000000000",
          "2025-02-21T00:00:00.000000000",
          "2025-02-24T00:00:00.000000000",
          "2025-02-25T00:00:00.000000000",
          "2025-02-26T00:00:00.000000000",
          "2025-02-27T00:00:00.000000000",
          "2025-02-28T00:00:00.000000000",
          "2025-03-03T00:00:00.000000000",
          "2025-03-04T00:00:00.000000000",
          "2025-03-05T00:00:00.000000000",
          "2025-03-06T00:00:00.000000000",
          "2025-03-07T00:00:00.000000000",
          "2025-03-10T00:00:00.000000000",
          "2025-03-11T00:00:00.000000000",
          "2025-03-12T00:00:00.000000000",
          "2025-03-13T00:00:00.000000000",
          "2025-03-14T00:00:00.000000000",
          "2025-03-17T00:00:00.000000000",
          "2025-03-18T00:00:00.000000000",
          "2025-03-19T00:00:00.000000000",
          "2025-03-20T00:00:00.000000000",
          "2025-03-21T00:00:00.000000000",
          "2025-03-24T00:00:00.000000000",
          "2025-03-25T00:00:00.000000000",
          "2025-03-26T00:00:00.000000000",
          "2025-03-27T00:00:00.000000000",
          "2025-03-28T00:00:00.000000000",
          "2025-03-31T00:00:00.000000000",
          "2025-04-01T00:00:00.000000000",
          "2025-04-02T00:00:00.000000000",
          "2025-04-03T00:00:00.000000000",
          "2025-04-04T00:00:00.000000000",
          "2025-04-07T00:00:00.000000000",
          "2025-04-08T00:00:00.000000000",
          "2025-04-09T00:00:00.000000000",
          "2025-04-10T00:00:00.000000000",
          "2025-04-11T00:00:00.000000000",
          "2025-04-14T00:00:00.000000000",
          "2025-04-15T00:00:00.000000000",
          "2025-04-16T00:00:00.000000000",
          "2025-04-17T00:00:00.000000000"
         ],
         "xaxis": "x",
         "y": {
          "bdata": "AAAAAAAAAAA3ISHndw0VQDchIed3DRVANyEh53cNFUA3ISHndw0VQDchIed3DRVAeLjcdWQP6D9mdGcLkAsCwGZ0ZwuQCwLAZnRnC5ALAsBmdGcLkAsCwHi43HVkD+g/ZnRnC5ALAsBmdGcLkAsCwISi3ihpDwjAVH/msY0LEsBUf+axjQsSwFR/5rGNCxLAVhaiQHoNFcCJ0FVGQhMOwFYWokB6DRXAVH/msY0LEsCJ0FVGQhMOwISi3ihpDwjAZOZTkz0TDkCI6tSoB8wyQEzQg8yCjCNATmc/W2+OJkDEBCaFjAsiQIjq1KgHzDJAD7Yy8P1MNEBOZz9bb44mQG4scgc1lC9AXf766VuQKUD7+2enlYowQE5nP1tvjiZA1jKdomUPKEBM0IPMgowjQNYynaJlDyhA1jKdomUPKEBOZz9bb44mQEzQg8yCjCNARrjcdWQPCEDTm+ETeQ0lQNOb4RN5DSVAZOZTkz0TDkAoimVYiwsCQGWtXc9mDxjAZa1dz2YPGMBWFqJAeg0VwEM5yD2WiiDAdtvU7D8THsB0RBleUxEbwFR/5rGNCxLAVH/msY0LEsDCjODbbQ/4v3i43HVkD+i/eLjcdWQP6D94uNx1ZA/oP3i43HVkD+i/ZOZTkz0TDkAAAAAAAAAAAFR/5rGNCxLAVH/msY0LEsCJ0FVGQhMOwGWtXc9mDyjAzZvhE3kNJcDk4f+HcI4mwGWtXc9mDxjAdEQZXlMRG8CJ0FVGQhMOwGWtXc9mDxjAVhaiQHoNFcB0RBleUxEbwHREGV5TERvAdEQZXlMRG8A=",
          "dtype": "f8"
         },
         "yaxis": "y"
        },
        {
         "mode": "lines",
         "name": "EIDF",
         "type": "scatter",
         "x": [
          "2025-01-02T00:00:00.000000000",
          "2025-01-03T00:00:00.000000000",
          "2025-01-06T00:00:00.000000000",
          "2025-01-07T00:00:00.000000000",
          "2025-01-08T00:00:00.000000000",
          "2025-01-09T00:00:00.000000000",
          "2025-01-10T00:00:00.000000000",
          "2025-01-13T00:00:00.000000000",
          "2025-01-14T00:00:00.000000000",
          "2025-01-15T00:00:00.000000000",
          "2025-01-16T00:00:00.000000000",
          "2025-01-17T00:00:00.000000000",
          "2025-01-20T00:00:00.000000000",
          "2025-01-21T00:00:00.000000000",
          "2025-01-22T00:00:00.000000000",
          "2025-01-23T00:00:00.000000000",
          "2025-01-24T00:00:00.000000000",
          "2025-01-27T00:00:00.000000000",
          "2025-01-28T00:00:00.000000000",
          "2025-01-29T00:00:00.000000000",
          "2025-01-30T00:00:00.000000000",
          "2025-01-31T00:00:00.000000000",
          "2025-02-03T00:00:00.000000000",
          "2025-02-04T00:00:00.000000000",
          "2025-02-05T00:00:00.000000000",
          "2025-02-06T00:00:00.000000000",
          "2025-02-07T00:00:00.000000000",
          "2025-02-10T00:00:00.000000000",
          "2025-02-11T00:00:00.000000000",
          "2025-02-12T00:00:00.000000000",
          "2025-02-13T00:00:00.000000000",
          "2025-02-14T00:00:00.000000000",
          "2025-02-17T00:00:00.000000000",
          "2025-02-18T00:00:00.000000000",
          "2025-02-19T00:00:00.000000000",
          "2025-02-20T00:00:00.000000000",
          "2025-02-21T00:00:00.000000000",
          "2025-02-24T00:00:00.000000000",
          "2025-02-25T00:00:00.000000000",
          "2025-02-26T00:00:00.000000000",
          "2025-02-27T00:00:00.000000000",
          "2025-02-28T00:00:00.000000000",
          "2025-03-03T00:00:00.000000000",
          "2025-03-04T00:00:00.000000000",
          "2025-03-05T00:00:00.000000000",
          "2025-03-06T00:00:00.000000000",
          "2025-03-07T00:00:00.000000000",
          "2025-03-10T00:00:00.000000000",
          "2025-03-11T00:00:00.000000000",
          "2025-03-12T00:00:00.000000000",
          "2025-03-13T00:00:00.000000000",
          "2025-03-14T00:00:00.000000000",
          "2025-03-17T00:00:00.000000000",
          "2025-03-18T00:00:00.000000000",
          "2025-03-19T00:00:00.000000000",
          "2025-03-20T00:00:00.000000000",
          "2025-03-21T00:00:00.000000000",
          "2025-03-24T00:00:00.000000000",
          "2025-03-25T00:00:00.000000000",
          "2025-03-26T00:00:00.000000000",
          "2025-03-27T00:00:00.000000000",
          "2025-03-28T00:00:00.000000000",
          "2025-03-31T00:00:00.000000000",
          "2025-04-01T00:00:00.000000000",
          "2025-04-02T00:00:00.000000000",
          "2025-04-03T00:00:00.000000000",
          "2025-04-04T00:00:00.000000000",
          "2025-04-07T00:00:00.000000000",
          "2025-04-08T00:00:00.000000000",
          "2025-04-09T00:00:00.000000000",
          "2025-04-10T00:00:00.000000000",
          "2025-04-11T00:00:00.000000000",
          "2025-04-14T00:00:00.000000000",
          "2025-04-15T00:00:00.000000000",
          "2025-04-16T00:00:00.000000000",
          "2025-04-17T00:00:00.000000000"
         ],
         "xaxis": "x",
         "y": {
          "bdata": "AAAAAAAAAAAi/gethbHxv/DF0RJkEQ3ArPUWoImxAcAMVMU33M37P6JUxTfczQtAPEGx4pQQJ0A7vBv9KLMtQO6M7NrQpS5A0l3TI0YrJUCog0wwY9okQMCpJIdPUyJA8JYXpqhgIUDYcD9PvOcjQNJd0yNGKyVAeC6kAe4dJkDqg6t6MqQiQESz2pyKsSFAuryQssUPEUCog0wwY9okQOKM7NrQpT5AiaIW3O9nRUB2wymoiJ5KQDoP8FUr/UxA1Zzcm//IUECSO3eipHFSQFrtfdS/1lJANh9KYY6gUEBfU75YON1QQDYfSmGOoFBADOvVaeRjUED+WrYDzltPQHMab9Zw8VBAtAU6QPCeTUDIcv25YcdNQOSmB2fXg0xAgh2B9oMKTEDVPn7CUtRJQLJ3Y/rlP0hAlPxtKuvTRkD6hfSaPk1HQImiFtzvZ0VAqKvi8fQyTEDoDEjrT4pKQLJ3Y/rlP0hAEfO3FLB1R0DVPn7CUtRJQKir4vH0MkxAgh2B9oMKTEDkpgdn14NMQMkrEpfcF0tAv1+RjusKT0D+WrYDzltPQG1tQy9zO1BA/lq2A85bT0DP77D0ARNQQGz3qJ+XkU5AqKvi8fQyTEAROqM3NSVKQDMb2Yuol0lAenBVT4ZUS0D8zN+9w/xJQPC5c5JNQEtAarC9fBLiS0DJKxKX3BdLQG4W/gCL6ElAEfO3FLB1R0BBlIU7l1pGQFSbCDGQfEhAizDtIfrGSkCyd2P65T9IQNU+fsJS1ElA3wr/ykPhRUD6hfSaPk1HQLuKzyVc/EZAD6zM8SrGREA=",
          "dtype": "f8"
         },
         "yaxis": "y"
        },
        {
         "mode": "lines",
         "name": "ELZ",
         "type": "scatter",
         "x": [
          "2025-01-02T00:00:00.000000000",
          "2025-01-03T00:00:00.000000000",
          "2025-01-06T00:00:00.000000000",
          "2025-01-07T00:00:00.000000000",
          "2025-01-08T00:00:00.000000000",
          "2025-01-09T00:00:00.000000000",
          "2025-01-10T00:00:00.000000000",
          "2025-01-13T00:00:00.000000000",
          "2025-01-14T00:00:00.000000000",
          "2025-01-15T00:00:00.000000000",
          "2025-01-16T00:00:00.000000000",
          "2025-01-17T00:00:00.000000000",
          "2025-01-20T00:00:00.000000000",
          "2025-01-21T00:00:00.000000000",
          "2025-01-22T00:00:00.000000000",
          "2025-01-23T00:00:00.000000000",
          "2025-01-24T00:00:00.000000000",
          "2025-01-27T00:00:00.000000000",
          "2025-01-28T00:00:00.000000000",
          "2025-01-29T00:00:00.000000000",
          "2025-01-30T00:00:00.000000000",
          "2025-01-31T00:00:00.000000000",
          "2025-02-03T00:00:00.000000000",
          "2025-02-04T00:00:00.000000000",
          "2025-02-05T00:00:00.000000000",
          "2025-02-06T00:00:00.000000000",
          "2025-02-07T00:00:00.000000000",
          "2025-02-10T00:00:00.000000000",
          "2025-02-11T00:00:00.000000000",
          "2025-02-12T00:00:00.000000000",
          "2025-02-13T00:00:00.000000000",
          "2025-02-14T00:00:00.000000000",
          "2025-02-17T00:00:00.000000000",
          "2025-02-18T00:00:00.000000000",
          "2025-02-19T00:00:00.000000000",
          "2025-02-20T00:00:00.000000000",
          "2025-02-21T00:00:00.000000000",
          "2025-02-24T00:00:00.000000000",
          "2025-02-25T00:00:00.000000000",
          "2025-02-26T00:00:00.000000000",
          "2025-02-27T00:00:00.000000000",
          "2025-02-28T00:00:00.000000000",
          "2025-03-03T00:00:00.000000000",
          "2025-03-04T00:00:00.000000000",
          "2025-03-05T00:00:00.000000000",
          "2025-03-06T00:00:00.000000000",
          "2025-03-07T00:00:00.000000000",
          "2025-03-10T00:00:00.000000000",
          "2025-03-11T00:00:00.000000000",
          "2025-03-12T00:00:00.000000000",
          "2025-03-13T00:00:00.000000000",
          "2025-03-14T00:00:00.000000000",
          "2025-03-17T00:00:00.000000000",
          "2025-03-18T00:00:00.000000000",
          "2025-03-19T00:00:00.000000000",
          "2025-03-20T00:00:00.000000000",
          "2025-03-21T00:00:00.000000000",
          "2025-03-24T00:00:00.000000000",
          "2025-03-25T00:00:00.000000000",
          "2025-03-26T00:00:00.000000000",
          "2025-03-27T00:00:00.000000000",
          "2025-03-28T00:00:00.000000000",
          "2025-03-31T00:00:00.000000000",
          "2025-04-01T00:00:00.000000000",
          "2025-04-02T00:00:00.000000000",
          "2025-04-03T00:00:00.000000000",
          "2025-04-04T00:00:00.000000000",
          "2025-04-07T00:00:00.000000000",
          "2025-04-08T00:00:00.000000000",
          "2025-04-09T00:00:00.000000000",
          "2025-04-10T00:00:00.000000000",
          "2025-04-11T00:00:00.000000000",
          "2025-04-14T00:00:00.000000000",
          "2025-04-15T00:00:00.000000000",
          "2025-04-16T00:00:00.000000000",
          "2025-04-17T00:00:00.000000000"
         ],
         "xaxis": "x",
         "y": {
          "bdata": "AAAAAAAAAADA7RaOOosRwCRCuJJ5DTXA1FT7LMprQsB/+5AIAMBCwBhmME55DUXAZGpysbPYQ8CNMr5+MZ1EwAfzDEKLKUXAjTK+fjGdRMB2zUGBzmI9QMcNenrFNEpA56Nh8ZxFRUAIBckfiyk1QIv0AsPWUBpAmWqfRXlNS0DWy/p3vOZDQBzuNyZVtUFAHO43JlW1QUADErzd//84QP0er5t01jxAWhCB0JjONkCXULnJj6BDQAgW0ax0VkBAztjtNTG9R0BBlHPZ/x9MQNjl4POlk0tAxw16esU0SkCXULnJj6BDQAsMP21eA0hAvACHvFBeRkD7e8hqfaRGQFNS9Nb20UVAvACHvFBeRkDWy/p3vOZDQOejYfGcRUVAKa8ZoqrqRkCtQga/WaxMQMcNenrFNEpAFdeyKMqLRUAprxmiqupGQFNS9Nb20UVAfvXOC0O5REAE/0uv6SxEQPRu1awIzkJArCggQ3D/RECsKCBDcP9EQHbNQYHOYj1ApHUqYsF9JUDisFSvERxJQOejYfGcRUVAdcRjks7iQEAfz3yONZQ/QMXzk/7bh0JAxfOT/tuHQkChGy2F+yhBQHbNQYHOYj1A3nL2dyhvQUDecvZ3KG9BQFQddI4NpTpAVB10jg2lOkB2zUGBzmI9QNVu4aizGDpA/R6vm3TWPEC4BgQt8lo3QHzATsNZjDlA5jLrEvcRLEBSv1XmJ68nQPCQlD4V0x1Awbvfy1lME0CQVjY6MZ00QAMSvN3//zhAkFY2OjGdNECZjxDeqiotQJVJQ3y8xjBAbqZoR3DfMUA=",
          "dtype": "f8"
         },
         "yaxis": "y"
        },
        {
         "mode": "lines",
         "name": "END",
         "type": "scatter",
         "x": [
          "2025-01-02T00:00:00.000000000",
          "2025-01-03T00:00:00.000000000",
          "2025-01-06T00:00:00.000000000",
          "2025-01-07T00:00:00.000000000",
          "2025-01-08T00:00:00.000000000",
          "2025-01-09T00:00:00.000000000",
          "2025-01-10T00:00:00.000000000",
          "2025-01-13T00:00:00.000000000",
          "2025-01-14T00:00:00.000000000",
          "2025-01-15T00:00:00.000000000",
          "2025-01-16T00:00:00.000000000",
          "2025-01-17T00:00:00.000000000",
          "2025-01-20T00:00:00.000000000",
          "2025-01-21T00:00:00.000000000",
          "2025-01-22T00:00:00.000000000",
          "2025-01-23T00:00:00.000000000",
          "2025-01-24T00:00:00.000000000",
          "2025-01-27T00:00:00.000000000",
          "2025-01-28T00:00:00.000000000",
          "2025-01-29T00:00:00.000000000",
          "2025-01-30T00:00:00.000000000",
          "2025-01-31T00:00:00.000000000",
          "2025-02-03T00:00:00.000000000",
          "2025-02-04T00:00:00.000000000",
          "2025-02-05T00:00:00.000000000",
          "2025-02-06T00:00:00.000000000",
          "2025-02-07T00:00:00.000000000",
          "2025-02-10T00:00:00.000000000",
          "2025-02-11T00:00:00.000000000",
          "2025-02-12T00:00:00.000000000",
          "2025-02-13T00:00:00.000000000",
          "2025-02-14T00:00:00.000000000",
          "2025-02-17T00:00:00.000000000",
          "2025-02-18T00:00:00.000000000",
          "2025-02-19T00:00:00.000000000",
          "2025-02-20T00:00:00.000000000",
          "2025-02-21T00:00:00.000000000",
          "2025-02-24T00:00:00.000000000",
          "2025-02-25T00:00:00.000000000",
          "2025-02-26T00:00:00.000000000",
          "2025-02-27T00:00:00.000000000",
          "2025-02-28T00:00:00.000000000",
          "2025-03-03T00:00:00.000000000",
          "2025-03-04T00:00:00.000000000",
          "2025-03-05T00:00:00.000000000",
          "2025-03-06T00:00:00.000000000",
          "2025-03-07T00:00:00.000000000",
          "2025-03-10T00:00:00.000000000",
          "2025-03-11T00:00:00.000000000",
          "2025-03-12T00:00:00.000000000",
          "2025-03-13T00:00:00.000000000",
          "2025-03-14T00:00:00.000000000",
          "2025-03-17T00:00:00.000000000",
          "2025-03-18T00:00:00.000000000",
          "2025-03-19T00:00:00.000000000",
          "2025-03-20T00:00:00.000000000",
          "2025-03-21T00:00:00.000000000",
          "2025-03-24T00:00:00.000000000",
          "2025-03-25T00:00:00.000000000",
          "2025-03-26T00:00:00.000000000",
          "2025-03-27T00:00:00.000000000",
          "2025-03-28T00:00:00.000000000",
          "2025-03-31T00:00:00.000000000",
          "2025-04-01T00:00:00.000000000",
          "2025-04-02T00:00:00.000000000",
          "2025-04-03T00:00:00.000000000",
          "2025-04-04T00:00:00.000000000",
          "2025-04-07T00:00:00.000000000",
          "2025-04-08T00:00:00.000000000",
          "2025-04-09T00:00:00.000000000",
          "2025-04-10T00:00:00.000000000",
          "2025-04-11T00:00:00.000000000",
          "2025-04-14T00:00:00.000000000",
          "2025-04-15T00:00:00.000000000",
          "2025-04-16T00:00:00.000000000",
          "2025-04-17T00:00:00.000000000"
         ],
         "xaxis": "x",
         "y": {
          "bdata": "AAAAAAAAAACu6646PlkCQK7rrjo+WQJAruuuOj5ZAkDYEkvEllvtv/BNOBOxBPY/2BJLxJZbDUDYEkvEllv9P9gSS8SWW/0/2BJLxJZb/T/wTTgTsQT2PyJOOBOxBAZAIk44E7EEBkDwTTgTsQT2P8frrjo+WRJA2BJLxJZb/T+NOmrOhIMQQH2wwesjsBlATN+nqT9ZIkAiTjgTsQQWQGSwwesjsAlAZLDB6yOwCUAAAAAAAAAAADYcHM+2BAbANhwcz7YEBsAiTjgTsQT2v9gSS8SWW+2/Ik44E7EE9r+u6646PlkCQNgSS8SWW/0/2BJLxJZbHUBM36epP1kiQKTg9+Dz+DBAg2Ur8j5ZMkBdBkQzmFstQAKkulolsClAg2Ur8j5ZMkBdBkQzmFstQCC+TagbRDNAXQZEM5hbLUDzDAk8Ym4xQNTyde5r2idAAqS6WiWwKUBlS5ikSMUoQGVLmKRIxShAXQZEM5hbLUBctOaFhYMwQDBV/8behStAMFX/xt6FK0ACpLpaJbApQPnDjzBQMR9AepDsFfkuJEB9sMHrI7AZQCqTjIRhbiFA3DfKXxxEI0DcN8pfHEQjQNw3yl8cRCNA3DfKXxxEI0DcN8pfHEQjQNw3yl8cRCNA3DfKXxxEI0B9sMHrI7AZQPnDjzBQMR9AmjpqzoSDIEBD/3x/atoXQNgSS8SWW+0/2BJLxJZb/b/s4C6AnFsNwJF+pacpsAnAkX6lpymwCcAiTjgTsQT2vyJOOBOxBPa/LDUq8bMEFsAsNSrxswQWwCJOOBOxBPa/Nhwcz7YEBsA=",
          "dtype": "f8"
         },
         "yaxis": "y"
        },
        {
         "mode": "lines",
         "name": "FACE",
         "type": "scatter",
         "x": [
          "2025-01-02T00:00:00.000000000",
          "2025-01-03T00:00:00.000000000",
          "2025-01-06T00:00:00.000000000",
          "2025-01-07T00:00:00.000000000",
          "2025-01-08T00:00:00.000000000",
          "2025-01-09T00:00:00.000000000",
          "2025-01-10T00:00:00.000000000",
          "2025-01-13T00:00:00.000000000",
          "2025-01-14T00:00:00.000000000",
          "2025-01-15T00:00:00.000000000",
          "2025-01-16T00:00:00.000000000",
          "2025-01-17T00:00:00.000000000",
          "2025-01-20T00:00:00.000000000",
          "2025-01-21T00:00:00.000000000",
          "2025-01-22T00:00:00.000000000",
          "2025-01-23T00:00:00.000000000",
          "2025-01-24T00:00:00.000000000",
          "2025-01-27T00:00:00.000000000",
          "2025-01-28T00:00:00.000000000",
          "2025-01-29T00:00:00.000000000",
          "2025-01-30T00:00:00.000000000",
          "2025-01-31T00:00:00.000000000",
          "2025-02-03T00:00:00.000000000",
          "2025-02-04T00:00:00.000000000",
          "2025-02-05T00:00:00.000000000",
          "2025-02-06T00:00:00.000000000",
          "2025-02-07T00:00:00.000000000",
          "2025-02-10T00:00:00.000000000",
          "2025-02-11T00:00:00.000000000",
          "2025-02-12T00:00:00.000000000",
          "2025-02-13T00:00:00.000000000",
          "2025-02-14T00:00:00.000000000",
          "2025-02-17T00:00:00.000000000",
          "2025-02-18T00:00:00.000000000",
          "2025-02-19T00:00:00.000000000",
          "2025-02-20T00:00:00.000000000",
          "2025-02-21T00:00:00.000000000",
          "2025-02-24T00:00:00.000000000",
          "2025-02-25T00:00:00.000000000",
          "2025-02-26T00:00:00.000000000",
          "2025-02-27T00:00:00.000000000",
          "2025-02-28T00:00:00.000000000",
          "2025-03-03T00:00:00.000000000",
          "2025-03-04T00:00:00.000000000",
          "2025-03-05T00:00:00.000000000",
          "2025-03-06T00:00:00.000000000",
          "2025-03-07T00:00:00.000000000",
          "2025-03-10T00:00:00.000000000",
          "2025-03-11T00:00:00.000000000",
          "2025-03-12T00:00:00.000000000",
          "2025-03-13T00:00:00.000000000",
          "2025-03-14T00:00:00.000000000",
          "2025-03-17T00:00:00.000000000",
          "2025-03-18T00:00:00.000000000",
          "2025-03-19T00:00:00.000000000",
          "2025-03-20T00:00:00.000000000",
          "2025-03-21T00:00:00.000000000",
          "2025-03-24T00:00:00.000000000",
          "2025-03-25T00:00:00.000000000",
          "2025-03-26T00:00:00.000000000",
          "2025-03-27T00:00:00.000000000",
          "2025-03-28T00:00:00.000000000",
          "2025-03-31T00:00:00.000000000",
          "2025-04-01T00:00:00.000000000",
          "2025-04-02T00:00:00.000000000",
          "2025-04-03T00:00:00.000000000",
          "2025-04-04T00:00:00.000000000",
          "2025-04-07T00:00:00.000000000",
          "2025-04-08T00:00:00.000000000",
          "2025-04-09T00:00:00.000000000",
          "2025-04-10T00:00:00.000000000",
          "2025-04-11T00:00:00.000000000",
          "2025-04-14T00:00:00.000000000",
          "2025-04-15T00:00:00.000000000",
          "2025-04-16T00:00:00.000000000",
          "2025-04-17T00:00:00.000000000"
         ],
         "xaxis": "x",
         "y": {
          "bdata": "AAAAAAAAAACwTDFgpcwNQAAAAAAAAAAA5v9gcTDsBkC6mARNvQsQQKAZURYCNwlA1syAJ41W8r+gGVEWAjcJQBgAYXEw7PY/Ej8d/Q/yHkAg2aqxX6EkQBwf8e6JFCxA8NUMfQVYNECRr6QFy+cwQL3CWEHonzJAtehycIw1N0CyCJ9+EhM6QPDVDH0FWDRATeI2B9iiNkC16HJwjDU3QEoCYxVegDlAF++u2UDIN0BGIo8j5F08QOQbU7ovyztAdhUXUXs4O0BGIo8j5F08QEYijyPkXTxArijLjJjwPEDkG1O6L8s7QEYijyPkXTxArijLjJjwPECuKMuMmPA8QEoCYxVegDlAVbwc2DMNMkCRr6QFy+cwQPO14G5/ejFA8NUMfQVYNEDw1Qx9BVg0QCXJlKqcMjNAvcJYQeifMkDw1Qx9BVg0QE3iNgfYojZAUEK7MWo7P0CGuqaZO3tCQILa0qfBWEVAH8SAN0pXQ0Dp0PgJs3xEQL6qt7bDeUBAvLrNvYboQUBXtJFU0lVBQPKtVesdw0BArijLjJjwPECuKMuMmPA8QK4oy4yY8DxARiKPI+RdPEDhO3/Itag+QLq9RM6VxEJAuM1a1VgzREAa1JY+DcZEQPKtVesdw0BAUrcIZeExQkC4zVrVWDNEQLq9RM6VxEJAi7cviSyfQUC8us29huhBQIa6ppk7e0JAV7SRVNJVQUC+qre2w3lAQIqnGYJpMEBArijLjJjwPEDhO3/Itag+QLy6zb2G6EFAhrqmmTt7QkBStwhl4TFCQFe0kVTSVUFAi7cviSyfQUA=",
          "dtype": "f8"
         },
         "yaxis": "y"
        },
        {
         "mode": "lines",
         "name": "GIGA",
         "type": "scatter",
         "x": [
          "2025-01-02T00:00:00.000000000",
          "2025-01-03T00:00:00.000000000",
          "2025-01-06T00:00:00.000000000",
          "2025-01-07T00:00:00.000000000",
          "2025-01-08T00:00:00.000000000",
          "2025-01-09T00:00:00.000000000",
          "2025-01-10T00:00:00.000000000",
          "2025-01-13T00:00:00.000000000",
          "2025-01-14T00:00:00.000000000",
          "2025-01-15T00:00:00.000000000",
          "2025-01-16T00:00:00.000000000",
          "2025-01-17T00:00:00.000000000",
          "2025-01-20T00:00:00.000000000",
          "2025-01-21T00:00:00.000000000",
          "2025-01-22T00:00:00.000000000",
          "2025-01-23T00:00:00.000000000",
          "2025-01-24T00:00:00.000000000",
          "2025-01-27T00:00:00.000000000",
          "2025-01-28T00:00:00.000000000",
          "2025-01-29T00:00:00.000000000",
          "2025-01-30T00:00:00.000000000",
          "2025-01-31T00:00:00.000000000",
          "2025-02-03T00:00:00.000000000",
          "2025-02-04T00:00:00.000000000",
          "2025-02-05T00:00:00.000000000",
          "2025-02-06T00:00:00.000000000",
          "2025-02-07T00:00:00.000000000",
          "2025-02-10T00:00:00.000000000",
          "2025-02-11T00:00:00.000000000",
          "2025-02-12T00:00:00.000000000",
          "2025-02-13T00:00:00.000000000",
          "2025-02-14T00:00:00.000000000",
          "2025-02-17T00:00:00.000000000",
          "2025-02-18T00:00:00.000000000",
          "2025-02-19T00:00:00.000000000",
          "2025-02-20T00:00:00.000000000",
          "2025-02-21T00:00:00.000000000",
          "2025-02-24T00:00:00.000000000",
          "2025-02-25T00:00:00.000000000",
          "2025-02-26T00:00:00.000000000",
          "2025-02-27T00:00:00.000000000",
          "2025-02-28T00:00:00.000000000",
          "2025-03-03T00:00:00.000000000",
          "2025-03-04T00:00:00.000000000",
          "2025-03-05T00:00:00.000000000",
          "2025-03-06T00:00:00.000000000",
          "2025-03-07T00:00:00.000000000",
          "2025-03-10T00:00:00.000000000",
          "2025-03-11T00:00:00.000000000",
          "2025-03-12T00:00:00.000000000",
          "2025-03-13T00:00:00.000000000",
          "2025-03-14T00:00:00.000000000",
          "2025-03-17T00:00:00.000000000",
          "2025-03-18T00:00:00.000000000",
          "2025-03-19T00:00:00.000000000",
          "2025-03-20T00:00:00.000000000",
          "2025-03-21T00:00:00.000000000",
          "2025-03-24T00:00:00.000000000",
          "2025-03-25T00:00:00.000000000",
          "2025-03-26T00:00:00.000000000",
          "2025-03-27T00:00:00.000000000",
          "2025-03-28T00:00:00.000000000",
          "2025-03-31T00:00:00.000000000",
          "2025-04-01T00:00:00.000000000",
          "2025-04-02T00:00:00.000000000",
          "2025-04-03T00:00:00.000000000",
          "2025-04-04T00:00:00.000000000",
          "2025-04-07T00:00:00.000000000",
          "2025-04-08T00:00:00.000000000",
          "2025-04-09T00:00:00.000000000",
          "2025-04-10T00:00:00.000000000",
          "2025-04-11T00:00:00.000000000",
          "2025-04-14T00:00:00.000000000",
          "2025-04-15T00:00:00.000000000",
          "2025-04-16T00:00:00.000000000",
          "2025-04-17T00:00:00.000000000"
         ],
         "xaxis": "x",
         "y": {
          "bdata": "AAAAAAAAAAAAAAAAkyQBQAAAAACTJAFAdJIkSWzb9j9CkiRJbNv2v0KSJEls2/a/AAAAAJMkAcB827Ztc9vmvwAAAACTJBHAsm3bttq2GcCQJEkSbtsmwNm2bRuSJCHAIUmSJEmSHMCQJEmSt20fwCdJkqT//yPA2bZtG5IkIcAhSZIkSZIcwCFJkiRJkhzAIUmSJEmSHMDZtm0bkiQhwJAkSRJu2ybA2bZtm9u2KcBw27attm0vwNm2bVsAAC7A2bZtWwAALsAnSZKk//8jwEKSJEls2wbAIUmSpP//E8AhSZKk//8TwJAkSRJu2xbAkCRJEm7bFsCQJEkSbtsWwCFJkiRJkhzAkCRJkrdtH8CQJEmSt20fwCFJkiRJkhzAIUmSJEmSHMCQJElSSZIiwJAkSZK3bR/AkCRJkrdtH8AnSZKk//8jwCdJkqT//yPAIUmSJEmSHMAnSZKk//8jwCdJkqT//yPAJ0mSpP//I8AnSZKk//8jwCFJkiRJkhzAIUmSJEmSHMCQJElSSZIiwNm2bRuSJCHA2bZtG5IkIcDZtm0bkiQhwNm2bdu2bSXA2bZt27ZtJcAnSZKk//8jwJAkSRJu2ybA2bZtm9u2KcBw27btkSQrwCdJkiRJkizAJ0mSZCRJKMAnSZJkJEkowCdJkmQkSSjAJ0mSJEmSLMBw27attm0vwJQkSfK2bTDAJ0mSJEmSLMC4bdu2bdsxwHDbtq22bS/AcNu2rbZtL8DZtm2b27YpwNm2bZvbtinAJ0mSZCRJKMCQJEkSbtsmwJAkSRJu2ybAkCRJEm7bJsA=",
          "dtype": "f8"
         },
         "yaxis": "y"
        },
        {
         "mode": "lines",
         "name": "HLZ",
         "type": "scatter",
         "x": [
          "2025-01-02T00:00:00.000000000",
          "2025-01-03T00:00:00.000000000",
          "2025-01-06T00:00:00.000000000",
          "2025-01-07T00:00:00.000000000",
          "2025-01-08T00:00:00.000000000",
          "2025-01-09T00:00:00.000000000",
          "2025-01-10T00:00:00.000000000",
          "2025-01-13T00:00:00.000000000",
          "2025-01-14T00:00:00.000000000",
          "2025-01-15T00:00:00.000000000",
          "2025-01-16T00:00:00.000000000",
          "2025-01-17T00:00:00.000000000",
          "2025-01-20T00:00:00.000000000",
          "2025-01-21T00:00:00.000000000",
          "2025-01-22T00:00:00.000000000",
          "2025-01-23T00:00:00.000000000",
          "2025-01-24T00:00:00.000000000",
          "2025-01-27T00:00:00.000000000",
          "2025-01-28T00:00:00.000000000",
          "2025-01-29T00:00:00.000000000",
          "2025-01-30T00:00:00.000000000",
          "2025-01-31T00:00:00.000000000",
          "2025-02-03T00:00:00.000000000",
          "2025-02-04T00:00:00.000000000",
          "2025-02-05T00:00:00.000000000",
          "2025-02-06T00:00:00.000000000",
          "2025-02-07T00:00:00.000000000",
          "2025-02-10T00:00:00.000000000",
          "2025-02-11T00:00:00.000000000",
          "2025-02-12T00:00:00.000000000",
          "2025-02-13T00:00:00.000000000",
          "2025-02-14T00:00:00.000000000",
          "2025-02-17T00:00:00.000000000",
          "2025-02-18T00:00:00.000000000",
          "2025-02-19T00:00:00.000000000",
          "2025-02-20T00:00:00.000000000",
          "2025-02-21T00:00:00.000000000",
          "2025-02-24T00:00:00.000000000",
          "2025-02-25T00:00:00.000000000",
          "2025-02-26T00:00:00.000000000",
          "2025-02-27T00:00:00.000000000",
          "2025-02-28T00:00:00.000000000",
          "2025-03-03T00:00:00.000000000",
          "2025-03-04T00:00:00.000000000",
          "2025-03-05T00:00:00.000000000",
          "2025-03-06T00:00:00.000000000",
          "2025-03-07T00:00:00.000000000",
          "2025-03-10T00:00:00.000000000",
          "2025-03-11T00:00:00.000000000",
          "2025-03-12T00:00:00.000000000",
          "2025-03-13T00:00:00.000000000",
          "2025-03-14T00:00:00.000000000",
          "2025-03-17T00:00:00.000000000",
          "2025-03-18T00:00:00.000000000",
          "2025-03-19T00:00:00.000000000",
          "2025-03-20T00:00:00.000000000",
          "2025-03-21T00:00:00.000000000",
          "2025-03-24T00:00:00.000000000",
          "2025-03-25T00:00:00.000000000",
          "2025-03-26T00:00:00.000000000",
          "2025-03-27T00:00:00.000000000",
          "2025-03-28T00:00:00.000000000",
          "2025-03-31T00:00:00.000000000",
          "2025-04-01T00:00:00.000000000",
          "2025-04-02T00:00:00.000000000",
          "2025-04-03T00:00:00.000000000",
          "2025-04-04T00:00:00.000000000",
          "2025-04-07T00:00:00.000000000",
          "2025-04-08T00:00:00.000000000",
          "2025-04-09T00:00:00.000000000",
          "2025-04-10T00:00:00.000000000",
          "2025-04-11T00:00:00.000000000",
          "2025-04-14T00:00:00.000000000",
          "2025-04-15T00:00:00.000000000",
          "2025-04-16T00:00:00.000000000",
          "2025-04-17T00:00:00.000000000"
         ],
         "xaxis": "x",
         "y": {
          "bdata": "AAAAAAAAAAC+/mE83SD/v/UYaRTgHhHAfjKhilGtEsBsbvOq3yAfwAhM2QDDOxTAvv5hPN0g/78Cf0ntpVgXwEHlKcZrkh3AuMvxT/oDHMC+/mE83SD/vzoIE9IZ5xhACKsULf8DDEA6CBPSGecYQFDq6cFSrSJAYG7zqt8gH0CE3c0GGuYhQL3u2luoWBdA+8OVkKhXIECYmIFjF+fov3IyoYpRrfK/hWURdzTKBcD1GGkU4B4RwHIyoYpRrfK/mJiBYxfnCMCYmIFjF+fYvwhM2QDDOxTACEzZAMM7FMAusrnZiHUawIVlEXc0ygXApJiBYxfnGMByMqGKUa0CwPUYaRTgHhHA3HekQBznCECXiPqC4h4RQPD+YTzdIP8/pDKhilGt8j/jVLs0bpIdQKq7am/FOxRAl4j6guIeEUC97tpbqFgXQAirFC3/AwxACKsULf8DDEByMqGKUa3yv5iYgWMX59i/qrtqb8U7FEC97tpbqFgXQPD+YTzdIP8/mZ9Se+AfOED7w5WQqFcwQONUuzRukh1A41S7NG6SHUCiYdfvplkuQAUVL41SrilARggT0hnnKECE3c0GGuYhQPvDlZCoVyBA41S7NG6SHUDQIUtIi3UaQMwDIjjEOyRAxtCxS+EeIUA6CBPSGecYQKq7am/FOxRApDKhilGt8j9yMqGKUa0CwJiYgWMX5/i/uMvxT/oDHMCE3c0GGuYhwNf+YTzdIA/ALrK52Yh1GsCYmIFjF+f4v77+YTzdIP+/LrK52Yh1GsAusrnZiHUawIVlEXc0ygXAhWURdzTKBcA=",
          "dtype": "f8"
         },
         "yaxis": "y"
        },
        {
         "mode": "lines",
         "name": "IZER",
         "type": "scatter",
         "x": [
          "2025-01-02T00:00:00.000000000",
          "2025-01-03T00:00:00.000000000",
          "2025-01-06T00:00:00.000000000",
          "2025-01-07T00:00:00.000000000",
          "2025-01-08T00:00:00.000000000",
          "2025-01-09T00:00:00.000000000",
          "2025-01-10T00:00:00.000000000",
          "2025-01-13T00:00:00.000000000",
          "2025-01-14T00:00:00.000000000",
          "2025-01-15T00:00:00.000000000",
          "2025-01-16T00:00:00.000000000",
          "2025-01-17T00:00:00.000000000",
          "2025-01-20T00:00:00.000000000",
          "2025-01-21T00:00:00.000000000",
          "2025-01-22T00:00:00.000000000",
          "2025-01-23T00:00:00.000000000",
          "2025-01-24T00:00:00.000000000",
          "2025-01-27T00:00:00.000000000",
          "2025-01-28T00:00:00.000000000",
          "2025-01-29T00:00:00.000000000",
          "2025-01-30T00:00:00.000000000",
          "2025-01-31T00:00:00.000000000",
          "2025-02-03T00:00:00.000000000",
          "2025-02-04T00:00:00.000000000",
          "2025-02-05T00:00:00.000000000",
          "2025-02-06T00:00:00.000000000",
          "2025-02-07T00:00:00.000000000",
          "2025-02-10T00:00:00.000000000",
          "2025-02-11T00:00:00.000000000",
          "2025-02-12T00:00:00.000000000",
          "2025-02-13T00:00:00.000000000",
          "2025-02-14T00:00:00.000000000",
          "2025-02-17T00:00:00.000000000",
          "2025-02-18T00:00:00.000000000",
          "2025-02-19T00:00:00.000000000",
          "2025-02-20T00:00:00.000000000",
          "2025-02-21T00:00:00.000000000",
          "2025-02-24T00:00:00.000000000",
          "2025-02-25T00:00:00.000000000",
          "2025-02-26T00:00:00.000000000",
          "2025-02-27T00:00:00.000000000",
          "2025-02-28T00:00:00.000000000",
          "2025-03-03T00:00:00.000000000",
          "2025-03-04T00:00:00.000000000",
          "2025-03-05T00:00:00.000000000",
          "2025-03-06T00:00:00.000000000",
          "2025-03-07T00:00:00.000000000",
          "2025-03-10T00:00:00.000000000",
          "2025-03-11T00:00:00.000000000",
          "2025-03-12T00:00:00.000000000",
          "2025-03-13T00:00:00.000000000",
          "2025-03-14T00:00:00.000000000",
          "2025-03-17T00:00:00.000000000",
          "2025-03-18T00:00:00.000000000",
          "2025-03-19T00:00:00.000000000",
          "2025-03-20T00:00:00.000000000",
          "2025-03-21T00:00:00.000000000",
          "2025-03-24T00:00:00.000000000",
          "2025-03-25T00:00:00.000000000",
          "2025-03-26T00:00:00.000000000",
          "2025-03-27T00:00:00.000000000",
          "2025-03-28T00:00:00.000000000",
          "2025-03-31T00:00:00.000000000",
          "2025-04-01T00:00:00.000000000",
          "2025-04-02T00:00:00.000000000",
          "2025-04-03T00:00:00.000000000",
          "2025-04-04T00:00:00.000000000",
          "2025-04-07T00:00:00.000000000",
          "2025-04-08T00:00:00.000000000",
          "2025-04-09T00:00:00.000000000",
          "2025-04-10T00:00:00.000000000",
          "2025-04-11T00:00:00.000000000",
          "2025-04-14T00:00:00.000000000",
          "2025-04-15T00:00:00.000000000",
          "2025-04-16T00:00:00.000000000",
          "2025-04-17T00:00:00.000000000"
         ],
         "xaxis": "x",
         "y": {
          "bdata": "AAAAAAAAAAAAAAAAAAAAAHB8+hVncsq/7D7ab2GH8D/gVfRwFHLKP+BV9HAUcso/4FX0cBRyyj8AAAAAAAAAAAAAAAAAAAAAAAAAAAAAAAAAAAAAAAAAAAAAAAAAAAAAAAAAAAAAAAAAAAAAAAAAAAAAAAAAAAAAmGd3wz1y2r9wfPoVZ3LKv3B8+hVncsq/SI6ZUq7V879wfPoVZ3LKv5hnd8M9ctq/4FX0cBRyyj++A3vEa4fwv74De8Rrh/C/AAAAAAAAAACYZ3fDPXLqv0iOmVKu1fO/R/HpfLPVA8CEuDamisD9v57eWDX7IwfApBDXNGQZDMA7BHvEa4cAwEiOmVKu1fO/SI6ZUq7V879H8el8s9UDwDsEe8RrhwDAanXa0vlaEcCYI2h8HMsIwJgjaHwcywjAanXa0vlaEcD96xGvHQITwOHSUi9phxDA+r/B57DVE8D6v8HnsNUTwOHSUi9phxDA+r/B57DVE8D6v8HnsNUTwGdJiguNLhLAZ0mKC40uEsBnSYoLjS4SwIw2+cPUfBXAnGJJi0GpFMCMI2h8HMsYwBbZgGdlUBbAnGJJi0GpFMA7BHvEa4cAwDreWDX7I/e/Ot5YNfsj979OSYoLjS4CwE5JiguNLgLAmCNofBzLCMBH8el8s9UDwGp12tL5WhHAmCNofBzLCMDJ/UXtq2cPwGdJiguNLhLAyf1F7atnD8Dh0lIvaYcQwL0Q1zRkGRzAvRDXNGQZHMCPT7hDifcXwCqan1hAchrAKpqfWEByGsCPT7hDifcXwBKtMKD4IxfAFtmAZ2VQFsA=",
          "dtype": "f8"
         },
         "yaxis": "y"
        },
        {
         "mode": "lines",
         "name": "LLN",
         "type": "scatter",
         "x": [
          "2025-01-02T00:00:00.000000000",
          "2025-01-03T00:00:00.000000000",
          "2025-01-06T00:00:00.000000000",
          "2025-01-07T00:00:00.000000000",
          "2025-01-08T00:00:00.000000000",
          "2025-01-09T00:00:00.000000000",
          "2025-01-10T00:00:00.000000000",
          "2025-01-13T00:00:00.000000000",
          "2025-01-14T00:00:00.000000000",
          "2025-01-15T00:00:00.000000000",
          "2025-01-16T00:00:00.000000000",
          "2025-01-17T00:00:00.000000000",
          "2025-01-20T00:00:00.000000000",
          "2025-01-21T00:00:00.000000000",
          "2025-01-22T00:00:00.000000000",
          "2025-01-23T00:00:00.000000000",
          "2025-01-24T00:00:00.000000000",
          "2025-01-27T00:00:00.000000000",
          "2025-01-28T00:00:00.000000000",
          "2025-01-29T00:00:00.000000000",
          "2025-01-30T00:00:00.000000000",
          "2025-01-31T00:00:00.000000000",
          "2025-02-03T00:00:00.000000000",
          "2025-02-04T00:00:00.000000000",
          "2025-02-05T00:00:00.000000000",
          "2025-02-06T00:00:00.000000000",
          "2025-02-07T00:00:00.000000000",
          "2025-02-10T00:00:00.000000000",
          "2025-02-11T00:00:00.000000000",
          "2025-02-12T00:00:00.000000000",
          "2025-02-13T00:00:00.000000000",
          "2025-02-14T00:00:00.000000000",
          "2025-02-17T00:00:00.000000000",
          "2025-02-18T00:00:00.000000000",
          "2025-02-19T00:00:00.000000000",
          "2025-02-20T00:00:00.000000000",
          "2025-02-21T00:00:00.000000000",
          "2025-02-24T00:00:00.000000000",
          "2025-02-25T00:00:00.000000000",
          "2025-02-26T00:00:00.000000000",
          "2025-02-27T00:00:00.000000000",
          "2025-02-28T00:00:00.000000000",
          "2025-03-03T00:00:00.000000000",
          "2025-03-04T00:00:00.000000000",
          "2025-03-05T00:00:00.000000000",
          "2025-03-06T00:00:00.000000000",
          "2025-03-07T00:00:00.000000000",
          "2025-03-10T00:00:00.000000000",
          "2025-03-11T00:00:00.000000000",
          "2025-03-12T00:00:00.000000000",
          "2025-03-13T00:00:00.000000000",
          "2025-03-14T00:00:00.000000000",
          "2025-03-17T00:00:00.000000000",
          "2025-03-18T00:00:00.000000000",
          "2025-03-19T00:00:00.000000000",
          "2025-03-20T00:00:00.000000000",
          "2025-03-21T00:00:00.000000000",
          "2025-03-24T00:00:00.000000000",
          "2025-03-25T00:00:00.000000000",
          "2025-03-26T00:00:00.000000000",
          "2025-03-27T00:00:00.000000000",
          "2025-03-28T00:00:00.000000000",
          "2025-03-31T00:00:00.000000000",
          "2025-04-01T00:00:00.000000000",
          "2025-04-02T00:00:00.000000000",
          "2025-04-03T00:00:00.000000000",
          "2025-04-04T00:00:00.000000000",
          "2025-04-07T00:00:00.000000000",
          "2025-04-08T00:00:00.000000000",
          "2025-04-09T00:00:00.000000000",
          "2025-04-10T00:00:00.000000000",
          "2025-04-11T00:00:00.000000000",
          "2025-04-14T00:00:00.000000000",
          "2025-04-15T00:00:00.000000000",
          "2025-04-16T00:00:00.000000000",
          "2025-04-17T00:00:00.000000000"
         ],
         "xaxis": "x",
         "y": {
          "bdata": "AAAAAAAAAADAGnh6LaHtP58Qi2y8hBJAeFJV5ec4BsDAGnh6LaHtvwAAAAAAAAAAwBp4ei2h7b8AAAAAAAAAAOCvSFG/hBLAIE8GNsKEAsAAAAAAAAAAAMAaeHotoe0/wBp4ei2h7b+Ql24NOaH9vyBPBjbChALAwBp4ei2h7b8AAAAAAAAAAJ8Qi2y8hBJA3hPaG+I4BkDeE9ob4jgGQCGcH1JAex9AhhCLbLyEAkD3E9ob4jgWQPbDIkRorzZAlrfmubOXMUAmA0/YXsI1QJa35rmzlzFA3OaHPQntKUDc5oc9Ce0pQDTq1uwuoS1ANOrW7C6hLUA06tbsLqEtQIhoLxUcxytAPWXgZfYSKEAGJrTR//8oQGekDPrsJSdAsqdbqRLaKkA9ZeBl9hIoQJHjOI7jOCZAkeM4juM4JkDlYZG20F4kQJHjOI7jOCZABia00f//KEDJT7cAs5chQJ8Qi2y8hCJAkeM4juM4JkDlYZG20F4kQMlPtwCzlyFAnxCLbLyEEkC7ImUi2kslQJ8Qi2y8hCJANhcpywftGUD3E9ob4jgWQPcT2hviOBZAo5WB8/QSGEDzjuOUqaoQQI4aeHotoQ1AEBTaG+I49j+GEItsvIQCQEuSMkTPXhRAjhp4ei2hDUCfEItsvIQSQJ8Qi2y8hBJAkJduDTmh/b/AGnh6LaHtP8AaeHotoe0/NC6heayqEMArs5cA5TgWwMAaeHotoe2/eFJV5ec4BsB4UlXl5zgGwIwx8CjSXhTAK7OXAOU4FsDeE9ob4jgGQJ8Qi2y8hBJANhcpywftGUA=",
          "dtype": "f8"
         },
         "yaxis": "y"
        },
        {
         "mode": "lines",
         "name": "PAR",
         "type": "scatter",
         "x": [
          "2025-01-02T00:00:00.000000000",
          "2025-01-03T00:00:00.000000000",
          "2025-01-06T00:00:00.000000000",
          "2025-01-07T00:00:00.000000000",
          "2025-01-08T00:00:00.000000000",
          "2025-01-09T00:00:00.000000000",
          "2025-01-10T00:00:00.000000000",
          "2025-01-13T00:00:00.000000000",
          "2025-01-14T00:00:00.000000000",
          "2025-01-15T00:00:00.000000000",
          "2025-01-16T00:00:00.000000000",
          "2025-01-17T00:00:00.000000000",
          "2025-01-20T00:00:00.000000000",
          "2025-01-21T00:00:00.000000000",
          "2025-01-22T00:00:00.000000000",
          "2025-01-23T00:00:00.000000000",
          "2025-01-24T00:00:00.000000000",
          "2025-01-27T00:00:00.000000000",
          "2025-01-28T00:00:00.000000000",
          "2025-01-29T00:00:00.000000000",
          "2025-01-30T00:00:00.000000000",
          "2025-01-31T00:00:00.000000000",
          "2025-02-03T00:00:00.000000000",
          "2025-02-04T00:00:00.000000000",
          "2025-02-05T00:00:00.000000000",
          "2025-02-06T00:00:00.000000000",
          "2025-02-07T00:00:00.000000000",
          "2025-02-10T00:00:00.000000000",
          "2025-02-11T00:00:00.000000000",
          "2025-02-12T00:00:00.000000000",
          "2025-02-13T00:00:00.000000000",
          "2025-02-14T00:00:00.000000000",
          "2025-02-17T00:00:00.000000000",
          "2025-02-18T00:00:00.000000000",
          "2025-02-19T00:00:00.000000000",
          "2025-02-20T00:00:00.000000000",
          "2025-02-21T00:00:00.000000000",
          "2025-02-24T00:00:00.000000000",
          "2025-02-25T00:00:00.000000000",
          "2025-02-26T00:00:00.000000000",
          "2025-02-27T00:00:00.000000000",
          "2025-02-28T00:00:00.000000000",
          "2025-03-03T00:00:00.000000000",
          "2025-03-04T00:00:00.000000000",
          "2025-03-05T00:00:00.000000000",
          "2025-03-06T00:00:00.000000000",
          "2025-03-07T00:00:00.000000000",
          "2025-03-10T00:00:00.000000000",
          "2025-03-11T00:00:00.000000000",
          "2025-03-12T00:00:00.000000000",
          "2025-03-13T00:00:00.000000000",
          "2025-03-14T00:00:00.000000000",
          "2025-03-17T00:00:00.000000000",
          "2025-03-18T00:00:00.000000000",
          "2025-03-19T00:00:00.000000000",
          "2025-03-20T00:00:00.000000000",
          "2025-03-21T00:00:00.000000000",
          "2025-03-24T00:00:00.000000000",
          "2025-03-25T00:00:00.000000000",
          "2025-03-26T00:00:00.000000000",
          "2025-03-27T00:00:00.000000000",
          "2025-03-28T00:00:00.000000000",
          "2025-03-31T00:00:00.000000000",
          "2025-04-01T00:00:00.000000000",
          "2025-04-02T00:00:00.000000000",
          "2025-04-03T00:00:00.000000000",
          "2025-04-04T00:00:00.000000000",
          "2025-04-07T00:00:00.000000000",
          "2025-04-08T00:00:00.000000000",
          "2025-04-09T00:00:00.000000000",
          "2025-04-10T00:00:00.000000000",
          "2025-04-11T00:00:00.000000000",
          "2025-04-14T00:00:00.000000000",
          "2025-04-15T00:00:00.000000000",
          "2025-04-16T00:00:00.000000000",
          "2025-04-17T00:00:00.000000000"
         ],
         "xaxis": "x",
         "y": {
          "bdata": "AAAAAAAAAAAAAAAAAAAAAAAAAAAAAAAAAAAAAAAAAAAAAAAAAAAAAAAAAAAAAAAAAAAAAAAAAAAAAAAAAAAAAAAAAAAAAAAAM6EpsYmHB8AAAAAAAAAAAAAAAAAAAAAAAAAAAAAAAAAzoSmxiYcHwDOhKbGJhwfAbAuT2oeHF8Ca98mc0dICQGj3yZzR0uI/aPfJnNHS4j9o98mc0dLiP2j3yZzR0uI/Jh9cGD48DMBmSiwO4uEZwGZKLA7i4RnATMhedZaWHsBsC5Pah4cXwEzIXnWWlh7AJh9cGD48DMAmH1wYPjwMwCYfXBg+PAzAJh9cGD48DMBsC5Pah4cXwGwLk9qHhxfAbAuT2oeHF8BsC5Pah4cXwDOhKbGJhwfAbAuT2oeHF8AmH1wYPjwMwDOhKbGJhwfAM6EpsYmHB8AzoSmxiYcHwOZOJPfY0vK/mkqJxUE8/L8mH1wYPjwMwCYfXBg+PAzAJh9cGD48DMAmH1wYPjwMwOZOJPfY0vK/Jh9cGD48DMAmH1wYPjwMwCYfXBg+PAzAjE7HP3l4EMAzoSmxiYcHwGwLk9qHhxfAJh9cGD48DMAzoSmxiYcHwIxOxz95eBDAM6EpsYmHB8AzoSmxiYcHwDOhKbGJhwfAM6EpsYmHB8B6jWBz09ISwHqNYHPT0hLAeo1gc9PSEsB6jWBz09ISwHqNYHPT0hLAeo1gc9PSEsBmSiwO4uEZwGwLk9qHhxfAbAuT2oeHF8BMyF51lpYewGwLk9qHhxfAbAuT2oeHF8B6jWBz09ISwHqNYHPT0hLAeo1gc9PSEsA=",
          "dtype": "f8"
         },
         "yaxis": "y"
        },
        {
         "mode": "lines",
         "name": "SNG",
         "type": "scatter",
         "x": [
          "2025-01-02T00:00:00.000000000",
          "2025-01-03T00:00:00.000000000",
          "2025-01-06T00:00:00.000000000",
          "2025-01-07T00:00:00.000000000",
          "2025-01-08T00:00:00.000000000",
          "2025-01-09T00:00:00.000000000",
          "2025-01-10T00:00:00.000000000",
          "2025-01-13T00:00:00.000000000",
          "2025-01-14T00:00:00.000000000",
          "2025-01-15T00:00:00.000000000",
          "2025-01-16T00:00:00.000000000",
          "2025-01-17T00:00:00.000000000",
          "2025-01-20T00:00:00.000000000",
          "2025-01-21T00:00:00.000000000",
          "2025-01-22T00:00:00.000000000",
          "2025-01-23T00:00:00.000000000",
          "2025-01-24T00:00:00.000000000",
          "2025-01-27T00:00:00.000000000",
          "2025-01-28T00:00:00.000000000",
          "2025-01-29T00:00:00.000000000",
          "2025-01-30T00:00:00.000000000",
          "2025-01-31T00:00:00.000000000",
          "2025-02-03T00:00:00.000000000",
          "2025-02-04T00:00:00.000000000",
          "2025-02-05T00:00:00.000000000",
          "2025-02-06T00:00:00.000000000",
          "2025-02-07T00:00:00.000000000",
          "2025-02-10T00:00:00.000000000",
          "2025-02-11T00:00:00.000000000",
          "2025-02-12T00:00:00.000000000",
          "2025-02-13T00:00:00.000000000",
          "2025-02-14T00:00:00.000000000",
          "2025-02-17T00:00:00.000000000",
          "2025-02-18T00:00:00.000000000",
          "2025-02-19T00:00:00.000000000",
          "2025-02-20T00:00:00.000000000",
          "2025-02-21T00:00:00.000000000",
          "2025-02-24T00:00:00.000000000",
          "2025-02-25T00:00:00.000000000",
          "2025-02-26T00:00:00.000000000",
          "2025-02-27T00:00:00.000000000",
          "2025-02-28T00:00:00.000000000",
          "2025-03-03T00:00:00.000000000",
          "2025-03-04T00:00:00.000000000",
          "2025-03-05T00:00:00.000000000",
          "2025-03-06T00:00:00.000000000",
          "2025-03-07T00:00:00.000000000",
          "2025-03-10T00:00:00.000000000",
          "2025-03-11T00:00:00.000000000",
          "2025-03-12T00:00:00.000000000",
          "2025-03-13T00:00:00.000000000",
          "2025-03-14T00:00:00.000000000",
          "2025-03-17T00:00:00.000000000",
          "2025-03-18T00:00:00.000000000",
          "2025-03-19T00:00:00.000000000",
          "2025-03-20T00:00:00.000000000",
          "2025-03-21T00:00:00.000000000",
          "2025-03-24T00:00:00.000000000",
          "2025-03-25T00:00:00.000000000",
          "2025-03-26T00:00:00.000000000",
          "2025-03-27T00:00:00.000000000",
          "2025-03-28T00:00:00.000000000",
          "2025-03-31T00:00:00.000000000",
          "2025-04-01T00:00:00.000000000",
          "2025-04-02T00:00:00.000000000",
          "2025-04-03T00:00:00.000000000",
          "2025-04-04T00:00:00.000000000",
          "2025-04-07T00:00:00.000000000",
          "2025-04-08T00:00:00.000000000",
          "2025-04-09T00:00:00.000000000",
          "2025-04-10T00:00:00.000000000",
          "2025-04-11T00:00:00.000000000",
          "2025-04-14T00:00:00.000000000",
          "2025-04-15T00:00:00.000000000",
          "2025-04-16T00:00:00.000000000",
          "2025-04-17T00:00:00.000000000"
         ],
         "xaxis": "x",
         "y": {
          "bdata": "AAAAAAAAAABTABX8DT4YQGWAGKZlSBxAZYAYpmVIHEBTABX8DT4YQC8ADqheKRBAngAV/A0+CECeABX8DT4IQJ4AFfwNPghAFgAOqF4p8L9IAA6oXinwP54AFfwNPghALwAOqF4pEEAvAA6oXikQQEGAEVK2MxRASAAOqF4pAEBIAA6oXinwPxYADqheKfC/AAAAAAAAAABIAA6oXinwP0gADqheKfA/ngAV/A0+CEAvAA6oXikQQC8ADqheKRBALwAOqF4pEEAvAA6oXikQQEGAEVK2MxRASAAOqF4p8D9IAA6oXinwP54AFfwNPghASAAOqF4p8D+eABX8DT4IQJ4AFfwNPghAngAV/A0+CEAvAA6oXikQQJ4AFfwNPghASAAOqF4p8D8WAA6oXinwv0gADqheKfA/rAAOqF4p4L9IAA6oXinwP0gADqheKfA/ngAV/A0+CEBIAA6oXikAQEgADqheKfA/SAAOqF4p8D8IABX8DT74v0gADqheKfA/SAAOqF4p8D9IAA6oXinwP0gADqheKfA/SAAOqF4p8D8AAAAAAAAAABYADqheKfC/rAAOqF4p4L8vAA6oXikAwC8ADqheKQDA+lcfkA8+GMDrFxoRjC4SwPt3nqV5OyfA8Pea+yExI8D7d56leTsnwPt3nqV5OyfAAFgfkA8+KMD7d56leTsnwAIYIWU7QyrA95cdu+M4JsDrFxoRjC4iwCGYJA+TTR7AAhghZTtDGsAM2CI6Z0gcwAzYIjpnSBzA8Pea+yExI8AILBNyXykgwAIYIWU7QxrA4lcYPGApEMA=",
          "dtype": "f8"
         },
         "yaxis": "y"
        }
       ],
       "layout": {
        "height": 800,
        "showlegend": true,
        "template": {
         "data": {
          "bar": [
           {
            "error_x": {
             "color": "#2a3f5f"
            },
            "error_y": {
             "color": "#2a3f5f"
            },
            "marker": {
             "line": {
              "color": "#E5ECF6",
              "width": 0.5
             },
             "pattern": {
              "fillmode": "overlay",
              "size": 10,
              "solidity": 0.2
             }
            },
            "type": "bar"
           }
          ],
          "barpolar": [
           {
            "marker": {
             "line": {
              "color": "#E5ECF6",
              "width": 0.5
             },
             "pattern": {
              "fillmode": "overlay",
              "size": 10,
              "solidity": 0.2
             }
            },
            "type": "barpolar"
           }
          ],
          "carpet": [
           {
            "aaxis": {
             "endlinecolor": "#2a3f5f",
             "gridcolor": "white",
             "linecolor": "white",
             "minorgridcolor": "white",
             "startlinecolor": "#2a3f5f"
            },
            "baxis": {
             "endlinecolor": "#2a3f5f",
             "gridcolor": "white",
             "linecolor": "white",
             "minorgridcolor": "white",
             "startlinecolor": "#2a3f5f"
            },
            "type": "carpet"
           }
          ],
          "choropleth": [
           {
            "colorbar": {
             "outlinewidth": 0,
             "ticks": ""
            },
            "type": "choropleth"
           }
          ],
          "contour": [
           {
            "colorbar": {
             "outlinewidth": 0,
             "ticks": ""
            },
            "colorscale": [
             [
              0,
              "#0d0887"
             ],
             [
              0.1111111111111111,
              "#46039f"
             ],
             [
              0.2222222222222222,
              "#7201a8"
             ],
             [
              0.3333333333333333,
              "#9c179e"
             ],
             [
              0.4444444444444444,
              "#bd3786"
             ],
             [
              0.5555555555555556,
              "#d8576b"
             ],
             [
              0.6666666666666666,
              "#ed7953"
             ],
             [
              0.7777777777777778,
              "#fb9f3a"
             ],
             [
              0.8888888888888888,
              "#fdca26"
             ],
             [
              1,
              "#f0f921"
             ]
            ],
            "type": "contour"
           }
          ],
          "contourcarpet": [
           {
            "colorbar": {
             "outlinewidth": 0,
             "ticks": ""
            },
            "type": "contourcarpet"
           }
          ],
          "heatmap": [
           {
            "colorbar": {
             "outlinewidth": 0,
             "ticks": ""
            },
            "colorscale": [
             [
              0,
              "#0d0887"
             ],
             [
              0.1111111111111111,
              "#46039f"
             ],
             [
              0.2222222222222222,
              "#7201a8"
             ],
             [
              0.3333333333333333,
              "#9c179e"
             ],
             [
              0.4444444444444444,
              "#bd3786"
             ],
             [
              0.5555555555555556,
              "#d8576b"
             ],
             [
              0.6666666666666666,
              "#ed7953"
             ],
             [
              0.7777777777777778,
              "#fb9f3a"
             ],
             [
              0.8888888888888888,
              "#fdca26"
             ],
             [
              1,
              "#f0f921"
             ]
            ],
            "type": "heatmap"
           }
          ],
          "histogram": [
           {
            "marker": {
             "pattern": {
              "fillmode": "overlay",
              "size": 10,
              "solidity": 0.2
             }
            },
            "type": "histogram"
           }
          ],
          "histogram2d": [
           {
            "colorbar": {
             "outlinewidth": 0,
             "ticks": ""
            },
            "colorscale": [
             [
              0,
              "#0d0887"
             ],
             [
              0.1111111111111111,
              "#46039f"
             ],
             [
              0.2222222222222222,
              "#7201a8"
             ],
             [
              0.3333333333333333,
              "#9c179e"
             ],
             [
              0.4444444444444444,
              "#bd3786"
             ],
             [
              0.5555555555555556,
              "#d8576b"
             ],
             [
              0.6666666666666666,
              "#ed7953"
             ],
             [
              0.7777777777777778,
              "#fb9f3a"
             ],
             [
              0.8888888888888888,
              "#fdca26"
             ],
             [
              1,
              "#f0f921"
             ]
            ],
            "type": "histogram2d"
           }
          ],
          "histogram2dcontour": [
           {
            "colorbar": {
             "outlinewidth": 0,
             "ticks": ""
            },
            "colorscale": [
             [
              0,
              "#0d0887"
             ],
             [
              0.1111111111111111,
              "#46039f"
             ],
             [
              0.2222222222222222,
              "#7201a8"
             ],
             [
              0.3333333333333333,
              "#9c179e"
             ],
             [
              0.4444444444444444,
              "#bd3786"
             ],
             [
              0.5555555555555556,
              "#d8576b"
             ],
             [
              0.6666666666666666,
              "#ed7953"
             ],
             [
              0.7777777777777778,
              "#fb9f3a"
             ],
             [
              0.8888888888888888,
              "#fdca26"
             ],
             [
              1,
              "#f0f921"
             ]
            ],
            "type": "histogram2dcontour"
           }
          ],
          "mesh3d": [
           {
            "colorbar": {
             "outlinewidth": 0,
             "ticks": ""
            },
            "type": "mesh3d"
           }
          ],
          "parcoords": [
           {
            "line": {
             "colorbar": {
              "outlinewidth": 0,
              "ticks": ""
             }
            },
            "type": "parcoords"
           }
          ],
          "pie": [
           {
            "automargin": true,
            "type": "pie"
           }
          ],
          "scatter": [
           {
            "fillpattern": {
             "fillmode": "overlay",
             "size": 10,
             "solidity": 0.2
            },
            "type": "scatter"
           }
          ],
          "scatter3d": [
           {
            "line": {
             "colorbar": {
              "outlinewidth": 0,
              "ticks": ""
             }
            },
            "marker": {
             "colorbar": {
              "outlinewidth": 0,
              "ticks": ""
             }
            },
            "type": "scatter3d"
           }
          ],
          "scattercarpet": [
           {
            "marker": {
             "colorbar": {
              "outlinewidth": 0,
              "ticks": ""
             }
            },
            "type": "scattercarpet"
           }
          ],
          "scattergeo": [
           {
            "marker": {
             "colorbar": {
              "outlinewidth": 0,
              "ticks": ""
             }
            },
            "type": "scattergeo"
           }
          ],
          "scattergl": [
           {
            "marker": {
             "colorbar": {
              "outlinewidth": 0,
              "ticks": ""
             }
            },
            "type": "scattergl"
           }
          ],
          "scattermap": [
           {
            "marker": {
             "colorbar": {
              "outlinewidth": 0,
              "ticks": ""
             }
            },
            "type": "scattermap"
           }
          ],
          "scattermapbox": [
           {
            "marker": {
             "colorbar": {
              "outlinewidth": 0,
              "ticks": ""
             }
            },
            "type": "scattermapbox"
           }
          ],
          "scatterpolar": [
           {
            "marker": {
             "colorbar": {
              "outlinewidth": 0,
              "ticks": ""
             }
            },
            "type": "scatterpolar"
           }
          ],
          "scatterpolargl": [
           {
            "marker": {
             "colorbar": {
              "outlinewidth": 0,
              "ticks": ""
             }
            },
            "type": "scatterpolargl"
           }
          ],
          "scatterternary": [
           {
            "marker": {
             "colorbar": {
              "outlinewidth": 0,
              "ticks": ""
             }
            },
            "type": "scatterternary"
           }
          ],
          "surface": [
           {
            "colorbar": {
             "outlinewidth": 0,
             "ticks": ""
            },
            "colorscale": [
             [
              0,
              "#0d0887"
             ],
             [
              0.1111111111111111,
              "#46039f"
             ],
             [
              0.2222222222222222,
              "#7201a8"
             ],
             [
              0.3333333333333333,
              "#9c179e"
             ],
             [
              0.4444444444444444,
              "#bd3786"
             ],
             [
              0.5555555555555556,
              "#d8576b"
             ],
             [
              0.6666666666666666,
              "#ed7953"
             ],
             [
              0.7777777777777778,
              "#fb9f3a"
             ],
             [
              0.8888888888888888,
              "#fdca26"
             ],
             [
              1,
              "#f0f921"
             ]
            ],
            "type": "surface"
           }
          ],
          "table": [
           {
            "cells": {
             "fill": {
              "color": "#EBF0F8"
             },
             "line": {
              "color": "white"
             }
            },
            "header": {
             "fill": {
              "color": "#C8D4E3"
             },
             "line": {
              "color": "white"
             }
            },
            "type": "table"
           }
          ]
         },
         "layout": {
          "annotationdefaults": {
           "arrowcolor": "#2a3f5f",
           "arrowhead": 0,
           "arrowwidth": 1
          },
          "autotypenumbers": "strict",
          "coloraxis": {
           "colorbar": {
            "outlinewidth": 0,
            "ticks": ""
           }
          },
          "colorscale": {
           "diverging": [
            [
             0,
             "#8e0152"
            ],
            [
             0.1,
             "#c51b7d"
            ],
            [
             0.2,
             "#de77ae"
            ],
            [
             0.3,
             "#f1b6da"
            ],
            [
             0.4,
             "#fde0ef"
            ],
            [
             0.5,
             "#f7f7f7"
            ],
            [
             0.6,
             "#e6f5d0"
            ],
            [
             0.7,
             "#b8e186"
            ],
            [
             0.8,
             "#7fbc41"
            ],
            [
             0.9,
             "#4d9221"
            ],
            [
             1,
             "#276419"
            ]
           ],
           "sequential": [
            [
             0,
             "#0d0887"
            ],
            [
             0.1111111111111111,
             "#46039f"
            ],
            [
             0.2222222222222222,
             "#7201a8"
            ],
            [
             0.3333333333333333,
             "#9c179e"
            ],
            [
             0.4444444444444444,
             "#bd3786"
            ],
            [
             0.5555555555555556,
             "#d8576b"
            ],
            [
             0.6666666666666666,
             "#ed7953"
            ],
            [
             0.7777777777777778,
             "#fb9f3a"
            ],
            [
             0.8888888888888888,
             "#fdca26"
            ],
            [
             1,
             "#f0f921"
            ]
           ],
           "sequentialminus": [
            [
             0,
             "#0d0887"
            ],
            [
             0.1111111111111111,
             "#46039f"
            ],
            [
             0.2222222222222222,
             "#7201a8"
            ],
            [
             0.3333333333333333,
             "#9c179e"
            ],
            [
             0.4444444444444444,
             "#bd3786"
            ],
            [
             0.5555555555555556,
             "#d8576b"
            ],
            [
             0.6666666666666666,
             "#ed7953"
            ],
            [
             0.7777777777777778,
             "#fb9f3a"
            ],
            [
             0.8888888888888888,
             "#fdca26"
            ],
            [
             1,
             "#f0f921"
            ]
           ]
          },
          "colorway": [
           "#636efa",
           "#EF553B",
           "#00cc96",
           "#ab63fa",
           "#FFA15A",
           "#19d3f3",
           "#FF6692",
           "#B6E880",
           "#FF97FF",
           "#FECB52"
          ],
          "font": {
           "color": "#2a3f5f"
          },
          "geo": {
           "bgcolor": "white",
           "lakecolor": "white",
           "landcolor": "#E5ECF6",
           "showlakes": true,
           "showland": true,
           "subunitcolor": "white"
          },
          "hoverlabel": {
           "align": "left"
          },
          "hovermode": "closest",
          "mapbox": {
           "style": "light"
          },
          "paper_bgcolor": "white",
          "plot_bgcolor": "#E5ECF6",
          "polar": {
           "angularaxis": {
            "gridcolor": "white",
            "linecolor": "white",
            "ticks": ""
           },
           "bgcolor": "#E5ECF6",
           "radialaxis": {
            "gridcolor": "white",
            "linecolor": "white",
            "ticks": ""
           }
          },
          "scene": {
           "xaxis": {
            "backgroundcolor": "#E5ECF6",
            "gridcolor": "white",
            "gridwidth": 2,
            "linecolor": "white",
            "showbackground": true,
            "ticks": "",
            "zerolinecolor": "white"
           },
           "yaxis": {
            "backgroundcolor": "#E5ECF6",
            "gridcolor": "white",
            "gridwidth": 2,
            "linecolor": "white",
            "showbackground": true,
            "ticks": "",
            "zerolinecolor": "white"
           },
           "zaxis": {
            "backgroundcolor": "#E5ECF6",
            "gridcolor": "white",
            "gridwidth": 2,
            "linecolor": "white",
            "showbackground": true,
            "ticks": "",
            "zerolinecolor": "white"
           }
          },
          "shapedefaults": {
           "line": {
            "color": "#2a3f5f"
           }
          },
          "ternary": {
           "aaxis": {
            "gridcolor": "white",
            "linecolor": "white",
            "ticks": ""
           },
           "baxis": {
            "gridcolor": "white",
            "linecolor": "white",
            "ticks": ""
           },
           "bgcolor": "#E5ECF6",
           "caxis": {
            "gridcolor": "white",
            "linecolor": "white",
            "ticks": ""
           }
          },
          "title": {
           "x": 0.05
          },
          "xaxis": {
           "automargin": true,
           "gridcolor": "white",
           "linecolor": "white",
           "ticks": "",
           "title": {
            "standoff": 15
           },
           "zerolinecolor": "white",
           "zerolinewidth": 2
          },
          "yaxis": {
           "automargin": true,
           "gridcolor": "white",
           "linecolor": "white",
           "ticks": "",
           "title": {
            "standoff": 15
           },
           "zerolinecolor": "white",
           "zerolinewidth": 2
          }
         }
        },
        "title": {
         "text": "Cummulative Returns HLZ.MC for 2025"
        },
        "width": 1300,
        "xaxis": {
         "anchor": "y",
         "domain": [
          0,
          1
         ]
        },
        "yaxis": {
         "anchor": "x",
         "domain": [
          0,
          1
         ],
         "title": {
          "text": "Return"
         }
        }
       }
      },
      "text/html": [
       "<div>            <script src=\"https://cdnjs.cloudflare.com/ajax/libs/mathjax/2.7.5/MathJax.js?config=TeX-AMS-MML_SVG\"></script><script type=\"text/javascript\">if (window.MathJax && window.MathJax.Hub && window.MathJax.Hub.Config) {window.MathJax.Hub.Config({SVG: {font: \"STIX-Web\"}});}</script>                <script type=\"text/javascript\">window.PlotlyConfig = {MathJaxConfig: 'local'};</script>\n",
       "        <script charset=\"utf-8\" src=\"https://cdn.plot.ly/plotly-3.0.0.min.js\"></script>                <div id=\"31e79a86-ae35-4ade-a5bc-8e075a24247f\" class=\"plotly-graph-div\" style=\"height:800px; width:1300px;\"></div>            <script type=\"text/javascript\">                window.PLOTLYENV=window.PLOTLYENV || {};                                if (document.getElementById(\"31e79a86-ae35-4ade-a5bc-8e075a24247f\")) {                    Plotly.newPlot(                        \"31e79a86-ae35-4ade-a5bc-8e075a24247f\",                        [{\"mode\":\"lines\",\"name\":\"AGIL\",\"x\":[\"2025-01-02T00:00:00.000000000\",\"2025-01-03T00:00:00.000000000\",\"2025-01-06T00:00:00.000000000\",\"2025-01-07T00:00:00.000000000\",\"2025-01-08T00:00:00.000000000\",\"2025-01-09T00:00:00.000000000\",\"2025-01-10T00:00:00.000000000\",\"2025-01-13T00:00:00.000000000\",\"2025-01-14T00:00:00.000000000\",\"2025-01-15T00:00:00.000000000\",\"2025-01-16T00:00:00.000000000\",\"2025-01-17T00:00:00.000000000\",\"2025-01-20T00:00:00.000000000\",\"2025-01-21T00:00:00.000000000\",\"2025-01-22T00:00:00.000000000\",\"2025-01-23T00:00:00.000000000\",\"2025-01-24T00:00:00.000000000\",\"2025-01-27T00:00:00.000000000\",\"2025-01-28T00:00:00.000000000\",\"2025-01-29T00:00:00.000000000\",\"2025-01-30T00:00:00.000000000\",\"2025-01-31T00:00:00.000000000\",\"2025-02-03T00:00:00.000000000\",\"2025-02-04T00:00:00.000000000\",\"2025-02-05T00:00:00.000000000\",\"2025-02-06T00:00:00.000000000\",\"2025-02-07T00:00:00.000000000\",\"2025-02-10T00:00:00.000000000\",\"2025-02-11T00:00:00.000000000\",\"2025-02-12T00:00:00.000000000\",\"2025-02-13T00:00:00.000000000\",\"2025-02-14T00:00:00.000000000\",\"2025-02-17T00:00:00.000000000\",\"2025-02-18T00:00:00.000000000\",\"2025-02-19T00:00:00.000000000\",\"2025-02-20T00:00:00.000000000\",\"2025-02-21T00:00:00.000000000\",\"2025-02-24T00:00:00.000000000\",\"2025-02-25T00:00:00.000000000\",\"2025-02-26T00:00:00.000000000\",\"2025-02-27T00:00:00.000000000\",\"2025-02-28T00:00:00.000000000\",\"2025-03-03T00:00:00.000000000\",\"2025-03-04T00:00:00.000000000\",\"2025-03-05T00:00:00.000000000\",\"2025-03-06T00:00:00.000000000\",\"2025-03-07T00:00:00.000000000\",\"2025-03-10T00:00:00.000000000\",\"2025-03-11T00:00:00.000000000\",\"2025-03-12T00:00:00.000000000\",\"2025-03-13T00:00:00.000000000\",\"2025-03-14T00:00:00.000000000\",\"2025-03-17T00:00:00.000000000\",\"2025-03-18T00:00:00.000000000\",\"2025-03-19T00:00:00.000000000\",\"2025-03-20T00:00:00.000000000\",\"2025-03-21T00:00:00.000000000\",\"2025-03-24T00:00:00.000000000\",\"2025-03-25T00:00:00.000000000\",\"2025-03-26T00:00:00.000000000\",\"2025-03-27T00:00:00.000000000\",\"2025-03-28T00:00:00.000000000\",\"2025-03-31T00:00:00.000000000\",\"2025-04-01T00:00:00.000000000\",\"2025-04-02T00:00:00.000000000\",\"2025-04-03T00:00:00.000000000\",\"2025-04-04T00:00:00.000000000\",\"2025-04-07T00:00:00.000000000\",\"2025-04-08T00:00:00.000000000\",\"2025-04-09T00:00:00.000000000\",\"2025-04-10T00:00:00.000000000\",\"2025-04-11T00:00:00.000000000\",\"2025-04-14T00:00:00.000000000\",\"2025-04-15T00:00:00.000000000\",\"2025-04-16T00:00:00.000000000\",\"2025-04-17T00:00:00.000000000\"],\"y\":{\"dtype\":\"f8\",\"bdata\":\"AAAAAAAAAADkJW0LC4n2Pwy55z0Ciea\\u002fDLnnPQKJ5r\\u002fkJW0LC4n2Pwy55z0Cifa\\u002fDLnnPQKJ9r+AgTAVxuYAQHALBrkkWhlAgIEwFcbmAECouOc9AonmP4CBMBXG5gBAgIEwFcbmAECAgTAVxuYAQOQlbQsLifY\\u002fgIEwFcbmAEDUXSQ0RysMQKi45z0CieY\\u002fDLnnPQKJ5r9Pp2HNQisMwOrBKvbhtxPAycptrsHmAMDqwSr24bcTwOrBKvbhtxPA6sEq9uG3E8DJym2uweYAwOrBKvbhtxPA6sEq9uG3E8DqwSr24bcTwKb5f0hl\\u002fB7AOOJ2e5PxJ8D18\\u002fzrUk8iwIZv2w\\u002fjtyPA9fP861JPIsBZ2TPDs8IqwHvQ8ArUky3AyF1VnyNaKcA44nZ7k\\u002fEnwL0x7P2aAzPAOOJ2e5PxJ8A44nZ7k\\u002fEnwDjidnuT8SfApvl\\u002fSGX8HsCnZphXA4kmwOrBKvbhtxPA6sEq9uG3E8BPp2HNQisMwE+nYc1CKwzADLnnPQKJ5r9Pp2HNQisMwAy55z0Cifa\\u002fycptrsHmAMCouOc9AonmPwy55z0CiQbADLnnPQKJ9r8Muec9Aonmv8nKba7B5gDA6sEq9uG3E8AMuec9AokGwOrBKvbhtxPA6sEq9uG3E8DqwSr24bcTwOrBKvbhtxPADLnnPQKJBsAMuec9AokGwAy55z0CiQbA6sEq9uG3E8BkeB7IwuYgwGR4HsjC5iDAZHgeyMLmIMBkeB7IwuYgwGR4HsjC5iDAOOJ2e5PxJ8CGb9sP47cjwIZv2w\\u002fjtyPAhm\\u002fbD+O3I8A=\"},\"type\":\"scatter\",\"xaxis\":\"x\",\"yaxis\":\"y\"},{\"mode\":\"lines\",\"name\":\"COM\",\"x\":[\"2025-01-02T00:00:00.000000000\",\"2025-01-03T00:00:00.000000000\",\"2025-01-06T00:00:00.000000000\",\"2025-01-07T00:00:00.000000000\",\"2025-01-08T00:00:00.000000000\",\"2025-01-09T00:00:00.000000000\",\"2025-01-10T00:00:00.000000000\",\"2025-01-13T00:00:00.000000000\",\"2025-01-14T00:00:00.000000000\",\"2025-01-15T00:00:00.000000000\",\"2025-01-16T00:00:00.000000000\",\"2025-01-17T00:00:00.000000000\",\"2025-01-20T00:00:00.000000000\",\"2025-01-21T00:00:00.000000000\",\"2025-01-22T00:00:00.000000000\",\"2025-01-23T00:00:00.000000000\",\"2025-01-24T00:00:00.000000000\",\"2025-01-27T00:00:00.000000000\",\"2025-01-28T00:00:00.000000000\",\"2025-01-29T00:00:00.000000000\",\"2025-01-30T00:00:00.000000000\",\"2025-01-31T00:00:00.000000000\",\"2025-02-03T00:00:00.000000000\",\"2025-02-04T00:00:00.000000000\",\"2025-02-05T00:00:00.000000000\",\"2025-02-06T00:00:00.000000000\",\"2025-02-07T00:00:00.000000000\",\"2025-02-10T00:00:00.000000000\",\"2025-02-11T00:00:00.000000000\",\"2025-02-12T00:00:00.000000000\",\"2025-02-13T00:00:00.000000000\",\"2025-02-14T00:00:00.000000000\",\"2025-02-17T00:00:00.000000000\",\"2025-02-18T00:00:00.000000000\",\"2025-02-19T00:00:00.000000000\",\"2025-02-20T00:00:00.000000000\",\"2025-02-21T00:00:00.000000000\",\"2025-02-24T00:00:00.000000000\",\"2025-02-25T00:00:00.000000000\",\"2025-02-26T00:00:00.000000000\",\"2025-02-27T00:00:00.000000000\",\"2025-02-28T00:00:00.000000000\",\"2025-03-03T00:00:00.000000000\",\"2025-03-04T00:00:00.000000000\",\"2025-03-05T00:00:00.000000000\",\"2025-03-06T00:00:00.000000000\",\"2025-03-07T00:00:00.000000000\",\"2025-03-10T00:00:00.000000000\",\"2025-03-11T00:00:00.000000000\",\"2025-03-12T00:00:00.000000000\",\"2025-03-13T00:00:00.000000000\",\"2025-03-14T00:00:00.000000000\",\"2025-03-17T00:00:00.000000000\",\"2025-03-18T00:00:00.000000000\",\"2025-03-19T00:00:00.000000000\",\"2025-03-20T00:00:00.000000000\",\"2025-03-21T00:00:00.000000000\",\"2025-03-24T00:00:00.000000000\",\"2025-03-25T00:00:00.000000000\",\"2025-03-26T00:00:00.000000000\",\"2025-03-27T00:00:00.000000000\",\"2025-03-28T00:00:00.000000000\",\"2025-03-31T00:00:00.000000000\",\"2025-04-01T00:00:00.000000000\",\"2025-04-02T00:00:00.000000000\",\"2025-04-03T00:00:00.000000000\",\"2025-04-04T00:00:00.000000000\",\"2025-04-07T00:00:00.000000000\",\"2025-04-08T00:00:00.000000000\",\"2025-04-09T00:00:00.000000000\",\"2025-04-10T00:00:00.000000000\",\"2025-04-11T00:00:00.000000000\",\"2025-04-14T00:00:00.000000000\",\"2025-04-15T00:00:00.000000000\",\"2025-04-16T00:00:00.000000000\",\"2025-04-17T00:00:00.000000000\"],\"y\":{\"dtype\":\"f8\",\"bdata\":\"AAAAAAAAAAA3ISHndw0VQDchIed3DRVANyEh53cNFUA3ISHndw0VQDchIed3DRVAeLjcdWQP6D9mdGcLkAsCwGZ0ZwuQCwLAZnRnC5ALAsBmdGcLkAsCwHi43HVkD+g\\u002fZnRnC5ALAsBmdGcLkAsCwISi3ihpDwjAVH\\u002fmsY0LEsBUf+axjQsSwFR\\u002f5rGNCxLAVhaiQHoNFcCJ0FVGQhMOwFYWokB6DRXAVH\\u002fmsY0LEsCJ0FVGQhMOwISi3ihpDwjAZOZTkz0TDkCI6tSoB8wyQEzQg8yCjCNATmc\\u002fW2+OJkDEBCaFjAsiQIjq1KgHzDJAD7Yy8P1MNEBOZz9bb44mQG4scgc1lC9AXf766VuQKUD7+2enlYowQE5nP1tvjiZA1jKdomUPKEBM0IPMgowjQNYynaJlDyhA1jKdomUPKEBOZz9bb44mQEzQg8yCjCNARrjcdWQPCEDTm+ETeQ0lQNOb4RN5DSVAZOZTkz0TDkAoimVYiwsCQGWtXc9mDxjAZa1dz2YPGMBWFqJAeg0VwEM5yD2WiiDAdtvU7D8THsB0RBleUxEbwFR\\u002f5rGNCxLAVH\\u002fmsY0LEsDCjODbbQ\\u002f4v3i43HVkD+i\\u002feLjcdWQP6D94uNx1ZA\\u002foP3i43HVkD+i\\u002fZOZTkz0TDkAAAAAAAAAAAFR\\u002f5rGNCxLAVH\\u002fmsY0LEsCJ0FVGQhMOwGWtXc9mDyjAzZvhE3kNJcDk4f+HcI4mwGWtXc9mDxjAdEQZXlMRG8CJ0FVGQhMOwGWtXc9mDxjAVhaiQHoNFcB0RBleUxEbwHREGV5TERvAdEQZXlMRG8A=\"},\"type\":\"scatter\",\"xaxis\":\"x\",\"yaxis\":\"y\"},{\"mode\":\"lines\",\"name\":\"EIDF\",\"x\":[\"2025-01-02T00:00:00.000000000\",\"2025-01-03T00:00:00.000000000\",\"2025-01-06T00:00:00.000000000\",\"2025-01-07T00:00:00.000000000\",\"2025-01-08T00:00:00.000000000\",\"2025-01-09T00:00:00.000000000\",\"2025-01-10T00:00:00.000000000\",\"2025-01-13T00:00:00.000000000\",\"2025-01-14T00:00:00.000000000\",\"2025-01-15T00:00:00.000000000\",\"2025-01-16T00:00:00.000000000\",\"2025-01-17T00:00:00.000000000\",\"2025-01-20T00:00:00.000000000\",\"2025-01-21T00:00:00.000000000\",\"2025-01-22T00:00:00.000000000\",\"2025-01-23T00:00:00.000000000\",\"2025-01-24T00:00:00.000000000\",\"2025-01-27T00:00:00.000000000\",\"2025-01-28T00:00:00.000000000\",\"2025-01-29T00:00:00.000000000\",\"2025-01-30T00:00:00.000000000\",\"2025-01-31T00:00:00.000000000\",\"2025-02-03T00:00:00.000000000\",\"2025-02-04T00:00:00.000000000\",\"2025-02-05T00:00:00.000000000\",\"2025-02-06T00:00:00.000000000\",\"2025-02-07T00:00:00.000000000\",\"2025-02-10T00:00:00.000000000\",\"2025-02-11T00:00:00.000000000\",\"2025-02-12T00:00:00.000000000\",\"2025-02-13T00:00:00.000000000\",\"2025-02-14T00:00:00.000000000\",\"2025-02-17T00:00:00.000000000\",\"2025-02-18T00:00:00.000000000\",\"2025-02-19T00:00:00.000000000\",\"2025-02-20T00:00:00.000000000\",\"2025-02-21T00:00:00.000000000\",\"2025-02-24T00:00:00.000000000\",\"2025-02-25T00:00:00.000000000\",\"2025-02-26T00:00:00.000000000\",\"2025-02-27T00:00:00.000000000\",\"2025-02-28T00:00:00.000000000\",\"2025-03-03T00:00:00.000000000\",\"2025-03-04T00:00:00.000000000\",\"2025-03-05T00:00:00.000000000\",\"2025-03-06T00:00:00.000000000\",\"2025-03-07T00:00:00.000000000\",\"2025-03-10T00:00:00.000000000\",\"2025-03-11T00:00:00.000000000\",\"2025-03-12T00:00:00.000000000\",\"2025-03-13T00:00:00.000000000\",\"2025-03-14T00:00:00.000000000\",\"2025-03-17T00:00:00.000000000\",\"2025-03-18T00:00:00.000000000\",\"2025-03-19T00:00:00.000000000\",\"2025-03-20T00:00:00.000000000\",\"2025-03-21T00:00:00.000000000\",\"2025-03-24T00:00:00.000000000\",\"2025-03-25T00:00:00.000000000\",\"2025-03-26T00:00:00.000000000\",\"2025-03-27T00:00:00.000000000\",\"2025-03-28T00:00:00.000000000\",\"2025-03-31T00:00:00.000000000\",\"2025-04-01T00:00:00.000000000\",\"2025-04-02T00:00:00.000000000\",\"2025-04-03T00:00:00.000000000\",\"2025-04-04T00:00:00.000000000\",\"2025-04-07T00:00:00.000000000\",\"2025-04-08T00:00:00.000000000\",\"2025-04-09T00:00:00.000000000\",\"2025-04-10T00:00:00.000000000\",\"2025-04-11T00:00:00.000000000\",\"2025-04-14T00:00:00.000000000\",\"2025-04-15T00:00:00.000000000\",\"2025-04-16T00:00:00.000000000\",\"2025-04-17T00:00:00.000000000\"],\"y\":{\"dtype\":\"f8\",\"bdata\":\"AAAAAAAAAAAi\\u002fgethbHxv\\u002fDF0RJkEQ3ArPUWoImxAcAMVMU33M37P6JUxTfczQtAPEGx4pQQJ0A7vBv9KLMtQO6M7NrQpS5A0l3TI0YrJUCog0wwY9okQMCpJIdPUyJA8JYXpqhgIUDYcD9PvOcjQNJd0yNGKyVAeC6kAe4dJkDqg6t6MqQiQESz2pyKsSFAuryQssUPEUCog0wwY9okQOKM7NrQpT5AiaIW3O9nRUB2wymoiJ5KQDoP8FUr\\u002fUxA1Zzcm\\u002f\\u002fIUECSO3eipHFSQFrtfdS\\u002f1lJANh9KYY6gUEBfU75YON1QQDYfSmGOoFBADOvVaeRjUED+WrYDzltPQHMab9Zw8VBAtAU6QPCeTUDIcv25YcdNQOSmB2fXg0xAgh2B9oMKTEDVPn7CUtRJQLJ3Y\\u002frlP0hAlPxtKuvTRkD6hfSaPk1HQImiFtzvZ0VAqKvi8fQyTEDoDEjrT4pKQLJ3Y\\u002frlP0hAEfO3FLB1R0DVPn7CUtRJQKir4vH0MkxAgh2B9oMKTEDkpgdn14NMQMkrEpfcF0tAv1+RjusKT0D+WrYDzltPQG1tQy9zO1BA\\u002flq2A85bT0DP77D0ARNQQGz3qJ+XkU5AqKvi8fQyTEAROqM3NSVKQDMb2Yuol0lAenBVT4ZUS0D8zN+9w\\u002fxJQPC5c5JNQEtAarC9fBLiS0DJKxKX3BdLQG4W\\u002fgCL6ElAEfO3FLB1R0BBlIU7l1pGQFSbCDGQfEhAizDtIfrGSkCyd2P65T9IQNU+fsJS1ElA3wr\\u002fykPhRUD6hfSaPk1HQLuKzyVc\\u002fEZAD6zM8SrGREA=\"},\"type\":\"scatter\",\"xaxis\":\"x\",\"yaxis\":\"y\"},{\"mode\":\"lines\",\"name\":\"ELZ\",\"x\":[\"2025-01-02T00:00:00.000000000\",\"2025-01-03T00:00:00.000000000\",\"2025-01-06T00:00:00.000000000\",\"2025-01-07T00:00:00.000000000\",\"2025-01-08T00:00:00.000000000\",\"2025-01-09T00:00:00.000000000\",\"2025-01-10T00:00:00.000000000\",\"2025-01-13T00:00:00.000000000\",\"2025-01-14T00:00:00.000000000\",\"2025-01-15T00:00:00.000000000\",\"2025-01-16T00:00:00.000000000\",\"2025-01-17T00:00:00.000000000\",\"2025-01-20T00:00:00.000000000\",\"2025-01-21T00:00:00.000000000\",\"2025-01-22T00:00:00.000000000\",\"2025-01-23T00:00:00.000000000\",\"2025-01-24T00:00:00.000000000\",\"2025-01-27T00:00:00.000000000\",\"2025-01-28T00:00:00.000000000\",\"2025-01-29T00:00:00.000000000\",\"2025-01-30T00:00:00.000000000\",\"2025-01-31T00:00:00.000000000\",\"2025-02-03T00:00:00.000000000\",\"2025-02-04T00:00:00.000000000\",\"2025-02-05T00:00:00.000000000\",\"2025-02-06T00:00:00.000000000\",\"2025-02-07T00:00:00.000000000\",\"2025-02-10T00:00:00.000000000\",\"2025-02-11T00:00:00.000000000\",\"2025-02-12T00:00:00.000000000\",\"2025-02-13T00:00:00.000000000\",\"2025-02-14T00:00:00.000000000\",\"2025-02-17T00:00:00.000000000\",\"2025-02-18T00:00:00.000000000\",\"2025-02-19T00:00:00.000000000\",\"2025-02-20T00:00:00.000000000\",\"2025-02-21T00:00:00.000000000\",\"2025-02-24T00:00:00.000000000\",\"2025-02-25T00:00:00.000000000\",\"2025-02-26T00:00:00.000000000\",\"2025-02-27T00:00:00.000000000\",\"2025-02-28T00:00:00.000000000\",\"2025-03-03T00:00:00.000000000\",\"2025-03-04T00:00:00.000000000\",\"2025-03-05T00:00:00.000000000\",\"2025-03-06T00:00:00.000000000\",\"2025-03-07T00:00:00.000000000\",\"2025-03-10T00:00:00.000000000\",\"2025-03-11T00:00:00.000000000\",\"2025-03-12T00:00:00.000000000\",\"2025-03-13T00:00:00.000000000\",\"2025-03-14T00:00:00.000000000\",\"2025-03-17T00:00:00.000000000\",\"2025-03-18T00:00:00.000000000\",\"2025-03-19T00:00:00.000000000\",\"2025-03-20T00:00:00.000000000\",\"2025-03-21T00:00:00.000000000\",\"2025-03-24T00:00:00.000000000\",\"2025-03-25T00:00:00.000000000\",\"2025-03-26T00:00:00.000000000\",\"2025-03-27T00:00:00.000000000\",\"2025-03-28T00:00:00.000000000\",\"2025-03-31T00:00:00.000000000\",\"2025-04-01T00:00:00.000000000\",\"2025-04-02T00:00:00.000000000\",\"2025-04-03T00:00:00.000000000\",\"2025-04-04T00:00:00.000000000\",\"2025-04-07T00:00:00.000000000\",\"2025-04-08T00:00:00.000000000\",\"2025-04-09T00:00:00.000000000\",\"2025-04-10T00:00:00.000000000\",\"2025-04-11T00:00:00.000000000\",\"2025-04-14T00:00:00.000000000\",\"2025-04-15T00:00:00.000000000\",\"2025-04-16T00:00:00.000000000\",\"2025-04-17T00:00:00.000000000\"],\"y\":{\"dtype\":\"f8\",\"bdata\":\"AAAAAAAAAADA7RaOOosRwCRCuJJ5DTXA1FT7LMprQsB\\u002f+5AIAMBCwBhmME55DUXAZGpysbPYQ8CNMr5+MZ1EwAfzDEKLKUXAjTK+fjGdRMB2zUGBzmI9QMcNenrFNEpA56Nh8ZxFRUAIBckfiyk1QIv0AsPWUBpAmWqfRXlNS0DWy\\u002fp3vOZDQBzuNyZVtUFAHO43JlW1QUADErzd\\u002f\\u002f84QP0er5t01jxAWhCB0JjONkCXULnJj6BDQAgW0ax0VkBAztjtNTG9R0BBlHPZ\\u002fx9MQNjl4POlk0tAxw16esU0SkCXULnJj6BDQAsMP21eA0hAvACHvFBeRkD7e8hqfaRGQFNS9Nb20UVAvACHvFBeRkDWy\\u002fp3vOZDQOejYfGcRUVAKa8ZoqrqRkCtQga\\u002fWaxMQMcNenrFNEpAFdeyKMqLRUAprxmiqupGQFNS9Nb20UVAfvXOC0O5REAE\\u002f0uv6SxEQPRu1awIzkJArCggQ3D\\u002fRECsKCBDcP9EQHbNQYHOYj1ApHUqYsF9JUDisFSvERxJQOejYfGcRUVAdcRjks7iQEAfz3yONZQ\\u002fQMXzk\\u002f7bh0JAxfOT\\u002ftuHQkChGy2F+yhBQHbNQYHOYj1A3nL2dyhvQUDecvZ3KG9BQFQddI4NpTpAVB10jg2lOkB2zUGBzmI9QNVu4aizGDpA\\u002fR6vm3TWPEC4BgQt8lo3QHzATsNZjDlA5jLrEvcRLEBSv1XmJ68nQPCQlD4V0x1Awbvfy1lME0CQVjY6MZ00QAMSvN3\\u002f\\u002fzhAkFY2OjGdNECZjxDeqiotQJVJQ3y8xjBAbqZoR3DfMUA=\"},\"type\":\"scatter\",\"xaxis\":\"x\",\"yaxis\":\"y\"},{\"mode\":\"lines\",\"name\":\"END\",\"x\":[\"2025-01-02T00:00:00.000000000\",\"2025-01-03T00:00:00.000000000\",\"2025-01-06T00:00:00.000000000\",\"2025-01-07T00:00:00.000000000\",\"2025-01-08T00:00:00.000000000\",\"2025-01-09T00:00:00.000000000\",\"2025-01-10T00:00:00.000000000\",\"2025-01-13T00:00:00.000000000\",\"2025-01-14T00:00:00.000000000\",\"2025-01-15T00:00:00.000000000\",\"2025-01-16T00:00:00.000000000\",\"2025-01-17T00:00:00.000000000\",\"2025-01-20T00:00:00.000000000\",\"2025-01-21T00:00:00.000000000\",\"2025-01-22T00:00:00.000000000\",\"2025-01-23T00:00:00.000000000\",\"2025-01-24T00:00:00.000000000\",\"2025-01-27T00:00:00.000000000\",\"2025-01-28T00:00:00.000000000\",\"2025-01-29T00:00:00.000000000\",\"2025-01-30T00:00:00.000000000\",\"2025-01-31T00:00:00.000000000\",\"2025-02-03T00:00:00.000000000\",\"2025-02-04T00:00:00.000000000\",\"2025-02-05T00:00:00.000000000\",\"2025-02-06T00:00:00.000000000\",\"2025-02-07T00:00:00.000000000\",\"2025-02-10T00:00:00.000000000\",\"2025-02-11T00:00:00.000000000\",\"2025-02-12T00:00:00.000000000\",\"2025-02-13T00:00:00.000000000\",\"2025-02-14T00:00:00.000000000\",\"2025-02-17T00:00:00.000000000\",\"2025-02-18T00:00:00.000000000\",\"2025-02-19T00:00:00.000000000\",\"2025-02-20T00:00:00.000000000\",\"2025-02-21T00:00:00.000000000\",\"2025-02-24T00:00:00.000000000\",\"2025-02-25T00:00:00.000000000\",\"2025-02-26T00:00:00.000000000\",\"2025-02-27T00:00:00.000000000\",\"2025-02-28T00:00:00.000000000\",\"2025-03-03T00:00:00.000000000\",\"2025-03-04T00:00:00.000000000\",\"2025-03-05T00:00:00.000000000\",\"2025-03-06T00:00:00.000000000\",\"2025-03-07T00:00:00.000000000\",\"2025-03-10T00:00:00.000000000\",\"2025-03-11T00:00:00.000000000\",\"2025-03-12T00:00:00.000000000\",\"2025-03-13T00:00:00.000000000\",\"2025-03-14T00:00:00.000000000\",\"2025-03-17T00:00:00.000000000\",\"2025-03-18T00:00:00.000000000\",\"2025-03-19T00:00:00.000000000\",\"2025-03-20T00:00:00.000000000\",\"2025-03-21T00:00:00.000000000\",\"2025-03-24T00:00:00.000000000\",\"2025-03-25T00:00:00.000000000\",\"2025-03-26T00:00:00.000000000\",\"2025-03-27T00:00:00.000000000\",\"2025-03-28T00:00:00.000000000\",\"2025-03-31T00:00:00.000000000\",\"2025-04-01T00:00:00.000000000\",\"2025-04-02T00:00:00.000000000\",\"2025-04-03T00:00:00.000000000\",\"2025-04-04T00:00:00.000000000\",\"2025-04-07T00:00:00.000000000\",\"2025-04-08T00:00:00.000000000\",\"2025-04-09T00:00:00.000000000\",\"2025-04-10T00:00:00.000000000\",\"2025-04-11T00:00:00.000000000\",\"2025-04-14T00:00:00.000000000\",\"2025-04-15T00:00:00.000000000\",\"2025-04-16T00:00:00.000000000\",\"2025-04-17T00:00:00.000000000\"],\"y\":{\"dtype\":\"f8\",\"bdata\":\"AAAAAAAAAACu6646PlkCQK7rrjo+WQJAruuuOj5ZAkDYEkvEllvtv\\u002fBNOBOxBPY\\u002f2BJLxJZbDUDYEkvEllv9P9gSS8SWW\\u002f0\\u002f2BJLxJZb\\u002fT\\u002fwTTgTsQT2PyJOOBOxBAZAIk44E7EEBkDwTTgTsQT2P8frrjo+WRJA2BJLxJZb\\u002fT+NOmrOhIMQQH2wwesjsBlATN+nqT9ZIkAiTjgTsQQWQGSwwesjsAlAZLDB6yOwCUAAAAAAAAAAADYcHM+2BAbANhwcz7YEBsAiTjgTsQT2v9gSS8SWW+2\\u002fIk44E7EE9r+u6646PlkCQNgSS8SWW\\u002f0\\u002f2BJLxJZbHUBM36epP1kiQKTg9+Dz+DBAg2Ur8j5ZMkBdBkQzmFstQAKkulolsClAg2Ur8j5ZMkBdBkQzmFstQCC+TagbRDNAXQZEM5hbLUDzDAk8Ym4xQNTyde5r2idAAqS6WiWwKUBlS5ikSMUoQGVLmKRIxShAXQZEM5hbLUBctOaFhYMwQDBV\\u002f8behStAMFX\\u002fxt6FK0ACpLpaJbApQPnDjzBQMR9AepDsFfkuJEB9sMHrI7AZQCqTjIRhbiFA3DfKXxxEI0DcN8pfHEQjQNw3yl8cRCNA3DfKXxxEI0DcN8pfHEQjQNw3yl8cRCNA3DfKXxxEI0B9sMHrI7AZQPnDjzBQMR9AmjpqzoSDIEBD\\u002f3x\\u002fatoXQNgSS8SWW+0\\u002f2BJLxJZb\\u002fb\\u002fs4C6AnFsNwJF+pacpsAnAkX6lpymwCcAiTjgTsQT2vyJOOBOxBPa\\u002fLDUq8bMEFsAsNSrxswQWwCJOOBOxBPa\\u002fNhwcz7YEBsA=\"},\"type\":\"scatter\",\"xaxis\":\"x\",\"yaxis\":\"y\"},{\"mode\":\"lines\",\"name\":\"FACE\",\"x\":[\"2025-01-02T00:00:00.000000000\",\"2025-01-03T00:00:00.000000000\",\"2025-01-06T00:00:00.000000000\",\"2025-01-07T00:00:00.000000000\",\"2025-01-08T00:00:00.000000000\",\"2025-01-09T00:00:00.000000000\",\"2025-01-10T00:00:00.000000000\",\"2025-01-13T00:00:00.000000000\",\"2025-01-14T00:00:00.000000000\",\"2025-01-15T00:00:00.000000000\",\"2025-01-16T00:00:00.000000000\",\"2025-01-17T00:00:00.000000000\",\"2025-01-20T00:00:00.000000000\",\"2025-01-21T00:00:00.000000000\",\"2025-01-22T00:00:00.000000000\",\"2025-01-23T00:00:00.000000000\",\"2025-01-24T00:00:00.000000000\",\"2025-01-27T00:00:00.000000000\",\"2025-01-28T00:00:00.000000000\",\"2025-01-29T00:00:00.000000000\",\"2025-01-30T00:00:00.000000000\",\"2025-01-31T00:00:00.000000000\",\"2025-02-03T00:00:00.000000000\",\"2025-02-04T00:00:00.000000000\",\"2025-02-05T00:00:00.000000000\",\"2025-02-06T00:00:00.000000000\",\"2025-02-07T00:00:00.000000000\",\"2025-02-10T00:00:00.000000000\",\"2025-02-11T00:00:00.000000000\",\"2025-02-12T00:00:00.000000000\",\"2025-02-13T00:00:00.000000000\",\"2025-02-14T00:00:00.000000000\",\"2025-02-17T00:00:00.000000000\",\"2025-02-18T00:00:00.000000000\",\"2025-02-19T00:00:00.000000000\",\"2025-02-20T00:00:00.000000000\",\"2025-02-21T00:00:00.000000000\",\"2025-02-24T00:00:00.000000000\",\"2025-02-25T00:00:00.000000000\",\"2025-02-26T00:00:00.000000000\",\"2025-02-27T00:00:00.000000000\",\"2025-02-28T00:00:00.000000000\",\"2025-03-03T00:00:00.000000000\",\"2025-03-04T00:00:00.000000000\",\"2025-03-05T00:00:00.000000000\",\"2025-03-06T00:00:00.000000000\",\"2025-03-07T00:00:00.000000000\",\"2025-03-10T00:00:00.000000000\",\"2025-03-11T00:00:00.000000000\",\"2025-03-12T00:00:00.000000000\",\"2025-03-13T00:00:00.000000000\",\"2025-03-14T00:00:00.000000000\",\"2025-03-17T00:00:00.000000000\",\"2025-03-18T00:00:00.000000000\",\"2025-03-19T00:00:00.000000000\",\"2025-03-20T00:00:00.000000000\",\"2025-03-21T00:00:00.000000000\",\"2025-03-24T00:00:00.000000000\",\"2025-03-25T00:00:00.000000000\",\"2025-03-26T00:00:00.000000000\",\"2025-03-27T00:00:00.000000000\",\"2025-03-28T00:00:00.000000000\",\"2025-03-31T00:00:00.000000000\",\"2025-04-01T00:00:00.000000000\",\"2025-04-02T00:00:00.000000000\",\"2025-04-03T00:00:00.000000000\",\"2025-04-04T00:00:00.000000000\",\"2025-04-07T00:00:00.000000000\",\"2025-04-08T00:00:00.000000000\",\"2025-04-09T00:00:00.000000000\",\"2025-04-10T00:00:00.000000000\",\"2025-04-11T00:00:00.000000000\",\"2025-04-14T00:00:00.000000000\",\"2025-04-15T00:00:00.000000000\",\"2025-04-16T00:00:00.000000000\",\"2025-04-17T00:00:00.000000000\"],\"y\":{\"dtype\":\"f8\",\"bdata\":\"AAAAAAAAAACwTDFgpcwNQAAAAAAAAAAA5v9gcTDsBkC6mARNvQsQQKAZURYCNwlA1syAJ41W8r+gGVEWAjcJQBgAYXEw7PY\\u002fEj8d\\u002fQ\\u002fyHkAg2aqxX6EkQBwf8e6JFCxA8NUMfQVYNECRr6QFy+cwQL3CWEHonzJAtehycIw1N0CyCJ9+EhM6QPDVDH0FWDRATeI2B9iiNkC16HJwjDU3QEoCYxVegDlAF++u2UDIN0BGIo8j5F08QOQbU7ovyztAdhUXUXs4O0BGIo8j5F08QEYijyPkXTxArijLjJjwPEDkG1O6L8s7QEYijyPkXTxArijLjJjwPECuKMuMmPA8QEoCYxVegDlAVbwc2DMNMkCRr6QFy+cwQPO14G5\\u002fejFA8NUMfQVYNEDw1Qx9BVg0QCXJlKqcMjNAvcJYQeifMkDw1Qx9BVg0QE3iNgfYojZAUEK7MWo7P0CGuqaZO3tCQILa0qfBWEVAH8SAN0pXQ0Dp0PgJs3xEQL6qt7bDeUBAvLrNvYboQUBXtJFU0lVBQPKtVesdw0BArijLjJjwPECuKMuMmPA8QK4oy4yY8DxARiKPI+RdPEDhO3\\u002fItag+QLq9RM6VxEJAuM1a1VgzREAa1JY+DcZEQPKtVesdw0BAUrcIZeExQkC4zVrVWDNEQLq9RM6VxEJAi7cviSyfQUC8us29huhBQIa6ppk7e0JAV7SRVNJVQUC+qre2w3lAQIqnGYJpMEBArijLjJjwPEDhO3\\u002fItag+QLy6zb2G6EFAhrqmmTt7QkBStwhl4TFCQFe0kVTSVUFAi7cviSyfQUA=\"},\"type\":\"scatter\",\"xaxis\":\"x\",\"yaxis\":\"y\"},{\"mode\":\"lines\",\"name\":\"GIGA\",\"x\":[\"2025-01-02T00:00:00.000000000\",\"2025-01-03T00:00:00.000000000\",\"2025-01-06T00:00:00.000000000\",\"2025-01-07T00:00:00.000000000\",\"2025-01-08T00:00:00.000000000\",\"2025-01-09T00:00:00.000000000\",\"2025-01-10T00:00:00.000000000\",\"2025-01-13T00:00:00.000000000\",\"2025-01-14T00:00:00.000000000\",\"2025-01-15T00:00:00.000000000\",\"2025-01-16T00:00:00.000000000\",\"2025-01-17T00:00:00.000000000\",\"2025-01-20T00:00:00.000000000\",\"2025-01-21T00:00:00.000000000\",\"2025-01-22T00:00:00.000000000\",\"2025-01-23T00:00:00.000000000\",\"2025-01-24T00:00:00.000000000\",\"2025-01-27T00:00:00.000000000\",\"2025-01-28T00:00:00.000000000\",\"2025-01-29T00:00:00.000000000\",\"2025-01-30T00:00:00.000000000\",\"2025-01-31T00:00:00.000000000\",\"2025-02-03T00:00:00.000000000\",\"2025-02-04T00:00:00.000000000\",\"2025-02-05T00:00:00.000000000\",\"2025-02-06T00:00:00.000000000\",\"2025-02-07T00:00:00.000000000\",\"2025-02-10T00:00:00.000000000\",\"2025-02-11T00:00:00.000000000\",\"2025-02-12T00:00:00.000000000\",\"2025-02-13T00:00:00.000000000\",\"2025-02-14T00:00:00.000000000\",\"2025-02-17T00:00:00.000000000\",\"2025-02-18T00:00:00.000000000\",\"2025-02-19T00:00:00.000000000\",\"2025-02-20T00:00:00.000000000\",\"2025-02-21T00:00:00.000000000\",\"2025-02-24T00:00:00.000000000\",\"2025-02-25T00:00:00.000000000\",\"2025-02-26T00:00:00.000000000\",\"2025-02-27T00:00:00.000000000\",\"2025-02-28T00:00:00.000000000\",\"2025-03-03T00:00:00.000000000\",\"2025-03-04T00:00:00.000000000\",\"2025-03-05T00:00:00.000000000\",\"2025-03-06T00:00:00.000000000\",\"2025-03-07T00:00:00.000000000\",\"2025-03-10T00:00:00.000000000\",\"2025-03-11T00:00:00.000000000\",\"2025-03-12T00:00:00.000000000\",\"2025-03-13T00:00:00.000000000\",\"2025-03-14T00:00:00.000000000\",\"2025-03-17T00:00:00.000000000\",\"2025-03-18T00:00:00.000000000\",\"2025-03-19T00:00:00.000000000\",\"2025-03-20T00:00:00.000000000\",\"2025-03-21T00:00:00.000000000\",\"2025-03-24T00:00:00.000000000\",\"2025-03-25T00:00:00.000000000\",\"2025-03-26T00:00:00.000000000\",\"2025-03-27T00:00:00.000000000\",\"2025-03-28T00:00:00.000000000\",\"2025-03-31T00:00:00.000000000\",\"2025-04-01T00:00:00.000000000\",\"2025-04-02T00:00:00.000000000\",\"2025-04-03T00:00:00.000000000\",\"2025-04-04T00:00:00.000000000\",\"2025-04-07T00:00:00.000000000\",\"2025-04-08T00:00:00.000000000\",\"2025-04-09T00:00:00.000000000\",\"2025-04-10T00:00:00.000000000\",\"2025-04-11T00:00:00.000000000\",\"2025-04-14T00:00:00.000000000\",\"2025-04-15T00:00:00.000000000\",\"2025-04-16T00:00:00.000000000\",\"2025-04-17T00:00:00.000000000\"],\"y\":{\"dtype\":\"f8\",\"bdata\":\"AAAAAAAAAAAAAAAAkyQBQAAAAACTJAFAdJIkSWzb9j9CkiRJbNv2v0KSJEls2\\u002fa\\u002fAAAAAJMkAcB827Ztc9vmvwAAAACTJBHAsm3bttq2GcCQJEkSbtsmwNm2bRuSJCHAIUmSJEmSHMCQJEmSt20fwCdJkqT\\u002f\\u002fyPA2bZtG5IkIcAhSZIkSZIcwCFJkiRJkhzAIUmSJEmSHMDZtm0bkiQhwJAkSRJu2ybA2bZtm9u2KcBw27attm0vwNm2bVsAAC7A2bZtWwAALsAnSZKk\\u002f\\u002f8jwEKSJEls2wbAIUmSpP\\u002f\\u002fE8AhSZKk\\u002f\\u002f8TwJAkSRJu2xbAkCRJEm7bFsCQJEkSbtsWwCFJkiRJkhzAkCRJkrdtH8CQJEmSt20fwCFJkiRJkhzAIUmSJEmSHMCQJElSSZIiwJAkSZK3bR\\u002fAkCRJkrdtH8AnSZKk\\u002f\\u002f8jwCdJkqT\\u002f\\u002fyPAIUmSJEmSHMAnSZKk\\u002f\\u002f8jwCdJkqT\\u002f\\u002fyPAJ0mSpP\\u002f\\u002fI8AnSZKk\\u002f\\u002f8jwCFJkiRJkhzAIUmSJEmSHMCQJElSSZIiwNm2bRuSJCHA2bZtG5IkIcDZtm0bkiQhwNm2bdu2bSXA2bZt27ZtJcAnSZKk\\u002f\\u002f8jwJAkSRJu2ybA2bZtm9u2KcBw27btkSQrwCdJkiRJkizAJ0mSZCRJKMAnSZJkJEkowCdJkmQkSSjAJ0mSJEmSLMBw27attm0vwJQkSfK2bTDAJ0mSJEmSLMC4bdu2bdsxwHDbtq22bS\\u002fAcNu2rbZtL8DZtm2b27YpwNm2bZvbtinAJ0mSZCRJKMCQJEkSbtsmwJAkSRJu2ybAkCRJEm7bJsA=\"},\"type\":\"scatter\",\"xaxis\":\"x\",\"yaxis\":\"y\"},{\"mode\":\"lines\",\"name\":\"HLZ\",\"x\":[\"2025-01-02T00:00:00.000000000\",\"2025-01-03T00:00:00.000000000\",\"2025-01-06T00:00:00.000000000\",\"2025-01-07T00:00:00.000000000\",\"2025-01-08T00:00:00.000000000\",\"2025-01-09T00:00:00.000000000\",\"2025-01-10T00:00:00.000000000\",\"2025-01-13T00:00:00.000000000\",\"2025-01-14T00:00:00.000000000\",\"2025-01-15T00:00:00.000000000\",\"2025-01-16T00:00:00.000000000\",\"2025-01-17T00:00:00.000000000\",\"2025-01-20T00:00:00.000000000\",\"2025-01-21T00:00:00.000000000\",\"2025-01-22T00:00:00.000000000\",\"2025-01-23T00:00:00.000000000\",\"2025-01-24T00:00:00.000000000\",\"2025-01-27T00:00:00.000000000\",\"2025-01-28T00:00:00.000000000\",\"2025-01-29T00:00:00.000000000\",\"2025-01-30T00:00:00.000000000\",\"2025-01-31T00:00:00.000000000\",\"2025-02-03T00:00:00.000000000\",\"2025-02-04T00:00:00.000000000\",\"2025-02-05T00:00:00.000000000\",\"2025-02-06T00:00:00.000000000\",\"2025-02-07T00:00:00.000000000\",\"2025-02-10T00:00:00.000000000\",\"2025-02-11T00:00:00.000000000\",\"2025-02-12T00:00:00.000000000\",\"2025-02-13T00:00:00.000000000\",\"2025-02-14T00:00:00.000000000\",\"2025-02-17T00:00:00.000000000\",\"2025-02-18T00:00:00.000000000\",\"2025-02-19T00:00:00.000000000\",\"2025-02-20T00:00:00.000000000\",\"2025-02-21T00:00:00.000000000\",\"2025-02-24T00:00:00.000000000\",\"2025-02-25T00:00:00.000000000\",\"2025-02-26T00:00:00.000000000\",\"2025-02-27T00:00:00.000000000\",\"2025-02-28T00:00:00.000000000\",\"2025-03-03T00:00:00.000000000\",\"2025-03-04T00:00:00.000000000\",\"2025-03-05T00:00:00.000000000\",\"2025-03-06T00:00:00.000000000\",\"2025-03-07T00:00:00.000000000\",\"2025-03-10T00:00:00.000000000\",\"2025-03-11T00:00:00.000000000\",\"2025-03-12T00:00:00.000000000\",\"2025-03-13T00:00:00.000000000\",\"2025-03-14T00:00:00.000000000\",\"2025-03-17T00:00:00.000000000\",\"2025-03-18T00:00:00.000000000\",\"2025-03-19T00:00:00.000000000\",\"2025-03-20T00:00:00.000000000\",\"2025-03-21T00:00:00.000000000\",\"2025-03-24T00:00:00.000000000\",\"2025-03-25T00:00:00.000000000\",\"2025-03-26T00:00:00.000000000\",\"2025-03-27T00:00:00.000000000\",\"2025-03-28T00:00:00.000000000\",\"2025-03-31T00:00:00.000000000\",\"2025-04-01T00:00:00.000000000\",\"2025-04-02T00:00:00.000000000\",\"2025-04-03T00:00:00.000000000\",\"2025-04-04T00:00:00.000000000\",\"2025-04-07T00:00:00.000000000\",\"2025-04-08T00:00:00.000000000\",\"2025-04-09T00:00:00.000000000\",\"2025-04-10T00:00:00.000000000\",\"2025-04-11T00:00:00.000000000\",\"2025-04-14T00:00:00.000000000\",\"2025-04-15T00:00:00.000000000\",\"2025-04-16T00:00:00.000000000\",\"2025-04-17T00:00:00.000000000\"],\"y\":{\"dtype\":\"f8\",\"bdata\":\"AAAAAAAAAAC+\\u002fmE83SD\\u002fv\\u002fUYaRTgHhHAfjKhilGtEsBsbvOq3yAfwAhM2QDDOxTAvv5hPN0g\\u002f78Cf0ntpVgXwEHlKcZrkh3AuMvxT\\u002foDHMC+\\u002fmE83SD\\u002fvzoIE9IZ5xhACKsULf8DDEA6CBPSGecYQFDq6cFSrSJAYG7zqt8gH0CE3c0GGuYhQL3u2luoWBdA+8OVkKhXIECYmIFjF+fov3IyoYpRrfK\\u002fhWURdzTKBcD1GGkU4B4RwHIyoYpRrfK\\u002fmJiBYxfnCMCYmIFjF+fYvwhM2QDDOxTACEzZAMM7FMAusrnZiHUawIVlEXc0ygXApJiBYxfnGMByMqGKUa0CwPUYaRTgHhHA3HekQBznCECXiPqC4h4RQPD+YTzdIP8\\u002fpDKhilGt8j\\u002fjVLs0bpIdQKq7am\\u002fFOxRAl4j6guIeEUC97tpbqFgXQAirFC3\\u002fAwxACKsULf8DDEByMqGKUa3yv5iYgWMX59i\\u002fqrtqb8U7FEC97tpbqFgXQPD+YTzdIP8\\u002fmZ9Se+AfOED7w5WQqFcwQONUuzRukh1A41S7NG6SHUCiYdfvplkuQAUVL41SrilARggT0hnnKECE3c0GGuYhQPvDlZCoVyBA41S7NG6SHUDQIUtIi3UaQMwDIjjEOyRAxtCxS+EeIUA6CBPSGecYQKq7am\\u002fFOxRApDKhilGt8j9yMqGKUa0CwJiYgWMX5\\u002fi\\u002fuMvxT\\u002foDHMCE3c0GGuYhwNf+YTzdIA\\u002fALrK52Yh1GsCYmIFjF+f4v77+YTzdIP+\\u002fLrK52Yh1GsAusrnZiHUawIVlEXc0ygXAhWURdzTKBcA=\"},\"type\":\"scatter\",\"xaxis\":\"x\",\"yaxis\":\"y\"},{\"mode\":\"lines\",\"name\":\"IZER\",\"x\":[\"2025-01-02T00:00:00.000000000\",\"2025-01-03T00:00:00.000000000\",\"2025-01-06T00:00:00.000000000\",\"2025-01-07T00:00:00.000000000\",\"2025-01-08T00:00:00.000000000\",\"2025-01-09T00:00:00.000000000\",\"2025-01-10T00:00:00.000000000\",\"2025-01-13T00:00:00.000000000\",\"2025-01-14T00:00:00.000000000\",\"2025-01-15T00:00:00.000000000\",\"2025-01-16T00:00:00.000000000\",\"2025-01-17T00:00:00.000000000\",\"2025-01-20T00:00:00.000000000\",\"2025-01-21T00:00:00.000000000\",\"2025-01-22T00:00:00.000000000\",\"2025-01-23T00:00:00.000000000\",\"2025-01-24T00:00:00.000000000\",\"2025-01-27T00:00:00.000000000\",\"2025-01-28T00:00:00.000000000\",\"2025-01-29T00:00:00.000000000\",\"2025-01-30T00:00:00.000000000\",\"2025-01-31T00:00:00.000000000\",\"2025-02-03T00:00:00.000000000\",\"2025-02-04T00:00:00.000000000\",\"2025-02-05T00:00:00.000000000\",\"2025-02-06T00:00:00.000000000\",\"2025-02-07T00:00:00.000000000\",\"2025-02-10T00:00:00.000000000\",\"2025-02-11T00:00:00.000000000\",\"2025-02-12T00:00:00.000000000\",\"2025-02-13T00:00:00.000000000\",\"2025-02-14T00:00:00.000000000\",\"2025-02-17T00:00:00.000000000\",\"2025-02-18T00:00:00.000000000\",\"2025-02-19T00:00:00.000000000\",\"2025-02-20T00:00:00.000000000\",\"2025-02-21T00:00:00.000000000\",\"2025-02-24T00:00:00.000000000\",\"2025-02-25T00:00:00.000000000\",\"2025-02-26T00:00:00.000000000\",\"2025-02-27T00:00:00.000000000\",\"2025-02-28T00:00:00.000000000\",\"2025-03-03T00:00:00.000000000\",\"2025-03-04T00:00:00.000000000\",\"2025-03-05T00:00:00.000000000\",\"2025-03-06T00:00:00.000000000\",\"2025-03-07T00:00:00.000000000\",\"2025-03-10T00:00:00.000000000\",\"2025-03-11T00:00:00.000000000\",\"2025-03-12T00:00:00.000000000\",\"2025-03-13T00:00:00.000000000\",\"2025-03-14T00:00:00.000000000\",\"2025-03-17T00:00:00.000000000\",\"2025-03-18T00:00:00.000000000\",\"2025-03-19T00:00:00.000000000\",\"2025-03-20T00:00:00.000000000\",\"2025-03-21T00:00:00.000000000\",\"2025-03-24T00:00:00.000000000\",\"2025-03-25T00:00:00.000000000\",\"2025-03-26T00:00:00.000000000\",\"2025-03-27T00:00:00.000000000\",\"2025-03-28T00:00:00.000000000\",\"2025-03-31T00:00:00.000000000\",\"2025-04-01T00:00:00.000000000\",\"2025-04-02T00:00:00.000000000\",\"2025-04-03T00:00:00.000000000\",\"2025-04-04T00:00:00.000000000\",\"2025-04-07T00:00:00.000000000\",\"2025-04-08T00:00:00.000000000\",\"2025-04-09T00:00:00.000000000\",\"2025-04-10T00:00:00.000000000\",\"2025-04-11T00:00:00.000000000\",\"2025-04-14T00:00:00.000000000\",\"2025-04-15T00:00:00.000000000\",\"2025-04-16T00:00:00.000000000\",\"2025-04-17T00:00:00.000000000\"],\"y\":{\"dtype\":\"f8\",\"bdata\":\"AAAAAAAAAAAAAAAAAAAAAHB8+hVncsq\\u002f7D7ab2GH8D\\u002fgVfRwFHLKP+BV9HAUcso\\u002f4FX0cBRyyj8AAAAAAAAAAAAAAAAAAAAAAAAAAAAAAAAAAAAAAAAAAAAAAAAAAAAAAAAAAAAAAAAAAAAAAAAAAAAAAAAAAAAAmGd3wz1y2r9wfPoVZ3LKv3B8+hVncsq\\u002fSI6ZUq7V879wfPoVZ3LKv5hnd8M9ctq\\u002f4FX0cBRyyj++A3vEa4fwv74De8Rrh\\u002fC\\u002fAAAAAAAAAACYZ3fDPXLqv0iOmVKu1fO\\u002fR\\u002fHpfLPVA8CEuDamisD9v57eWDX7IwfApBDXNGQZDMA7BHvEa4cAwEiOmVKu1fO\\u002fSI6ZUq7V879H8el8s9UDwDsEe8RrhwDAanXa0vlaEcCYI2h8HMsIwJgjaHwcywjAanXa0vlaEcD96xGvHQITwOHSUi9phxDA+r\\u002fB57DVE8D6v8HnsNUTwOHSUi9phxDA+r\\u002fB57DVE8D6v8HnsNUTwGdJiguNLhLAZ0mKC40uEsBnSYoLjS4SwIw2+cPUfBXAnGJJi0GpFMCMI2h8HMsYwBbZgGdlUBbAnGJJi0GpFMA7BHvEa4cAwDreWDX7I\\u002fe\\u002fOt5YNfsj979OSYoLjS4CwE5JiguNLgLAmCNofBzLCMBH8el8s9UDwGp12tL5WhHAmCNofBzLCMDJ\\u002fUXtq2cPwGdJiguNLhLAyf1F7atnD8Dh0lIvaYcQwL0Q1zRkGRzAvRDXNGQZHMCPT7hDifcXwCqan1hAchrAKpqfWEByGsCPT7hDifcXwBKtMKD4IxfAFtmAZ2VQFsA=\"},\"type\":\"scatter\",\"xaxis\":\"x\",\"yaxis\":\"y\"},{\"mode\":\"lines\",\"name\":\"LLN\",\"x\":[\"2025-01-02T00:00:00.000000000\",\"2025-01-03T00:00:00.000000000\",\"2025-01-06T00:00:00.000000000\",\"2025-01-07T00:00:00.000000000\",\"2025-01-08T00:00:00.000000000\",\"2025-01-09T00:00:00.000000000\",\"2025-01-10T00:00:00.000000000\",\"2025-01-13T00:00:00.000000000\",\"2025-01-14T00:00:00.000000000\",\"2025-01-15T00:00:00.000000000\",\"2025-01-16T00:00:00.000000000\",\"2025-01-17T00:00:00.000000000\",\"2025-01-20T00:00:00.000000000\",\"2025-01-21T00:00:00.000000000\",\"2025-01-22T00:00:00.000000000\",\"2025-01-23T00:00:00.000000000\",\"2025-01-24T00:00:00.000000000\",\"2025-01-27T00:00:00.000000000\",\"2025-01-28T00:00:00.000000000\",\"2025-01-29T00:00:00.000000000\",\"2025-01-30T00:00:00.000000000\",\"2025-01-31T00:00:00.000000000\",\"2025-02-03T00:00:00.000000000\",\"2025-02-04T00:00:00.000000000\",\"2025-02-05T00:00:00.000000000\",\"2025-02-06T00:00:00.000000000\",\"2025-02-07T00:00:00.000000000\",\"2025-02-10T00:00:00.000000000\",\"2025-02-11T00:00:00.000000000\",\"2025-02-12T00:00:00.000000000\",\"2025-02-13T00:00:00.000000000\",\"2025-02-14T00:00:00.000000000\",\"2025-02-17T00:00:00.000000000\",\"2025-02-18T00:00:00.000000000\",\"2025-02-19T00:00:00.000000000\",\"2025-02-20T00:00:00.000000000\",\"2025-02-21T00:00:00.000000000\",\"2025-02-24T00:00:00.000000000\",\"2025-02-25T00:00:00.000000000\",\"2025-02-26T00:00:00.000000000\",\"2025-02-27T00:00:00.000000000\",\"2025-02-28T00:00:00.000000000\",\"2025-03-03T00:00:00.000000000\",\"2025-03-04T00:00:00.000000000\",\"2025-03-05T00:00:00.000000000\",\"2025-03-06T00:00:00.000000000\",\"2025-03-07T00:00:00.000000000\",\"2025-03-10T00:00:00.000000000\",\"2025-03-11T00:00:00.000000000\",\"2025-03-12T00:00:00.000000000\",\"2025-03-13T00:00:00.000000000\",\"2025-03-14T00:00:00.000000000\",\"2025-03-17T00:00:00.000000000\",\"2025-03-18T00:00:00.000000000\",\"2025-03-19T00:00:00.000000000\",\"2025-03-20T00:00:00.000000000\",\"2025-03-21T00:00:00.000000000\",\"2025-03-24T00:00:00.000000000\",\"2025-03-25T00:00:00.000000000\",\"2025-03-26T00:00:00.000000000\",\"2025-03-27T00:00:00.000000000\",\"2025-03-28T00:00:00.000000000\",\"2025-03-31T00:00:00.000000000\",\"2025-04-01T00:00:00.000000000\",\"2025-04-02T00:00:00.000000000\",\"2025-04-03T00:00:00.000000000\",\"2025-04-04T00:00:00.000000000\",\"2025-04-07T00:00:00.000000000\",\"2025-04-08T00:00:00.000000000\",\"2025-04-09T00:00:00.000000000\",\"2025-04-10T00:00:00.000000000\",\"2025-04-11T00:00:00.000000000\",\"2025-04-14T00:00:00.000000000\",\"2025-04-15T00:00:00.000000000\",\"2025-04-16T00:00:00.000000000\",\"2025-04-17T00:00:00.000000000\"],\"y\":{\"dtype\":\"f8\",\"bdata\":\"AAAAAAAAAADAGnh6LaHtP58Qi2y8hBJAeFJV5ec4BsDAGnh6LaHtvwAAAAAAAAAAwBp4ei2h7b8AAAAAAAAAAOCvSFG\\u002fhBLAIE8GNsKEAsAAAAAAAAAAAMAaeHotoe0\\u002fwBp4ei2h7b+Ql24NOaH9vyBPBjbChALAwBp4ei2h7b8AAAAAAAAAAJ8Qi2y8hBJA3hPaG+I4BkDeE9ob4jgGQCGcH1JAex9AhhCLbLyEAkD3E9ob4jgWQPbDIkRorzZAlrfmubOXMUAmA0\\u002fYXsI1QJa35rmzlzFA3OaHPQntKUDc5oc9Ce0pQDTq1uwuoS1ANOrW7C6hLUA06tbsLqEtQIhoLxUcxytAPWXgZfYSKEAGJrTR\\u002f\\u002f8oQGekDPrsJSdAsqdbqRLaKkA9ZeBl9hIoQJHjOI7jOCZAkeM4juM4JkDlYZG20F4kQJHjOI7jOCZABia00f\\u002f\\u002fKEDJT7cAs5chQJ8Qi2y8hCJAkeM4juM4JkDlYZG20F4kQMlPtwCzlyFAnxCLbLyEEkC7ImUi2kslQJ8Qi2y8hCJANhcpywftGUD3E9ob4jgWQPcT2hviOBZAo5WB8\\u002fQSGEDzjuOUqaoQQI4aeHotoQ1AEBTaG+I49j+GEItsvIQCQEuSMkTPXhRAjhp4ei2hDUCfEItsvIQSQJ8Qi2y8hBJAkJduDTmh\\u002fb\\u002fAGnh6LaHtP8AaeHotoe0\\u002fNC6heayqEMArs5cA5TgWwMAaeHotoe2\\u002feFJV5ec4BsB4UlXl5zgGwIwx8CjSXhTAK7OXAOU4FsDeE9ob4jgGQJ8Qi2y8hBJANhcpywftGUA=\"},\"type\":\"scatter\",\"xaxis\":\"x\",\"yaxis\":\"y\"},{\"mode\":\"lines\",\"name\":\"PAR\",\"x\":[\"2025-01-02T00:00:00.000000000\",\"2025-01-03T00:00:00.000000000\",\"2025-01-06T00:00:00.000000000\",\"2025-01-07T00:00:00.000000000\",\"2025-01-08T00:00:00.000000000\",\"2025-01-09T00:00:00.000000000\",\"2025-01-10T00:00:00.000000000\",\"2025-01-13T00:00:00.000000000\",\"2025-01-14T00:00:00.000000000\",\"2025-01-15T00:00:00.000000000\",\"2025-01-16T00:00:00.000000000\",\"2025-01-17T00:00:00.000000000\",\"2025-01-20T00:00:00.000000000\",\"2025-01-21T00:00:00.000000000\",\"2025-01-22T00:00:00.000000000\",\"2025-01-23T00:00:00.000000000\",\"2025-01-24T00:00:00.000000000\",\"2025-01-27T00:00:00.000000000\",\"2025-01-28T00:00:00.000000000\",\"2025-01-29T00:00:00.000000000\",\"2025-01-30T00:00:00.000000000\",\"2025-01-31T00:00:00.000000000\",\"2025-02-03T00:00:00.000000000\",\"2025-02-04T00:00:00.000000000\",\"2025-02-05T00:00:00.000000000\",\"2025-02-06T00:00:00.000000000\",\"2025-02-07T00:00:00.000000000\",\"2025-02-10T00:00:00.000000000\",\"2025-02-11T00:00:00.000000000\",\"2025-02-12T00:00:00.000000000\",\"2025-02-13T00:00:00.000000000\",\"2025-02-14T00:00:00.000000000\",\"2025-02-17T00:00:00.000000000\",\"2025-02-18T00:00:00.000000000\",\"2025-02-19T00:00:00.000000000\",\"2025-02-20T00:00:00.000000000\",\"2025-02-21T00:00:00.000000000\",\"2025-02-24T00:00:00.000000000\",\"2025-02-25T00:00:00.000000000\",\"2025-02-26T00:00:00.000000000\",\"2025-02-27T00:00:00.000000000\",\"2025-02-28T00:00:00.000000000\",\"2025-03-03T00:00:00.000000000\",\"2025-03-04T00:00:00.000000000\",\"2025-03-05T00:00:00.000000000\",\"2025-03-06T00:00:00.000000000\",\"2025-03-07T00:00:00.000000000\",\"2025-03-10T00:00:00.000000000\",\"2025-03-11T00:00:00.000000000\",\"2025-03-12T00:00:00.000000000\",\"2025-03-13T00:00:00.000000000\",\"2025-03-14T00:00:00.000000000\",\"2025-03-17T00:00:00.000000000\",\"2025-03-18T00:00:00.000000000\",\"2025-03-19T00:00:00.000000000\",\"2025-03-20T00:00:00.000000000\",\"2025-03-21T00:00:00.000000000\",\"2025-03-24T00:00:00.000000000\",\"2025-03-25T00:00:00.000000000\",\"2025-03-26T00:00:00.000000000\",\"2025-03-27T00:00:00.000000000\",\"2025-03-28T00:00:00.000000000\",\"2025-03-31T00:00:00.000000000\",\"2025-04-01T00:00:00.000000000\",\"2025-04-02T00:00:00.000000000\",\"2025-04-03T00:00:00.000000000\",\"2025-04-04T00:00:00.000000000\",\"2025-04-07T00:00:00.000000000\",\"2025-04-08T00:00:00.000000000\",\"2025-04-09T00:00:00.000000000\",\"2025-04-10T00:00:00.000000000\",\"2025-04-11T00:00:00.000000000\",\"2025-04-14T00:00:00.000000000\",\"2025-04-15T00:00:00.000000000\",\"2025-04-16T00:00:00.000000000\",\"2025-04-17T00:00:00.000000000\"],\"y\":{\"dtype\":\"f8\",\"bdata\":\"AAAAAAAAAAAAAAAAAAAAAAAAAAAAAAAAAAAAAAAAAAAAAAAAAAAAAAAAAAAAAAAAAAAAAAAAAAAAAAAAAAAAAAAAAAAAAAAAM6EpsYmHB8AAAAAAAAAAAAAAAAAAAAAAAAAAAAAAAAAzoSmxiYcHwDOhKbGJhwfAbAuT2oeHF8Ca98mc0dICQGj3yZzR0uI\\u002faPfJnNHS4j9o98mc0dLiP2j3yZzR0uI\\u002fJh9cGD48DMBmSiwO4uEZwGZKLA7i4RnATMhedZaWHsBsC5Pah4cXwEzIXnWWlh7AJh9cGD48DMAmH1wYPjwMwCYfXBg+PAzAJh9cGD48DMBsC5Pah4cXwGwLk9qHhxfAbAuT2oeHF8BsC5Pah4cXwDOhKbGJhwfAbAuT2oeHF8AmH1wYPjwMwDOhKbGJhwfAM6EpsYmHB8AzoSmxiYcHwOZOJPfY0vK\\u002fmkqJxUE8\\u002fL8mH1wYPjwMwCYfXBg+PAzAJh9cGD48DMAmH1wYPjwMwOZOJPfY0vK\\u002fJh9cGD48DMAmH1wYPjwMwCYfXBg+PAzAjE7HP3l4EMAzoSmxiYcHwGwLk9qHhxfAJh9cGD48DMAzoSmxiYcHwIxOxz95eBDAM6EpsYmHB8AzoSmxiYcHwDOhKbGJhwfAM6EpsYmHB8B6jWBz09ISwHqNYHPT0hLAeo1gc9PSEsB6jWBz09ISwHqNYHPT0hLAeo1gc9PSEsBmSiwO4uEZwGwLk9qHhxfAbAuT2oeHF8BMyF51lpYewGwLk9qHhxfAbAuT2oeHF8B6jWBz09ISwHqNYHPT0hLAeo1gc9PSEsA=\"},\"type\":\"scatter\",\"xaxis\":\"x\",\"yaxis\":\"y\"},{\"mode\":\"lines\",\"name\":\"SNG\",\"x\":[\"2025-01-02T00:00:00.000000000\",\"2025-01-03T00:00:00.000000000\",\"2025-01-06T00:00:00.000000000\",\"2025-01-07T00:00:00.000000000\",\"2025-01-08T00:00:00.000000000\",\"2025-01-09T00:00:00.000000000\",\"2025-01-10T00:00:00.000000000\",\"2025-01-13T00:00:00.000000000\",\"2025-01-14T00:00:00.000000000\",\"2025-01-15T00:00:00.000000000\",\"2025-01-16T00:00:00.000000000\",\"2025-01-17T00:00:00.000000000\",\"2025-01-20T00:00:00.000000000\",\"2025-01-21T00:00:00.000000000\",\"2025-01-22T00:00:00.000000000\",\"2025-01-23T00:00:00.000000000\",\"2025-01-24T00:00:00.000000000\",\"2025-01-27T00:00:00.000000000\",\"2025-01-28T00:00:00.000000000\",\"2025-01-29T00:00:00.000000000\",\"2025-01-30T00:00:00.000000000\",\"2025-01-31T00:00:00.000000000\",\"2025-02-03T00:00:00.000000000\",\"2025-02-04T00:00:00.000000000\",\"2025-02-05T00:00:00.000000000\",\"2025-02-06T00:00:00.000000000\",\"2025-02-07T00:00:00.000000000\",\"2025-02-10T00:00:00.000000000\",\"2025-02-11T00:00:00.000000000\",\"2025-02-12T00:00:00.000000000\",\"2025-02-13T00:00:00.000000000\",\"2025-02-14T00:00:00.000000000\",\"2025-02-17T00:00:00.000000000\",\"2025-02-18T00:00:00.000000000\",\"2025-02-19T00:00:00.000000000\",\"2025-02-20T00:00:00.000000000\",\"2025-02-21T00:00:00.000000000\",\"2025-02-24T00:00:00.000000000\",\"2025-02-25T00:00:00.000000000\",\"2025-02-26T00:00:00.000000000\",\"2025-02-27T00:00:00.000000000\",\"2025-02-28T00:00:00.000000000\",\"2025-03-03T00:00:00.000000000\",\"2025-03-04T00:00:00.000000000\",\"2025-03-05T00:00:00.000000000\",\"2025-03-06T00:00:00.000000000\",\"2025-03-07T00:00:00.000000000\",\"2025-03-10T00:00:00.000000000\",\"2025-03-11T00:00:00.000000000\",\"2025-03-12T00:00:00.000000000\",\"2025-03-13T00:00:00.000000000\",\"2025-03-14T00:00:00.000000000\",\"2025-03-17T00:00:00.000000000\",\"2025-03-18T00:00:00.000000000\",\"2025-03-19T00:00:00.000000000\",\"2025-03-20T00:00:00.000000000\",\"2025-03-21T00:00:00.000000000\",\"2025-03-24T00:00:00.000000000\",\"2025-03-25T00:00:00.000000000\",\"2025-03-26T00:00:00.000000000\",\"2025-03-27T00:00:00.000000000\",\"2025-03-28T00:00:00.000000000\",\"2025-03-31T00:00:00.000000000\",\"2025-04-01T00:00:00.000000000\",\"2025-04-02T00:00:00.000000000\",\"2025-04-03T00:00:00.000000000\",\"2025-04-04T00:00:00.000000000\",\"2025-04-07T00:00:00.000000000\",\"2025-04-08T00:00:00.000000000\",\"2025-04-09T00:00:00.000000000\",\"2025-04-10T00:00:00.000000000\",\"2025-04-11T00:00:00.000000000\",\"2025-04-14T00:00:00.000000000\",\"2025-04-15T00:00:00.000000000\",\"2025-04-16T00:00:00.000000000\",\"2025-04-17T00:00:00.000000000\"],\"y\":{\"dtype\":\"f8\",\"bdata\":\"AAAAAAAAAABTABX8DT4YQGWAGKZlSBxAZYAYpmVIHEBTABX8DT4YQC8ADqheKRBAngAV\\u002fA0+CECeABX8DT4IQJ4AFfwNPghAFgAOqF4p8L9IAA6oXinwP54AFfwNPghALwAOqF4pEEAvAA6oXikQQEGAEVK2MxRASAAOqF4pAEBIAA6oXinwPxYADqheKfC\\u002fAAAAAAAAAABIAA6oXinwP0gADqheKfA\\u002fngAV\\u002fA0+CEAvAA6oXikQQC8ADqheKRBALwAOqF4pEEAvAA6oXikQQEGAEVK2MxRASAAOqF4p8D9IAA6oXinwP54AFfwNPghASAAOqF4p8D+eABX8DT4IQJ4AFfwNPghAngAV\\u002fA0+CEAvAA6oXikQQJ4AFfwNPghASAAOqF4p8D8WAA6oXinwv0gADqheKfA\\u002frAAOqF4p4L9IAA6oXinwP0gADqheKfA\\u002fngAV\\u002fA0+CEBIAA6oXikAQEgADqheKfA\\u002fSAAOqF4p8D8IABX8DT74v0gADqheKfA\\u002fSAAOqF4p8D9IAA6oXinwP0gADqheKfA\\u002fSAAOqF4p8D8AAAAAAAAAABYADqheKfC\\u002frAAOqF4p4L8vAA6oXikAwC8ADqheKQDA+lcfkA8+GMDrFxoRjC4SwPt3nqV5OyfA8Pea+yExI8D7d56leTsnwPt3nqV5OyfAAFgfkA8+KMD7d56leTsnwAIYIWU7QyrA95cdu+M4JsDrFxoRjC4iwCGYJA+TTR7AAhghZTtDGsAM2CI6Z0gcwAzYIjpnSBzA8Pea+yExI8AILBNyXykgwAIYIWU7QxrA4lcYPGApEMA=\"},\"type\":\"scatter\",\"xaxis\":\"x\",\"yaxis\":\"y\"}],                        {\"template\":{\"data\":{\"histogram2dcontour\":[{\"type\":\"histogram2dcontour\",\"colorbar\":{\"outlinewidth\":0,\"ticks\":\"\"},\"colorscale\":[[0.0,\"#0d0887\"],[0.1111111111111111,\"#46039f\"],[0.2222222222222222,\"#7201a8\"],[0.3333333333333333,\"#9c179e\"],[0.4444444444444444,\"#bd3786\"],[0.5555555555555556,\"#d8576b\"],[0.6666666666666666,\"#ed7953\"],[0.7777777777777778,\"#fb9f3a\"],[0.8888888888888888,\"#fdca26\"],[1.0,\"#f0f921\"]]}],\"choropleth\":[{\"type\":\"choropleth\",\"colorbar\":{\"outlinewidth\":0,\"ticks\":\"\"}}],\"histogram2d\":[{\"type\":\"histogram2d\",\"colorbar\":{\"outlinewidth\":0,\"ticks\":\"\"},\"colorscale\":[[0.0,\"#0d0887\"],[0.1111111111111111,\"#46039f\"],[0.2222222222222222,\"#7201a8\"],[0.3333333333333333,\"#9c179e\"],[0.4444444444444444,\"#bd3786\"],[0.5555555555555556,\"#d8576b\"],[0.6666666666666666,\"#ed7953\"],[0.7777777777777778,\"#fb9f3a\"],[0.8888888888888888,\"#fdca26\"],[1.0,\"#f0f921\"]]}],\"heatmap\":[{\"type\":\"heatmap\",\"colorbar\":{\"outlinewidth\":0,\"ticks\":\"\"},\"colorscale\":[[0.0,\"#0d0887\"],[0.1111111111111111,\"#46039f\"],[0.2222222222222222,\"#7201a8\"],[0.3333333333333333,\"#9c179e\"],[0.4444444444444444,\"#bd3786\"],[0.5555555555555556,\"#d8576b\"],[0.6666666666666666,\"#ed7953\"],[0.7777777777777778,\"#fb9f3a\"],[0.8888888888888888,\"#fdca26\"],[1.0,\"#f0f921\"]]}],\"contourcarpet\":[{\"type\":\"contourcarpet\",\"colorbar\":{\"outlinewidth\":0,\"ticks\":\"\"}}],\"contour\":[{\"type\":\"contour\",\"colorbar\":{\"outlinewidth\":0,\"ticks\":\"\"},\"colorscale\":[[0.0,\"#0d0887\"],[0.1111111111111111,\"#46039f\"],[0.2222222222222222,\"#7201a8\"],[0.3333333333333333,\"#9c179e\"],[0.4444444444444444,\"#bd3786\"],[0.5555555555555556,\"#d8576b\"],[0.6666666666666666,\"#ed7953\"],[0.7777777777777778,\"#fb9f3a\"],[0.8888888888888888,\"#fdca26\"],[1.0,\"#f0f921\"]]}],\"surface\":[{\"type\":\"surface\",\"colorbar\":{\"outlinewidth\":0,\"ticks\":\"\"},\"colorscale\":[[0.0,\"#0d0887\"],[0.1111111111111111,\"#46039f\"],[0.2222222222222222,\"#7201a8\"],[0.3333333333333333,\"#9c179e\"],[0.4444444444444444,\"#bd3786\"],[0.5555555555555556,\"#d8576b\"],[0.6666666666666666,\"#ed7953\"],[0.7777777777777778,\"#fb9f3a\"],[0.8888888888888888,\"#fdca26\"],[1.0,\"#f0f921\"]]}],\"mesh3d\":[{\"type\":\"mesh3d\",\"colorbar\":{\"outlinewidth\":0,\"ticks\":\"\"}}],\"scatter\":[{\"fillpattern\":{\"fillmode\":\"overlay\",\"size\":10,\"solidity\":0.2},\"type\":\"scatter\"}],\"parcoords\":[{\"type\":\"parcoords\",\"line\":{\"colorbar\":{\"outlinewidth\":0,\"ticks\":\"\"}}}],\"scatterpolargl\":[{\"type\":\"scatterpolargl\",\"marker\":{\"colorbar\":{\"outlinewidth\":0,\"ticks\":\"\"}}}],\"bar\":[{\"error_x\":{\"color\":\"#2a3f5f\"},\"error_y\":{\"color\":\"#2a3f5f\"},\"marker\":{\"line\":{\"color\":\"#E5ECF6\",\"width\":0.5},\"pattern\":{\"fillmode\":\"overlay\",\"size\":10,\"solidity\":0.2}},\"type\":\"bar\"}],\"scattergeo\":[{\"type\":\"scattergeo\",\"marker\":{\"colorbar\":{\"outlinewidth\":0,\"ticks\":\"\"}}}],\"scatterpolar\":[{\"type\":\"scatterpolar\",\"marker\":{\"colorbar\":{\"outlinewidth\":0,\"ticks\":\"\"}}}],\"histogram\":[{\"marker\":{\"pattern\":{\"fillmode\":\"overlay\",\"size\":10,\"solidity\":0.2}},\"type\":\"histogram\"}],\"scattergl\":[{\"type\":\"scattergl\",\"marker\":{\"colorbar\":{\"outlinewidth\":0,\"ticks\":\"\"}}}],\"scatter3d\":[{\"type\":\"scatter3d\",\"line\":{\"colorbar\":{\"outlinewidth\":0,\"ticks\":\"\"}},\"marker\":{\"colorbar\":{\"outlinewidth\":0,\"ticks\":\"\"}}}],\"scattermap\":[{\"type\":\"scattermap\",\"marker\":{\"colorbar\":{\"outlinewidth\":0,\"ticks\":\"\"}}}],\"scattermapbox\":[{\"type\":\"scattermapbox\",\"marker\":{\"colorbar\":{\"outlinewidth\":0,\"ticks\":\"\"}}}],\"scatterternary\":[{\"type\":\"scatterternary\",\"marker\":{\"colorbar\":{\"outlinewidth\":0,\"ticks\":\"\"}}}],\"scattercarpet\":[{\"type\":\"scattercarpet\",\"marker\":{\"colorbar\":{\"outlinewidth\":0,\"ticks\":\"\"}}}],\"carpet\":[{\"aaxis\":{\"endlinecolor\":\"#2a3f5f\",\"gridcolor\":\"white\",\"linecolor\":\"white\",\"minorgridcolor\":\"white\",\"startlinecolor\":\"#2a3f5f\"},\"baxis\":{\"endlinecolor\":\"#2a3f5f\",\"gridcolor\":\"white\",\"linecolor\":\"white\",\"minorgridcolor\":\"white\",\"startlinecolor\":\"#2a3f5f\"},\"type\":\"carpet\"}],\"table\":[{\"cells\":{\"fill\":{\"color\":\"#EBF0F8\"},\"line\":{\"color\":\"white\"}},\"header\":{\"fill\":{\"color\":\"#C8D4E3\"},\"line\":{\"color\":\"white\"}},\"type\":\"table\"}],\"barpolar\":[{\"marker\":{\"line\":{\"color\":\"#E5ECF6\",\"width\":0.5},\"pattern\":{\"fillmode\":\"overlay\",\"size\":10,\"solidity\":0.2}},\"type\":\"barpolar\"}],\"pie\":[{\"automargin\":true,\"type\":\"pie\"}]},\"layout\":{\"autotypenumbers\":\"strict\",\"colorway\":[\"#636efa\",\"#EF553B\",\"#00cc96\",\"#ab63fa\",\"#FFA15A\",\"#19d3f3\",\"#FF6692\",\"#B6E880\",\"#FF97FF\",\"#FECB52\"],\"font\":{\"color\":\"#2a3f5f\"},\"hovermode\":\"closest\",\"hoverlabel\":{\"align\":\"left\"},\"paper_bgcolor\":\"white\",\"plot_bgcolor\":\"#E5ECF6\",\"polar\":{\"bgcolor\":\"#E5ECF6\",\"angularaxis\":{\"gridcolor\":\"white\",\"linecolor\":\"white\",\"ticks\":\"\"},\"radialaxis\":{\"gridcolor\":\"white\",\"linecolor\":\"white\",\"ticks\":\"\"}},\"ternary\":{\"bgcolor\":\"#E5ECF6\",\"aaxis\":{\"gridcolor\":\"white\",\"linecolor\":\"white\",\"ticks\":\"\"},\"baxis\":{\"gridcolor\":\"white\",\"linecolor\":\"white\",\"ticks\":\"\"},\"caxis\":{\"gridcolor\":\"white\",\"linecolor\":\"white\",\"ticks\":\"\"}},\"coloraxis\":{\"colorbar\":{\"outlinewidth\":0,\"ticks\":\"\"}},\"colorscale\":{\"sequential\":[[0.0,\"#0d0887\"],[0.1111111111111111,\"#46039f\"],[0.2222222222222222,\"#7201a8\"],[0.3333333333333333,\"#9c179e\"],[0.4444444444444444,\"#bd3786\"],[0.5555555555555556,\"#d8576b\"],[0.6666666666666666,\"#ed7953\"],[0.7777777777777778,\"#fb9f3a\"],[0.8888888888888888,\"#fdca26\"],[1.0,\"#f0f921\"]],\"sequentialminus\":[[0.0,\"#0d0887\"],[0.1111111111111111,\"#46039f\"],[0.2222222222222222,\"#7201a8\"],[0.3333333333333333,\"#9c179e\"],[0.4444444444444444,\"#bd3786\"],[0.5555555555555556,\"#d8576b\"],[0.6666666666666666,\"#ed7953\"],[0.7777777777777778,\"#fb9f3a\"],[0.8888888888888888,\"#fdca26\"],[1.0,\"#f0f921\"]],\"diverging\":[[0,\"#8e0152\"],[0.1,\"#c51b7d\"],[0.2,\"#de77ae\"],[0.3,\"#f1b6da\"],[0.4,\"#fde0ef\"],[0.5,\"#f7f7f7\"],[0.6,\"#e6f5d0\"],[0.7,\"#b8e186\"],[0.8,\"#7fbc41\"],[0.9,\"#4d9221\"],[1,\"#276419\"]]},\"xaxis\":{\"gridcolor\":\"white\",\"linecolor\":\"white\",\"ticks\":\"\",\"title\":{\"standoff\":15},\"zerolinecolor\":\"white\",\"automargin\":true,\"zerolinewidth\":2},\"yaxis\":{\"gridcolor\":\"white\",\"linecolor\":\"white\",\"ticks\":\"\",\"title\":{\"standoff\":15},\"zerolinecolor\":\"white\",\"automargin\":true,\"zerolinewidth\":2},\"scene\":{\"xaxis\":{\"backgroundcolor\":\"#E5ECF6\",\"gridcolor\":\"white\",\"linecolor\":\"white\",\"showbackground\":true,\"ticks\":\"\",\"zerolinecolor\":\"white\",\"gridwidth\":2},\"yaxis\":{\"backgroundcolor\":\"#E5ECF6\",\"gridcolor\":\"white\",\"linecolor\":\"white\",\"showbackground\":true,\"ticks\":\"\",\"zerolinecolor\":\"white\",\"gridwidth\":2},\"zaxis\":{\"backgroundcolor\":\"#E5ECF6\",\"gridcolor\":\"white\",\"linecolor\":\"white\",\"showbackground\":true,\"ticks\":\"\",\"zerolinecolor\":\"white\",\"gridwidth\":2}},\"shapedefaults\":{\"line\":{\"color\":\"#2a3f5f\"}},\"annotationdefaults\":{\"arrowcolor\":\"#2a3f5f\",\"arrowhead\":0,\"arrowwidth\":1},\"geo\":{\"bgcolor\":\"white\",\"landcolor\":\"#E5ECF6\",\"subunitcolor\":\"white\",\"showland\":true,\"showlakes\":true,\"lakecolor\":\"white\"},\"title\":{\"x\":0.05},\"mapbox\":{\"style\":\"light\"}}},\"xaxis\":{\"anchor\":\"y\",\"domain\":[0.0,1.0]},\"yaxis\":{\"anchor\":\"x\",\"domain\":[0.0,1.0],\"title\":{\"text\":\"Return\"}},\"height\":800,\"width\":1300,\"showlegend\":true,\"title\":{\"text\":\"Cummulative Returns HLZ.MC for 2025\"}},                        {\"responsive\": true}                    ).then(function(){\n",
       "                            \n",
       "var gd = document.getElementById('31e79a86-ae35-4ade-a5bc-8e075a24247f');\n",
       "var x = new MutationObserver(function (mutations, observer) {{\n",
       "        var display = window.getComputedStyle(gd).display;\n",
       "        if (!display || display === 'none') {{\n",
       "            console.log([gd, 'removed!']);\n",
       "            Plotly.purge(gd);\n",
       "            observer.disconnect();\n",
       "        }}\n",
       "}});\n",
       "\n",
       "// Listen for the removal of the full notebook cells\n",
       "var notebookContainer = gd.closest('#notebook-container');\n",
       "if (notebookContainer) {{\n",
       "    x.observe(notebookContainer, {childList: true});\n",
       "}}\n",
       "\n",
       "// Listen for the clearing of the current output cell\n",
       "var outputEl = gd.closest('.output');\n",
       "if (outputEl) {{\n",
       "    x.observe(outputEl, {childList: true});\n",
       "}}\n",
       "\n",
       "                        })                };            </script>        </div>"
      ]
     },
     "metadata": {},
     "output_type": "display_data"
    }
   ],
   "source": [
    "# Plotly\n",
    "fig = make_subplots()\n",
    "\n",
    "# Graph (1,1)\n",
    "# Loop all stock files and get cummulative return for year\n",
    "for stock in tqdm(index_list):\n",
    "    f = os.path.join(\"../input\", stock)\n",
    "    df = pd.read_csv(f+\".csv\",index_col=\"Date\",parse_dates=True)\n",
    "    df['Cummulative_Return'] = cumulative_return(df[\"Adj Close\"].loc[year])\n",
    "    fig.add_trace(go.Scatter(x=df['Cummulative_Return'].loc[year].index,y=df['Cummulative_Return'].loc[year],mode=\"lines\",name=stock.split('.')[0]),row=1,col=1)\n",
    "\n",
    "# Update xaxis properties\n",
    "fig.update_yaxes(title_text=\"Return\", row=1, col=1)\n",
    "\n",
    "fig.update_layout(height=800, width=1300,showlegend=True,title=f\"Cummulative Returns {ticker} for {year}\")\n",
    "\n",
    "fig.show()"
   ]
  },
  {
   "cell_type": "code",
   "execution_count": 35,
   "metadata": {},
   "outputs": [
    {
     "data": {
      "application/vnd.jupyter.widget-view+json": {
       "model_id": "3c0bde96789e43998c60a7c70e43dc5e",
       "version_major": 2,
       "version_minor": 0
      },
      "text/plain": [
       "  0%|          | 0/12 [00:00<?, ?it/s]"
      ]
     },
     "metadata": {},
     "output_type": "display_data"
    },
    {
     "data": {
      "text/html": [
       "<div>\n",
       "<style scoped>\n",
       "    .dataframe tbody tr th:only-of-type {\n",
       "        vertical-align: middle;\n",
       "    }\n",
       "\n",
       "    .dataframe tbody tr th {\n",
       "        vertical-align: top;\n",
       "    }\n",
       "\n",
       "    .dataframe thead th {\n",
       "        text-align: right;\n",
       "    }\n",
       "</style>\n",
       "<table border=\"1\" class=\"dataframe\">\n",
       "  <thead>\n",
       "    <tr style=\"text-align: right;\">\n",
       "      <th></th>\n",
       "      <th>Ticker</th>\n",
       "      <th>Name</th>\n",
       "      <th>Date</th>\n",
       "      <th>Cummulative_Return</th>\n",
       "    </tr>\n",
       "  </thead>\n",
       "  <tbody>\n",
       "    <tr>\n",
       "      <th>0</th>\n",
       "      <td>EIDF.MC</td>\n",
       "      <td>EiDF</td>\n",
       "      <td>2025-04-17</td>\n",
       "      <td>41.548186</td>\n",
       "    </tr>\n",
       "    <tr>\n",
       "      <th>1</th>\n",
       "      <td>FACE.MC</td>\n",
       "      <td>FacePhi Biometria</td>\n",
       "      <td>2025-04-17</td>\n",
       "      <td>35.243547</td>\n",
       "    </tr>\n",
       "    <tr>\n",
       "      <th>2</th>\n",
       "      <td>ELZ.MC</td>\n",
       "      <td>Asturiana de Laminados (elZinc)</td>\n",
       "      <td>2025-04-17</td>\n",
       "      <td>17.872807</td>\n",
       "    </tr>\n",
       "    <tr>\n",
       "      <th>3</th>\n",
       "      <td>LLN.MC</td>\n",
       "      <td>Lleida.net</td>\n",
       "      <td>2025-04-17</td>\n",
       "      <td>6.481475</td>\n",
       "    </tr>\n",
       "    <tr>\n",
       "      <th>4</th>\n",
       "      <td>HLZ.MC</td>\n",
       "      <td>Holaluz</td>\n",
       "      <td>2025-04-17</td>\n",
       "      <td>-2.723733</td>\n",
       "    </tr>\n",
       "    <tr>\n",
       "      <th>5</th>\n",
       "      <td>END.MC</td>\n",
       "      <td>Endurance Motive</td>\n",
       "      <td>2025-04-17</td>\n",
       "      <td>-2.752302</td>\n",
       "    </tr>\n",
       "    <tr>\n",
       "      <th>6</th>\n",
       "      <td>SNG.MC</td>\n",
       "      <td>SNGULAR</td>\n",
       "      <td>2025-04-17</td>\n",
       "      <td>-4.040406</td>\n",
       "    </tr>\n",
       "    <tr>\n",
       "      <th>7</th>\n",
       "      <td>PAR.MC</td>\n",
       "      <td>Parlem Telecom</td>\n",
       "      <td>2025-04-17</td>\n",
       "      <td>-4.705885</td>\n",
       "    </tr>\n",
       "    <tr>\n",
       "      <th>8</th>\n",
       "      <td>IZER.MC</td>\n",
       "      <td>Izertis</td>\n",
       "      <td>2025-04-17</td>\n",
       "      <td>-5.578512</td>\n",
       "    </tr>\n",
       "    <tr>\n",
       "      <th>9</th>\n",
       "      <td>COM.MC</td>\n",
       "      <td>Catenon</td>\n",
       "      <td>2025-04-17</td>\n",
       "      <td>-6.766920</td>\n",
       "    </tr>\n",
       "    <tr>\n",
       "      <th>10</th>\n",
       "      <td>AGIL.MC</td>\n",
       "      <td>Agile Content</td>\n",
       "      <td>2025-04-17</td>\n",
       "      <td>-9.859154</td>\n",
       "    </tr>\n",
       "    <tr>\n",
       "      <th>11</th>\n",
       "      <td>GIGA.MC</td>\n",
       "      <td>Gigas Hosting</td>\n",
       "      <td>2025-04-17</td>\n",
       "      <td>-11.428574</td>\n",
       "    </tr>\n",
       "  </tbody>\n",
       "</table>\n",
       "</div>"
      ],
      "text/plain": [
       "     Ticker                             Name       Date  Cummulative_Return\n",
       "0   EIDF.MC                             EiDF 2025-04-17           41.548186\n",
       "1   FACE.MC                FacePhi Biometria 2025-04-17           35.243547\n",
       "2    ELZ.MC  Asturiana de Laminados (elZinc) 2025-04-17           17.872807\n",
       "3    LLN.MC                       Lleida.net 2025-04-17            6.481475\n",
       "4    HLZ.MC                          Holaluz 2025-04-17           -2.723733\n",
       "5    END.MC                 Endurance Motive 2025-04-17           -2.752302\n",
       "6    SNG.MC                          SNGULAR 2025-04-17           -4.040406\n",
       "7    PAR.MC                   Parlem Telecom 2025-04-17           -4.705885\n",
       "8   IZER.MC                          Izertis 2025-04-17           -5.578512\n",
       "9    COM.MC                          Catenon 2025-04-17           -6.766920\n",
       "10  AGIL.MC                    Agile Content 2025-04-17           -9.859154\n",
       "11  GIGA.MC                    Gigas Hosting 2025-04-17          -11.428574"
      ]
     },
     "execution_count": 35,
     "metadata": {},
     "output_type": "execute_result"
    }
   ],
   "source": [
    "# Create also table of cummulative returns\n",
    "list = []\n",
    "\n",
    "for stock in tqdm(index_list):\n",
    "    f = os.path.join(\"../input\", stock)\n",
    "    df = pd.read_csv(f+\".csv\",index_col=\"Date\",parse_dates=True)\n",
    "    df['Cummulative_Return'] = cumulative_return(df[\"Adj Close\"].loc[year])\n",
    "    list.append([df.loc[year].tail(1).index.item(),stock.split('.csv')[0],df[\"Cummulative_Return\"].loc[year].iloc[-1]])\n",
    "\n",
    "\n",
    "cum = pd.DataFrame(list, columns=['Date','Ticker','Cummulative_Return'])\n",
    "cum = wiki[['Ticker','Name']].merge(cum,on='Ticker')\n",
    "cum.sort_values(by=['Cummulative_Return'],ignore_index=True, ascending=False)"
   ]
  },
  {
   "cell_type": "code",
   "execution_count": 36,
   "metadata": {},
   "outputs": [
    {
     "data": {
      "application/vnd.jupyter.widget-view+json": {
       "model_id": "fb54a81450e746199270863a0ec1fc1c",
       "version_major": 2,
       "version_minor": 0
      },
      "text/plain": [
       "  0%|          | 0/12 [00:00<?, ?it/s]"
      ]
     },
     "metadata": {},
     "output_type": "display_data"
    },
    {
     "data": {
      "text/html": [
       "<div>\n",
       "<style scoped>\n",
       "    .dataframe tbody tr th:only-of-type {\n",
       "        vertical-align: middle;\n",
       "    }\n",
       "\n",
       "    .dataframe tbody tr th {\n",
       "        vertical-align: top;\n",
       "    }\n",
       "\n",
       "    .dataframe thead th {\n",
       "        text-align: right;\n",
       "    }\n",
       "</style>\n",
       "<table border=\"1\" class=\"dataframe\">\n",
       "  <thead>\n",
       "    <tr style=\"text-align: right;\">\n",
       "      <th></th>\n",
       "      <th>Ticker</th>\n",
       "      <th>Name</th>\n",
       "      <th>Date</th>\n",
       "      <th>Daily_Return</th>\n",
       "    </tr>\n",
       "  </thead>\n",
       "  <tbody>\n",
       "    <tr>\n",
       "      <th>0</th>\n",
       "      <td>SNG.MC</td>\n",
       "      <td>SNGULAR</td>\n",
       "      <td>2025-04-17</td>\n",
       "      <td>2.702700</td>\n",
       "    </tr>\n",
       "    <tr>\n",
       "      <th>1</th>\n",
       "      <td>LLN.MC</td>\n",
       "      <td>Lleida.net</td>\n",
       "      <td>2025-04-17</td>\n",
       "      <td>1.769910</td>\n",
       "    </tr>\n",
       "    <tr>\n",
       "      <th>2</th>\n",
       "      <td>ELZ.MC</td>\n",
       "      <td>Asturiana de Laminados (elZinc)</td>\n",
       "      <td>2025-04-17</td>\n",
       "      <td>0.938969</td>\n",
       "    </tr>\n",
       "    <tr>\n",
       "      <th>3</th>\n",
       "      <td>FACE.MC</td>\n",
       "      <td>FacePhi Biometria</td>\n",
       "      <td>2025-04-17</td>\n",
       "      <td>0.425532</td>\n",
       "    </tr>\n",
       "    <tr>\n",
       "      <th>4</th>\n",
       "      <td>IZER.MC</td>\n",
       "      <td>Izertis</td>\n",
       "      <td>2025-04-17</td>\n",
       "      <td>0.219303</td>\n",
       "    </tr>\n",
       "    <tr>\n",
       "      <th>5</th>\n",
       "      <td>GIGA.MC</td>\n",
       "      <td>Gigas Hosting</td>\n",
       "      <td>2025-04-17</td>\n",
       "      <td>0.000000</td>\n",
       "    </tr>\n",
       "    <tr>\n",
       "      <th>6</th>\n",
       "      <td>AGIL.MC</td>\n",
       "      <td>Agile Content</td>\n",
       "      <td>2025-04-17</td>\n",
       "      <td>0.000000</td>\n",
       "    </tr>\n",
       "    <tr>\n",
       "      <th>7</th>\n",
       "      <td>COM.MC</td>\n",
       "      <td>Catenon</td>\n",
       "      <td>2025-04-17</td>\n",
       "      <td>0.000000</td>\n",
       "    </tr>\n",
       "    <tr>\n",
       "      <th>8</th>\n",
       "      <td>PAR.MC</td>\n",
       "      <td>Parlem Telecom</td>\n",
       "      <td>2025-04-17</td>\n",
       "      <td>0.000000</td>\n",
       "    </tr>\n",
       "    <tr>\n",
       "      <th>9</th>\n",
       "      <td>HLZ.MC</td>\n",
       "      <td>Holaluz</td>\n",
       "      <td>2025-04-17</td>\n",
       "      <td>0.000000</td>\n",
       "    </tr>\n",
       "    <tr>\n",
       "      <th>10</th>\n",
       "      <td>END.MC</td>\n",
       "      <td>Endurance Motive</td>\n",
       "      <td>2025-04-17</td>\n",
       "      <td>-1.395359</td>\n",
       "    </tr>\n",
       "    <tr>\n",
       "      <th>11</th>\n",
       "      <td>EIDF.MC</td>\n",
       "      <td>EiDF</td>\n",
       "      <td>2025-04-17</td>\n",
       "      <td>-3.030300</td>\n",
       "    </tr>\n",
       "  </tbody>\n",
       "</table>\n",
       "</div>"
      ],
      "text/plain": [
       "     Ticker                             Name       Date  Daily_Return\n",
       "0    SNG.MC                          SNGULAR 2025-04-17      2.702700\n",
       "1    LLN.MC                       Lleida.net 2025-04-17      1.769910\n",
       "2    ELZ.MC  Asturiana de Laminados (elZinc) 2025-04-17      0.938969\n",
       "3   FACE.MC                FacePhi Biometria 2025-04-17      0.425532\n",
       "4   IZER.MC                          Izertis 2025-04-17      0.219303\n",
       "5   GIGA.MC                    Gigas Hosting 2025-04-17      0.000000\n",
       "6   AGIL.MC                    Agile Content 2025-04-17      0.000000\n",
       "7    COM.MC                          Catenon 2025-04-17      0.000000\n",
       "8    PAR.MC                   Parlem Telecom 2025-04-17      0.000000\n",
       "9    HLZ.MC                          Holaluz 2025-04-17      0.000000\n",
       "10   END.MC                 Endurance Motive 2025-04-17     -1.395359\n",
       "11  EIDF.MC                             EiDF 2025-04-17     -3.030300"
      ]
     },
     "execution_count": 36,
     "metadata": {},
     "output_type": "execute_result"
    }
   ],
   "source": [
    "# Create also table of daily returns\n",
    "list = []\n",
    "\n",
    "for stock in tqdm(index_list):\n",
    "    f = os.path.join(\"../input\",stock)\n",
    "    df = pd.read_csv(f+\".csv\",index_col=\"Date\",parse_dates=True)\n",
    "    df['Daily_Return'] = daily_return(df[\"Adj Close\"].loc[year])\n",
    "    list.append([df.loc[year].tail(1).index.item(),stock.split('.csv')[0],df[\"Daily_Return\"].loc[year].iloc[-1]])\n",
    "\n",
    "\n",
    "cum = pd.DataFrame(list, columns=['Date','Ticker','Daily_Return'])\n",
    "cum = wiki[['Ticker','Name']].merge(cum,on='Ticker')\n",
    "cum.sort_values(by=['Daily_Return'],ignore_index=True, ascending=False)"
   ]
  }
 ],
 "metadata": {
  "kernelspec": {
   "display_name": ".venv",
   "language": "python",
   "name": "python3"
  },
  "language_info": {
   "codemirror_mode": {
    "name": "ipython",
    "version": 3
   },
   "file_extension": ".py",
   "mimetype": "text/x-python",
   "name": "python",
   "nbconvert_exporter": "python",
   "pygments_lexer": "ipython3",
   "version": "3.12.3"
  }
 },
 "nbformat": 4,
 "nbformat_minor": 2
}
