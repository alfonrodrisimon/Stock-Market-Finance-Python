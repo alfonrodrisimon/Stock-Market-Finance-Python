{
 "cells": [
  {
   "cell_type": "code",
   "execution_count": 1,
   "metadata": {},
   "outputs": [
    {
     "data": {
      "text/html": [
       "        <script type=\"text/javascript\">\n",
       "        window.PlotlyConfig = {MathJaxConfig: 'local'};\n",
       "        if (window.MathJax && window.MathJax.Hub && window.MathJax.Hub.Config) {window.MathJax.Hub.Config({SVG: {font: \"STIX-Web\"}});}\n",
       "        </script>\n",
       "        <script type=\"module\">import \"https://cdn.plot.ly/plotly-3.0.0.min\"</script>\n",
       "        "
      ]
     },
     "metadata": {},
     "output_type": "display_data"
    },
    {
     "data": {
      "text/html": [
       "        <script type=\"text/javascript\">\n",
       "        window.PlotlyConfig = {MathJaxConfig: 'local'};\n",
       "        if (window.MathJax && window.MathJax.Hub && window.MathJax.Hub.Config) {window.MathJax.Hub.Config({SVG: {font: \"STIX-Web\"}});}\n",
       "        </script>\n",
       "        <script type=\"module\">import \"https://cdn.plot.ly/plotly-3.0.0.min\"</script>\n",
       "        "
      ]
     },
     "metadata": {},
     "output_type": "display_data"
    }
   ],
   "source": [
    "# Import Libraries\n",
    "import yfinance as yf\n",
    "import matplotlib.pyplot as plt\n",
    "import pandas as pd\n",
    "from ta.volatility import BollingerBands\n",
    "from ta.momentum import RSIIndicator\n",
    "from ta.others import daily_return,cumulative_return\n",
    "from plotly.offline import init_notebook_mode\n",
    "import cufflinks as cf\n",
    "from plotly.subplots import make_subplots\n",
    "import plotly.graph_objects as go\n",
    "import os\n",
    "import requests\n",
    "from bs4 import BeautifulSoup\n",
    "import warnings\n",
    "from tqdm.auto import tqdm\n",
    "\n",
    "warnings.filterwarnings(\"ignore\")\n",
    "%matplotlib inline\n",
    "init_notebook_mode(connected=True)\n",
    "cf.go_offline()"
   ]
  },
  {
   "cell_type": "code",
   "execution_count": 2,
   "metadata": {},
   "outputs": [
    {
     "name": "stdout",
     "output_type": "stream",
     "text": [
      "'../input' folder already exists.\n"
     ]
    }
   ],
   "source": [
    "# Check if folder input exists\n",
    "\n",
    "# Define the folder name\n",
    "folder_name = '../input'\n",
    "\n",
    "# Check if the folder exists\n",
    "if not os.path.exists(folder_name):\n",
    "    # If it doesn't exist, create the folder\n",
    "    os.makedirs(folder_name)\n",
    "    print(f\"'{folder_name}' folder created.\")\n",
    "else:\n",
    "    print(f\"'{folder_name}' folder already exists.\")\n"
   ]
  },
  {
   "cell_type": "code",
   "execution_count": 3,
   "metadata": {},
   "outputs": [
    {
     "name": "stdout",
     "output_type": "stream",
     "text": [
      "'../tickers' folder already exists.\n"
     ]
    }
   ],
   "source": [
    "# Check if folder tickers exists\n",
    "\n",
    "# Define the folder name\n",
    "folder_name = '../tickers'\n",
    "\n",
    "# Check if the folder exists\n",
    "if not os.path.exists(folder_name):\n",
    "    # If it doesn't exist, create the folder\n",
    "    os.makedirs(folder_name)\n",
    "    print(f\"'{folder_name}' folder created.\")\n",
    "else:\n",
    "    print(f\"'{folder_name}' folder already exists.\")"
   ]
  },
  {
   "cell_type": "code",
   "execution_count": 4,
   "metadata": {},
   "outputs": [
    {
     "data": {
      "text/html": [
       "<div>\n",
       "<style scoped>\n",
       "    .dataframe tbody tr th:only-of-type {\n",
       "        vertical-align: middle;\n",
       "    }\n",
       "\n",
       "    .dataframe tbody tr th {\n",
       "        vertical-align: top;\n",
       "    }\n",
       "\n",
       "    .dataframe thead th {\n",
       "        text-align: right;\n",
       "    }\n",
       "</style>\n",
       "<table border=\"1\" class=\"dataframe\">\n",
       "  <thead>\n",
       "    <tr style=\"text-align: right;\">\n",
       "      <th></th>\n",
       "      <th>Ticker</th>\n",
       "      <th>Name</th>\n",
       "      <th>Sector</th>\n",
       "    </tr>\n",
       "  </thead>\n",
       "  <tbody>\n",
       "    <tr>\n",
       "      <th>0</th>\n",
       "      <td>0P0001CLDK.F</td>\n",
       "      <td>Fidelity MSCI World Index EUR P Acc</td>\n",
       "      <td>Funds</td>\n",
       "    </tr>\n",
       "  </tbody>\n",
       "</table>\n",
       "</div>"
      ],
      "text/plain": [
       "         Ticker                                 Name Sector\n",
       "0  0P0001CLDK.F  Fidelity MSCI World Index EUR P Acc  Funds"
      ]
     },
     "execution_count": 4,
     "metadata": {},
     "output_type": "execute_result"
    }
   ],
   "source": [
    "# Create wiki of cryptocurrencies\n",
    "wiki = pd.DataFrame(columns=['Ticker','Name','Sector'])\n",
    "\n",
    "# Create the data for the DataFrame\n",
    "new_row_df = pd.DataFrame([['0P0001CLDK.F','Fidelity MSCI World Index EUR P Acc','Funds']], columns=['Ticker','Name','Sector'])\n",
    "\n",
    "# Append the new row to the DataFrame\n",
    "wiki = pd.concat([wiki, new_row_df], ignore_index=True)\n",
    "wiki"
   ]
  },
  {
   "cell_type": "code",
   "execution_count": 5,
   "metadata": {},
   "outputs": [],
   "source": [
    "# Get the data for the stock\n",
    "index_list = wiki['Ticker'].tolist()"
   ]
  },
  {
   "cell_type": "code",
   "execution_count": 6,
   "metadata": {},
   "outputs": [
    {
     "data": {
      "application/vnd.jupyter.widget-view+json": {
       "model_id": "018a7bfb8353441e831365cdd9c9ef13",
       "version_major": 2,
       "version_minor": 0
      },
      "text/plain": [
       "  0%|          | 0/1 [00:00<?, ?it/s]"
      ]
     },
     "metadata": {},
     "output_type": "display_data"
    }
   ],
   "source": [
    "# Save all the historical data\n",
    "for stock in tqdm(index_list):\n",
    "    data = yf.download(stock, progress=False,multi_level_index=False,actions=True,auto_adjust=False)\n",
    "    data.to_csv(f\"../input/{stock}.csv\",index=True)"
   ]
  },
  {
   "cell_type": "code",
   "execution_count": 7,
   "metadata": {},
   "outputs": [],
   "source": [
    "# Get the name of the notebook\n",
    "notebook_name = os.path.basename(globals()['__vsc_ipynb_file__'])\n",
    "notebook_name = notebook_name.split('-')[0]"
   ]
  },
  {
   "cell_type": "code",
   "execution_count": 8,
   "metadata": {},
   "outputs": [],
   "source": [
    "# Save all the tickers data\n",
    "wiki[['Name','Sector','Ticker']].to_csv(f\"../tickers/{notebook_name}.csv\",index=True)"
   ]
  },
  {
   "cell_type": "code",
   "execution_count": 9,
   "metadata": {},
   "outputs": [],
   "source": [
    "# Configuration of different parameters of the notebook\n",
    "ticker = '0P0001CLDK.F'\n",
    "year = '2025'"
   ]
  },
  {
   "cell_type": "code",
   "execution_count": 10,
   "metadata": {},
   "outputs": [
    {
     "data": {
      "text/html": [
       "<div>\n",
       "<style scoped>\n",
       "    .dataframe tbody tr th:only-of-type {\n",
       "        vertical-align: middle;\n",
       "    }\n",
       "\n",
       "    .dataframe tbody tr th {\n",
       "        vertical-align: top;\n",
       "    }\n",
       "\n",
       "    .dataframe thead th {\n",
       "        text-align: right;\n",
       "    }\n",
       "</style>\n",
       "<table border=\"1\" class=\"dataframe\">\n",
       "  <thead>\n",
       "    <tr style=\"text-align: right;\">\n",
       "      <th></th>\n",
       "      <th>Adj Close</th>\n",
       "      <th>Capital Gains</th>\n",
       "      <th>Close</th>\n",
       "      <th>Dividends</th>\n",
       "      <th>High</th>\n",
       "      <th>Low</th>\n",
       "      <th>Open</th>\n",
       "      <th>Stock Splits</th>\n",
       "      <th>Volume</th>\n",
       "    </tr>\n",
       "    <tr>\n",
       "      <th>Date</th>\n",
       "      <th></th>\n",
       "      <th></th>\n",
       "      <th></th>\n",
       "      <th></th>\n",
       "      <th></th>\n",
       "      <th></th>\n",
       "      <th></th>\n",
       "      <th></th>\n",
       "      <th></th>\n",
       "    </tr>\n",
       "  </thead>\n",
       "  <tbody>\n",
       "    <tr>\n",
       "      <th>2018-03-20</th>\n",
       "      <td>5.0000</td>\n",
       "      <td>0.0</td>\n",
       "      <td>5.0000</td>\n",
       "      <td>0.0</td>\n",
       "      <td>5.0000</td>\n",
       "      <td>5.0000</td>\n",
       "      <td>5.0000</td>\n",
       "      <td>0.0</td>\n",
       "      <td>0</td>\n",
       "    </tr>\n",
       "    <tr>\n",
       "      <th>2018-03-21</th>\n",
       "      <td>4.9980</td>\n",
       "      <td>0.0</td>\n",
       "      <td>4.9980</td>\n",
       "      <td>0.0</td>\n",
       "      <td>4.9980</td>\n",
       "      <td>4.9980</td>\n",
       "      <td>4.9980</td>\n",
       "      <td>0.0</td>\n",
       "      <td>0</td>\n",
       "    </tr>\n",
       "    <tr>\n",
       "      <th>2018-03-22</th>\n",
       "      <td>4.8959</td>\n",
       "      <td>0.0</td>\n",
       "      <td>4.8959</td>\n",
       "      <td>0.0</td>\n",
       "      <td>4.8959</td>\n",
       "      <td>4.8959</td>\n",
       "      <td>4.8959</td>\n",
       "      <td>0.0</td>\n",
       "      <td>0</td>\n",
       "    </tr>\n",
       "    <tr>\n",
       "      <th>2018-03-23</th>\n",
       "      <td>4.7905</td>\n",
       "      <td>0.0</td>\n",
       "      <td>4.7905</td>\n",
       "      <td>0.0</td>\n",
       "      <td>4.7905</td>\n",
       "      <td>4.7905</td>\n",
       "      <td>4.7905</td>\n",
       "      <td>0.0</td>\n",
       "      <td>0</td>\n",
       "    </tr>\n",
       "    <tr>\n",
       "      <th>2018-03-26</th>\n",
       "      <td>4.8359</td>\n",
       "      <td>0.0</td>\n",
       "      <td>4.8359</td>\n",
       "      <td>0.0</td>\n",
       "      <td>4.8359</td>\n",
       "      <td>4.8359</td>\n",
       "      <td>4.8359</td>\n",
       "      <td>0.0</td>\n",
       "      <td>0</td>\n",
       "    </tr>\n",
       "    <tr>\n",
       "      <th>2018-03-27</th>\n",
       "      <td>4.8222</td>\n",
       "      <td>0.0</td>\n",
       "      <td>4.8222</td>\n",
       "      <td>0.0</td>\n",
       "      <td>4.8222</td>\n",
       "      <td>4.8222</td>\n",
       "      <td>4.8222</td>\n",
       "      <td>0.0</td>\n",
       "      <td>0</td>\n",
       "    </tr>\n",
       "    <tr>\n",
       "      <th>2018-03-28</th>\n",
       "      <td>4.8254</td>\n",
       "      <td>0.0</td>\n",
       "      <td>4.8254</td>\n",
       "      <td>0.0</td>\n",
       "      <td>4.8254</td>\n",
       "      <td>4.8254</td>\n",
       "      <td>4.8254</td>\n",
       "      <td>0.0</td>\n",
       "      <td>0</td>\n",
       "    </tr>\n",
       "    <tr>\n",
       "      <th>2018-03-29</th>\n",
       "      <td>4.8884</td>\n",
       "      <td>0.0</td>\n",
       "      <td>4.8884</td>\n",
       "      <td>0.0</td>\n",
       "      <td>4.8884</td>\n",
       "      <td>4.8884</td>\n",
       "      <td>4.8884</td>\n",
       "      <td>0.0</td>\n",
       "      <td>0</td>\n",
       "    </tr>\n",
       "    <tr>\n",
       "      <th>2018-04-03</th>\n",
       "      <td>4.8578</td>\n",
       "      <td>0.0</td>\n",
       "      <td>4.8578</td>\n",
       "      <td>0.0</td>\n",
       "      <td>4.8578</td>\n",
       "      <td>4.8578</td>\n",
       "      <td>4.8578</td>\n",
       "      <td>0.0</td>\n",
       "      <td>0</td>\n",
       "    </tr>\n",
       "    <tr>\n",
       "      <th>2018-04-04</th>\n",
       "      <td>4.8784</td>\n",
       "      <td>0.0</td>\n",
       "      <td>4.8784</td>\n",
       "      <td>0.0</td>\n",
       "      <td>4.8784</td>\n",
       "      <td>4.8784</td>\n",
       "      <td>4.8784</td>\n",
       "      <td>0.0</td>\n",
       "      <td>0</td>\n",
       "    </tr>\n",
       "  </tbody>\n",
       "</table>\n",
       "</div>"
      ],
      "text/plain": [
       "            Adj Close  Capital Gains   Close  Dividends    High     Low  \\\n",
       "Date                                                                      \n",
       "2018-03-20     5.0000            0.0  5.0000        0.0  5.0000  5.0000   \n",
       "2018-03-21     4.9980            0.0  4.9980        0.0  4.9980  4.9980   \n",
       "2018-03-22     4.8959            0.0  4.8959        0.0  4.8959  4.8959   \n",
       "2018-03-23     4.7905            0.0  4.7905        0.0  4.7905  4.7905   \n",
       "2018-03-26     4.8359            0.0  4.8359        0.0  4.8359  4.8359   \n",
       "2018-03-27     4.8222            0.0  4.8222        0.0  4.8222  4.8222   \n",
       "2018-03-28     4.8254            0.0  4.8254        0.0  4.8254  4.8254   \n",
       "2018-03-29     4.8884            0.0  4.8884        0.0  4.8884  4.8884   \n",
       "2018-04-03     4.8578            0.0  4.8578        0.0  4.8578  4.8578   \n",
       "2018-04-04     4.8784            0.0  4.8784        0.0  4.8784  4.8784   \n",
       "\n",
       "              Open  Stock Splits  Volume  \n",
       "Date                                      \n",
       "2018-03-20  5.0000           0.0       0  \n",
       "2018-03-21  4.9980           0.0       0  \n",
       "2018-03-22  4.8959           0.0       0  \n",
       "2018-03-23  4.7905           0.0       0  \n",
       "2018-03-26  4.8359           0.0       0  \n",
       "2018-03-27  4.8222           0.0       0  \n",
       "2018-03-28  4.8254           0.0       0  \n",
       "2018-03-29  4.8884           0.0       0  \n",
       "2018-04-03  4.8578           0.0       0  \n",
       "2018-04-04  4.8784           0.0       0  "
      ]
     },
     "execution_count": 10,
     "metadata": {},
     "output_type": "execute_result"
    }
   ],
   "source": [
    "# Check DataFrame\n",
    "stock_ticker = pd.read_csv(f\"../input/{ticker}.csv\",index_col=\"Date\",parse_dates=True)\n",
    "stock_ticker.head(10)"
   ]
  },
  {
   "cell_type": "code",
   "execution_count": 11,
   "metadata": {},
   "outputs": [
    {
     "data": {
      "text/html": [
       "<div>\n",
       "<style scoped>\n",
       "    .dataframe tbody tr th:only-of-type {\n",
       "        vertical-align: middle;\n",
       "    }\n",
       "\n",
       "    .dataframe tbody tr th {\n",
       "        vertical-align: top;\n",
       "    }\n",
       "\n",
       "    .dataframe thead th {\n",
       "        text-align: right;\n",
       "    }\n",
       "</style>\n",
       "<table border=\"1\" class=\"dataframe\">\n",
       "  <thead>\n",
       "    <tr style=\"text-align: right;\">\n",
       "      <th></th>\n",
       "      <th>Adj Close</th>\n",
       "      <th>Capital Gains</th>\n",
       "      <th>Close</th>\n",
       "      <th>Dividends</th>\n",
       "      <th>High</th>\n",
       "      <th>Low</th>\n",
       "      <th>Open</th>\n",
       "      <th>Stock Splits</th>\n",
       "      <th>Volume</th>\n",
       "    </tr>\n",
       "    <tr>\n",
       "      <th>Date</th>\n",
       "      <th></th>\n",
       "      <th></th>\n",
       "      <th></th>\n",
       "      <th></th>\n",
       "      <th></th>\n",
       "      <th></th>\n",
       "      <th></th>\n",
       "      <th></th>\n",
       "      <th></th>\n",
       "    </tr>\n",
       "  </thead>\n",
       "  <tbody>\n",
       "    <tr>\n",
       "      <th>2025-03-05</th>\n",
       "      <td>11.4060</td>\n",
       "      <td>0.0</td>\n",
       "      <td>11.4060</td>\n",
       "      <td>0.0</td>\n",
       "      <td>11.4060</td>\n",
       "      <td>11.4060</td>\n",
       "      <td>11.4060</td>\n",
       "      <td>0.0</td>\n",
       "      <td>0</td>\n",
       "    </tr>\n",
       "    <tr>\n",
       "      <th>2025-03-06</th>\n",
       "      <td>11.2107</td>\n",
       "      <td>0.0</td>\n",
       "      <td>11.2107</td>\n",
       "      <td>0.0</td>\n",
       "      <td>11.2107</td>\n",
       "      <td>11.2107</td>\n",
       "      <td>11.2107</td>\n",
       "      <td>0.0</td>\n",
       "      <td>0</td>\n",
       "    </tr>\n",
       "    <tr>\n",
       "      <th>2025-03-07</th>\n",
       "      <td>11.1867</td>\n",
       "      <td>0.0</td>\n",
       "      <td>11.1867</td>\n",
       "      <td>0.0</td>\n",
       "      <td>11.1867</td>\n",
       "      <td>11.1867</td>\n",
       "      <td>11.1867</td>\n",
       "      <td>0.0</td>\n",
       "      <td>0</td>\n",
       "    </tr>\n",
       "    <tr>\n",
       "      <th>2025-03-10</th>\n",
       "      <td>10.9527</td>\n",
       "      <td>0.0</td>\n",
       "      <td>10.9527</td>\n",
       "      <td>0.0</td>\n",
       "      <td>10.9527</td>\n",
       "      <td>10.9527</td>\n",
       "      <td>10.9527</td>\n",
       "      <td>0.0</td>\n",
       "      <td>0</td>\n",
       "    </tr>\n",
       "    <tr>\n",
       "      <th>2025-03-11</th>\n",
       "      <td>10.7795</td>\n",
       "      <td>0.0</td>\n",
       "      <td>10.7795</td>\n",
       "      <td>0.0</td>\n",
       "      <td>10.7795</td>\n",
       "      <td>10.7795</td>\n",
       "      <td>10.7795</td>\n",
       "      <td>0.0</td>\n",
       "      <td>0</td>\n",
       "    </tr>\n",
       "    <tr>\n",
       "      <th>2025-03-12</th>\n",
       "      <td>10.8428</td>\n",
       "      <td>0.0</td>\n",
       "      <td>10.8428</td>\n",
       "      <td>0.0</td>\n",
       "      <td>10.8428</td>\n",
       "      <td>10.8428</td>\n",
       "      <td>10.8428</td>\n",
       "      <td>0.0</td>\n",
       "      <td>0</td>\n",
       "    </tr>\n",
       "    <tr>\n",
       "      <th>2025-03-13</th>\n",
       "      <td>10.7787</td>\n",
       "      <td>0.0</td>\n",
       "      <td>10.7787</td>\n",
       "      <td>0.0</td>\n",
       "      <td>10.7787</td>\n",
       "      <td>10.7787</td>\n",
       "      <td>10.7787</td>\n",
       "      <td>0.0</td>\n",
       "      <td>0</td>\n",
       "    </tr>\n",
       "    <tr>\n",
       "      <th>2025-03-14</th>\n",
       "      <td>10.9632</td>\n",
       "      <td>0.0</td>\n",
       "      <td>10.9632</td>\n",
       "      <td>0.0</td>\n",
       "      <td>10.9632</td>\n",
       "      <td>10.9632</td>\n",
       "      <td>10.9632</td>\n",
       "      <td>0.0</td>\n",
       "      <td>0</td>\n",
       "    </tr>\n",
       "    <tr>\n",
       "      <th>2025-03-17</th>\n",
       "      <td>11.0082</td>\n",
       "      <td>0.0</td>\n",
       "      <td>11.0082</td>\n",
       "      <td>0.0</td>\n",
       "      <td>11.0082</td>\n",
       "      <td>11.0082</td>\n",
       "      <td>11.0082</td>\n",
       "      <td>0.0</td>\n",
       "      <td>0</td>\n",
       "    </tr>\n",
       "    <tr>\n",
       "      <th>2025-03-18</th>\n",
       "      <td>10.9293</td>\n",
       "      <td>0.0</td>\n",
       "      <td>10.9293</td>\n",
       "      <td>0.0</td>\n",
       "      <td>10.9293</td>\n",
       "      <td>10.9293</td>\n",
       "      <td>10.9293</td>\n",
       "      <td>0.0</td>\n",
       "      <td>0</td>\n",
       "    </tr>\n",
       "  </tbody>\n",
       "</table>\n",
       "</div>"
      ],
      "text/plain": [
       "            Adj Close  Capital Gains    Close  Dividends     High      Low  \\\n",
       "Date                                                                         \n",
       "2025-03-05    11.4060            0.0  11.4060        0.0  11.4060  11.4060   \n",
       "2025-03-06    11.2107            0.0  11.2107        0.0  11.2107  11.2107   \n",
       "2025-03-07    11.1867            0.0  11.1867        0.0  11.1867  11.1867   \n",
       "2025-03-10    10.9527            0.0  10.9527        0.0  10.9527  10.9527   \n",
       "2025-03-11    10.7795            0.0  10.7795        0.0  10.7795  10.7795   \n",
       "2025-03-12    10.8428            0.0  10.8428        0.0  10.8428  10.8428   \n",
       "2025-03-13    10.7787            0.0  10.7787        0.0  10.7787  10.7787   \n",
       "2025-03-14    10.9632            0.0  10.9632        0.0  10.9632  10.9632   \n",
       "2025-03-17    11.0082            0.0  11.0082        0.0  11.0082  11.0082   \n",
       "2025-03-18    10.9293            0.0  10.9293        0.0  10.9293  10.9293   \n",
       "\n",
       "               Open  Stock Splits  Volume  \n",
       "Date                                       \n",
       "2025-03-05  11.4060           0.0       0  \n",
       "2025-03-06  11.2107           0.0       0  \n",
       "2025-03-07  11.1867           0.0       0  \n",
       "2025-03-10  10.9527           0.0       0  \n",
       "2025-03-11  10.7795           0.0       0  \n",
       "2025-03-12  10.8428           0.0       0  \n",
       "2025-03-13  10.7787           0.0       0  \n",
       "2025-03-14  10.9632           0.0       0  \n",
       "2025-03-17  11.0082           0.0       0  \n",
       "2025-03-18  10.9293           0.0       0  "
      ]
     },
     "execution_count": 11,
     "metadata": {},
     "output_type": "execute_result"
    }
   ],
   "source": [
    "# Check DataFrame tail\n",
    "stock_ticker.tail(10)"
   ]
  },
  {
   "cell_type": "code",
   "execution_count": 12,
   "metadata": {},
   "outputs": [
    {
     "data": {
      "image/png": "[encoded data removed]",
      "text/plain": [
       "<Figure size 1500x800 with 2 Axes>"
      ]
     },
     "metadata": {},
     "output_type": "display_data"
    }
   ],
   "source": [
    "# Plot the adjusted close price\n",
    "plt.style.use('ggplot')\n",
    "fig, axs = plt.subplots(2,1,gridspec_kw={'height_ratios': [3,1],'hspace':0.25},figsize=(15, 8),sharex=True)\n",
    "\n",
    "fig.suptitle(f\"{ticker}\")\n",
    "axs[0].set_ylabel('Price')\n",
    "axs[0].plot(stock_ticker['Adj Close'],linewidth=1)\n",
    "axs[0].tick_params(labelbottom=True)\n",
    "\n",
    "axs[1].set_ylabel(\"Volume\")\n",
    "axs[1].set_xlabel(\"Date\")\n",
    "axs[1].plot(stock_ticker['Volume'],linewidth=1,color='g')\n",
    "\n",
    "plt.show()"
   ]
  },
  {
   "cell_type": "code",
   "execution_count": 13,
   "metadata": {},
   "outputs": [
    {
     "data": {
      "application/vnd.plotly.v1+json": {
       "config": {
        "plotlyServerURL": "https://plot.ly"
       },
       "data": [
        {
         "mode": "lines",
         "name": "0P0001CLDK.F",
         "type": "scatter",
         "x": [
          "2018-03-20T00:00:00.000000000",
          "2018-03-21T00:00:00.000000000",
          "2018-03-22T00:00:00.000000000",
          "2018-03-23T00:00:00.000000000",
          "2018-03-26T00:00:00.000000000",
          "2018-03-27T00:00:00.000000000",
          "2018-03-28T00:00:00.000000000",
          "2018-03-29T00:00:00.000000000",
          "2018-04-03T00:00:00.000000000",
          "2018-04-04T00:00:00.000000000",
          "2018-04-05T00:00:00.000000000",
          "2018-04-06T00:00:00.000000000",
          "2018-04-09T00:00:00.000000000",
          "2018-04-10T00:00:00.000000000",
          "2018-04-11T00:00:00.000000000",
          "2018-04-12T00:00:00.000000000",
          "2018-04-13T00:00:00.000000000",
          "2018-04-16T00:00:00.000000000",
          "2018-04-17T00:00:00.000000000",
          "2018-04-18T00:00:00.000000000",
          "2018-04-19T00:00:00.000000000",
          "2018-04-20T00:00:00.000000000",
          "2018-04-23T00:00:00.000000000",
          "2018-04-24T00:00:00.000000000",
          "2018-04-25T00:00:00.000000000",
          "2018-04-26T00:00:00.000000000",
          "2018-04-27T00:00:00.000000000",
          "2018-04-30T00:00:00.000000000",
          "2018-05-02T00:00:00.000000000",
          "2018-05-03T00:00:00.000000000",
          "2018-05-04T00:00:00.000000000",
          "2018-05-07T00:00:00.000000000",
          "2018-05-08T00:00:00.000000000",
          "2018-05-09T00:00:00.000000000",
          "2018-05-10T00:00:00.000000000",
          "2018-05-11T00:00:00.000000000",
          "2018-05-14T00:00:00.000000000",
          "2018-05-15T00:00:00.000000000",
          "2018-05-16T00:00:00.000000000",
          "2018-05-17T00:00:00.000000000",
          "2018-05-18T00:00:00.000000000",
          "2018-05-21T00:00:00.000000000",
          "2018-05-22T00:00:00.000000000",
          "2018-05-23T00:00:00.000000000",
          "2018-05-24T00:00:00.000000000",
          "2018-05-25T00:00:00.000000000",
          "2018-05-28T00:00:00.000000000",
          "2018-05-29T00:00:00.000000000",
          "2018-05-30T00:00:00.000000000",
          "2018-05-31T00:00:00.000000000",
          "2018-06-01T00:00:00.000000000",
          "2018-06-04T00:00:00.000000000",
          "2018-06-05T00:00:00.000000000",
          "2018-06-06T00:00:00.000000000",
          "2018-06-07T00:00:00.000000000",
          "2018-06-08T00:00:00.000000000",
          "2018-06-11T00:00:00.000000000",
          "2018-06-12T00:00:00.000000000",
          "2018-06-13T00:00:00.000000000",
          "2018-06-14T00:00:00.000000000",
          "2018-06-15T00:00:00.000000000",
          "2018-06-18T00:00:00.000000000",
          "2018-06-19T00:00:00.000000000",
          "2018-06-20T00:00:00.000000000",
          "2018-06-21T00:00:00.000000000",
          "2018-06-22T00:00:00.000000000",
          "2018-06-25T00:00:00.000000000",
          "2018-06-26T00:00:00.000000000",
          "2018-06-27T00:00:00.000000000",
          "2018-06-28T00:00:00.000000000",
          "2018-06-29T00:00:00.000000000",
          "2018-07-02T00:00:00.000000000",
          "2018-07-03T00:00:00.000000000",
          "2018-07-04T00:00:00.000000000",
          "2018-07-05T00:00:00.000000000",
          "2018-07-06T00:00:00.000000000",
          "2018-07-09T00:00:00.000000000",
          "2018-07-10T00:00:00.000000000",
          "2018-07-11T00:00:00.000000000",
          "2018-07-12T00:00:00.000000000",
          "2018-07-13T00:00:00.000000000",
          "2018-07-16T00:00:00.000000000",
          "2018-07-17T00:00:00.000000000",
          "2018-07-18T00:00:00.000000000",
          "2018-07-19T00:00:00.000000000",
          "2018-07-20T00:00:00.000000000",
          "2018-07-23T00:00:00.000000000",
          "2018-07-24T00:00:00.000000000",
          "2018-07-25T00:00:00.000000000",
          "2018-07-26T00:00:00.000000000",
          "2018-07-27T00:00:00.000000000",
          "2018-07-30T00:00:00.000000000",
          "2018-07-31T00:00:00.000000000",
          "2018-08-01T00:00:00.000000000",
          "2018-08-02T00:00:00.000000000",
          "2018-08-03T00:00:00.000000000",
          "2018-08-06T00:00:00.000000000",
          "2018-08-07T00:00:00.000000000",
          "2018-08-08T00:00:00.000000000",
          "2018-08-09T00:00:00.000000000",
          "2018-08-10T00:00:00.000000000",
          "2018-08-13T00:00:00.000000000",
          "2018-08-14T00:00:00.000000000",
          "2018-08-15T00:00:00.000000000",
          "2018-08-16T00:00:00.000000000",
          "2018-08-17T00:00:00.000000000",
          "2018-08-20T00:00:00.000000000",
          "2018-08-21T00:00:00.000000000",
          "2018-08-22T00:00:00.000000000",
          "2018-08-23T00:00:00.000000000",
          "2018-08-24T00:00:00.000000000",
          "2018-08-27T00:00:00.000000000",
          "2018-08-28T00:00:00.000000000",
          "2018-08-29T00:00:00.000000000",
          "2018-08-30T00:00:00.000000000",
          "2018-08-31T00:00:00.000000000",
          "2018-09-03T00:00:00.000000000",
          "2018-09-04T00:00:00.000000000",
          "2018-09-05T00:00:00.000000000",
          "2018-09-06T00:00:00.000000000",
          "2018-09-07T00:00:00.000000000",
          "2018-09-10T00:00:00.000000000",
          "2018-09-11T00:00:00.000000000",
          "2018-09-12T00:00:00.000000000",
          "2018-09-13T00:00:00.000000000",
          "2018-09-14T00:00:00.000000000",
          "2018-09-17T00:00:00.000000000",
          "2018-09-18T00:00:00.000000000",
          "2018-09-19T00:00:00.000000000",
          "2018-09-20T00:00:00.000000000",
          "2018-09-21T00:00:00.000000000",
          "2018-09-24T00:00:00.000000000",
          "2018-09-25T00:00:00.000000000",
          "2018-09-26T00:00:00.000000000",
          "2018-09-27T00:00:00.000000000",
          "2018-09-28T00:00:00.000000000",
          "2018-10-01T00:00:00.000000000",
          "2018-10-02T00:00:00.000000000",
          "2018-10-04T00:00:00.000000000",
          "2018-10-05T00:00:00.000000000",
          "2018-10-08T00:00:00.000000000",
          "2018-10-09T00:00:00.000000000",
          "2018-10-10T00:00:00.000000000",
          "2018-10-11T00:00:00.000000000",
          "2018-10-12T00:00:00.000000000",
          "2018-10-15T00:00:00.000000000",
          "2018-10-16T00:00:00.000000000",
          "2018-10-17T00:00:00.000000000",
          "2018-10-18T00:00:00.000000000",
          "2018-10-19T00:00:00.000000000",
          "2018-10-22T00:00:00.000000000",
          "2018-10-23T00:00:00.000000000",
          "2018-10-24T00:00:00.000000000",
          "2018-10-25T00:00:00.000000000",
          "2018-10-26T00:00:00.000000000",
          "2018-10-29T00:00:00.000000000",
          "2018-10-30T00:00:00.000000000",
          "2018-10-31T00:00:00.000000000",
          "2018-11-01T00:00:00.000000000",
          "2018-11-02T00:00:00.000000000",
          "2018-11-05T00:00:00.000000000",
          "2018-11-06T00:00:00.000000000",
          "2018-11-07T00:00:00.000000000",
          "2018-11-08T00:00:00.000000000",
          "2018-11-09T00:00:00.000000000",
          "2018-11-12T00:00:00.000000000",
          "2018-11-13T00:00:00.000000000",
          "2018-11-14T00:00:00.000000000",
          "2018-11-15T00:00:00.000000000",
          "2018-11-16T00:00:00.000000000",
          "2018-11-19T00:00:00.000000000",
          "2018-11-20T00:00:00.000000000",
          "2018-11-21T00:00:00.000000000",
          "2018-11-22T00:00:00.000000000",
          "2018-11-23T00:00:00.000000000",
          "2018-11-26T00:00:00.000000000",
          "2018-11-27T00:00:00.000000000",
          "2018-11-28T00:00:00.000000000",
          "2018-11-29T00:00:00.000000000",
          "2018-11-30T00:00:00.000000000",
          "2018-12-03T00:00:00.000000000",
          "2018-12-04T00:00:00.000000000",
          "2018-12-05T00:00:00.000000000",
          "2018-12-06T00:00:00.000000000",
          "2018-12-07T00:00:00.000000000",
          "2018-12-10T00:00:00.000000000",
          "2018-12-11T00:00:00.000000000",
          "2018-12-12T00:00:00.000000000",
          "2018-12-13T00:00:00.000000000",
          "2018-12-14T00:00:00.000000000",
          "2018-12-17T00:00:00.000000000",
          "2018-12-18T00:00:00.000000000",
          "2018-12-19T00:00:00.000000000",
          "2018-12-20T00:00:00.000000000",
          "2018-12-21T00:00:00.000000000",
          "2018-12-27T00:00:00.000000000",
          "2018-12-28T00:00:00.000000000",
          "2019-01-02T00:00:00.000000000",
          "2019-01-03T00:00:00.000000000",
          "2019-01-04T00:00:00.000000000",
          "2019-01-07T00:00:00.000000000",
          "2019-01-08T00:00:00.000000000",
          "2019-01-09T00:00:00.000000000",
          "2019-01-10T00:00:00.000000000",
          "2019-01-11T00:00:00.000000000",
          "2019-01-14T00:00:00.000000000",
          "2019-01-15T00:00:00.000000000",
          "2019-01-16T00:00:00.000000000",
          "2019-01-17T00:00:00.000000000",
          "2019-01-18T00:00:00.000000000",
          "2019-01-21T00:00:00.000000000",
          "2019-01-22T00:00:00.000000000",
          "2019-01-23T00:00:00.000000000",
          "2019-01-24T00:00:00.000000000",
          "2019-01-25T00:00:00.000000000",
          "2019-01-28T00:00:00.000000000",
          "2019-01-29T00:00:00.000000000",
          "2019-01-30T00:00:00.000000000",
          "2019-01-31T00:00:00.000000000",
          "2019-02-01T00:00:00.000000000",
          "2019-02-04T00:00:00.000000000",
          "2019-02-05T00:00:00.000000000",
          "2019-02-06T00:00:00.000000000",
          "2019-02-07T00:00:00.000000000",
          "2019-02-08T00:00:00.000000000",
          "2019-02-11T00:00:00.000000000",
          "2019-02-12T00:00:00.000000000",
          "2019-02-13T00:00:00.000000000",
          "2019-02-14T00:00:00.000000000",
          "2019-02-15T00:00:00.000000000",
          "2019-02-18T00:00:00.000000000",
          "2019-02-19T00:00:00.000000000",
          "2019-02-20T00:00:00.000000000",
          "2019-02-21T00:00:00.000000000",
          "2019-02-22T00:00:00.000000000",
          "2019-02-25T00:00:00.000000000",
          "2019-02-26T00:00:00.000000000",
          "2019-02-27T00:00:00.000000000",
          "2019-02-28T00:00:00.000000000",
          "2019-03-01T00:00:00.000000000",
          "2019-03-04T00:00:00.000000000",
          "2019-03-05T00:00:00.000000000",
          "2019-03-06T00:00:00.000000000",
          "2019-03-07T00:00:00.000000000",
          "2019-03-08T00:00:00.000000000",
          "2019-03-11T00:00:00.000000000",
          "2019-03-12T00:00:00.000000000",
          "2019-03-13T00:00:00.000000000",
          "2019-03-14T00:00:00.000000000",
          "2019-03-15T00:00:00.000000000",
          "2019-03-18T00:00:00.000000000",
          "2019-03-19T00:00:00.000000000",
          "2019-03-20T00:00:00.000000000",
          "2019-03-21T00:00:00.000000000",
          "2019-03-22T00:00:00.000000000",
          "2019-03-25T00:00:00.000000000",
          "2019-03-26T00:00:00.000000000",
          "2019-03-27T00:00:00.000000000",
          "2019-03-28T00:00:00.000000000",
          "2019-03-29T00:00:00.000000000",
          "2019-04-01T00:00:00.000000000",
          "2019-04-02T00:00:00.000000000",
          "2019-04-03T00:00:00.000000000",
          "2019-04-04T00:00:00.000000000",
          "2019-04-05T00:00:00.000000000",
          "2019-04-08T00:00:00.000000000",
          "2019-04-09T00:00:00.000000000",
          "2019-04-10T00:00:00.000000000",
          "2019-04-11T00:00:00.000000000",
          "2019-04-12T00:00:00.000000000",
          "2019-04-15T00:00:00.000000000",
          "2019-04-16T00:00:00.000000000",
          "2019-04-17T00:00:00.000000000",
          "2019-04-18T00:00:00.000000000",
          "2019-04-23T00:00:00.000000000",
          "2019-04-24T00:00:00.000000000",
          "2019-04-25T00:00:00.000000000",
          "2019-04-26T00:00:00.000000000",
          "2019-04-29T00:00:00.000000000",
          "2019-04-30T00:00:00.000000000",
          "2019-05-02T00:00:00.000000000",
          "2019-05-03T00:00:00.000000000",
          "2019-05-06T00:00:00.000000000",
          "2019-05-07T00:00:00.000000000",
          "2019-05-08T00:00:00.000000000",
          "2019-05-09T00:00:00.000000000",
          "2019-05-10T00:00:00.000000000",
          "2019-05-13T00:00:00.000000000",
          "2019-05-14T00:00:00.000000000",
          "2019-05-15T00:00:00.000000000",
          "2019-05-16T00:00:00.000000000",
          "2019-05-17T00:00:00.000000000",
          "2019-05-20T00:00:00.000000000",
          "2019-05-21T00:00:00.000000000",
          "2019-05-22T00:00:00.000000000",
          "2019-05-23T00:00:00.000000000",
          "2019-05-24T00:00:00.000000000",
          "2019-05-27T00:00:00.000000000",
          "2019-05-28T00:00:00.000000000",
          "2019-05-29T00:00:00.000000000",
          "2019-05-30T00:00:00.000000000",
          "2019-05-31T00:00:00.000000000",
          "2019-06-03T00:00:00.000000000",
          "2019-06-04T00:00:00.000000000",
          "2019-06-05T00:00:00.000000000",
          "2019-06-06T00:00:00.000000000",
          "2019-06-07T00:00:00.000000000",
          "2019-06-11T00:00:00.000000000",
          "2019-06-12T00:00:00.000000000",
          "2019-06-13T00:00:00.000000000",
          "2019-06-14T00:00:00.000000000",
          "2019-06-17T00:00:00.000000000",
          "2019-06-18T00:00:00.000000000",
          "2019-06-19T00:00:00.000000000",
          "2019-06-20T00:00:00.000000000",
          "2019-06-21T00:00:00.000000000",
          "2019-06-24T00:00:00.000000000",
          "2019-06-25T00:00:00.000000000",
          "2019-06-26T00:00:00.000000000",
          "2019-06-27T00:00:00.000000000",
          "2019-06-28T00:00:00.000000000",
          "2019-07-01T00:00:00.000000000",
          "2019-07-02T00:00:00.000000000",
          "2019-07-03T00:00:00.000000000",
          "2019-07-04T00:00:00.000000000",
          "2019-07-05T00:00:00.000000000",
          "2019-07-08T00:00:00.000000000",
          "2019-07-09T00:00:00.000000000",
          "2019-07-10T00:00:00.000000000",
          "2019-07-11T00:00:00.000000000",
          "2019-07-12T00:00:00.000000000",
          "2019-07-15T00:00:00.000000000",
          "2019-07-16T00:00:00.000000000",
          "2019-07-17T00:00:00.000000000",
          "2019-07-18T00:00:00.000000000",
          "2019-07-19T00:00:00.000000000",
          "2019-07-22T00:00:00.000000000",
          "2019-07-23T00:00:00.000000000",
          "2019-07-24T00:00:00.000000000",
          "2019-07-25T00:00:00.000000000",
          "2019-07-26T00:00:00.000000000",
          "2019-07-29T00:00:00.000000000",
          "2019-07-30T00:00:00.000000000",
          "2019-07-31T00:00:00.000000000",
          "2019-08-01T00:00:00.000000000",
          "2019-08-02T00:00:00.000000000",
          "2019-08-05T00:00:00.000000000",
          "2019-08-06T00:00:00.000000000",
          "2019-08-07T00:00:00.000000000",
          "2019-08-08T00:00:00.000000000",
          "2019-08-09T00:00:00.000000000",
          "2019-08-12T00:00:00.000000000",
          "2019-08-13T00:00:00.000000000",
          "2019-08-14T00:00:00.000000000",
          "2019-08-15T00:00:00.000000000",
          "2019-08-16T00:00:00.000000000",
          "2019-08-19T00:00:00.000000000",
          "2019-08-20T00:00:00.000000000",
          "2019-08-21T00:00:00.000000000",
          "2019-08-22T00:00:00.000000000",
          "2019-08-23T00:00:00.000000000",
          "2019-08-26T00:00:00.000000000",
          "2019-08-27T00:00:00.000000000",
          "2019-08-28T00:00:00.000000000",
          "2019-08-29T00:00:00.000000000",
          "2019-08-30T00:00:00.000000000",
          "2019-09-02T00:00:00.000000000",
          "2019-09-03T00:00:00.000000000",
          "2019-09-04T00:00:00.000000000",
          "2019-09-05T00:00:00.000000000",
          "2019-09-06T00:00:00.000000000",
          "2019-09-09T00:00:00.000000000",
          "2019-09-10T00:00:00.000000000",
          "2019-09-11T00:00:00.000000000",
          "2019-09-12T00:00:00.000000000",
          "2019-09-13T00:00:00.000000000",
          "2019-09-16T00:00:00.000000000",
          "2019-09-17T00:00:00.000000000",
          "2019-09-18T00:00:00.000000000",
          "2019-09-19T00:00:00.000000000",
          "2019-09-20T00:00:00.000000000",
          "2019-09-23T00:00:00.000000000",
          "2019-09-24T00:00:00.000000000",
          "2019-09-25T00:00:00.000000000",
          "2019-09-26T00:00:00.000000000",
          "2019-09-27T00:00:00.000000000",
          "2019-09-30T00:00:00.000000000",
          "2019-10-01T00:00:00.000000000",
          "2019-10-02T00:00:00.000000000",
          "2019-10-04T00:00:00.000000000",
          "2019-10-07T00:00:00.000000000",
          "2019-10-08T00:00:00.000000000",
          "2019-10-09T00:00:00.000000000",
          "2019-10-10T00:00:00.000000000",
          "2019-10-11T00:00:00.000000000",
          "2019-10-14T00:00:00.000000000",
          "2019-10-15T00:00:00.000000000",
          "2019-10-16T00:00:00.000000000",
          "2019-10-17T00:00:00.000000000",
          "2019-10-18T00:00:00.000000000",
          "2019-10-21T00:00:00.000000000",
          "2019-10-22T00:00:00.000000000",
          "2019-10-23T00:00:00.000000000",
          "2019-10-24T00:00:00.000000000",
          "2019-10-25T00:00:00.000000000",
          "2019-10-28T00:00:00.000000000",
          "2019-10-29T00:00:00.000000000",
          "2019-10-30T00:00:00.000000000",
          "2019-10-31T00:00:00.000000000",
          "2019-11-01T00:00:00.000000000",
          "2019-11-04T00:00:00.000000000",
          "2019-11-05T00:00:00.000000000",
          "2019-11-06T00:00:00.000000000",
          "2019-11-07T00:00:00.000000000",
          "2019-11-08T00:00:00.000000000",
          "2019-11-11T00:00:00.000000000",
          "2019-11-12T00:00:00.000000000",
          "2019-11-13T00:00:00.000000000",
          "2019-11-14T00:00:00.000000000",
          "2019-11-15T00:00:00.000000000",
          "2019-11-18T00:00:00.000000000",
          "2019-11-19T00:00:00.000000000",
          "2019-11-20T00:00:00.000000000",
          "2019-11-21T00:00:00.000000000",
          "2019-11-22T00:00:00.000000000",
          "2019-11-25T00:00:00.000000000",
          "2019-11-26T00:00:00.000000000",
          "2019-11-27T00:00:00.000000000",
          "2019-11-28T00:00:00.000000000",
          "2019-11-29T00:00:00.000000000",
          "2019-12-02T00:00:00.000000000",
          "2019-12-03T00:00:00.000000000",
          "2019-12-04T00:00:00.000000000",
          "2019-12-05T00:00:00.000000000",
          "2019-12-06T00:00:00.000000000",
          "2019-12-09T00:00:00.000000000",
          "2019-12-10T00:00:00.000000000",
          "2019-12-11T00:00:00.000000000",
          "2019-12-12T00:00:00.000000000",
          "2019-12-13T00:00:00.000000000",
          "2019-12-16T00:00:00.000000000",
          "2019-12-17T00:00:00.000000000",
          "2019-12-18T00:00:00.000000000",
          "2019-12-19T00:00:00.000000000",
          "2019-12-20T00:00:00.000000000",
          "2019-12-23T00:00:00.000000000",
          "2019-12-27T00:00:00.000000000",
          "2019-12-30T00:00:00.000000000",
          "2020-01-02T00:00:00.000000000",
          "2020-01-03T00:00:00.000000000",
          "2020-01-06T00:00:00.000000000",
          "2020-01-07T00:00:00.000000000",
          "2020-01-08T00:00:00.000000000",
          "2020-01-09T00:00:00.000000000",
          "2020-01-10T00:00:00.000000000",
          "2020-01-13T00:00:00.000000000",
          "2020-01-14T00:00:00.000000000",
          "2020-01-15T00:00:00.000000000",
          "2020-01-16T00:00:00.000000000",
          "2020-01-17T00:00:00.000000000",
          "2020-01-20T00:00:00.000000000",
          "2020-01-21T00:00:00.000000000",
          "2020-01-22T00:00:00.000000000",
          "2020-01-23T00:00:00.000000000",
          "2020-01-24T00:00:00.000000000",
          "2020-01-27T00:00:00.000000000",
          "2020-01-28T00:00:00.000000000",
          "2020-01-29T00:00:00.000000000",
          "2020-01-30T00:00:00.000000000",
          "2020-01-31T00:00:00.000000000",
          "2020-02-03T00:00:00.000000000",
          "2020-02-04T00:00:00.000000000",
          "2020-02-05T00:00:00.000000000",
          "2020-02-06T00:00:00.000000000",
          "2020-02-07T00:00:00.000000000",
          "2020-02-10T00:00:00.000000000",
          "2020-02-11T00:00:00.000000000",
          "2020-02-12T00:00:00.000000000",
          "2020-02-13T00:00:00.000000000",
          "2020-02-14T00:00:00.000000000",
          "2020-02-17T00:00:00.000000000",
          "2020-02-18T00:00:00.000000000",
          "2020-02-19T00:00:00.000000000",
          "2020-02-20T00:00:00.000000000",
          "2020-02-21T00:00:00.000000000",
          "2020-02-24T00:00:00.000000000",
          "2020-02-25T00:00:00.000000000",
          "2020-02-26T00:00:00.000000000",
          "2020-02-27T00:00:00.000000000",
          "2020-02-28T00:00:00.000000000",
          "2020-03-02T00:00:00.000000000",
          "2020-03-03T00:00:00.000000000",
          "2020-03-04T00:00:00.000000000",
          "2020-03-05T00:00:00.000000000",
          "2020-03-06T00:00:00.000000000",
          "2020-03-09T00:00:00.000000000",
          "2020-03-10T00:00:00.000000000",
          "2020-03-11T00:00:00.000000000",
          "2020-03-12T00:00:00.000000000",
          "2020-03-13T00:00:00.000000000",
          "2020-03-16T00:00:00.000000000",
          "2020-03-17T00:00:00.000000000",
          "2020-03-18T00:00:00.000000000",
          "2020-03-19T00:00:00.000000000",
          "2020-03-20T00:00:00.000000000",
          "2020-03-23T00:00:00.000000000",
          "2020-03-24T00:00:00.000000000",
          "2020-03-25T00:00:00.000000000",
          "2020-03-26T00:00:00.000000000",
          "2020-03-27T00:00:00.000000000",
          "2020-03-30T00:00:00.000000000",
          "2020-03-31T00:00:00.000000000",
          "2020-04-01T00:00:00.000000000",
          "2020-04-02T00:00:00.000000000",
          "2020-04-03T00:00:00.000000000",
          "2020-04-06T00:00:00.000000000",
          "2020-04-07T00:00:00.000000000",
          "2020-04-08T00:00:00.000000000",
          "2020-04-09T00:00:00.000000000",
          "2020-04-14T00:00:00.000000000",
          "2020-04-15T00:00:00.000000000",
          "2020-04-16T00:00:00.000000000",
          "2020-04-17T00:00:00.000000000",
          "2020-04-20T00:00:00.000000000",
          "2020-04-21T00:00:00.000000000",
          "2020-04-22T00:00:00.000000000",
          "2020-04-23T00:00:00.000000000",
          "2020-04-24T00:00:00.000000000",
          "2020-04-27T00:00:00.000000000",
          "2020-04-28T00:00:00.000000000",
          "2020-04-29T00:00:00.000000000",
          "2020-04-30T00:00:00.000000000",
          "2020-05-04T00:00:00.000000000",
          "2020-05-05T00:00:00.000000000",
          "2020-05-06T00:00:00.000000000",
          "2020-05-07T00:00:00.000000000",
          "2020-05-08T00:00:00.000000000",
          "2020-05-11T00:00:00.000000000",
          "2020-05-12T00:00:00.000000000",
          "2020-05-13T00:00:00.000000000",
          "2020-05-14T00:00:00.000000000",
          "2020-05-15T00:00:00.000000000",
          "2020-05-18T00:00:00.000000000",
          "2020-05-19T00:00:00.000000000",
          "2020-05-20T00:00:00.000000000",
          "2020-05-21T00:00:00.000000000",
          "2020-05-22T00:00:00.000000000",
          "2020-05-25T00:00:00.000000000",
          "2020-05-26T00:00:00.000000000",
          "2020-05-27T00:00:00.000000000",
          "2020-05-28T00:00:00.000000000",
          "2020-05-29T00:00:00.000000000",
          "2020-06-02T00:00:00.000000000",
          "2020-06-03T00:00:00.000000000",
          "2020-06-04T00:00:00.000000000",
          "2020-06-05T00:00:00.000000000",
          "2020-06-08T00:00:00.000000000",
          "2020-06-09T00:00:00.000000000",
          "2020-06-10T00:00:00.000000000",
          "2020-06-11T00:00:00.000000000",
          "2020-06-12T00:00:00.000000000",
          "2020-06-15T00:00:00.000000000",
          "2020-06-16T00:00:00.000000000",
          "2020-06-17T00:00:00.000000000",
          "2020-06-18T00:00:00.000000000",
          "2020-06-19T00:00:00.000000000",
          "2020-06-22T00:00:00.000000000",
          "2020-06-23T00:00:00.000000000",
          "2020-06-24T00:00:00.000000000",
          "2020-06-25T00:00:00.000000000",
          "2020-06-26T00:00:00.000000000",
          "2020-06-29T00:00:00.000000000",
          "2020-06-30T00:00:00.000000000",
          "2020-07-01T00:00:00.000000000",
          "2020-07-02T00:00:00.000000000",
          "2020-07-03T00:00:00.000000000",
          "2020-07-06T00:00:00.000000000",
          "2020-07-07T00:00:00.000000000",
          "2020-07-08T00:00:00.000000000",
          "2020-07-09T00:00:00.000000000",
          "2020-07-10T00:00:00.000000000",
          "2020-07-13T00:00:00.000000000",
          "2020-07-14T00:00:00.000000000",
          "2020-07-15T00:00:00.000000000",
          "2020-07-16T00:00:00.000000000",
          "2020-07-17T00:00:00.000000000",
          "2020-07-20T00:00:00.000000000",
          "2020-07-21T00:00:00.000000000",
          "2020-07-22T00:00:00.000000000",
          "2020-07-23T00:00:00.000000000",
          "2020-07-24T00:00:00.000000000",
          "2020-07-27T00:00:00.000000000",
          "2020-07-28T00:00:00.000000000",
          "2020-07-29T00:00:00.000000000",
          "2020-07-30T00:00:00.000000000",
          "2020-07-31T00:00:00.000000000",
          "2020-08-03T00:00:00.000000000",
          "2020-08-04T00:00:00.000000000",
          "2020-08-05T00:00:00.000000000",
          "2020-08-06T00:00:00.000000000",
          "2020-08-07T00:00:00.000000000",
          "2020-08-10T00:00:00.000000000",
          "2020-08-11T00:00:00.000000000",
          "2020-08-12T00:00:00.000000000",
          "2020-08-13T00:00:00.000000000",
          "2020-08-14T00:00:00.000000000",
          "2020-08-17T00:00:00.000000000",
          "2020-08-18T00:00:00.000000000",
          "2020-08-19T00:00:00.000000000",
          "2020-08-20T00:00:00.000000000",
          "2020-08-21T00:00:00.000000000",
          "2020-08-24T00:00:00.000000000",
          "2020-08-25T00:00:00.000000000",
          "2020-08-26T00:00:00.000000000",
          "2020-08-27T00:00:00.000000000",
          "2020-08-28T00:00:00.000000000",
          "2020-08-31T00:00:00.000000000",
          "2020-09-01T00:00:00.000000000",
          "2020-09-02T00:00:00.000000000",
          "2020-09-03T00:00:00.000000000",
          "2020-09-04T00:00:00.000000000",
          "2020-09-07T00:00:00.000000000",
          "2020-09-08T00:00:00.000000000",
          "2020-09-09T00:00:00.000000000",
          "2020-09-10T00:00:00.000000000",
          "2020-09-11T00:00:00.000000000",
          "2020-09-14T00:00:00.000000000",
          "2020-09-15T00:00:00.000000000",
          "2020-09-16T00:00:00.000000000",
          "2020-09-17T00:00:00.000000000",
          "2020-09-18T00:00:00.000000000",
          "2020-09-21T00:00:00.000000000",
          "2020-09-22T00:00:00.000000000",
          "2020-09-23T00:00:00.000000000",
          "2020-09-24T00:00:00.000000000",
          "2020-09-25T00:00:00.000000000",
          "2020-09-28T00:00:00.000000000",
          "2020-09-29T00:00:00.000000000",
          "2020-09-30T00:00:00.000000000",
          "2020-10-01T00:00:00.000000000",
          "2020-10-02T00:00:00.000000000",
          "2020-10-05T00:00:00.000000000",
          "2020-10-06T00:00:00.000000000",
          "2020-10-07T00:00:00.000000000",
          "2020-10-08T00:00:00.000000000",
          "2020-10-09T00:00:00.000000000",
          "2020-10-12T00:00:00.000000000",
          "2020-10-13T00:00:00.000000000",
          "2020-10-14T00:00:00.000000000",
          "2020-10-15T00:00:00.000000000",
          "2020-10-16T00:00:00.000000000",
          "2020-10-19T00:00:00.000000000",
          "2020-10-20T00:00:00.000000000",
          "2020-10-21T00:00:00.000000000",
          "2020-10-22T00:00:00.000000000",
          "2020-10-23T00:00:00.000000000",
          "2020-10-26T00:00:00.000000000",
          "2020-10-27T00:00:00.000000000",
          "2020-10-28T00:00:00.000000000",
          "2020-10-29T00:00:00.000000000",
          "2020-10-30T00:00:00.000000000",
          "2020-11-02T00:00:00.000000000",
          "2020-11-03T00:00:00.000000000",
          "2020-11-04T00:00:00.000000000",
          "2020-11-05T00:00:00.000000000",
          "2020-11-06T00:00:00.000000000",
          "2020-11-09T00:00:00.000000000",
          "2020-11-10T00:00:00.000000000",
          "2020-11-11T00:00:00.000000000",
          "2020-11-12T00:00:00.000000000",
          "2020-11-13T00:00:00.000000000",
          "2020-11-16T00:00:00.000000000",
          "2020-11-17T00:00:00.000000000",
          "2020-11-18T00:00:00.000000000",
          "2020-11-19T00:00:00.000000000",
          "2020-11-20T00:00:00.000000000",
          "2020-11-23T00:00:00.000000000",
          "2020-11-24T00:00:00.000000000",
          "2020-11-25T00:00:00.000000000",
          "2020-11-26T00:00:00.000000000",
          "2020-11-27T00:00:00.000000000",
          "2020-11-30T00:00:00.000000000",
          "2020-12-01T00:00:00.000000000",
          "2020-12-02T00:00:00.000000000",
          "2020-12-03T00:00:00.000000000",
          "2020-12-04T00:00:00.000000000",
          "2020-12-07T00:00:00.000000000",
          "2020-12-08T00:00:00.000000000",
          "2020-12-09T00:00:00.000000000",
          "2020-12-10T00:00:00.000000000",
          "2020-12-11T00:00:00.000000000",
          "2020-12-14T00:00:00.000000000",
          "2020-12-15T00:00:00.000000000",
          "2020-12-16T00:00:00.000000000",
          "2020-12-17T00:00:00.000000000",
          "2020-12-18T00:00:00.000000000",
          "2020-12-21T00:00:00.000000000",
          "2020-12-22T00:00:00.000000000",
          "2020-12-23T00:00:00.000000000",
          "2020-12-28T00:00:00.000000000",
          "2020-12-29T00:00:00.000000000",
          "2020-12-30T00:00:00.000000000",
          "2021-01-04T00:00:00.000000000",
          "2021-01-05T00:00:00.000000000",
          "2021-01-06T00:00:00.000000000",
          "2021-01-07T00:00:00.000000000",
          "2021-01-08T00:00:00.000000000",
          "2021-01-11T00:00:00.000000000",
          "2021-01-12T00:00:00.000000000",
          "2021-01-13T00:00:00.000000000",
          "2021-01-14T00:00:00.000000000",
          "2021-01-15T00:00:00.000000000",
          "2021-01-18T00:00:00.000000000",
          "2021-01-19T00:00:00.000000000",
          "2021-01-20T00:00:00.000000000",
          "2021-01-21T00:00:00.000000000",
          "2021-01-22T00:00:00.000000000",
          "2021-01-25T00:00:00.000000000",
          "2021-01-26T00:00:00.000000000",
          "2021-01-27T00:00:00.000000000",
          "2021-01-28T00:00:00.000000000",
          "2021-01-29T00:00:00.000000000",
          "2021-02-01T00:00:00.000000000",
          "2021-02-02T00:00:00.000000000",
          "2021-02-03T00:00:00.000000000",
          "2021-02-04T00:00:00.000000000",
          "2021-02-05T00:00:00.000000000",
          "2021-02-08T00:00:00.000000000",
          "2021-02-09T00:00:00.000000000",
          "2021-02-10T00:00:00.000000000",
          "2021-02-11T00:00:00.000000000",
          "2021-02-12T00:00:00.000000000",
          "2021-02-15T00:00:00.000000000",
          "2021-02-16T00:00:00.000000000",
          "2021-02-17T00:00:00.000000000",
          "2021-02-18T00:00:00.000000000",
          "2021-02-19T00:00:00.000000000",
          "2021-02-22T00:00:00.000000000",
          "2021-02-23T00:00:00.000000000",
          "2021-02-24T00:00:00.000000000",
          "2021-02-25T00:00:00.000000000",
          "2021-02-26T00:00:00.000000000",
          "2021-03-01T00:00:00.000000000",
          "2021-03-02T00:00:00.000000000",
          "2021-03-03T00:00:00.000000000",
          "2021-03-04T00:00:00.000000000",
          "2021-03-05T00:00:00.000000000",
          "2021-03-08T00:00:00.000000000",
          "2021-03-09T00:00:00.000000000",
          "2021-03-10T00:00:00.000000000",
          "2021-03-11T00:00:00.000000000",
          "2021-03-12T00:00:00.000000000",
          "2021-03-15T00:00:00.000000000",
          "2021-03-16T00:00:00.000000000",
          "2021-03-17T00:00:00.000000000",
          "2021-03-18T00:00:00.000000000",
          "2021-03-19T00:00:00.000000000",
          "2021-03-22T00:00:00.000000000",
          "2021-03-23T00:00:00.000000000",
          "2021-03-24T00:00:00.000000000",
          "2021-03-25T00:00:00.000000000",
          "2021-03-26T00:00:00.000000000",
          "2021-03-29T00:00:00.000000000",
          "2021-03-30T00:00:00.000000000",
          "2021-03-31T00:00:00.000000000",
          "2021-04-01T00:00:00.000000000",
          "2021-04-06T00:00:00.000000000",
          "2021-04-07T00:00:00.000000000",
          "2021-04-08T00:00:00.000000000",
          "2021-04-09T00:00:00.000000000",
          "2021-04-12T00:00:00.000000000",
          "2021-04-13T00:00:00.000000000",
          "2021-04-14T00:00:00.000000000",
          "2021-04-15T00:00:00.000000000",
          "2021-04-16T00:00:00.000000000",
          "2021-04-19T00:00:00.000000000",
          "2021-04-20T00:00:00.000000000",
          "2021-04-21T00:00:00.000000000",
          "2021-04-22T00:00:00.000000000",
          "2021-04-23T00:00:00.000000000",
          "2021-04-26T00:00:00.000000000",
          "2021-04-27T00:00:00.000000000",
          "2021-04-28T00:00:00.000000000",
          "2021-04-29T00:00:00.000000000",
          "2021-04-30T00:00:00.000000000",
          "2021-05-03T00:00:00.000000000",
          "2021-05-04T00:00:00.000000000",
          "2021-05-05T00:00:00.000000000",
          "2021-05-06T00:00:00.000000000",
          "2021-05-07T00:00:00.000000000",
          "2021-05-10T00:00:00.000000000",
          "2021-05-11T00:00:00.000000000",
          "2021-05-12T00:00:00.000000000",
          "2021-05-13T00:00:00.000000000",
          "2021-05-14T00:00:00.000000000",
          "2021-05-17T00:00:00.000000000",
          "2021-05-18T00:00:00.000000000",
          "2021-05-19T00:00:00.000000000",
          "2021-05-20T00:00:00.000000000",
          "2021-05-21T00:00:00.000000000",
          "2021-05-25T00:00:00.000000000",
          "2021-05-26T00:00:00.000000000",
          "2021-05-27T00:00:00.000000000",
          "2021-05-28T00:00:00.000000000",
          "2021-05-31T00:00:00.000000000",
          "2021-06-01T00:00:00.000000000",
          "2021-06-02T00:00:00.000000000",
          "2021-06-03T00:00:00.000000000",
          "2021-06-04T00:00:00.000000000",
          "2021-06-07T00:00:00.000000000",
          "2021-06-08T00:00:00.000000000",
          "2021-06-09T00:00:00.000000000",
          "2021-06-10T00:00:00.000000000",
          "2021-06-11T00:00:00.000000000",
          "2021-06-14T00:00:00.000000000",
          "2021-06-15T00:00:00.000000000",
          "2021-06-16T00:00:00.000000000",
          "2021-06-17T00:00:00.000000000",
          "2021-06-18T00:00:00.000000000",
          "2021-06-21T00:00:00.000000000",
          "2021-06-22T00:00:00.000000000",
          "2021-06-23T00:00:00.000000000",
          "2021-06-24T00:00:00.000000000",
          "2021-06-25T00:00:00.000000000",
          "2021-06-28T00:00:00.000000000",
          "2021-06-29T00:00:00.000000000",
          "2021-06-30T00:00:00.000000000",
          "2021-07-01T00:00:00.000000000",
          "2021-07-02T00:00:00.000000000",
          "2021-07-05T00:00:00.000000000",
          "2021-07-06T00:00:00.000000000",
          "2021-07-07T00:00:00.000000000",
          "2021-07-08T00:00:00.000000000",
          "2021-07-09T00:00:00.000000000",
          "2021-07-12T00:00:00.000000000",
          "2021-07-13T00:00:00.000000000",
          "2021-07-14T00:00:00.000000000",
          "2021-07-15T00:00:00.000000000",
          "2021-07-16T00:00:00.000000000",
          "2021-07-19T00:00:00.000000000",
          "2021-07-20T00:00:00.000000000",
          "2021-07-21T00:00:00.000000000",
          "2021-07-22T00:00:00.000000000",
          "2021-07-23T00:00:00.000000000",
          "2021-07-26T00:00:00.000000000",
          "2021-07-27T00:00:00.000000000",
          "2021-07-28T00:00:00.000000000",
          "2021-07-29T00:00:00.000000000",
          "2021-07-30T00:00:00.000000000",
          "2021-08-02T00:00:00.000000000",
          "2021-08-03T00:00:00.000000000",
          "2021-08-04T00:00:00.000000000",
          "2021-08-05T00:00:00.000000000",
          "2021-08-06T00:00:00.000000000",
          "2021-08-09T00:00:00.000000000",
          "2021-08-10T00:00:00.000000000",
          "2021-08-11T00:00:00.000000000",
          "2021-08-12T00:00:00.000000000",
          "2021-08-13T00:00:00.000000000",
          "2021-08-16T00:00:00.000000000",
          "2021-08-17T00:00:00.000000000",
          "2021-08-18T00:00:00.000000000",
          "2021-08-19T00:00:00.000000000",
          "2021-08-20T00:00:00.000000000",
          "2021-08-23T00:00:00.000000000",
          "2021-08-24T00:00:00.000000000",
          "2021-08-25T00:00:00.000000000",
          "2021-08-26T00:00:00.000000000",
          "2021-08-27T00:00:00.000000000",
          "2021-08-30T00:00:00.000000000",
          "2021-08-31T00:00:00.000000000",
          "2021-09-01T00:00:00.000000000",
          "2021-09-02T00:00:00.000000000",
          "2021-09-03T00:00:00.000000000",
          "2021-09-06T00:00:00.000000000",
          "2021-09-07T00:00:00.000000000",
          "2021-09-08T00:00:00.000000000",
          "2021-09-09T00:00:00.000000000",
          "2021-09-10T00:00:00.000000000",
          "2021-09-13T00:00:00.000000000",
          "2021-09-14T00:00:00.000000000",
          "2021-09-15T00:00:00.000000000",
          "2021-09-16T00:00:00.000000000",
          "2021-09-17T00:00:00.000000000",
          "2021-09-20T00:00:00.000000000",
          "2021-09-21T00:00:00.000000000",
          "2021-09-22T00:00:00.000000000",
          "2021-09-23T00:00:00.000000000",
          "2021-09-24T00:00:00.000000000",
          "2021-09-27T00:00:00.000000000",
          "2021-09-28T00:00:00.000000000",
          "2021-09-29T00:00:00.000000000",
          "2021-09-30T00:00:00.000000000",
          "2021-10-01T00:00:00.000000000",
          "2021-10-04T00:00:00.000000000",
          "2021-10-05T00:00:00.000000000",
          "2021-10-06T00:00:00.000000000",
          "2021-10-07T00:00:00.000000000",
          "2021-10-08T00:00:00.000000000",
          "2021-10-11T00:00:00.000000000",
          "2021-10-12T00:00:00.000000000",
          "2021-10-13T00:00:00.000000000",
          "2021-10-14T00:00:00.000000000",
          "2021-10-15T00:00:00.000000000",
          "2021-10-18T00:00:00.000000000",
          "2021-10-19T00:00:00.000000000",
          "2021-10-20T00:00:00.000000000",
          "2021-10-21T00:00:00.000000000",
          "2021-10-22T00:00:00.000000000",
          "2021-10-25T00:00:00.000000000",
          "2021-10-26T00:00:00.000000000",
          "2021-10-27T00:00:00.000000000",
          "2021-10-28T00:00:00.000000000",
          "2021-10-29T00:00:00.000000000",
          "2021-11-01T00:00:00.000000000",
          "2021-11-02T00:00:00.000000000",
          "2021-11-03T00:00:00.000000000",
          "2021-11-04T00:00:00.000000000",
          "2021-11-05T00:00:00.000000000",
          "2021-11-08T00:00:00.000000000",
          "2021-11-09T00:00:00.000000000",
          "2021-11-10T00:00:00.000000000",
          "2021-11-11T00:00:00.000000000",
          "2021-11-12T00:00:00.000000000",
          "2021-11-15T00:00:00.000000000",
          "2021-11-16T00:00:00.000000000",
          "2021-11-17T00:00:00.000000000",
          "2021-11-18T00:00:00.000000000",
          "2021-11-19T00:00:00.000000000",
          "2021-11-22T00:00:00.000000000",
          "2021-11-23T00:00:00.000000000",
          "2021-11-24T00:00:00.000000000",
          "2021-11-25T00:00:00.000000000",
          "2021-11-26T00:00:00.000000000",
          "2021-11-29T00:00:00.000000000",
          "2021-11-30T00:00:00.000000000",
          "2021-12-01T00:00:00.000000000",
          "2021-12-02T00:00:00.000000000",
          "2021-12-03T00:00:00.000000000",
          "2021-12-06T00:00:00.000000000",
          "2021-12-07T00:00:00.000000000",
          "2021-12-08T00:00:00.000000000",
          "2021-12-09T00:00:00.000000000",
          "2021-12-10T00:00:00.000000000",
          "2021-12-13T00:00:00.000000000",
          "2021-12-14T00:00:00.000000000",
          "2021-12-15T00:00:00.000000000",
          "2021-12-16T00:00:00.000000000",
          "2021-12-17T00:00:00.000000000",
          "2021-12-20T00:00:00.000000000",
          "2021-12-21T00:00:00.000000000",
          "2021-12-22T00:00:00.000000000",
          "2021-12-23T00:00:00.000000000",
          "2021-12-28T00:00:00.000000000",
          "2021-12-29T00:00:00.000000000",
          "2021-12-30T00:00:00.000000000",
          "2022-01-04T00:00:00.000000000",
          "2022-01-05T00:00:00.000000000",
          "2022-01-06T00:00:00.000000000",
          "2022-01-07T00:00:00.000000000",
          "2022-01-10T00:00:00.000000000",
          "2022-01-11T00:00:00.000000000",
          "2022-01-12T00:00:00.000000000",
          "2022-01-13T00:00:00.000000000",
          "2022-01-14T00:00:00.000000000",
          "2022-01-17T00:00:00.000000000",
          "2022-01-18T00:00:00.000000000",
          "2022-01-19T00:00:00.000000000",
          "2022-01-20T00:00:00.000000000",
          "2022-01-21T00:00:00.000000000",
          "2022-01-24T00:00:00.000000000",
          "2022-01-25T00:00:00.000000000",
          "2022-01-26T00:00:00.000000000",
          "2022-01-27T00:00:00.000000000",
          "2022-01-28T00:00:00.000000000",
          "2022-01-31T00:00:00.000000000",
          "2022-02-01T00:00:00.000000000",
          "2022-02-02T00:00:00.000000000",
          "2022-02-03T00:00:00.000000000",
          "2022-02-04T00:00:00.000000000",
          "2022-02-07T00:00:00.000000000",
          "2022-02-08T00:00:00.000000000",
          "2022-02-09T00:00:00.000000000",
          "2022-02-10T00:00:00.000000000",
          "2022-02-11T00:00:00.000000000",
          "2022-02-14T00:00:00.000000000",
          "2022-02-15T00:00:00.000000000",
          "2022-02-16T00:00:00.000000000",
          "2022-02-17T00:00:00.000000000",
          "2022-02-18T00:00:00.000000000",
          "2022-02-21T00:00:00.000000000",
          "2022-02-22T00:00:00.000000000",
          "2022-02-23T00:00:00.000000000",
          "2022-02-24T00:00:00.000000000",
          "2022-02-25T00:00:00.000000000",
          "2022-02-28T00:00:00.000000000",
          "2022-03-01T00:00:00.000000000",
          "2022-03-02T00:00:00.000000000",
          "2022-03-03T00:00:00.000000000",
          "2022-03-04T00:00:00.000000000",
          "2022-03-07T00:00:00.000000000",
          "2022-03-08T00:00:00.000000000",
          "2022-03-09T00:00:00.000000000",
          "2022-03-10T00:00:00.000000000",
          "2022-03-11T00:00:00.000000000",
          "2022-03-14T00:00:00.000000000",
          "2022-03-15T00:00:00.000000000",
          "2022-03-16T00:00:00.000000000",
          "2022-03-17T00:00:00.000000000",
          "2022-03-18T00:00:00.000000000",
          "2022-03-21T00:00:00.000000000",
          "2022-03-22T00:00:00.000000000",
          "2022-03-23T00:00:00.000000000",
          "2022-03-24T00:00:00.000000000",
          "2022-03-25T00:00:00.000000000",
          "2022-03-28T00:00:00.000000000",
          "2022-03-29T00:00:00.000000000",
          "2022-03-30T00:00:00.000000000",
          "2022-03-31T00:00:00.000000000",
          "2022-04-01T00:00:00.000000000",
          "2022-04-04T00:00:00.000000000",
          "2022-04-05T00:00:00.000000000",
          "2022-04-06T00:00:00.000000000",
          "2022-04-07T00:00:00.000000000",
          "2022-04-08T00:00:00.000000000",
          "2022-04-11T00:00:00.000000000",
          "2022-04-12T00:00:00.000000000",
          "2022-04-13T00:00:00.000000000",
          "2022-04-14T00:00:00.000000000",
          "2022-04-19T00:00:00.000000000",
          "2022-04-20T00:00:00.000000000",
          "2022-04-21T00:00:00.000000000",
          "2022-04-22T00:00:00.000000000",
          "2022-04-25T00:00:00.000000000",
          "2022-04-26T00:00:00.000000000",
          "2022-04-27T00:00:00.000000000",
          "2022-04-28T00:00:00.000000000",
          "2022-04-29T00:00:00.000000000",
          "2022-05-02T00:00:00.000000000",
          "2022-05-03T00:00:00.000000000",
          "2022-05-04T00:00:00.000000000",
          "2022-05-05T00:00:00.000000000",
          "2022-05-06T00:00:00.000000000",
          "2022-05-09T00:00:00.000000000",
          "2022-05-10T00:00:00.000000000",
          "2022-05-11T00:00:00.000000000",
          "2022-05-12T00:00:00.000000000",
          "2022-05-13T00:00:00.000000000",
          "2022-05-16T00:00:00.000000000",
          "2022-05-17T00:00:00.000000000",
          "2022-05-18T00:00:00.000000000",
          "2022-05-19T00:00:00.000000000",
          "2022-05-20T00:00:00.000000000",
          "2022-05-23T00:00:00.000000000",
          "2022-05-24T00:00:00.000000000",
          "2022-05-25T00:00:00.000000000",
          "2022-05-26T00:00:00.000000000",
          "2022-05-27T00:00:00.000000000",
          "2022-05-30T00:00:00.000000000",
          "2022-05-31T00:00:00.000000000",
          "2022-06-01T00:00:00.000000000",
          "2022-06-02T00:00:00.000000000",
          "2022-06-03T00:00:00.000000000",
          "2022-06-06T00:00:00.000000000",
          "2022-06-07T00:00:00.000000000",
          "2022-06-08T00:00:00.000000000",
          "2022-06-09T00:00:00.000000000",
          "2022-06-10T00:00:00.000000000",
          "2022-06-13T00:00:00.000000000",
          "2022-06-14T00:00:00.000000000",
          "2022-06-15T00:00:00.000000000",
          "2022-06-16T00:00:00.000000000",
          "2022-06-17T00:00:00.000000000",
          "2022-06-20T00:00:00.000000000",
          "2022-06-21T00:00:00.000000000",
          "2022-06-22T00:00:00.000000000",
          "2022-06-23T00:00:00.000000000",
          "2022-06-24T00:00:00.000000000",
          "2022-06-27T00:00:00.000000000",
          "2022-06-28T00:00:00.000000000",
          "2022-06-29T00:00:00.000000000",
          "2022-06-30T00:00:00.000000000",
          "2022-07-01T00:00:00.000000000",
          "2022-07-04T00:00:00.000000000",
          "2022-07-05T00:00:00.000000000",
          "2022-07-06T00:00:00.000000000",
          "2022-07-07T00:00:00.000000000",
          "2022-07-08T00:00:00.000000000",
          "2022-07-11T00:00:00.000000000",
          "2022-07-12T00:00:00.000000000",
          "2022-07-13T00:00:00.000000000",
          "2022-07-14T00:00:00.000000000",
          "2022-07-15T00:00:00.000000000",
          "2022-07-18T00:00:00.000000000",
          "2022-07-19T00:00:00.000000000",
          "2022-07-20T00:00:00.000000000",
          "2022-07-21T00:00:00.000000000",
          "2022-07-22T00:00:00.000000000",
          "2022-07-25T00:00:00.000000000",
          "2022-07-26T00:00:00.000000000",
          "2022-07-27T00:00:00.000000000",
          "2022-07-28T00:00:00.000000000",
          "2022-07-29T00:00:00.000000000",
          "2022-08-01T00:00:00.000000000",
          "2022-08-02T00:00:00.000000000",
          "2022-08-03T00:00:00.000000000",
          "2022-08-04T00:00:00.000000000",
          "2022-08-05T00:00:00.000000000",
          "2022-08-08T00:00:00.000000000",
          "2022-08-09T00:00:00.000000000",
          "2022-08-10T00:00:00.000000000",
          "2022-08-11T00:00:00.000000000",
          "2022-08-12T00:00:00.000000000",
          "2022-08-15T00:00:00.000000000",
          "2022-08-16T00:00:00.000000000",
          "2022-08-17T00:00:00.000000000",
          "2022-08-18T00:00:00.000000000",
          "2022-08-19T00:00:00.000000000",
          "2022-08-22T00:00:00.000000000",
          "2022-08-23T00:00:00.000000000",
          "2022-08-24T00:00:00.000000000",
          "2022-08-25T00:00:00.000000000",
          "2022-08-26T00:00:00.000000000",
          "2022-08-29T00:00:00.000000000",
          "2022-08-30T00:00:00.000000000",
          "2022-08-31T00:00:00.000000000",
          "2022-09-01T00:00:00.000000000",
          "2022-09-02T00:00:00.000000000",
          "2022-09-05T00:00:00.000000000",
          "2022-09-06T00:00:00.000000000",
          "2022-09-07T00:00:00.000000000",
          "2022-09-08T00:00:00.000000000",
          "2022-09-09T00:00:00.000000000",
          "2022-09-12T00:00:00.000000000",
          "2022-09-13T00:00:00.000000000",
          "2022-09-14T00:00:00.000000000",
          "2022-09-15T00:00:00.000000000",
          "2022-09-16T00:00:00.000000000",
          "2022-09-19T00:00:00.000000000",
          "2022-09-20T00:00:00.000000000",
          "2022-09-21T00:00:00.000000000",
          "2022-09-22T00:00:00.000000000",
          "2022-09-23T00:00:00.000000000",
          "2022-09-26T00:00:00.000000000",
          "2022-09-27T00:00:00.000000000",
          "2022-09-28T00:00:00.000000000",
          "2022-09-29T00:00:00.000000000",
          "2022-09-30T00:00:00.000000000",
          "2022-10-03T00:00:00.000000000",
          "2022-10-04T00:00:00.000000000",
          "2022-10-05T00:00:00.000000000",
          "2022-10-06T00:00:00.000000000",
          "2022-10-07T00:00:00.000000000",
          "2022-10-10T00:00:00.000000000",
          "2022-10-11T00:00:00.000000000",
          "2022-10-12T00:00:00.000000000",
          "2022-10-13T00:00:00.000000000",
          "2022-10-14T00:00:00.000000000",
          "2022-10-17T00:00:00.000000000",
          "2022-10-18T00:00:00.000000000",
          "2022-10-19T00:00:00.000000000",
          "2022-10-20T00:00:00.000000000",
          "2022-10-21T00:00:00.000000000",
          "2022-10-24T00:00:00.000000000",
          "2022-10-25T00:00:00.000000000",
          "2022-10-26T00:00:00.000000000",
          "2022-10-27T00:00:00.000000000",
          "2022-10-28T00:00:00.000000000",
          "2022-10-31T00:00:00.000000000",
          "2022-11-01T00:00:00.000000000",
          "2022-11-02T00:00:00.000000000",
          "2022-11-03T00:00:00.000000000",
          "2022-11-04T00:00:00.000000000",
          "2022-11-07T00:00:00.000000000",
          "2022-11-08T00:00:00.000000000",
          "2022-11-09T00:00:00.000000000",
          "2022-11-10T00:00:00.000000000",
          "2022-11-11T00:00:00.000000000",
          "2022-11-14T00:00:00.000000000",
          "2022-11-15T00:00:00.000000000",
          "2022-11-16T00:00:00.000000000",
          "2022-11-17T00:00:00.000000000",
          "2022-11-18T00:00:00.000000000",
          "2022-11-21T00:00:00.000000000",
          "2022-11-22T00:00:00.000000000",
          "2022-11-23T00:00:00.000000000",
          "2022-11-24T00:00:00.000000000",
          "2022-11-25T00:00:00.000000000",
          "2022-11-28T00:00:00.000000000",
          "2022-11-29T00:00:00.000000000",
          "2022-11-30T00:00:00.000000000",
          "2022-12-01T00:00:00.000000000",
          "2022-12-02T00:00:00.000000000",
          "2022-12-05T00:00:00.000000000",
          "2022-12-06T00:00:00.000000000",
          "2022-12-07T00:00:00.000000000",
          "2022-12-08T00:00:00.000000000",
          "2022-12-09T00:00:00.000000000",
          "2022-12-12T00:00:00.000000000",
          "2022-12-13T00:00:00.000000000",
          "2022-12-14T00:00:00.000000000",
          "2022-12-15T00:00:00.000000000",
          "2022-12-16T00:00:00.000000000",
          "2022-12-19T00:00:00.000000000",
          "2022-12-20T00:00:00.000000000",
          "2022-12-21T00:00:00.000000000",
          "2022-12-22T00:00:00.000000000",
          "2022-12-23T00:00:00.000000000",
          "2022-12-27T00:00:00.000000000",
          "2022-12-28T00:00:00.000000000",
          "2022-12-29T00:00:00.000000000",
          "2022-12-30T00:00:00.000000000",
          "2023-01-03T00:00:00.000000000",
          "2023-01-04T00:00:00.000000000",
          "2023-01-05T00:00:00.000000000",
          "2023-01-06T00:00:00.000000000",
          "2023-01-09T00:00:00.000000000",
          "2023-01-10T00:00:00.000000000",
          "2023-01-11T00:00:00.000000000",
          "2023-01-12T00:00:00.000000000",
          "2023-01-13T00:00:00.000000000",
          "2023-01-16T00:00:00.000000000",
          "2023-01-17T00:00:00.000000000",
          "2023-01-18T00:00:00.000000000",
          "2023-01-19T00:00:00.000000000",
          "2023-01-20T00:00:00.000000000",
          "2023-01-23T00:00:00.000000000",
          "2023-01-24T00:00:00.000000000",
          "2023-01-25T00:00:00.000000000",
          "2023-01-26T00:00:00.000000000",
          "2023-01-27T00:00:00.000000000",
          "2023-01-30T00:00:00.000000000",
          "2023-01-31T00:00:00.000000000",
          "2023-02-01T00:00:00.000000000",
          "2023-02-02T00:00:00.000000000",
          "2023-02-03T00:00:00.000000000",
          "2023-02-06T00:00:00.000000000",
          "2023-02-07T00:00:00.000000000",
          "2023-02-08T00:00:00.000000000",
          "2023-02-09T00:00:00.000000000",
          "2023-02-10T00:00:00.000000000",
          "2023-02-13T00:00:00.000000000",
          "2023-02-14T00:00:00.000000000",
          "2023-02-15T00:00:00.000000000",
          "2023-02-16T00:00:00.000000000",
          "2023-02-17T00:00:00.000000000",
          "2023-02-20T00:00:00.000000000",
          "2023-02-21T00:00:00.000000000",
          "2023-02-22T00:00:00.000000000",
          "2023-02-23T00:00:00.000000000",
          "2023-02-24T00:00:00.000000000",
          "2023-02-27T00:00:00.000000000",
          "2023-02-28T00:00:00.000000000",
          "2023-03-01T00:00:00.000000000",
          "2023-03-02T00:00:00.000000000",
          "2023-03-03T00:00:00.000000000",
          "2023-03-06T00:00:00.000000000",
          "2023-03-07T00:00:00.000000000",
          "2023-03-08T00:00:00.000000000",
          "2023-03-09T00:00:00.000000000",
          "2023-03-10T00:00:00.000000000",
          "2023-03-13T00:00:00.000000000",
          "2023-03-14T00:00:00.000000000",
          "2023-03-15T00:00:00.000000000",
          "2023-03-16T00:00:00.000000000",
          "2023-03-17T00:00:00.000000000",
          "2023-03-20T00:00:00.000000000",
          "2023-03-21T00:00:00.000000000",
          "2023-03-22T00:00:00.000000000",
          "2023-03-23T00:00:00.000000000",
          "2023-03-24T00:00:00.000000000",
          "2023-03-27T00:00:00.000000000",
          "2023-03-28T00:00:00.000000000",
          "2023-03-29T00:00:00.000000000",
          "2023-03-30T00:00:00.000000000",
          "2023-03-31T00:00:00.000000000",
          "2023-04-03T00:00:00.000000000",
          "2023-04-04T00:00:00.000000000",
          "2023-04-05T00:00:00.000000000",
          "2023-04-06T00:00:00.000000000",
          "2023-04-11T00:00:00.000000000",
          "2023-04-12T00:00:00.000000000",
          "2023-04-13T00:00:00.000000000",
          "2023-04-14T00:00:00.000000000",
          "2023-04-17T00:00:00.000000000",
          "2023-04-18T00:00:00.000000000",
          "2023-04-19T00:00:00.000000000",
          "2023-04-20T00:00:00.000000000",
          "2023-04-21T00:00:00.000000000",
          "2023-04-24T00:00:00.000000000",
          "2023-04-25T00:00:00.000000000",
          "2023-04-26T00:00:00.000000000",
          "2023-04-27T00:00:00.000000000",
          "2023-04-28T00:00:00.000000000",
          "2023-05-02T00:00:00.000000000",
          "2023-05-03T00:00:00.000000000",
          "2023-05-04T00:00:00.000000000",
          "2023-05-05T00:00:00.000000000",
          "2023-05-08T00:00:00.000000000",
          "2023-05-09T00:00:00.000000000",
          "2023-05-10T00:00:00.000000000",
          "2023-05-11T00:00:00.000000000",
          "2023-05-12T00:00:00.000000000",
          "2023-05-15T00:00:00.000000000",
          "2023-05-16T00:00:00.000000000",
          "2023-05-17T00:00:00.000000000",
          "2023-05-18T00:00:00.000000000",
          "2023-05-19T00:00:00.000000000",
          "2023-05-22T00:00:00.000000000",
          "2023-05-23T00:00:00.000000000",
          "2023-05-24T00:00:00.000000000",
          "2023-05-25T00:00:00.000000000",
          "2023-05-26T00:00:00.000000000",
          "2023-05-29T00:00:00.000000000",
          "2023-05-30T00:00:00.000000000",
          "2023-05-31T00:00:00.000000000",
          "2023-06-01T00:00:00.000000000",
          "2023-06-02T00:00:00.000000000",
          "2023-06-05T00:00:00.000000000",
          "2023-06-06T00:00:00.000000000",
          "2023-06-07T00:00:00.000000000",
          "2023-06-08T00:00:00.000000000",
          "2023-06-09T00:00:00.000000000",
          "2023-06-12T00:00:00.000000000",
          "2023-06-13T00:00:00.000000000",
          "2023-06-14T00:00:00.000000000",
          "2023-06-15T00:00:00.000000000",
          "2023-06-16T00:00:00.000000000",
          "2023-06-19T00:00:00.000000000",
          "2023-06-20T00:00:00.000000000",
          "2023-06-21T00:00:00.000000000",
          "2023-06-22T00:00:00.000000000",
          "2023-06-23T00:00:00.000000000",
          "2023-06-26T00:00:00.000000000",
          "2023-06-27T00:00:00.000000000",
          "2023-06-28T00:00:00.000000000",
          "2023-06-29T00:00:00.000000000",
          "2023-06-30T00:00:00.000000000",
          "2023-07-03T00:00:00.000000000",
          "2023-07-04T00:00:00.000000000",
          "2023-07-05T00:00:00.000000000",
          "2023-07-06T00:00:00.000000000",
          "2023-07-07T00:00:00.000000000",
          "2023-07-10T00:00:00.000000000",
          "2023-07-11T00:00:00.000000000",
          "2023-07-12T00:00:00.000000000",
          "2023-07-13T00:00:00.000000000",
          "2023-07-14T00:00:00.000000000",
          "2023-07-17T00:00:00.000000000",
          "2023-07-18T00:00:00.000000000",
          "2023-07-19T00:00:00.000000000",
          "2023-07-20T00:00:00.000000000",
          "2023-07-21T00:00:00.000000000",
          "2023-07-24T00:00:00.000000000",
          "2023-07-25T00:00:00.000000000",
          "2023-07-26T00:00:00.000000000",
          "2023-07-27T00:00:00.000000000",
          "2023-07-28T00:00:00.000000000",
          "2023-07-31T00:00:00.000000000",
          "2023-08-01T00:00:00.000000000",
          "2023-08-02T00:00:00.000000000",
          "2023-08-03T00:00:00.000000000",
          "2023-08-04T00:00:00.000000000",
          "2023-08-07T00:00:00.000000000",
          "2023-08-08T00:00:00.000000000",
          "2023-08-09T00:00:00.000000000",
          "2023-08-10T00:00:00.000000000",
          "2023-08-11T00:00:00.000000000",
          "2023-08-14T00:00:00.000000000",
          "2023-08-15T00:00:00.000000000",
          "2023-08-16T00:00:00.000000000",
          "2023-08-17T00:00:00.000000000",
          "2023-08-18T00:00:00.000000000",
          "2023-08-21T00:00:00.000000000",
          "2023-08-22T00:00:00.000000000",
          "2023-08-23T00:00:00.000000000",
          "2023-08-24T00:00:00.000000000",
          "2023-08-25T00:00:00.000000000",
          "2023-08-28T00:00:00.000000000",
          "2023-08-29T00:00:00.000000000",
          "2023-08-30T00:00:00.000000000",
          "2023-08-31T00:00:00.000000000",
          "2023-09-01T00:00:00.000000000",
          "2023-09-04T00:00:00.000000000",
          "2023-09-05T00:00:00.000000000",
          "2023-09-06T00:00:00.000000000",
          "2023-09-07T00:00:00.000000000",
          "2023-09-08T00:00:00.000000000",
          "2023-09-11T00:00:00.000000000",
          "2023-09-12T00:00:00.000000000",
          "2023-09-13T00:00:00.000000000",
          "2023-09-14T00:00:00.000000000",
          "2023-09-15T00:00:00.000000000",
          "2023-09-18T00:00:00.000000000",
          "2023-09-19T00:00:00.000000000",
          "2023-09-20T00:00:00.000000000",
          "2023-09-21T00:00:00.000000000",
          "2023-09-22T00:00:00.000000000",
          "2023-09-25T00:00:00.000000000",
          "2023-09-26T00:00:00.000000000",
          "2023-09-27T00:00:00.000000000",
          "2023-09-28T00:00:00.000000000",
          "2023-09-29T00:00:00.000000000",
          "2023-10-02T00:00:00.000000000",
          "2023-10-03T00:00:00.000000000",
          "2023-10-04T00:00:00.000000000",
          "2023-10-05T00:00:00.000000000",
          "2023-10-06T00:00:00.000000000",
          "2023-10-09T00:00:00.000000000",
          "2023-10-10T00:00:00.000000000",
          "2023-10-11T00:00:00.000000000",
          "2023-10-12T00:00:00.000000000",
          "2023-10-13T00:00:00.000000000",
          "2023-10-16T00:00:00.000000000",
          "2023-10-17T00:00:00.000000000",
          "2023-10-18T00:00:00.000000000",
          "2023-10-19T00:00:00.000000000",
          "2023-10-20T00:00:00.000000000",
          "2023-10-23T00:00:00.000000000",
          "2023-10-24T00:00:00.000000000",
          "2023-10-25T00:00:00.000000000",
          "2023-10-26T00:00:00.000000000",
          "2023-10-27T00:00:00.000000000",
          "2023-10-30T00:00:00.000000000",
          "2023-10-31T00:00:00.000000000",
          "2023-11-01T00:00:00.000000000",
          "2023-11-02T00:00:00.000000000",
          "2023-11-03T00:00:00.000000000",
          "2023-11-06T00:00:00.000000000",
          "2023-11-07T00:00:00.000000000",
          "2023-11-08T00:00:00.000000000",
          "2023-11-09T00:00:00.000000000",
          "2023-11-10T00:00:00.000000000",
          "2023-11-13T00:00:00.000000000",
          "2023-11-14T00:00:00.000000000",
          "2023-11-15T00:00:00.000000000",
          "2023-11-16T00:00:00.000000000",
          "2023-11-17T00:00:00.000000000",
          "2023-11-20T00:00:00.000000000",
          "2023-11-21T00:00:00.000000000",
          "2023-11-22T00:00:00.000000000",
          "2023-11-23T00:00:00.000000000",
          "2023-11-24T00:00:00.000000000",
          "2023-11-27T00:00:00.000000000",
          "2023-11-28T00:00:00.000000000",
          "2023-11-29T00:00:00.000000000",
          "2023-11-30T00:00:00.000000000",
          "2023-12-01T00:00:00.000000000",
          "2023-12-04T00:00:00.000000000",
          "2023-12-05T00:00:00.000000000",
          "2023-12-06T00:00:00.000000000",
          "2023-12-07T00:00:00.000000000",
          "2023-12-08T00:00:00.000000000",
          "2023-12-11T00:00:00.000000000",
          "2023-12-12T00:00:00.000000000",
          "2023-12-13T00:00:00.000000000",
          "2023-12-14T00:00:00.000000000",
          "2023-12-15T00:00:00.000000000",
          "2023-12-18T00:00:00.000000000",
          "2023-12-19T00:00:00.000000000",
          "2023-12-20T00:00:00.000000000",
          "2023-12-21T00:00:00.000000000",
          "2023-12-22T00:00:00.000000000",
          "2023-12-27T00:00:00.000000000",
          "2023-12-28T00:00:00.000000000",
          "2023-12-29T00:00:00.000000000",
          "2024-01-02T00:00:00.000000000",
          "2024-01-03T00:00:00.000000000",
          "2024-01-04T00:00:00.000000000",
          "2024-01-05T00:00:00.000000000",
          "2024-01-08T00:00:00.000000000",
          "2024-01-09T00:00:00.000000000",
          "2024-01-10T00:00:00.000000000",
          "2024-01-11T00:00:00.000000000",
          "2024-01-12T00:00:00.000000000",
          "2024-01-15T00:00:00.000000000",
          "2024-01-16T00:00:00.000000000",
          "2024-01-17T00:00:00.000000000",
          "2024-01-18T00:00:00.000000000",
          "2024-01-19T00:00:00.000000000",
          "2024-01-22T00:00:00.000000000",
          "2024-01-23T00:00:00.000000000",
          "2024-01-24T00:00:00.000000000",
          "2024-01-25T00:00:00.000000000",
          "2024-01-26T00:00:00.000000000",
          "2024-01-29T00:00:00.000000000",
          "2024-01-30T00:00:00.000000000",
          "2024-01-31T00:00:00.000000000",
          "2024-02-01T00:00:00.000000000",
          "2024-02-02T00:00:00.000000000",
          "2024-02-05T00:00:00.000000000",
          "2024-02-06T00:00:00.000000000",
          "2024-02-07T00:00:00.000000000",
          "2024-02-08T00:00:00.000000000",
          "2024-02-09T00:00:00.000000000",
          "2024-02-12T00:00:00.000000000",
          "2024-02-13T00:00:00.000000000",
          "2024-02-14T00:00:00.000000000",
          "2024-02-15T00:00:00.000000000",
          "2024-02-16T00:00:00.000000000",
          "2024-02-19T00:00:00.000000000",
          "2024-02-20T00:00:00.000000000",
          "2024-02-21T00:00:00.000000000",
          "2024-02-22T00:00:00.000000000",
          "2024-02-23T00:00:00.000000000",
          "2024-02-26T00:00:00.000000000",
          "2024-02-27T00:00:00.000000000",
          "2024-02-28T00:00:00.000000000",
          "2024-02-29T00:00:00.000000000",
          "2024-03-01T00:00:00.000000000",
          "2024-03-04T00:00:00.000000000",
          "2024-03-05T00:00:00.000000000",
          "2024-03-06T00:00:00.000000000",
          "2024-03-07T00:00:00.000000000",
          "2024-03-08T00:00:00.000000000",
          "2024-03-11T00:00:00.000000000",
          "2024-03-12T00:00:00.000000000",
          "2024-03-13T00:00:00.000000000",
          "2024-03-14T00:00:00.000000000",
          "2024-03-15T00:00:00.000000000",
          "2024-03-18T00:00:00.000000000",
          "2024-03-19T00:00:00.000000000",
          "2024-03-20T00:00:00.000000000",
          "2024-03-21T00:00:00.000000000",
          "2024-03-22T00:00:00.000000000",
          "2024-03-25T00:00:00.000000000",
          "2024-03-26T00:00:00.000000000",
          "2024-03-27T00:00:00.000000000",
          "2024-03-28T00:00:00.000000000",
          "2024-04-02T00:00:00.000000000",
          "2024-04-03T00:00:00.000000000",
          "2024-04-04T00:00:00.000000000",
          "2024-04-05T00:00:00.000000000",
          "2024-04-08T00:00:00.000000000",
          "2024-04-09T00:00:00.000000000",
          "2024-04-10T00:00:00.000000000",
          "2024-04-11T00:00:00.000000000",
          "2024-04-12T00:00:00.000000000",
          "2024-04-15T00:00:00.000000000",
          "2024-04-16T00:00:00.000000000",
          "2024-04-17T00:00:00.000000000",
          "2024-04-18T00:00:00.000000000",
          "2024-04-19T00:00:00.000000000",
          "2024-04-22T00:00:00.000000000",
          "2024-04-23T00:00:00.000000000",
          "2024-04-24T00:00:00.000000000",
          "2024-04-25T00:00:00.000000000",
          "2024-04-26T00:00:00.000000000",
          "2024-04-29T00:00:00.000000000",
          "2024-04-30T00:00:00.000000000",
          "2024-05-02T00:00:00.000000000",
          "2024-05-03T00:00:00.000000000",
          "2024-05-06T00:00:00.000000000",
          "2024-05-07T00:00:00.000000000",
          "2024-05-08T00:00:00.000000000",
          "2024-05-09T00:00:00.000000000",
          "2024-05-10T00:00:00.000000000",
          "2024-05-13T00:00:00.000000000",
          "2024-05-14T00:00:00.000000000",
          "2024-05-15T00:00:00.000000000",
          "2024-05-16T00:00:00.000000000",
          "2024-05-17T00:00:00.000000000",
          "2024-05-20T00:00:00.000000000",
          "2024-05-21T00:00:00.000000000",
          "2024-05-22T00:00:00.000000000",
          "2024-05-23T00:00:00.000000000",
          "2024-05-24T00:00:00.000000000",
          "2024-05-27T00:00:00.000000000",
          "2024-05-28T00:00:00.000000000",
          "2024-05-29T00:00:00.000000000",
          "2024-05-30T00:00:00.000000000",
          "2024-05-31T00:00:00.000000000",
          "2024-06-03T00:00:00.000000000",
          "2024-06-04T00:00:00.000000000",
          "2024-06-05T00:00:00.000000000",
          "2024-06-06T00:00:00.000000000",
          "2024-06-07T00:00:00.000000000",
          "2024-06-10T00:00:00.000000000",
          "2024-06-11T00:00:00.000000000",
          "2024-06-12T00:00:00.000000000",
          "2024-06-13T00:00:00.000000000",
          "2024-06-14T00:00:00.000000000",
          "2024-06-17T00:00:00.000000000",
          "2024-06-18T00:00:00.000000000",
          "2024-06-19T00:00:00.000000000",
          "2024-06-20T00:00:00.000000000",
          "2024-06-21T00:00:00.000000000",
          "2024-06-24T00:00:00.000000000",
          "2024-06-25T00:00:00.000000000",
          "2024-06-26T00:00:00.000000000",
          "2024-06-27T00:00:00.000000000",
          "2024-06-28T00:00:00.000000000",
          "2024-07-01T00:00:00.000000000",
          "2024-07-02T00:00:00.000000000",
          "2024-07-03T00:00:00.000000000",
          "2024-07-04T00:00:00.000000000",
          "2024-07-05T00:00:00.000000000",
          "2024-07-08T00:00:00.000000000",
          "2024-07-09T00:00:00.000000000",
          "2024-07-10T00:00:00.000000000",
          "2024-07-11T00:00:00.000000000",
          "2024-07-12T00:00:00.000000000",
          "2024-07-15T00:00:00.000000000",
          "2024-07-16T00:00:00.000000000",
          "2024-07-17T00:00:00.000000000",
          "2024-07-18T00:00:00.000000000",
          "2024-07-19T00:00:00.000000000",
          "2024-07-22T00:00:00.000000000",
          "2024-07-23T00:00:00.000000000",
          "2024-07-24T00:00:00.000000000",
          "2024-07-25T00:00:00.000000000",
          "2024-07-26T00:00:00.000000000",
          "2024-07-29T00:00:00.000000000",
          "2024-07-30T00:00:00.000000000",
          "2024-07-31T00:00:00.000000000",
          "2024-08-01T00:00:00.000000000",
          "2024-08-02T00:00:00.000000000",
          "2024-08-05T00:00:00.000000000",
          "2024-08-06T00:00:00.000000000",
          "2024-08-07T00:00:00.000000000",
          "2024-08-08T00:00:00.000000000",
          "2024-08-09T00:00:00.000000000",
          "2024-08-12T00:00:00.000000000",
          "2024-08-13T00:00:00.000000000",
          "2024-08-14T00:00:00.000000000",
          "2024-08-15T00:00:00.000000000",
          "2024-08-16T00:00:00.000000000",
          "2024-08-19T00:00:00.000000000",
          "2024-08-20T00:00:00.000000000",
          "2024-08-21T00:00:00.000000000",
          "2024-08-22T00:00:00.000000000",
          "2024-08-23T00:00:00.000000000",
          "2024-08-26T00:00:00.000000000",
          "2024-08-27T00:00:00.000000000",
          "2024-08-28T00:00:00.000000000",
          "2024-08-29T00:00:00.000000000",
          "2024-08-30T00:00:00.000000000",
          "2024-09-02T00:00:00.000000000",
          "2024-09-03T00:00:00.000000000",
          "2024-09-04T00:00:00.000000000",
          "2024-09-05T00:00:00.000000000",
          "2024-09-06T00:00:00.000000000",
          "2024-09-09T00:00:00.000000000",
          "2024-09-10T00:00:00.000000000",
          "2024-09-11T00:00:00.000000000",
          "2024-09-12T00:00:00.000000000",
          "2024-09-13T00:00:00.000000000",
          "2024-09-16T00:00:00.000000000",
          "2024-09-17T00:00:00.000000000",
          "2024-09-18T00:00:00.000000000",
          "2024-09-19T00:00:00.000000000",
          "2024-09-20T00:00:00.000000000",
          "2024-09-23T00:00:00.000000000",
          "2024-09-24T00:00:00.000000000",
          "2024-09-25T00:00:00.000000000",
          "2024-09-26T00:00:00.000000000",
          "2024-09-27T00:00:00.000000000",
          "2024-09-30T00:00:00.000000000",
          "2024-10-01T00:00:00.000000000",
          "2024-10-02T00:00:00.000000000",
          "2024-10-03T00:00:00.000000000",
          "2024-10-04T00:00:00.000000000",
          "2024-10-07T00:00:00.000000000",
          "2024-10-08T00:00:00.000000000",
          "2024-10-09T00:00:00.000000000",
          "2024-10-10T00:00:00.000000000",
          "2024-10-11T00:00:00.000000000",
          "2024-10-14T00:00:00.000000000",
          "2024-10-15T00:00:00.000000000",
          "2024-10-16T00:00:00.000000000",
          "2024-10-17T00:00:00.000000000",
          "2024-10-18T00:00:00.000000000",
          "2024-10-21T00:00:00.000000000",
          "2024-10-22T00:00:00.000000000",
          "2024-10-23T00:00:00.000000000",
          "2024-10-24T00:00:00.000000000",
          "2024-10-25T00:00:00.000000000",
          "2024-10-28T00:00:00.000000000",
          "2024-10-29T00:00:00.000000000",
          "2024-10-30T00:00:00.000000000",
          "2024-10-31T00:00:00.000000000",
          "2024-11-01T00:00:00.000000000",
          "2024-11-04T00:00:00.000000000",
          "2024-11-05T00:00:00.000000000",
          "2024-11-06T00:00:00.000000000",
          "2024-11-07T00:00:00.000000000",
          "2024-11-08T00:00:00.000000000",
          "2024-11-11T00:00:00.000000000",
          "2024-11-12T00:00:00.000000000",
          "2024-11-13T00:00:00.000000000",
          "2024-11-14T00:00:00.000000000",
          "2024-11-15T00:00:00.000000000",
          "2024-11-18T00:00:00.000000000",
          "2024-11-19T00:00:00.000000000",
          "2024-11-20T00:00:00.000000000",
          "2024-11-21T00:00:00.000000000",
          "2024-11-22T00:00:00.000000000",
          "2024-11-25T00:00:00.000000000",
          "2024-11-26T00:00:00.000000000",
          "2024-11-27T00:00:00.000000000",
          "2024-11-28T00:00:00.000000000",
          "2024-11-29T00:00:00.000000000",
          "2024-12-02T00:00:00.000000000",
          "2024-12-03T00:00:00.000000000",
          "2024-12-04T00:00:00.000000000",
          "2024-12-05T00:00:00.000000000",
          "2024-12-06T00:00:00.000000000",
          "2024-12-09T00:00:00.000000000",
          "2024-12-10T00:00:00.000000000",
          "2024-12-11T00:00:00.000000000",
          "2024-12-12T00:00:00.000000000",
          "2024-12-13T00:00:00.000000000",
          "2024-12-16T00:00:00.000000000",
          "2024-12-17T00:00:00.000000000",
          "2024-12-18T00:00:00.000000000",
          "2024-12-19T00:00:00.000000000",
          "2024-12-20T00:00:00.000000000",
          "2024-12-23T00:00:00.000000000",
          "2024-12-27T00:00:00.000000000",
          "2024-12-30T00:00:00.000000000",
          "2025-01-02T00:00:00.000000000",
          "2025-01-03T00:00:00.000000000",
          "2025-01-06T00:00:00.000000000",
          "2025-01-07T00:00:00.000000000",
          "2025-01-08T00:00:00.000000000",
          "2025-01-09T00:00:00.000000000",
          "2025-01-10T00:00:00.000000000",
          "2025-01-13T00:00:00.000000000",
          "2025-01-14T00:00:00.000000000",
          "2025-01-15T00:00:00.000000000",
          "2025-01-16T00:00:00.000000000",
          "2025-01-17T00:00:00.000000000",
          "2025-01-20T00:00:00.000000000",
          "2025-01-21T00:00:00.000000000",
          "2025-01-22T00:00:00.000000000",
          "2025-01-23T00:00:00.000000000",
          "2025-01-24T00:00:00.000000000",
          "2025-01-27T00:00:00.000000000",
          "2025-01-28T00:00:00.000000000",
          "2025-01-29T00:00:00.000000000",
          "2025-01-30T00:00:00.000000000",
          "2025-01-31T00:00:00.000000000",
          "2025-02-03T00:00:00.000000000",
          "2025-02-04T00:00:00.000000000",
          "2025-02-05T00:00:00.000000000",
          "2025-02-06T00:00:00.000000000",
          "2025-02-07T00:00:00.000000000",
          "2025-02-10T00:00:00.000000000",
          "2025-02-11T00:00:00.000000000",
          "2025-02-12T00:00:00.000000000",
          "2025-02-13T00:00:00.000000000",
          "2025-02-14T00:00:00.000000000",
          "2025-02-17T00:00:00.000000000",
          "2025-02-18T00:00:00.000000000",
          "2025-02-19T00:00:00.000000000",
          "2025-02-20T00:00:00.000000000",
          "2025-02-21T00:00:00.000000000",
          "2025-02-24T00:00:00.000000000",
          "2025-02-25T00:00:00.000000000",
          "2025-02-26T00:00:00.000000000",
          "2025-02-27T00:00:00.000000000",
          "2025-02-28T00:00:00.000000000",
          "2025-03-03T00:00:00.000000000",
          "2025-03-04T00:00:00.000000000",
          "2025-03-05T00:00:00.000000000",
          "2025-03-06T00:00:00.000000000",
          "2025-03-07T00:00:00.000000000",
          "2025-03-10T00:00:00.000000000",
          "2025-03-11T00:00:00.000000000",
          "2025-03-12T00:00:00.000000000",
          "2025-03-13T00:00:00.000000000",
          "2025-03-14T00:00:00.000000000",
          "2025-03-17T00:00:00.000000000",
          "2025-03-18T00:00:00.000000000"
         ],
         "xaxis": "x",
         "y": {
          "bdata": "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",
          "dtype": "f8"
         },
         "yaxis": "y"
        },
        {
         "mode": "lines",
         "name": "Volume",
         "type": "scatter",
         "x": [
          "2018-03-20T00:00:00.000000000",
          "2018-03-21T00:00:00.000000000",
          "2018-03-22T00:00:00.000000000",
          "2018-03-23T00:00:00.000000000",
          "2018-03-26T00:00:00.000000000",
          "2018-03-27T00:00:00.000000000",
          "2018-03-28T00:00:00.000000000",
          "2018-03-29T00:00:00.000000000",
          "2018-04-03T00:00:00.000000000",
          "2018-04-04T00:00:00.000000000",
          "2018-04-05T00:00:00.000000000",
          "2018-04-06T00:00:00.000000000",
          "2018-04-09T00:00:00.000000000",
          "2018-04-10T00:00:00.000000000",
          "2018-04-11T00:00:00.000000000",
          "2018-04-12T00:00:00.000000000",
          "2018-04-13T00:00:00.000000000",
          "2018-04-16T00:00:00.000000000",
          "2018-04-17T00:00:00.000000000",
          "2018-04-18T00:00:00.000000000",
          "2018-04-19T00:00:00.000000000",
          "2018-04-20T00:00:00.000000000",
          "2018-04-23T00:00:00.000000000",
          "2018-04-24T00:00:00.000000000",
          "2018-04-25T00:00:00.000000000",
          "2018-04-26T00:00:00.000000000",
          "2018-04-27T00:00:00.000000000",
          "2018-04-30T00:00:00.000000000",
          "2018-05-02T00:00:00.000000000",
          "2018-05-03T00:00:00.000000000",
          "2018-05-04T00:00:00.000000000",
          "2018-05-07T00:00:00.000000000",
          "2018-05-08T00:00:00.000000000",
          "2018-05-09T00:00:00.000000000",
          "2018-05-10T00:00:00.000000000",
          "2018-05-11T00:00:00.000000000",
          "2018-05-14T00:00:00.000000000",
          "2018-05-15T00:00:00.000000000",
          "2018-05-16T00:00:00.000000000",
          "2018-05-17T00:00:00.000000000",
          "2018-05-18T00:00:00.000000000",
          "2018-05-21T00:00:00.000000000",
          "2018-05-22T00:00:00.000000000",
          "2018-05-23T00:00:00.000000000",
          "2018-05-24T00:00:00.000000000",
          "2018-05-25T00:00:00.000000000",
          "2018-05-28T00:00:00.000000000",
          "2018-05-29T00:00:00.000000000",
          "2018-05-30T00:00:00.000000000",
          "2018-05-31T00:00:00.000000000",
          "2018-06-01T00:00:00.000000000",
          "2018-06-04T00:00:00.000000000",
          "2018-06-05T00:00:00.000000000",
          "2018-06-06T00:00:00.000000000",
          "2018-06-07T00:00:00.000000000",
          "2018-06-08T00:00:00.000000000",
          "2018-06-11T00:00:00.000000000",
          "2018-06-12T00:00:00.000000000",
          "2018-06-13T00:00:00.000000000",
          "2018-06-14T00:00:00.000000000",
          "2018-06-15T00:00:00.000000000",
          "2018-06-18T00:00:00.000000000",
          "2018-06-19T00:00:00.000000000",
          "2018-06-20T00:00:00.000000000",
          "2018-06-21T00:00:00.000000000",
          "2018-06-22T00:00:00.000000000",
          "2018-06-25T00:00:00.000000000",
          "2018-06-26T00:00:00.000000000",
          "2018-06-27T00:00:00.000000000",
          "2018-06-28T00:00:00.000000000",
          "2018-06-29T00:00:00.000000000",
          "2018-07-02T00:00:00.000000000",
          "2018-07-03T00:00:00.000000000",
          "2018-07-04T00:00:00.000000000",
          "2018-07-05T00:00:00.000000000",
          "2018-07-06T00:00:00.000000000",
          "2018-07-09T00:00:00.000000000",
          "2018-07-10T00:00:00.000000000",
          "2018-07-11T00:00:00.000000000",
          "2018-07-12T00:00:00.000000000",
          "2018-07-13T00:00:00.000000000",
          "2018-07-16T00:00:00.000000000",
          "2018-07-17T00:00:00.000000000",
          "2018-07-18T00:00:00.000000000",
          "2018-07-19T00:00:00.000000000",
          "2018-07-20T00:00:00.000000000",
          "2018-07-23T00:00:00.000000000",
          "2018-07-24T00:00:00.000000000",
          "2018-07-25T00:00:00.000000000",
          "2018-07-26T00:00:00.000000000",
          "2018-07-27T00:00:00.000000000",
          "2018-07-30T00:00:00.000000000",
          "2018-07-31T00:00:00.000000000",
          "2018-08-01T00:00:00.000000000",
          "2018-08-02T00:00:00.000000000",
          "2018-08-03T00:00:00.000000000",
          "2018-08-06T00:00:00.000000000",
          "2018-08-07T00:00:00.000000000",
          "2018-08-08T00:00:00.000000000",
          "2018-08-09T00:00:00.000000000",
          "2018-08-10T00:00:00.000000000",
          "2018-08-13T00:00:00.000000000",
          "2018-08-14T00:00:00.000000000",
          "2018-08-15T00:00:00.000000000",
          "2018-08-16T00:00:00.000000000",
          "2018-08-17T00:00:00.000000000",
          "2018-08-20T00:00:00.000000000",
          "2018-08-21T00:00:00.000000000",
          "2018-08-22T00:00:00.000000000",
          "2018-08-23T00:00:00.000000000",
          "2018-08-24T00:00:00.000000000",
          "2018-08-27T00:00:00.000000000",
          "2018-08-28T00:00:00.000000000",
          "2018-08-29T00:00:00.000000000",
          "2018-08-30T00:00:00.000000000",
          "2018-08-31T00:00:00.000000000",
          "2018-09-03T00:00:00.000000000",
          "2018-09-04T00:00:00.000000000",
          "2018-09-05T00:00:00.000000000",
          "2018-09-06T00:00:00.000000000",
          "2018-09-07T00:00:00.000000000",
          "2018-09-10T00:00:00.000000000",
          "2018-09-11T00:00:00.000000000",
          "2018-09-12T00:00:00.000000000",
          "2018-09-13T00:00:00.000000000",
          "2018-09-14T00:00:00.000000000",
          "2018-09-17T00:00:00.000000000",
          "2018-09-18T00:00:00.000000000",
          "2018-09-19T00:00:00.000000000",
          "2018-09-20T00:00:00.000000000",
          "2018-09-21T00:00:00.000000000",
          "2018-09-24T00:00:00.000000000",
          "2018-09-25T00:00:00.000000000",
          "2018-09-26T00:00:00.000000000",
          "2018-09-27T00:00:00.000000000",
          "2018-09-28T00:00:00.000000000",
          "2018-10-01T00:00:00.000000000",
          "2018-10-02T00:00:00.000000000",
          "2018-10-04T00:00:00.000000000",
          "2018-10-05T00:00:00.000000000",
          "2018-10-08T00:00:00.000000000",
          "2018-10-09T00:00:00.000000000",
          "2018-10-10T00:00:00.000000000",
          "2018-10-11T00:00:00.000000000",
          "2018-10-12T00:00:00.000000000",
          "2018-10-15T00:00:00.000000000",
          "2018-10-16T00:00:00.000000000",
          "2018-10-17T00:00:00.000000000",
          "2018-10-18T00:00:00.000000000",
          "2018-10-19T00:00:00.000000000",
          "2018-10-22T00:00:00.000000000",
          "2018-10-23T00:00:00.000000000",
          "2018-10-24T00:00:00.000000000",
          "2018-10-25T00:00:00.000000000",
          "2018-10-26T00:00:00.000000000",
          "2018-10-29T00:00:00.000000000",
          "2018-10-30T00:00:00.000000000",
          "2018-10-31T00:00:00.000000000",
          "2018-11-01T00:00:00.000000000",
          "2018-11-02T00:00:00.000000000",
          "2018-11-05T00:00:00.000000000",
          "2018-11-06T00:00:00.000000000",
          "2018-11-07T00:00:00.000000000",
          "2018-11-08T00:00:00.000000000",
          "2018-11-09T00:00:00.000000000",
          "2018-11-12T00:00:00.000000000",
          "2018-11-13T00:00:00.000000000",
          "2018-11-14T00:00:00.000000000",
          "2018-11-15T00:00:00.000000000",
          "2018-11-16T00:00:00.000000000",
          "2018-11-19T00:00:00.000000000",
          "2018-11-20T00:00:00.000000000",
          "2018-11-21T00:00:00.000000000",
          "2018-11-22T00:00:00.000000000",
          "2018-11-23T00:00:00.000000000",
          "2018-11-26T00:00:00.000000000",
          "2018-11-27T00:00:00.000000000",
          "2018-11-28T00:00:00.000000000",
          "2018-11-29T00:00:00.000000000",
          "2018-11-30T00:00:00.000000000",
          "2018-12-03T00:00:00.000000000",
          "2018-12-04T00:00:00.000000000",
          "2018-12-05T00:00:00.000000000",
          "2018-12-06T00:00:00.000000000",
          "2018-12-07T00:00:00.000000000",
          "2018-12-10T00:00:00.000000000",
          "2018-12-11T00:00:00.000000000",
          "2018-12-12T00:00:00.000000000",
          "2018-12-13T00:00:00.000000000",
          "2018-12-14T00:00:00.000000000",
          "2018-12-17T00:00:00.000000000",
          "2018-12-18T00:00:00.000000000",
          "2018-12-19T00:00:00.000000000",
          "2018-12-20T00:00:00.000000000",
          "2018-12-21T00:00:00.000000000",
          "2018-12-27T00:00:00.000000000",
          "2018-12-28T00:00:00.000000000",
          "2019-01-02T00:00:00.000000000",
          "2019-01-03T00:00:00.000000000",
          "2019-01-04T00:00:00.000000000",
          "2019-01-07T00:00:00.000000000",
          "2019-01-08T00:00:00.000000000",
          "2019-01-09T00:00:00.000000000",
          "2019-01-10T00:00:00.000000000",
          "2019-01-11T00:00:00.000000000",
          "2019-01-14T00:00:00.000000000",
          "2019-01-15T00:00:00.000000000",
          "2019-01-16T00:00:00.000000000",
          "2019-01-17T00:00:00.000000000",
          "2019-01-18T00:00:00.000000000",
          "2019-01-21T00:00:00.000000000",
          "2019-01-22T00:00:00.000000000",
          "2019-01-23T00:00:00.000000000",
          "2019-01-24T00:00:00.000000000",
          "2019-01-25T00:00:00.000000000",
          "2019-01-28T00:00:00.000000000",
          "2019-01-29T00:00:00.000000000",
          "2019-01-30T00:00:00.000000000",
          "2019-01-31T00:00:00.000000000",
          "2019-02-01T00:00:00.000000000",
          "2019-02-04T00:00:00.000000000",
          "2019-02-05T00:00:00.000000000",
          "2019-02-06T00:00:00.000000000",
          "2019-02-07T00:00:00.000000000",
          "2019-02-08T00:00:00.000000000",
          "2019-02-11T00:00:00.000000000",
          "2019-02-12T00:00:00.000000000",
          "2019-02-13T00:00:00.000000000",
          "2019-02-14T00:00:00.000000000",
          "2019-02-15T00:00:00.000000000",
          "2019-02-18T00:00:00.000000000",
          "2019-02-19T00:00:00.000000000",
          "2019-02-20T00:00:00.000000000",
          "2019-02-21T00:00:00.000000000",
          "2019-02-22T00:00:00.000000000",
          "2019-02-25T00:00:00.000000000",
          "2019-02-26T00:00:00.000000000",
          "2019-02-27T00:00:00.000000000",
          "2019-02-28T00:00:00.000000000",
          "2019-03-01T00:00:00.000000000",
          "2019-03-04T00:00:00.000000000",
          "2019-03-05T00:00:00.000000000",
          "2019-03-06T00:00:00.000000000",
          "2019-03-07T00:00:00.000000000",
          "2019-03-08T00:00:00.000000000",
          "2019-03-11T00:00:00.000000000",
          "2019-03-12T00:00:00.000000000",
          "2019-03-13T00:00:00.000000000",
          "2019-03-14T00:00:00.000000000",
          "2019-03-15T00:00:00.000000000",
          "2019-03-18T00:00:00.000000000",
          "2019-03-19T00:00:00.000000000",
          "2019-03-20T00:00:00.000000000",
          "2019-03-21T00:00:00.000000000",
          "2019-03-22T00:00:00.000000000",
          "2019-03-25T00:00:00.000000000",
          "2019-03-26T00:00:00.000000000",
          "2019-03-27T00:00:00.000000000",
          "2019-03-28T00:00:00.000000000",
          "2019-03-29T00:00:00.000000000",
          "2019-04-01T00:00:00.000000000",
          "2019-04-02T00:00:00.000000000",
          "2019-04-03T00:00:00.000000000",
          "2019-04-04T00:00:00.000000000",
          "2019-04-05T00:00:00.000000000",
          "2019-04-08T00:00:00.000000000",
          "2019-04-09T00:00:00.000000000",
          "2019-04-10T00:00:00.000000000",
          "2019-04-11T00:00:00.000000000",
          "2019-04-12T00:00:00.000000000",
          "2019-04-15T00:00:00.000000000",
          "2019-04-16T00:00:00.000000000",
          "2019-04-17T00:00:00.000000000",
          "2019-04-18T00:00:00.000000000",
          "2019-04-23T00:00:00.000000000",
          "2019-04-24T00:00:00.000000000",
          "2019-04-25T00:00:00.000000000",
          "2019-04-26T00:00:00.000000000",
          "2019-04-29T00:00:00.000000000",
          "2019-04-30T00:00:00.000000000",
          "2019-05-02T00:00:00.000000000",
          "2019-05-03T00:00:00.000000000",
          "2019-05-06T00:00:00.000000000",
          "2019-05-07T00:00:00.000000000",
          "2019-05-08T00:00:00.000000000",
          "2019-05-09T00:00:00.000000000",
          "2019-05-10T00:00:00.000000000",
          "2019-05-13T00:00:00.000000000",
          "2019-05-14T00:00:00.000000000",
          "2019-05-15T00:00:00.000000000",
          "2019-05-16T00:00:00.000000000",
          "2019-05-17T00:00:00.000000000",
          "2019-05-20T00:00:00.000000000",
          "2019-05-21T00:00:00.000000000",
          "2019-05-22T00:00:00.000000000",
          "2019-05-23T00:00:00.000000000",
          "2019-05-24T00:00:00.000000000",
          "2019-05-27T00:00:00.000000000",
          "2019-05-28T00:00:00.000000000",
          "2019-05-29T00:00:00.000000000",
          "2019-05-30T00:00:00.000000000",
          "2019-05-31T00:00:00.000000000",
          "2019-06-03T00:00:00.000000000",
          "2019-06-04T00:00:00.000000000",
          "2019-06-05T00:00:00.000000000",
          "2019-06-06T00:00:00.000000000",
          "2019-06-07T00:00:00.000000000",
          "2019-06-11T00:00:00.000000000",
          "2019-06-12T00:00:00.000000000",
          "2019-06-13T00:00:00.000000000",
          "2019-06-14T00:00:00.000000000",
          "2019-06-17T00:00:00.000000000",
          "2019-06-18T00:00:00.000000000",
          "2019-06-19T00:00:00.000000000",
          "2019-06-20T00:00:00.000000000",
          "2019-06-21T00:00:00.000000000",
          "2019-06-24T00:00:00.000000000",
          "2019-06-25T00:00:00.000000000",
          "2019-06-26T00:00:00.000000000",
          "2019-06-27T00:00:00.000000000",
          "2019-06-28T00:00:00.000000000",
          "2019-07-01T00:00:00.000000000",
          "2019-07-02T00:00:00.000000000",
          "2019-07-03T00:00:00.000000000",
          "2019-07-04T00:00:00.000000000",
          "2019-07-05T00:00:00.000000000",
          "2019-07-08T00:00:00.000000000",
          "2019-07-09T00:00:00.000000000",
          "2019-07-10T00:00:00.000000000",
          "2019-07-11T00:00:00.000000000",
          "2019-07-12T00:00:00.000000000",
          "2019-07-15T00:00:00.000000000",
          "2019-07-16T00:00:00.000000000",
          "2019-07-17T00:00:00.000000000",
          "2019-07-18T00:00:00.000000000",
          "2019-07-19T00:00:00.000000000",
          "2019-07-22T00:00:00.000000000",
          "2019-07-23T00:00:00.000000000",
          "2019-07-24T00:00:00.000000000",
          "2019-07-25T00:00:00.000000000",
          "2019-07-26T00:00:00.000000000",
          "2019-07-29T00:00:00.000000000",
          "2019-07-30T00:00:00.000000000",
          "2019-07-31T00:00:00.000000000",
          "2019-08-01T00:00:00.000000000",
          "2019-08-02T00:00:00.000000000",
          "2019-08-05T00:00:00.000000000",
          "2019-08-06T00:00:00.000000000",
          "2019-08-07T00:00:00.000000000",
          "2019-08-08T00:00:00.000000000",
          "2019-08-09T00:00:00.000000000",
          "2019-08-12T00:00:00.000000000",
          "2019-08-13T00:00:00.000000000",
          "2019-08-14T00:00:00.000000000",
          "2019-08-15T00:00:00.000000000",
          "2019-08-16T00:00:00.000000000",
          "2019-08-19T00:00:00.000000000",
          "2019-08-20T00:00:00.000000000",
          "2019-08-21T00:00:00.000000000",
          "2019-08-22T00:00:00.000000000",
          "2019-08-23T00:00:00.000000000",
          "2019-08-26T00:00:00.000000000",
          "2019-08-27T00:00:00.000000000",
          "2019-08-28T00:00:00.000000000",
          "2019-08-29T00:00:00.000000000",
          "2019-08-30T00:00:00.000000000",
          "2019-09-02T00:00:00.000000000",
          "2019-09-03T00:00:00.000000000",
          "2019-09-04T00:00:00.000000000",
          "2019-09-05T00:00:00.000000000",
          "2019-09-06T00:00:00.000000000",
          "2019-09-09T00:00:00.000000000",
          "2019-09-10T00:00:00.000000000",
          "2019-09-11T00:00:00.000000000",
          "2019-09-12T00:00:00.000000000",
          "2019-09-13T00:00:00.000000000",
          "2019-09-16T00:00:00.000000000",
          "2019-09-17T00:00:00.000000000",
          "2019-09-18T00:00:00.000000000",
          "2019-09-19T00:00:00.000000000",
          "2019-09-20T00:00:00.000000000",
          "2019-09-23T00:00:00.000000000",
          "2019-09-24T00:00:00.000000000",
          "2019-09-25T00:00:00.000000000",
          "2019-09-26T00:00:00.000000000",
          "2019-09-27T00:00:00.000000000",
          "2019-09-30T00:00:00.000000000",
          "2019-10-01T00:00:00.000000000",
          "2019-10-02T00:00:00.000000000",
          "2019-10-04T00:00:00.000000000",
          "2019-10-07T00:00:00.000000000",
          "2019-10-08T00:00:00.000000000",
          "2019-10-09T00:00:00.000000000",
          "2019-10-10T00:00:00.000000000",
          "2019-10-11T00:00:00.000000000",
          "2019-10-14T00:00:00.000000000",
          "2019-10-15T00:00:00.000000000",
          "2019-10-16T00:00:00.000000000",
          "2019-10-17T00:00:00.000000000",
          "2019-10-18T00:00:00.000000000",
          "2019-10-21T00:00:00.000000000",
          "2019-10-22T00:00:00.000000000",
          "2019-10-23T00:00:00.000000000",
          "2019-10-24T00:00:00.000000000",
          "2019-10-25T00:00:00.000000000",
          "2019-10-28T00:00:00.000000000",
          "2019-10-29T00:00:00.000000000",
          "2019-10-30T00:00:00.000000000",
          "2019-10-31T00:00:00.000000000",
          "2019-11-01T00:00:00.000000000",
          "2019-11-04T00:00:00.000000000",
          "2019-11-05T00:00:00.000000000",
          "2019-11-06T00:00:00.000000000",
          "2019-11-07T00:00:00.000000000",
          "2019-11-08T00:00:00.000000000",
          "2019-11-11T00:00:00.000000000",
          "2019-11-12T00:00:00.000000000",
          "2019-11-13T00:00:00.000000000",
          "2019-11-14T00:00:00.000000000",
          "2019-11-15T00:00:00.000000000",
          "2019-11-18T00:00:00.000000000",
          "2019-11-19T00:00:00.000000000",
          "2019-11-20T00:00:00.000000000",
          "2019-11-21T00:00:00.000000000",
          "2019-11-22T00:00:00.000000000",
          "2019-11-25T00:00:00.000000000",
          "2019-11-26T00:00:00.000000000",
          "2019-11-27T00:00:00.000000000",
          "2019-11-28T00:00:00.000000000",
          "2019-11-29T00:00:00.000000000",
          "2019-12-02T00:00:00.000000000",
          "2019-12-03T00:00:00.000000000",
          "2019-12-04T00:00:00.000000000",
          "2019-12-05T00:00:00.000000000",
          "2019-12-06T00:00:00.000000000",
          "2019-12-09T00:00:00.000000000",
          "2019-12-10T00:00:00.000000000",
          "2019-12-11T00:00:00.000000000",
          "2019-12-12T00:00:00.000000000",
          "2019-12-13T00:00:00.000000000",
          "2019-12-16T00:00:00.000000000",
          "2019-12-17T00:00:00.000000000",
          "2019-12-18T00:00:00.000000000",
          "2019-12-19T00:00:00.000000000",
          "2019-12-20T00:00:00.000000000",
          "2019-12-23T00:00:00.000000000",
          "2019-12-27T00:00:00.000000000",
          "2019-12-30T00:00:00.000000000",
          "2020-01-02T00:00:00.000000000",
          "2020-01-03T00:00:00.000000000",
          "2020-01-06T00:00:00.000000000",
          "2020-01-07T00:00:00.000000000",
          "2020-01-08T00:00:00.000000000",
          "2020-01-09T00:00:00.000000000",
          "2020-01-10T00:00:00.000000000",
          "2020-01-13T00:00:00.000000000",
          "2020-01-14T00:00:00.000000000",
          "2020-01-15T00:00:00.000000000",
          "2020-01-16T00:00:00.000000000",
          "2020-01-17T00:00:00.000000000",
          "2020-01-20T00:00:00.000000000",
          "2020-01-21T00:00:00.000000000",
          "2020-01-22T00:00:00.000000000",
          "2020-01-23T00:00:00.000000000",
          "2020-01-24T00:00:00.000000000",
          "2020-01-27T00:00:00.000000000",
          "2020-01-28T00:00:00.000000000",
          "2020-01-29T00:00:00.000000000",
          "2020-01-30T00:00:00.000000000",
          "2020-01-31T00:00:00.000000000",
          "2020-02-03T00:00:00.000000000",
          "2020-02-04T00:00:00.000000000",
          "2020-02-05T00:00:00.000000000",
          "2020-02-06T00:00:00.000000000",
          "2020-02-07T00:00:00.000000000",
          "2020-02-10T00:00:00.000000000",
          "2020-02-11T00:00:00.000000000",
          "2020-02-12T00:00:00.000000000",
          "2020-02-13T00:00:00.000000000",
          "2020-02-14T00:00:00.000000000",
          "2020-02-17T00:00:00.000000000",
          "2020-02-18T00:00:00.000000000",
          "2020-02-19T00:00:00.000000000",
          "2020-02-20T00:00:00.000000000",
          "2020-02-21T00:00:00.000000000",
          "2020-02-24T00:00:00.000000000",
          "2020-02-25T00:00:00.000000000",
          "2020-02-26T00:00:00.000000000",
          "2020-02-27T00:00:00.000000000",
          "2020-02-28T00:00:00.000000000",
          "2020-03-02T00:00:00.000000000",
          "2020-03-03T00:00:00.000000000",
          "2020-03-04T00:00:00.000000000",
          "2020-03-05T00:00:00.000000000",
          "2020-03-06T00:00:00.000000000",
          "2020-03-09T00:00:00.000000000",
          "2020-03-10T00:00:00.000000000",
          "2020-03-11T00:00:00.000000000",
          "2020-03-12T00:00:00.000000000",
          "2020-03-13T00:00:00.000000000",
          "2020-03-16T00:00:00.000000000",
          "2020-03-17T00:00:00.000000000",
          "2020-03-18T00:00:00.000000000",
          "2020-03-19T00:00:00.000000000",
          "2020-03-20T00:00:00.000000000",
          "2020-03-23T00:00:00.000000000",
          "2020-03-24T00:00:00.000000000",
          "2020-03-25T00:00:00.000000000",
          "2020-03-26T00:00:00.000000000",
          "2020-03-27T00:00:00.000000000",
          "2020-03-30T00:00:00.000000000",
          "2020-03-31T00:00:00.000000000",
          "2020-04-01T00:00:00.000000000",
          "2020-04-02T00:00:00.000000000",
          "2020-04-03T00:00:00.000000000",
          "2020-04-06T00:00:00.000000000",
          "2020-04-07T00:00:00.000000000",
          "2020-04-08T00:00:00.000000000",
          "2020-04-09T00:00:00.000000000",
          "2020-04-14T00:00:00.000000000",
          "2020-04-15T00:00:00.000000000",
          "2020-04-16T00:00:00.000000000",
          "2020-04-17T00:00:00.000000000",
          "2020-04-20T00:00:00.000000000",
          "2020-04-21T00:00:00.000000000",
          "2020-04-22T00:00:00.000000000",
          "2020-04-23T00:00:00.000000000",
          "2020-04-24T00:00:00.000000000",
          "2020-04-27T00:00:00.000000000",
          "2020-04-28T00:00:00.000000000",
          "2020-04-29T00:00:00.000000000",
          "2020-04-30T00:00:00.000000000",
          "2020-05-04T00:00:00.000000000",
          "2020-05-05T00:00:00.000000000",
          "2020-05-06T00:00:00.000000000",
          "2020-05-07T00:00:00.000000000",
          "2020-05-08T00:00:00.000000000",
          "2020-05-11T00:00:00.000000000",
          "2020-05-12T00:00:00.000000000",
          "2020-05-13T00:00:00.000000000",
          "2020-05-14T00:00:00.000000000",
          "2020-05-15T00:00:00.000000000",
          "2020-05-18T00:00:00.000000000",
          "2020-05-19T00:00:00.000000000",
          "2020-05-20T00:00:00.000000000",
          "2020-05-21T00:00:00.000000000",
          "2020-05-22T00:00:00.000000000",
          "2020-05-25T00:00:00.000000000",
          "2020-05-26T00:00:00.000000000",
          "2020-05-27T00:00:00.000000000",
          "2020-05-28T00:00:00.000000000",
          "2020-05-29T00:00:00.000000000",
          "2020-06-02T00:00:00.000000000",
          "2020-06-03T00:00:00.000000000",
          "2020-06-04T00:00:00.000000000",
          "2020-06-05T00:00:00.000000000",
          "2020-06-08T00:00:00.000000000",
          "2020-06-09T00:00:00.000000000",
          "2020-06-10T00:00:00.000000000",
          "2020-06-11T00:00:00.000000000",
          "2020-06-12T00:00:00.000000000",
          "2020-06-15T00:00:00.000000000",
          "2020-06-16T00:00:00.000000000",
          "2020-06-17T00:00:00.000000000",
          "2020-06-18T00:00:00.000000000",
          "2020-06-19T00:00:00.000000000",
          "2020-06-22T00:00:00.000000000",
          "2020-06-23T00:00:00.000000000",
          "2020-06-24T00:00:00.000000000",
          "2020-06-25T00:00:00.000000000",
          "2020-06-26T00:00:00.000000000",
          "2020-06-29T00:00:00.000000000",
          "2020-06-30T00:00:00.000000000",
          "2020-07-01T00:00:00.000000000",
          "2020-07-02T00:00:00.000000000",
          "2020-07-03T00:00:00.000000000",
          "2020-07-06T00:00:00.000000000",
          "2020-07-07T00:00:00.000000000",
          "2020-07-08T00:00:00.000000000",
          "2020-07-09T00:00:00.000000000",
          "2020-07-10T00:00:00.000000000",
          "2020-07-13T00:00:00.000000000",
          "2020-07-14T00:00:00.000000000",
          "2020-07-15T00:00:00.000000000",
          "2020-07-16T00:00:00.000000000",
          "2020-07-17T00:00:00.000000000",
          "2020-07-20T00:00:00.000000000",
          "2020-07-21T00:00:00.000000000",
          "2020-07-22T00:00:00.000000000",
          "2020-07-23T00:00:00.000000000",
          "2020-07-24T00:00:00.000000000",
          "2020-07-27T00:00:00.000000000",
          "2020-07-28T00:00:00.000000000",
          "2020-07-29T00:00:00.000000000",
          "2020-07-30T00:00:00.000000000",
          "2020-07-31T00:00:00.000000000",
          "2020-08-03T00:00:00.000000000",
          "2020-08-04T00:00:00.000000000",
          "2020-08-05T00:00:00.000000000",
          "2020-08-06T00:00:00.000000000",
          "2020-08-07T00:00:00.000000000",
          "2020-08-10T00:00:00.000000000",
          "2020-08-11T00:00:00.000000000",
          "2020-08-12T00:00:00.000000000",
          "2020-08-13T00:00:00.000000000",
          "2020-08-14T00:00:00.000000000",
          "2020-08-17T00:00:00.000000000",
          "2020-08-18T00:00:00.000000000",
          "2020-08-19T00:00:00.000000000",
          "2020-08-20T00:00:00.000000000",
          "2020-08-21T00:00:00.000000000",
          "2020-08-24T00:00:00.000000000",
          "2020-08-25T00:00:00.000000000",
          "2020-08-26T00:00:00.000000000",
          "2020-08-27T00:00:00.000000000",
          "2020-08-28T00:00:00.000000000",
          "2020-08-31T00:00:00.000000000",
          "2020-09-01T00:00:00.000000000",
          "2020-09-02T00:00:00.000000000",
          "2020-09-03T00:00:00.000000000",
          "2020-09-04T00:00:00.000000000",
          "2020-09-07T00:00:00.000000000",
          "2020-09-08T00:00:00.000000000",
          "2020-09-09T00:00:00.000000000",
          "2020-09-10T00:00:00.000000000",
          "2020-09-11T00:00:00.000000000",
          "2020-09-14T00:00:00.000000000",
          "2020-09-15T00:00:00.000000000",
          "2020-09-16T00:00:00.000000000",
          "2020-09-17T00:00:00.000000000",
          "2020-09-18T00:00:00.000000000",
          "2020-09-21T00:00:00.000000000",
          "2020-09-22T00:00:00.000000000",
          "2020-09-23T00:00:00.000000000",
          "2020-09-24T00:00:00.000000000",
          "2020-09-25T00:00:00.000000000",
          "2020-09-28T00:00:00.000000000",
          "2020-09-29T00:00:00.000000000",
          "2020-09-30T00:00:00.000000000",
          "2020-10-01T00:00:00.000000000",
          "2020-10-02T00:00:00.000000000",
          "2020-10-05T00:00:00.000000000",
          "2020-10-06T00:00:00.000000000",
          "2020-10-07T00:00:00.000000000",
          "2020-10-08T00:00:00.000000000",
          "2020-10-09T00:00:00.000000000",
          "2020-10-12T00:00:00.000000000",
          "2020-10-13T00:00:00.000000000",
          "2020-10-14T00:00:00.000000000",
          "2020-10-15T00:00:00.000000000",
          "2020-10-16T00:00:00.000000000",
          "2020-10-19T00:00:00.000000000",
          "2020-10-20T00:00:00.000000000",
          "2020-10-21T00:00:00.000000000",
          "2020-10-22T00:00:00.000000000",
          "2020-10-23T00:00:00.000000000",
          "2020-10-26T00:00:00.000000000",
          "2020-10-27T00:00:00.000000000",
          "2020-10-28T00:00:00.000000000",
          "2020-10-29T00:00:00.000000000",
          "2020-10-30T00:00:00.000000000",
          "2020-11-02T00:00:00.000000000",
          "2020-11-03T00:00:00.000000000",
          "2020-11-04T00:00:00.000000000",
          "2020-11-05T00:00:00.000000000",
          "2020-11-06T00:00:00.000000000",
          "2020-11-09T00:00:00.000000000",
          "2020-11-10T00:00:00.000000000",
          "2020-11-11T00:00:00.000000000",
          "2020-11-12T00:00:00.000000000",
          "2020-11-13T00:00:00.000000000",
          "2020-11-16T00:00:00.000000000",
          "2020-11-17T00:00:00.000000000",
          "2020-11-18T00:00:00.000000000",
          "2020-11-19T00:00:00.000000000",
          "2020-11-20T00:00:00.000000000",
          "2020-11-23T00:00:00.000000000",
          "2020-11-24T00:00:00.000000000",
          "2020-11-25T00:00:00.000000000",
          "2020-11-26T00:00:00.000000000",
          "2020-11-27T00:00:00.000000000",
          "2020-11-30T00:00:00.000000000",
          "2020-12-01T00:00:00.000000000",
          "2020-12-02T00:00:00.000000000",
          "2020-12-03T00:00:00.000000000",
          "2020-12-04T00:00:00.000000000",
          "2020-12-07T00:00:00.000000000",
          "2020-12-08T00:00:00.000000000",
          "2020-12-09T00:00:00.000000000",
          "2020-12-10T00:00:00.000000000",
          "2020-12-11T00:00:00.000000000",
          "2020-12-14T00:00:00.000000000",
          "2020-12-15T00:00:00.000000000",
          "2020-12-16T00:00:00.000000000",
          "2020-12-17T00:00:00.000000000",
          "2020-12-18T00:00:00.000000000",
          "2020-12-21T00:00:00.000000000",
          "2020-12-22T00:00:00.000000000",
          "2020-12-23T00:00:00.000000000",
          "2020-12-28T00:00:00.000000000",
          "2020-12-29T00:00:00.000000000",
          "2020-12-30T00:00:00.000000000",
          "2021-01-04T00:00:00.000000000",
          "2021-01-05T00:00:00.000000000",
          "2021-01-06T00:00:00.000000000",
          "2021-01-07T00:00:00.000000000",
          "2021-01-08T00:00:00.000000000",
          "2021-01-11T00:00:00.000000000",
          "2021-01-12T00:00:00.000000000",
          "2021-01-13T00:00:00.000000000",
          "2021-01-14T00:00:00.000000000",
          "2021-01-15T00:00:00.000000000",
          "2021-01-18T00:00:00.000000000",
          "2021-01-19T00:00:00.000000000",
          "2021-01-20T00:00:00.000000000",
          "2021-01-21T00:00:00.000000000",
          "2021-01-22T00:00:00.000000000",
          "2021-01-25T00:00:00.000000000",
          "2021-01-26T00:00:00.000000000",
          "2021-01-27T00:00:00.000000000",
          "2021-01-28T00:00:00.000000000",
          "2021-01-29T00:00:00.000000000",
          "2021-02-01T00:00:00.000000000",
          "2021-02-02T00:00:00.000000000",
          "2021-02-03T00:00:00.000000000",
          "2021-02-04T00:00:00.000000000",
          "2021-02-05T00:00:00.000000000",
          "2021-02-08T00:00:00.000000000",
          "2021-02-09T00:00:00.000000000",
          "2021-02-10T00:00:00.000000000",
          "2021-02-11T00:00:00.000000000",
          "2021-02-12T00:00:00.000000000",
          "2021-02-15T00:00:00.000000000",
          "2021-02-16T00:00:00.000000000",
          "2021-02-17T00:00:00.000000000",
          "2021-02-18T00:00:00.000000000",
          "2021-02-19T00:00:00.000000000",
          "2021-02-22T00:00:00.000000000",
          "2021-02-23T00:00:00.000000000",
          "2021-02-24T00:00:00.000000000",
          "2021-02-25T00:00:00.000000000",
          "2021-02-26T00:00:00.000000000",
          "2021-03-01T00:00:00.000000000",
          "2021-03-02T00:00:00.000000000",
          "2021-03-03T00:00:00.000000000",
          "2021-03-04T00:00:00.000000000",
          "2021-03-05T00:00:00.000000000",
          "2021-03-08T00:00:00.000000000",
          "2021-03-09T00:00:00.000000000",
          "2021-03-10T00:00:00.000000000",
          "2021-03-11T00:00:00.000000000",
          "2021-03-12T00:00:00.000000000",
          "2021-03-15T00:00:00.000000000",
          "2021-03-16T00:00:00.000000000",
          "2021-03-17T00:00:00.000000000",
          "2021-03-18T00:00:00.000000000",
          "2021-03-19T00:00:00.000000000",
          "2021-03-22T00:00:00.000000000",
          "2021-03-23T00:00:00.000000000",
          "2021-03-24T00:00:00.000000000",
          "2021-03-25T00:00:00.000000000",
          "2021-03-26T00:00:00.000000000",
          "2021-03-29T00:00:00.000000000",
          "2021-03-30T00:00:00.000000000",
          "2021-03-31T00:00:00.000000000",
          "2021-04-01T00:00:00.000000000",
          "2021-04-06T00:00:00.000000000",
          "2021-04-07T00:00:00.000000000",
          "2021-04-08T00:00:00.000000000",
          "2021-04-09T00:00:00.000000000",
          "2021-04-12T00:00:00.000000000",
          "2021-04-13T00:00:00.000000000",
          "2021-04-14T00:00:00.000000000",
          "2021-04-15T00:00:00.000000000",
          "2021-04-16T00:00:00.000000000",
          "2021-04-19T00:00:00.000000000",
          "2021-04-20T00:00:00.000000000",
          "2021-04-21T00:00:00.000000000",
          "2021-04-22T00:00:00.000000000",
          "2021-04-23T00:00:00.000000000",
          "2021-04-26T00:00:00.000000000",
          "2021-04-27T00:00:00.000000000",
          "2021-04-28T00:00:00.000000000",
          "2021-04-29T00:00:00.000000000",
          "2021-04-30T00:00:00.000000000",
          "2021-05-03T00:00:00.000000000",
          "2021-05-04T00:00:00.000000000",
          "2021-05-05T00:00:00.000000000",
          "2021-05-06T00:00:00.000000000",
          "2021-05-07T00:00:00.000000000",
          "2021-05-10T00:00:00.000000000",
          "2021-05-11T00:00:00.000000000",
          "2021-05-12T00:00:00.000000000",
          "2021-05-13T00:00:00.000000000",
          "2021-05-14T00:00:00.000000000",
          "2021-05-17T00:00:00.000000000",
          "2021-05-18T00:00:00.000000000",
          "2021-05-19T00:00:00.000000000",
          "2021-05-20T00:00:00.000000000",
          "2021-05-21T00:00:00.000000000",
          "2021-05-25T00:00:00.000000000",
          "2021-05-26T00:00:00.000000000",
          "2021-05-27T00:00:00.000000000",
          "2021-05-28T00:00:00.000000000",
          "2021-05-31T00:00:00.000000000",
          "2021-06-01T00:00:00.000000000",
          "2021-06-02T00:00:00.000000000",
          "2021-06-03T00:00:00.000000000",
          "2021-06-04T00:00:00.000000000",
          "2021-06-07T00:00:00.000000000",
          "2021-06-08T00:00:00.000000000",
          "2021-06-09T00:00:00.000000000",
          "2021-06-10T00:00:00.000000000",
          "2021-06-11T00:00:00.000000000",
          "2021-06-14T00:00:00.000000000",
          "2021-06-15T00:00:00.000000000",
          "2021-06-16T00:00:00.000000000",
          "2021-06-17T00:00:00.000000000",
          "2021-06-18T00:00:00.000000000",
          "2021-06-21T00:00:00.000000000",
          "2021-06-22T00:00:00.000000000",
          "2021-06-23T00:00:00.000000000",
          "2021-06-24T00:00:00.000000000",
          "2021-06-25T00:00:00.000000000",
          "2021-06-28T00:00:00.000000000",
          "2021-06-29T00:00:00.000000000",
          "2021-06-30T00:00:00.000000000",
          "2021-07-01T00:00:00.000000000",
          "2021-07-02T00:00:00.000000000",
          "2021-07-05T00:00:00.000000000",
          "2021-07-06T00:00:00.000000000",
          "2021-07-07T00:00:00.000000000",
          "2021-07-08T00:00:00.000000000",
          "2021-07-09T00:00:00.000000000",
          "2021-07-12T00:00:00.000000000",
          "2021-07-13T00:00:00.000000000",
          "2021-07-14T00:00:00.000000000",
          "2021-07-15T00:00:00.000000000",
          "2021-07-16T00:00:00.000000000",
          "2021-07-19T00:00:00.000000000",
          "2021-07-20T00:00:00.000000000",
          "2021-07-21T00:00:00.000000000",
          "2021-07-22T00:00:00.000000000",
          "2021-07-23T00:00:00.000000000",
          "2021-07-26T00:00:00.000000000",
          "2021-07-27T00:00:00.000000000",
          "2021-07-28T00:00:00.000000000",
          "2021-07-29T00:00:00.000000000",
          "2021-07-30T00:00:00.000000000",
          "2021-08-02T00:00:00.000000000",
          "2021-08-03T00:00:00.000000000",
          "2021-08-04T00:00:00.000000000",
          "2021-08-05T00:00:00.000000000",
          "2021-08-06T00:00:00.000000000",
          "2021-08-09T00:00:00.000000000",
          "2021-08-10T00:00:00.000000000",
          "2021-08-11T00:00:00.000000000",
          "2021-08-12T00:00:00.000000000",
          "2021-08-13T00:00:00.000000000",
          "2021-08-16T00:00:00.000000000",
          "2021-08-17T00:00:00.000000000",
          "2021-08-18T00:00:00.000000000",
          "2021-08-19T00:00:00.000000000",
          "2021-08-20T00:00:00.000000000",
          "2021-08-23T00:00:00.000000000",
          "2021-08-24T00:00:00.000000000",
          "2021-08-25T00:00:00.000000000",
          "2021-08-26T00:00:00.000000000",
          "2021-08-27T00:00:00.000000000",
          "2021-08-30T00:00:00.000000000",
          "2021-08-31T00:00:00.000000000",
          "2021-09-01T00:00:00.000000000",
          "2021-09-02T00:00:00.000000000",
          "2021-09-03T00:00:00.000000000",
          "2021-09-06T00:00:00.000000000",
          "2021-09-07T00:00:00.000000000",
          "2021-09-08T00:00:00.000000000",
          "2021-09-09T00:00:00.000000000",
          "2021-09-10T00:00:00.000000000",
          "2021-09-13T00:00:00.000000000",
          "2021-09-14T00:00:00.000000000",
          "2021-09-15T00:00:00.000000000",
          "2021-09-16T00:00:00.000000000",
          "2021-09-17T00:00:00.000000000",
          "2021-09-20T00:00:00.000000000",
          "2021-09-21T00:00:00.000000000",
          "2021-09-22T00:00:00.000000000",
          "2021-09-23T00:00:00.000000000",
          "2021-09-24T00:00:00.000000000",
          "2021-09-27T00:00:00.000000000",
          "2021-09-28T00:00:00.000000000",
          "2021-09-29T00:00:00.000000000",
          "2021-09-30T00:00:00.000000000",
          "2021-10-01T00:00:00.000000000",
          "2021-10-04T00:00:00.000000000",
          "2021-10-05T00:00:00.000000000",
          "2021-10-06T00:00:00.000000000",
          "2021-10-07T00:00:00.000000000",
          "2021-10-08T00:00:00.000000000",
          "2021-10-11T00:00:00.000000000",
          "2021-10-12T00:00:00.000000000",
          "2021-10-13T00:00:00.000000000",
          "2021-10-14T00:00:00.000000000",
          "2021-10-15T00:00:00.000000000",
          "2021-10-18T00:00:00.000000000",
          "2021-10-19T00:00:00.000000000",
          "2021-10-20T00:00:00.000000000",
          "2021-10-21T00:00:00.000000000",
          "2021-10-22T00:00:00.000000000",
          "2021-10-25T00:00:00.000000000",
          "2021-10-26T00:00:00.000000000",
          "2021-10-27T00:00:00.000000000",
          "2021-10-28T00:00:00.000000000",
          "2021-10-29T00:00:00.000000000",
          "2021-11-01T00:00:00.000000000",
          "2021-11-02T00:00:00.000000000",
          "2021-11-03T00:00:00.000000000",
          "2021-11-04T00:00:00.000000000",
          "2021-11-05T00:00:00.000000000",
          "2021-11-08T00:00:00.000000000",
          "2021-11-09T00:00:00.000000000",
          "2021-11-10T00:00:00.000000000",
          "2021-11-11T00:00:00.000000000",
          "2021-11-12T00:00:00.000000000",
          "2021-11-15T00:00:00.000000000",
          "2021-11-16T00:00:00.000000000",
          "2021-11-17T00:00:00.000000000",
          "2021-11-18T00:00:00.000000000",
          "2021-11-19T00:00:00.000000000",
          "2021-11-22T00:00:00.000000000",
          "2021-11-23T00:00:00.000000000",
          "2021-11-24T00:00:00.000000000",
          "2021-11-25T00:00:00.000000000",
          "2021-11-26T00:00:00.000000000",
          "2021-11-29T00:00:00.000000000",
          "2021-11-30T00:00:00.000000000",
          "2021-12-01T00:00:00.000000000",
          "2021-12-02T00:00:00.000000000",
          "2021-12-03T00:00:00.000000000",
          "2021-12-06T00:00:00.000000000",
          "2021-12-07T00:00:00.000000000",
          "2021-12-08T00:00:00.000000000",
          "2021-12-09T00:00:00.000000000",
          "2021-12-10T00:00:00.000000000",
          "2021-12-13T00:00:00.000000000",
          "2021-12-14T00:00:00.000000000",
          "2021-12-15T00:00:00.000000000",
          "2021-12-16T00:00:00.000000000",
          "2021-12-17T00:00:00.000000000",
          "2021-12-20T00:00:00.000000000",
          "2021-12-21T00:00:00.000000000",
          "2021-12-22T00:00:00.000000000",
          "2021-12-23T00:00:00.000000000",
          "2021-12-28T00:00:00.000000000",
          "2021-12-29T00:00:00.000000000",
          "2021-12-30T00:00:00.000000000",
          "2022-01-04T00:00:00.000000000",
          "2022-01-05T00:00:00.000000000",
          "2022-01-06T00:00:00.000000000",
          "2022-01-07T00:00:00.000000000",
          "2022-01-10T00:00:00.000000000",
          "2022-01-11T00:00:00.000000000",
          "2022-01-12T00:00:00.000000000",
          "2022-01-13T00:00:00.000000000",
          "2022-01-14T00:00:00.000000000",
          "2022-01-17T00:00:00.000000000",
          "2022-01-18T00:00:00.000000000",
          "2022-01-19T00:00:00.000000000",
          "2022-01-20T00:00:00.000000000",
          "2022-01-21T00:00:00.000000000",
          "2022-01-24T00:00:00.000000000",
          "2022-01-25T00:00:00.000000000",
          "2022-01-26T00:00:00.000000000",
          "2022-01-27T00:00:00.000000000",
          "2022-01-28T00:00:00.000000000",
          "2022-01-31T00:00:00.000000000",
          "2022-02-01T00:00:00.000000000",
          "2022-02-02T00:00:00.000000000",
          "2022-02-03T00:00:00.000000000",
          "2022-02-04T00:00:00.000000000",
          "2022-02-07T00:00:00.000000000",
          "2022-02-08T00:00:00.000000000",
          "2022-02-09T00:00:00.000000000",
          "2022-02-10T00:00:00.000000000",
          "2022-02-11T00:00:00.000000000",
          "2022-02-14T00:00:00.000000000",
          "2022-02-15T00:00:00.000000000",
          "2022-02-16T00:00:00.000000000",
          "2022-02-17T00:00:00.000000000",
          "2022-02-18T00:00:00.000000000",
          "2022-02-21T00:00:00.000000000",
          "2022-02-22T00:00:00.000000000",
          "2022-02-23T00:00:00.000000000",
          "2022-02-24T00:00:00.000000000",
          "2022-02-25T00:00:00.000000000",
          "2022-02-28T00:00:00.000000000",
          "2022-03-01T00:00:00.000000000",
          "2022-03-02T00:00:00.000000000",
          "2022-03-03T00:00:00.000000000",
          "2022-03-04T00:00:00.000000000",
          "2022-03-07T00:00:00.000000000",
          "2022-03-08T00:00:00.000000000",
          "2022-03-09T00:00:00.000000000",
          "2022-03-10T00:00:00.000000000",
          "2022-03-11T00:00:00.000000000",
          "2022-03-14T00:00:00.000000000",
          "2022-03-15T00:00:00.000000000",
          "2022-03-16T00:00:00.000000000",
          "2022-03-17T00:00:00.000000000",
          "2022-03-18T00:00:00.000000000",
          "2022-03-21T00:00:00.000000000",
          "2022-03-22T00:00:00.000000000",
          "2022-03-23T00:00:00.000000000",
          "2022-03-24T00:00:00.000000000",
          "2022-03-25T00:00:00.000000000",
          "2022-03-28T00:00:00.000000000",
          "2022-03-29T00:00:00.000000000",
          "2022-03-30T00:00:00.000000000",
          "2022-03-31T00:00:00.000000000",
          "2022-04-01T00:00:00.000000000",
          "2022-04-04T00:00:00.000000000",
          "2022-04-05T00:00:00.000000000",
          "2022-04-06T00:00:00.000000000",
          "2022-04-07T00:00:00.000000000",
          "2022-04-08T00:00:00.000000000",
          "2022-04-11T00:00:00.000000000",
          "2022-04-12T00:00:00.000000000",
          "2022-04-13T00:00:00.000000000",
          "2022-04-14T00:00:00.000000000",
          "2022-04-19T00:00:00.000000000",
          "2022-04-20T00:00:00.000000000",
          "2022-04-21T00:00:00.000000000",
          "2022-04-22T00:00:00.000000000",
          "2022-04-25T00:00:00.000000000",
          "2022-04-26T00:00:00.000000000",
          "2022-04-27T00:00:00.000000000",
          "2022-04-28T00:00:00.000000000",
          "2022-04-29T00:00:00.000000000",
          "2022-05-02T00:00:00.000000000",
          "2022-05-03T00:00:00.000000000",
          "2022-05-04T00:00:00.000000000",
          "2022-05-05T00:00:00.000000000",
          "2022-05-06T00:00:00.000000000",
          "2022-05-09T00:00:00.000000000",
          "2022-05-10T00:00:00.000000000",
          "2022-05-11T00:00:00.000000000",
          "2022-05-12T00:00:00.000000000",
          "2022-05-13T00:00:00.000000000",
          "2022-05-16T00:00:00.000000000",
          "2022-05-17T00:00:00.000000000",
          "2022-05-18T00:00:00.000000000",
          "2022-05-19T00:00:00.000000000",
          "2022-05-20T00:00:00.000000000",
          "2022-05-23T00:00:00.000000000",
          "2022-05-24T00:00:00.000000000",
          "2022-05-25T00:00:00.000000000",
          "2022-05-26T00:00:00.000000000",
          "2022-05-27T00:00:00.000000000",
          "2022-05-30T00:00:00.000000000",
          "2022-05-31T00:00:00.000000000",
          "2022-06-01T00:00:00.000000000",
          "2022-06-02T00:00:00.000000000",
          "2022-06-03T00:00:00.000000000",
          "2022-06-06T00:00:00.000000000",
          "2022-06-07T00:00:00.000000000",
          "2022-06-08T00:00:00.000000000",
          "2022-06-09T00:00:00.000000000",
          "2022-06-10T00:00:00.000000000",
          "2022-06-13T00:00:00.000000000",
          "2022-06-14T00:00:00.000000000",
          "2022-06-15T00:00:00.000000000",
          "2022-06-16T00:00:00.000000000",
          "2022-06-17T00:00:00.000000000",
          "2022-06-20T00:00:00.000000000",
          "2022-06-21T00:00:00.000000000",
          "2022-06-22T00:00:00.000000000",
          "2022-06-23T00:00:00.000000000",
          "2022-06-24T00:00:00.000000000",
          "2022-06-27T00:00:00.000000000",
          "2022-06-28T00:00:00.000000000",
          "2022-06-29T00:00:00.000000000",
          "2022-06-30T00:00:00.000000000",
          "2022-07-01T00:00:00.000000000",
          "2022-07-04T00:00:00.000000000",
          "2022-07-05T00:00:00.000000000",
          "2022-07-06T00:00:00.000000000",
          "2022-07-07T00:00:00.000000000",
          "2022-07-08T00:00:00.000000000",
          "2022-07-11T00:00:00.000000000",
          "2022-07-12T00:00:00.000000000",
          "2022-07-13T00:00:00.000000000",
          "2022-07-14T00:00:00.000000000",
          "2022-07-15T00:00:00.000000000",
          "2022-07-18T00:00:00.000000000",
          "2022-07-19T00:00:00.000000000",
          "2022-07-20T00:00:00.000000000",
          "2022-07-21T00:00:00.000000000",
          "2022-07-22T00:00:00.000000000",
          "2022-07-25T00:00:00.000000000",
          "2022-07-26T00:00:00.000000000",
          "2022-07-27T00:00:00.000000000",
          "2022-07-28T00:00:00.000000000",
          "2022-07-29T00:00:00.000000000",
          "2022-08-01T00:00:00.000000000",
          "2022-08-02T00:00:00.000000000",
          "2022-08-03T00:00:00.000000000",
          "2022-08-04T00:00:00.000000000",
          "2022-08-05T00:00:00.000000000",
          "2022-08-08T00:00:00.000000000",
          "2022-08-09T00:00:00.000000000",
          "2022-08-10T00:00:00.000000000",
          "2022-08-11T00:00:00.000000000",
          "2022-08-12T00:00:00.000000000",
          "2022-08-15T00:00:00.000000000",
          "2022-08-16T00:00:00.000000000",
          "2022-08-17T00:00:00.000000000",
          "2022-08-18T00:00:00.000000000",
          "2022-08-19T00:00:00.000000000",
          "2022-08-22T00:00:00.000000000",
          "2022-08-23T00:00:00.000000000",
          "2022-08-24T00:00:00.000000000",
          "2022-08-25T00:00:00.000000000",
          "2022-08-26T00:00:00.000000000",
          "2022-08-29T00:00:00.000000000",
          "2022-08-30T00:00:00.000000000",
          "2022-08-31T00:00:00.000000000",
          "2022-09-01T00:00:00.000000000",
          "2022-09-02T00:00:00.000000000",
          "2022-09-05T00:00:00.000000000",
          "2022-09-06T00:00:00.000000000",
          "2022-09-07T00:00:00.000000000",
          "2022-09-08T00:00:00.000000000",
          "2022-09-09T00:00:00.000000000",
          "2022-09-12T00:00:00.000000000",
          "2022-09-13T00:00:00.000000000",
          "2022-09-14T00:00:00.000000000",
          "2022-09-15T00:00:00.000000000",
          "2022-09-16T00:00:00.000000000",
          "2022-09-19T00:00:00.000000000",
          "2022-09-20T00:00:00.000000000",
          "2022-09-21T00:00:00.000000000",
          "2022-09-22T00:00:00.000000000",
          "2022-09-23T00:00:00.000000000",
          "2022-09-26T00:00:00.000000000",
          "2022-09-27T00:00:00.000000000",
          "2022-09-28T00:00:00.000000000",
          "2022-09-29T00:00:00.000000000",
          "2022-09-30T00:00:00.000000000",
          "2022-10-03T00:00:00.000000000",
          "2022-10-04T00:00:00.000000000",
          "2022-10-05T00:00:00.000000000",
          "2022-10-06T00:00:00.000000000",
          "2022-10-07T00:00:00.000000000",
          "2022-10-10T00:00:00.000000000",
          "2022-10-11T00:00:00.000000000",
          "2022-10-12T00:00:00.000000000",
          "2022-10-13T00:00:00.000000000",
          "2022-10-14T00:00:00.000000000",
          "2022-10-17T00:00:00.000000000",
          "2022-10-18T00:00:00.000000000",
          "2022-10-19T00:00:00.000000000",
          "2022-10-20T00:00:00.000000000",
          "2022-10-21T00:00:00.000000000",
          "2022-10-24T00:00:00.000000000",
          "2022-10-25T00:00:00.000000000",
          "2022-10-26T00:00:00.000000000",
          "2022-10-27T00:00:00.000000000",
          "2022-10-28T00:00:00.000000000",
          "2022-10-31T00:00:00.000000000",
          "2022-11-01T00:00:00.000000000",
          "2022-11-02T00:00:00.000000000",
          "2022-11-03T00:00:00.000000000",
          "2022-11-04T00:00:00.000000000",
          "2022-11-07T00:00:00.000000000",
          "2022-11-08T00:00:00.000000000",
          "2022-11-09T00:00:00.000000000",
          "2022-11-10T00:00:00.000000000",
          "2022-11-11T00:00:00.000000000",
          "2022-11-14T00:00:00.000000000",
          "2022-11-15T00:00:00.000000000",
          "2022-11-16T00:00:00.000000000",
          "2022-11-17T00:00:00.000000000",
          "2022-11-18T00:00:00.000000000",
          "2022-11-21T00:00:00.000000000",
          "2022-11-22T00:00:00.000000000",
          "2022-11-23T00:00:00.000000000",
          "2022-11-24T00:00:00.000000000",
          "2022-11-25T00:00:00.000000000",
          "2022-11-28T00:00:00.000000000",
          "2022-11-29T00:00:00.000000000",
          "2022-11-30T00:00:00.000000000",
          "2022-12-01T00:00:00.000000000",
          "2022-12-02T00:00:00.000000000",
          "2022-12-05T00:00:00.000000000",
          "2022-12-06T00:00:00.000000000",
          "2022-12-07T00:00:00.000000000",
          "2022-12-08T00:00:00.000000000",
          "2022-12-09T00:00:00.000000000",
          "2022-12-12T00:00:00.000000000",
          "2022-12-13T00:00:00.000000000",
          "2022-12-14T00:00:00.000000000",
          "2022-12-15T00:00:00.000000000",
          "2022-12-16T00:00:00.000000000",
          "2022-12-19T00:00:00.000000000",
          "2022-12-20T00:00:00.000000000",
          "2022-12-21T00:00:00.000000000",
          "2022-12-22T00:00:00.000000000",
          "2022-12-23T00:00:00.000000000",
          "2022-12-27T00:00:00.000000000",
          "2022-12-28T00:00:00.000000000",
          "2022-12-29T00:00:00.000000000",
          "2022-12-30T00:00:00.000000000",
          "2023-01-03T00:00:00.000000000",
          "2023-01-04T00:00:00.000000000",
          "2023-01-05T00:00:00.000000000",
          "2023-01-06T00:00:00.000000000",
          "2023-01-09T00:00:00.000000000",
          "2023-01-10T00:00:00.000000000",
          "2023-01-11T00:00:00.000000000",
          "2023-01-12T00:00:00.000000000",
          "2023-01-13T00:00:00.000000000",
          "2023-01-16T00:00:00.000000000",
          "2023-01-17T00:00:00.000000000",
          "2023-01-18T00:00:00.000000000",
          "2023-01-19T00:00:00.000000000",
          "2023-01-20T00:00:00.000000000",
          "2023-01-23T00:00:00.000000000",
          "2023-01-24T00:00:00.000000000",
          "2023-01-25T00:00:00.000000000",
          "2023-01-26T00:00:00.000000000",
          "2023-01-27T00:00:00.000000000",
          "2023-01-30T00:00:00.000000000",
          "2023-01-31T00:00:00.000000000",
          "2023-02-01T00:00:00.000000000",
          "2023-02-02T00:00:00.000000000",
          "2023-02-03T00:00:00.000000000",
          "2023-02-06T00:00:00.000000000",
          "2023-02-07T00:00:00.000000000",
          "2023-02-08T00:00:00.000000000",
          "2023-02-09T00:00:00.000000000",
          "2023-02-10T00:00:00.000000000",
          "2023-02-13T00:00:00.000000000",
          "2023-02-14T00:00:00.000000000",
          "2023-02-15T00:00:00.000000000",
          "2023-02-16T00:00:00.000000000",
          "2023-02-17T00:00:00.000000000",
          "2023-02-20T00:00:00.000000000",
          "2023-02-21T00:00:00.000000000",
          "2023-02-22T00:00:00.000000000",
          "2023-02-23T00:00:00.000000000",
          "2023-02-24T00:00:00.000000000",
          "2023-02-27T00:00:00.000000000",
          "2023-02-28T00:00:00.000000000",
          "2023-03-01T00:00:00.000000000",
          "2023-03-02T00:00:00.000000000",
          "2023-03-03T00:00:00.000000000",
          "2023-03-06T00:00:00.000000000",
          "2023-03-07T00:00:00.000000000",
          "2023-03-08T00:00:00.000000000",
          "2023-03-09T00:00:00.000000000",
          "2023-03-10T00:00:00.000000000",
          "2023-03-13T00:00:00.000000000",
          "2023-03-14T00:00:00.000000000",
          "2023-03-15T00:00:00.000000000",
          "2023-03-16T00:00:00.000000000",
          "2023-03-17T00:00:00.000000000",
          "2023-03-20T00:00:00.000000000",
          "2023-03-21T00:00:00.000000000",
          "2023-03-22T00:00:00.000000000",
          "2023-03-23T00:00:00.000000000",
          "2023-03-24T00:00:00.000000000",
          "2023-03-27T00:00:00.000000000",
          "2023-03-28T00:00:00.000000000",
          "2023-03-29T00:00:00.000000000",
          "2023-03-30T00:00:00.000000000",
          "2023-03-31T00:00:00.000000000",
          "2023-04-03T00:00:00.000000000",
          "2023-04-04T00:00:00.000000000",
          "2023-04-05T00:00:00.000000000",
          "2023-04-06T00:00:00.000000000",
          "2023-04-11T00:00:00.000000000",
          "2023-04-12T00:00:00.000000000",
          "2023-04-13T00:00:00.000000000",
          "2023-04-14T00:00:00.000000000",
          "2023-04-17T00:00:00.000000000",
          "2023-04-18T00:00:00.000000000",
          "2023-04-19T00:00:00.000000000",
          "2023-04-20T00:00:00.000000000",
          "2023-04-21T00:00:00.000000000",
          "2023-04-24T00:00:00.000000000",
          "2023-04-25T00:00:00.000000000",
          "2023-04-26T00:00:00.000000000",
          "2023-04-27T00:00:00.000000000",
          "2023-04-28T00:00:00.000000000",
          "2023-05-02T00:00:00.000000000",
          "2023-05-03T00:00:00.000000000",
          "2023-05-04T00:00:00.000000000",
          "2023-05-05T00:00:00.000000000",
          "2023-05-08T00:00:00.000000000",
          "2023-05-09T00:00:00.000000000",
          "2023-05-10T00:00:00.000000000",
          "2023-05-11T00:00:00.000000000",
          "2023-05-12T00:00:00.000000000",
          "2023-05-15T00:00:00.000000000",
          "2023-05-16T00:00:00.000000000",
          "2023-05-17T00:00:00.000000000",
          "2023-05-18T00:00:00.000000000",
          "2023-05-19T00:00:00.000000000",
          "2023-05-22T00:00:00.000000000",
          "2023-05-23T00:00:00.000000000",
          "2023-05-24T00:00:00.000000000",
          "2023-05-25T00:00:00.000000000",
          "2023-05-26T00:00:00.000000000",
          "2023-05-29T00:00:00.000000000",
          "2023-05-30T00:00:00.000000000",
          "2023-05-31T00:00:00.000000000",
          "2023-06-01T00:00:00.000000000",
          "2023-06-02T00:00:00.000000000",
          "2023-06-05T00:00:00.000000000",
          "2023-06-06T00:00:00.000000000",
          "2023-06-07T00:00:00.000000000",
          "2023-06-08T00:00:00.000000000",
          "2023-06-09T00:00:00.000000000",
          "2023-06-12T00:00:00.000000000",
          "2023-06-13T00:00:00.000000000",
          "2023-06-14T00:00:00.000000000",
          "2023-06-15T00:00:00.000000000",
          "2023-06-16T00:00:00.000000000",
          "2023-06-19T00:00:00.000000000",
          "2023-06-20T00:00:00.000000000",
          "2023-06-21T00:00:00.000000000",
          "2023-06-22T00:00:00.000000000",
          "2023-06-23T00:00:00.000000000",
          "2023-06-26T00:00:00.000000000",
          "2023-06-27T00:00:00.000000000",
          "2023-06-28T00:00:00.000000000",
          "2023-06-29T00:00:00.000000000",
          "2023-06-30T00:00:00.000000000",
          "2023-07-03T00:00:00.000000000",
          "2023-07-04T00:00:00.000000000",
          "2023-07-05T00:00:00.000000000",
          "2023-07-06T00:00:00.000000000",
          "2023-07-07T00:00:00.000000000",
          "2023-07-10T00:00:00.000000000",
          "2023-07-11T00:00:00.000000000",
          "2023-07-12T00:00:00.000000000",
          "2023-07-13T00:00:00.000000000",
          "2023-07-14T00:00:00.000000000",
          "2023-07-17T00:00:00.000000000",
          "2023-07-18T00:00:00.000000000",
          "2023-07-19T00:00:00.000000000",
          "2023-07-20T00:00:00.000000000",
          "2023-07-21T00:00:00.000000000",
          "2023-07-24T00:00:00.000000000",
          "2023-07-25T00:00:00.000000000",
          "2023-07-26T00:00:00.000000000",
          "2023-07-27T00:00:00.000000000",
          "2023-07-28T00:00:00.000000000",
          "2023-07-31T00:00:00.000000000",
          "2023-08-01T00:00:00.000000000",
          "2023-08-02T00:00:00.000000000",
          "2023-08-03T00:00:00.000000000",
          "2023-08-04T00:00:00.000000000",
          "2023-08-07T00:00:00.000000000",
          "2023-08-08T00:00:00.000000000",
          "2023-08-09T00:00:00.000000000",
          "2023-08-10T00:00:00.000000000",
          "2023-08-11T00:00:00.000000000",
          "2023-08-14T00:00:00.000000000",
          "2023-08-15T00:00:00.000000000",
          "2023-08-16T00:00:00.000000000",
          "2023-08-17T00:00:00.000000000",
          "2023-08-18T00:00:00.000000000",
          "2023-08-21T00:00:00.000000000",
          "2023-08-22T00:00:00.000000000",
          "2023-08-23T00:00:00.000000000",
          "2023-08-24T00:00:00.000000000",
          "2023-08-25T00:00:00.000000000",
          "2023-08-28T00:00:00.000000000",
          "2023-08-29T00:00:00.000000000",
          "2023-08-30T00:00:00.000000000",
          "2023-08-31T00:00:00.000000000",
          "2023-09-01T00:00:00.000000000",
          "2023-09-04T00:00:00.000000000",
          "2023-09-05T00:00:00.000000000",
          "2023-09-06T00:00:00.000000000",
          "2023-09-07T00:00:00.000000000",
          "2023-09-08T00:00:00.000000000",
          "2023-09-11T00:00:00.000000000",
          "2023-09-12T00:00:00.000000000",
          "2023-09-13T00:00:00.000000000",
          "2023-09-14T00:00:00.000000000",
          "2023-09-15T00:00:00.000000000",
          "2023-09-18T00:00:00.000000000",
          "2023-09-19T00:00:00.000000000",
          "2023-09-20T00:00:00.000000000",
          "2023-09-21T00:00:00.000000000",
          "2023-09-22T00:00:00.000000000",
          "2023-09-25T00:00:00.000000000",
          "2023-09-26T00:00:00.000000000",
          "2023-09-27T00:00:00.000000000",
          "2023-09-28T00:00:00.000000000",
          "2023-09-29T00:00:00.000000000",
          "2023-10-02T00:00:00.000000000",
          "2023-10-03T00:00:00.000000000",
          "2023-10-04T00:00:00.000000000",
          "2023-10-05T00:00:00.000000000",
          "2023-10-06T00:00:00.000000000",
          "2023-10-09T00:00:00.000000000",
          "2023-10-10T00:00:00.000000000",
          "2023-10-11T00:00:00.000000000",
          "2023-10-12T00:00:00.000000000",
          "2023-10-13T00:00:00.000000000",
          "2023-10-16T00:00:00.000000000",
          "2023-10-17T00:00:00.000000000",
          "2023-10-18T00:00:00.000000000",
          "2023-10-19T00:00:00.000000000",
          "2023-10-20T00:00:00.000000000",
          "2023-10-23T00:00:00.000000000",
          "2023-10-24T00:00:00.000000000",
          "2023-10-25T00:00:00.000000000",
          "2023-10-26T00:00:00.000000000",
          "2023-10-27T00:00:00.000000000",
          "2023-10-30T00:00:00.000000000",
          "2023-10-31T00:00:00.000000000",
          "2023-11-01T00:00:00.000000000",
          "2023-11-02T00:00:00.000000000",
          "2023-11-03T00:00:00.000000000",
          "2023-11-06T00:00:00.000000000",
          "2023-11-07T00:00:00.000000000",
          "2023-11-08T00:00:00.000000000",
          "2023-11-09T00:00:00.000000000",
          "2023-11-10T00:00:00.000000000",
          "2023-11-13T00:00:00.000000000",
          "2023-11-14T00:00:00.000000000",
          "2023-11-15T00:00:00.000000000",
          "2023-11-16T00:00:00.000000000",
          "2023-11-17T00:00:00.000000000",
          "2023-11-20T00:00:00.000000000",
          "2023-11-21T00:00:00.000000000",
          "2023-11-22T00:00:00.000000000",
          "2023-11-23T00:00:00.000000000",
          "2023-11-24T00:00:00.000000000",
          "2023-11-27T00:00:00.000000000",
          "2023-11-28T00:00:00.000000000",
          "2023-11-29T00:00:00.000000000",
          "2023-11-30T00:00:00.000000000",
          "2023-12-01T00:00:00.000000000",
          "2023-12-04T00:00:00.000000000",
          "2023-12-05T00:00:00.000000000",
          "2023-12-06T00:00:00.000000000",
          "2023-12-07T00:00:00.000000000",
          "2023-12-08T00:00:00.000000000",
          "2023-12-11T00:00:00.000000000",
          "2023-12-12T00:00:00.000000000",
          "2023-12-13T00:00:00.000000000",
          "2023-12-14T00:00:00.000000000",
          "2023-12-15T00:00:00.000000000",
          "2023-12-18T00:00:00.000000000",
          "2023-12-19T00:00:00.000000000",
          "2023-12-20T00:00:00.000000000",
          "2023-12-21T00:00:00.000000000",
          "2023-12-22T00:00:00.000000000",
          "2023-12-27T00:00:00.000000000",
          "2023-12-28T00:00:00.000000000",
          "2023-12-29T00:00:00.000000000",
          "2024-01-02T00:00:00.000000000",
          "2024-01-03T00:00:00.000000000",
          "2024-01-04T00:00:00.000000000",
          "2024-01-05T00:00:00.000000000",
          "2024-01-08T00:00:00.000000000",
          "2024-01-09T00:00:00.000000000",
          "2024-01-10T00:00:00.000000000",
          "2024-01-11T00:00:00.000000000",
          "2024-01-12T00:00:00.000000000",
          "2024-01-15T00:00:00.000000000",
          "2024-01-16T00:00:00.000000000",
          "2024-01-17T00:00:00.000000000",
          "2024-01-18T00:00:00.000000000",
          "2024-01-19T00:00:00.000000000",
          "2024-01-22T00:00:00.000000000",
          "2024-01-23T00:00:00.000000000",
          "2024-01-24T00:00:00.000000000",
          "2024-01-25T00:00:00.000000000",
          "2024-01-26T00:00:00.000000000",
          "2024-01-29T00:00:00.000000000",
          "2024-01-30T00:00:00.000000000",
          "2024-01-31T00:00:00.000000000",
          "2024-02-01T00:00:00.000000000",
          "2024-02-02T00:00:00.000000000",
          "2024-02-05T00:00:00.000000000",
          "2024-02-06T00:00:00.000000000",
          "2024-02-07T00:00:00.000000000",
          "2024-02-08T00:00:00.000000000",
          "2024-02-09T00:00:00.000000000",
          "2024-02-12T00:00:00.000000000",
          "2024-02-13T00:00:00.000000000",
          "2024-02-14T00:00:00.000000000",
          "2024-02-15T00:00:00.000000000",
          "2024-02-16T00:00:00.000000000",
          "2024-02-19T00:00:00.000000000",
          "2024-02-20T00:00:00.000000000",
          "2024-02-21T00:00:00.000000000",
          "2024-02-22T00:00:00.000000000",
          "2024-02-23T00:00:00.000000000",
          "2024-02-26T00:00:00.000000000",
          "2024-02-27T00:00:00.000000000",
          "2024-02-28T00:00:00.000000000",
          "2024-02-29T00:00:00.000000000",
          "2024-03-01T00:00:00.000000000",
          "2024-03-04T00:00:00.000000000",
          "2024-03-05T00:00:00.000000000",
          "2024-03-06T00:00:00.000000000",
          "2024-03-07T00:00:00.000000000",
          "2024-03-08T00:00:00.000000000",
          "2024-03-11T00:00:00.000000000",
          "2024-03-12T00:00:00.000000000",
          "2024-03-13T00:00:00.000000000",
          "2024-03-14T00:00:00.000000000",
          "2024-03-15T00:00:00.000000000",
          "2024-03-18T00:00:00.000000000",
          "2024-03-19T00:00:00.000000000",
          "2024-03-20T00:00:00.000000000",
          "2024-03-21T00:00:00.000000000",
          "2024-03-22T00:00:00.000000000",
          "2024-03-25T00:00:00.000000000",
          "2024-03-26T00:00:00.000000000",
          "2024-03-27T00:00:00.000000000",
          "2024-03-28T00:00:00.000000000",
          "2024-04-02T00:00:00.000000000",
          "2024-04-03T00:00:00.000000000",
          "2024-04-04T00:00:00.000000000",
          "2024-04-05T00:00:00.000000000",
          "2024-04-08T00:00:00.000000000",
          "2024-04-09T00:00:00.000000000",
          "2024-04-10T00:00:00.000000000",
          "2024-04-11T00:00:00.000000000",
          "2024-04-12T00:00:00.000000000",
          "2024-04-15T00:00:00.000000000",
          "2024-04-16T00:00:00.000000000",
          "2024-04-17T00:00:00.000000000",
          "2024-04-18T00:00:00.000000000",
          "2024-04-19T00:00:00.000000000",
          "2024-04-22T00:00:00.000000000",
          "2024-04-23T00:00:00.000000000",
          "2024-04-24T00:00:00.000000000",
          "2024-04-25T00:00:00.000000000",
          "2024-04-26T00:00:00.000000000",
          "2024-04-29T00:00:00.000000000",
          "2024-04-30T00:00:00.000000000",
          "2024-05-02T00:00:00.000000000",
          "2024-05-03T00:00:00.000000000",
          "2024-05-06T00:00:00.000000000",
          "2024-05-07T00:00:00.000000000",
          "2024-05-08T00:00:00.000000000",
          "2024-05-09T00:00:00.000000000",
          "2024-05-10T00:00:00.000000000",
          "2024-05-13T00:00:00.000000000",
          "2024-05-14T00:00:00.000000000",
          "2024-05-15T00:00:00.000000000",
          "2024-05-16T00:00:00.000000000",
          "2024-05-17T00:00:00.000000000",
          "2024-05-20T00:00:00.000000000",
          "2024-05-21T00:00:00.000000000",
          "2024-05-22T00:00:00.000000000",
          "2024-05-23T00:00:00.000000000",
          "2024-05-24T00:00:00.000000000",
          "2024-05-27T00:00:00.000000000",
          "2024-05-28T00:00:00.000000000",
          "2024-05-29T00:00:00.000000000",
          "2024-05-30T00:00:00.000000000",
          "2024-05-31T00:00:00.000000000",
          "2024-06-03T00:00:00.000000000",
          "2024-06-04T00:00:00.000000000",
          "2024-06-05T00:00:00.000000000",
          "2024-06-06T00:00:00.000000000",
          "2024-06-07T00:00:00.000000000",
          "2024-06-10T00:00:00.000000000",
          "2024-06-11T00:00:00.000000000",
          "2024-06-12T00:00:00.000000000",
          "2024-06-13T00:00:00.000000000",
          "2024-06-14T00:00:00.000000000",
          "2024-06-17T00:00:00.000000000",
          "2024-06-18T00:00:00.000000000",
          "2024-06-19T00:00:00.000000000",
          "2024-06-20T00:00:00.000000000",
          "2024-06-21T00:00:00.000000000",
          "2024-06-24T00:00:00.000000000",
          "2024-06-25T00:00:00.000000000",
          "2024-06-26T00:00:00.000000000",
          "2024-06-27T00:00:00.000000000",
          "2024-06-28T00:00:00.000000000",
          "2024-07-01T00:00:00.000000000",
          "2024-07-02T00:00:00.000000000",
          "2024-07-03T00:00:00.000000000",
          "2024-07-04T00:00:00.000000000",
          "2024-07-05T00:00:00.000000000",
          "2024-07-08T00:00:00.000000000",
          "2024-07-09T00:00:00.000000000",
          "2024-07-10T00:00:00.000000000",
          "2024-07-11T00:00:00.000000000",
          "2024-07-12T00:00:00.000000000",
          "2024-07-15T00:00:00.000000000",
          "2024-07-16T00:00:00.000000000",
          "2024-07-17T00:00:00.000000000",
          "2024-07-18T00:00:00.000000000",
          "2024-07-19T00:00:00.000000000",
          "2024-07-22T00:00:00.000000000",
          "2024-07-23T00:00:00.000000000",
          "2024-07-24T00:00:00.000000000",
          "2024-07-25T00:00:00.000000000",
          "2024-07-26T00:00:00.000000000",
          "2024-07-29T00:00:00.000000000",
          "2024-07-30T00:00:00.000000000",
          "2024-07-31T00:00:00.000000000",
          "2024-08-01T00:00:00.000000000",
          "2024-08-02T00:00:00.000000000",
          "2024-08-05T00:00:00.000000000",
          "2024-08-06T00:00:00.000000000",
          "2024-08-07T00:00:00.000000000",
          "2024-08-08T00:00:00.000000000",
          "2024-08-09T00:00:00.000000000",
          "2024-08-12T00:00:00.000000000",
          "2024-08-13T00:00:00.000000000",
          "2024-08-14T00:00:00.000000000",
          "2024-08-15T00:00:00.000000000",
          "2024-08-16T00:00:00.000000000",
          "2024-08-19T00:00:00.000000000",
          "2024-08-20T00:00:00.000000000",
          "2024-08-21T00:00:00.000000000",
          "2024-08-22T00:00:00.000000000",
          "2024-08-23T00:00:00.000000000",
          "2024-08-26T00:00:00.000000000",
          "2024-08-27T00:00:00.000000000",
          "2024-08-28T00:00:00.000000000",
          "2024-08-29T00:00:00.000000000",
          "2024-08-30T00:00:00.000000000",
          "2024-09-02T00:00:00.000000000",
          "2024-09-03T00:00:00.000000000",
          "2024-09-04T00:00:00.000000000",
          "2024-09-05T00:00:00.000000000",
          "2024-09-06T00:00:00.000000000",
          "2024-09-09T00:00:00.000000000",
          "2024-09-10T00:00:00.000000000",
          "2024-09-11T00:00:00.000000000",
          "2024-09-12T00:00:00.000000000",
          "2024-09-13T00:00:00.000000000",
          "2024-09-16T00:00:00.000000000",
          "2024-09-17T00:00:00.000000000",
          "2024-09-18T00:00:00.000000000",
          "2024-09-19T00:00:00.000000000",
          "2024-09-20T00:00:00.000000000",
          "2024-09-23T00:00:00.000000000",
          "2024-09-24T00:00:00.000000000",
          "2024-09-25T00:00:00.000000000",
          "2024-09-26T00:00:00.000000000",
          "2024-09-27T00:00:00.000000000",
          "2024-09-30T00:00:00.000000000",
          "2024-10-01T00:00:00.000000000",
          "2024-10-02T00:00:00.000000000",
          "2024-10-03T00:00:00.000000000",
          "2024-10-04T00:00:00.000000000",
          "2024-10-07T00:00:00.000000000",
          "2024-10-08T00:00:00.000000000",
          "2024-10-09T00:00:00.000000000",
          "2024-10-10T00:00:00.000000000",
          "2024-10-11T00:00:00.000000000",
          "2024-10-14T00:00:00.000000000",
          "2024-10-15T00:00:00.000000000",
          "2024-10-16T00:00:00.000000000",
          "2024-10-17T00:00:00.000000000",
          "2024-10-18T00:00:00.000000000",
          "2024-10-21T00:00:00.000000000",
          "2024-10-22T00:00:00.000000000",
          "2024-10-23T00:00:00.000000000",
          "2024-10-24T00:00:00.000000000",
          "2024-10-25T00:00:00.000000000",
          "2024-10-28T00:00:00.000000000",
          "2024-10-29T00:00:00.000000000",
          "2024-10-30T00:00:00.000000000",
          "2024-10-31T00:00:00.000000000",
          "2024-11-01T00:00:00.000000000",
          "2024-11-04T00:00:00.000000000",
          "2024-11-05T00:00:00.000000000",
          "2024-11-06T00:00:00.000000000",
          "2024-11-07T00:00:00.000000000",
          "2024-11-08T00:00:00.000000000",
          "2024-11-11T00:00:00.000000000",
          "2024-11-12T00:00:00.000000000",
          "2024-11-13T00:00:00.000000000",
          "2024-11-14T00:00:00.000000000",
          "2024-11-15T00:00:00.000000000",
          "2024-11-18T00:00:00.000000000",
          "2024-11-19T00:00:00.000000000",
          "2024-11-20T00:00:00.000000000",
          "2024-11-21T00:00:00.000000000",
          "2024-11-22T00:00:00.000000000",
          "2024-11-25T00:00:00.000000000",
          "2024-11-26T00:00:00.000000000",
          "2024-11-27T00:00:00.000000000",
          "2024-11-28T00:00:00.000000000",
          "2024-11-29T00:00:00.000000000",
          "2024-12-02T00:00:00.000000000",
          "2024-12-03T00:00:00.000000000",
          "2024-12-04T00:00:00.000000000",
          "2024-12-05T00:00:00.000000000",
          "2024-12-06T00:00:00.000000000",
          "2024-12-09T00:00:00.000000000",
          "2024-12-10T00:00:00.000000000",
          "2024-12-11T00:00:00.000000000",
          "2024-12-12T00:00:00.000000000",
          "2024-12-13T00:00:00.000000000",
          "2024-12-16T00:00:00.000000000",
          "2024-12-17T00:00:00.000000000",
          "2024-12-18T00:00:00.000000000",
          "2024-12-19T00:00:00.000000000",
          "2024-12-20T00:00:00.000000000",
          "2024-12-23T00:00:00.000000000",
          "2024-12-27T00:00:00.000000000",
          "2024-12-30T00:00:00.000000000",
          "2025-01-02T00:00:00.000000000",
          "2025-01-03T00:00:00.000000000",
          "2025-01-06T00:00:00.000000000",
          "2025-01-07T00:00:00.000000000",
          "2025-01-08T00:00:00.000000000",
          "2025-01-09T00:00:00.000000000",
          "2025-01-10T00:00:00.000000000",
          "2025-01-13T00:00:00.000000000",
          "2025-01-14T00:00:00.000000000",
          "2025-01-15T00:00:00.000000000",
          "2025-01-16T00:00:00.000000000",
          "2025-01-17T00:00:00.000000000",
          "2025-01-20T00:00:00.000000000",
          "2025-01-21T00:00:00.000000000",
          "2025-01-22T00:00:00.000000000",
          "2025-01-23T00:00:00.000000000",
          "2025-01-24T00:00:00.000000000",
          "2025-01-27T00:00:00.000000000",
          "2025-01-28T00:00:00.000000000",
          "2025-01-29T00:00:00.000000000",
          "2025-01-30T00:00:00.000000000",
          "2025-01-31T00:00:00.000000000",
          "2025-02-03T00:00:00.000000000",
          "2025-02-04T00:00:00.000000000",
          "2025-02-05T00:00:00.000000000",
          "2025-02-06T00:00:00.000000000",
          "2025-02-07T00:00:00.000000000",
          "2025-02-10T00:00:00.000000000",
          "2025-02-11T00:00:00.000000000",
          "2025-02-12T00:00:00.000000000",
          "2025-02-13T00:00:00.000000000",
          "2025-02-14T00:00:00.000000000",
          "2025-02-17T00:00:00.000000000",
          "2025-02-18T00:00:00.000000000",
          "2025-02-19T00:00:00.000000000",
          "2025-02-20T00:00:00.000000000",
          "2025-02-21T00:00:00.000000000",
          "2025-02-24T00:00:00.000000000",
          "2025-02-25T00:00:00.000000000",
          "2025-02-26T00:00:00.000000000",
          "2025-02-27T00:00:00.000000000",
          "2025-02-28T00:00:00.000000000",
          "2025-03-03T00:00:00.000000000",
          "2025-03-04T00:00:00.000000000",
          "2025-03-05T00:00:00.000000000",
          "2025-03-06T00:00:00.000000000",
          "2025-03-07T00:00:00.000000000",
          "2025-03-10T00:00:00.000000000",
          "2025-03-11T00:00:00.000000000",
          "2025-03-12T00:00:00.000000000",
          "2025-03-13T00:00:00.000000000",
          "2025-03-14T00:00:00.000000000",
          "2025-03-17T00:00:00.000000000",
          "2025-03-18T00:00:00.000000000"
         ],
         "xaxis": "x2",
         "y": {
          "bdata": "AAAAAAAAAAAAAAAAAAAAAAAAAAAAAAAAAAAAAAAAAAAAAAAAAAAAAAAAAAAAAAAAAAAAAAAAAAAAAAAAAAAAAAAAAAAAAAAAAAAAAAAAAAAAAAAAAAAAAAAAAAAAAAAAAAAAAAAAAAAAAAAAAAAAAAAAAAAAAAAAAAAAAAAAAAAAAAAAAAAAAAAAAAAAAAAAAAAAAAAAAAAAAAAAAAAAAAAAAAAAAAAAAAAAAAAAAAAAAAAAAAAAAAAAAAAAAAAAAAAAAAAAAAAAAAAAAAAAAAAAAAAAAAAAAAAAAAAAAAAAAAAAAAAAAAAAAAAAAAAAAAAAAAAAAAAAAAAAAAAAAAAAAAAAAAAAAAAAAAAAAAAAAAAAAAAAAAAAAAAAAAAAAAAAAAAAAAAAAAAAAAAAAAAAAAAAAAAAAAAAAAAAAAAAAAAAAAAAAAAAAAAAAAAAAAAAAAAAAAAAAAAAAAAAAAAAAAAAAAAAAAAAAAAAAAAAAAAAAAAAAAAAAAAAAAAAAAAAAAAAAAAAAAAAAAAAAAAAAAAAAAAAAAAAAAAAAAAAAAAAAAAAAAAAAAAAAAAAAAAAAAAAAAAAAAAAAAAAAAAAAAAAAAAAAAAAAAAAAAAAAAAAAAAAAAAAAAAAAAAAAAAAAAAAAAAAAAAAAAAAAAAAAAAAAAAAAAAAAAAAAAAAAAAAAAAAAAAAAAAAAAAAAAAAAAAAAAAAAAAAAAAAAAAAAAAAAAAAAAAAAAAAAAAAAAAAAAAAAAAAAAAAAAAAAAAAAAAAAAAAAAAAAAAAAAAAAAAAAAAAAAAAAAAAAAAAAAAAAAAAAAAAAAAAAAAAAAAAAAAAAAAAAAAAAAAAAAAAAAAAAAAAAAAAAAAAAAAAAAAAAAAAAAAAAAAAAAAAAAAAAAAAAAAAAAAAAAAAAAAAAAAAAAAAAAAAAAAAAAAAAAAAAAAAAAAAAAAAAAAAAAAAAAAAAAAAAAAAAAAAAAAAAAAAAAAAAAAAAAAAAAAAAAAAAAAAAAAAAAAAAAAAAAAAAAAAAAAAAAAAAAAAAAAAAAAAAAAAAAAAAAAAAAAAAAAAAAAAAAAAAAAAAAAAAAAAAAAAAAAAAAAAAAAAAAAAAAAAAAAAAAAAAAAAAAAAAAAAAAAAAAAAAAAAAAAAAAAAAAAAAAAAAAAAAAAAAAAAAAAAAAAAAAAAAAAAAAAAAAAAAAAAAAAAAAAAAAAAAAAAAAAAAAAAAAAAAAAAAAAAAAAAAAAAAAAAAAAAAAAAAAAAAAAAAAAAAAAAAAAAAAAAAAAAAAAAAAAAAAAAAAAAAAAAAAAAAAAAAAAAAAAAAAAAAAAAAAAAAAAAAAAAAAAAAAAAAAAAAAAAAAAAAAAAAAAAAAAAAAAAAAAAAAAAAAAAAAAAAAAAAAAAAAAAAAAAAAAAAAAAAAAAAAAAAAAAAAAAAAAAAAAAAAAAAAAAAAAAAAAAAAAAAAAAAAAAAAAAAAAAAAAAAAAAAAAAAAAAAAAAAAAAAAAAAAAAAAAAAAAAAAAAAAAAAAAAAAAAAAAAAAAAAAAAAAAAAAAAAAAAAAAAAAAAAAAAAAAAAAAAAAAAAAAAAAAAAAAAAAAAAAAAAAAAAAAAAAAAAAAAAAAAAAAAAAAAAAAAAAAAAAAAAAAAAAAAAAAAAAAAAAAAAAAAAAAAAAAAAAAAAAAAAAAAAAAAAAAAAAAAAAAAAAAAAAAAAAAAAAAAAAAAAAAAAAAAAAAAAAAAAAAAAAAAAAAAAAAAAAAAAAAAAAAAAAAAAAAAAAAAAAAAAAAAAAAAAAAAAAAAAAAAAAAAAAAAAAAAAAAAAAAAAAAAAAAAAAAAAAAAAAAAAAAAAAAAAAAAAAAAAAAAAAAAAAAAAAAAAAAAAAAAAAAAAAAAAAAAAAAAAAAAAAAAAAAAAAAAAAAAAAAAAAAAAAAAAAAAAAAAAAAAAAAAAAAAAAAAAAAAAAAAAAAAAAAAAAAAAAAAAAAAAAAAAAAAAAAAAAAAAAAAAAAAAAAAAAAAAAAAAAAAAAAAAAAAAAAAAAAAAAAAAAAAAAAAAAAAAAAAAAAAAAAAAAAAAAAAAAAAAAAAAAAAAAAAAAAAAAAAAAAAAAAAAAAAAAAAAAAAAAAAAAAAAAAAAAAAAAAAAAAAAAAAAAAAAAAAAAAAAAAAAAAAAAAAAAAAAAAAAAAAAAAAAAAAAAAAAAAAAAAAAAAAAAAAAAAAAAAAAAAAAAAAAAAAAAAAAAAAAAAAAAAAAAAAAAAAAAAAAAAAAAAAAAAAAAAAAAAAAAAAAAAAAAAAAAAAAAAAAAAAAAAAAAAAAAAAAAAAAAAAAAAAAAAAAAAAAAAAAAAAAAAAAAAAAAAAAAAAAAAAAA==",
          "dtype": "i1"
         },
         "yaxis": "y2"
        }
       ],
       "layout": {
        "height": 800,
        "showlegend": false,
        "template": {
         "data": {
          "bar": [
           {
            "error_x": {
             "color": "#2a3f5f"
            },
            "error_y": {
             "color": "#2a3f5f"
            },
            "marker": {
             "line": {
              "color": "#E5ECF6",
              "width": 0.5
             },
             "pattern": {
              "fillmode": "overlay",
              "size": 10,
              "solidity": 0.2
             }
            },
            "type": "bar"
           }
          ],
          "barpolar": [
           {
            "marker": {
             "line": {
              "color": "#E5ECF6",
              "width": 0.5
             },
             "pattern": {
              "fillmode": "overlay",
              "size": 10,
              "solidity": 0.2
             }
            },
            "type": "barpolar"
           }
          ],
          "carpet": [
           {
            "aaxis": {
             "endlinecolor": "#2a3f5f",
             "gridcolor": "white",
             "linecolor": "white",
             "minorgridcolor": "white",
             "startlinecolor": "#2a3f5f"
            },
            "baxis": {
             "endlinecolor": "#2a3f5f",
             "gridcolor": "white",
             "linecolor": "white",
             "minorgridcolor": "white",
             "startlinecolor": "#2a3f5f"
            },
            "type": "carpet"
           }
          ],
          "choropleth": [
           {
            "colorbar": {
             "outlinewidth": 0,
             "ticks": ""
            },
            "type": "choropleth"
           }
          ],
          "contour": [
           {
            "colorbar": {
             "outlinewidth": 0,
             "ticks": ""
            },
            "colorscale": [
             [
              0,
              "#0d0887"
             ],
             [
              0.1111111111111111,
              "#46039f"
             ],
             [
              0.2222222222222222,
              "#7201a8"
             ],
             [
              0.3333333333333333,
              "#9c179e"
             ],
             [
              0.4444444444444444,
              "#bd3786"
             ],
             [
              0.5555555555555556,
              "#d8576b"
             ],
             [
              0.6666666666666666,
              "#ed7953"
             ],
             [
              0.7777777777777778,
              "#fb9f3a"
             ],
             [
              0.8888888888888888,
              "#fdca26"
             ],
             [
              1,
              "#f0f921"
             ]
            ],
            "type": "contour"
           }
          ],
          "contourcarpet": [
           {
            "colorbar": {
             "outlinewidth": 0,
             "ticks": ""
            },
            "type": "contourcarpet"
           }
          ],
          "heatmap": [
           {
            "colorbar": {
             "outlinewidth": 0,
             "ticks": ""
            },
            "colorscale": [
             [
              0,
              "#0d0887"
             ],
             [
              0.1111111111111111,
              "#46039f"
             ],
             [
              0.2222222222222222,
              "#7201a8"
             ],
             [
              0.3333333333333333,
              "#9c179e"
             ],
             [
              0.4444444444444444,
              "#bd3786"
             ],
             [
              0.5555555555555556,
              "#d8576b"
             ],
             [
              0.6666666666666666,
              "#ed7953"
             ],
             [
              0.7777777777777778,
              "#fb9f3a"
             ],
             [
              0.8888888888888888,
              "#fdca26"
             ],
             [
              1,
              "#f0f921"
             ]
            ],
            "type": "heatmap"
           }
          ],
          "histogram": [
           {
            "marker": {
             "pattern": {
              "fillmode": "overlay",
              "size": 10,
              "solidity": 0.2
             }
            },
            "type": "histogram"
           }
          ],
          "histogram2d": [
           {
            "colorbar": {
             "outlinewidth": 0,
             "ticks": ""
            },
            "colorscale": [
             [
              0,
              "#0d0887"
             ],
             [
              0.1111111111111111,
              "#46039f"
             ],
             [
              0.2222222222222222,
              "#7201a8"
             ],
             [
              0.3333333333333333,
              "#9c179e"
             ],
             [
              0.4444444444444444,
              "#bd3786"
             ],
             [
              0.5555555555555556,
              "#d8576b"
             ],
             [
              0.6666666666666666,
              "#ed7953"
             ],
             [
              0.7777777777777778,
              "#fb9f3a"
             ],
             [
              0.8888888888888888,
              "#fdca26"
             ],
             [
              1,
              "#f0f921"
             ]
            ],
            "type": "histogram2d"
           }
          ],
          "histogram2dcontour": [
           {
            "colorbar": {
             "outlinewidth": 0,
             "ticks": ""
            },
            "colorscale": [
             [
              0,
              "#0d0887"
             ],
             [
              0.1111111111111111,
              "#46039f"
             ],
             [
              0.2222222222222222,
              "#7201a8"
             ],
             [
              0.3333333333333333,
              "#9c179e"
             ],
             [
              0.4444444444444444,
              "#bd3786"
             ],
             [
              0.5555555555555556,
              "#d8576b"
             ],
             [
              0.6666666666666666,
              "#ed7953"
             ],
             [
              0.7777777777777778,
              "#fb9f3a"
             ],
             [
              0.8888888888888888,
              "#fdca26"
             ],
             [
              1,
              "#f0f921"
             ]
            ],
            "type": "histogram2dcontour"
           }
          ],
          "mesh3d": [
           {
            "colorbar": {
             "outlinewidth": 0,
             "ticks": ""
            },
            "type": "mesh3d"
           }
          ],
          "parcoords": [
           {
            "line": {
             "colorbar": {
              "outlinewidth": 0,
              "ticks": ""
             }
            },
            "type": "parcoords"
           }
          ],
          "pie": [
           {
            "automargin": true,
            "type": "pie"
           }
          ],
          "scatter": [
           {
            "fillpattern": {
             "fillmode": "overlay",
             "size": 10,
             "solidity": 0.2
            },
            "type": "scatter"
           }
          ],
          "scatter3d": [
           {
            "line": {
             "colorbar": {
              "outlinewidth": 0,
              "ticks": ""
             }
            },
            "marker": {
             "colorbar": {
              "outlinewidth": 0,
              "ticks": ""
             }
            },
            "type": "scatter3d"
           }
          ],
          "scattercarpet": [
           {
            "marker": {
             "colorbar": {
              "outlinewidth": 0,
              "ticks": ""
             }
            },
            "type": "scattercarpet"
           }
          ],
          "scattergeo": [
           {
            "marker": {
             "colorbar": {
              "outlinewidth": 0,
              "ticks": ""
             }
            },
            "type": "scattergeo"
           }
          ],
          "scattergl": [
           {
            "marker": {
             "colorbar": {
              "outlinewidth": 0,
              "ticks": ""
             }
            },
            "type": "scattergl"
           }
          ],
          "scattermap": [
           {
            "marker": {
             "colorbar": {
              "outlinewidth": 0,
              "ticks": ""
             }
            },
            "type": "scattermap"
           }
          ],
          "scattermapbox": [
           {
            "marker": {
             "colorbar": {
              "outlinewidth": 0,
              "ticks": ""
             }
            },
            "type": "scattermapbox"
           }
          ],
          "scatterpolar": [
           {
            "marker": {
             "colorbar": {
              "outlinewidth": 0,
              "ticks": ""
             }
            },
            "type": "scatterpolar"
           }
          ],
          "scatterpolargl": [
           {
            "marker": {
             "colorbar": {
              "outlinewidth": 0,
              "ticks": ""
             }
            },
            "type": "scatterpolargl"
           }
          ],
          "scatterternary": [
           {
            "marker": {
             "colorbar": {
              "outlinewidth": 0,
              "ticks": ""
             }
            },
            "type": "scatterternary"
           }
          ],
          "surface": [
           {
            "colorbar": {
             "outlinewidth": 0,
             "ticks": ""
            },
            "colorscale": [
             [
              0,
              "#0d0887"
             ],
             [
              0.1111111111111111,
              "#46039f"
             ],
             [
              0.2222222222222222,
              "#7201a8"
             ],
             [
              0.3333333333333333,
              "#9c179e"
             ],
             [
              0.4444444444444444,
              "#bd3786"
             ],
             [
              0.5555555555555556,
              "#d8576b"
             ],
             [
              0.6666666666666666,
              "#ed7953"
             ],
             [
              0.7777777777777778,
              "#fb9f3a"
             ],
             [
              0.8888888888888888,
              "#fdca26"
             ],
             [
              1,
              "#f0f921"
             ]
            ],
            "type": "surface"
           }
          ],
          "table": [
           {
            "cells": {
             "fill": {
              "color": "#EBF0F8"
             },
             "line": {
              "color": "white"
             }
            },
            "header": {
             "fill": {
              "color": "#C8D4E3"
             },
             "line": {
              "color": "white"
             }
            },
            "type": "table"
           }
          ]
         },
         "layout": {
          "annotationdefaults": {
           "arrowcolor": "#2a3f5f",
           "arrowhead": 0,
           "arrowwidth": 1
          },
          "autotypenumbers": "strict",
          "coloraxis": {
           "colorbar": {
            "outlinewidth": 0,
            "ticks": ""
           }
          },
          "colorscale": {
           "diverging": [
            [
             0,
             "#8e0152"
            ],
            [
             0.1,
             "#c51b7d"
            ],
            [
             0.2,
             "#de77ae"
            ],
            [
             0.3,
             "#f1b6da"
            ],
            [
             0.4,
             "#fde0ef"
            ],
            [
             0.5,
             "#f7f7f7"
            ],
            [
             0.6,
             "#e6f5d0"
            ],
            [
             0.7,
             "#b8e186"
            ],
            [
             0.8,
             "#7fbc41"
            ],
            [
             0.9,
             "#4d9221"
            ],
            [
             1,
             "#276419"
            ]
           ],
           "sequential": [
            [
             0,
             "#0d0887"
            ],
            [
             0.1111111111111111,
             "#46039f"
            ],
            [
             0.2222222222222222,
             "#7201a8"
            ],
            [
             0.3333333333333333,
             "#9c179e"
            ],
            [
             0.4444444444444444,
             "#bd3786"
            ],
            [
             0.5555555555555556,
             "#d8576b"
            ],
            [
             0.6666666666666666,
             "#ed7953"
            ],
            [
             0.7777777777777778,
             "#fb9f3a"
            ],
            [
             0.8888888888888888,
             "#fdca26"
            ],
            [
             1,
             "#f0f921"
            ]
           ],
           "sequentialminus": [
            [
             0,
             "#0d0887"
            ],
            [
             0.1111111111111111,
             "#46039f"
            ],
            [
             0.2222222222222222,
             "#7201a8"
            ],
            [
             0.3333333333333333,
             "#9c179e"
            ],
            [
             0.4444444444444444,
             "#bd3786"
            ],
            [
             0.5555555555555556,
             "#d8576b"
            ],
            [
             0.6666666666666666,
             "#ed7953"
            ],
            [
             0.7777777777777778,
             "#fb9f3a"
            ],
            [
             0.8888888888888888,
             "#fdca26"
            ],
            [
             1,
             "#f0f921"
            ]
           ]
          },
          "colorway": [
           "#636efa",
           "#EF553B",
           "#00cc96",
           "#ab63fa",
           "#FFA15A",
           "#19d3f3",
           "#FF6692",
           "#B6E880",
           "#FF97FF",
           "#FECB52"
          ],
          "font": {
           "color": "#2a3f5f"
          },
          "geo": {
           "bgcolor": "white",
           "lakecolor": "white",
           "landcolor": "#E5ECF6",
           "showlakes": true,
           "showland": true,
           "subunitcolor": "white"
          },
          "hoverlabel": {
           "align": "left"
          },
          "hovermode": "closest",
          "mapbox": {
           "style": "light"
          },
          "paper_bgcolor": "white",
          "plot_bgcolor": "#E5ECF6",
          "polar": {
           "angularaxis": {
            "gridcolor": "white",
            "linecolor": "white",
            "ticks": ""
           },
           "bgcolor": "#E5ECF6",
           "radialaxis": {
            "gridcolor": "white",
            "linecolor": "white",
            "ticks": ""
           }
          },
          "scene": {
           "xaxis": {
            "backgroundcolor": "#E5ECF6",
            "gridcolor": "white",
            "gridwidth": 2,
            "linecolor": "white",
            "showbackground": true,
            "ticks": "",
            "zerolinecolor": "white"
           },
           "yaxis": {
            "backgroundcolor": "#E5ECF6",
            "gridcolor": "white",
            "gridwidth": 2,
            "linecolor": "white",
            "showbackground": true,
            "ticks": "",
            "zerolinecolor": "white"
           },
           "zaxis": {
            "backgroundcolor": "#E5ECF6",
            "gridcolor": "white",
            "gridwidth": 2,
            "linecolor": "white",
            "showbackground": true,
            "ticks": "",
            "zerolinecolor": "white"
           }
          },
          "shapedefaults": {
           "line": {
            "color": "#2a3f5f"
           }
          },
          "ternary": {
           "aaxis": {
            "gridcolor": "white",
            "linecolor": "white",
            "ticks": ""
           },
           "baxis": {
            "gridcolor": "white",
            "linecolor": "white",
            "ticks": ""
           },
           "bgcolor": "#E5ECF6",
           "caxis": {
            "gridcolor": "white",
            "linecolor": "white",
            "ticks": ""
           }
          },
          "title": {
           "x": 0.05
          },
          "xaxis": {
           "automargin": true,
           "gridcolor": "white",
           "linecolor": "white",
           "ticks": "",
           "title": {
            "standoff": 15
           },
           "zerolinecolor": "white",
           "zerolinewidth": 2
          },
          "yaxis": {
           "automargin": true,
           "gridcolor": "white",
           "linecolor": "white",
           "ticks": "",
           "title": {
            "standoff": 15
           },
           "zerolinecolor": "white",
           "zerolinewidth": 2
          }
         }
        },
        "title": {
         "text": "0P0001CLDK.F"
        },
        "width": 1300,
        "xaxis": {
         "anchor": "y",
         "domain": [
          0,
          1
         ],
         "matches": "x2",
         "showticklabels": false
        },
        "xaxis2": {
         "anchor": "y2",
         "domain": [
          0,
          1
         ]
        },
        "yaxis": {
         "anchor": "x",
         "domain": [
          0.2525,
          1
         ],
         "title": {
          "text": "Price"
         }
        },
        "yaxis2": {
         "anchor": "x2",
         "domain": [
          0,
          0.2425
         ],
         "title": {
          "text": "Volume"
         }
        }
       }
      },
      "text/html": [
       "<div>            <script src=\"https://cdnjs.cloudflare.com/ajax/libs/mathjax/2.7.5/MathJax.js?config=TeX-AMS-MML_SVG\"></script><script type=\"text/javascript\">if (window.MathJax && window.MathJax.Hub && window.MathJax.Hub.Config) {window.MathJax.Hub.Config({SVG: {font: \"STIX-Web\"}});}</script>                <script type=\"text/javascript\">window.PlotlyConfig = {MathJaxConfig: 'local'};</script>\n",
       "        <script charset=\"utf-8\" src=\"https://cdn.plot.ly/plotly-3.0.0.min.js\"></script>                <div id=\"82755759-59bf-44ea-941d-ad57b97bf405\" class=\"plotly-graph-div\" style=\"height:800px; width:1300px;\"></div>            <script type=\"text/javascript\">                window.PLOTLYENV=window.PLOTLYENV || {};                                if (document.getElementById(\"82755759-59bf-44ea-941d-ad57b97bf405\")) {                    Plotly.newPlot(                        \"82755759-59bf-44ea-941d-ad57b97bf405\",                        [{\"mode\":\"lines\",\"name\":\"0P0001CLDK.F\",\"x\":[\"2018-03-20T00:00:00.000000000\",\"2018-03-21T00:00:00.000000000\",\"2018-03-22T00:00:00.000000000\",\"2018-03-23T00:00:00.000000000\",\"2018-03-26T00:00:00.000000000\",\"2018-03-27T00:00:00.000000000\",\"2018-03-28T00:00:00.000000000\",\"2018-03-29T00:00:00.000000000\",\"2018-04-03T00:00:00.000000000\",\"2018-04-04T00:00:00.000000000\",\"2018-04-05T00:00:00.000000000\",\"2018-04-06T00:00:00.000000000\",\"2018-04-09T00:00:00.000000000\",\"2018-04-10T00:00:00.000000000\",\"2018-04-11T00:00:00.000000000\",\"2018-04-12T00:00:00.000000000\",\"2018-04-13T00:00:00.000000000\",\"2018-04-16T00:00:00.000000000\",\"2018-04-17T00:00:00.000000000\",\"2018-04-18T00:00:00.000000000\",\"2018-04-19T00:00:00.000000000\",\"2018-04-20T00:00:00.000000000\",\"2018-04-23T00:00:00.000000000\",\"2018-04-24T00:00:00.000000000\",\"2018-04-25T00:00:00.000000000\",\"2018-04-26T00:00:00.000000000\",\"2018-04-27T00:00:00.000000000\",\"2018-04-30T00:00:00.000000000\",\"2018-05-02T00:00:00.000000000\",\"2018-05-03T00:00:00.000000000\",\"2018-05-04T00:00:00.000000000\",\"2018-05-07T00:00:00.000000000\",\"2018-05-08T00:00:00.000000000\",\"2018-05-09T00:00:00.000000000\",\"2018-05-10T00:00:00.000000000\",\"2018-05-11T00:00:00.000000000\",\"2018-05-14T00:00:00.000000000\",\"2018-05-15T00:00:00.000000000\",\"2018-05-16T00:00:00.000000000\",\"2018-05-17T00:00:00.000000000\",\"2018-05-18T00:00:00.000000000\",\"2018-05-21T00:00:00.000000000\",\"2018-05-22T00:00:00.000000000\",\"2018-05-23T00:00:00.000000000\",\"2018-05-24T00:00:00.000000000\",\"2018-05-25T00:00:00.000000000\",\"2018-05-28T00:00:00.000000000\",\"2018-05-29T00:00:00.000000000\",\"2018-05-30T00:00:00.000000000\",\"2018-05-31T00:00:00.000000000\",\"2018-06-01T00:00:00.000000000\",\"2018-06-04T00:00:00.000000000\",\"2018-06-05T00:00:00.000000000\",\"2018-06-06T00:00:00.000000000\",\"2018-06-07T00:00:00.000000000\",\"2018-06-08T00:00:00.000000000\",\"2018-06-11T00:00:00.000000000\",\"2018-06-12T00:00:00.000000000\",\"2018-06-13T00:00:00.000000000\",\"2018-06-14T00:00:00.000000000\",\"2018-06-15T00:00:00.000000000\",\"2018-06-18T00:00:00.000000000\",\"2018-06-19T00:00:00.000000000\",\"2018-06-20T00:00:00.000000000\",\"2018-06-21T00:00:00.000000000\",\"2018-06-22T00:00:00.000000000\",\"2018-06-25T00:00:00.000000000\",\"2018-06-26T00:00:00.000000000\",\"2018-06-27T00:00:00.000000000\",\"2018-06-28T00:00:00.000000000\",\"2018-06-29T00:00:00.000000000\",\"2018-07-02T00:00:00.000000000\",\"2018-07-03T00:00:00.000000000\",\"2018-07-04T00:00:00.000000000\",\"2018-07-05T00:00:00.000000000\",\"2018-07-06T00:00:00.000000000\",\"2018-07-09T00:00:00.000000000\",\"2018-07-10T00:00:00.000000000\",\"2018-07-11T00:00:00.000000000\",\"2018-07-12T00:00:00.000000000\",\"2018-07-13T00:00:00.000000000\",\"2018-07-16T00:00:00.000000000\",\"2018-07-17T00:00:00.000000000\",\"2018-07-18T00:00:00.000000000\",\"2018-07-19T00:00:00.000000000\",\"2018-07-20T00:00:00.000000000\",\"2018-07-23T00:00:00.000000000\",\"2018-07-24T00:00:00.000000000\",\"2018-07-25T00:00:00.000000000\",\"2018-07-26T00:00:00.000000000\",\"2018-07-27T00:00:00.000000000\",\"2018-07-30T00:00:00.000000000\",\"2018-07-31T00:00:00.000000000\",\"2018-08-01T00:00:00.000000000\",\"2018-08-02T00:00:00.000000000\",\"2018-08-03T00:00:00.000000000\",\"2018-08-06T00:00:00.000000000\",\"2018-08-07T00:00:00.000000000\",\"2018-08-08T00:00:00.000000000\",\"2018-08-09T00:00:00.000000000\",\"2018-08-10T00:00:00.000000000\",\"2018-08-13T00:00:00.000000000\",\"2018-08-14T00:00:00.000000000\",\"2018-08-15T00:00:00.000000000\",\"2018-08-16T00:00:00.000000000\",\"2018-08-17T00:00:00.000000000\",\"2018-08-20T00:00:00.000000000\",\"2018-08-21T00:00:00.000000000\",\"2018-08-22T00:00:00.000000000\",\"2018-08-23T00:00:00.000000000\",\"2018-08-24T00:00:00.000000000\",\"2018-08-27T00:00:00.000000000\",\"2018-08-28T00:00:00.000000000\",\"2018-08-29T00:00:00.000000000\",\"2018-08-30T00:00:00.000000000\",\"2018-08-31T00:00:00.000000000\",\"2018-09-03T00:00:00.000000000\",\"2018-09-04T00:00:00.000000000\",\"2018-09-05T00:00:00.000000000\",\"2018-09-06T00:00:00.000000000\",\"2018-09-07T00:00:00.000000000\",\"2018-09-10T00:00:00.000000000\",\"2018-09-11T00:00:00.000000000\",\"2018-09-12T00:00:00.000000000\",\"2018-09-13T00:00:00.000000000\",\"2018-09-14T00:00:00.000000000\",\"2018-09-17T00:00:00.000000000\",\"2018-09-18T00:00:00.000000000\",\"2018-09-19T00:00:00.000000000\",\"2018-09-20T00:00:00.000000000\",\"2018-09-21T00:00:00.000000000\",\"2018-09-24T00:00:00.000000000\",\"2018-09-25T00:00:00.000000000\",\"2018-09-26T00:00:00.000000000\",\"2018-09-27T00:00:00.000000000\",\"2018-09-28T00:00:00.000000000\",\"2018-10-01T00:00:00.000000000\",\"2018-10-02T00:00:00.000000000\",\"2018-10-04T00:00:00.000000000\",\"2018-10-05T00:00:00.000000000\",\"2018-10-08T00:00:00.000000000\",\"2018-10-09T00:00:00.000000000\",\"2018-10-10T00:00:00.000000000\",\"2018-10-11T00:00:00.000000000\",\"2018-10-12T00:00:00.000000000\",\"2018-10-15T00:00:00.000000000\",\"2018-10-16T00:00:00.000000000\",\"2018-10-17T00:00:00.000000000\",\"2018-10-18T00:00:00.000000000\",\"2018-10-19T00:00:00.000000000\",\"2018-10-22T00:00:00.000000000\",\"2018-10-23T00:00:00.000000000\",\"2018-10-24T00:00:00.000000000\",\"2018-10-25T00:00:00.000000000\",\"2018-10-26T00:00:00.000000000\",\"2018-10-29T00:00:00.000000000\",\"2018-10-30T00:00:00.000000000\",\"2018-10-31T00:00:00.000000000\",\"2018-11-01T00:00:00.000000000\",\"2018-11-02T00:00:00.000000000\",\"2018-11-05T00:00:00.000000000\",\"2018-11-06T00:00:00.000000000\",\"2018-11-07T00:00:00.000000000\",\"2018-11-08T00:00:00.000000000\",\"2018-11-09T00:00:00.000000000\",\"2018-11-12T00:00:00.000000000\",\"2018-11-13T00:00:00.000000000\",\"2018-11-14T00:00:00.000000000\",\"2018-11-15T00:00:00.000000000\",\"2018-11-16T00:00:00.000000000\",\"2018-11-19T00:00:00.000000000\",\"2018-11-20T00:00:00.000000000\",\"2018-11-21T00:00:00.000000000\",\"2018-11-22T00:00:00.000000000\",\"2018-11-23T00:00:00.000000000\",\"2018-11-26T00:00:00.000000000\",\"2018-11-27T00:00:00.000000000\",\"2018-11-28T00:00:00.000000000\",\"2018-11-29T00:00:00.000000000\",\"2018-11-30T00:00:00.000000000\",\"2018-12-03T00:00:00.000000000\",\"2018-12-04T00:00:00.000000000\",\"2018-12-05T00:00:00.000000000\",\"2018-12-06T00:00:00.000000000\",\"2018-12-07T00:00:00.000000000\",\"2018-12-10T00:00:00.000000000\",\"2018-12-11T00:00:00.000000000\",\"2018-12-12T00:00:00.000000000\",\"2018-12-13T00:00:00.000000000\",\"2018-12-14T00:00:00.000000000\",\"2018-12-17T00:00:00.000000000\",\"2018-12-18T00:00:00.000000000\",\"2018-12-19T00:00:00.000000000\",\"2018-12-20T00:00:00.000000000\",\"2018-12-21T00:00:00.000000000\",\"2018-12-27T00:00:00.000000000\",\"2018-12-28T00:00:00.000000000\",\"2019-01-02T00:00:00.000000000\",\"2019-01-03T00:00:00.000000000\",\"2019-01-04T00:00:00.000000000\",\"2019-01-07T00:00:00.000000000\",\"2019-01-08T00:00:00.000000000\",\"2019-01-09T00:00:00.000000000\",\"2019-01-10T00:00:00.000000000\",\"2019-01-11T00:00:00.000000000\",\"2019-01-14T00:00:00.000000000\",\"2019-01-15T00:00:00.000000000\",\"2019-01-16T00:00:00.000000000\",\"2019-01-17T00:00:00.000000000\",\"2019-01-18T00:00:00.000000000\",\"2019-01-21T00:00:00.000000000\",\"2019-01-22T00:00:00.000000000\",\"2019-01-23T00:00:00.000000000\",\"2019-01-24T00:00:00.000000000\",\"2019-01-25T00:00:00.000000000\",\"2019-01-28T00:00:00.000000000\",\"2019-01-29T00:00:00.000000000\",\"2019-01-30T00:00:00.000000000\",\"2019-01-31T00:00:00.000000000\",\"2019-02-01T00:00:00.000000000\",\"2019-02-04T00:00:00.000000000\",\"2019-02-05T00:00:00.000000000\",\"2019-02-06T00:00:00.000000000\",\"2019-02-07T00:00:00.000000000\",\"2019-02-08T00:00:00.000000000\",\"2019-02-11T00:00:00.000000000\",\"2019-02-12T00:00:00.000000000\",\"2019-02-13T00:00:00.000000000\",\"2019-02-14T00:00:00.000000000\",\"2019-02-15T00:00:00.000000000\",\"2019-02-18T00:00:00.000000000\",\"2019-02-19T00:00:00.000000000\",\"2019-02-20T00:00:00.000000000\",\"2019-02-21T00:00:00.000000000\",\"2019-02-22T00:00:00.000000000\",\"2019-02-25T00:00:00.000000000\",\"2019-02-26T00:00:00.000000000\",\"2019-02-27T00:00:00.000000000\",\"2019-02-28T00:00:00.000000000\",\"2019-03-01T00:00:00.000000000\",\"2019-03-04T00:00:00.000000000\",\"2019-03-05T00:00:00.000000000\",\"2019-03-06T00:00:00.000000000\",\"2019-03-07T00:00:00.000000000\",\"2019-03-08T00:00:00.000000000\",\"2019-03-11T00:00:00.000000000\",\"2019-03-12T00:00:00.000000000\",\"2019-03-13T00:00:00.000000000\",\"2019-03-14T00:00:00.000000000\",\"2019-03-15T00:00:00.000000000\",\"2019-03-18T00:00:00.000000000\",\"2019-03-19T00:00:00.000000000\",\"2019-03-20T00:00:00.000000000\",\"2019-03-21T00:00:00.000000000\",\"2019-03-22T00:00:00.000000000\",\"2019-03-25T00:00:00.000000000\",\"2019-03-26T00:00:00.000000000\",\"2019-03-27T00:00:00.000000000\",\"2019-03-28T00:00:00.000000000\",\"2019-03-29T00:00:00.000000000\",\"2019-04-01T00:00:00.000000000\",\"2019-04-02T00:00:00.000000000\",\"2019-04-03T00:00:00.000000000\",\"2019-04-04T00:00:00.000000000\",\"2019-04-05T00:00:00.000000000\",\"2019-04-08T00:00:00.000000000\",\"2019-04-09T00:00:00.000000000\",\"2019-04-10T00:00:00.000000000\",\"2019-04-11T00:00:00.000000000\",\"2019-04-12T00:00:00.000000000\",\"2019-04-15T00:00:00.000000000\",\"2019-04-16T00:00:00.000000000\",\"2019-04-17T00:00:00.000000000\",\"2019-04-18T00:00:00.000000000\",\"2019-04-23T00:00:00.000000000\",\"2019-04-24T00:00:00.000000000\",\"2019-04-25T00:00:00.000000000\",\"2019-04-26T00:00:00.000000000\",\"2019-04-29T00:00:00.000000000\",\"2019-04-30T00:00:00.000000000\",\"2019-05-02T00:00:00.000000000\",\"2019-05-03T00:00:00.000000000\",\"2019-05-06T00:00:00.000000000\",\"2019-05-07T00:00:00.000000000\",\"2019-05-08T00:00:00.000000000\",\"2019-05-09T00:00:00.000000000\",\"2019-05-10T00:00:00.000000000\",\"2019-05-13T00:00:00.000000000\",\"2019-05-14T00:00:00.000000000\",\"2019-05-15T00:00:00.000000000\",\"2019-05-16T00:00:00.000000000\",\"2019-05-17T00:00:00.000000000\",\"2019-05-20T00:00:00.000000000\",\"2019-05-21T00:00:00.000000000\",\"2019-05-22T00:00:00.000000000\",\"2019-05-23T00:00:00.000000000\",\"2019-05-24T00:00:00.000000000\",\"2019-05-27T00:00:00.000000000\",\"2019-05-28T00:00:00.000000000\",\"2019-05-29T00:00:00.000000000\",\"2019-05-30T00:00:00.000000000\",\"2019-05-31T00:00:00.000000000\",\"2019-06-03T00:00:00.000000000\",\"2019-06-04T00:00:00.000000000\",\"2019-06-05T00:00:00.000000000\",\"2019-06-06T00:00:00.000000000\",\"2019-06-07T00:00:00.000000000\",\"2019-06-11T00:00:00.000000000\",\"2019-06-12T00:00:00.000000000\",\"2019-06-13T00:00:00.000000000\",\"2019-06-14T00:00:00.000000000\",\"2019-06-17T00:00:00.000000000\",\"2019-06-18T00:00:00.000000000\",\"2019-06-19T00:00:00.000000000\",\"2019-06-20T00:00:00.000000000\",\"2019-06-21T00:00:00.000000000\",\"2019-06-24T00:00:00.000000000\",\"2019-06-25T00:00:00.000000000\",\"2019-06-26T00:00:00.000000000\",\"2019-06-27T00:00:00.000000000\",\"2019-06-28T00:00:00.000000000\",\"2019-07-01T00:00:00.000000000\",\"2019-07-02T00:00:00.000000000\",\"2019-07-03T00:00:00.000000000\",\"2019-07-04T00:00:00.000000000\",\"2019-07-05T00:00:00.000000000\",\"2019-07-08T00:00:00.000000000\",\"2019-07-09T00:00:00.000000000\",\"2019-07-10T00:00:00.000000000\",\"2019-07-11T00:00:00.000000000\",\"2019-07-12T00:00:00.000000000\",\"2019-07-15T00:00:00.000000000\",\"2019-07-16T00:00:00.000000000\",\"2019-07-17T00:00:00.000000000\",\"2019-07-18T00:00:00.000000000\",\"2019-07-19T00:00:00.000000000\",\"2019-07-22T00:00:00.000000000\",\"2019-07-23T00:00:00.000000000\",\"2019-07-24T00:00:00.000000000\",\"2019-07-25T00:00:00.000000000\",\"2019-07-26T00:00:00.000000000\",\"2019-07-29T00:00:00.000000000\",\"2019-07-30T00:00:00.000000000\",\"2019-07-31T00:00:00.000000000\",\"2019-08-01T00:00:00.000000000\",\"2019-08-02T00:00:00.000000000\",\"2019-08-05T00:00:00.000000000\",\"2019-08-06T00:00:00.000000000\",\"2019-08-07T00:00:00.000000000\",\"2019-08-08T00:00:00.000000000\",\"2019-08-09T00:00:00.000000000\",\"2019-08-12T00:00:00.000000000\",\"2019-08-13T00:00:00.000000000\",\"2019-08-14T00:00:00.000000000\",\"2019-08-15T00:00:00.000000000\",\"2019-08-16T00:00:00.000000000\",\"2019-08-19T00:00:00.000000000\",\"2019-08-20T00:00:00.000000000\",\"2019-08-21T00:00:00.000000000\",\"2019-08-22T00:00:00.000000000\",\"2019-08-23T00:00:00.000000000\",\"2019-08-26T00:00:00.000000000\",\"2019-08-27T00:00:00.000000000\",\"2019-08-28T00:00:00.000000000\",\"2019-08-29T00:00:00.000000000\",\"2019-08-30T00:00:00.000000000\",\"2019-09-02T00:00:00.000000000\",\"2019-09-03T00:00:00.000000000\",\"2019-09-04T00:00:00.000000000\",\"2019-09-05T00:00:00.000000000\",\"2019-09-06T00:00:00.000000000\",\"2019-09-09T00:00:00.000000000\",\"2019-09-10T00:00:00.000000000\",\"2019-09-11T00:00:00.000000000\",\"2019-09-12T00:00:00.000000000\",\"2019-09-13T00:00:00.000000000\",\"2019-09-16T00:00:00.000000000\",\"2019-09-17T00:00:00.000000000\",\"2019-09-18T00:00:00.000000000\",\"2019-09-19T00:00:00.000000000\",\"2019-09-20T00:00:00.000000000\",\"2019-09-23T00:00:00.000000000\",\"2019-09-24T00:00:00.000000000\",\"2019-09-25T00:00:00.000000000\",\"2019-09-26T00:00:00.000000000\",\"2019-09-27T00:00:00.000000000\",\"2019-09-30T00:00:00.000000000\",\"2019-10-01T00:00:00.000000000\",\"2019-10-02T00:00:00.000000000\",\"2019-10-04T00:00:00.000000000\",\"2019-10-07T00:00:00.000000000\",\"2019-10-08T00:00:00.000000000\",\"2019-10-09T00:00:00.000000000\",\"2019-10-10T00:00:00.000000000\",\"2019-10-11T00:00:00.000000000\",\"2019-10-14T00:00:00.000000000\",\"2019-10-15T00:00:00.000000000\",\"2019-10-16T00:00:00.000000000\",\"2019-10-17T00:00:00.000000000\",\"2019-10-18T00:00:00.000000000\",\"2019-10-21T00:00:00.000000000\",\"2019-10-22T00:00:00.000000000\",\"2019-10-23T00:00:00.000000000\",\"2019-10-24T00:00:00.000000000\",\"2019-10-25T00:00:00.000000000\",\"2019-10-28T00:00:00.000000000\",\"2019-10-29T00:00:00.000000000\",\"2019-10-30T00:00:00.000000000\",\"2019-10-31T00:00:00.000000000\",\"2019-11-01T00:00:00.000000000\",\"2019-11-04T00:00:00.000000000\",\"2019-11-05T00:00:00.000000000\",\"2019-11-06T00:00:00.000000000\",\"2019-11-07T00:00:00.000000000\",\"2019-11-08T00:00:00.000000000\",\"2019-11-11T00:00:00.000000000\",\"2019-11-12T00:00:00.000000000\",\"2019-11-13T00:00:00.000000000\",\"2019-11-14T00:00:00.000000000\",\"2019-11-15T00:00:00.000000000\",\"2019-11-18T00:00:00.000000000\",\"2019-11-19T00:00:00.000000000\",\"2019-11-20T00:00:00.000000000\",\"2019-11-21T00:00:00.000000000\",\"2019-11-22T00:00:00.000000000\",\"2019-11-25T00:00:00.000000000\",\"2019-11-26T00:00:00.000000000\",\"2019-11-27T00:00:00.000000000\",\"2019-11-28T00:00:00.000000000\",\"2019-11-29T00:00:00.000000000\",\"2019-12-02T00:00:00.000000000\",\"2019-12-03T00:00:00.000000000\",\"2019-12-04T00:00:00.000000000\",\"2019-12-05T00:00:00.000000000\",\"2019-12-06T00:00:00.000000000\",\"2019-12-09T00:00:00.000000000\",\"2019-12-10T00:00:00.000000000\",\"2019-12-11T00:00:00.000000000\",\"2019-12-12T00:00:00.000000000\",\"2019-12-13T00:00:00.000000000\",\"2019-12-16T00:00:00.000000000\",\"2019-12-17T00:00:00.000000000\",\"2019-12-18T00:00:00.000000000\",\"2019-12-19T00:00:00.000000000\",\"2019-12-20T00:00:00.000000000\",\"2019-12-23T00:00:00.000000000\",\"2019-12-27T00:00:00.000000000\",\"2019-12-30T00:00:00.000000000\",\"2020-01-02T00:00:00.000000000\",\"2020-01-03T00:00:00.000000000\",\"2020-01-06T00:00:00.000000000\",\"2020-01-07T00:00:00.000000000\",\"2020-01-08T00:00:00.000000000\",\"2020-01-09T00:00:00.000000000\",\"2020-01-10T00:00:00.000000000\",\"2020-01-13T00:00:00.000000000\",\"2020-01-14T00:00:00.000000000\",\"2020-01-15T00:00:00.000000000\",\"2020-01-16T00:00:00.000000000\",\"2020-01-17T00:00:00.000000000\",\"2020-01-20T00:00:00.000000000\",\"2020-01-21T00:00:00.000000000\",\"2020-01-22T00:00:00.000000000\",\"2020-01-23T00:00:00.000000000\",\"2020-01-24T00:00:00.000000000\",\"2020-01-27T00:00:00.000000000\",\"2020-01-28T00:00:00.000000000\",\"2020-01-29T00:00:00.000000000\",\"2020-01-30T00:00:00.000000000\",\"2020-01-31T00:00:00.000000000\",\"2020-02-03T00:00:00.000000000\",\"2020-02-04T00:00:00.000000000\",\"2020-02-05T00:00:00.000000000\",\"2020-02-06T00:00:00.000000000\",\"2020-02-07T00:00:00.000000000\",\"2020-02-10T00:00:00.000000000\",\"2020-02-11T00:00:00.000000000\",\"2020-02-12T00:00:00.000000000\",\"2020-02-13T00:00:00.000000000\",\"2020-02-14T00:00:00.000000000\",\"2020-02-17T00:00:00.000000000\",\"2020-02-18T00:00:00.000000000\",\"2020-02-19T00:00:00.000000000\",\"2020-02-20T00:00:00.000000000\",\"2020-02-21T00:00:00.000000000\",\"2020-02-24T00:00:00.000000000\",\"2020-02-25T00:00:00.000000000\",\"2020-02-26T00:00:00.000000000\",\"2020-02-27T00:00:00.000000000\",\"2020-02-28T00:00:00.000000000\",\"2020-03-02T00:00:00.000000000\",\"2020-03-03T00:00:00.000000000\",\"2020-03-04T00:00:00.000000000\",\"2020-03-05T00:00:00.000000000\",\"2020-03-06T00:00:00.000000000\",\"2020-03-09T00:00:00.000000000\",\"2020-03-10T00:00:00.000000000\",\"2020-03-11T00:00:00.000000000\",\"2020-03-12T00:00:00.000000000\",\"2020-03-13T00:00:00.000000000\",\"2020-03-16T00:00:00.000000000\",\"2020-03-17T00:00:00.000000000\",\"2020-03-18T00:00:00.000000000\",\"2020-03-19T00:00:00.000000000\",\"2020-03-20T00:00:00.000000000\",\"2020-03-23T00:00:00.000000000\",\"2020-03-24T00:00:00.000000000\",\"2020-03-25T00:00:00.000000000\",\"2020-03-26T00:00:00.000000000\",\"2020-03-27T00:00:00.000000000\",\"2020-03-30T00:00:00.000000000\",\"2020-03-31T00:00:00.000000000\",\"2020-04-01T00:00:00.000000000\",\"2020-04-02T00:00:00.000000000\",\"2020-04-03T00:00:00.000000000\",\"2020-04-06T00:00:00.000000000\",\"2020-04-07T00:00:00.000000000\",\"2020-04-08T00:00:00.000000000\",\"2020-04-09T00:00:00.000000000\",\"2020-04-14T00:00:00.000000000\",\"2020-04-15T00:00:00.000000000\",\"2020-04-16T00:00:00.000000000\",\"2020-04-17T00:00:00.000000000\",\"2020-04-20T00:00:00.000000000\",\"2020-04-21T00:00:00.000000000\",\"2020-04-22T00:00:00.000000000\",\"2020-04-23T00:00:00.000000000\",\"2020-04-24T00:00:00.000000000\",\"2020-04-27T00:00:00.000000000\",\"2020-04-28T00:00:00.000000000\",\"2020-04-29T00:00:00.000000000\",\"2020-04-30T00:00:00.000000000\",\"2020-05-04T00:00:00.000000000\",\"2020-05-05T00:00:00.000000000\",\"2020-05-06T00:00:00.000000000\",\"2020-05-07T00:00:00.000000000\",\"2020-05-08T00:00:00.000000000\",\"2020-05-11T00:00:00.000000000\",\"2020-05-12T00:00:00.000000000\",\"2020-05-13T00:00:00.000000000\",\"2020-05-14T00:00:00.000000000\",\"2020-05-15T00:00:00.000000000\",\"2020-05-18T00:00:00.000000000\",\"2020-05-19T00:00:00.000000000\",\"2020-05-20T00:00:00.000000000\",\"2020-05-21T00:00:00.000000000\",\"2020-05-22T00:00:00.000000000\",\"2020-05-25T00:00:00.000000000\",\"2020-05-26T00:00:00.000000000\",\"2020-05-27T00:00:00.000000000\",\"2020-05-28T00:00:00.000000000\",\"2020-05-29T00:00:00.000000000\",\"2020-06-02T00:00:00.000000000\",\"2020-06-03T00:00:00.000000000\",\"2020-06-04T00:00:00.000000000\",\"2020-06-05T00:00:00.000000000\",\"2020-06-08T00:00:00.000000000\",\"2020-06-09T00:00:00.000000000\",\"2020-06-10T00:00:00.000000000\",\"2020-06-11T00:00:00.000000000\",\"2020-06-12T00:00:00.000000000\",\"2020-06-15T00:00:00.000000000\",\"2020-06-16T00:00:00.000000000\",\"2020-06-17T00:00:00.000000000\",\"2020-06-18T00:00:00.000000000\",\"2020-06-19T00:00:00.000000000\",\"2020-06-22T00:00:00.000000000\",\"2020-06-23T00:00:00.000000000\",\"2020-06-24T00:00:00.000000000\",\"2020-06-25T00:00:00.000000000\",\"2020-06-26T00:00:00.000000000\",\"2020-06-29T00:00:00.000000000\",\"2020-06-30T00:00:00.000000000\",\"2020-07-01T00:00:00.000000000\",\"2020-07-02T00:00:00.000000000\",\"2020-07-03T00:00:00.000000000\",\"2020-07-06T00:00:00.000000000\",\"2020-07-07T00:00:00.000000000\",\"2020-07-08T00:00:00.000000000\",\"2020-07-09T00:00:00.000000000\",\"2020-07-10T00:00:00.000000000\",\"2020-07-13T00:00:00.000000000\",\"2020-07-14T00:00:00.000000000\",\"2020-07-15T00:00:00.000000000\",\"2020-07-16T00:00:00.000000000\",\"2020-07-17T00:00:00.000000000\",\"2020-07-20T00:00:00.000000000\",\"2020-07-21T00:00:00.000000000\",\"2020-07-22T00:00:00.000000000\",\"2020-07-23T00:00:00.000000000\",\"2020-07-24T00:00:00.000000000\",\"2020-07-27T00:00:00.000000000\",\"2020-07-28T00:00:00.000000000\",\"2020-07-29T00:00:00.000000000\",\"2020-07-30T00:00:00.000000000\",\"2020-07-31T00:00:00.000000000\",\"2020-08-03T00:00:00.000000000\",\"2020-08-04T00:00:00.000000000\",\"2020-08-05T00:00:00.000000000\",\"2020-08-06T00:00:00.000000000\",\"2020-08-07T00:00:00.000000000\",\"2020-08-10T00:00:00.000000000\",\"2020-08-11T00:00:00.000000000\",\"2020-08-12T00:00:00.000000000\",\"2020-08-13T00:00:00.000000000\",\"2020-08-14T00:00:00.000000000\",\"2020-08-17T00:00:00.000000000\",\"2020-08-18T00:00:00.000000000\",\"2020-08-19T00:00:00.000000000\",\"2020-08-20T00:00:00.000000000\",\"2020-08-21T00:00:00.000000000\",\"2020-08-24T00:00:00.000000000\",\"2020-08-25T00:00:00.000000000\",\"2020-08-26T00:00:00.000000000\",\"2020-08-27T00:00:00.000000000\",\"2020-08-28T00:00:00.000000000\",\"2020-08-31T00:00:00.000000000\",\"2020-09-01T00:00:00.000000000\",\"2020-09-02T00:00:00.000000000\",\"2020-09-03T00:00:00.000000000\",\"2020-09-04T00:00:00.000000000\",\"2020-09-07T00:00:00.000000000\",\"2020-09-08T00:00:00.000000000\",\"2020-09-09T00:00:00.000000000\",\"2020-09-10T00:00:00.000000000\",\"2020-09-11T00:00:00.000000000\",\"2020-09-14T00:00:00.000000000\",\"2020-09-15T00:00:00.000000000\",\"2020-09-16T00:00:00.000000000\",\"2020-09-17T00:00:00.000000000\",\"2020-09-18T00:00:00.000000000\",\"2020-09-21T00:00:00.000000000\",\"2020-09-22T00:00:00.000000000\",\"2020-09-23T00:00:00.000000000\",\"2020-09-24T00:00:00.000000000\",\"2020-09-25T00:00:00.000000000\",\"2020-09-28T00:00:00.000000000\",\"2020-09-29T00:00:00.000000000\",\"2020-09-30T00:00:00.000000000\",\"2020-10-01T00:00:00.000000000\",\"2020-10-02T00:00:00.000000000\",\"2020-10-05T00:00:00.000000000\",\"2020-10-06T00:00:00.000000000\",\"2020-10-07T00:00:00.000000000\",\"2020-10-08T00:00:00.000000000\",\"2020-10-09T00:00:00.000000000\",\"2020-10-12T00:00:00.000000000\",\"2020-10-13T00:00:00.000000000\",\"2020-10-14T00:00:00.000000000\",\"2020-10-15T00:00:00.000000000\",\"2020-10-16T00:00:00.000000000\",\"2020-10-19T00:00:00.000000000\",\"2020-10-20T00:00:00.000000000\",\"2020-10-21T00:00:00.000000000\",\"2020-10-22T00:00:00.000000000\",\"2020-10-23T00:00:00.000000000\",\"2020-10-26T00:00:00.000000000\",\"2020-10-27T00:00:00.000000000\",\"2020-10-28T00:00:00.000000000\",\"2020-10-29T00:00:00.000000000\",\"2020-10-30T00:00:00.000000000\",\"2020-11-02T00:00:00.000000000\",\"2020-11-03T00:00:00.000000000\",\"2020-11-04T00:00:00.000000000\",\"2020-11-05T00:00:00.000000000\",\"2020-11-06T00:00:00.000000000\",\"2020-11-09T00:00:00.000000000\",\"2020-11-10T00:00:00.000000000\",\"2020-11-11T00:00:00.000000000\",\"2020-11-12T00:00:00.000000000\",\"2020-11-13T00:00:00.000000000\",\"2020-11-16T00:00:00.000000000\",\"2020-11-17T00:00:00.000000000\",\"2020-11-18T00:00:00.000000000\",\"2020-11-19T00:00:00.000000000\",\"2020-11-20T00:00:00.000000000\",\"2020-11-23T00:00:00.000000000\",\"2020-11-24T00:00:00.000000000\",\"2020-11-25T00:00:00.000000000\",\"2020-11-26T00:00:00.000000000\",\"2020-11-27T00:00:00.000000000\",\"2020-11-30T00:00:00.000000000\",\"2020-12-01T00:00:00.000000000\",\"2020-12-02T00:00:00.000000000\",\"2020-12-03T00:00:00.000000000\",\"2020-12-04T00:00:00.000000000\",\"2020-12-07T00:00:00.000000000\",\"2020-12-08T00:00:00.000000000\",\"2020-12-09T00:00:00.000000000\",\"2020-12-10T00:00:00.000000000\",\"2020-12-11T00:00:00.000000000\",\"2020-12-14T00:00:00.000000000\",\"2020-12-15T00:00:00.000000000\",\"2020-12-16T00:00:00.000000000\",\"2020-12-17T00:00:00.000000000\",\"2020-12-18T00:00:00.000000000\",\"2020-12-21T00:00:00.000000000\",\"2020-12-22T00:00:00.000000000\",\"2020-12-23T00:00:00.000000000\",\"2020-12-28T00:00:00.000000000\",\"2020-12-29T00:00:00.000000000\",\"2020-12-30T00:00:00.000000000\",\"2021-01-04T00:00:00.000000000\",\"2021-01-05T00:00:00.000000000\",\"2021-01-06T00:00:00.000000000\",\"2021-01-07T00:00:00.000000000\",\"2021-01-08T00:00:00.000000000\",\"2021-01-11T00:00:00.000000000\",\"2021-01-12T00:00:00.000000000\",\"2021-01-13T00:00:00.000000000\",\"2021-01-14T00:00:00.000000000\",\"2021-01-15T00:00:00.000000000\",\"2021-01-18T00:00:00.000000000\",\"2021-01-19T00:00:00.000000000\",\"2021-01-20T00:00:00.000000000\",\"2021-01-21T00:00:00.000000000\",\"2021-01-22T00:00:00.000000000\",\"2021-01-25T00:00:00.000000000\",\"2021-01-26T00:00:00.000000000\",\"2021-01-27T00:00:00.000000000\",\"2021-01-28T00:00:00.000000000\",\"2021-01-29T00:00:00.000000000\",\"2021-02-01T00:00:00.000000000\",\"2021-02-02T00:00:00.000000000\",\"2021-02-03T00:00:00.000000000\",\"2021-02-04T00:00:00.000000000\",\"2021-02-05T00:00:00.000000000\",\"2021-02-08T00:00:00.000000000\",\"2021-02-09T00:00:00.000000000\",\"2021-02-10T00:00:00.000000000\",\"2021-02-11T00:00:00.000000000\",\"2021-02-12T00:00:00.000000000\",\"2021-02-15T00:00:00.000000000\",\"2021-02-16T00:00:00.000000000\",\"2021-02-17T00:00:00.000000000\",\"2021-02-18T00:00:00.000000000\",\"2021-02-19T00:00:00.000000000\",\"2021-02-22T00:00:00.000000000\",\"2021-02-23T00:00:00.000000000\",\"2021-02-24T00:00:00.000000000\",\"2021-02-25T00:00:00.000000000\",\"2021-02-26T00:00:00.000000000\",\"2021-03-01T00:00:00.000000000\",\"2021-03-02T00:00:00.000000000\",\"2021-03-03T00:00:00.000000000\",\"2021-03-04T00:00:00.000000000\",\"2021-03-05T00:00:00.000000000\",\"2021-03-08T00:00:00.000000000\",\"2021-03-09T00:00:00.000000000\",\"2021-03-10T00:00:00.000000000\",\"2021-03-11T00:00:00.000000000\",\"2021-03-12T00:00:00.000000000\",\"2021-03-15T00:00:00.000000000\",\"2021-03-16T00:00:00.000000000\",\"2021-03-17T00:00:00.000000000\",\"2021-03-18T00:00:00.000000000\",\"2021-03-19T00:00:00.000000000\",\"2021-03-22T00:00:00.000000000\",\"2021-03-23T00:00:00.000000000\",\"2021-03-24T00:00:00.000000000\",\"2021-03-25T00:00:00.000000000\",\"2021-03-26T00:00:00.000000000\",\"2021-03-29T00:00:00.000000000\",\"2021-03-30T00:00:00.000000000\",\"2021-03-31T00:00:00.000000000\",\"2021-04-01T00:00:00.000000000\",\"2021-04-06T00:00:00.000000000\",\"2021-04-07T00:00:00.000000000\",\"2021-04-08T00:00:00.000000000\",\"2021-04-09T00:00:00.000000000\",\"2021-04-12T00:00:00.000000000\",\"2021-04-13T00:00:00.000000000\",\"2021-04-14T00:00:00.000000000\",\"2021-04-15T00:00:00.000000000\",\"2021-04-16T00:00:00.000000000\",\"2021-04-19T00:00:00.000000000\",\"2021-04-20T00:00:00.000000000\",\"2021-04-21T00:00:00.000000000\",\"2021-04-22T00:00:00.000000000\",\"2021-04-23T00:00:00.000000000\",\"2021-04-26T00:00:00.000000000\",\"2021-04-27T00:00:00.000000000\",\"2021-04-28T00:00:00.000000000\",\"2021-04-29T00:00:00.000000000\",\"2021-04-30T00:00:00.000000000\",\"2021-05-03T00:00:00.000000000\",\"2021-05-04T00:00:00.000000000\",\"2021-05-05T00:00:00.000000000\",\"2021-05-06T00:00:00.000000000\",\"2021-05-07T00:00:00.000000000\",\"2021-05-10T00:00:00.000000000\",\"2021-05-11T00:00:00.000000000\",\"2021-05-12T00:00:00.000000000\",\"2021-05-13T00:00:00.000000000\",\"2021-05-14T00:00:00.000000000\",\"2021-05-17T00:00:00.000000000\",\"2021-05-18T00:00:00.000000000\",\"2021-05-19T00:00:00.000000000\",\"2021-05-20T00:00:00.000000000\",\"2021-05-21T00:00:00.000000000\",\"2021-05-25T00:00:00.000000000\",\"2021-05-26T00:00:00.000000000\",\"2021-05-27T00:00:00.000000000\",\"2021-05-28T00:00:00.000000000\",\"2021-05-31T00:00:00.000000000\",\"2021-06-01T00:00:00.000000000\",\"2021-06-02T00:00:00.000000000\",\"2021-06-03T00:00:00.000000000\",\"2021-06-04T00:00:00.000000000\",\"2021-06-07T00:00:00.000000000\",\"2021-06-08T00:00:00.000000000\",\"2021-06-09T00:00:00.000000000\",\"2021-06-10T00:00:00.000000000\",\"2021-06-11T00:00:00.000000000\",\"2021-06-14T00:00:00.000000000\",\"2021-06-15T00:00:00.000000000\",\"2021-06-16T00:00:00.000000000\",\"2021-06-17T00:00:00.000000000\",\"2021-06-18T00:00:00.000000000\",\"2021-06-21T00:00:00.000000000\",\"2021-06-22T00:00:00.000000000\",\"2021-06-23T00:00:00.000000000\",\"2021-06-24T00:00:00.000000000\",\"2021-06-25T00:00:00.000000000\",\"2021-06-28T00:00:00.000000000\",\"2021-06-29T00:00:00.000000000\",\"2021-06-30T00:00:00.000000000\",\"2021-07-01T00:00:00.000000000\",\"2021-07-02T00:00:00.000000000\",\"2021-07-05T00:00:00.000000000\",\"2021-07-06T00:00:00.000000000\",\"2021-07-07T00:00:00.000000000\",\"2021-07-08T00:00:00.000000000\",\"2021-07-09T00:00:00.000000000\",\"2021-07-12T00:00:00.000000000\",\"2021-07-13T00:00:00.000000000\",\"2021-07-14T00:00:00.000000000\",\"2021-07-15T00:00:00.000000000\",\"2021-07-16T00:00:00.000000000\",\"2021-07-19T00:00:00.000000000\",\"2021-07-20T00:00:00.000000000\",\"2021-07-21T00:00:00.000000000\",\"2021-07-22T00:00:00.000000000\",\"2021-07-23T00:00:00.000000000\",\"2021-07-26T00:00:00.000000000\",\"2021-07-27T00:00:00.000000000\",\"2021-07-28T00:00:00.000000000\",\"2021-07-29T00:00:00.000000000\",\"2021-07-30T00:00:00.000000000\",\"2021-08-02T00:00:00.000000000\",\"2021-08-03T00:00:00.000000000\",\"2021-08-04T00:00:00.000000000\",\"2021-08-05T00:00:00.000000000\",\"2021-08-06T00:00:00.000000000\",\"2021-08-09T00:00:00.000000000\",\"2021-08-10T00:00:00.000000000\",\"2021-08-11T00:00:00.000000000\",\"2021-08-12T00:00:00.000000000\",\"2021-08-13T00:00:00.000000000\",\"2021-08-16T00:00:00.000000000\",\"2021-08-17T00:00:00.000000000\",\"2021-08-18T00:00:00.000000000\",\"2021-08-19T00:00:00.000000000\",\"2021-08-20T00:00:00.000000000\",\"2021-08-23T00:00:00.000000000\",\"2021-08-24T00:00:00.000000000\",\"2021-08-25T00:00:00.000000000\",\"2021-08-26T00:00:00.000000000\",\"2021-08-27T00:00:00.000000000\",\"2021-08-30T00:00:00.000000000\",\"2021-08-31T00:00:00.000000000\",\"2021-09-01T00:00:00.000000000\",\"2021-09-02T00:00:00.000000000\",\"2021-09-03T00:00:00.000000000\",\"2021-09-06T00:00:00.000000000\",\"2021-09-07T00:00:00.000000000\",\"2021-09-08T00:00:00.000000000\",\"2021-09-09T00:00:00.000000000\",\"2021-09-10T00:00:00.000000000\",\"2021-09-13T00:00:00.000000000\",\"2021-09-14T00:00:00.000000000\",\"2021-09-15T00:00:00.000000000\",\"2021-09-16T00:00:00.000000000\",\"2021-09-17T00:00:00.000000000\",\"2021-09-20T00:00:00.000000000\",\"2021-09-21T00:00:00.000000000\",\"2021-09-22T00:00:00.000000000\",\"2021-09-23T00:00:00.000000000\",\"2021-09-24T00:00:00.000000000\",\"2021-09-27T00:00:00.000000000\",\"2021-09-28T00:00:00.000000000\",\"2021-09-29T00:00:00.000000000\",\"2021-09-30T00:00:00.000000000\",\"2021-10-01T00:00:00.000000000\",\"2021-10-04T00:00:00.000000000\",\"2021-10-05T00:00:00.000000000\",\"2021-10-06T00:00:00.000000000\",\"2021-10-07T00:00:00.000000000\",\"2021-10-08T00:00:00.000000000\",\"2021-10-11T00:00:00.000000000\",\"2021-10-12T00:00:00.000000000\",\"2021-10-13T00:00:00.000000000\",\"2021-10-14T00:00:00.000000000\",\"2021-10-15T00:00:00.000000000\",\"2021-10-18T00:00:00.000000000\",\"2021-10-19T00:00:00.000000000\",\"2021-10-20T00:00:00.000000000\",\"2021-10-21T00:00:00.000000000\",\"2021-10-22T00:00:00.000000000\",\"2021-10-25T00:00:00.000000000\",\"2021-10-26T00:00:00.000000000\",\"2021-10-27T00:00:00.000000000\",\"2021-10-28T00:00:00.000000000\",\"2021-10-29T00:00:00.000000000\",\"2021-11-01T00:00:00.000000000\",\"2021-11-02T00:00:00.000000000\",\"2021-11-03T00:00:00.000000000\",\"2021-11-04T00:00:00.000000000\",\"2021-11-05T00:00:00.000000000\",\"2021-11-08T00:00:00.000000000\",\"2021-11-09T00:00:00.000000000\",\"2021-11-10T00:00:00.000000000\",\"2021-11-11T00:00:00.000000000\",\"2021-11-12T00:00:00.000000000\",\"2021-11-15T00:00:00.000000000\",\"2021-11-16T00:00:00.000000000\",\"2021-11-17T00:00:00.000000000\",\"2021-11-18T00:00:00.000000000\",\"2021-11-19T00:00:00.000000000\",\"2021-11-22T00:00:00.000000000\",\"2021-11-23T00:00:00.000000000\",\"2021-11-24T00:00:00.000000000\",\"2021-11-25T00:00:00.000000000\",\"2021-11-26T00:00:00.000000000\",\"2021-11-29T00:00:00.000000000\",\"2021-11-30T00:00:00.000000000\",\"2021-12-01T00:00:00.000000000\",\"2021-12-02T00:00:00.000000000\",\"2021-12-03T00:00:00.000000000\",\"2021-12-06T00:00:00.000000000\",\"2021-12-07T00:00:00.000000000\",\"2021-12-08T00:00:00.000000000\",\"2021-12-09T00:00:00.000000000\",\"2021-12-10T00:00:00.000000000\",\"2021-12-13T00:00:00.000000000\",\"2021-12-14T00:00:00.000000000\",\"2021-12-15T00:00:00.000000000\",\"2021-12-16T00:00:00.000000000\",\"2021-12-17T00:00:00.000000000\",\"2021-12-20T00:00:00.000000000\",\"2021-12-21T00:00:00.000000000\",\"2021-12-22T00:00:00.000000000\",\"2021-12-23T00:00:00.000000000\",\"2021-12-28T00:00:00.000000000\",\"2021-12-29T00:00:00.000000000\",\"2021-12-30T00:00:00.000000000\",\"2022-01-04T00:00:00.000000000\",\"2022-01-05T00:00:00.000000000\",\"2022-01-06T00:00:00.000000000\",\"2022-01-07T00:00:00.000000000\",\"2022-01-10T00:00:00.000000000\",\"2022-01-11T00:00:00.000000000\",\"2022-01-12T00:00:00.000000000\",\"2022-01-13T00:00:00.000000000\",\"2022-01-14T00:00:00.000000000\",\"2022-01-17T00:00:00.000000000\",\"2022-01-18T00:00:00.000000000\",\"2022-01-19T00:00:00.000000000\",\"2022-01-20T00:00:00.000000000\",\"2022-01-21T00:00:00.000000000\",\"2022-01-24T00:00:00.000000000\",\"2022-01-25T00:00:00.000000000\",\"2022-01-26T00:00:00.000000000\",\"2022-01-27T00:00:00.000000000\",\"2022-01-28T00:00:00.000000000\",\"2022-01-31T00:00:00.000000000\",\"2022-02-01T00:00:00.000000000\",\"2022-02-02T00:00:00.000000000\",\"2022-02-03T00:00:00.000000000\",\"2022-02-04T00:00:00.000000000\",\"2022-02-07T00:00:00.000000000\",\"2022-02-08T00:00:00.000000000\",\"2022-02-09T00:00:00.000000000\",\"2022-02-10T00:00:00.000000000\",\"2022-02-11T00:00:00.000000000\",\"2022-02-14T00:00:00.000000000\",\"2022-02-15T00:00:00.000000000\",\"2022-02-16T00:00:00.000000000\",\"2022-02-17T00:00:00.000000000\",\"2022-02-18T00:00:00.000000000\",\"2022-02-21T00:00:00.000000000\",\"2022-02-22T00:00:00.000000000\",\"2022-02-23T00:00:00.000000000\",\"2022-02-24T00:00:00.000000000\",\"2022-02-25T00:00:00.000000000\",\"2022-02-28T00:00:00.000000000\",\"2022-03-01T00:00:00.000000000\",\"2022-03-02T00:00:00.000000000\",\"2022-03-03T00:00:00.000000000\",\"2022-03-04T00:00:00.000000000\",\"2022-03-07T00:00:00.000000000\",\"2022-03-08T00:00:00.000000000\",\"2022-03-09T00:00:00.000000000\",\"2022-03-10T00:00:00.000000000\",\"2022-03-11T00:00:00.000000000\",\"2022-03-14T00:00:00.000000000\",\"2022-03-15T00:00:00.000000000\",\"2022-03-16T00:00:00.000000000\",\"2022-03-17T00:00:00.000000000\",\"2022-03-18T00:00:00.000000000\",\"2022-03-21T00:00:00.000000000\",\"2022-03-22T00:00:00.000000000\",\"2022-03-23T00:00:00.000000000\",\"2022-03-24T00:00:00.000000000\",\"2022-03-25T00:00:00.000000000\",\"2022-03-28T00:00:00.000000000\",\"2022-03-29T00:00:00.000000000\",\"2022-03-30T00:00:00.000000000\",\"2022-03-31T00:00:00.000000000\",\"2022-04-01T00:00:00.000000000\",\"2022-04-04T00:00:00.000000000\",\"2022-04-05T00:00:00.000000000\",\"2022-04-06T00:00:00.000000000\",\"2022-04-07T00:00:00.000000000\",\"2022-04-08T00:00:00.000000000\",\"2022-04-11T00:00:00.000000000\",\"2022-04-12T00:00:00.000000000\",\"2022-04-13T00:00:00.000000000\",\"2022-04-14T00:00:00.000000000\",\"2022-04-19T00:00:00.000000000\",\"2022-04-20T00:00:00.000000000\",\"2022-04-21T00:00:00.000000000\",\"2022-04-22T00:00:00.000000000\",\"2022-04-25T00:00:00.000000000\",\"2022-04-26T00:00:00.000000000\",\"2022-04-27T00:00:00.000000000\",\"2022-04-28T00:00:00.000000000\",\"2022-04-29T00:00:00.000000000\",\"2022-05-02T00:00:00.000000000\",\"2022-05-03T00:00:00.000000000\",\"2022-05-04T00:00:00.000000000\",\"2022-05-05T00:00:00.000000000\",\"2022-05-06T00:00:00.000000000\",\"2022-05-09T00:00:00.000000000\",\"2022-05-10T00:00:00.000000000\",\"2022-05-11T00:00:00.000000000\",\"2022-05-12T00:00:00.000000000\",\"2022-05-13T00:00:00.000000000\",\"2022-05-16T00:00:00.000000000\",\"2022-05-17T00:00:00.000000000\",\"2022-05-18T00:00:00.000000000\",\"2022-05-19T00:00:00.000000000\",\"2022-05-20T00:00:00.000000000\",\"2022-05-23T00:00:00.000000000\",\"2022-05-24T00:00:00.000000000\",\"2022-05-25T00:00:00.000000000\",\"2022-05-26T00:00:00.000000000\",\"2022-05-27T00:00:00.000000000\",\"2022-05-30T00:00:00.000000000\",\"2022-05-31T00:00:00.000000000\",\"2022-06-01T00:00:00.000000000\",\"2022-06-02T00:00:00.000000000\",\"2022-06-03T00:00:00.000000000\",\"2022-06-06T00:00:00.000000000\",\"2022-06-07T00:00:00.000000000\",\"2022-06-08T00:00:00.000000000\",\"2022-06-09T00:00:00.000000000\",\"2022-06-10T00:00:00.000000000\",\"2022-06-13T00:00:00.000000000\",\"2022-06-14T00:00:00.000000000\",\"2022-06-15T00:00:00.000000000\",\"2022-06-16T00:00:00.000000000\",\"2022-06-17T00:00:00.000000000\",\"2022-06-20T00:00:00.000000000\",\"2022-06-21T00:00:00.000000000\",\"2022-06-22T00:00:00.000000000\",\"2022-06-23T00:00:00.000000000\",\"2022-06-24T00:00:00.000000000\",\"2022-06-27T00:00:00.000000000\",\"2022-06-28T00:00:00.000000000\",\"2022-06-29T00:00:00.000000000\",\"2022-06-30T00:00:00.000000000\",\"2022-07-01T00:00:00.000000000\",\"2022-07-04T00:00:00.000000000\",\"2022-07-05T00:00:00.000000000\",\"2022-07-06T00:00:00.000000000\",\"2022-07-07T00:00:00.000000000\",\"2022-07-08T00:00:00.000000000\",\"2022-07-11T00:00:00.000000000\",\"2022-07-12T00:00:00.000000000\",\"2022-07-13T00:00:00.000000000\",\"2022-07-14T00:00:00.000000000\",\"2022-07-15T00:00:00.000000000\",\"2022-07-18T00:00:00.000000000\",\"2022-07-19T00:00:00.000000000\",\"2022-07-20T00:00:00.000000000\",\"2022-07-21T00:00:00.000000000\",\"2022-07-22T00:00:00.000000000\",\"2022-07-25T00:00:00.000000000\",\"2022-07-26T00:00:00.000000000\",\"2022-07-27T00:00:00.000000000\",\"2022-07-28T00:00:00.000000000\",\"2022-07-29T00:00:00.000000000\",\"2022-08-01T00:00:00.000000000\",\"2022-08-02T00:00:00.000000000\",\"2022-08-03T00:00:00.000000000\",\"2022-08-04T00:00:00.000000000\",\"2022-08-05T00:00:00.000000000\",\"2022-08-08T00:00:00.000000000\",\"2022-08-09T00:00:00.000000000\",\"2022-08-10T00:00:00.000000000\",\"2022-08-11T00:00:00.000000000\",\"2022-08-12T00:00:00.000000000\",\"2022-08-15T00:00:00.000000000\",\"2022-08-16T00:00:00.000000000\",\"2022-08-17T00:00:00.000000000\",\"2022-08-18T00:00:00.000000000\",\"2022-08-19T00:00:00.000000000\",\"2022-08-22T00:00:00.000000000\",\"2022-08-23T00:00:00.000000000\",\"2022-08-24T00:00:00.000000000\",\"2022-08-25T00:00:00.000000000\",\"2022-08-26T00:00:00.000000000\",\"2022-08-29T00:00:00.000000000\",\"2022-08-30T00:00:00.000000000\",\"2022-08-31T00:00:00.000000000\",\"2022-09-01T00:00:00.000000000\",\"2022-09-02T00:00:00.000000000\",\"2022-09-05T00:00:00.000000000\",\"2022-09-06T00:00:00.000000000\",\"2022-09-07T00:00:00.000000000\",\"2022-09-08T00:00:00.000000000\",\"2022-09-09T00:00:00.000000000\",\"2022-09-12T00:00:00.000000000\",\"2022-09-13T00:00:00.000000000\",\"2022-09-14T00:00:00.000000000\",\"2022-09-15T00:00:00.000000000\",\"2022-09-16T00:00:00.000000000\",\"2022-09-19T00:00:00.000000000\",\"2022-09-20T00:00:00.000000000\",\"2022-09-21T00:00:00.000000000\",\"2022-09-22T00:00:00.000000000\",\"2022-09-23T00:00:00.000000000\",\"2022-09-26T00:00:00.000000000\",\"2022-09-27T00:00:00.000000000\",\"2022-09-28T00:00:00.000000000\",\"2022-09-29T00:00:00.000000000\",\"2022-09-30T00:00:00.000000000\",\"2022-10-03T00:00:00.000000000\",\"2022-10-04T00:00:00.000000000\",\"2022-10-05T00:00:00.000000000\",\"2022-10-06T00:00:00.000000000\",\"2022-10-07T00:00:00.000000000\",\"2022-10-10T00:00:00.000000000\",\"2022-10-11T00:00:00.000000000\",\"2022-10-12T00:00:00.000000000\",\"2022-10-13T00:00:00.000000000\",\"2022-10-14T00:00:00.000000000\",\"2022-10-17T00:00:00.000000000\",\"2022-10-18T00:00:00.000000000\",\"2022-10-19T00:00:00.000000000\",\"2022-10-20T00:00:00.000000000\",\"2022-10-21T00:00:00.000000000\",\"2022-10-24T00:00:00.000000000\",\"2022-10-25T00:00:00.000000000\",\"2022-10-26T00:00:00.000000000\",\"2022-10-27T00:00:00.000000000\",\"2022-10-28T00:00:00.000000000\",\"2022-10-31T00:00:00.000000000\",\"2022-11-01T00:00:00.000000000\",\"2022-11-02T00:00:00.000000000\",\"2022-11-03T00:00:00.000000000\",\"2022-11-04T00:00:00.000000000\",\"2022-11-07T00:00:00.000000000\",\"2022-11-08T00:00:00.000000000\",\"2022-11-09T00:00:00.000000000\",\"2022-11-10T00:00:00.000000000\",\"2022-11-11T00:00:00.000000000\",\"2022-11-14T00:00:00.000000000\",\"2022-11-15T00:00:00.000000000\",\"2022-11-16T00:00:00.000000000\",\"2022-11-17T00:00:00.000000000\",\"2022-11-18T00:00:00.000000000\",\"2022-11-21T00:00:00.000000000\",\"2022-11-22T00:00:00.000000000\",\"2022-11-23T00:00:00.000000000\",\"2022-11-24T00:00:00.000000000\",\"2022-11-25T00:00:00.000000000\",\"2022-11-28T00:00:00.000000000\",\"2022-11-29T00:00:00.000000000\",\"2022-11-30T00:00:00.000000000\",\"2022-12-01T00:00:00.000000000\",\"2022-12-02T00:00:00.000000000\",\"2022-12-05T00:00:00.000000000\",\"2022-12-06T00:00:00.000000000\",\"2022-12-07T00:00:00.000000000\",\"2022-12-08T00:00:00.000000000\",\"2022-12-09T00:00:00.000000000\",\"2022-12-12T00:00:00.000000000\",\"2022-12-13T00:00:00.000000000\",\"2022-12-14T00:00:00.000000000\",\"2022-12-15T00:00:00.000000000\",\"2022-12-16T00:00:00.000000000\",\"2022-12-19T00:00:00.000000000\",\"2022-12-20T00:00:00.000000000\",\"2022-12-21T00:00:00.000000000\",\"2022-12-22T00:00:00.000000000\",\"2022-12-23T00:00:00.000000000\",\"2022-12-27T00:00:00.000000000\",\"2022-12-28T00:00:00.000000000\",\"2022-12-29T00:00:00.000000000\",\"2022-12-30T00:00:00.000000000\",\"2023-01-03T00:00:00.000000000\",\"2023-01-04T00:00:00.000000000\",\"2023-01-05T00:00:00.000000000\",\"2023-01-06T00:00:00.000000000\",\"2023-01-09T00:00:00.000000000\",\"2023-01-10T00:00:00.000000000\",\"2023-01-11T00:00:00.000000000\",\"2023-01-12T00:00:00.000000000\",\"2023-01-13T00:00:00.000000000\",\"2023-01-16T00:00:00.000000000\",\"2023-01-17T00:00:00.000000000\",\"2023-01-18T00:00:00.000000000\",\"2023-01-19T00:00:00.000000000\",\"2023-01-20T00:00:00.000000000\",\"2023-01-23T00:00:00.000000000\",\"2023-01-24T00:00:00.000000000\",\"2023-01-25T00:00:00.000000000\",\"2023-01-26T00:00:00.000000000\",\"2023-01-27T00:00:00.000000000\",\"2023-01-30T00:00:00.000000000\",\"2023-01-31T00:00:00.000000000\",\"2023-02-01T00:00:00.000000000\",\"2023-02-02T00:00:00.000000000\",\"2023-02-03T00:00:00.000000000\",\"2023-02-06T00:00:00.000000000\",\"2023-02-07T00:00:00.000000000\",\"2023-02-08T00:00:00.000000000\",\"2023-02-09T00:00:00.000000000\",\"2023-02-10T00:00:00.000000000\",\"2023-02-13T00:00:00.000000000\",\"2023-02-14T00:00:00.000000000\",\"2023-02-15T00:00:00.000000000\",\"2023-02-16T00:00:00.000000000\",\"2023-02-17T00:00:00.000000000\",\"2023-02-20T00:00:00.000000000\",\"2023-02-21T00:00:00.000000000\",\"2023-02-22T00:00:00.000000000\",\"2023-02-23T00:00:00.000000000\",\"2023-02-24T00:00:00.000000000\",\"2023-02-27T00:00:00.000000000\",\"2023-02-28T00:00:00.000000000\",\"2023-03-01T00:00:00.000000000\",\"2023-03-02T00:00:00.000000000\",\"2023-03-03T00:00:00.000000000\",\"2023-03-06T00:00:00.000000000\",\"2023-03-07T00:00:00.000000000\",\"2023-03-08T00:00:00.000000000\",\"2023-03-09T00:00:00.000000000\",\"2023-03-10T00:00:00.000000000\",\"2023-03-13T00:00:00.000000000\",\"2023-03-14T00:00:00.000000000\",\"2023-03-15T00:00:00.000000000\",\"2023-03-16T00:00:00.000000000\",\"2023-03-17T00:00:00.000000000\",\"2023-03-20T00:00:00.000000000\",\"2023-03-21T00:00:00.000000000\",\"2023-03-22T00:00:00.000000000\",\"2023-03-23T00:00:00.000000000\",\"2023-03-24T00:00:00.000000000\",\"2023-03-27T00:00:00.000000000\",\"2023-03-28T00:00:00.000000000\",\"2023-03-29T00:00:00.000000000\",\"2023-03-30T00:00:00.000000000\",\"2023-03-31T00:00:00.000000000\",\"2023-04-03T00:00:00.000000000\",\"2023-04-04T00:00:00.000000000\",\"2023-04-05T00:00:00.000000000\",\"2023-04-06T00:00:00.000000000\",\"2023-04-11T00:00:00.000000000\",\"2023-04-12T00:00:00.000000000\",\"2023-04-13T00:00:00.000000000\",\"2023-04-14T00:00:00.000000000\",\"2023-04-17T00:00:00.000000000\",\"2023-04-18T00:00:00.000000000\",\"2023-04-19T00:00:00.000000000\",\"2023-04-20T00:00:00.000000000\",\"2023-04-21T00:00:00.000000000\",\"2023-04-24T00:00:00.000000000\",\"2023-04-25T00:00:00.000000000\",\"2023-04-26T00:00:00.000000000\",\"2023-04-27T00:00:00.000000000\",\"2023-04-28T00:00:00.000000000\",\"2023-05-02T00:00:00.000000000\",\"2023-05-03T00:00:00.000000000\",\"2023-05-04T00:00:00.000000000\",\"2023-05-05T00:00:00.000000000\",\"2023-05-08T00:00:00.000000000\",\"2023-05-09T00:00:00.000000000\",\"2023-05-10T00:00:00.000000000\",\"2023-05-11T00:00:00.000000000\",\"2023-05-12T00:00:00.000000000\",\"2023-05-15T00:00:00.000000000\",\"2023-05-16T00:00:00.000000000\",\"2023-05-17T00:00:00.000000000\",\"2023-05-18T00:00:00.000000000\",\"2023-05-19T00:00:00.000000000\",\"2023-05-22T00:00:00.000000000\",\"2023-05-23T00:00:00.000000000\",\"2023-05-24T00:00:00.000000000\",\"2023-05-25T00:00:00.000000000\",\"2023-05-26T00:00:00.000000000\",\"2023-05-29T00:00:00.000000000\",\"2023-05-30T00:00:00.000000000\",\"2023-05-31T00:00:00.000000000\",\"2023-06-01T00:00:00.000000000\",\"2023-06-02T00:00:00.000000000\",\"2023-06-05T00:00:00.000000000\",\"2023-06-06T00:00:00.000000000\",\"2023-06-07T00:00:00.000000000\",\"2023-06-08T00:00:00.000000000\",\"2023-06-09T00:00:00.000000000\",\"2023-06-12T00:00:00.000000000\",\"2023-06-13T00:00:00.000000000\",\"2023-06-14T00:00:00.000000000\",\"2023-06-15T00:00:00.000000000\",\"2023-06-16T00:00:00.000000000\",\"2023-06-19T00:00:00.000000000\",\"2023-06-20T00:00:00.000000000\",\"2023-06-21T00:00:00.000000000\",\"2023-06-22T00:00:00.000000000\",\"2023-06-23T00:00:00.000000000\",\"2023-06-26T00:00:00.000000000\",\"2023-06-27T00:00:00.000000000\",\"2023-06-28T00:00:00.000000000\",\"2023-06-29T00:00:00.000000000\",\"2023-06-30T00:00:00.000000000\",\"2023-07-03T00:00:00.000000000\",\"2023-07-04T00:00:00.000000000\",\"2023-07-05T00:00:00.000000000\",\"2023-07-06T00:00:00.000000000\",\"2023-07-07T00:00:00.000000000\",\"2023-07-10T00:00:00.000000000\",\"2023-07-11T00:00:00.000000000\",\"2023-07-12T00:00:00.000000000\",\"2023-07-13T00:00:00.000000000\",\"2023-07-14T00:00:00.000000000\",\"2023-07-17T00:00:00.000000000\",\"2023-07-18T00:00:00.000000000\",\"2023-07-19T00:00:00.000000000\",\"2023-07-20T00:00:00.000000000\",\"2023-07-21T00:00:00.000000000\",\"2023-07-24T00:00:00.000000000\",\"2023-07-25T00:00:00.000000000\",\"2023-07-26T00:00:00.000000000\",\"2023-07-27T00:00:00.000000000\",\"2023-07-28T00:00:00.000000000\",\"2023-07-31T00:00:00.000000000\",\"2023-08-01T00:00:00.000000000\",\"2023-08-02T00:00:00.000000000\",\"2023-08-03T00:00:00.000000000\",\"2023-08-04T00:00:00.000000000\",\"2023-08-07T00:00:00.000000000\",\"2023-08-08T00:00:00.000000000\",\"2023-08-09T00:00:00.000000000\",\"2023-08-10T00:00:00.000000000\",\"2023-08-11T00:00:00.000000000\",\"2023-08-14T00:00:00.000000000\",\"2023-08-15T00:00:00.000000000\",\"2023-08-16T00:00:00.000000000\",\"2023-08-17T00:00:00.000000000\",\"2023-08-18T00:00:00.000000000\",\"2023-08-21T00:00:00.000000000\",\"2023-08-22T00:00:00.000000000\",\"2023-08-23T00:00:00.000000000\",\"2023-08-24T00:00:00.000000000\",\"2023-08-25T00:00:00.000000000\",\"2023-08-28T00:00:00.000000000\",\"2023-08-29T00:00:00.000000000\",\"2023-08-30T00:00:00.000000000\",\"2023-08-31T00:00:00.000000000\",\"2023-09-01T00:00:00.000000000\",\"2023-09-04T00:00:00.000000000\",\"2023-09-05T00:00:00.000000000\",\"2023-09-06T00:00:00.000000000\",\"2023-09-07T00:00:00.000000000\",\"2023-09-08T00:00:00.000000000\",\"2023-09-11T00:00:00.000000000\",\"2023-09-12T00:00:00.000000000\",\"2023-09-13T00:00:00.000000000\",\"2023-09-14T00:00:00.000000000\",\"2023-09-15T00:00:00.000000000\",\"2023-09-18T00:00:00.000000000\",\"2023-09-19T00:00:00.000000000\",\"2023-09-20T00:00:00.000000000\",\"2023-09-21T00:00:00.000000000\",\"2023-09-22T00:00:00.000000000\",\"2023-09-25T00:00:00.000000000\",\"2023-09-26T00:00:00.000000000\",\"2023-09-27T00:00:00.000000000\",\"2023-09-28T00:00:00.000000000\",\"2023-09-29T00:00:00.000000000\",\"2023-10-02T00:00:00.000000000\",\"2023-10-03T00:00:00.000000000\",\"2023-10-04T00:00:00.000000000\",\"2023-10-05T00:00:00.000000000\",\"2023-10-06T00:00:00.000000000\",\"2023-10-09T00:00:00.000000000\",\"2023-10-10T00:00:00.000000000\",\"2023-10-11T00:00:00.000000000\",\"2023-10-12T00:00:00.000000000\",\"2023-10-13T00:00:00.000000000\",\"2023-10-16T00:00:00.000000000\",\"2023-10-17T00:00:00.000000000\",\"2023-10-18T00:00:00.000000000\",\"2023-10-19T00:00:00.000000000\",\"2023-10-20T00:00:00.000000000\",\"2023-10-23T00:00:00.000000000\",\"2023-10-24T00:00:00.000000000\",\"2023-10-25T00:00:00.000000000\",\"2023-10-26T00:00:00.000000000\",\"2023-10-27T00:00:00.000000000\",\"2023-10-30T00:00:00.000000000\",\"2023-10-31T00:00:00.000000000\",\"2023-11-01T00:00:00.000000000\",\"2023-11-02T00:00:00.000000000\",\"2023-11-03T00:00:00.000000000\",\"2023-11-06T00:00:00.000000000\",\"2023-11-07T00:00:00.000000000\",\"2023-11-08T00:00:00.000000000\",\"2023-11-09T00:00:00.000000000\",\"2023-11-10T00:00:00.000000000\",\"2023-11-13T00:00:00.000000000\",\"2023-11-14T00:00:00.000000000\",\"2023-11-15T00:00:00.000000000\",\"2023-11-16T00:00:00.000000000\",\"2023-11-17T00:00:00.000000000\",\"2023-11-20T00:00:00.000000000\",\"2023-11-21T00:00:00.000000000\",\"2023-11-22T00:00:00.000000000\",\"2023-11-23T00:00:00.000000000\",\"2023-11-24T00:00:00.000000000\",\"2023-11-27T00:00:00.000000000\",\"2023-11-28T00:00:00.000000000\",\"2023-11-29T00:00:00.000000000\",\"2023-11-30T00:00:00.000000000\",\"2023-12-01T00:00:00.000000000\",\"2023-12-04T00:00:00.000000000\",\"2023-12-05T00:00:00.000000000\",\"2023-12-06T00:00:00.000000000\",\"2023-12-07T00:00:00.000000000\",\"2023-12-08T00:00:00.000000000\",\"2023-12-11T00:00:00.000000000\",\"2023-12-12T00:00:00.000000000\",\"2023-12-13T00:00:00.000000000\",\"2023-12-14T00:00:00.000000000\",\"2023-12-15T00:00:00.000000000\",\"2023-12-18T00:00:00.000000000\",\"2023-12-19T00:00:00.000000000\",\"2023-12-20T00:00:00.000000000\",\"2023-12-21T00:00:00.000000000\",\"2023-12-22T00:00:00.000000000\",\"2023-12-27T00:00:00.000000000\",\"2023-12-28T00:00:00.000000000\",\"2023-12-29T00:00:00.000000000\",\"2024-01-02T00:00:00.000000000\",\"2024-01-03T00:00:00.000000000\",\"2024-01-04T00:00:00.000000000\",\"2024-01-05T00:00:00.000000000\",\"2024-01-08T00:00:00.000000000\",\"2024-01-09T00:00:00.000000000\",\"2024-01-10T00:00:00.000000000\",\"2024-01-11T00:00:00.000000000\",\"2024-01-12T00:00:00.000000000\",\"2024-01-15T00:00:00.000000000\",\"2024-01-16T00:00:00.000000000\",\"2024-01-17T00:00:00.000000000\",\"2024-01-18T00:00:00.000000000\",\"2024-01-19T00:00:00.000000000\",\"2024-01-22T00:00:00.000000000\",\"2024-01-23T00:00:00.000000000\",\"2024-01-24T00:00:00.000000000\",\"2024-01-25T00:00:00.000000000\",\"2024-01-26T00:00:00.000000000\",\"2024-01-29T00:00:00.000000000\",\"2024-01-30T00:00:00.000000000\",\"2024-01-31T00:00:00.000000000\",\"2024-02-01T00:00:00.000000000\",\"2024-02-02T00:00:00.000000000\",\"2024-02-05T00:00:00.000000000\",\"2024-02-06T00:00:00.000000000\",\"2024-02-07T00:00:00.000000000\",\"2024-02-08T00:00:00.000000000\",\"2024-02-09T00:00:00.000000000\",\"2024-02-12T00:00:00.000000000\",\"2024-02-13T00:00:00.000000000\",\"2024-02-14T00:00:00.000000000\",\"2024-02-15T00:00:00.000000000\",\"2024-02-16T00:00:00.000000000\",\"2024-02-19T00:00:00.000000000\",\"2024-02-20T00:00:00.000000000\",\"2024-02-21T00:00:00.000000000\",\"2024-02-22T00:00:00.000000000\",\"2024-02-23T00:00:00.000000000\",\"2024-02-26T00:00:00.000000000\",\"2024-02-27T00:00:00.000000000\",\"2024-02-28T00:00:00.000000000\",\"2024-02-29T00:00:00.000000000\",\"2024-03-01T00:00:00.000000000\",\"2024-03-04T00:00:00.000000000\",\"2024-03-05T00:00:00.000000000\",\"2024-03-06T00:00:00.000000000\",\"2024-03-07T00:00:00.000000000\",\"2024-03-08T00:00:00.000000000\",\"2024-03-11T00:00:00.000000000\",\"2024-03-12T00:00:00.000000000\",\"2024-03-13T00:00:00.000000000\",\"2024-03-14T00:00:00.000000000\",\"2024-03-15T00:00:00.000000000\",\"2024-03-18T00:00:00.000000000\",\"2024-03-19T00:00:00.000000000\",\"2024-03-20T00:00:00.000000000\",\"2024-03-21T00:00:00.000000000\",\"2024-03-22T00:00:00.000000000\",\"2024-03-25T00:00:00.000000000\",\"2024-03-26T00:00:00.000000000\",\"2024-03-27T00:00:00.000000000\",\"2024-03-28T00:00:00.000000000\",\"2024-04-02T00:00:00.000000000\",\"2024-04-03T00:00:00.000000000\",\"2024-04-04T00:00:00.000000000\",\"2024-04-05T00:00:00.000000000\",\"2024-04-08T00:00:00.000000000\",\"2024-04-09T00:00:00.000000000\",\"2024-04-10T00:00:00.000000000\",\"2024-04-11T00:00:00.000000000\",\"2024-04-12T00:00:00.000000000\",\"2024-04-15T00:00:00.000000000\",\"2024-04-16T00:00:00.000000000\",\"2024-04-17T00:00:00.000000000\",\"2024-04-18T00:00:00.000000000\",\"2024-04-19T00:00:00.000000000\",\"2024-04-22T00:00:00.000000000\",\"2024-04-23T00:00:00.000000000\",\"2024-04-24T00:00:00.000000000\",\"2024-04-25T00:00:00.000000000\",\"2024-04-26T00:00:00.000000000\",\"2024-04-29T00:00:00.000000000\",\"2024-04-30T00:00:00.000000000\",\"2024-05-02T00:00:00.000000000\",\"2024-05-03T00:00:00.000000000\",\"2024-05-06T00:00:00.000000000\",\"2024-05-07T00:00:00.000000000\",\"2024-05-08T00:00:00.000000000\",\"2024-05-09T00:00:00.000000000\",\"2024-05-10T00:00:00.000000000\",\"2024-05-13T00:00:00.000000000\",\"2024-05-14T00:00:00.000000000\",\"2024-05-15T00:00:00.000000000\",\"2024-05-16T00:00:00.000000000\",\"2024-05-17T00:00:00.000000000\",\"2024-05-20T00:00:00.000000000\",\"2024-05-21T00:00:00.000000000\",\"2024-05-22T00:00:00.000000000\",\"2024-05-23T00:00:00.000000000\",\"2024-05-24T00:00:00.000000000\",\"2024-05-27T00:00:00.000000000\",\"2024-05-28T00:00:00.000000000\",\"2024-05-29T00:00:00.000000000\",\"2024-05-30T00:00:00.000000000\",\"2024-05-31T00:00:00.000000000\",\"2024-06-03T00:00:00.000000000\",\"2024-06-04T00:00:00.000000000\",\"2024-06-05T00:00:00.000000000\",\"2024-06-06T00:00:00.000000000\",\"2024-06-07T00:00:00.000000000\",\"2024-06-10T00:00:00.000000000\",\"2024-06-11T00:00:00.000000000\",\"2024-06-12T00:00:00.000000000\",\"2024-06-13T00:00:00.000000000\",\"2024-06-14T00:00:00.000000000\",\"2024-06-17T00:00:00.000000000\",\"2024-06-18T00:00:00.000000000\",\"2024-06-19T00:00:00.000000000\",\"2024-06-20T00:00:00.000000000\",\"2024-06-21T00:00:00.000000000\",\"2024-06-24T00:00:00.000000000\",\"2024-06-25T00:00:00.000000000\",\"2024-06-26T00:00:00.000000000\",\"2024-06-27T00:00:00.000000000\",\"2024-06-28T00:00:00.000000000\",\"2024-07-01T00:00:00.000000000\",\"2024-07-02T00:00:00.000000000\",\"2024-07-03T00:00:00.000000000\",\"2024-07-04T00:00:00.000000000\",\"2024-07-05T00:00:00.000000000\",\"2024-07-08T00:00:00.000000000\",\"2024-07-09T00:00:00.000000000\",\"2024-07-10T00:00:00.000000000\",\"2024-07-11T00:00:00.000000000\",\"2024-07-12T00:00:00.000000000\",\"2024-07-15T00:00:00.000000000\",\"2024-07-16T00:00:00.000000000\",\"2024-07-17T00:00:00.000000000\",\"2024-07-18T00:00:00.000000000\",\"2024-07-19T00:00:00.000000000\",\"2024-07-22T00:00:00.000000000\",\"2024-07-23T00:00:00.000000000\",\"2024-07-24T00:00:00.000000000\",\"2024-07-25T00:00:00.000000000\",\"2024-07-26T00:00:00.000000000\",\"2024-07-29T00:00:00.000000000\",\"2024-07-30T00:00:00.000000000\",\"2024-07-31T00:00:00.000000000\",\"2024-08-01T00:00:00.000000000\",\"2024-08-02T00:00:00.000000000\",\"2024-08-05T00:00:00.000000000\",\"2024-08-06T00:00:00.000000000\",\"2024-08-07T00:00:00.000000000\",\"2024-08-08T00:00:00.000000000\",\"2024-08-09T00:00:00.000000000\",\"2024-08-12T00:00:00.000000000\",\"2024-08-13T00:00:00.000000000\",\"2024-08-14T00:00:00.000000000\",\"2024-08-15T00:00:00.000000000\",\"2024-08-16T00:00:00.000000000\",\"2024-08-19T00:00:00.000000000\",\"2024-08-20T00:00:00.000000000\",\"2024-08-21T00:00:00.000000000\",\"2024-08-22T00:00:00.000000000\",\"2024-08-23T00:00:00.000000000\",\"2024-08-26T00:00:00.000000000\",\"2024-08-27T00:00:00.000000000\",\"2024-08-28T00:00:00.000000000\",\"2024-08-29T00:00:00.000000000\",\"2024-08-30T00:00:00.000000000\",\"2024-09-02T00:00:00.000000000\",\"2024-09-03T00:00:00.000000000\",\"2024-09-04T00:00:00.000000000\",\"2024-09-05T00:00:00.000000000\",\"2024-09-06T00:00:00.000000000\",\"2024-09-09T00:00:00.000000000\",\"2024-09-10T00:00:00.000000000\",\"2024-09-11T00:00:00.000000000\",\"2024-09-12T00:00:00.000000000\",\"2024-09-13T00:00:00.000000000\",\"2024-09-16T00:00:00.000000000\",\"2024-09-17T00:00:00.000000000\",\"2024-09-18T00:00:00.000000000\",\"2024-09-19T00:00:00.000000000\",\"2024-09-20T00:00:00.000000000\",\"2024-09-23T00:00:00.000000000\",\"2024-09-24T00:00:00.000000000\",\"2024-09-25T00:00:00.000000000\",\"2024-09-26T00:00:00.000000000\",\"2024-09-27T00:00:00.000000000\",\"2024-09-30T00:00:00.000000000\",\"2024-10-01T00:00:00.000000000\",\"2024-10-02T00:00:00.000000000\",\"2024-10-03T00:00:00.000000000\",\"2024-10-04T00:00:00.000000000\",\"2024-10-07T00:00:00.000000000\",\"2024-10-08T00:00:00.000000000\",\"2024-10-09T00:00:00.000000000\",\"2024-10-10T00:00:00.000000000\",\"2024-10-11T00:00:00.000000000\",\"2024-10-14T00:00:00.000000000\",\"2024-10-15T00:00:00.000000000\",\"2024-10-16T00:00:00.000000000\",\"2024-10-17T00:00:00.000000000\",\"2024-10-18T00:00:00.000000000\",\"2024-10-21T00:00:00.000000000\",\"2024-10-22T00:00:00.000000000\",\"2024-10-23T00:00:00.000000000\",\"2024-10-24T00:00:00.000000000\",\"2024-10-25T00:00:00.000000000\",\"2024-10-28T00:00:00.000000000\",\"2024-10-29T00:00:00.000000000\",\"2024-10-30T00:00:00.000000000\",\"2024-10-31T00:00:00.000000000\",\"2024-11-01T00:00:00.000000000\",\"2024-11-04T00:00:00.000000000\",\"2024-11-05T00:00:00.000000000\",\"2024-11-06T00:00:00.000000000\",\"2024-11-07T00:00:00.000000000\",\"2024-11-08T00:00:00.000000000\",\"2024-11-11T00:00:00.000000000\",\"2024-11-12T00:00:00.000000000\",\"2024-11-13T00:00:00.000000000\",\"2024-11-14T00:00:00.000000000\",\"2024-11-15T00:00:00.000000000\",\"2024-11-18T00:00:00.000000000\",\"2024-11-19T00:00:00.000000000\",\"2024-11-20T00:00:00.000000000\",\"2024-11-21T00:00:00.000000000\",\"2024-11-22T00:00:00.000000000\",\"2024-11-25T00:00:00.000000000\",\"2024-11-26T00:00:00.000000000\",\"2024-11-27T00:00:00.000000000\",\"2024-11-28T00:00:00.000000000\",\"2024-11-29T00:00:00.000000000\",\"2024-12-02T00:00:00.000000000\",\"2024-12-03T00:00:00.000000000\",\"2024-12-04T00:00:00.000000000\",\"2024-12-05T00:00:00.000000000\",\"2024-12-06T00:00:00.000000000\",\"2024-12-09T00:00:00.000000000\",\"2024-12-10T00:00:00.000000000\",\"2024-12-11T00:00:00.000000000\",\"2024-12-12T00:00:00.000000000\",\"2024-12-13T00:00:00.000000000\",\"2024-12-16T00:00:00.000000000\",\"2024-12-17T00:00:00.000000000\",\"2024-12-18T00:00:00.000000000\",\"2024-12-19T00:00:00.000000000\",\"2024-12-20T00:00:00.000000000\",\"2024-12-23T00:00:00.000000000\",\"2024-12-27T00:00:00.000000000\",\"2024-12-30T00:00:00.000000000\",\"2025-01-02T00:00:00.000000000\",\"2025-01-03T00:00:00.000000000\",\"2025-01-06T00:00:00.000000000\",\"2025-01-07T00:00:00.000000000\",\"2025-01-08T00:00:00.000000000\",\"2025-01-09T00:00:00.000000000\",\"2025-01-10T00:00:00.000000000\",\"2025-01-13T00:00:00.000000000\",\"2025-01-14T00:00:00.000000000\",\"2025-01-15T00:00:00.000000000\",\"2025-01-16T00:00:00.000000000\",\"2025-01-17T00:00:00.000000000\",\"2025-01-20T00:00:00.000000000\",\"2025-01-21T00:00:00.000000000\",\"2025-01-22T00:00:00.000000000\",\"2025-01-23T00:00:00.000000000\",\"2025-01-24T00:00:00.000000000\",\"2025-01-27T00:00:00.000000000\",\"2025-01-28T00:00:00.000000000\",\"2025-01-29T00:00:00.000000000\",\"2025-01-30T00:00:00.000000000\",\"2025-01-31T00:00:00.000000000\",\"2025-02-03T00:00:00.000000000\",\"2025-02-04T00:00:00.000000000\",\"2025-02-05T00:00:00.000000000\",\"2025-02-06T00:00:00.000000000\",\"2025-02-07T00:00:00.000000000\",\"2025-02-10T00:00:00.000000000\",\"2025-02-11T00:00:00.000000000\",\"2025-02-12T00:00:00.000000000\",\"2025-02-13T00:00:00.000000000\",\"2025-02-14T00:00:00.000000000\",\"2025-02-17T00:00:00.000000000\",\"2025-02-18T00:00:00.000000000\",\"2025-02-19T00:00:00.000000000\",\"2025-02-20T00:00:00.000000000\",\"2025-02-21T00:00:00.000000000\",\"2025-02-24T00:00:00.000000000\",\"2025-02-25T00:00:00.000000000\",\"2025-02-26T00:00:00.000000000\",\"2025-02-27T00:00:00.000000000\",\"2025-02-28T00:00:00.000000000\",\"2025-03-03T00:00:00.000000000\",\"2025-03-04T00:00:00.000000000\",\"2025-03-05T00:00:00.000000000\",\"2025-03-06T00:00:00.000000000\",\"2025-03-07T00:00:00.000000000\",\"2025-03-10T00:00:00.000000000\",\"2025-03-11T00:00:00.000000000\",\"2025-03-12T00:00:00.000000000\",\"2025-03-13T00:00:00.000000000\",\"2025-03-14T00:00:00.000000000\",\"2025-03-17T00:00:00.000000000\",\"2025-03-18T00:00:00.000000000\"],\"y\":{\"dtype\":\"f8\",\"bdata\":\"AAAAAAAAFEAAAADA8\\u002f0TQAAAAMBmlRNAAAAA4HgpE0AAAAAg9lcTQAAAAMDuSRNAAAAAoDVNE0AAAADAuI0TQAAAACBjbhNAAAAAQHuDE0AAAACgE9ATQAAAAMBifxNAAAAAoE6AE0AAAADAyLYTQAAAAKC7lhNAAAAAYNzGE0AAAABgxb4TQAAAAMDuyRNAAAAA4C\\u002f7E0AAAABALv8TQAAAACCw8hNAAAAAYADvE0AAAADAVAEUQAAAAMB93RNAAAAAgI7kE0AAAABgdCQUQAAAAACqMRRAAAAAgJwiFEAAAABgIEEUQAAAAIAxNxRAAAAAQOZuFEAAAADAa4kUQAAAAACKnxRAAAAAwB7FFEAAAABApN8UQAAAAKCZ2RRAAAAAoJnZFEAAAACgR+EUQAAAAODgCxVAAAAAwBkRFUAAAAAgJhMVQAAAAOCVMhVAAAAAYIgjFUAAAADgUTgVQAAAAMDsHhVAAAAAQHctFUAAAACAUzQVQAAAAAAgEhVAAAAAoF4pFUAAAABgZPsUQAAAAOD7KRVAAAAA4Kw6FUAAAADAVEEVQAAAAODAORVAAAAAABApFUAAAADgtUQVQAAAACB1QhVAAAAAgA1PFUAAAAAgrkcVQAAAAOCnhhVAAAAAwMOCFUAAAABgAG8VQAAAAOBhYRVAAAAAoM1qFUAAAADAYj8VQAAAACAxSBVAAAAAoIDmFEAAAACAMfcUQAAAAKCg+BRAAAAAoFcKFUAAAACgRfYUQAAAACBhAxVAAQAAINLvFEAAAAAALfIUQAAAAEBQ\\u002fBRAAAAAwJYQFUAAAACAajwVQAAAAAC6WhVAAAAA4OcqFUAAAAAgnl4VQAAAAMAgcBVAAAAAYPxYFUAAAADgEnIVQAAAAMAnjxVAAAAAQKaKFUAAAABgRGkVQAAAAOBqaxVAAAAAIB2JFUAAAABAtrMVQAAAAID7uhVAAAAA4DSvFUAAAACgy38VQAAAAKCCkRVAAAAAYPyYFUAAAABgfa4VQAAAAECEzRVAAAAA4E3iFUAAAABgs+oVQAAAAEDx4xVAAAAAoBrvFUABAADgPfkVQAAAAGBJ3RVAAAAAAOcMFkAAAADglfIVQAAAAGCo9RVAAAAAAAAAFkAAAABARQcWQAAAAGB97hVAAAAAoPHSFUAAAACAG80VQAAAAAAS1BVAAAAAoBrvFUAAAABAE+EVQAAAAGA0ABZAAAAAgIz5FUAAAADAWfUVQAAAACAf9BVAAAAAQM37FUAAAACAlcMVQAAAAOCMqBVAAAAAYACvFUAAAACAYbIVQAAAAACayBVAAAAA4FrCFUAAAADAocUVQAAAAAAS1BVAAAAAgIy5FUAAAADgC9MVQAAAAOBI7hVAAAAA4F\\u002f2FUAAAABgVv0VQAAAAACY3RVAAAAAIOviFUAAAADgausVQAAAACB+DBZAAAAAoGkeFkAAAAAgbDgWQAAAAMAVOxZAAAAAwH0dFkAAAAAgKP4VQAAAAIBq\\u002fBVAAAAAwAzxFUAAAABA0VEVQAAAAOCc0RRAAAAAwFQBFUAAAACAQeAUQAAAACCDQBVAAAAAgKdXFUAAAACA\\u002fSUVQAAAAACYHRVAAQAAQL0SFUAAAAAg3eQUQAAAAOBxihRAAAAA4GjAFEAAAABAZ4QUQAAAAOBqaxRAAAAAAL6wFEAAAADAQAIVQAAAAIBGFBVAAAAAIKkTFUAAAAAghxYVQAAAACBMJhVAAAAAwBdmFUAAAAAA6XcVQAAAAEA+aBVAAAAA4A0+FUAAAABAHCsVQAAAAEAaABVAAAAAgIUaFUAAAADAoQUVQAAAAICDrxRAAAAAQItsFEAAAABguokUQAAAAOBaghRAAAAAIK6HFEAAAAAgjMoUQAAAAMCo5BRAAAAAYGQ7FUAAAAAAEhQVQAAAACDkQxVAAAAAYEJ+FUAAAACg1vQUQAAAAEDx4xRAAAAAQIKiFEAAAABgzF0UQAAAAGD+QxRAAAAA4ABeFEAAAADgRoMUQAAAAECSixRAAAAAIIxKFEAAAACAFO4TQAAAAMAF0hNAAAAAwCePE0AAAADAr0MTQAAAAOCs+hJAAAAAQDdJE0AAAADABVITQAAAAMCqjxNAAAAAQJQ2E0AAAACArrYTQAAAAACayBNAAAAAQM37E0AAAADAoQUUQAAAAMB0ExRAAAAAgI4kFEAAAAAAsRAUQAAAAAD1ShRAAAAAwDljFEAAAADAw4IUQAAAAECSyxRAAQAAQBXMFEAAAABAm5UUQAAAAOC+jhRAAAAAgJyiFEAAAAAgl78UQAAAAKCyjBRAAAAAgCSXFEAAAAAAeMsUQAAAAICc4hRAAAAAIBbqFEAAAAAgOhIVQAAAAOD5PhVAAAAAQFlGFUAAAACgKhgVQAAAAKBMFRVAAAAAQNgwFUAAAAAAw2QVQAAAAMBifxVAAAAAgIx5FUAAAABgyrIVQAAAAEB3rRVAAAAAQCqpFUAAAADAyLYVQAAAAKDvpxVAAAAAALzFFUAAAABA884VQAAAAGC6yRVAAAAAwGK\\u002fFUAAAACAFK4VQAAAACBqzRVAAAAAQFfbFUAAAAAgwNsVQAAAACAovhVAAAAAILm8FUAAAACAQaAVQAAAAGD35BVAAAAAwDnjFUAAAADAyPYVQAAAAKCg+BVAAAAAwKoPFkAAAACAnCIWQAAAAGD3JBZAAAAAIEgQFkAAAAAAnDMWQAAAAMAeBRZAAAAAQMbcFUAAAAAg9hcWQAAAAKDdExZAAAAAoMQgFkAAAADgcUoWQAAAAMCqjxZAAQAA4KWbFkAAAADAF6YWQAAAAGCRrRZAAAAAgNm9FkAAAADAe7IWQAAAAEBAkxZAAAAAoDysFkAAAAAgDaAWQAAAAIA2qxZAAAAAwP6yFkAAAADAB70WQAAAAGArthZAAAAAQEDTFkAAAACAng0XQAAAAIC3ABdAAAAAQAoXF0AAAAAg3SQXQAAAAOBWLBdAAAAAwA4cF0AAAADAKfoWQAAAAAC1JhdAAAAAwB4FF0AAAADA6rMWQAAAACBuoxZAAAAAYLx0FkAAAADAw4IWQAAAAIAkFxZAAAAAAIZJFkAAAACApWwWQAAAAOAJqBZAAAAA4MeYFkAAAACAMXcWQAAAAIBakxZAAAAAoIKRFkAAAACA61EWQAEAAEAVTBZAAAAAwFJWFkAAAAAAkT4WQAEAAACsHBZAAAAAoAMnFkAAAACAbOcVQAAAAOCTxxVAAAAAwBkRFkAAAADgBDQWQAAAAEBnRBZAAAAAgB9jFkAAAABA0ZEWQAAAAKBOgBZAAAAAQPGjFkAAAABAKqkWQAEAAMByqBZAAAAAQKL0FkAAAACAJgIXQAAAAABLGRdAAQAAwLr4FkAAAADAZtUWQAAAAOASshZAAAAAAKGnFkAAAACgqcIWQAAAAKCt2BZAAAAAoDMiF0AAAAAglz8XQAAAAICDbxdAAAAAwOpzF0AAAABg9XkXQAAAAKDYXxdAAAAA4NBiF0AAAAAAil8XQAAAAIAobRdAAAAAICh+F0AAAAAgpX0XQAAAAKA6gRdAAAAAYHRkF0AAAABgMGoXQAAAAGDMXRdAAAAAADJmF0AAAACAFK4XQAAAAMB\\u002fyBdAAAAA4E2iF0ABAABAFcwXQAAAAIC3wBdAAAAAAFSjF0AAAACA+3oXQAAAACA2fBdAAAAAwKgkF0AAAACASmoWQAAAAAAJihZAAAAAYEuIFkAAAABACOwWQAAAAABkzBZAAAAAACCSFkAAAABg5dAWQAAAAOBhYRZAAQAAINJvFkAAAADAprkWQAAAAKDf\\u002fhZAAAAAoMTgFkAAAAAg7Q0XQAAAACCMChdAAAAAoG6SFkAAAACAKK0WQAAAAOCVshZAAAAAwPfTFkAAAAAAEhQXQAAAAGCxPxdAAAAAwIhSF0AAAACgkjoXQAAAACBlWRdAAAAAoN2TF0AAAABguJ4XQAAAAOBYlxdAAAAA4LyjF0ABAABg4+UXQAAAAIBY6BdAAAAAYKHWF0AAAAAgY+4XQAAAAGC43hdAAAAAoD7XF0AAAACggOYXQAAAAIBY6BdAAAAAQM\\u002fmF0AAAADAocUXQAAAAABo4hdAAAAAIKfoF0AAAAAAEtQXQAAAAEBe+hdAAAAAQCW1F0AAAADg60AXQAAAAGDchhdAAAAAoKB4F0AAAACgTkAXQAAAAKAcWhdAAAAAYJ9rF0AAAADADLEXQAAAACCFqxdAAAAAgEHgF0AAAACgz9UXQAAAAABNxBdAAAAAIKeoF0AAAABgS8gXQAAAAADewhdAAAAAIIfWF0AAAADADPEXQAAAAMBJDBhAAAAAQM8mGEAAAACg+hwYQAAAAAC1JhhAAAAAwBAHGEAAAAAAGTMYQAAAAECvVBhAAAAAQFB8GEAAAABgj4IYQAAAAOC8oxhAAAAAwMi2GEAAAADgeKkYQAAAAIC3wBhAAAAAwPO9GEAAAACA+7oYQAAAAOAt0BhAAAAAwPzHGEAAAADA7skYQAAAAGBNsxhAAAAAwFugGEAAAABAe8MYQAAAAOD5\\u002fhhAAAAAQDcJGUAAAACAWCgZQAAAAOBNIhlAAAAAoO38GEAAAABgK7YYQAAAACAPixhAAAAAQJmqGEAAAAAgjrUYQAAAAGDT\\u002fBhAAAAAYGbmGEAAAACAWtMYQAAAAOA\\u002f5BhAAAAAoA\\u002f6GEAAAADASQwZQAAAACC5PBlAAAAAIEExGUAAAADgUTgZQAAAAKBuUhlAAAAAQAyCGUAAAADgfH8ZQAAAAEDNexlAAAAAgARFGUAAAADgAokZQAAAACD9dhlAAAAAgChtGUAAAABAe4MZQAAAACCQoBlAAAAAoMbLGUAAAADgDb4ZQAEAAGDD0xlAAAAAgKfXGUAAAACgYNQZQAAAAECJARpAAAAAgNAzGkAAAADAKToaQAAAAODeIBpAAAAA4CYxGkAAAADASzcaQAAAAKCAJhpAAAAA4MnDGUAAAABgqPUZQAAAAMCm+RlAAAAAYCfgGUAAAABg3nEZQAAAAABLmRlAAAAA4Ir9GUAAAAAgXE8aQAAAACCDgBpAAAAAwIZnGkAAAAAAS5kaQAAAACBYuRpAAAAAABDpGkAAAAAgx\\u002foaQAAAAKA6ARtAAAAAgM4IG0AAAABAtvMaQAAAAEDxIxtAAAAAwPP9GkAAAADAj7EaQAAAAIDS3hlAAAAAwNMrGUAAAADAzAwZQAAAAOC84xdAAAAAwOV\\u002fF0AAAADgX\\u002fYXQAAAAKC9gRdAAAAAYF9HGEAAAAAg\\u002f6EXQAAAAOA07xZAAAAAQK8UFUAAAADAZtUVQAAAAICFGhVAAQAA4KVbE0AAAACAzogUQAAAAOBzdRJAAQAAIPKBE0AAAAAgBsESQAAAACCQIBNAAAAAIKeoEkAAAADgiv0RQAAAACClfRNAAAAAQJnqE0AAAACgIY4UQAAAAKCS+hNAAAAAYIGEFEAAAAAA4G0UQAAAAODAuRNAAAAAIBgVFEAAAADA4ekTQAAAAGBdHBVAAAAAgNcSFUAAAAAgwJsVQAAAAADnzBVAAAAAAEYlFkAAAACgvcEVQAAAAAB\\u002f6hVAAQAA4MVtFkAAAADgSC4WQAAAAMBriRVAAAAAwEACFkABAABgwxMWQAAAAMBUQRZAAAAAYBCYFkAAAAAgnp4WQAAAAGDuGhdAAAAAABmzFkAAAADg5yoWQAAAACBqjRZAAAAAID+GFkAAAABgS8gWQAAAAEDN+xZAAAAAYFQSF0AAAAAAAqsWQAAAAABLWRZAAAAAoDxsFkAAAACgqYIWQAAAAGDaGxdAAAAA4OnVFkAAAAAA\\u002fhQXQAAAAGBC\\u002fhZAAAAAoG4SF0AAAABAdy0XQAAAAICnVxdAAAAAgGOdF0AAAADA45QXQAAAAODnahdAAAAAoCO5F0AAAAAAmggYQAAAAKCSuhdAAAAAwKpPGEAAAAAAIJIYQAAAAIDrURhAAAAAIKU9GEABAAAARPoWQAAAAGBJXRdAAAAAYBliF0AAAAAgufwXQAAAAKBc\\u002fhdAAAAA4MD5F0ABAAAgSvsXQAAAAGC89BdAAAAAoKD4F0AAAADAFXsXQAAAAECJwRdAAAAAIExmF0AAAAAgP4YXQAAAACDL0BdAAAAA4IPeF0AAAABAVxsYQAAAAIB8EBhAAAAAAKNSGEAAAABAzyYYQAAAAECZKhhAAAAAwH0dGEAAAAAg5EMYQAAAAOBYFxhAAAAAwEs3GEAAAABA73gYQAAAAKDPVRhAAAAAwPVoGEAAAADAdJMYQAAAAEBikBhAAAAAQD5oGEAAAABAETYYQAAAAMDI9hdAAAAAQKTfF0AAAACgu9YXQAAAAKBF9hdAAAAAwOW\\u002fF0AAAAAAGbMXQAAAAMCIEhhAAAAA4OcqGEAAAAAg1BoYQAAAAOCsOhhAAAAAIGpNGEAAAABgZmYYQAAAAKC2YhhAAAAAoKKjGEAAAABgdo8YQAAAACDQhBhAAAAAQCOKGEAAAABg03wYQAAAAID7ehhAAAAAoLKMGEAAAACAwrUYQAAAAOCu5RhAAAAAYOzvGEAAAADAIDAZQAAAAODiNhlAAAAAgLAhGUAAAABgVv0YQAAAAKAcGhlAAAAAoCWkGUAAAADAe\\u002fIYQAEAAKAswxhAAAAAYLrJGEAAAACAik4YQAAAAMCPsRhAAAAAQDdJGEAAAABgO18YQAAAACCVlBhAAQAAIPLBGEAAAABgxb4YQAAAAIC1lRhAAAAAoP9QGEAAAABgwSgYQAAAAICwYRhAAAAAYAcOGEAAAABA0REYQAAAACDdZBhAAAAAIIPAGEAAAACgGIQYQAAAAKAImxhAAQAAwLq4GEAAAACgYJQYQAAAAICT2BhAAAAAAPmgGEAAAAAgWPkYQAAAACBBMRlAAAAA4EZDGUAAAABALJQZQAAAAIC1lRlAAAAAIEFxGUAAAABA8WMZQAAAAGCIYxlAAAAA4LUEGUAAAABA7\\u002fgYQAAAAECv1BhAAAAAwNz1GEAAAACgxgsZQAAAAECZqhhAAQAAQBWMGEAAAABg7O8XQAAAAECJQRhAAAAA4FoCGEAAAAAA8FYYQAAAAODQohhAAAAA4NksGUAAAACA8nAZQAAAAGAnYBlAAAAAALHQGUAAAAAgfOEZQAAAAOCePBpAAAAAQHftGUAAAACg5h0aQAAAAGAObRpAAAAAQJJLGkAAAADgvCMaQAAAAABNRBpAAAAAoO8nGkAAAAAg2U4aQAAAAMCfmhpAAAAAwJaQGkAAAABATpEaQAAAACCVlBpAAAAAQDVeGkAAAACgknoaQAAAAADgbRpAAAAAQEBTGkAAAADAGZEaQAAAAOCThxpAAAAAYAWjGkAAAADAqo8aQAAAAMCYexpAAAAAABlzGkAAAAAAVGMaQAAAAIDXkhpAAAAAQKSfGkAAAAAAT68aQAAAACAhnxpAAAAAwG10GkAAAADA\\u002fIcaQAAAAACPkxpAAAAA4DjFGkAAAAAATcQaQAEAAODFrRpAAAAAAIGVGkABAACgtLcaQAAAAMAO3BpAAAAAoDpBG0AAAACAHXgbQAAAAMBZdRtAAAAAALN7G0AAAABAtIgbQAAAAIBakxtAAAAAgAZwG0AAAADg4nYbQAAAACCgiRtAAAAAIP\\u002fhG0AAAABA0dEbQAAAACCFqxtAAAAAIK7HG0AAAADgaqsbQAAAAKDtPBtAAAAAIJVUG0AAAAAgrscaQAEAAMDaShtAAAAAAN7CG0AAAAAgwNsbQAAAAKAlJBxAAAAAgHUxHEAAAACgaV4cQAAAAEDIRxxAAAAAgIw5HEAAAABAtEgcQAAAAABPbxxAAAAAYIGEHEAAAABAN4kcQAAAACCenhxAAAAA4CtlHEAAAADAO04cQAAAACDiGBxAAAAAgA0PHEAAAAAAK0ccQAAAACANoBtAAAAAACJ9G0AAAAAgYUMcQAAAAIDJFBxAAAAAQLTIG0AAAACgGIQbQAAAAOBPDRxAAAAAgIUaHEAAAADgEnIcQAAAAABCjxxAAAAAIFi5HEAAAABgKcscQAAAAKDf\\u002fhxAAAAA4JwRHUAAAAAgqRMdQAAAAEBFxxxAAAAAwFTBHEAAAACgPtccQAEAAKAswxxAAAAA4JqmHEAAAAAAB98cQAAAAGDnOx1AAAAAwH9IHUAAAACA11IdQAAAAIDJVB1AAAAAQMacHUD\\u002f\\u002f\\u002f+\\u002f2sodQAAAAACItB1AAAAA4LPZHUAAAAAAvAUeQAAAACCw8h1AAAAAYP4DHkAAAABgSd0dQAAAAID9JR5AAAAAAJE+HkAAAACAng0eQAAAAKD4sR1AAAAAQAjsHUAAAADgRNgdQAAAAMBUAR5AAAAAgHMGHkAAAAAgufwdQAAAAKC09x1AAAAAgOIHHkAAAABAUPwdQAAAAOAv+x1AAAAAYOXQHUAAAADgfP8dQAAAAACxEB5A\\u002f\\u002f\\u002f\\u002fH1okHkAAAACASuodQAAAAIC1lR1AAAAAIFNFHUAAAAAgsHIdQAAAAOAkxh1AAAAAwOqzHUAAAADAN3gdQAAAAMAZUR1AAAAAAAefHUAAAACAYbIdQP\\u002f\\u002f\\u002f7\\u002fayh1AAAAAwBfmHUAAAACgZ\\u002fMdQAAAAKA+Fx5AAAAAQMTxHUD\\u002f\\u002f\\u002f9fK\\u002fYdQAAAAIAWGR5A\\u002f\\u002f\\u002f\\u002fH1okHkAAAADgC1MeQP\\u002f\\u002f\\u002fx9qTR5AAAAAQN9PHkAAAACgLEMeQAAAAKDvZx5AAAAAYEmdHkAAAAAAoaceQAAAACANoB5A\\u002f\\u002f\\u002f\\u002fH2qNHkAAAABgGeIeQAAAAODnqh5AAAAAIMvQHkAAAACgVwofQAAAAIAt4R5AAAAAwDAZH0AAAABgnysfQAAAAIAdOB9AAAAAYPBFH0AAAADA1VYfQAAAACBjbh9AAAAAAAKrH0AAAADAcqgfQAAAAGAArx9AAAAAoPHSH0AAAADgK2UfQP\\u002f\\u002f\\u002fz8ltR9AAAAAYKHWH0AAAACgd9wfQAAAAKBV3x9AAAAAQM27H0AAAABAkosfQAAAACAPCx9AAAAAwKZ5H0AAAAAARLofQAAAACBI0B9AAAAAQJQWIEAAAABAYhAgQAAAAMDc9R9AAAAAINAEIEAAAACAnAIgQAAAACB84R9AAAAAIMnlH0AAAADgNA8gQAAAAODnCiBAAAAAwK8jIEAAAABg9TkgQAAAAAAbPiBAAAAAAHFMIEAAAACAaFEgQAAAAEA1XiBAAAAAoGBUIEAAAADgElIgQAAAAICXTiBAAAAAAKMyIEAAAADA7ikgQAAAACDyQSBAAAAAgB1YIEAAAACAY10gQAAAAEDWZSBAAAAAoBNQIEAAAABggWQgQAAAAAA0cSBAAAAAAJpoIEAAAABg92QgQAAAACBjbiBAAAAAYA5tIEAAAACAcXsgQAAAAAAZcyBAAAAA4DRvIEAAAACA0l4gQAAAAKAKRiBAAAAAgEZUIEAAAACgLEMgQAAAAMDqUyBAAAAA4N5gIEAAAAAgOEcgQAAAAGBSByBAAAAAIH4MIEAAAABgsyogQAAAAIB8UCBAAAAAQHJZIEAAAADAdFMgQAAAAGBLCCBAAAAA4LMZIEAAAADAEAcgQAAAACDiGCBA\\u002f\\u002f\\u002f\\u002fH2rNH0AAAACgghEgQAAAAKCHJSBAAAAAID9GIEAAAACgaT4gQAAAAKAhLiBAAAAAoDUtIEAAAADAwTcgQAAAACDLcCBAAAAAwMyMIEAAAACArpYgQAAAAKC2oiBAAAAAADSxIEAAAABAXrogQAAAAECUtiBAAAAAINnOIEAAAABgNOAgQAAAACCMyiBAAAAAQKLUIEAAAADgC\\u002fMgQAAAAODXASFAAAAAgBsNIUAAAACgMyIhQAAAAIAmQiFAAAAAAJNJIUAAAAAA10MhQAAAAKAqOCFAAAAAwLgtIUAAAACgxEAhQAAAAEC0aCFAAAAAwMh2IUAAAACgHJohQAAAAEBQnCFAAAAAABKUIUAAAADAS5chQAAAAABEmiFAAAAAoDWNIUAAAADA7qkhQAAAAGCzqiFAAAAA4AAeIUAAAADABVIhQAAAAECSCyFAAAAAoJnZIEAAAABAiQEhQAAAAEB37SBAAAAAILkcIUAAAABA8YMhQAAAACAmcyFAAAAAoJtkIUAAAAAAj3MhQAAAAKAcWiFAAAAA4LM5IUAAAAAA8HYhQAAAAGCoVSFAAAAAgHE7IUAAAACg3\\u002f4gQAAAACA6UiFAAAAAQLRoIUAAAADA04shQAAAAMBivyFAAAAAoImwIUAAAACADa8hQAAAAEDIxyFAAAAAIKV9IUAAAACARnQhQAAAAMC6WCFAAAAAgNBTIUAAAAAgXG8hQAAAAGAObSFAAAAAIEExIUAAAABgdi8hQAAAAMBiPyFAAAAAwC4OIUAAAAAgoOkgQAAAAKCC0SBAAAAAgCaCIEAAAADAZnUgQAAAAKAqWCBAAAAAALpaIEAAAABAmWogQAAAACBjriBAAAAAQM\\u002fmIEAAAABgIAEhQAAAAIDkEiFAAAAAoBqPIEAAAADAiJIgQAAAAADMjiBAAAAAALGwIEAAAACgE\\u002fAgQAAAAOBIriBAAAAAAGiCIEAAAAAAin8gQAAAAEAqqSBAAAAAAMWvIEAAAACgA2cgQAAAACDtTSBAAAAAYG1FIEAAAABgICEgQAAAAOBE2B9AAAAAoLs2IEAAAACAFG4gQAAAAMAZcSBAAAAAwAxRIEAAAABgVp0gQAAAAAB2gCBAAAAAwNx1IEAAAABgFxcgQAAAAED67R9AAAAAwAUyIEAAAAAAVi4gQAAAAKBgFCBAAAAA4FH4H0AAAABgEDggQAAAAGChliBAAAAAgDarIEAAAACAKO0gQAAAAIC56yBAAAAA4NAiIUAAAACgEQUhQAAAAKBXKiFAAAAAAIo\\u002fIUAAAAAA3FchQAAAAKDoaCFAAAAA4IM+IUAAAABg7A8hQAAAAGB\\u002fOSFAAAAAoLJsIUAAAADg6VUhQAAAACCuJyFAAAAAoKQuIUAAAACgfjshQAAAAABE+iBAAAAAwCfvIEAAAACgVR8hQAAAACD2FyFAAAAAIPY3IUAAAAAgwiYhQAAAAMCE\\u002fCBAAAAAIEymIEAAAADgrLogQAAAAADgbSBAAAAAIIOgIEAAAADA\\u002fvIgQAAAAKBHgSBAAAAAQAiMIEAAAABg7pogQAAAAEAc6yBAAAAA4M53IEAAAABgBUMgQAAAAECknx9AAAAAoAOnH0AAAAAAG14fQAAAAAAbnh9AAAAAQCU1IEAAAACggCYgQAAAAGCIQyBAAAAA4K6lH0AAAACAt0AfQAAAAID9ZR9A\\u002f\\u002f\\u002f\\u002fn8SgH0AAAADg8DQfQAAAAACjkh9AAAAAIFj5H0AAAACgPlcgQAAAAIAUTiBAAAAA4DhFIEAAAADgUTggQAAAACA4ZyBAAAAA4KMwIEAAAACgR0EgQAAAAOCDXiBAAAAAgOQyIEAAAAAAcewfQAAAAIAkVx9A\\u002f\\u002f\\u002f\\u002fH\\u002fKBHkAAAADgnFEeQAAAAOAmsR5AAAAAYA6tHUAAAAAg\\u002fbYdQAAAACBlmR1AAAAAgGMdHkAAAAAg0u8dQAAAAAC8RR5AAAAAwJYQH0AAAABgyvIeQAAAAKCSuh5AAAAAgNm9HkAAAABAlHYeQAAAACDL0B5AAAAAIEjQHkAAAAAAqjEfQAAAAKCrbR9AAAAAQBMBIEAAAADAQAIgQAAAAOC37x9A\\u002f\\u002f\\u002f\\u002fH2rNH0AAAADg+X4fQAAAAEDzjh9AAAAAQPHjH0AAAACAlYMfQAAAAMBJDCBAAAAAwIgyIEAAAAAARFogQAAAAEAeNiBAAAAAgGo8IEAAAACARjQgQAAAAMBkiiBAAAAAwHuyIEAAAAAgStsgQAAAAMBivyBAAAAAwAe9IEAAAADAoQUhQAAAAABd7SBAAAAAAC3yIEAAAADgCeggQAAAAIClzCBAAAAAgFP0IEAAAAAAbfYgQAAAAKBgVCFAAAAAQJR2IUAAAAAAdoAhQAAAAMCNZiFAAAAAoH57IUAAAAAg0GQhQAAAACAfNCFAAAAA4E0iIUAAAADA9SghQAAAAGAZYiFAAAAAwA7cIEAAAABAE8EgQAAAAKCZmSBAAAAAIAZhIEAAAADApnkgQAAAAKDNSiBAAAAAoFdqIEAAAACgaV4gQAAAAOAveyBAAAAAwJibIEAAAADAQMIgQAAAAMDc1SBAAAAA4JNnIEAAAACgkG8gQAAAAGBfRyBAAAAAQK8UIEAAAADASSwgQAAAAIDOCCBAAAAAwLr4H0AAAABgMtUfQAAAAKCyjB9AAAAAoGBUH0AAAAAgQ1wfQAAAAEDIxx9A\\u002f\\u002f\\u002f\\u002f303iHkAAAAAgl38eQAAAACBzFx9AAAAAgAawH0AAAAAAG94fQAAAACDroh9AAAAAIO0NH0AAAABgbQUfQAAAAAAAwB5AAAAAwOGpHkAAAADgJjEfQAAAAKBpnh5AAAAAgC0hH0AAAADAn1ofQAAAAOC+Th9AAAAAwMMCH0AAAACAJJcfQAAAAAAtsh9AAAAA4NACIEAAAACgRbYfQAAAAKCguB9AAAAAIO0tIEAAAAAAjzMgQAAAAIA4NiBAAAAAAIHVH0AAAACAwMofQAAAAGDa2x9AAAAAoIvbH0AAAADgjOgfQP\\u002f\\u002f\\u002f18rdh9AAAAAwGtJIEAAAACgXkkgQAAAACAxKCBAAAAAoE5AIEAAAABAThEgQAAAAADVGCBAAAAAQMgnIEAAAADAKTogQAAAAMBiXyBAAAAAwAddIEAAAABgXVwgQAAAAKAcWiBAAAAAQM8mIEAAAACgkC8gQAAAAMA5oyBAAAAAQCV1IEAAAABAcG4gQAAAAMBbICBAAAAAAHHsH0AAAABAr9QfQAAAAIB65R9AAAAAYFTSH0AAAADAlhAgQAAAAMD3EyBAAAAAgLABIEAAAACgiTAfQAAAAIDk8h5AAAAAoLLMHkAAAADAWbUeQAAAAGDsLx9AAAAAIFHaHkAAAAAAT+8eQAAAAECSyx5AAAAAQN+PHkAAAACg5t0eQAAAAEA8vR5AAAAAgHwQH0AAAADgBDQfQAAAAKCZGR9AAAAAQHuDH0AAAADAr0MfQAAAACBMZh9AAAAAwNOrH0D\\u002f\\u002f\\u002f\\u002ffDb4fQAAAAAA92x9AAAAAYLjeH0AAAACAYfIfQAAAAADwlh9A\\u002f\\u002f\\u002f\\u002f\\u002f1NjH0AAAADgG7wfQAAAAOAv+x9AAAAAQBH2H0AAAADAqOQfQAAAAOC8IyBAAAAAgMk0IEAAAAAg\\u002fwEgQAAAAKA8LCBAAAAAACk8IEAAAABApmogQAAAAGCPYiBAAAAAgDZrIEAAAAAAVKMgQAAAAICFeiBAAAAAINRaIEAAAABgMnUgQAAAAMDuiSBAAAAAgJeOIEAAAABAWaYgQAAAACCXfyBAAAAAIAR2IEAAAACAg28gQAAAAEC9MiBAAAAAoCo4IEAAAACgkE8gQAAAAEB5OCBAAAAAgB04IEAAAABAKikgQAAAAGCBBCBAAAAAwCAwIEAAAACAYXIgQAAAAABEWiBAAAAAoDNCIEAAAABgb1AgQAAAAEAKFyBAAAAAADtwH0AAAABgZiYfQAAAACD7ix9AAAAAoKutH0AAAACAH+MfQAAAAADnjB9AAAAAgKeXH0AAAADgkdwfQAAAAKB+ex9A\\u002f\\u002f\\u002f\\u002fP71SH0AAAACggKYfQAAAAGB4uh9A\\u002f\\u002f\\u002f\\u002fv1KWH0AAAADA5f8fQAAAAMAyBCBAAAAAID9GIEAAAABg7E8gQAAAAOC1JCBAAAAAIDEoIEAAAABAdy0gQAAAAKABPCBAAAAAIHwhIEAAAABgfzkgQAAAAGCIQyBAAAAAAJpoIEAAAADgvGMgQAAAAABvYSBAAAAAIBZKIEAAAABgDk0gQAAAAKBcPiBAAAAAoIsbIEAAAACAx+kfQAAAAMDVNiBAAAAAgD1KIEAAAAAgQTEgQAAAAKDGCyBAAAAAoAMHIEAAAACgm0QgQAAAAGAwSiBAAAAAAE9PIEAAAAAAElQgQAAAAIBPXiBAAAAAAHFsIEAAAADAFXsgQAAAAIAtYSBAAAAAwJ2PIEAAAADgYcEgQAAAACCeviBAAAAAYDu\\u002fIEAAAAAgKJ4gQAAAACD2dyBAAAAAQMSRIEAAAACgV8ogQAAAAKCyzCBAAAAAQKu+IEAAAABgw7MgQAAAACCuxyBAAAAAAIYJIUAAAADAZAohQAAAAMDsHiFAAAAA4JoGIUAAAADgOAUhQAAAAGDsDyFAAAAAILAyIUAAAABAGkAhQAAAAOA2OiFAAAAA4OBLIUAAAAAgDUAhQAAAAMDcNSFAAAAAYFInIUAAAADA0QAhQAAAAMA5AyFAAAAAIPb3IEAAAAAAaOIgQAAAAGAJ+SBAAAAAYLwUIUAAAACghyUhQAAAAIAUTiFAAAAA4M5XIUAAAAAAS1khQAAAAACIVCFAAAAAgC0hIUAAAACAQQAhQAAAAMBi\\u002fyBAAAAAgPsaIUAAAACAjBkhQAAAAABxLCFAAAAAQAoXIUAAAACgxCAhQAAAAKD6PCFAAAAAwMhWIUAAAACgkE8hQAAAAACzWyFAAAAAwOpzIUAAAACAFI4hQAAAAABGhSFAAAAAII6VIUAAAADgp6YhQAAAAKBusiFAAAAAQHCuIUAAAADAhHwhQAAAAEAcayFAAAAAwFRBIUAAAABgEmMhQAAAAADeYiFAAAAAIHVCIUAAAABADEIhQAAAAMAeRSFAAAAAwB5lIUAAAADgViwhQAAAAIAdGCFAAAAAACn8IEAAAABgXfwgQAAAAIA9CiFAAAAAAPAWIUAAAACAlUMhQAAAAEDvGCFAAAAAwHY+IUAAAADABVIhQAAAACDQhCFAAAAAgEZ0IUAAAACgxoshQAAAAGCBpCFAAAAA4L6uIUAAAADA3LUhQAAAACBKmyFAAAAAYOyPIUAAAABAcI4hQAAAAAD5oCFAAAAAgAKaIUAAAACA8pAhQAAAAMDB1yFAAAAAoCq4IUAAAADAUKshQAAAAACYnSFAAAAAALp6IUAAAABg3EYhQAAAAEA1PiFAAAAAIHxhIUAAAAAAKychQAAAAECrPiFAAAAAgJVDIUAAAACgTDUhQAAAAMCNRiFAAAAAQNgQIUAAAABAVxshQAAAAECiFCFAAAAAwPM9IUAAAABg7E8hQAAAAKDoaCFAAAAAwDtuIUAAAABAQHMhQAAAAEBFZyFAAAAA4LN5IUAAAADAj3EhQAAAAOCMSCFAAAAAYN4RIUAAAABgodYgQAAAAEAuvyBAAAAAgB\\u002fjIEAAAABg2rsgQAAAAKCLmyBAAAAAYDt\\u002fIEAAAAAA8JYgQAAAAEBQvCBAAAAAwDf4IEAAAADAZCohQAAAAECmKiFAAAAAINkuIUAAAADAMkQhQAAAAMAHPSFAAAAAQJIrIUAAAADA5V8hQAAAACCyXSFAAAAAoJJ6IUAAAACgLIMhQAAAAABEeiFAAAAAoOiIIUAAAABg3pEhQAAAAOBWjCFAAAAAgAawIUAAAABg\\u002fqMhQAAAACB8oSFAAAAAwKaZIUAAAABgkY0hQAAAAIBhkiFAAAAAYNq7IUAAAACgz\\u002fUhQAAAAOAC6SFAAAAAIDHoIUAAAADg5+ohQP\\u002f\\u002f\\u002fz9FByJAAAAAILkcIkD\\u002f\\u002f\\u002f8\\u002fJTUiQAAAAODpNSJAAAAAYIhjIkAAAADgzjciQAAAAOBYVyJAAAAAIKVdIkD\\u002f\\u002f\\u002f8f\\u002f2EiQAAAAICuNiJA\\u002f\\u002f\\u002f\\u002fn\\u002fFSIkD\\u002f\\u002f\\u002f+\\u002f91MiQAAAAGDsTyJAAAAAYKhVIkAAAAAAAGAiQAAAAAD1aiJA\\u002f\\u002f\\u002f\\u002fv0JNIkAAAADAZjUiQAAAAMBZNSJAAAAAwO5pIkD\\u002f\\u002f\\u002f9\\u002fFnkiQAAAAMDBdyJAAAAAALp6IkABAABA+IIiQAAAAADDhCJAAAAAwOGJIkAAAAAAXW0iQAAAAKD\\u002fkCJAAQAAwAWyIkAAAADAocUiQP\\u002f\\u002f\\u002f9\\u002fy3yJAAQAAgMnUIkAAAACAlQMjQAAAACBY+SJAAAAAQK80I0AAAADgPyQjQAAAAAAQ6SJA\\u002f\\u002f\\u002f\\u002ffxYZI0AAAABg90QjQAAAAMCIUiNAAAAAILlcI0D\\u002f\\u002f\\u002f+\\u002f93MjQAAAAIDQcyNAAAAAgEGAI0D\\u002f\\u002f\\u002f+\\u002fcogjQAAAAABvYSNAAAAAoHmHI0ABAABA6JkjQAEAAADMjiNAAAAAQECTI0D\\u002f\\u002f\\u002f9fS2gjQAAAAADuayNAAAAAYIjDI0ABAABA+MIjQAAAAOCMqCNAAAAAwFm1I0AAAACAL6wjQP\\u002f\\u002f\\u002f98CySNAAAAAYJ\\u002frI0AAAAAAs9sjQP\\u002f\\u002f\\u002fx86siNAAAAAgL6\\u002fI0AAAAAA9eojQAAAAMBJzCNAAAAAILvHI0AAAADApvkjQAAAAMBJ7CNAAAAAYLz0I0AAAACAtdUjQAAAAMCP8SNAAAAAQE4RJEAAAAAACzUkQAAAAKCQTyRAAAAAICheJEAAAABg8EUkQAAAAMBUQSRAAAAAQD5oJEABAACAyXQkQAAAAMCIUiRAAAAAIAZBJEABAAAAFwgkQAAAAICTOCRAAAAAoIIxJEAAAAAA\\u002fjQkQAAAAIA\\u002fNSRAAAAA4INeJEAAAADAoUUkQAEAAGDDEyRA\\u002f\\u002f\\u002f\\u002f3xLyI0D\\u002f\\u002f\\u002f\\u002ff4tYjQAAAAOBWzCNA\\u002f\\u002f\\u002f\\u002f3\\u002fKfI0D\\u002f\\u002f\\u002f+fTNUjQP\\u002f\\u002f\\u002f19r+iNAAAAA4GgAJEAAAABgZNsjQAEAAKAqGCRAAAAAIMcaJEAAAABg9+QjQAAAAMBUASRAAAAA4KwaJEAAAADAW0AkQAAAAKD4USRAAAAAgK5WJEAAAAAgYWMkQAAAAOBYdyRAAQAAIMJmJEAAAACgbnIkQAEAAACsnCRA\\u002f\\u002f\\u002f\\u002f3xKSJEAAAADAZpUkQAAAACB1oiRAAAAAYLqpJEAAAABgqqAkQAAAACA4hyRA\\u002f\\u002f\\u002f\\u002fHwSWJEAAAADAMJkkQAAAACB+jCRAAAAAwFl1JEAAAADgNlokQP\\u002f\\u002f\\u002f989eSRAAAAA4Hx\\u002fJEAAAABgZHskQAEAAKAaryRAAAAA4IGzJEAAAAAgbsMkQAAAAMCd7yRAAAAAQNHxJEABAACAueskQAAAAOBv\\u002fyRAAAAAgDEXJUD\\u002f\\u002f\\u002f8f\\u002fyElQAEAAADnLCVAAAAAAIYpJUAAAADA\\u002fjIlQAAAACAYNSVAAQAAAKwcJUAAAACgcD0lQAAAAKCARiVAAAAA4DY6JUD\\u002f\\u002f\\u002f9fSyglQAAAAABCLyVAAAAAIG5DJUAAAADAZEolQAAAAACPUyVAAAAAAJhdJUAAAACg7VwlQAAAAIBIXyVA\\u002f\\u002f\\u002f\\u002f3y2QJUAAAABApmolQAAAACDbeSVAAAAAIFh5JUABAADg66AlQAAAAOAmUSVAAAAAgA0vJUAAAAAAEhQlQAAAAAAyRiVAAQAAwOpTJUAAAADAv+wkQAEAAGDjxSRAAAAAgJP4JEAAAACgExAlQAAAAGASAyVAAAAAILBSJUAAAABAaQ8lQAAAAOCaZiRAAAAAYCKsI0AAAACgkvojQAAAAABW7iNAAQAAoKROJEAAAAAgyWUkQAEAACANYCRAAAAAwH+oJEAAAADAVKEkQAAAACCDACVAAAAAQJsVJUD\\u002f\\u002f\\u002f+fESUlQAAAAOBxCiVAAAAAINsZJUABAACg+vwkQAAAAKDtHCVAAAAAILASJUAAAABApB8lQAAAAICMGSVAAAAAIGw4JUAAAAAgU2UlQAAAAGCPYiVAAAAAADsQJUAAAABADOIkQAAAAMBm1SRAAAAA4Md4JEABAABAyMckQAAAAGBd3CRA\\u002f\\u002f\\u002f\\u002fv3IIJUAAAABgKSslQP\\u002f\\u002f\\u002f9\\u002fiNiVA\\u002f\\u002f\\u002f\\u002fvycvJUAAAABAcC4lQAAAACB8ISVAAAAAQJt1JUAAAAAAs1slQP\\u002f\\u002f\\u002fx86ciVAAQAAILJ9JUABAACg1GklQAAAAKCCkSVAAAAAoD6XJUABAADAFZslQAAAAMAwmSVAAAAAoDOiJUD\\u002f\\u002f\\u002f+fAZwlQAEAAMDV1iVAAAAAgMK1JUD\\u002f\\u002f\\u002f\\u002ffLdAlQAAAAEDG\\u002fCVAAQAAIPIBJkAAAACgPhcmQAEAACDCRiZAAAAAIDgnJkAAAAAAGz4mQAAAAAAiXSZAAAAAoPZmJkAAAABgSV0mQAEAAGDTXCZAAAAAgHE7JkAAAADAdj4mQAAAAOBxKiZAAAAA4NdBJkAAAADgSE4mQAAAAOCsGiZA\\u002f\\u002f\\u002f\\u002fH1rEJUABAADgG9wlQAAAAOCDviVAAAAAgFrzJUAAAABA8aMmQP\\u002f\\u002f\\u002f\\u002f8YsyZAAAAAALPbJkAAAACAjBknQAEAAKCkDidAAAAAQGIQJ0AAAACAQQAnQAAAAIDC1SZA\\u002f\\u002f\\u002f\\u002fv9zVJkAAAACgA+cmQP\\u002f\\u002f\\u002f38mAidAAAAAYMEoJ0D\\u002f\\u002f\\u002f+\\u002fN3gnQAAAAMBAYidAAAAAIKlzJ0AAAABAXjonQAEAAECtSSdA\\u002f\\u002f\\u002f\\u002fvxdmJ0AAAAAAoacnQAAAAICwoSdAAQAAoLS3J0D\\u002f\\u002f\\u002f9fxZ4nQAAAAIAorSdAAQAAIPKBJ0D\\u002f\\u002f\\u002f\\u002f\\u002fGJMnQAAAAGB0xCdAAAAAgFqzJ0D\\u002f\\u002f\\u002f8fL50nQAAAAKCpoidAAAAAAMWPJ0AAAACAGw0nQAAAAID0GydAAAAAYNo7J0AAAADAr2MnQAAAAMBAYidAAAAAgEFAJ0AAAADgyWMnQAAAAEAslCdAAAAAoE6AJ0AAAACgcF0nQAAAAOA4hSdAAQAAALyFJ0D\\u002f\\u002f\\u002f+fPEwnQAEAAKCUZSdAAAAAgPs6J0AAAABg\\u002fJgnQAEAAIDZnSdAAAAAoJDPJ0AAAAAAMqYnQAAAAEAs1CdAAAAAwGTqJ0AAAABgORQoQAEAAADMzidA\\u002f\\u002f\\u002f\\u002fPyWVJ0AAAACABOUnQAAAAIDg3CdAAAAAIEP8J0AAAAAgh\\u002fYnQAAAAMCN5idAAAAAYHbvJ0AAAACgCPsnQAAAAKBuMihAAAAAAE8PKEAAAAAgbkMoQAAAAGCoNShAAQAAoLQXKEAAAABgzD0oQAAAAADOGShAAAAAwCAwKEABAACglEUoQAAAACBlWShAAAAAgGwnKEAAAABAguInQAAAAKC2widAAAAAYF2cJ0AAAABADKInQAAAAADegidAAAAAIK7HJ0AAAADA0WAnQAAAACAh\\u002fyZAAAAAQN\\u002fPJkABAADg4GsmQAAAACCXXyZAAQAAQMjnJUABAACgGo8lQAAAAICDryVAAAAAwLGOJUAAAACAKO0lQP\\u002f\\u002f\\u002f78yBCZAAQAAQM3bJUA=\"},\"type\":\"scatter\",\"xaxis\":\"x\",\"yaxis\":\"y\"},{\"mode\":\"lines\",\"name\":\"Volume\",\"x\":[\"2018-03-20T00:00:00.000000000\",\"2018-03-21T00:00:00.000000000\",\"2018-03-22T00:00:00.000000000\",\"2018-03-23T00:00:00.000000000\",\"2018-03-26T00:00:00.000000000\",\"2018-03-27T00:00:00.000000000\",\"2018-03-28T00:00:00.000000000\",\"2018-03-29T00:00:00.000000000\",\"2018-04-03T00:00:00.000000000\",\"2018-04-04T00:00:00.000000000\",\"2018-04-05T00:00:00.000000000\",\"2018-04-06T00:00:00.000000000\",\"2018-04-09T00:00:00.000000000\",\"2018-04-10T00:00:00.000000000\",\"2018-04-11T00:00:00.000000000\",\"2018-04-12T00:00:00.000000000\",\"2018-04-13T00:00:00.000000000\",\"2018-04-16T00:00:00.000000000\",\"2018-04-17T00:00:00.000000000\",\"2018-04-18T00:00:00.000000000\",\"2018-04-19T00:00:00.000000000\",\"2018-04-20T00:00:00.000000000\",\"2018-04-23T00:00:00.000000000\",\"2018-04-24T00:00:00.000000000\",\"2018-04-25T00:00:00.000000000\",\"2018-04-26T00:00:00.000000000\",\"2018-04-27T00:00:00.000000000\",\"2018-04-30T00:00:00.000000000\",\"2018-05-02T00:00:00.000000000\",\"2018-05-03T00:00:00.000000000\",\"2018-05-04T00:00:00.000000000\",\"2018-05-07T00:00:00.000000000\",\"2018-05-08T00:00:00.000000000\",\"2018-05-09T00:00:00.000000000\",\"2018-05-10T00:00:00.000000000\",\"2018-05-11T00:00:00.000000000\",\"2018-05-14T00:00:00.000000000\",\"2018-05-15T00:00:00.000000000\",\"2018-05-16T00:00:00.000000000\",\"2018-05-17T00:00:00.000000000\",\"2018-05-18T00:00:00.000000000\",\"2018-05-21T00:00:00.000000000\",\"2018-05-22T00:00:00.000000000\",\"2018-05-23T00:00:00.000000000\",\"2018-05-24T00:00:00.000000000\",\"2018-05-25T00:00:00.000000000\",\"2018-05-28T00:00:00.000000000\",\"2018-05-29T00:00:00.000000000\",\"2018-05-30T00:00:00.000000000\",\"2018-05-31T00:00:00.000000000\",\"2018-06-01T00:00:00.000000000\",\"2018-06-04T00:00:00.000000000\",\"2018-06-05T00:00:00.000000000\",\"2018-06-06T00:00:00.000000000\",\"2018-06-07T00:00:00.000000000\",\"2018-06-08T00:00:00.000000000\",\"2018-06-11T00:00:00.000000000\",\"2018-06-12T00:00:00.000000000\",\"2018-06-13T00:00:00.000000000\",\"2018-06-14T00:00:00.000000000\",\"2018-06-15T00:00:00.000000000\",\"2018-06-18T00:00:00.000000000\",\"2018-06-19T00:00:00.000000000\",\"2018-06-20T00:00:00.000000000\",\"2018-06-21T00:00:00.000000000\",\"2018-06-22T00:00:00.000000000\",\"2018-06-25T00:00:00.000000000\",\"2018-06-26T00:00:00.000000000\",\"2018-06-27T00:00:00.000000000\",\"2018-06-28T00:00:00.000000000\",\"2018-06-29T00:00:00.000000000\",\"2018-07-02T00:00:00.000000000\",\"2018-07-03T00:00:00.000000000\",\"2018-07-04T00:00:00.000000000\",\"2018-07-05T00:00:00.000000000\",\"2018-07-06T00:00:00.000000000\",\"2018-07-09T00:00:00.000000000\",\"2018-07-10T00:00:00.000000000\",\"2018-07-11T00:00:00.000000000\",\"2018-07-12T00:00:00.000000000\",\"2018-07-13T00:00:00.000000000\",\"2018-07-16T00:00:00.000000000\",\"2018-07-17T00:00:00.000000000\",\"2018-07-18T00:00:00.000000000\",\"2018-07-19T00:00:00.000000000\",\"2018-07-20T00:00:00.000000000\",\"2018-07-23T00:00:00.000000000\",\"2018-07-24T00:00:00.000000000\",\"2018-07-25T00:00:00.000000000\",\"2018-07-26T00:00:00.000000000\",\"2018-07-27T00:00:00.000000000\",\"2018-07-30T00:00:00.000000000\",\"2018-07-31T00:00:00.000000000\",\"2018-08-01T00:00:00.000000000\",\"2018-08-02T00:00:00.000000000\",\"2018-08-03T00:00:00.000000000\",\"2018-08-06T00:00:00.000000000\",\"2018-08-07T00:00:00.000000000\",\"2018-08-08T00:00:00.000000000\",\"2018-08-09T00:00:00.000000000\",\"2018-08-10T00:00:00.000000000\",\"2018-08-13T00:00:00.000000000\",\"2018-08-14T00:00:00.000000000\",\"2018-08-15T00:00:00.000000000\",\"2018-08-16T00:00:00.000000000\",\"2018-08-17T00:00:00.000000000\",\"2018-08-20T00:00:00.000000000\",\"2018-08-21T00:00:00.000000000\",\"2018-08-22T00:00:00.000000000\",\"2018-08-23T00:00:00.000000000\",\"2018-08-24T00:00:00.000000000\",\"2018-08-27T00:00:00.000000000\",\"2018-08-28T00:00:00.000000000\",\"2018-08-29T00:00:00.000000000\",\"2018-08-30T00:00:00.000000000\",\"2018-08-31T00:00:00.000000000\",\"2018-09-03T00:00:00.000000000\",\"2018-09-04T00:00:00.000000000\",\"2018-09-05T00:00:00.000000000\",\"2018-09-06T00:00:00.000000000\",\"2018-09-07T00:00:00.000000000\",\"2018-09-10T00:00:00.000000000\",\"2018-09-11T00:00:00.000000000\",\"2018-09-12T00:00:00.000000000\",\"2018-09-13T00:00:00.000000000\",\"2018-09-14T00:00:00.000000000\",\"2018-09-17T00:00:00.000000000\",\"2018-09-18T00:00:00.000000000\",\"2018-09-19T00:00:00.000000000\",\"2018-09-20T00:00:00.000000000\",\"2018-09-21T00:00:00.000000000\",\"2018-09-24T00:00:00.000000000\",\"2018-09-25T00:00:00.000000000\",\"2018-09-26T00:00:00.000000000\",\"2018-09-27T00:00:00.000000000\",\"2018-09-28T00:00:00.000000000\",\"2018-10-01T00:00:00.000000000\",\"2018-10-02T00:00:00.000000000\",\"2018-10-04T00:00:00.000000000\",\"2018-10-05T00:00:00.000000000\",\"2018-10-08T00:00:00.000000000\",\"2018-10-09T00:00:00.000000000\",\"2018-10-10T00:00:00.000000000\",\"2018-10-11T00:00:00.000000000\",\"2018-10-12T00:00:00.000000000\",\"2018-10-15T00:00:00.000000000\",\"2018-10-16T00:00:00.000000000\",\"2018-10-17T00:00:00.000000000\",\"2018-10-18T00:00:00.000000000\",\"2018-10-19T00:00:00.000000000\",\"2018-10-22T00:00:00.000000000\",\"2018-10-23T00:00:00.000000000\",\"2018-10-24T00:00:00.000000000\",\"2018-10-25T00:00:00.000000000\",\"2018-10-26T00:00:00.000000000\",\"2018-10-29T00:00:00.000000000\",\"2018-10-30T00:00:00.000000000\",\"2018-10-31T00:00:00.000000000\",\"2018-11-01T00:00:00.000000000\",\"2018-11-02T00:00:00.000000000\",\"2018-11-05T00:00:00.000000000\",\"2018-11-06T00:00:00.000000000\",\"2018-11-07T00:00:00.000000000\",\"2018-11-08T00:00:00.000000000\",\"2018-11-09T00:00:00.000000000\",\"2018-11-12T00:00:00.000000000\",\"2018-11-13T00:00:00.000000000\",\"2018-11-14T00:00:00.000000000\",\"2018-11-15T00:00:00.000000000\",\"2018-11-16T00:00:00.000000000\",\"2018-11-19T00:00:00.000000000\",\"2018-11-20T00:00:00.000000000\",\"2018-11-21T00:00:00.000000000\",\"2018-11-22T00:00:00.000000000\",\"2018-11-23T00:00:00.000000000\",\"2018-11-26T00:00:00.000000000\",\"2018-11-27T00:00:00.000000000\",\"2018-11-28T00:00:00.000000000\",\"2018-11-29T00:00:00.000000000\",\"2018-11-30T00:00:00.000000000\",\"2018-12-03T00:00:00.000000000\",\"2018-12-04T00:00:00.000000000\",\"2018-12-05T00:00:00.000000000\",\"2018-12-06T00:00:00.000000000\",\"2018-12-07T00:00:00.000000000\",\"2018-12-10T00:00:00.000000000\",\"2018-12-11T00:00:00.000000000\",\"2018-12-12T00:00:00.000000000\",\"2018-12-13T00:00:00.000000000\",\"2018-12-14T00:00:00.000000000\",\"2018-12-17T00:00:00.000000000\",\"2018-12-18T00:00:00.000000000\",\"2018-12-19T00:00:00.000000000\",\"2018-12-20T00:00:00.000000000\",\"2018-12-21T00:00:00.000000000\",\"2018-12-27T00:00:00.000000000\",\"2018-12-28T00:00:00.000000000\",\"2019-01-02T00:00:00.000000000\",\"2019-01-03T00:00:00.000000000\",\"2019-01-04T00:00:00.000000000\",\"2019-01-07T00:00:00.000000000\",\"2019-01-08T00:00:00.000000000\",\"2019-01-09T00:00:00.000000000\",\"2019-01-10T00:00:00.000000000\",\"2019-01-11T00:00:00.000000000\",\"2019-01-14T00:00:00.000000000\",\"2019-01-15T00:00:00.000000000\",\"2019-01-16T00:00:00.000000000\",\"2019-01-17T00:00:00.000000000\",\"2019-01-18T00:00:00.000000000\",\"2019-01-21T00:00:00.000000000\",\"2019-01-22T00:00:00.000000000\",\"2019-01-23T00:00:00.000000000\",\"2019-01-24T00:00:00.000000000\",\"2019-01-25T00:00:00.000000000\",\"2019-01-28T00:00:00.000000000\",\"2019-01-29T00:00:00.000000000\",\"2019-01-30T00:00:00.000000000\",\"2019-01-31T00:00:00.000000000\",\"2019-02-01T00:00:00.000000000\",\"2019-02-04T00:00:00.000000000\",\"2019-02-05T00:00:00.000000000\",\"2019-02-06T00:00:00.000000000\",\"2019-02-07T00:00:00.000000000\",\"2019-02-08T00:00:00.000000000\",\"2019-02-11T00:00:00.000000000\",\"2019-02-12T00:00:00.000000000\",\"2019-02-13T00:00:00.000000000\",\"2019-02-14T00:00:00.000000000\",\"2019-02-15T00:00:00.000000000\",\"2019-02-18T00:00:00.000000000\",\"2019-02-19T00:00:00.000000000\",\"2019-02-20T00:00:00.000000000\",\"2019-02-21T00:00:00.000000000\",\"2019-02-22T00:00:00.000000000\",\"2019-02-25T00:00:00.000000000\",\"2019-02-26T00:00:00.000000000\",\"2019-02-27T00:00:00.000000000\",\"2019-02-28T00:00:00.000000000\",\"2019-03-01T00:00:00.000000000\",\"2019-03-04T00:00:00.000000000\",\"2019-03-05T00:00:00.000000000\",\"2019-03-06T00:00:00.000000000\",\"2019-03-07T00:00:00.000000000\",\"2019-03-08T00:00:00.000000000\",\"2019-03-11T00:00:00.000000000\",\"2019-03-12T00:00:00.000000000\",\"2019-03-13T00:00:00.000000000\",\"2019-03-14T00:00:00.000000000\",\"2019-03-15T00:00:00.000000000\",\"2019-03-18T00:00:00.000000000\",\"2019-03-19T00:00:00.000000000\",\"2019-03-20T00:00:00.000000000\",\"2019-03-21T00:00:00.000000000\",\"2019-03-22T00:00:00.000000000\",\"2019-03-25T00:00:00.000000000\",\"2019-03-26T00:00:00.000000000\",\"2019-03-27T00:00:00.000000000\",\"2019-03-28T00:00:00.000000000\",\"2019-03-29T00:00:00.000000000\",\"2019-04-01T00:00:00.000000000\",\"2019-04-02T00:00:00.000000000\",\"2019-04-03T00:00:00.000000000\",\"2019-04-04T00:00:00.000000000\",\"2019-04-05T00:00:00.000000000\",\"2019-04-08T00:00:00.000000000\",\"2019-04-09T00:00:00.000000000\",\"2019-04-10T00:00:00.000000000\",\"2019-04-11T00:00:00.000000000\",\"2019-04-12T00:00:00.000000000\",\"2019-04-15T00:00:00.000000000\",\"2019-04-16T00:00:00.000000000\",\"2019-04-17T00:00:00.000000000\",\"2019-04-18T00:00:00.000000000\",\"2019-04-23T00:00:00.000000000\",\"2019-04-24T00:00:00.000000000\",\"2019-04-25T00:00:00.000000000\",\"2019-04-26T00:00:00.000000000\",\"2019-04-29T00:00:00.000000000\",\"2019-04-30T00:00:00.000000000\",\"2019-05-02T00:00:00.000000000\",\"2019-05-03T00:00:00.000000000\",\"2019-05-06T00:00:00.000000000\",\"2019-05-07T00:00:00.000000000\",\"2019-05-08T00:00:00.000000000\",\"2019-05-09T00:00:00.000000000\",\"2019-05-10T00:00:00.000000000\",\"2019-05-13T00:00:00.000000000\",\"2019-05-14T00:00:00.000000000\",\"2019-05-15T00:00:00.000000000\",\"2019-05-16T00:00:00.000000000\",\"2019-05-17T00:00:00.000000000\",\"2019-05-20T00:00:00.000000000\",\"2019-05-21T00:00:00.000000000\",\"2019-05-22T00:00:00.000000000\",\"2019-05-23T00:00:00.000000000\",\"2019-05-24T00:00:00.000000000\",\"2019-05-27T00:00:00.000000000\",\"2019-05-28T00:00:00.000000000\",\"2019-05-29T00:00:00.000000000\",\"2019-05-30T00:00:00.000000000\",\"2019-05-31T00:00:00.000000000\",\"2019-06-03T00:00:00.000000000\",\"2019-06-04T00:00:00.000000000\",\"2019-06-05T00:00:00.000000000\",\"2019-06-06T00:00:00.000000000\",\"2019-06-07T00:00:00.000000000\",\"2019-06-11T00:00:00.000000000\",\"2019-06-12T00:00:00.000000000\",\"2019-06-13T00:00:00.000000000\",\"2019-06-14T00:00:00.000000000\",\"2019-06-17T00:00:00.000000000\",\"2019-06-18T00:00:00.000000000\",\"2019-06-19T00:00:00.000000000\",\"2019-06-20T00:00:00.000000000\",\"2019-06-21T00:00:00.000000000\",\"2019-06-24T00:00:00.000000000\",\"2019-06-25T00:00:00.000000000\",\"2019-06-26T00:00:00.000000000\",\"2019-06-27T00:00:00.000000000\",\"2019-06-28T00:00:00.000000000\",\"2019-07-01T00:00:00.000000000\",\"2019-07-02T00:00:00.000000000\",\"2019-07-03T00:00:00.000000000\",\"2019-07-04T00:00:00.000000000\",\"2019-07-05T00:00:00.000000000\",\"2019-07-08T00:00:00.000000000\",\"2019-07-09T00:00:00.000000000\",\"2019-07-10T00:00:00.000000000\",\"2019-07-11T00:00:00.000000000\",\"2019-07-12T00:00:00.000000000\",\"2019-07-15T00:00:00.000000000\",\"2019-07-16T00:00:00.000000000\",\"2019-07-17T00:00:00.000000000\",\"2019-07-18T00:00:00.000000000\",\"2019-07-19T00:00:00.000000000\",\"2019-07-22T00:00:00.000000000\",\"2019-07-23T00:00:00.000000000\",\"2019-07-24T00:00:00.000000000\",\"2019-07-25T00:00:00.000000000\",\"2019-07-26T00:00:00.000000000\",\"2019-07-29T00:00:00.000000000\",\"2019-07-30T00:00:00.000000000\",\"2019-07-31T00:00:00.000000000\",\"2019-08-01T00:00:00.000000000\",\"2019-08-02T00:00:00.000000000\",\"2019-08-05T00:00:00.000000000\",\"2019-08-06T00:00:00.000000000\",\"2019-08-07T00:00:00.000000000\",\"2019-08-08T00:00:00.000000000\",\"2019-08-09T00:00:00.000000000\",\"2019-08-12T00:00:00.000000000\",\"2019-08-13T00:00:00.000000000\",\"2019-08-14T00:00:00.000000000\",\"2019-08-15T00:00:00.000000000\",\"2019-08-16T00:00:00.000000000\",\"2019-08-19T00:00:00.000000000\",\"2019-08-20T00:00:00.000000000\",\"2019-08-21T00:00:00.000000000\",\"2019-08-22T00:00:00.000000000\",\"2019-08-23T00:00:00.000000000\",\"2019-08-26T00:00:00.000000000\",\"2019-08-27T00:00:00.000000000\",\"2019-08-28T00:00:00.000000000\",\"2019-08-29T00:00:00.000000000\",\"2019-08-30T00:00:00.000000000\",\"2019-09-02T00:00:00.000000000\",\"2019-09-03T00:00:00.000000000\",\"2019-09-04T00:00:00.000000000\",\"2019-09-05T00:00:00.000000000\",\"2019-09-06T00:00:00.000000000\",\"2019-09-09T00:00:00.000000000\",\"2019-09-10T00:00:00.000000000\",\"2019-09-11T00:00:00.000000000\",\"2019-09-12T00:00:00.000000000\",\"2019-09-13T00:00:00.000000000\",\"2019-09-16T00:00:00.000000000\",\"2019-09-17T00:00:00.000000000\",\"2019-09-18T00:00:00.000000000\",\"2019-09-19T00:00:00.000000000\",\"2019-09-20T00:00:00.000000000\",\"2019-09-23T00:00:00.000000000\",\"2019-09-24T00:00:00.000000000\",\"2019-09-25T00:00:00.000000000\",\"2019-09-26T00:00:00.000000000\",\"2019-09-27T00:00:00.000000000\",\"2019-09-30T00:00:00.000000000\",\"2019-10-01T00:00:00.000000000\",\"2019-10-02T00:00:00.000000000\",\"2019-10-04T00:00:00.000000000\",\"2019-10-07T00:00:00.000000000\",\"2019-10-08T00:00:00.000000000\",\"2019-10-09T00:00:00.000000000\",\"2019-10-10T00:00:00.000000000\",\"2019-10-11T00:00:00.000000000\",\"2019-10-14T00:00:00.000000000\",\"2019-10-15T00:00:00.000000000\",\"2019-10-16T00:00:00.000000000\",\"2019-10-17T00:00:00.000000000\",\"2019-10-18T00:00:00.000000000\",\"2019-10-21T00:00:00.000000000\",\"2019-10-22T00:00:00.000000000\",\"2019-10-23T00:00:00.000000000\",\"2019-10-24T00:00:00.000000000\",\"2019-10-25T00:00:00.000000000\",\"2019-10-28T00:00:00.000000000\",\"2019-10-29T00:00:00.000000000\",\"2019-10-30T00:00:00.000000000\",\"2019-10-31T00:00:00.000000000\",\"2019-11-01T00:00:00.000000000\",\"2019-11-04T00:00:00.000000000\",\"2019-11-05T00:00:00.000000000\",\"2019-11-06T00:00:00.000000000\",\"2019-11-07T00:00:00.000000000\",\"2019-11-08T00:00:00.000000000\",\"2019-11-11T00:00:00.000000000\",\"2019-11-12T00:00:00.000000000\",\"2019-11-13T00:00:00.000000000\",\"2019-11-14T00:00:00.000000000\",\"2019-11-15T00:00:00.000000000\",\"2019-11-18T00:00:00.000000000\",\"2019-11-19T00:00:00.000000000\",\"2019-11-20T00:00:00.000000000\",\"2019-11-21T00:00:00.000000000\",\"2019-11-22T00:00:00.000000000\",\"2019-11-25T00:00:00.000000000\",\"2019-11-26T00:00:00.000000000\",\"2019-11-27T00:00:00.000000000\",\"2019-11-28T00:00:00.000000000\",\"2019-11-29T00:00:00.000000000\",\"2019-12-02T00:00:00.000000000\",\"2019-12-03T00:00:00.000000000\",\"2019-12-04T00:00:00.000000000\",\"2019-12-05T00:00:00.000000000\",\"2019-12-06T00:00:00.000000000\",\"2019-12-09T00:00:00.000000000\",\"2019-12-10T00:00:00.000000000\",\"2019-12-11T00:00:00.000000000\",\"2019-12-12T00:00:00.000000000\",\"2019-12-13T00:00:00.000000000\",\"2019-12-16T00:00:00.000000000\",\"2019-12-17T00:00:00.000000000\",\"2019-12-18T00:00:00.000000000\",\"2019-12-19T00:00:00.000000000\",\"2019-12-20T00:00:00.000000000\",\"2019-12-23T00:00:00.000000000\",\"2019-12-27T00:00:00.000000000\",\"2019-12-30T00:00:00.000000000\",\"2020-01-02T00:00:00.000000000\",\"2020-01-03T00:00:00.000000000\",\"2020-01-06T00:00:00.000000000\",\"2020-01-07T00:00:00.000000000\",\"2020-01-08T00:00:00.000000000\",\"2020-01-09T00:00:00.000000000\",\"2020-01-10T00:00:00.000000000\",\"2020-01-13T00:00:00.000000000\",\"2020-01-14T00:00:00.000000000\",\"2020-01-15T00:00:00.000000000\",\"2020-01-16T00:00:00.000000000\",\"2020-01-17T00:00:00.000000000\",\"2020-01-20T00:00:00.000000000\",\"2020-01-21T00:00:00.000000000\",\"2020-01-22T00:00:00.000000000\",\"2020-01-23T00:00:00.000000000\",\"2020-01-24T00:00:00.000000000\",\"2020-01-27T00:00:00.000000000\",\"2020-01-28T00:00:00.000000000\",\"2020-01-29T00:00:00.000000000\",\"2020-01-30T00:00:00.000000000\",\"2020-01-31T00:00:00.000000000\",\"2020-02-03T00:00:00.000000000\",\"2020-02-04T00:00:00.000000000\",\"2020-02-05T00:00:00.000000000\",\"2020-02-06T00:00:00.000000000\",\"2020-02-07T00:00:00.000000000\",\"2020-02-10T00:00:00.000000000\",\"2020-02-11T00:00:00.000000000\",\"2020-02-12T00:00:00.000000000\",\"2020-02-13T00:00:00.000000000\",\"2020-02-14T00:00:00.000000000\",\"2020-02-17T00:00:00.000000000\",\"2020-02-18T00:00:00.000000000\",\"2020-02-19T00:00:00.000000000\",\"2020-02-20T00:00:00.000000000\",\"2020-02-21T00:00:00.000000000\",\"2020-02-24T00:00:00.000000000\",\"2020-02-25T00:00:00.000000000\",\"2020-02-26T00:00:00.000000000\",\"2020-02-27T00:00:00.000000000\",\"2020-02-28T00:00:00.000000000\",\"2020-03-02T00:00:00.000000000\",\"2020-03-03T00:00:00.000000000\",\"2020-03-04T00:00:00.000000000\",\"2020-03-05T00:00:00.000000000\",\"2020-03-06T00:00:00.000000000\",\"2020-03-09T00:00:00.000000000\",\"2020-03-10T00:00:00.000000000\",\"2020-03-11T00:00:00.000000000\",\"2020-03-12T00:00:00.000000000\",\"2020-03-13T00:00:00.000000000\",\"2020-03-16T00:00:00.000000000\",\"2020-03-17T00:00:00.000000000\",\"2020-03-18T00:00:00.000000000\",\"2020-03-19T00:00:00.000000000\",\"2020-03-20T00:00:00.000000000\",\"2020-03-23T00:00:00.000000000\",\"2020-03-24T00:00:00.000000000\",\"2020-03-25T00:00:00.000000000\",\"2020-03-26T00:00:00.000000000\",\"2020-03-27T00:00:00.000000000\",\"2020-03-30T00:00:00.000000000\",\"2020-03-31T00:00:00.000000000\",\"2020-04-01T00:00:00.000000000\",\"2020-04-02T00:00:00.000000000\",\"2020-04-03T00:00:00.000000000\",\"2020-04-06T00:00:00.000000000\",\"2020-04-07T00:00:00.000000000\",\"2020-04-08T00:00:00.000000000\",\"2020-04-09T00:00:00.000000000\",\"2020-04-14T00:00:00.000000000\",\"2020-04-15T00:00:00.000000000\",\"2020-04-16T00:00:00.000000000\",\"2020-04-17T00:00:00.000000000\",\"2020-04-20T00:00:00.000000000\",\"2020-04-21T00:00:00.000000000\",\"2020-04-22T00:00:00.000000000\",\"2020-04-23T00:00:00.000000000\",\"2020-04-24T00:00:00.000000000\",\"2020-04-27T00:00:00.000000000\",\"2020-04-28T00:00:00.000000000\",\"2020-04-29T00:00:00.000000000\",\"2020-04-30T00:00:00.000000000\",\"2020-05-04T00:00:00.000000000\",\"2020-05-05T00:00:00.000000000\",\"2020-05-06T00:00:00.000000000\",\"2020-05-07T00:00:00.000000000\",\"2020-05-08T00:00:00.000000000\",\"2020-05-11T00:00:00.000000000\",\"2020-05-12T00:00:00.000000000\",\"2020-05-13T00:00:00.000000000\",\"2020-05-14T00:00:00.000000000\",\"2020-05-15T00:00:00.000000000\",\"2020-05-18T00:00:00.000000000\",\"2020-05-19T00:00:00.000000000\",\"2020-05-20T00:00:00.000000000\",\"2020-05-21T00:00:00.000000000\",\"2020-05-22T00:00:00.000000000\",\"2020-05-25T00:00:00.000000000\",\"2020-05-26T00:00:00.000000000\",\"2020-05-27T00:00:00.000000000\",\"2020-05-28T00:00:00.000000000\",\"2020-05-29T00:00:00.000000000\",\"2020-06-02T00:00:00.000000000\",\"2020-06-03T00:00:00.000000000\",\"2020-06-04T00:00:00.000000000\",\"2020-06-05T00:00:00.000000000\",\"2020-06-08T00:00:00.000000000\",\"2020-06-09T00:00:00.000000000\",\"2020-06-10T00:00:00.000000000\",\"2020-06-11T00:00:00.000000000\",\"2020-06-12T00:00:00.000000000\",\"2020-06-15T00:00:00.000000000\",\"2020-06-16T00:00:00.000000000\",\"2020-06-17T00:00:00.000000000\",\"2020-06-18T00:00:00.000000000\",\"2020-06-19T00:00:00.000000000\",\"2020-06-22T00:00:00.000000000\",\"2020-06-23T00:00:00.000000000\",\"2020-06-24T00:00:00.000000000\",\"2020-06-25T00:00:00.000000000\",\"2020-06-26T00:00:00.000000000\",\"2020-06-29T00:00:00.000000000\",\"2020-06-30T00:00:00.000000000\",\"2020-07-01T00:00:00.000000000\",\"2020-07-02T00:00:00.000000000\",\"2020-07-03T00:00:00.000000000\",\"2020-07-06T00:00:00.000000000\",\"2020-07-07T00:00:00.000000000\",\"2020-07-08T00:00:00.000000000\",\"2020-07-09T00:00:00.000000000\",\"2020-07-10T00:00:00.000000000\",\"2020-07-13T00:00:00.000000000\",\"2020-07-14T00:00:00.000000000\",\"2020-07-15T00:00:00.000000000\",\"2020-07-16T00:00:00.000000000\",\"2020-07-17T00:00:00.000000000\",\"2020-07-20T00:00:00.000000000\",\"2020-07-21T00:00:00.000000000\",\"2020-07-22T00:00:00.000000000\",\"2020-07-23T00:00:00.000000000\",\"2020-07-24T00:00:00.000000000\",\"2020-07-27T00:00:00.000000000\",\"2020-07-28T00:00:00.000000000\",\"2020-07-29T00:00:00.000000000\",\"2020-07-30T00:00:00.000000000\",\"2020-07-31T00:00:00.000000000\",\"2020-08-03T00:00:00.000000000\",\"2020-08-04T00:00:00.000000000\",\"2020-08-05T00:00:00.000000000\",\"2020-08-06T00:00:00.000000000\",\"2020-08-07T00:00:00.000000000\",\"2020-08-10T00:00:00.000000000\",\"2020-08-11T00:00:00.000000000\",\"2020-08-12T00:00:00.000000000\",\"2020-08-13T00:00:00.000000000\",\"2020-08-14T00:00:00.000000000\",\"2020-08-17T00:00:00.000000000\",\"2020-08-18T00:00:00.000000000\",\"2020-08-19T00:00:00.000000000\",\"2020-08-20T00:00:00.000000000\",\"2020-08-21T00:00:00.000000000\",\"2020-08-24T00:00:00.000000000\",\"2020-08-25T00:00:00.000000000\",\"2020-08-26T00:00:00.000000000\",\"2020-08-27T00:00:00.000000000\",\"2020-08-28T00:00:00.000000000\",\"2020-08-31T00:00:00.000000000\",\"2020-09-01T00:00:00.000000000\",\"2020-09-02T00:00:00.000000000\",\"2020-09-03T00:00:00.000000000\",\"2020-09-04T00:00:00.000000000\",\"2020-09-07T00:00:00.000000000\",\"2020-09-08T00:00:00.000000000\",\"2020-09-09T00:00:00.000000000\",\"2020-09-10T00:00:00.000000000\",\"2020-09-11T00:00:00.000000000\",\"2020-09-14T00:00:00.000000000\",\"2020-09-15T00:00:00.000000000\",\"2020-09-16T00:00:00.000000000\",\"2020-09-17T00:00:00.000000000\",\"2020-09-18T00:00:00.000000000\",\"2020-09-21T00:00:00.000000000\",\"2020-09-22T00:00:00.000000000\",\"2020-09-23T00:00:00.000000000\",\"2020-09-24T00:00:00.000000000\",\"2020-09-25T00:00:00.000000000\",\"2020-09-28T00:00:00.000000000\",\"2020-09-29T00:00:00.000000000\",\"2020-09-30T00:00:00.000000000\",\"2020-10-01T00:00:00.000000000\",\"2020-10-02T00:00:00.000000000\",\"2020-10-05T00:00:00.000000000\",\"2020-10-06T00:00:00.000000000\",\"2020-10-07T00:00:00.000000000\",\"2020-10-08T00:00:00.000000000\",\"2020-10-09T00:00:00.000000000\",\"2020-10-12T00:00:00.000000000\",\"2020-10-13T00:00:00.000000000\",\"2020-10-14T00:00:00.000000000\",\"2020-10-15T00:00:00.000000000\",\"2020-10-16T00:00:00.000000000\",\"2020-10-19T00:00:00.000000000\",\"2020-10-20T00:00:00.000000000\",\"2020-10-21T00:00:00.000000000\",\"2020-10-22T00:00:00.000000000\",\"2020-10-23T00:00:00.000000000\",\"2020-10-26T00:00:00.000000000\",\"2020-10-27T00:00:00.000000000\",\"2020-10-28T00:00:00.000000000\",\"2020-10-29T00:00:00.000000000\",\"2020-10-30T00:00:00.000000000\",\"2020-11-02T00:00:00.000000000\",\"2020-11-03T00:00:00.000000000\",\"2020-11-04T00:00:00.000000000\",\"2020-11-05T00:00:00.000000000\",\"2020-11-06T00:00:00.000000000\",\"2020-11-09T00:00:00.000000000\",\"2020-11-10T00:00:00.000000000\",\"2020-11-11T00:00:00.000000000\",\"2020-11-12T00:00:00.000000000\",\"2020-11-13T00:00:00.000000000\",\"2020-11-16T00:00:00.000000000\",\"2020-11-17T00:00:00.000000000\",\"2020-11-18T00:00:00.000000000\",\"2020-11-19T00:00:00.000000000\",\"2020-11-20T00:00:00.000000000\",\"2020-11-23T00:00:00.000000000\",\"2020-11-24T00:00:00.000000000\",\"2020-11-25T00:00:00.000000000\",\"2020-11-26T00:00:00.000000000\",\"2020-11-27T00:00:00.000000000\",\"2020-11-30T00:00:00.000000000\",\"2020-12-01T00:00:00.000000000\",\"2020-12-02T00:00:00.000000000\",\"2020-12-03T00:00:00.000000000\",\"2020-12-04T00:00:00.000000000\",\"2020-12-07T00:00:00.000000000\",\"2020-12-08T00:00:00.000000000\",\"2020-12-09T00:00:00.000000000\",\"2020-12-10T00:00:00.000000000\",\"2020-12-11T00:00:00.000000000\",\"2020-12-14T00:00:00.000000000\",\"2020-12-15T00:00:00.000000000\",\"2020-12-16T00:00:00.000000000\",\"2020-12-17T00:00:00.000000000\",\"2020-12-18T00:00:00.000000000\",\"2020-12-21T00:00:00.000000000\",\"2020-12-22T00:00:00.000000000\",\"2020-12-23T00:00:00.000000000\",\"2020-12-28T00:00:00.000000000\",\"2020-12-29T00:00:00.000000000\",\"2020-12-30T00:00:00.000000000\",\"2021-01-04T00:00:00.000000000\",\"2021-01-05T00:00:00.000000000\",\"2021-01-06T00:00:00.000000000\",\"2021-01-07T00:00:00.000000000\",\"2021-01-08T00:00:00.000000000\",\"2021-01-11T00:00:00.000000000\",\"2021-01-12T00:00:00.000000000\",\"2021-01-13T00:00:00.000000000\",\"2021-01-14T00:00:00.000000000\",\"2021-01-15T00:00:00.000000000\",\"2021-01-18T00:00:00.000000000\",\"2021-01-19T00:00:00.000000000\",\"2021-01-20T00:00:00.000000000\",\"2021-01-21T00:00:00.000000000\",\"2021-01-22T00:00:00.000000000\",\"2021-01-25T00:00:00.000000000\",\"2021-01-26T00:00:00.000000000\",\"2021-01-27T00:00:00.000000000\",\"2021-01-28T00:00:00.000000000\",\"2021-01-29T00:00:00.000000000\",\"2021-02-01T00:00:00.000000000\",\"2021-02-02T00:00:00.000000000\",\"2021-02-03T00:00:00.000000000\",\"2021-02-04T00:00:00.000000000\",\"2021-02-05T00:00:00.000000000\",\"2021-02-08T00:00:00.000000000\",\"2021-02-09T00:00:00.000000000\",\"2021-02-10T00:00:00.000000000\",\"2021-02-11T00:00:00.000000000\",\"2021-02-12T00:00:00.000000000\",\"2021-02-15T00:00:00.000000000\",\"2021-02-16T00:00:00.000000000\",\"2021-02-17T00:00:00.000000000\",\"2021-02-18T00:00:00.000000000\",\"2021-02-19T00:00:00.000000000\",\"2021-02-22T00:00:00.000000000\",\"2021-02-23T00:00:00.000000000\",\"2021-02-24T00:00:00.000000000\",\"2021-02-25T00:00:00.000000000\",\"2021-02-26T00:00:00.000000000\",\"2021-03-01T00:00:00.000000000\",\"2021-03-02T00:00:00.000000000\",\"2021-03-03T00:00:00.000000000\",\"2021-03-04T00:00:00.000000000\",\"2021-03-05T00:00:00.000000000\",\"2021-03-08T00:00:00.000000000\",\"2021-03-09T00:00:00.000000000\",\"2021-03-10T00:00:00.000000000\",\"2021-03-11T00:00:00.000000000\",\"2021-03-12T00:00:00.000000000\",\"2021-03-15T00:00:00.000000000\",\"2021-03-16T00:00:00.000000000\",\"2021-03-17T00:00:00.000000000\",\"2021-03-18T00:00:00.000000000\",\"2021-03-19T00:00:00.000000000\",\"2021-03-22T00:00:00.000000000\",\"2021-03-23T00:00:00.000000000\",\"2021-03-24T00:00:00.000000000\",\"2021-03-25T00:00:00.000000000\",\"2021-03-26T00:00:00.000000000\",\"2021-03-29T00:00:00.000000000\",\"2021-03-30T00:00:00.000000000\",\"2021-03-31T00:00:00.000000000\",\"2021-04-01T00:00:00.000000000\",\"2021-04-06T00:00:00.000000000\",\"2021-04-07T00:00:00.000000000\",\"2021-04-08T00:00:00.000000000\",\"2021-04-09T00:00:00.000000000\",\"2021-04-12T00:00:00.000000000\",\"2021-04-13T00:00:00.000000000\",\"2021-04-14T00:00:00.000000000\",\"2021-04-15T00:00:00.000000000\",\"2021-04-16T00:00:00.000000000\",\"2021-04-19T00:00:00.000000000\",\"2021-04-20T00:00:00.000000000\",\"2021-04-21T00:00:00.000000000\",\"2021-04-22T00:00:00.000000000\",\"2021-04-23T00:00:00.000000000\",\"2021-04-26T00:00:00.000000000\",\"2021-04-27T00:00:00.000000000\",\"2021-04-28T00:00:00.000000000\",\"2021-04-29T00:00:00.000000000\",\"2021-04-30T00:00:00.000000000\",\"2021-05-03T00:00:00.000000000\",\"2021-05-04T00:00:00.000000000\",\"2021-05-05T00:00:00.000000000\",\"2021-05-06T00:00:00.000000000\",\"2021-05-07T00:00:00.000000000\",\"2021-05-10T00:00:00.000000000\",\"2021-05-11T00:00:00.000000000\",\"2021-05-12T00:00:00.000000000\",\"2021-05-13T00:00:00.000000000\",\"2021-05-14T00:00:00.000000000\",\"2021-05-17T00:00:00.000000000\",\"2021-05-18T00:00:00.000000000\",\"2021-05-19T00:00:00.000000000\",\"2021-05-20T00:00:00.000000000\",\"2021-05-21T00:00:00.000000000\",\"2021-05-25T00:00:00.000000000\",\"2021-05-26T00:00:00.000000000\",\"2021-05-27T00:00:00.000000000\",\"2021-05-28T00:00:00.000000000\",\"2021-05-31T00:00:00.000000000\",\"2021-06-01T00:00:00.000000000\",\"2021-06-02T00:00:00.000000000\",\"2021-06-03T00:00:00.000000000\",\"2021-06-04T00:00:00.000000000\",\"2021-06-07T00:00:00.000000000\",\"2021-06-08T00:00:00.000000000\",\"2021-06-09T00:00:00.000000000\",\"2021-06-10T00:00:00.000000000\",\"2021-06-11T00:00:00.000000000\",\"2021-06-14T00:00:00.000000000\",\"2021-06-15T00:00:00.000000000\",\"2021-06-16T00:00:00.000000000\",\"2021-06-17T00:00:00.000000000\",\"2021-06-18T00:00:00.000000000\",\"2021-06-21T00:00:00.000000000\",\"2021-06-22T00:00:00.000000000\",\"2021-06-23T00:00:00.000000000\",\"2021-06-24T00:00:00.000000000\",\"2021-06-25T00:00:00.000000000\",\"2021-06-28T00:00:00.000000000\",\"2021-06-29T00:00:00.000000000\",\"2021-06-30T00:00:00.000000000\",\"2021-07-01T00:00:00.000000000\",\"2021-07-02T00:00:00.000000000\",\"2021-07-05T00:00:00.000000000\",\"2021-07-06T00:00:00.000000000\",\"2021-07-07T00:00:00.000000000\",\"2021-07-08T00:00:00.000000000\",\"2021-07-09T00:00:00.000000000\",\"2021-07-12T00:00:00.000000000\",\"2021-07-13T00:00:00.000000000\",\"2021-07-14T00:00:00.000000000\",\"2021-07-15T00:00:00.000000000\",\"2021-07-16T00:00:00.000000000\",\"2021-07-19T00:00:00.000000000\",\"2021-07-20T00:00:00.000000000\",\"2021-07-21T00:00:00.000000000\",\"2021-07-22T00:00:00.000000000\",\"2021-07-23T00:00:00.000000000\",\"2021-07-26T00:00:00.000000000\",\"2021-07-27T00:00:00.000000000\",\"2021-07-28T00:00:00.000000000\",\"2021-07-29T00:00:00.000000000\",\"2021-07-30T00:00:00.000000000\",\"2021-08-02T00:00:00.000000000\",\"2021-08-03T00:00:00.000000000\",\"2021-08-04T00:00:00.000000000\",\"2021-08-05T00:00:00.000000000\",\"2021-08-06T00:00:00.000000000\",\"2021-08-09T00:00:00.000000000\",\"2021-08-10T00:00:00.000000000\",\"2021-08-11T00:00:00.000000000\",\"2021-08-12T00:00:00.000000000\",\"2021-08-13T00:00:00.000000000\",\"2021-08-16T00:00:00.000000000\",\"2021-08-17T00:00:00.000000000\",\"2021-08-18T00:00:00.000000000\",\"2021-08-19T00:00:00.000000000\",\"2021-08-20T00:00:00.000000000\",\"2021-08-23T00:00:00.000000000\",\"2021-08-24T00:00:00.000000000\",\"2021-08-25T00:00:00.000000000\",\"2021-08-26T00:00:00.000000000\",\"2021-08-27T00:00:00.000000000\",\"2021-08-30T00:00:00.000000000\",\"2021-08-31T00:00:00.000000000\",\"2021-09-01T00:00:00.000000000\",\"2021-09-02T00:00:00.000000000\",\"2021-09-03T00:00:00.000000000\",\"2021-09-06T00:00:00.000000000\",\"2021-09-07T00:00:00.000000000\",\"2021-09-08T00:00:00.000000000\",\"2021-09-09T00:00:00.000000000\",\"2021-09-10T00:00:00.000000000\",\"2021-09-13T00:00:00.000000000\",\"2021-09-14T00:00:00.000000000\",\"2021-09-15T00:00:00.000000000\",\"2021-09-16T00:00:00.000000000\",\"2021-09-17T00:00:00.000000000\",\"2021-09-20T00:00:00.000000000\",\"2021-09-21T00:00:00.000000000\",\"2021-09-22T00:00:00.000000000\",\"2021-09-23T00:00:00.000000000\",\"2021-09-24T00:00:00.000000000\",\"2021-09-27T00:00:00.000000000\",\"2021-09-28T00:00:00.000000000\",\"2021-09-29T00:00:00.000000000\",\"2021-09-30T00:00:00.000000000\",\"2021-10-01T00:00:00.000000000\",\"2021-10-04T00:00:00.000000000\",\"2021-10-05T00:00:00.000000000\",\"2021-10-06T00:00:00.000000000\",\"2021-10-07T00:00:00.000000000\",\"2021-10-08T00:00:00.000000000\",\"2021-10-11T00:00:00.000000000\",\"2021-10-12T00:00:00.000000000\",\"2021-10-13T00:00:00.000000000\",\"2021-10-14T00:00:00.000000000\",\"2021-10-15T00:00:00.000000000\",\"2021-10-18T00:00:00.000000000\",\"2021-10-19T00:00:00.000000000\",\"2021-10-20T00:00:00.000000000\",\"2021-10-21T00:00:00.000000000\",\"2021-10-22T00:00:00.000000000\",\"2021-10-25T00:00:00.000000000\",\"2021-10-26T00:00:00.000000000\",\"2021-10-27T00:00:00.000000000\",\"2021-10-28T00:00:00.000000000\",\"2021-10-29T00:00:00.000000000\",\"2021-11-01T00:00:00.000000000\",\"2021-11-02T00:00:00.000000000\",\"2021-11-03T00:00:00.000000000\",\"2021-11-04T00:00:00.000000000\",\"2021-11-05T00:00:00.000000000\",\"2021-11-08T00:00:00.000000000\",\"2021-11-09T00:00:00.000000000\",\"2021-11-10T00:00:00.000000000\",\"2021-11-11T00:00:00.000000000\",\"2021-11-12T00:00:00.000000000\",\"2021-11-15T00:00:00.000000000\",\"2021-11-16T00:00:00.000000000\",\"2021-11-17T00:00:00.000000000\",\"2021-11-18T00:00:00.000000000\",\"2021-11-19T00:00:00.000000000\",\"2021-11-22T00:00:00.000000000\",\"2021-11-23T00:00:00.000000000\",\"2021-11-24T00:00:00.000000000\",\"2021-11-25T00:00:00.000000000\",\"2021-11-26T00:00:00.000000000\",\"2021-11-29T00:00:00.000000000\",\"2021-11-30T00:00:00.000000000\",\"2021-12-01T00:00:00.000000000\",\"2021-12-02T00:00:00.000000000\",\"2021-12-03T00:00:00.000000000\",\"2021-12-06T00:00:00.000000000\",\"2021-12-07T00:00:00.000000000\",\"2021-12-08T00:00:00.000000000\",\"2021-12-09T00:00:00.000000000\",\"2021-12-10T00:00:00.000000000\",\"2021-12-13T00:00:00.000000000\",\"2021-12-14T00:00:00.000000000\",\"2021-12-15T00:00:00.000000000\",\"2021-12-16T00:00:00.000000000\",\"2021-12-17T00:00:00.000000000\",\"2021-12-20T00:00:00.000000000\",\"2021-12-21T00:00:00.000000000\",\"2021-12-22T00:00:00.000000000\",\"2021-12-23T00:00:00.000000000\",\"2021-12-28T00:00:00.000000000\",\"2021-12-29T00:00:00.000000000\",\"2021-12-30T00:00:00.000000000\",\"2022-01-04T00:00:00.000000000\",\"2022-01-05T00:00:00.000000000\",\"2022-01-06T00:00:00.000000000\",\"2022-01-07T00:00:00.000000000\",\"2022-01-10T00:00:00.000000000\",\"2022-01-11T00:00:00.000000000\",\"2022-01-12T00:00:00.000000000\",\"2022-01-13T00:00:00.000000000\",\"2022-01-14T00:00:00.000000000\",\"2022-01-17T00:00:00.000000000\",\"2022-01-18T00:00:00.000000000\",\"2022-01-19T00:00:00.000000000\",\"2022-01-20T00:00:00.000000000\",\"2022-01-21T00:00:00.000000000\",\"2022-01-24T00:00:00.000000000\",\"2022-01-25T00:00:00.000000000\",\"2022-01-26T00:00:00.000000000\",\"2022-01-27T00:00:00.000000000\",\"2022-01-28T00:00:00.000000000\",\"2022-01-31T00:00:00.000000000\",\"2022-02-01T00:00:00.000000000\",\"2022-02-02T00:00:00.000000000\",\"2022-02-03T00:00:00.000000000\",\"2022-02-04T00:00:00.000000000\",\"2022-02-07T00:00:00.000000000\",\"2022-02-08T00:00:00.000000000\",\"2022-02-09T00:00:00.000000000\",\"2022-02-10T00:00:00.000000000\",\"2022-02-11T00:00:00.000000000\",\"2022-02-14T00:00:00.000000000\",\"2022-02-15T00:00:00.000000000\",\"2022-02-16T00:00:00.000000000\",\"2022-02-17T00:00:00.000000000\",\"2022-02-18T00:00:00.000000000\",\"2022-02-21T00:00:00.000000000\",\"2022-02-22T00:00:00.000000000\",\"2022-02-23T00:00:00.000000000\",\"2022-02-24T00:00:00.000000000\",\"2022-02-25T00:00:00.000000000\",\"2022-02-28T00:00:00.000000000\",\"2022-03-01T00:00:00.000000000\",\"2022-03-02T00:00:00.000000000\",\"2022-03-03T00:00:00.000000000\",\"2022-03-04T00:00:00.000000000\",\"2022-03-07T00:00:00.000000000\",\"2022-03-08T00:00:00.000000000\",\"2022-03-09T00:00:00.000000000\",\"2022-03-10T00:00:00.000000000\",\"2022-03-11T00:00:00.000000000\",\"2022-03-14T00:00:00.000000000\",\"2022-03-15T00:00:00.000000000\",\"2022-03-16T00:00:00.000000000\",\"2022-03-17T00:00:00.000000000\",\"2022-03-18T00:00:00.000000000\",\"2022-03-21T00:00:00.000000000\",\"2022-03-22T00:00:00.000000000\",\"2022-03-23T00:00:00.000000000\",\"2022-03-24T00:00:00.000000000\",\"2022-03-25T00:00:00.000000000\",\"2022-03-28T00:00:00.000000000\",\"2022-03-29T00:00:00.000000000\",\"2022-03-30T00:00:00.000000000\",\"2022-03-31T00:00:00.000000000\",\"2022-04-01T00:00:00.000000000\",\"2022-04-04T00:00:00.000000000\",\"2022-04-05T00:00:00.000000000\",\"2022-04-06T00:00:00.000000000\",\"2022-04-07T00:00:00.000000000\",\"2022-04-08T00:00:00.000000000\",\"2022-04-11T00:00:00.000000000\",\"2022-04-12T00:00:00.000000000\",\"2022-04-13T00:00:00.000000000\",\"2022-04-14T00:00:00.000000000\",\"2022-04-19T00:00:00.000000000\",\"2022-04-20T00:00:00.000000000\",\"2022-04-21T00:00:00.000000000\",\"2022-04-22T00:00:00.000000000\",\"2022-04-25T00:00:00.000000000\",\"2022-04-26T00:00:00.000000000\",\"2022-04-27T00:00:00.000000000\",\"2022-04-28T00:00:00.000000000\",\"2022-04-29T00:00:00.000000000\",\"2022-05-02T00:00:00.000000000\",\"2022-05-03T00:00:00.000000000\",\"2022-05-04T00:00:00.000000000\",\"2022-05-05T00:00:00.000000000\",\"2022-05-06T00:00:00.000000000\",\"2022-05-09T00:00:00.000000000\",\"2022-05-10T00:00:00.000000000\",\"2022-05-11T00:00:00.000000000\",\"2022-05-12T00:00:00.000000000\",\"2022-05-13T00:00:00.000000000\",\"2022-05-16T00:00:00.000000000\",\"2022-05-17T00:00:00.000000000\",\"2022-05-18T00:00:00.000000000\",\"2022-05-19T00:00:00.000000000\",\"2022-05-20T00:00:00.000000000\",\"2022-05-23T00:00:00.000000000\",\"2022-05-24T00:00:00.000000000\",\"2022-05-25T00:00:00.000000000\",\"2022-05-26T00:00:00.000000000\",\"2022-05-27T00:00:00.000000000\",\"2022-05-30T00:00:00.000000000\",\"2022-05-31T00:00:00.000000000\",\"2022-06-01T00:00:00.000000000\",\"2022-06-02T00:00:00.000000000\",\"2022-06-03T00:00:00.000000000\",\"2022-06-06T00:00:00.000000000\",\"2022-06-07T00:00:00.000000000\",\"2022-06-08T00:00:00.000000000\",\"2022-06-09T00:00:00.000000000\",\"2022-06-10T00:00:00.000000000\",\"2022-06-13T00:00:00.000000000\",\"2022-06-14T00:00:00.000000000\",\"2022-06-15T00:00:00.000000000\",\"2022-06-16T00:00:00.000000000\",\"2022-06-17T00:00:00.000000000\",\"2022-06-20T00:00:00.000000000\",\"2022-06-21T00:00:00.000000000\",\"2022-06-22T00:00:00.000000000\",\"2022-06-23T00:00:00.000000000\",\"2022-06-24T00:00:00.000000000\",\"2022-06-27T00:00:00.000000000\",\"2022-06-28T00:00:00.000000000\",\"2022-06-29T00:00:00.000000000\",\"2022-06-30T00:00:00.000000000\",\"2022-07-01T00:00:00.000000000\",\"2022-07-04T00:00:00.000000000\",\"2022-07-05T00:00:00.000000000\",\"2022-07-06T00:00:00.000000000\",\"2022-07-07T00:00:00.000000000\",\"2022-07-08T00:00:00.000000000\",\"2022-07-11T00:00:00.000000000\",\"2022-07-12T00:00:00.000000000\",\"2022-07-13T00:00:00.000000000\",\"2022-07-14T00:00:00.000000000\",\"2022-07-15T00:00:00.000000000\",\"2022-07-18T00:00:00.000000000\",\"2022-07-19T00:00:00.000000000\",\"2022-07-20T00:00:00.000000000\",\"2022-07-21T00:00:00.000000000\",\"2022-07-22T00:00:00.000000000\",\"2022-07-25T00:00:00.000000000\",\"2022-07-26T00:00:00.000000000\",\"2022-07-27T00:00:00.000000000\",\"2022-07-28T00:00:00.000000000\",\"2022-07-29T00:00:00.000000000\",\"2022-08-01T00:00:00.000000000\",\"2022-08-02T00:00:00.000000000\",\"2022-08-03T00:00:00.000000000\",\"2022-08-04T00:00:00.000000000\",\"2022-08-05T00:00:00.000000000\",\"2022-08-08T00:00:00.000000000\",\"2022-08-09T00:00:00.000000000\",\"2022-08-10T00:00:00.000000000\",\"2022-08-11T00:00:00.000000000\",\"2022-08-12T00:00:00.000000000\",\"2022-08-15T00:00:00.000000000\",\"2022-08-16T00:00:00.000000000\",\"2022-08-17T00:00:00.000000000\",\"2022-08-18T00:00:00.000000000\",\"2022-08-19T00:00:00.000000000\",\"2022-08-22T00:00:00.000000000\",\"2022-08-23T00:00:00.000000000\",\"2022-08-24T00:00:00.000000000\",\"2022-08-25T00:00:00.000000000\",\"2022-08-26T00:00:00.000000000\",\"2022-08-29T00:00:00.000000000\",\"2022-08-30T00:00:00.000000000\",\"2022-08-31T00:00:00.000000000\",\"2022-09-01T00:00:00.000000000\",\"2022-09-02T00:00:00.000000000\",\"2022-09-05T00:00:00.000000000\",\"2022-09-06T00:00:00.000000000\",\"2022-09-07T00:00:00.000000000\",\"2022-09-08T00:00:00.000000000\",\"2022-09-09T00:00:00.000000000\",\"2022-09-12T00:00:00.000000000\",\"2022-09-13T00:00:00.000000000\",\"2022-09-14T00:00:00.000000000\",\"2022-09-15T00:00:00.000000000\",\"2022-09-16T00:00:00.000000000\",\"2022-09-19T00:00:00.000000000\",\"2022-09-20T00:00:00.000000000\",\"2022-09-21T00:00:00.000000000\",\"2022-09-22T00:00:00.000000000\",\"2022-09-23T00:00:00.000000000\",\"2022-09-26T00:00:00.000000000\",\"2022-09-27T00:00:00.000000000\",\"2022-09-28T00:00:00.000000000\",\"2022-09-29T00:00:00.000000000\",\"2022-09-30T00:00:00.000000000\",\"2022-10-03T00:00:00.000000000\",\"2022-10-04T00:00:00.000000000\",\"2022-10-05T00:00:00.000000000\",\"2022-10-06T00:00:00.000000000\",\"2022-10-07T00:00:00.000000000\",\"2022-10-10T00:00:00.000000000\",\"2022-10-11T00:00:00.000000000\",\"2022-10-12T00:00:00.000000000\",\"2022-10-13T00:00:00.000000000\",\"2022-10-14T00:00:00.000000000\",\"2022-10-17T00:00:00.000000000\",\"2022-10-18T00:00:00.000000000\",\"2022-10-19T00:00:00.000000000\",\"2022-10-20T00:00:00.000000000\",\"2022-10-21T00:00:00.000000000\",\"2022-10-24T00:00:00.000000000\",\"2022-10-25T00:00:00.000000000\",\"2022-10-26T00:00:00.000000000\",\"2022-10-27T00:00:00.000000000\",\"2022-10-28T00:00:00.000000000\",\"2022-10-31T00:00:00.000000000\",\"2022-11-01T00:00:00.000000000\",\"2022-11-02T00:00:00.000000000\",\"2022-11-03T00:00:00.000000000\",\"2022-11-04T00:00:00.000000000\",\"2022-11-07T00:00:00.000000000\",\"2022-11-08T00:00:00.000000000\",\"2022-11-09T00:00:00.000000000\",\"2022-11-10T00:00:00.000000000\",\"2022-11-11T00:00:00.000000000\",\"2022-11-14T00:00:00.000000000\",\"2022-11-15T00:00:00.000000000\",\"2022-11-16T00:00:00.000000000\",\"2022-11-17T00:00:00.000000000\",\"2022-11-18T00:00:00.000000000\",\"2022-11-21T00:00:00.000000000\",\"2022-11-22T00:00:00.000000000\",\"2022-11-23T00:00:00.000000000\",\"2022-11-24T00:00:00.000000000\",\"2022-11-25T00:00:00.000000000\",\"2022-11-28T00:00:00.000000000\",\"2022-11-29T00:00:00.000000000\",\"2022-11-30T00:00:00.000000000\",\"2022-12-01T00:00:00.000000000\",\"2022-12-02T00:00:00.000000000\",\"2022-12-05T00:00:00.000000000\",\"2022-12-06T00:00:00.000000000\",\"2022-12-07T00:00:00.000000000\",\"2022-12-08T00:00:00.000000000\",\"2022-12-09T00:00:00.000000000\",\"2022-12-12T00:00:00.000000000\",\"2022-12-13T00:00:00.000000000\",\"2022-12-14T00:00:00.000000000\",\"2022-12-15T00:00:00.000000000\",\"2022-12-16T00:00:00.000000000\",\"2022-12-19T00:00:00.000000000\",\"2022-12-20T00:00:00.000000000\",\"2022-12-21T00:00:00.000000000\",\"2022-12-22T00:00:00.000000000\",\"2022-12-23T00:00:00.000000000\",\"2022-12-27T00:00:00.000000000\",\"2022-12-28T00:00:00.000000000\",\"2022-12-29T00:00:00.000000000\",\"2022-12-30T00:00:00.000000000\",\"2023-01-03T00:00:00.000000000\",\"2023-01-04T00:00:00.000000000\",\"2023-01-05T00:00:00.000000000\",\"2023-01-06T00:00:00.000000000\",\"2023-01-09T00:00:00.000000000\",\"2023-01-10T00:00:00.000000000\",\"2023-01-11T00:00:00.000000000\",\"2023-01-12T00:00:00.000000000\",\"2023-01-13T00:00:00.000000000\",\"2023-01-16T00:00:00.000000000\",\"2023-01-17T00:00:00.000000000\",\"2023-01-18T00:00:00.000000000\",\"2023-01-19T00:00:00.000000000\",\"2023-01-20T00:00:00.000000000\",\"2023-01-23T00:00:00.000000000\",\"2023-01-24T00:00:00.000000000\",\"2023-01-25T00:00:00.000000000\",\"2023-01-26T00:00:00.000000000\",\"2023-01-27T00:00:00.000000000\",\"2023-01-30T00:00:00.000000000\",\"2023-01-31T00:00:00.000000000\",\"2023-02-01T00:00:00.000000000\",\"2023-02-02T00:00:00.000000000\",\"2023-02-03T00:00:00.000000000\",\"2023-02-06T00:00:00.000000000\",\"2023-02-07T00:00:00.000000000\",\"2023-02-08T00:00:00.000000000\",\"2023-02-09T00:00:00.000000000\",\"2023-02-10T00:00:00.000000000\",\"2023-02-13T00:00:00.000000000\",\"2023-02-14T00:00:00.000000000\",\"2023-02-15T00:00:00.000000000\",\"2023-02-16T00:00:00.000000000\",\"2023-02-17T00:00:00.000000000\",\"2023-02-20T00:00:00.000000000\",\"2023-02-21T00:00:00.000000000\",\"2023-02-22T00:00:00.000000000\",\"2023-02-23T00:00:00.000000000\",\"2023-02-24T00:00:00.000000000\",\"2023-02-27T00:00:00.000000000\",\"2023-02-28T00:00:00.000000000\",\"2023-03-01T00:00:00.000000000\",\"2023-03-02T00:00:00.000000000\",\"2023-03-03T00:00:00.000000000\",\"2023-03-06T00:00:00.000000000\",\"2023-03-07T00:00:00.000000000\",\"2023-03-08T00:00:00.000000000\",\"2023-03-09T00:00:00.000000000\",\"2023-03-10T00:00:00.000000000\",\"2023-03-13T00:00:00.000000000\",\"2023-03-14T00:00:00.000000000\",\"2023-03-15T00:00:00.000000000\",\"2023-03-16T00:00:00.000000000\",\"2023-03-17T00:00:00.000000000\",\"2023-03-20T00:00:00.000000000\",\"2023-03-21T00:00:00.000000000\",\"2023-03-22T00:00:00.000000000\",\"2023-03-23T00:00:00.000000000\",\"2023-03-24T00:00:00.000000000\",\"2023-03-27T00:00:00.000000000\",\"2023-03-28T00:00:00.000000000\",\"2023-03-29T00:00:00.000000000\",\"2023-03-30T00:00:00.000000000\",\"2023-03-31T00:00:00.000000000\",\"2023-04-03T00:00:00.000000000\",\"2023-04-04T00:00:00.000000000\",\"2023-04-05T00:00:00.000000000\",\"2023-04-06T00:00:00.000000000\",\"2023-04-11T00:00:00.000000000\",\"2023-04-12T00:00:00.000000000\",\"2023-04-13T00:00:00.000000000\",\"2023-04-14T00:00:00.000000000\",\"2023-04-17T00:00:00.000000000\",\"2023-04-18T00:00:00.000000000\",\"2023-04-19T00:00:00.000000000\",\"2023-04-20T00:00:00.000000000\",\"2023-04-21T00:00:00.000000000\",\"2023-04-24T00:00:00.000000000\",\"2023-04-25T00:00:00.000000000\",\"2023-04-26T00:00:00.000000000\",\"2023-04-27T00:00:00.000000000\",\"2023-04-28T00:00:00.000000000\",\"2023-05-02T00:00:00.000000000\",\"2023-05-03T00:00:00.000000000\",\"2023-05-04T00:00:00.000000000\",\"2023-05-05T00:00:00.000000000\",\"2023-05-08T00:00:00.000000000\",\"2023-05-09T00:00:00.000000000\",\"2023-05-10T00:00:00.000000000\",\"2023-05-11T00:00:00.000000000\",\"2023-05-12T00:00:00.000000000\",\"2023-05-15T00:00:00.000000000\",\"2023-05-16T00:00:00.000000000\",\"2023-05-17T00:00:00.000000000\",\"2023-05-18T00:00:00.000000000\",\"2023-05-19T00:00:00.000000000\",\"2023-05-22T00:00:00.000000000\",\"2023-05-23T00:00:00.000000000\",\"2023-05-24T00:00:00.000000000\",\"2023-05-25T00:00:00.000000000\",\"2023-05-26T00:00:00.000000000\",\"2023-05-29T00:00:00.000000000\",\"2023-05-30T00:00:00.000000000\",\"2023-05-31T00:00:00.000000000\",\"2023-06-01T00:00:00.000000000\",\"2023-06-02T00:00:00.000000000\",\"2023-06-05T00:00:00.000000000\",\"2023-06-06T00:00:00.000000000\",\"2023-06-07T00:00:00.000000000\",\"2023-06-08T00:00:00.000000000\",\"2023-06-09T00:00:00.000000000\",\"2023-06-12T00:00:00.000000000\",\"2023-06-13T00:00:00.000000000\",\"2023-06-14T00:00:00.000000000\",\"2023-06-15T00:00:00.000000000\",\"2023-06-16T00:00:00.000000000\",\"2023-06-19T00:00:00.000000000\",\"2023-06-20T00:00:00.000000000\",\"2023-06-21T00:00:00.000000000\",\"2023-06-22T00:00:00.000000000\",\"2023-06-23T00:00:00.000000000\",\"2023-06-26T00:00:00.000000000\",\"2023-06-27T00:00:00.000000000\",\"2023-06-28T00:00:00.000000000\",\"2023-06-29T00:00:00.000000000\",\"2023-06-30T00:00:00.000000000\",\"2023-07-03T00:00:00.000000000\",\"2023-07-04T00:00:00.000000000\",\"2023-07-05T00:00:00.000000000\",\"2023-07-06T00:00:00.000000000\",\"2023-07-07T00:00:00.000000000\",\"2023-07-10T00:00:00.000000000\",\"2023-07-11T00:00:00.000000000\",\"2023-07-12T00:00:00.000000000\",\"2023-07-13T00:00:00.000000000\",\"2023-07-14T00:00:00.000000000\",\"2023-07-17T00:00:00.000000000\",\"2023-07-18T00:00:00.000000000\",\"2023-07-19T00:00:00.000000000\",\"2023-07-20T00:00:00.000000000\",\"2023-07-21T00:00:00.000000000\",\"2023-07-24T00:00:00.000000000\",\"2023-07-25T00:00:00.000000000\",\"2023-07-26T00:00:00.000000000\",\"2023-07-27T00:00:00.000000000\",\"2023-07-28T00:00:00.000000000\",\"2023-07-31T00:00:00.000000000\",\"2023-08-01T00:00:00.000000000\",\"2023-08-02T00:00:00.000000000\",\"2023-08-03T00:00:00.000000000\",\"2023-08-04T00:00:00.000000000\",\"2023-08-07T00:00:00.000000000\",\"2023-08-08T00:00:00.000000000\",\"2023-08-09T00:00:00.000000000\",\"2023-08-10T00:00:00.000000000\",\"2023-08-11T00:00:00.000000000\",\"2023-08-14T00:00:00.000000000\",\"2023-08-15T00:00:00.000000000\",\"2023-08-16T00:00:00.000000000\",\"2023-08-17T00:00:00.000000000\",\"2023-08-18T00:00:00.000000000\",\"2023-08-21T00:00:00.000000000\",\"2023-08-22T00:00:00.000000000\",\"2023-08-23T00:00:00.000000000\",\"2023-08-24T00:00:00.000000000\",\"2023-08-25T00:00:00.000000000\",\"2023-08-28T00:00:00.000000000\",\"2023-08-29T00:00:00.000000000\",\"2023-08-30T00:00:00.000000000\",\"2023-08-31T00:00:00.000000000\",\"2023-09-01T00:00:00.000000000\",\"2023-09-04T00:00:00.000000000\",\"2023-09-05T00:00:00.000000000\",\"2023-09-06T00:00:00.000000000\",\"2023-09-07T00:00:00.000000000\",\"2023-09-08T00:00:00.000000000\",\"2023-09-11T00:00:00.000000000\",\"2023-09-12T00:00:00.000000000\",\"2023-09-13T00:00:00.000000000\",\"2023-09-14T00:00:00.000000000\",\"2023-09-15T00:00:00.000000000\",\"2023-09-18T00:00:00.000000000\",\"2023-09-19T00:00:00.000000000\",\"2023-09-20T00:00:00.000000000\",\"2023-09-21T00:00:00.000000000\",\"2023-09-22T00:00:00.000000000\",\"2023-09-25T00:00:00.000000000\",\"2023-09-26T00:00:00.000000000\",\"2023-09-27T00:00:00.000000000\",\"2023-09-28T00:00:00.000000000\",\"2023-09-29T00:00:00.000000000\",\"2023-10-02T00:00:00.000000000\",\"2023-10-03T00:00:00.000000000\",\"2023-10-04T00:00:00.000000000\",\"2023-10-05T00:00:00.000000000\",\"2023-10-06T00:00:00.000000000\",\"2023-10-09T00:00:00.000000000\",\"2023-10-10T00:00:00.000000000\",\"2023-10-11T00:00:00.000000000\",\"2023-10-12T00:00:00.000000000\",\"2023-10-13T00:00:00.000000000\",\"2023-10-16T00:00:00.000000000\",\"2023-10-17T00:00:00.000000000\",\"2023-10-18T00:00:00.000000000\",\"2023-10-19T00:00:00.000000000\",\"2023-10-20T00:00:00.000000000\",\"2023-10-23T00:00:00.000000000\",\"2023-10-24T00:00:00.000000000\",\"2023-10-25T00:00:00.000000000\",\"2023-10-26T00:00:00.000000000\",\"2023-10-27T00:00:00.000000000\",\"2023-10-30T00:00:00.000000000\",\"2023-10-31T00:00:00.000000000\",\"2023-11-01T00:00:00.000000000\",\"2023-11-02T00:00:00.000000000\",\"2023-11-03T00:00:00.000000000\",\"2023-11-06T00:00:00.000000000\",\"2023-11-07T00:00:00.000000000\",\"2023-11-08T00:00:00.000000000\",\"2023-11-09T00:00:00.000000000\",\"2023-11-10T00:00:00.000000000\",\"2023-11-13T00:00:00.000000000\",\"2023-11-14T00:00:00.000000000\",\"2023-11-15T00:00:00.000000000\",\"2023-11-16T00:00:00.000000000\",\"2023-11-17T00:00:00.000000000\",\"2023-11-20T00:00:00.000000000\",\"2023-11-21T00:00:00.000000000\",\"2023-11-22T00:00:00.000000000\",\"2023-11-23T00:00:00.000000000\",\"2023-11-24T00:00:00.000000000\",\"2023-11-27T00:00:00.000000000\",\"2023-11-28T00:00:00.000000000\",\"2023-11-29T00:00:00.000000000\",\"2023-11-30T00:00:00.000000000\",\"2023-12-01T00:00:00.000000000\",\"2023-12-04T00:00:00.000000000\",\"2023-12-05T00:00:00.000000000\",\"2023-12-06T00:00:00.000000000\",\"2023-12-07T00:00:00.000000000\",\"2023-12-08T00:00:00.000000000\",\"2023-12-11T00:00:00.000000000\",\"2023-12-12T00:00:00.000000000\",\"2023-12-13T00:00:00.000000000\",\"2023-12-14T00:00:00.000000000\",\"2023-12-15T00:00:00.000000000\",\"2023-12-18T00:00:00.000000000\",\"2023-12-19T00:00:00.000000000\",\"2023-12-20T00:00:00.000000000\",\"2023-12-21T00:00:00.000000000\",\"2023-12-22T00:00:00.000000000\",\"2023-12-27T00:00:00.000000000\",\"2023-12-28T00:00:00.000000000\",\"2023-12-29T00:00:00.000000000\",\"2024-01-02T00:00:00.000000000\",\"2024-01-03T00:00:00.000000000\",\"2024-01-04T00:00:00.000000000\",\"2024-01-05T00:00:00.000000000\",\"2024-01-08T00:00:00.000000000\",\"2024-01-09T00:00:00.000000000\",\"2024-01-10T00:00:00.000000000\",\"2024-01-11T00:00:00.000000000\",\"2024-01-12T00:00:00.000000000\",\"2024-01-15T00:00:00.000000000\",\"2024-01-16T00:00:00.000000000\",\"2024-01-17T00:00:00.000000000\",\"2024-01-18T00:00:00.000000000\",\"2024-01-19T00:00:00.000000000\",\"2024-01-22T00:00:00.000000000\",\"2024-01-23T00:00:00.000000000\",\"2024-01-24T00:00:00.000000000\",\"2024-01-25T00:00:00.000000000\",\"2024-01-26T00:00:00.000000000\",\"2024-01-29T00:00:00.000000000\",\"2024-01-30T00:00:00.000000000\",\"2024-01-31T00:00:00.000000000\",\"2024-02-01T00:00:00.000000000\",\"2024-02-02T00:00:00.000000000\",\"2024-02-05T00:00:00.000000000\",\"2024-02-06T00:00:00.000000000\",\"2024-02-07T00:00:00.000000000\",\"2024-02-08T00:00:00.000000000\",\"2024-02-09T00:00:00.000000000\",\"2024-02-12T00:00:00.000000000\",\"2024-02-13T00:00:00.000000000\",\"2024-02-14T00:00:00.000000000\",\"2024-02-15T00:00:00.000000000\",\"2024-02-16T00:00:00.000000000\",\"2024-02-19T00:00:00.000000000\",\"2024-02-20T00:00:00.000000000\",\"2024-02-21T00:00:00.000000000\",\"2024-02-22T00:00:00.000000000\",\"2024-02-23T00:00:00.000000000\",\"2024-02-26T00:00:00.000000000\",\"2024-02-27T00:00:00.000000000\",\"2024-02-28T00:00:00.000000000\",\"2024-02-29T00:00:00.000000000\",\"2024-03-01T00:00:00.000000000\",\"2024-03-04T00:00:00.000000000\",\"2024-03-05T00:00:00.000000000\",\"2024-03-06T00:00:00.000000000\",\"2024-03-07T00:00:00.000000000\",\"2024-03-08T00:00:00.000000000\",\"2024-03-11T00:00:00.000000000\",\"2024-03-12T00:00:00.000000000\",\"2024-03-13T00:00:00.000000000\",\"2024-03-14T00:00:00.000000000\",\"2024-03-15T00:00:00.000000000\",\"2024-03-18T00:00:00.000000000\",\"2024-03-19T00:00:00.000000000\",\"2024-03-20T00:00:00.000000000\",\"2024-03-21T00:00:00.000000000\",\"2024-03-22T00:00:00.000000000\",\"2024-03-25T00:00:00.000000000\",\"2024-03-26T00:00:00.000000000\",\"2024-03-27T00:00:00.000000000\",\"2024-03-28T00:00:00.000000000\",\"2024-04-02T00:00:00.000000000\",\"2024-04-03T00:00:00.000000000\",\"2024-04-04T00:00:00.000000000\",\"2024-04-05T00:00:00.000000000\",\"2024-04-08T00:00:00.000000000\",\"2024-04-09T00:00:00.000000000\",\"2024-04-10T00:00:00.000000000\",\"2024-04-11T00:00:00.000000000\",\"2024-04-12T00:00:00.000000000\",\"2024-04-15T00:00:00.000000000\",\"2024-04-16T00:00:00.000000000\",\"2024-04-17T00:00:00.000000000\",\"2024-04-18T00:00:00.000000000\",\"2024-04-19T00:00:00.000000000\",\"2024-04-22T00:00:00.000000000\",\"2024-04-23T00:00:00.000000000\",\"2024-04-24T00:00:00.000000000\",\"2024-04-25T00:00:00.000000000\",\"2024-04-26T00:00:00.000000000\",\"2024-04-29T00:00:00.000000000\",\"2024-04-30T00:00:00.000000000\",\"2024-05-02T00:00:00.000000000\",\"2024-05-03T00:00:00.000000000\",\"2024-05-06T00:00:00.000000000\",\"2024-05-07T00:00:00.000000000\",\"2024-05-08T00:00:00.000000000\",\"2024-05-09T00:00:00.000000000\",\"2024-05-10T00:00:00.000000000\",\"2024-05-13T00:00:00.000000000\",\"2024-05-14T00:00:00.000000000\",\"2024-05-15T00:00:00.000000000\",\"2024-05-16T00:00:00.000000000\",\"2024-05-17T00:00:00.000000000\",\"2024-05-20T00:00:00.000000000\",\"2024-05-21T00:00:00.000000000\",\"2024-05-22T00:00:00.000000000\",\"2024-05-23T00:00:00.000000000\",\"2024-05-24T00:00:00.000000000\",\"2024-05-27T00:00:00.000000000\",\"2024-05-28T00:00:00.000000000\",\"2024-05-29T00:00:00.000000000\",\"2024-05-30T00:00:00.000000000\",\"2024-05-31T00:00:00.000000000\",\"2024-06-03T00:00:00.000000000\",\"2024-06-04T00:00:00.000000000\",\"2024-06-05T00:00:00.000000000\",\"2024-06-06T00:00:00.000000000\",\"2024-06-07T00:00:00.000000000\",\"2024-06-10T00:00:00.000000000\",\"2024-06-11T00:00:00.000000000\",\"2024-06-12T00:00:00.000000000\",\"2024-06-13T00:00:00.000000000\",\"2024-06-14T00:00:00.000000000\",\"2024-06-17T00:00:00.000000000\",\"2024-06-18T00:00:00.000000000\",\"2024-06-19T00:00:00.000000000\",\"2024-06-20T00:00:00.000000000\",\"2024-06-21T00:00:00.000000000\",\"2024-06-24T00:00:00.000000000\",\"2024-06-25T00:00:00.000000000\",\"2024-06-26T00:00:00.000000000\",\"2024-06-27T00:00:00.000000000\",\"2024-06-28T00:00:00.000000000\",\"2024-07-01T00:00:00.000000000\",\"2024-07-02T00:00:00.000000000\",\"2024-07-03T00:00:00.000000000\",\"2024-07-04T00:00:00.000000000\",\"2024-07-05T00:00:00.000000000\",\"2024-07-08T00:00:00.000000000\",\"2024-07-09T00:00:00.000000000\",\"2024-07-10T00:00:00.000000000\",\"2024-07-11T00:00:00.000000000\",\"2024-07-12T00:00:00.000000000\",\"2024-07-15T00:00:00.000000000\",\"2024-07-16T00:00:00.000000000\",\"2024-07-17T00:00:00.000000000\",\"2024-07-18T00:00:00.000000000\",\"2024-07-19T00:00:00.000000000\",\"2024-07-22T00:00:00.000000000\",\"2024-07-23T00:00:00.000000000\",\"2024-07-24T00:00:00.000000000\",\"2024-07-25T00:00:00.000000000\",\"2024-07-26T00:00:00.000000000\",\"2024-07-29T00:00:00.000000000\",\"2024-07-30T00:00:00.000000000\",\"2024-07-31T00:00:00.000000000\",\"2024-08-01T00:00:00.000000000\",\"2024-08-02T00:00:00.000000000\",\"2024-08-05T00:00:00.000000000\",\"2024-08-06T00:00:00.000000000\",\"2024-08-07T00:00:00.000000000\",\"2024-08-08T00:00:00.000000000\",\"2024-08-09T00:00:00.000000000\",\"2024-08-12T00:00:00.000000000\",\"2024-08-13T00:00:00.000000000\",\"2024-08-14T00:00:00.000000000\",\"2024-08-15T00:00:00.000000000\",\"2024-08-16T00:00:00.000000000\",\"2024-08-19T00:00:00.000000000\",\"2024-08-20T00:00:00.000000000\",\"2024-08-21T00:00:00.000000000\",\"2024-08-22T00:00:00.000000000\",\"2024-08-23T00:00:00.000000000\",\"2024-08-26T00:00:00.000000000\",\"2024-08-27T00:00:00.000000000\",\"2024-08-28T00:00:00.000000000\",\"2024-08-29T00:00:00.000000000\",\"2024-08-30T00:00:00.000000000\",\"2024-09-02T00:00:00.000000000\",\"2024-09-03T00:00:00.000000000\",\"2024-09-04T00:00:00.000000000\",\"2024-09-05T00:00:00.000000000\",\"2024-09-06T00:00:00.000000000\",\"2024-09-09T00:00:00.000000000\",\"2024-09-10T00:00:00.000000000\",\"2024-09-11T00:00:00.000000000\",\"2024-09-12T00:00:00.000000000\",\"2024-09-13T00:00:00.000000000\",\"2024-09-16T00:00:00.000000000\",\"2024-09-17T00:00:00.000000000\",\"2024-09-18T00:00:00.000000000\",\"2024-09-19T00:00:00.000000000\",\"2024-09-20T00:00:00.000000000\",\"2024-09-23T00:00:00.000000000\",\"2024-09-24T00:00:00.000000000\",\"2024-09-25T00:00:00.000000000\",\"2024-09-26T00:00:00.000000000\",\"2024-09-27T00:00:00.000000000\",\"2024-09-30T00:00:00.000000000\",\"2024-10-01T00:00:00.000000000\",\"2024-10-02T00:00:00.000000000\",\"2024-10-03T00:00:00.000000000\",\"2024-10-04T00:00:00.000000000\",\"2024-10-07T00:00:00.000000000\",\"2024-10-08T00:00:00.000000000\",\"2024-10-09T00:00:00.000000000\",\"2024-10-10T00:00:00.000000000\",\"2024-10-11T00:00:00.000000000\",\"2024-10-14T00:00:00.000000000\",\"2024-10-15T00:00:00.000000000\",\"2024-10-16T00:00:00.000000000\",\"2024-10-17T00:00:00.000000000\",\"2024-10-18T00:00:00.000000000\",\"2024-10-21T00:00:00.000000000\",\"2024-10-22T00:00:00.000000000\",\"2024-10-23T00:00:00.000000000\",\"2024-10-24T00:00:00.000000000\",\"2024-10-25T00:00:00.000000000\",\"2024-10-28T00:00:00.000000000\",\"2024-10-29T00:00:00.000000000\",\"2024-10-30T00:00:00.000000000\",\"2024-10-31T00:00:00.000000000\",\"2024-11-01T00:00:00.000000000\",\"2024-11-04T00:00:00.000000000\",\"2024-11-05T00:00:00.000000000\",\"2024-11-06T00:00:00.000000000\",\"2024-11-07T00:00:00.000000000\",\"2024-11-08T00:00:00.000000000\",\"2024-11-11T00:00:00.000000000\",\"2024-11-12T00:00:00.000000000\",\"2024-11-13T00:00:00.000000000\",\"2024-11-14T00:00:00.000000000\",\"2024-11-15T00:00:00.000000000\",\"2024-11-18T00:00:00.000000000\",\"2024-11-19T00:00:00.000000000\",\"2024-11-20T00:00:00.000000000\",\"2024-11-21T00:00:00.000000000\",\"2024-11-22T00:00:00.000000000\",\"2024-11-25T00:00:00.000000000\",\"2024-11-26T00:00:00.000000000\",\"2024-11-27T00:00:00.000000000\",\"2024-11-28T00:00:00.000000000\",\"2024-11-29T00:00:00.000000000\",\"2024-12-02T00:00:00.000000000\",\"2024-12-03T00:00:00.000000000\",\"2024-12-04T00:00:00.000000000\",\"2024-12-05T00:00:00.000000000\",\"2024-12-06T00:00:00.000000000\",\"2024-12-09T00:00:00.000000000\",\"2024-12-10T00:00:00.000000000\",\"2024-12-11T00:00:00.000000000\",\"2024-12-12T00:00:00.000000000\",\"2024-12-13T00:00:00.000000000\",\"2024-12-16T00:00:00.000000000\",\"2024-12-17T00:00:00.000000000\",\"2024-12-18T00:00:00.000000000\",\"2024-12-19T00:00:00.000000000\",\"2024-12-20T00:00:00.000000000\",\"2024-12-23T00:00:00.000000000\",\"2024-12-27T00:00:00.000000000\",\"2024-12-30T00:00:00.000000000\",\"2025-01-02T00:00:00.000000000\",\"2025-01-03T00:00:00.000000000\",\"2025-01-06T00:00:00.000000000\",\"2025-01-07T00:00:00.000000000\",\"2025-01-08T00:00:00.000000000\",\"2025-01-09T00:00:00.000000000\",\"2025-01-10T00:00:00.000000000\",\"2025-01-13T00:00:00.000000000\",\"2025-01-14T00:00:00.000000000\",\"2025-01-15T00:00:00.000000000\",\"2025-01-16T00:00:00.000000000\",\"2025-01-17T00:00:00.000000000\",\"2025-01-20T00:00:00.000000000\",\"2025-01-21T00:00:00.000000000\",\"2025-01-22T00:00:00.000000000\",\"2025-01-23T00:00:00.000000000\",\"2025-01-24T00:00:00.000000000\",\"2025-01-27T00:00:00.000000000\",\"2025-01-28T00:00:00.000000000\",\"2025-01-29T00:00:00.000000000\",\"2025-01-30T00:00:00.000000000\",\"2025-01-31T00:00:00.000000000\",\"2025-02-03T00:00:00.000000000\",\"2025-02-04T00:00:00.000000000\",\"2025-02-05T00:00:00.000000000\",\"2025-02-06T00:00:00.000000000\",\"2025-02-07T00:00:00.000000000\",\"2025-02-10T00:00:00.000000000\",\"2025-02-11T00:00:00.000000000\",\"2025-02-12T00:00:00.000000000\",\"2025-02-13T00:00:00.000000000\",\"2025-02-14T00:00:00.000000000\",\"2025-02-17T00:00:00.000000000\",\"2025-02-18T00:00:00.000000000\",\"2025-02-19T00:00:00.000000000\",\"2025-02-20T00:00:00.000000000\",\"2025-02-21T00:00:00.000000000\",\"2025-02-24T00:00:00.000000000\",\"2025-02-25T00:00:00.000000000\",\"2025-02-26T00:00:00.000000000\",\"2025-02-27T00:00:00.000000000\",\"2025-02-28T00:00:00.000000000\",\"2025-03-03T00:00:00.000000000\",\"2025-03-04T00:00:00.000000000\",\"2025-03-05T00:00:00.000000000\",\"2025-03-06T00:00:00.000000000\",\"2025-03-07T00:00:00.000000000\",\"2025-03-10T00:00:00.000000000\",\"2025-03-11T00:00:00.000000000\",\"2025-03-12T00:00:00.000000000\",\"2025-03-13T00:00:00.000000000\",\"2025-03-14T00:00:00.000000000\",\"2025-03-17T00:00:00.000000000\",\"2025-03-18T00:00:00.000000000\"],\"y\":{\"dtype\":\"i1\",\"bdata\":\"AAAAAAAAAAAAAAAAAAAAAAAAAAAAAAAAAAAAAAAAAAAAAAAAAAAAAAAAAAAAAAAAAAAAAAAAAAAAAAAAAAAAAAAAAAAAAAAAAAAAAAAAAAAAAAAAAAAAAAAAAAAAAAAAAAAAAAAAAAAAAAAAAAAAAAAAAAAAAAAAAAAAAAAAAAAAAAAAAAAAAAAAAAAAAAAAAAAAAAAAAAAAAAAAAAAAAAAAAAAAAAAAAAAAAAAAAAAAAAAAAAAAAAAAAAAAAAAAAAAAAAAAAAAAAAAAAAAAAAAAAAAAAAAAAAAAAAAAAAAAAAAAAAAAAAAAAAAAAAAAAAAAAAAAAAAAAAAAAAAAAAAAAAAAAAAAAAAAAAAAAAAAAAAAAAAAAAAAAAAAAAAAAAAAAAAAAAAAAAAAAAAAAAAAAAAAAAAAAAAAAAAAAAAAAAAAAAAAAAAAAAAAAAAAAAAAAAAAAAAAAAAAAAAAAAAAAAAAAAAAAAAAAAAAAAAAAAAAAAAAAAAAAAAAAAAAAAAAAAAAAAAAAAAAAAAAAAAAAAAAAAAAAAAAAAAAAAAAAAAAAAAAAAAAAAAAAAAAAAAAAAAAAAAAAAAAAAAAAAAAAAAAAAAAAAAAAAAAAAAAAAAAAAAAAAAAAAAAAAAAAAAAAAAAAAAAAAAAAAAAAAAAAAAAAAAAAAAAAAAAAAAAAAAAAAAAAAAAAAAAAAAAAAAAAAAAAAAAAAAAAAAAAAAAAAAAAAAAAAAAAAAAAAAAAAAAAAAAAAAAAAAAAAAAAAAAAAAAAAAAAAAAAAAAAAAAAAAAAAAAAAAAAAAAAAAAAAAAAAAAAAAAAAAAAAAAAAAAAAAAAAAAAAAAAAAAAAAAAAAAAAAAAAAAAAAAAAAAAAAAAAAAAAAAAAAAAAAAAAAAAAAAAAAAAAAAAAAAAAAAAAAAAAAAAAAAAAAAAAAAAAAAAAAAAAAAAAAAAAAAAAAAAAAAAAAAAAAAAAAAAAAAAAAAAAAAAAAAAAAAAAAAAAAAAAAAAAAAAAAAAAAAAAAAAAAAAAAAAAAAAAAAAAAAAAAAAAAAAAAAAAAAAAAAAAAAAAAAAAAAAAAAAAAAAAAAAAAAAAAAAAAAAAAAAAAAAAAAAAAAAAAAAAAAAAAAAAAAAAAAAAAAAAAAAAAAAAAAAAAAAAAAAAAAAAAAAAAAAAAAAAAAAAAAAAAAAAAAAAAAAAAAAAAAAAAAAAAAAAAAAAAAAAAAAAAAAAAAAAAAAAAAAAAAAAAAAAAAAAAAAAAAAAAAAAAAAAAAAAAAAAAAAAAAAAAAAAAAAAAAAAAAAAAAAAAAAAAAAAAAAAAAAAAAAAAAAAAAAAAAAAAAAAAAAAAAAAAAAAAAAAAAAAAAAAAAAAAAAAAAAAAAAAAAAAAAAAAAAAAAAAAAAAAAAAAAAAAAAAAAAAAAAAAAAAAAAAAAAAAAAAAAAAAAAAAAAAAAAAAAAAAAAAAAAAAAAAAAAAAAAAAAAAAAAAAAAAAAAAAAAAAAAAAAAAAAAAAAAAAAAAAAAAAAAAAAAAAAAAAAAAAAAAAAAAAAAAAAAAAAAAAAAAAAAAAAAAAAAAAAAAAAAAAAAAAAAAAAAAAAAAAAAAAAAAAAAAAAAAAAAAAAAAAAAAAAAAAAAAAAAAAAAAAAAAAAAAAAAAAAAAAAAAAAAAAAAAAAAAAAAAAAAAAAAAAAAAAAAAAAAAAAAAAAAAAAAAAAAAAAAAAAAAAAAAAAAAAAAAAAAAAAAAAAAAAAAAAAAAAAAAAAAAAAAAAAAAAAAAAAAAAAAAAAAAAAAAAAAAAAAAAAAAAAAAAAAAAAAAAAAAAAAAAAAAAAAAAAAAAAAAAAAAAAAAAAAAAAAAAAAAAAAAAAAAAAAAAAAAAAAAAAAAAAAAAAAAAAAAAAAAAAAAAAAAAAAAAAAAAAAAAAAAAAAAAAAAAAAAAAAAAAAAAAAAAAAAAAAAAAAAAAAAAAAAAAAAAAAAAAAAAAAAAAAAAAAAAAAAAAAAAAAAAAAAAAAAAAAAAAAAAAAAAAAAAAAAAAAAAAAAAAAAAAAAAAAAAAAAAAAAAAAAAAAAAAAAAAAAAAAAAAAAAAAAAAAAAAAAAAAAAAAAAAAAAAAAAAAAAAAAAAAAAAAAAAAAAAAAAAAAAAAAAAAAAAAAAAAAAAAAAAAAAAAAAAAAAAAAAAAAAAAAAAAAAAAAAAAAAAAAAAAAAAAAAAAAAAAAAAAAAAAAAAAAAAAAAAAAAAAAAAAAAAAAAAAAAAAAAAAAAAAAAAAAAAAAAAAAAAAAAAAAAAAAAAAAAAAAAAAAAAAAAAAAAAAAAAAAAAAAAAAAAAAAAAAAAAAAAAAAAAAAAAAAAAAAAAAAAAAAAAAA==\"},\"type\":\"scatter\",\"xaxis\":\"x2\",\"yaxis\":\"y2\"}],                        {\"template\":{\"data\":{\"histogram2dcontour\":[{\"type\":\"histogram2dcontour\",\"colorbar\":{\"outlinewidth\":0,\"ticks\":\"\"},\"colorscale\":[[0.0,\"#0d0887\"],[0.1111111111111111,\"#46039f\"],[0.2222222222222222,\"#7201a8\"],[0.3333333333333333,\"#9c179e\"],[0.4444444444444444,\"#bd3786\"],[0.5555555555555556,\"#d8576b\"],[0.6666666666666666,\"#ed7953\"],[0.7777777777777778,\"#fb9f3a\"],[0.8888888888888888,\"#fdca26\"],[1.0,\"#f0f921\"]]}],\"choropleth\":[{\"type\":\"choropleth\",\"colorbar\":{\"outlinewidth\":0,\"ticks\":\"\"}}],\"histogram2d\":[{\"type\":\"histogram2d\",\"colorbar\":{\"outlinewidth\":0,\"ticks\":\"\"},\"colorscale\":[[0.0,\"#0d0887\"],[0.1111111111111111,\"#46039f\"],[0.2222222222222222,\"#7201a8\"],[0.3333333333333333,\"#9c179e\"],[0.4444444444444444,\"#bd3786\"],[0.5555555555555556,\"#d8576b\"],[0.6666666666666666,\"#ed7953\"],[0.7777777777777778,\"#fb9f3a\"],[0.8888888888888888,\"#fdca26\"],[1.0,\"#f0f921\"]]}],\"heatmap\":[{\"type\":\"heatmap\",\"colorbar\":{\"outlinewidth\":0,\"ticks\":\"\"},\"colorscale\":[[0.0,\"#0d0887\"],[0.1111111111111111,\"#46039f\"],[0.2222222222222222,\"#7201a8\"],[0.3333333333333333,\"#9c179e\"],[0.4444444444444444,\"#bd3786\"],[0.5555555555555556,\"#d8576b\"],[0.6666666666666666,\"#ed7953\"],[0.7777777777777778,\"#fb9f3a\"],[0.8888888888888888,\"#fdca26\"],[1.0,\"#f0f921\"]]}],\"contourcarpet\":[{\"type\":\"contourcarpet\",\"colorbar\":{\"outlinewidth\":0,\"ticks\":\"\"}}],\"contour\":[{\"type\":\"contour\",\"colorbar\":{\"outlinewidth\":0,\"ticks\":\"\"},\"colorscale\":[[0.0,\"#0d0887\"],[0.1111111111111111,\"#46039f\"],[0.2222222222222222,\"#7201a8\"],[0.3333333333333333,\"#9c179e\"],[0.4444444444444444,\"#bd3786\"],[0.5555555555555556,\"#d8576b\"],[0.6666666666666666,\"#ed7953\"],[0.7777777777777778,\"#fb9f3a\"],[0.8888888888888888,\"#fdca26\"],[1.0,\"#f0f921\"]]}],\"surface\":[{\"type\":\"surface\",\"colorbar\":{\"outlinewidth\":0,\"ticks\":\"\"},\"colorscale\":[[0.0,\"#0d0887\"],[0.1111111111111111,\"#46039f\"],[0.2222222222222222,\"#7201a8\"],[0.3333333333333333,\"#9c179e\"],[0.4444444444444444,\"#bd3786\"],[0.5555555555555556,\"#d8576b\"],[0.6666666666666666,\"#ed7953\"],[0.7777777777777778,\"#fb9f3a\"],[0.8888888888888888,\"#fdca26\"],[1.0,\"#f0f921\"]]}],\"mesh3d\":[{\"type\":\"mesh3d\",\"colorbar\":{\"outlinewidth\":0,\"ticks\":\"\"}}],\"scatter\":[{\"fillpattern\":{\"fillmode\":\"overlay\",\"size\":10,\"solidity\":0.2},\"type\":\"scatter\"}],\"parcoords\":[{\"type\":\"parcoords\",\"line\":{\"colorbar\":{\"outlinewidth\":0,\"ticks\":\"\"}}}],\"scatterpolargl\":[{\"type\":\"scatterpolargl\",\"marker\":{\"colorbar\":{\"outlinewidth\":0,\"ticks\":\"\"}}}],\"bar\":[{\"error_x\":{\"color\":\"#2a3f5f\"},\"error_y\":{\"color\":\"#2a3f5f\"},\"marker\":{\"line\":{\"color\":\"#E5ECF6\",\"width\":0.5},\"pattern\":{\"fillmode\":\"overlay\",\"size\":10,\"solidity\":0.2}},\"type\":\"bar\"}],\"scattergeo\":[{\"type\":\"scattergeo\",\"marker\":{\"colorbar\":{\"outlinewidth\":0,\"ticks\":\"\"}}}],\"scatterpolar\":[{\"type\":\"scatterpolar\",\"marker\":{\"colorbar\":{\"outlinewidth\":0,\"ticks\":\"\"}}}],\"histogram\":[{\"marker\":{\"pattern\":{\"fillmode\":\"overlay\",\"size\":10,\"solidity\":0.2}},\"type\":\"histogram\"}],\"scattergl\":[{\"type\":\"scattergl\",\"marker\":{\"colorbar\":{\"outlinewidth\":0,\"ticks\":\"\"}}}],\"scatter3d\":[{\"type\":\"scatter3d\",\"line\":{\"colorbar\":{\"outlinewidth\":0,\"ticks\":\"\"}},\"marker\":{\"colorbar\":{\"outlinewidth\":0,\"ticks\":\"\"}}}],\"scattermap\":[{\"type\":\"scattermap\",\"marker\":{\"colorbar\":{\"outlinewidth\":0,\"ticks\":\"\"}}}],\"scattermapbox\":[{\"type\":\"scattermapbox\",\"marker\":{\"colorbar\":{\"outlinewidth\":0,\"ticks\":\"\"}}}],\"scatterternary\":[{\"type\":\"scatterternary\",\"marker\":{\"colorbar\":{\"outlinewidth\":0,\"ticks\":\"\"}}}],\"scattercarpet\":[{\"type\":\"scattercarpet\",\"marker\":{\"colorbar\":{\"outlinewidth\":0,\"ticks\":\"\"}}}],\"carpet\":[{\"aaxis\":{\"endlinecolor\":\"#2a3f5f\",\"gridcolor\":\"white\",\"linecolor\":\"white\",\"minorgridcolor\":\"white\",\"startlinecolor\":\"#2a3f5f\"},\"baxis\":{\"endlinecolor\":\"#2a3f5f\",\"gridcolor\":\"white\",\"linecolor\":\"white\",\"minorgridcolor\":\"white\",\"startlinecolor\":\"#2a3f5f\"},\"type\":\"carpet\"}],\"table\":[{\"cells\":{\"fill\":{\"color\":\"#EBF0F8\"},\"line\":{\"color\":\"white\"}},\"header\":{\"fill\":{\"color\":\"#C8D4E3\"},\"line\":{\"color\":\"white\"}},\"type\":\"table\"}],\"barpolar\":[{\"marker\":{\"line\":{\"color\":\"#E5ECF6\",\"width\":0.5},\"pattern\":{\"fillmode\":\"overlay\",\"size\":10,\"solidity\":0.2}},\"type\":\"barpolar\"}],\"pie\":[{\"automargin\":true,\"type\":\"pie\"}]},\"layout\":{\"autotypenumbers\":\"strict\",\"colorway\":[\"#636efa\",\"#EF553B\",\"#00cc96\",\"#ab63fa\",\"#FFA15A\",\"#19d3f3\",\"#FF6692\",\"#B6E880\",\"#FF97FF\",\"#FECB52\"],\"font\":{\"color\":\"#2a3f5f\"},\"hovermode\":\"closest\",\"hoverlabel\":{\"align\":\"left\"},\"paper_bgcolor\":\"white\",\"plot_bgcolor\":\"#E5ECF6\",\"polar\":{\"bgcolor\":\"#E5ECF6\",\"angularaxis\":{\"gridcolor\":\"white\",\"linecolor\":\"white\",\"ticks\":\"\"},\"radialaxis\":{\"gridcolor\":\"white\",\"linecolor\":\"white\",\"ticks\":\"\"}},\"ternary\":{\"bgcolor\":\"#E5ECF6\",\"aaxis\":{\"gridcolor\":\"white\",\"linecolor\":\"white\",\"ticks\":\"\"},\"baxis\":{\"gridcolor\":\"white\",\"linecolor\":\"white\",\"ticks\":\"\"},\"caxis\":{\"gridcolor\":\"white\",\"linecolor\":\"white\",\"ticks\":\"\"}},\"coloraxis\":{\"colorbar\":{\"outlinewidth\":0,\"ticks\":\"\"}},\"colorscale\":{\"sequential\":[[0.0,\"#0d0887\"],[0.1111111111111111,\"#46039f\"],[0.2222222222222222,\"#7201a8\"],[0.3333333333333333,\"#9c179e\"],[0.4444444444444444,\"#bd3786\"],[0.5555555555555556,\"#d8576b\"],[0.6666666666666666,\"#ed7953\"],[0.7777777777777778,\"#fb9f3a\"],[0.8888888888888888,\"#fdca26\"],[1.0,\"#f0f921\"]],\"sequentialminus\":[[0.0,\"#0d0887\"],[0.1111111111111111,\"#46039f\"],[0.2222222222222222,\"#7201a8\"],[0.3333333333333333,\"#9c179e\"],[0.4444444444444444,\"#bd3786\"],[0.5555555555555556,\"#d8576b\"],[0.6666666666666666,\"#ed7953\"],[0.7777777777777778,\"#fb9f3a\"],[0.8888888888888888,\"#fdca26\"],[1.0,\"#f0f921\"]],\"diverging\":[[0,\"#8e0152\"],[0.1,\"#c51b7d\"],[0.2,\"#de77ae\"],[0.3,\"#f1b6da\"],[0.4,\"#fde0ef\"],[0.5,\"#f7f7f7\"],[0.6,\"#e6f5d0\"],[0.7,\"#b8e186\"],[0.8,\"#7fbc41\"],[0.9,\"#4d9221\"],[1,\"#276419\"]]},\"xaxis\":{\"gridcolor\":\"white\",\"linecolor\":\"white\",\"ticks\":\"\",\"title\":{\"standoff\":15},\"zerolinecolor\":\"white\",\"automargin\":true,\"zerolinewidth\":2},\"yaxis\":{\"gridcolor\":\"white\",\"linecolor\":\"white\",\"ticks\":\"\",\"title\":{\"standoff\":15},\"zerolinecolor\":\"white\",\"automargin\":true,\"zerolinewidth\":2},\"scene\":{\"xaxis\":{\"backgroundcolor\":\"#E5ECF6\",\"gridcolor\":\"white\",\"linecolor\":\"white\",\"showbackground\":true,\"ticks\":\"\",\"zerolinecolor\":\"white\",\"gridwidth\":2},\"yaxis\":{\"backgroundcolor\":\"#E5ECF6\",\"gridcolor\":\"white\",\"linecolor\":\"white\",\"showbackground\":true,\"ticks\":\"\",\"zerolinecolor\":\"white\",\"gridwidth\":2},\"zaxis\":{\"backgroundcolor\":\"#E5ECF6\",\"gridcolor\":\"white\",\"linecolor\":\"white\",\"showbackground\":true,\"ticks\":\"\",\"zerolinecolor\":\"white\",\"gridwidth\":2}},\"shapedefaults\":{\"line\":{\"color\":\"#2a3f5f\"}},\"annotationdefaults\":{\"arrowcolor\":\"#2a3f5f\",\"arrowhead\":0,\"arrowwidth\":1},\"geo\":{\"bgcolor\":\"white\",\"landcolor\":\"#E5ECF6\",\"subunitcolor\":\"white\",\"showland\":true,\"showlakes\":true,\"lakecolor\":\"white\"},\"title\":{\"x\":0.05},\"mapbox\":{\"style\":\"light\"}}},\"xaxis\":{\"anchor\":\"y\",\"domain\":[0.0,1.0],\"matches\":\"x2\",\"showticklabels\":false},\"yaxis\":{\"anchor\":\"x\",\"domain\":[0.2525,1.0],\"title\":{\"text\":\"Price\"}},\"xaxis2\":{\"anchor\":\"y2\",\"domain\":[0.0,1.0]},\"yaxis2\":{\"anchor\":\"x2\",\"domain\":[0.0,0.2425],\"title\":{\"text\":\"Volume\"}},\"height\":800,\"width\":1300,\"showlegend\":false,\"title\":{\"text\":\"0P0001CLDK.F\"}},                        {\"responsive\": true}                    ).then(function(){\n",
       "                            \n",
       "var gd = document.getElementById('82755759-59bf-44ea-941d-ad57b97bf405');\n",
       "var x = new MutationObserver(function (mutations, observer) {{\n",
       "        var display = window.getComputedStyle(gd).display;\n",
       "        if (!display || display === 'none') {{\n",
       "            console.log([gd, 'removed!']);\n",
       "            Plotly.purge(gd);\n",
       "            observer.disconnect();\n",
       "        }}\n",
       "}});\n",
       "\n",
       "// Listen for the removal of the full notebook cells\n",
       "var notebookContainer = gd.closest('#notebook-container');\n",
       "if (notebookContainer) {{\n",
       "    x.observe(notebookContainer, {childList: true});\n",
       "}}\n",
       "\n",
       "// Listen for the clearing of the current output cell\n",
       "var outputEl = gd.closest('.output');\n",
       "if (outputEl) {{\n",
       "    x.observe(outputEl, {childList: true});\n",
       "}}\n",
       "\n",
       "                        })                };            </script>        </div>"
      ]
     },
     "metadata": {},
     "output_type": "display_data"
    }
   ],
   "source": [
    "fig = make_subplots(rows=4, cols=1,shared_xaxes=True,vertical_spacing=0.01,specs=[[{'rowspan':3,'colspan':1}],[None],[None],[{'rowspan':1,'colspan':1}]])\n",
    "\n",
    "# Graph (1,1)\n",
    "fig.add_trace(go.Scatter(x=stock_ticker.index,y=stock_ticker['Adj Close'],mode=\"lines\",name=f\"{ticker}\"),row=1, col=1)\n",
    "# Update xaxis properties\n",
    "fig.update_yaxes(title_text=\"Price\", row=1, col=1)\n",
    "\n",
    "# Graph (4,1)\n",
    "fig.add_trace(go.Scatter(x=stock_ticker.index,y=stock_ticker['Volume'],mode=\"lines\",name='Volume'),row=4, col=1)\n",
    "fig.update_yaxes(title_text=\"Volume\", row=4, col=1)\n",
    "\n",
    "fig.update_layout(height=800, width=1300,showlegend=False,title=f\"{ticker}\")\n",
    "\n",
    "fig.show()"
   ]
  },
  {
   "cell_type": "code",
   "execution_count": 14,
   "metadata": {},
   "outputs": [
    {
     "data": {
      "text/html": [
       "<div>\n",
       "<style scoped>\n",
       "    .dataframe tbody tr th:only-of-type {\n",
       "        vertical-align: middle;\n",
       "    }\n",
       "\n",
       "    .dataframe tbody tr th {\n",
       "        vertical-align: top;\n",
       "    }\n",
       "\n",
       "    .dataframe thead th {\n",
       "        text-align: right;\n",
       "    }\n",
       "</style>\n",
       "<table border=\"1\" class=\"dataframe\">\n",
       "  <thead>\n",
       "    <tr style=\"text-align: right;\">\n",
       "      <th></th>\n",
       "      <th>Adj_Close</th>\n",
       "      <th>Return</th>\n",
       "    </tr>\n",
       "    <tr>\n",
       "      <th>Year</th>\n",
       "      <th></th>\n",
       "      <th></th>\n",
       "    </tr>\n",
       "  </thead>\n",
       "  <tbody>\n",
       "    <tr>\n",
       "      <th>2018</th>\n",
       "      <td>4.8301</td>\n",
       "      <td>NaN</td>\n",
       "    </tr>\n",
       "    <tr>\n",
       "      <th>2019</th>\n",
       "      <td>6.3174</td>\n",
       "      <td>30.792321</td>\n",
       "    </tr>\n",
       "    <tr>\n",
       "      <th>2020</th>\n",
       "      <td>6.6697</td>\n",
       "      <td>5.576664</td>\n",
       "    </tr>\n",
       "    <tr>\n",
       "      <th>2021</th>\n",
       "      <td>8.8419</td>\n",
       "      <td>32.568177</td>\n",
       "    </tr>\n",
       "    <tr>\n",
       "      <th>2022</th>\n",
       "      <td>7.6848</td>\n",
       "      <td>-13.086551</td>\n",
       "    </tr>\n",
       "    <tr>\n",
       "      <th>2023</th>\n",
       "      <td>9.1875</td>\n",
       "      <td>19.554183</td>\n",
       "    </tr>\n",
       "    <tr>\n",
       "      <th>2024</th>\n",
       "      <td>11.6255</td>\n",
       "      <td>26.536051</td>\n",
       "    </tr>\n",
       "    <tr>\n",
       "      <th>2025</th>\n",
       "      <td>10.9293</td>\n",
       "      <td>-5.988555</td>\n",
       "    </tr>\n",
       "  </tbody>\n",
       "</table>\n",
       "</div>"
      ],
      "text/plain": [
       "      Adj_Close     Return\n",
       "Year                      \n",
       "2018     4.8301        NaN\n",
       "2019     6.3174  30.792321\n",
       "2020     6.6697   5.576664\n",
       "2021     8.8419  32.568177\n",
       "2022     7.6848 -13.086551\n",
       "2023     9.1875  19.554183\n",
       "2024    11.6255  26.536051\n",
       "2025    10.9293  -5.988555"
      ]
     },
     "execution_count": 14,
     "metadata": {},
     "output_type": "execute_result"
    }
   ],
   "source": [
    "# Group per year and calculate cummulative return\n",
    "stock_ticker['Year'] = stock_ticker.index.year\n",
    "annual_data = stock_ticker.groupby('Year').agg(Adj_Close=('Adj Close','last'))\n",
    "annual_data['Return'] = annual_data[\"Adj_Close\"].pct_change()*100\n",
    "annual_data"
   ]
  },
  {
   "cell_type": "code",
   "execution_count": 15,
   "metadata": {},
   "outputs": [
    {
     "data": {
      "application/vnd.plotly.v1+json": {
       "config": {
        "plotlyServerURL": "https://plot.ly"
       },
       "data": [
        {
         "hoverinfo": "skip",
         "marker": {
          "color": [
           "red",
           "green",
           "green",
           "green",
           "red",
           "green",
           "green",
           "red"
          ]
         },
         "text": {
          "bdata": "AAAAAAAA+H8K16NwPco+QFK4HoXrURZAKVyPwvVIQECuR+F6FC4qwM3MzMzMjDNACtejcD2KOkD2KFyPwvUXwA==",
          "dtype": "f8"
         },
         "textposition": "outside",
         "type": "bar",
         "x": {
          "bdata": "4gcAAOMHAADkBwAA5QcAAOYHAADnBwAA6AcAAOkHAAA=",
          "dtype": "i4"
         },
         "xaxis": "x",
         "y": {
          "bdata": "AAAAAAAA+H/Q5gKO1co+QCBSfP6AThZAfQpFA7pIQED46PtkUCwqwNjr4OjejTNAraqqqjqJOkAe7+iyR/QXwA==",
          "dtype": "f8"
         },
         "yaxis": "y"
        }
       ],
       "layout": {
        "height": 800,
        "template": {
         "data": {
          "bar": [
           {
            "error_x": {
             "color": "#2a3f5f"
            },
            "error_y": {
             "color": "#2a3f5f"
            },
            "marker": {
             "line": {
              "color": "#E5ECF6",
              "width": 0.5
             },
             "pattern": {
              "fillmode": "overlay",
              "size": 10,
              "solidity": 0.2
             }
            },
            "type": "bar"
           }
          ],
          "barpolar": [
           {
            "marker": {
             "line": {
              "color": "#E5ECF6",
              "width": 0.5
             },
             "pattern": {
              "fillmode": "overlay",
              "size": 10,
              "solidity": 0.2
             }
            },
            "type": "barpolar"
           }
          ],
          "carpet": [
           {
            "aaxis": {
             "endlinecolor": "#2a3f5f",
             "gridcolor": "white",
             "linecolor": "white",
             "minorgridcolor": "white",
             "startlinecolor": "#2a3f5f"
            },
            "baxis": {
             "endlinecolor": "#2a3f5f",
             "gridcolor": "white",
             "linecolor": "white",
             "minorgridcolor": "white",
             "startlinecolor": "#2a3f5f"
            },
            "type": "carpet"
           }
          ],
          "choropleth": [
           {
            "colorbar": {
             "outlinewidth": 0,
             "ticks": ""
            },
            "type": "choropleth"
           }
          ],
          "contour": [
           {
            "colorbar": {
             "outlinewidth": 0,
             "ticks": ""
            },
            "colorscale": [
             [
              0,
              "#0d0887"
             ],
             [
              0.1111111111111111,
              "#46039f"
             ],
             [
              0.2222222222222222,
              "#7201a8"
             ],
             [
              0.3333333333333333,
              "#9c179e"
             ],
             [
              0.4444444444444444,
              "#bd3786"
             ],
             [
              0.5555555555555556,
              "#d8576b"
             ],
             [
              0.6666666666666666,
              "#ed7953"
             ],
             [
              0.7777777777777778,
              "#fb9f3a"
             ],
             [
              0.8888888888888888,
              "#fdca26"
             ],
             [
              1,
              "#f0f921"
             ]
            ],
            "type": "contour"
           }
          ],
          "contourcarpet": [
           {
            "colorbar": {
             "outlinewidth": 0,
             "ticks": ""
            },
            "type": "contourcarpet"
           }
          ],
          "heatmap": [
           {
            "colorbar": {
             "outlinewidth": 0,
             "ticks": ""
            },
            "colorscale": [
             [
              0,
              "#0d0887"
             ],
             [
              0.1111111111111111,
              "#46039f"
             ],
             [
              0.2222222222222222,
              "#7201a8"
             ],
             [
              0.3333333333333333,
              "#9c179e"
             ],
             [
              0.4444444444444444,
              "#bd3786"
             ],
             [
              0.5555555555555556,
              "#d8576b"
             ],
             [
              0.6666666666666666,
              "#ed7953"
             ],
             [
              0.7777777777777778,
              "#fb9f3a"
             ],
             [
              0.8888888888888888,
              "#fdca26"
             ],
             [
              1,
              "#f0f921"
             ]
            ],
            "type": "heatmap"
           }
          ],
          "histogram": [
           {
            "marker": {
             "pattern": {
              "fillmode": "overlay",
              "size": 10,
              "solidity": 0.2
             }
            },
            "type": "histogram"
           }
          ],
          "histogram2d": [
           {
            "colorbar": {
             "outlinewidth": 0,
             "ticks": ""
            },
            "colorscale": [
             [
              0,
              "#0d0887"
             ],
             [
              0.1111111111111111,
              "#46039f"
             ],
             [
              0.2222222222222222,
              "#7201a8"
             ],
             [
              0.3333333333333333,
              "#9c179e"
             ],
             [
              0.4444444444444444,
              "#bd3786"
             ],
             [
              0.5555555555555556,
              "#d8576b"
             ],
             [
              0.6666666666666666,
              "#ed7953"
             ],
             [
              0.7777777777777778,
              "#fb9f3a"
             ],
             [
              0.8888888888888888,
              "#fdca26"
             ],
             [
              1,
              "#f0f921"
             ]
            ],
            "type": "histogram2d"
           }
          ],
          "histogram2dcontour": [
           {
            "colorbar": {
             "outlinewidth": 0,
             "ticks": ""
            },
            "colorscale": [
             [
              0,
              "#0d0887"
             ],
             [
              0.1111111111111111,
              "#46039f"
             ],
             [
              0.2222222222222222,
              "#7201a8"
             ],
             [
              0.3333333333333333,
              "#9c179e"
             ],
             [
              0.4444444444444444,
              "#bd3786"
             ],
             [
              0.5555555555555556,
              "#d8576b"
             ],
             [
              0.6666666666666666,
              "#ed7953"
             ],
             [
              0.7777777777777778,
              "#fb9f3a"
             ],
             [
              0.8888888888888888,
              "#fdca26"
             ],
             [
              1,
              "#f0f921"
             ]
            ],
            "type": "histogram2dcontour"
           }
          ],
          "mesh3d": [
           {
            "colorbar": {
             "outlinewidth": 0,
             "ticks": ""
            },
            "type": "mesh3d"
           }
          ],
          "parcoords": [
           {
            "line": {
             "colorbar": {
              "outlinewidth": 0,
              "ticks": ""
             }
            },
            "type": "parcoords"
           }
          ],
          "pie": [
           {
            "automargin": true,
            "type": "pie"
           }
          ],
          "scatter": [
           {
            "fillpattern": {
             "fillmode": "overlay",
             "size": 10,
             "solidity": 0.2
            },
            "type": "scatter"
           }
          ],
          "scatter3d": [
           {
            "line": {
             "colorbar": {
              "outlinewidth": 0,
              "ticks": ""
             }
            },
            "marker": {
             "colorbar": {
              "outlinewidth": 0,
              "ticks": ""
             }
            },
            "type": "scatter3d"
           }
          ],
          "scattercarpet": [
           {
            "marker": {
             "colorbar": {
              "outlinewidth": 0,
              "ticks": ""
             }
            },
            "type": "scattercarpet"
           }
          ],
          "scattergeo": [
           {
            "marker": {
             "colorbar": {
              "outlinewidth": 0,
              "ticks": ""
             }
            },
            "type": "scattergeo"
           }
          ],
          "scattergl": [
           {
            "marker": {
             "colorbar": {
              "outlinewidth": 0,
              "ticks": ""
             }
            },
            "type": "scattergl"
           }
          ],
          "scattermap": [
           {
            "marker": {
             "colorbar": {
              "outlinewidth": 0,
              "ticks": ""
             }
            },
            "type": "scattermap"
           }
          ],
          "scattermapbox": [
           {
            "marker": {
             "colorbar": {
              "outlinewidth": 0,
              "ticks": ""
             }
            },
            "type": "scattermapbox"
           }
          ],
          "scatterpolar": [
           {
            "marker": {
             "colorbar": {
              "outlinewidth": 0,
              "ticks": ""
             }
            },
            "type": "scatterpolar"
           }
          ],
          "scatterpolargl": [
           {
            "marker": {
             "colorbar": {
              "outlinewidth": 0,
              "ticks": ""
             }
            },
            "type": "scatterpolargl"
           }
          ],
          "scatterternary": [
           {
            "marker": {
             "colorbar": {
              "outlinewidth": 0,
              "ticks": ""
             }
            },
            "type": "scatterternary"
           }
          ],
          "surface": [
           {
            "colorbar": {
             "outlinewidth": 0,
             "ticks": ""
            },
            "colorscale": [
             [
              0,
              "#0d0887"
             ],
             [
              0.1111111111111111,
              "#46039f"
             ],
             [
              0.2222222222222222,
              "#7201a8"
             ],
             [
              0.3333333333333333,
              "#9c179e"
             ],
             [
              0.4444444444444444,
              "#bd3786"
             ],
             [
              0.5555555555555556,
              "#d8576b"
             ],
             [
              0.6666666666666666,
              "#ed7953"
             ],
             [
              0.7777777777777778,
              "#fb9f3a"
             ],
             [
              0.8888888888888888,
              "#fdca26"
             ],
             [
              1,
              "#f0f921"
             ]
            ],
            "type": "surface"
           }
          ],
          "table": [
           {
            "cells": {
             "fill": {
              "color": "#EBF0F8"
             },
             "line": {
              "color": "white"
             }
            },
            "header": {
             "fill": {
              "color": "#C8D4E3"
             },
             "line": {
              "color": "white"
             }
            },
            "type": "table"
           }
          ]
         },
         "layout": {
          "annotationdefaults": {
           "arrowcolor": "#2a3f5f",
           "arrowhead": 0,
           "arrowwidth": 1
          },
          "autotypenumbers": "strict",
          "coloraxis": {
           "colorbar": {
            "outlinewidth": 0,
            "ticks": ""
           }
          },
          "colorscale": {
           "diverging": [
            [
             0,
             "#8e0152"
            ],
            [
             0.1,
             "#c51b7d"
            ],
            [
             0.2,
             "#de77ae"
            ],
            [
             0.3,
             "#f1b6da"
            ],
            [
             0.4,
             "#fde0ef"
            ],
            [
             0.5,
             "#f7f7f7"
            ],
            [
             0.6,
             "#e6f5d0"
            ],
            [
             0.7,
             "#b8e186"
            ],
            [
             0.8,
             "#7fbc41"
            ],
            [
             0.9,
             "#4d9221"
            ],
            [
             1,
             "#276419"
            ]
           ],
           "sequential": [
            [
             0,
             "#0d0887"
            ],
            [
             0.1111111111111111,
             "#46039f"
            ],
            [
             0.2222222222222222,
             "#7201a8"
            ],
            [
             0.3333333333333333,
             "#9c179e"
            ],
            [
             0.4444444444444444,
             "#bd3786"
            ],
            [
             0.5555555555555556,
             "#d8576b"
            ],
            [
             0.6666666666666666,
             "#ed7953"
            ],
            [
             0.7777777777777778,
             "#fb9f3a"
            ],
            [
             0.8888888888888888,
             "#fdca26"
            ],
            [
             1,
             "#f0f921"
            ]
           ],
           "sequentialminus": [
            [
             0,
             "#0d0887"
            ],
            [
             0.1111111111111111,
             "#46039f"
            ],
            [
             0.2222222222222222,
             "#7201a8"
            ],
            [
             0.3333333333333333,
             "#9c179e"
            ],
            [
             0.4444444444444444,
             "#bd3786"
            ],
            [
             0.5555555555555556,
             "#d8576b"
            ],
            [
             0.6666666666666666,
             "#ed7953"
            ],
            [
             0.7777777777777778,
             "#fb9f3a"
            ],
            [
             0.8888888888888888,
             "#fdca26"
            ],
            [
             1,
             "#f0f921"
            ]
           ]
          },
          "colorway": [
           "#636efa",
           "#EF553B",
           "#00cc96",
           "#ab63fa",
           "#FFA15A",
           "#19d3f3",
           "#FF6692",
           "#B6E880",
           "#FF97FF",
           "#FECB52"
          ],
          "font": {
           "color": "#2a3f5f"
          },
          "geo": {
           "bgcolor": "white",
           "lakecolor": "white",
           "landcolor": "#E5ECF6",
           "showlakes": true,
           "showland": true,
           "subunitcolor": "white"
          },
          "hoverlabel": {
           "align": "left"
          },
          "hovermode": "closest",
          "mapbox": {
           "style": "light"
          },
          "paper_bgcolor": "white",
          "plot_bgcolor": "#E5ECF6",
          "polar": {
           "angularaxis": {
            "gridcolor": "white",
            "linecolor": "white",
            "ticks": ""
           },
           "bgcolor": "#E5ECF6",
           "radialaxis": {
            "gridcolor": "white",
            "linecolor": "white",
            "ticks": ""
           }
          },
          "scene": {
           "xaxis": {
            "backgroundcolor": "#E5ECF6",
            "gridcolor": "white",
            "gridwidth": 2,
            "linecolor": "white",
            "showbackground": true,
            "ticks": "",
            "zerolinecolor": "white"
           },
           "yaxis": {
            "backgroundcolor": "#E5ECF6",
            "gridcolor": "white",
            "gridwidth": 2,
            "linecolor": "white",
            "showbackground": true,
            "ticks": "",
            "zerolinecolor": "white"
           },
           "zaxis": {
            "backgroundcolor": "#E5ECF6",
            "gridcolor": "white",
            "gridwidth": 2,
            "linecolor": "white",
            "showbackground": true,
            "ticks": "",
            "zerolinecolor": "white"
           }
          },
          "shapedefaults": {
           "line": {
            "color": "#2a3f5f"
           }
          },
          "ternary": {
           "aaxis": {
            "gridcolor": "white",
            "linecolor": "white",
            "ticks": ""
           },
           "baxis": {
            "gridcolor": "white",
            "linecolor": "white",
            "ticks": ""
           },
           "bgcolor": "#E5ECF6",
           "caxis": {
            "gridcolor": "white",
            "linecolor": "white",
            "ticks": ""
           }
          },
          "title": {
           "x": 0.05
          },
          "xaxis": {
           "automargin": true,
           "gridcolor": "white",
           "linecolor": "white",
           "ticks": "",
           "title": {
            "standoff": 15
           },
           "zerolinecolor": "white",
           "zerolinewidth": 2
          },
          "yaxis": {
           "automargin": true,
           "gridcolor": "white",
           "linecolor": "white",
           "ticks": "",
           "title": {
            "standoff": 15
           },
           "zerolinecolor": "white",
           "zerolinewidth": 2
          }
         }
        },
        "title": {
         "text": "Returns per year 0P0001CLDK.F"
        },
        "width": 1300,
        "xaxis": {
         "anchor": "y",
         "domain": [
          0,
          1
         ],
         "tickangle": -45,
         "tickvals": {
          "bdata": "4gcAAOMHAADkBwAA5QcAAOYHAADnBwAA6AcAAOkHAAA=",
          "dtype": "i4"
         }
        },
        "yaxis": {
         "anchor": "x",
         "domain": [
          0,
          1
         ],
         "title": {
          "text": "Returns"
         }
        }
       }
      },
      "text/html": [
       "<div>            <script src=\"https://cdnjs.cloudflare.com/ajax/libs/mathjax/2.7.5/MathJax.js?config=TeX-AMS-MML_SVG\"></script><script type=\"text/javascript\">if (window.MathJax && window.MathJax.Hub && window.MathJax.Hub.Config) {window.MathJax.Hub.Config({SVG: {font: \"STIX-Web\"}});}</script>                <script type=\"text/javascript\">window.PlotlyConfig = {MathJaxConfig: 'local'};</script>\n",
       "        <script charset=\"utf-8\" src=\"https://cdn.plot.ly/plotly-3.0.0.min.js\"></script>                <div id=\"b89853b8-9b62-4259-87bd-06b601784983\" class=\"plotly-graph-div\" style=\"height:800px; width:1300px;\"></div>            <script type=\"text/javascript\">                window.PLOTLYENV=window.PLOTLYENV || {};                                if (document.getElementById(\"b89853b8-9b62-4259-87bd-06b601784983\")) {                    Plotly.newPlot(                        \"b89853b8-9b62-4259-87bd-06b601784983\",                        [{\"hoverinfo\":\"skip\",\"marker\":{\"color\":[\"red\",\"green\",\"green\",\"green\",\"red\",\"green\",\"green\",\"red\"]},\"text\":{\"dtype\":\"f8\",\"bdata\":\"AAAAAAAA+H8K16NwPco+QFK4HoXrURZAKVyPwvVIQECuR+F6FC4qwM3MzMzMjDNACtejcD2KOkD2KFyPwvUXwA==\"},\"textposition\":\"outside\",\"x\":{\"dtype\":\"i4\",\"bdata\":\"4gcAAOMHAADkBwAA5QcAAOYHAADnBwAA6AcAAOkHAAA=\"},\"y\":{\"dtype\":\"f8\",\"bdata\":\"AAAAAAAA+H\\u002fQ5gKO1co+QCBSfP6AThZAfQpFA7pIQED46PtkUCwqwNjr4OjejTNAraqqqjqJOkAe7+iyR\\u002fQXwA==\"},\"type\":\"bar\",\"xaxis\":\"x\",\"yaxis\":\"y\"}],                        {\"template\":{\"data\":{\"histogram2dcontour\":[{\"type\":\"histogram2dcontour\",\"colorbar\":{\"outlinewidth\":0,\"ticks\":\"\"},\"colorscale\":[[0.0,\"#0d0887\"],[0.1111111111111111,\"#46039f\"],[0.2222222222222222,\"#7201a8\"],[0.3333333333333333,\"#9c179e\"],[0.4444444444444444,\"#bd3786\"],[0.5555555555555556,\"#d8576b\"],[0.6666666666666666,\"#ed7953\"],[0.7777777777777778,\"#fb9f3a\"],[0.8888888888888888,\"#fdca26\"],[1.0,\"#f0f921\"]]}],\"choropleth\":[{\"type\":\"choropleth\",\"colorbar\":{\"outlinewidth\":0,\"ticks\":\"\"}}],\"histogram2d\":[{\"type\":\"histogram2d\",\"colorbar\":{\"outlinewidth\":0,\"ticks\":\"\"},\"colorscale\":[[0.0,\"#0d0887\"],[0.1111111111111111,\"#46039f\"],[0.2222222222222222,\"#7201a8\"],[0.3333333333333333,\"#9c179e\"],[0.4444444444444444,\"#bd3786\"],[0.5555555555555556,\"#d8576b\"],[0.6666666666666666,\"#ed7953\"],[0.7777777777777778,\"#fb9f3a\"],[0.8888888888888888,\"#fdca26\"],[1.0,\"#f0f921\"]]}],\"heatmap\":[{\"type\":\"heatmap\",\"colorbar\":{\"outlinewidth\":0,\"ticks\":\"\"},\"colorscale\":[[0.0,\"#0d0887\"],[0.1111111111111111,\"#46039f\"],[0.2222222222222222,\"#7201a8\"],[0.3333333333333333,\"#9c179e\"],[0.4444444444444444,\"#bd3786\"],[0.5555555555555556,\"#d8576b\"],[0.6666666666666666,\"#ed7953\"],[0.7777777777777778,\"#fb9f3a\"],[0.8888888888888888,\"#fdca26\"],[1.0,\"#f0f921\"]]}],\"contourcarpet\":[{\"type\":\"contourcarpet\",\"colorbar\":{\"outlinewidth\":0,\"ticks\":\"\"}}],\"contour\":[{\"type\":\"contour\",\"colorbar\":{\"outlinewidth\":0,\"ticks\":\"\"},\"colorscale\":[[0.0,\"#0d0887\"],[0.1111111111111111,\"#46039f\"],[0.2222222222222222,\"#7201a8\"],[0.3333333333333333,\"#9c179e\"],[0.4444444444444444,\"#bd3786\"],[0.5555555555555556,\"#d8576b\"],[0.6666666666666666,\"#ed7953\"],[0.7777777777777778,\"#fb9f3a\"],[0.8888888888888888,\"#fdca26\"],[1.0,\"#f0f921\"]]}],\"surface\":[{\"type\":\"surface\",\"colorbar\":{\"outlinewidth\":0,\"ticks\":\"\"},\"colorscale\":[[0.0,\"#0d0887\"],[0.1111111111111111,\"#46039f\"],[0.2222222222222222,\"#7201a8\"],[0.3333333333333333,\"#9c179e\"],[0.4444444444444444,\"#bd3786\"],[0.5555555555555556,\"#d8576b\"],[0.6666666666666666,\"#ed7953\"],[0.7777777777777778,\"#fb9f3a\"],[0.8888888888888888,\"#fdca26\"],[1.0,\"#f0f921\"]]}],\"mesh3d\":[{\"type\":\"mesh3d\",\"colorbar\":{\"outlinewidth\":0,\"ticks\":\"\"}}],\"scatter\":[{\"fillpattern\":{\"fillmode\":\"overlay\",\"size\":10,\"solidity\":0.2},\"type\":\"scatter\"}],\"parcoords\":[{\"type\":\"parcoords\",\"line\":{\"colorbar\":{\"outlinewidth\":0,\"ticks\":\"\"}}}],\"scatterpolargl\":[{\"type\":\"scatterpolargl\",\"marker\":{\"colorbar\":{\"outlinewidth\":0,\"ticks\":\"\"}}}],\"bar\":[{\"error_x\":{\"color\":\"#2a3f5f\"},\"error_y\":{\"color\":\"#2a3f5f\"},\"marker\":{\"line\":{\"color\":\"#E5ECF6\",\"width\":0.5},\"pattern\":{\"fillmode\":\"overlay\",\"size\":10,\"solidity\":0.2}},\"type\":\"bar\"}],\"scattergeo\":[{\"type\":\"scattergeo\",\"marker\":{\"colorbar\":{\"outlinewidth\":0,\"ticks\":\"\"}}}],\"scatterpolar\":[{\"type\":\"scatterpolar\",\"marker\":{\"colorbar\":{\"outlinewidth\":0,\"ticks\":\"\"}}}],\"histogram\":[{\"marker\":{\"pattern\":{\"fillmode\":\"overlay\",\"size\":10,\"solidity\":0.2}},\"type\":\"histogram\"}],\"scattergl\":[{\"type\":\"scattergl\",\"marker\":{\"colorbar\":{\"outlinewidth\":0,\"ticks\":\"\"}}}],\"scatter3d\":[{\"type\":\"scatter3d\",\"line\":{\"colorbar\":{\"outlinewidth\":0,\"ticks\":\"\"}},\"marker\":{\"colorbar\":{\"outlinewidth\":0,\"ticks\":\"\"}}}],\"scattermap\":[{\"type\":\"scattermap\",\"marker\":{\"colorbar\":{\"outlinewidth\":0,\"ticks\":\"\"}}}],\"scattermapbox\":[{\"type\":\"scattermapbox\",\"marker\":{\"colorbar\":{\"outlinewidth\":0,\"ticks\":\"\"}}}],\"scatterternary\":[{\"type\":\"scatterternary\",\"marker\":{\"colorbar\":{\"outlinewidth\":0,\"ticks\":\"\"}}}],\"scattercarpet\":[{\"type\":\"scattercarpet\",\"marker\":{\"colorbar\":{\"outlinewidth\":0,\"ticks\":\"\"}}}],\"carpet\":[{\"aaxis\":{\"endlinecolor\":\"#2a3f5f\",\"gridcolor\":\"white\",\"linecolor\":\"white\",\"minorgridcolor\":\"white\",\"startlinecolor\":\"#2a3f5f\"},\"baxis\":{\"endlinecolor\":\"#2a3f5f\",\"gridcolor\":\"white\",\"linecolor\":\"white\",\"minorgridcolor\":\"white\",\"startlinecolor\":\"#2a3f5f\"},\"type\":\"carpet\"}],\"table\":[{\"cells\":{\"fill\":{\"color\":\"#EBF0F8\"},\"line\":{\"color\":\"white\"}},\"header\":{\"fill\":{\"color\":\"#C8D4E3\"},\"line\":{\"color\":\"white\"}},\"type\":\"table\"}],\"barpolar\":[{\"marker\":{\"line\":{\"color\":\"#E5ECF6\",\"width\":0.5},\"pattern\":{\"fillmode\":\"overlay\",\"size\":10,\"solidity\":0.2}},\"type\":\"barpolar\"}],\"pie\":[{\"automargin\":true,\"type\":\"pie\"}]},\"layout\":{\"autotypenumbers\":\"strict\",\"colorway\":[\"#636efa\",\"#EF553B\",\"#00cc96\",\"#ab63fa\",\"#FFA15A\",\"#19d3f3\",\"#FF6692\",\"#B6E880\",\"#FF97FF\",\"#FECB52\"],\"font\":{\"color\":\"#2a3f5f\"},\"hovermode\":\"closest\",\"hoverlabel\":{\"align\":\"left\"},\"paper_bgcolor\":\"white\",\"plot_bgcolor\":\"#E5ECF6\",\"polar\":{\"bgcolor\":\"#E5ECF6\",\"angularaxis\":{\"gridcolor\":\"white\",\"linecolor\":\"white\",\"ticks\":\"\"},\"radialaxis\":{\"gridcolor\":\"white\",\"linecolor\":\"white\",\"ticks\":\"\"}},\"ternary\":{\"bgcolor\":\"#E5ECF6\",\"aaxis\":{\"gridcolor\":\"white\",\"linecolor\":\"white\",\"ticks\":\"\"},\"baxis\":{\"gridcolor\":\"white\",\"linecolor\":\"white\",\"ticks\":\"\"},\"caxis\":{\"gridcolor\":\"white\",\"linecolor\":\"white\",\"ticks\":\"\"}},\"coloraxis\":{\"colorbar\":{\"outlinewidth\":0,\"ticks\":\"\"}},\"colorscale\":{\"sequential\":[[0.0,\"#0d0887\"],[0.1111111111111111,\"#46039f\"],[0.2222222222222222,\"#7201a8\"],[0.3333333333333333,\"#9c179e\"],[0.4444444444444444,\"#bd3786\"],[0.5555555555555556,\"#d8576b\"],[0.6666666666666666,\"#ed7953\"],[0.7777777777777778,\"#fb9f3a\"],[0.8888888888888888,\"#fdca26\"],[1.0,\"#f0f921\"]],\"sequentialminus\":[[0.0,\"#0d0887\"],[0.1111111111111111,\"#46039f\"],[0.2222222222222222,\"#7201a8\"],[0.3333333333333333,\"#9c179e\"],[0.4444444444444444,\"#bd3786\"],[0.5555555555555556,\"#d8576b\"],[0.6666666666666666,\"#ed7953\"],[0.7777777777777778,\"#fb9f3a\"],[0.8888888888888888,\"#fdca26\"],[1.0,\"#f0f921\"]],\"diverging\":[[0,\"#8e0152\"],[0.1,\"#c51b7d\"],[0.2,\"#de77ae\"],[0.3,\"#f1b6da\"],[0.4,\"#fde0ef\"],[0.5,\"#f7f7f7\"],[0.6,\"#e6f5d0\"],[0.7,\"#b8e186\"],[0.8,\"#7fbc41\"],[0.9,\"#4d9221\"],[1,\"#276419\"]]},\"xaxis\":{\"gridcolor\":\"white\",\"linecolor\":\"white\",\"ticks\":\"\",\"title\":{\"standoff\":15},\"zerolinecolor\":\"white\",\"automargin\":true,\"zerolinewidth\":2},\"yaxis\":{\"gridcolor\":\"white\",\"linecolor\":\"white\",\"ticks\":\"\",\"title\":{\"standoff\":15},\"zerolinecolor\":\"white\",\"automargin\":true,\"zerolinewidth\":2},\"scene\":{\"xaxis\":{\"backgroundcolor\":\"#E5ECF6\",\"gridcolor\":\"white\",\"linecolor\":\"white\",\"showbackground\":true,\"ticks\":\"\",\"zerolinecolor\":\"white\",\"gridwidth\":2},\"yaxis\":{\"backgroundcolor\":\"#E5ECF6\",\"gridcolor\":\"white\",\"linecolor\":\"white\",\"showbackground\":true,\"ticks\":\"\",\"zerolinecolor\":\"white\",\"gridwidth\":2},\"zaxis\":{\"backgroundcolor\":\"#E5ECF6\",\"gridcolor\":\"white\",\"linecolor\":\"white\",\"showbackground\":true,\"ticks\":\"\",\"zerolinecolor\":\"white\",\"gridwidth\":2}},\"shapedefaults\":{\"line\":{\"color\":\"#2a3f5f\"}},\"annotationdefaults\":{\"arrowcolor\":\"#2a3f5f\",\"arrowhead\":0,\"arrowwidth\":1},\"geo\":{\"bgcolor\":\"white\",\"landcolor\":\"#E5ECF6\",\"subunitcolor\":\"white\",\"showland\":true,\"showlakes\":true,\"lakecolor\":\"white\"},\"title\":{\"x\":0.05},\"mapbox\":{\"style\":\"light\"}}},\"xaxis\":{\"anchor\":\"y\",\"domain\":[0.0,1.0],\"tickvals\":{\"dtype\":\"i4\",\"bdata\":\"4gcAAOMHAADkBwAA5QcAAOYHAADnBwAA6AcAAOkHAAA=\"},\"tickangle\":-45},\"yaxis\":{\"anchor\":\"x\",\"domain\":[0.0,1.0],\"title\":{\"text\":\"Returns\"}},\"height\":800,\"width\":1300,\"title\":{\"text\":\"Returns per year 0P0001CLDK.F\"}},                        {\"responsive\": true}                    ).then(function(){\n",
       "                            \n",
       "var gd = document.getElementById('b89853b8-9b62-4259-87bd-06b601784983');\n",
       "var x = new MutationObserver(function (mutations, observer) {{\n",
       "        var display = window.getComputedStyle(gd).display;\n",
       "        if (!display || display === 'none') {{\n",
       "            console.log([gd, 'removed!']);\n",
       "            Plotly.purge(gd);\n",
       "            observer.disconnect();\n",
       "        }}\n",
       "}});\n",
       "\n",
       "// Listen for the removal of the full notebook cells\n",
       "var notebookContainer = gd.closest('#notebook-container');\n",
       "if (notebookContainer) {{\n",
       "    x.observe(notebookContainer, {childList: true});\n",
       "}}\n",
       "\n",
       "// Listen for the clearing of the current output cell\n",
       "var outputEl = gd.closest('.output');\n",
       "if (outputEl) {{\n",
       "    x.observe(outputEl, {childList: true});\n",
       "}}\n",
       "\n",
       "                        })                };            </script>        </div>"
      ]
     },
     "metadata": {},
     "output_type": "display_data"
    }
   ],
   "source": [
    "# Plotly\n",
    "fig = make_subplots()\n",
    "\n",
    "# Add colors\n",
    "colors = ['green' if x >= 0 else 'red' for x in annual_data['Return']]\n",
    "\n",
    "# Graph (1,1)\n",
    "fig.add_trace(go.Bar(y=annual_data['Return'],x=annual_data['Return'].index,text=round(annual_data['Return'],2),textposition='outside',marker_color=colors,hoverinfo='skip'),row=1,col=1)\n",
    "\n",
    "# Update xaxis properties\n",
    "fig.update_yaxes(title_text=\"Returns\", row=1, col=1)\n",
    "\n",
    "fig.update_layout(xaxis=dict(tickvals=annual_data.index,tickangle=-45),height=800, width=1300,title=f\"Returns per year {ticker}\")\n",
    "\n",
    "fig.show()"
   ]
  },
  {
   "cell_type": "code",
   "execution_count": 16,
   "metadata": {},
   "outputs": [],
   "source": [
    "# Add Technical Analysis Indicators\n",
    "\n",
    "# Modified Moving Average 20\n",
    "stock_ticker['MMA20'] = stock_ticker['Adj Close'].loc[year].rolling(20).mean() #Adj Close 20 MA\n",
    "\n",
    "# Initialize Bollinger Bands Indicator\n",
    "indicator_bb = BollingerBands(close=stock_ticker[\"Adj Close\"].loc[year], window=20, window_dev=2)\n",
    "\n",
    "# Bollinger Bands\n",
    "stock_ticker['BB_Upper'] = indicator_bb.bollinger_hband()\n",
    "stock_ticker['BB_Lower'] = indicator_bb.bollinger_lband()\n",
    "\n",
    "# Initialize RSI Indicator\n",
    "indicator_rsi = RSIIndicator(close=stock_ticker[\"Adj Close\"].loc[year], window=14)\n",
    "\n",
    "# RSI\n",
    "stock_ticker['RSI'] = indicator_rsi.rsi()\n",
    "\n",
    "# Daily Return\n",
    "stock_ticker['Daily_Return'] = daily_return(stock_ticker[\"Adj Close\"].loc[year])"
   ]
  },
  {
   "cell_type": "code",
   "execution_count": 17,
   "metadata": {},
   "outputs": [
    {
     "data": {
      "image/png": "[encoded data removed]",
      "text/plain": [
       "<Figure size 1500x800 with 3 Axes>"
      ]
     },
     "metadata": {},
     "output_type": "display_data"
    }
   ],
   "source": [
    "# Plot the adjusted close price\n",
    "fig, axs = plt.subplots(3,1,gridspec_kw={'height_ratios': [3,1,1],'hspace':0.5},figsize=(15, 8),sharex=True)\n",
    "\n",
    "# Graph 0\n",
    "fig.suptitle(f\"{ticker} {year}\")\n",
    "axs[0].set_ylabel('Price')\n",
    "axs[0].plot(stock_ticker['Adj Close'].loc[year],linewidth=1)\n",
    "axs[0].plot(stock_ticker['MMA20'],linewidth=1) \n",
    "axs[0].plot(stock_ticker['BB_Upper'],linewidth=1)\n",
    "axs[0].plot(stock_ticker['BB_Lower'],linewidth=1)\n",
    "axs[0].legend(['Adj Close','MMA20','BB_Upper','BB_Lower'])\n",
    "axs[0].tick_params(labelbottom=True)\n",
    "\n",
    "# Graph 1\n",
    "axs[1].set_ylabel(\"Volume\")\n",
    "axs[1].set_xlabel(\"Date\")\n",
    "axs[1].set_title('Volume')\n",
    "axs[1].plot(stock_ticker['Volume'].loc[year],linewidth=1,color='m')\n",
    "axs[1].plot(stock_ticker['Volume'].loc[year].rolling(20).mean(),linewidth=1) #Volume 20 MMA\n",
    "axs[1].tick_params(labelbottom=True)\n",
    "\n",
    "# Graph 2\n",
    "axs[2].set_title('Relative Strength Index')\n",
    "axs[2].set_ylabel(\"RSI\")\n",
    "axs[2].set_xlabel(\"Date\")\n",
    "axs[2].plot(stock_ticker['RSI'],color='orange',linewidth=1)\n",
    "# Add two horizontal lines, signalling the buy and sell ranges.\n",
    "# Oversold\n",
    "axs[2].axhline(30, linestyle='--', linewidth=1.5, color='green')\n",
    "# Overbought\n",
    "axs[2].axhline(70, linestyle='--', linewidth=1.5, color='red')\n",
    "\n",
    "plt.show()"
   ]
  },
  {
   "cell_type": "code",
   "execution_count": 18,
   "metadata": {},
   "outputs": [
    {
     "data": {
      "application/vnd.plotly.v1+json": {
       "config": {
        "plotlyServerURL": "https://plot.ly"
       },
       "data": [
        {
         "mode": "lines",
         "name": "0P0001CLDK.F",
         "type": "scatter",
         "x": [
          "2025-01-02T00:00:00.000000000",
          "2025-01-03T00:00:00.000000000",
          "2025-01-06T00:00:00.000000000",
          "2025-01-07T00:00:00.000000000",
          "2025-01-08T00:00:00.000000000",
          "2025-01-09T00:00:00.000000000",
          "2025-01-10T00:00:00.000000000",
          "2025-01-13T00:00:00.000000000",
          "2025-01-14T00:00:00.000000000",
          "2025-01-15T00:00:00.000000000",
          "2025-01-16T00:00:00.000000000",
          "2025-01-17T00:00:00.000000000",
          "2025-01-20T00:00:00.000000000",
          "2025-01-21T00:00:00.000000000",
          "2025-01-22T00:00:00.000000000",
          "2025-01-23T00:00:00.000000000",
          "2025-01-24T00:00:00.000000000",
          "2025-01-27T00:00:00.000000000",
          "2025-01-28T00:00:00.000000000",
          "2025-01-29T00:00:00.000000000",
          "2025-01-30T00:00:00.000000000",
          "2025-01-31T00:00:00.000000000",
          "2025-02-03T00:00:00.000000000",
          "2025-02-04T00:00:00.000000000",
          "2025-02-05T00:00:00.000000000",
          "2025-02-06T00:00:00.000000000",
          "2025-02-07T00:00:00.000000000",
          "2025-02-10T00:00:00.000000000",
          "2025-02-11T00:00:00.000000000",
          "2025-02-12T00:00:00.000000000",
          "2025-02-13T00:00:00.000000000",
          "2025-02-14T00:00:00.000000000",
          "2025-02-17T00:00:00.000000000",
          "2025-02-18T00:00:00.000000000",
          "2025-02-19T00:00:00.000000000",
          "2025-02-20T00:00:00.000000000",
          "2025-02-21T00:00:00.000000000",
          "2025-02-24T00:00:00.000000000",
          "2025-02-25T00:00:00.000000000",
          "2025-02-26T00:00:00.000000000",
          "2025-02-27T00:00:00.000000000",
          "2025-02-28T00:00:00.000000000",
          "2025-03-03T00:00:00.000000000",
          "2025-03-04T00:00:00.000000000",
          "2025-03-05T00:00:00.000000000",
          "2025-03-06T00:00:00.000000000",
          "2025-03-07T00:00:00.000000000",
          "2025-03-10T00:00:00.000000000",
          "2025-03-11T00:00:00.000000000",
          "2025-03-12T00:00:00.000000000",
          "2025-03-13T00:00:00.000000000",
          "2025-03-14T00:00:00.000000000",
          "2025-03-17T00:00:00.000000000",
          "2025-03-18T00:00:00.000000000"
         ],
         "xaxis": "x",
         "y": {
          "bdata": "AAAA4MljJ0AAAABALJQnQAAAAKBOgCdAAAAAoHBdJ0AAAADgOIUnQAEAAAC8hSdA////nzxMJ0ABAACglGUnQAAAAID7OidAAAAAYPyYJ0ABAACA2Z0nQAAAAKCQzydAAAAAADKmJ0AAAABALNQnQAAAAMBk6idAAAAAYDkUKEABAAAAzM4nQP///z8llSdAAAAAgATlJ0AAAACA4NwnQAAAACBD/CdAAAAAIIf2J0AAAADAjeYnQAAAAGB27ydAAAAAoAj7J0AAAACgbjIoQAAAAABPDyhAAAAAIG5DKEAAAABgqDUoQAEAAKC0FyhAAAAAYMw9KEAAAAAAzhkoQAAAAMAgMChAAQAAoJRFKEAAAAAgZVkoQAAAAIBsJyhAAAAAQILiJ0AAAACgtsInQAAAAGBdnCdAAAAAQAyiJ0AAAAAA3oInQAAAACCuxydAAAAAwNFgJ0AAAAAgIf8mQAAAAEDfzyZAAQAA4OBrJkAAAAAgl18mQAEAAEDI5yVAAQAAoBqPJUAAAACAg68lQAAAAMCxjiVAAAAAgCjtJUD///+/MgQmQAEAAEDN2yVA",
          "dtype": "f8"
         },
         "yaxis": "y"
        },
        {
         "mode": "lines",
         "name": "BB_Lower",
         "type": "scatter",
         "x": [
          "2025-01-02T00:00:00.000000000",
          "2025-01-03T00:00:00.000000000",
          "2025-01-06T00:00:00.000000000",
          "2025-01-07T00:00:00.000000000",
          "2025-01-08T00:00:00.000000000",
          "2025-01-09T00:00:00.000000000",
          "2025-01-10T00:00:00.000000000",
          "2025-01-13T00:00:00.000000000",
          "2025-01-14T00:00:00.000000000",
          "2025-01-15T00:00:00.000000000",
          "2025-01-16T00:00:00.000000000",
          "2025-01-17T00:00:00.000000000",
          "2025-01-20T00:00:00.000000000",
          "2025-01-21T00:00:00.000000000",
          "2025-01-22T00:00:00.000000000",
          "2025-01-23T00:00:00.000000000",
          "2025-01-24T00:00:00.000000000",
          "2025-01-27T00:00:00.000000000",
          "2025-01-28T00:00:00.000000000",
          "2025-01-29T00:00:00.000000000",
          "2025-01-30T00:00:00.000000000",
          "2025-01-31T00:00:00.000000000",
          "2025-02-03T00:00:00.000000000",
          "2025-02-04T00:00:00.000000000",
          "2025-02-05T00:00:00.000000000",
          "2025-02-06T00:00:00.000000000",
          "2025-02-07T00:00:00.000000000",
          "2025-02-10T00:00:00.000000000",
          "2025-02-11T00:00:00.000000000",
          "2025-02-12T00:00:00.000000000",
          "2025-02-13T00:00:00.000000000",
          "2025-02-14T00:00:00.000000000",
          "2025-02-17T00:00:00.000000000",
          "2025-02-18T00:00:00.000000000",
          "2025-02-19T00:00:00.000000000",
          "2025-02-20T00:00:00.000000000",
          "2025-02-21T00:00:00.000000000",
          "2025-02-24T00:00:00.000000000",
          "2025-02-25T00:00:00.000000000",
          "2025-02-26T00:00:00.000000000",
          "2025-02-27T00:00:00.000000000",
          "2025-02-28T00:00:00.000000000",
          "2025-03-03T00:00:00.000000000",
          "2025-03-04T00:00:00.000000000",
          "2025-03-05T00:00:00.000000000",
          "2025-03-06T00:00:00.000000000",
          "2025-03-07T00:00:00.000000000",
          "2025-03-10T00:00:00.000000000",
          "2025-03-11T00:00:00.000000000",
          "2025-03-12T00:00:00.000000000",
          "2025-03-13T00:00:00.000000000",
          "2025-03-14T00:00:00.000000000",
          "2025-03-17T00:00:00.000000000",
          "2025-03-18T00:00:00.000000000"
         ],
         "xaxis": "x",
         "y": {
          "bdata": "AAAAAAAA+H8AAAAAAAD4fwAAAAAAAPh/AAAAAAAA+H8AAAAAAAD4fwAAAAAAAPh/AAAAAAAA+H8AAAAAAAD4fwAAAAAAAPh/AAAAAAAA+H8AAAAAAAD4fwAAAAAAAPh/AAAAAAAA+H8AAAAAAAD4fwAAAAAAAPh/AAAAAAAA+H8AAAAAAAD4fwAAAAAAAPh/AAAAAAAA+H/mtzjxVCwnQOMnW/KWMCdAQ1j/8fMwJ0D7O2GLPDUnQJSNJa7uPydA6BQLZd5EJ0CYMtfhbEYnQA+wTRCeWSdA0//Vyk9lJ0AT/7OEBoUnQPWXccVYkCdAp3obx/SZJ0B2XYdtQ54nQN10JEPlqidAHB1oQUGuJ0CDnkcC6K0nQMvNTJwtridASx5zgWSxJ0Dt+bzTAb4nQH4ONeuerSdAidn/4rehJ0B5AvA5LIwnQOMFG3sShydAq1/Iw/5tJ0AP5JfTMjwnQJhL6i8HBidAq/QjpVy9JkDLHzfBUn8mQGgaMGF/LSZAzoMh8unSJUBZOuA2r48lQLbAndvdUSVAYNBzv3UuJUCTSvaHrRYlQNnMk9FvASVA",
          "dtype": "f8"
         },
         "yaxis": "y"
        },
        {
         "mode": "lines",
         "name": "BB_Upper",
         "type": "scatter",
         "x": [
          "2025-01-02T00:00:00.000000000",
          "2025-01-03T00:00:00.000000000",
          "2025-01-06T00:00:00.000000000",
          "2025-01-07T00:00:00.000000000",
          "2025-01-08T00:00:00.000000000",
          "2025-01-09T00:00:00.000000000",
          "2025-01-10T00:00:00.000000000",
          "2025-01-13T00:00:00.000000000",
          "2025-01-14T00:00:00.000000000",
          "2025-01-15T00:00:00.000000000",
          "2025-01-16T00:00:00.000000000",
          "2025-01-17T00:00:00.000000000",
          "2025-01-20T00:00:00.000000000",
          "2025-01-21T00:00:00.000000000",
          "2025-01-22T00:00:00.000000000",
          "2025-01-23T00:00:00.000000000",
          "2025-01-24T00:00:00.000000000",
          "2025-01-27T00:00:00.000000000",
          "2025-01-28T00:00:00.000000000",
          "2025-01-29T00:00:00.000000000",
          "2025-01-30T00:00:00.000000000",
          "2025-01-31T00:00:00.000000000",
          "2025-02-03T00:00:00.000000000",
          "2025-02-04T00:00:00.000000000",
          "2025-02-05T00:00:00.000000000",
          "2025-02-06T00:00:00.000000000",
          "2025-02-07T00:00:00.000000000",
          "2025-02-10T00:00:00.000000000",
          "2025-02-11T00:00:00.000000000",
          "2025-02-12T00:00:00.000000000",
          "2025-02-13T00:00:00.000000000",
          "2025-02-14T00:00:00.000000000",
          "2025-02-17T00:00:00.000000000",
          "2025-02-18T00:00:00.000000000",
          "2025-02-19T00:00:00.000000000",
          "2025-02-20T00:00:00.000000000",
          "2025-02-21T00:00:00.000000000",
          "2025-02-24T00:00:00.000000000",
          "2025-02-25T00:00:00.000000000",
          "2025-02-26T00:00:00.000000000",
          "2025-02-27T00:00:00.000000000",
          "2025-02-28T00:00:00.000000000",
          "2025-03-03T00:00:00.000000000",
          "2025-03-04T00:00:00.000000000",
          "2025-03-05T00:00:00.000000000",
          "2025-03-06T00:00:00.000000000",
          "2025-03-07T00:00:00.000000000",
          "2025-03-10T00:00:00.000000000",
          "2025-03-11T00:00:00.000000000",
          "2025-03-12T00:00:00.000000000",
          "2025-03-13T00:00:00.000000000",
          "2025-03-14T00:00:00.000000000",
          "2025-03-17T00:00:00.000000000",
          "2025-03-18T00:00:00.000000000"
         ],
         "xaxis": "x",
         "y": {
          "bdata": "AAAAAAAA+H8AAAAAAAD4fwAAAAAAAPh/AAAAAAAA+H8AAAAAAAD4fwAAAAAAAPh/AAAAAAAA+H8AAAAAAAD4fwAAAAAAAPh/AAAAAAAA+H8AAAAAAAD4fwAAAAAAAPh/AAAAAAAA+H8AAAAAAAD4fwAAAAAAAPh/AAAAAAAA+H8AAAAAAAD4fwAAAAAAAPh/AAAAAAAA+H+Ari1FVhIoQLdxPpdTHShAiXTNeswmKEAFxJ5kvSwoQDg/p26lMChAflFbsX03KEDOM49ENEcoQL0cf+yERyhAk2aQiwJSKEDtAEwbXUsoQHHO9OC2TChAv+tKjxlTKECKonhyN1YoQFe+DrBgVyhA5OKX7ltfKECxlOvQzmooQJuYGbp0bChAG0jzdDZrKEATBkOsJ2MoQOhXMatGbChAdyYArUtyKEAhl6mfs3soQOnGsREefChAidNqL9KHKEC96DSZlaEoQJznSLPWuShAVQvcqgzVKEBpE/yR6ucoQJjlz45g/ShAmOJEBBsUKUDb+FI8txkpQLClyLrSEilAoC+MsJD+KECh6Dwbwd4oQCczbK43tihA",
          "dtype": "f8"
         },
         "yaxis": "y"
        },
        {
         "mode": "lines",
         "name": "MMA20",
         "type": "scatter",
         "x": [
          "2025-01-02T00:00:00.000000000",
          "2025-01-03T00:00:00.000000000",
          "2025-01-06T00:00:00.000000000",
          "2025-01-07T00:00:00.000000000",
          "2025-01-08T00:00:00.000000000",
          "2025-01-09T00:00:00.000000000",
          "2025-01-10T00:00:00.000000000",
          "2025-01-13T00:00:00.000000000",
          "2025-01-14T00:00:00.000000000",
          "2025-01-15T00:00:00.000000000",
          "2025-01-16T00:00:00.000000000",
          "2025-01-17T00:00:00.000000000",
          "2025-01-20T00:00:00.000000000",
          "2025-01-21T00:00:00.000000000",
          "2025-01-22T00:00:00.000000000",
          "2025-01-23T00:00:00.000000000",
          "2025-01-24T00:00:00.000000000",
          "2025-01-27T00:00:00.000000000",
          "2025-01-28T00:00:00.000000000",
          "2025-01-29T00:00:00.000000000",
          "2025-01-30T00:00:00.000000000",
          "2025-01-31T00:00:00.000000000",
          "2025-02-03T00:00:00.000000000",
          "2025-02-04T00:00:00.000000000",
          "2025-02-05T00:00:00.000000000",
          "2025-02-06T00:00:00.000000000",
          "2025-02-07T00:00:00.000000000",
          "2025-02-10T00:00:00.000000000",
          "2025-02-11T00:00:00.000000000",
          "2025-02-12T00:00:00.000000000",
          "2025-02-13T00:00:00.000000000",
          "2025-02-14T00:00:00.000000000",
          "2025-02-17T00:00:00.000000000",
          "2025-02-18T00:00:00.000000000",
          "2025-02-19T00:00:00.000000000",
          "2025-02-20T00:00:00.000000000",
          "2025-02-21T00:00:00.000000000",
          "2025-02-24T00:00:00.000000000",
          "2025-02-25T00:00:00.000000000",
          "2025-02-26T00:00:00.000000000",
          "2025-02-27T00:00:00.000000000",
          "2025-02-28T00:00:00.000000000",
          "2025-03-03T00:00:00.000000000",
          "2025-03-04T00:00:00.000000000",
          "2025-03-05T00:00:00.000000000",
          "2025-03-06T00:00:00.000000000",
          "2025-03-07T00:00:00.000000000",
          "2025-03-10T00:00:00.000000000",
          "2025-03-11T00:00:00.000000000",
          "2025-03-12T00:00:00.000000000",
          "2025-03-13T00:00:00.000000000",
          "2025-03-14T00:00:00.000000000",
          "2025-03-17T00:00:00.000000000",
          "2025-03-18T00:00:00.000000000"
         ],
         "xaxis": "x",
         "y": {
          "bdata": "AAAAAAAA+H8AAAAAAAD4fwAAAAAAAPh/AAAAAAAA+H8AAAAAAAD4fwAAAAAAAPh/AAAAAAAA+H8AAAAAAAD4fwAAAAAAAPh/AAAAAAAA+H8AAAAAAAD4fwAAAAAAAPh/AAAAAAAA+H8AAAAAAAD4fwAAAAAAAPh/AAAAAAAA+H8AAAAAAAD4fwAAAAAAAPh/AAAAAAAA+H8zMzObVZ8nQM3MzET1pidAZmZmNuCrJ0AAAAD4/LAnQGZmZg5KuCdAMzMzCy6+J0AzMzOT0MYnQGZmZn6R0CdAMzMzK6nbJ0AAAADQMegnQDMzM9OH7idAMzMzK4f2J0AAAABwPfonQJqZmfkiAShAAAAAmM4GKECamZlpWwwoQDMzMytRDShAMzMze00OKEAAAADAlBAoQDMzM8vyDChAAAAAyAEKKEDNzMzs7wMoQGZmZkaYAShAmpmZeej6J0BmZmY25O4nQJqZmfHu3ydAAAAAqDTJJ0CamZmpnrMnQAAAAPhvlSdAMzMze4JzJ0CamZk5s1QnQDMzM0tYMidAAAAAOIMWJ0CamZlRt/omQAAAAMDT2yZA",
          "dtype": "f8"
         },
         "yaxis": "y"
        },
        {
         "mode": "lines",
         "name": "Volume",
         "type": "scatter",
         "x": [
          "2025-01-02T00:00:00.000000000",
          "2025-01-03T00:00:00.000000000",
          "2025-01-06T00:00:00.000000000",
          "2025-01-07T00:00:00.000000000",
          "2025-01-08T00:00:00.000000000",
          "2025-01-09T00:00:00.000000000",
          "2025-01-10T00:00:00.000000000",
          "2025-01-13T00:00:00.000000000",
          "2025-01-14T00:00:00.000000000",
          "2025-01-15T00:00:00.000000000",
          "2025-01-16T00:00:00.000000000",
          "2025-01-17T00:00:00.000000000",
          "2025-01-20T00:00:00.000000000",
          "2025-01-21T00:00:00.000000000",
          "2025-01-22T00:00:00.000000000",
          "2025-01-23T00:00:00.000000000",
          "2025-01-24T00:00:00.000000000",
          "2025-01-27T00:00:00.000000000",
          "2025-01-28T00:00:00.000000000",
          "2025-01-29T00:00:00.000000000",
          "2025-01-30T00:00:00.000000000",
          "2025-01-31T00:00:00.000000000",
          "2025-02-03T00:00:00.000000000",
          "2025-02-04T00:00:00.000000000",
          "2025-02-05T00:00:00.000000000",
          "2025-02-06T00:00:00.000000000",
          "2025-02-07T00:00:00.000000000",
          "2025-02-10T00:00:00.000000000",
          "2025-02-11T00:00:00.000000000",
          "2025-02-12T00:00:00.000000000",
          "2025-02-13T00:00:00.000000000",
          "2025-02-14T00:00:00.000000000",
          "2025-02-17T00:00:00.000000000",
          "2025-02-18T00:00:00.000000000",
          "2025-02-19T00:00:00.000000000",
          "2025-02-20T00:00:00.000000000",
          "2025-02-21T00:00:00.000000000",
          "2025-02-24T00:00:00.000000000",
          "2025-02-25T00:00:00.000000000",
          "2025-02-26T00:00:00.000000000",
          "2025-02-27T00:00:00.000000000",
          "2025-02-28T00:00:00.000000000",
          "2025-03-03T00:00:00.000000000",
          "2025-03-04T00:00:00.000000000",
          "2025-03-05T00:00:00.000000000",
          "2025-03-06T00:00:00.000000000",
          "2025-03-07T00:00:00.000000000",
          "2025-03-10T00:00:00.000000000",
          "2025-03-11T00:00:00.000000000",
          "2025-03-12T00:00:00.000000000",
          "2025-03-13T00:00:00.000000000",
          "2025-03-14T00:00:00.000000000",
          "2025-03-17T00:00:00.000000000",
          "2025-03-18T00:00:00.000000000"
         ],
         "xaxis": "x2",
         "y": {
          "bdata": "AAAAAAAAAAAAAAAAAAAAAAAAAAAAAAAAAAAAAAAAAAAAAAAAAAAAAAAAAAAAAAAAAAAAAAAA",
          "dtype": "i1"
         },
         "yaxis": "y2"
        },
        {
         "mode": "lines",
         "name": "MMA20",
         "type": "scatter",
         "x": [
          "2025-01-02T00:00:00.000000000",
          "2025-01-03T00:00:00.000000000",
          "2025-01-06T00:00:00.000000000",
          "2025-01-07T00:00:00.000000000",
          "2025-01-08T00:00:00.000000000",
          "2025-01-09T00:00:00.000000000",
          "2025-01-10T00:00:00.000000000",
          "2025-01-13T00:00:00.000000000",
          "2025-01-14T00:00:00.000000000",
          "2025-01-15T00:00:00.000000000",
          "2025-01-16T00:00:00.000000000",
          "2025-01-17T00:00:00.000000000",
          "2025-01-20T00:00:00.000000000",
          "2025-01-21T00:00:00.000000000",
          "2025-01-22T00:00:00.000000000",
          "2025-01-23T00:00:00.000000000",
          "2025-01-24T00:00:00.000000000",
          "2025-01-27T00:00:00.000000000",
          "2025-01-28T00:00:00.000000000",
          "2025-01-29T00:00:00.000000000",
          "2025-01-30T00:00:00.000000000",
          "2025-01-31T00:00:00.000000000",
          "2025-02-03T00:00:00.000000000",
          "2025-02-04T00:00:00.000000000",
          "2025-02-05T00:00:00.000000000",
          "2025-02-06T00:00:00.000000000",
          "2025-02-07T00:00:00.000000000",
          "2025-02-10T00:00:00.000000000",
          "2025-02-11T00:00:00.000000000",
          "2025-02-12T00:00:00.000000000",
          "2025-02-13T00:00:00.000000000",
          "2025-02-14T00:00:00.000000000",
          "2025-02-17T00:00:00.000000000",
          "2025-02-18T00:00:00.000000000",
          "2025-02-19T00:00:00.000000000",
          "2025-02-20T00:00:00.000000000",
          "2025-02-21T00:00:00.000000000",
          "2025-02-24T00:00:00.000000000",
          "2025-02-25T00:00:00.000000000",
          "2025-02-26T00:00:00.000000000",
          "2025-02-27T00:00:00.000000000",
          "2025-02-28T00:00:00.000000000",
          "2025-03-03T00:00:00.000000000",
          "2025-03-04T00:00:00.000000000",
          "2025-03-05T00:00:00.000000000",
          "2025-03-06T00:00:00.000000000",
          "2025-03-07T00:00:00.000000000",
          "2025-03-10T00:00:00.000000000",
          "2025-03-11T00:00:00.000000000",
          "2025-03-12T00:00:00.000000000",
          "2025-03-13T00:00:00.000000000",
          "2025-03-14T00:00:00.000000000",
          "2025-03-17T00:00:00.000000000",
          "2025-03-18T00:00:00.000000000"
         ],
         "xaxis": "x2",
         "y": {
          "bdata": "AAAAAAAA+H8AAAAAAAD4fwAAAAAAAPh/AAAAAAAA+H8AAAAAAAD4fwAAAAAAAPh/AAAAAAAA+H8AAAAAAAD4fwAAAAAAAPh/AAAAAAAA+H8AAAAAAAD4fwAAAAAAAPh/AAAAAAAA+H8AAAAAAAD4fwAAAAAAAPh/AAAAAAAA+H8AAAAAAAD4fwAAAAAAAPh/AAAAAAAA+H8AAAAAAAAAAAAAAAAAAAAAAAAAAAAAAAAAAAAAAAAAAAAAAAAAAAAAAAAAAAAAAAAAAAAAAAAAAAAAAAAAAAAAAAAAAAAAAAAAAAAAAAAAAAAAAAAAAAAAAAAAAAAAAAAAAAAAAAAAAAAAAAAAAAAAAAAAAAAAAAAAAAAAAAAAAAAAAAAAAAAAAAAAAAAAAAAAAAAAAAAAAAAAAAAAAAAAAAAAAAAAAAAAAAAAAAAAAAAAAAAAAAAAAAAAAAAAAAAAAAAAAAAAAAAAAAAAAAAAAAAAAAAAAAAAAAAAAAAAAAAAAAAAAAAAAAAAAAAAAAAAAAAAAAAAAAAAAAAAAAAAAAAAAAAAAAAAAAAAAAAAAAAAAAAAAAAA",
          "dtype": "f8"
         },
         "yaxis": "y2"
        },
        {
         "mode": "lines",
         "name": "RSI",
         "type": "scatter",
         "x": [
          "2025-01-02T00:00:00.000000000",
          "2025-01-03T00:00:00.000000000",
          "2025-01-06T00:00:00.000000000",
          "2025-01-07T00:00:00.000000000",
          "2025-01-08T00:00:00.000000000",
          "2025-01-09T00:00:00.000000000",
          "2025-01-10T00:00:00.000000000",
          "2025-01-13T00:00:00.000000000",
          "2025-01-14T00:00:00.000000000",
          "2025-01-15T00:00:00.000000000",
          "2025-01-16T00:00:00.000000000",
          "2025-01-17T00:00:00.000000000",
          "2025-01-20T00:00:00.000000000",
          "2025-01-21T00:00:00.000000000",
          "2025-01-22T00:00:00.000000000",
          "2025-01-23T00:00:00.000000000",
          "2025-01-24T00:00:00.000000000",
          "2025-01-27T00:00:00.000000000",
          "2025-01-28T00:00:00.000000000",
          "2025-01-29T00:00:00.000000000",
          "2025-01-30T00:00:00.000000000",
          "2025-01-31T00:00:00.000000000",
          "2025-02-03T00:00:00.000000000",
          "2025-02-04T00:00:00.000000000",
          "2025-02-05T00:00:00.000000000",
          "2025-02-06T00:00:00.000000000",
          "2025-02-07T00:00:00.000000000",
          "2025-02-10T00:00:00.000000000",
          "2025-02-11T00:00:00.000000000",
          "2025-02-12T00:00:00.000000000",
          "2025-02-13T00:00:00.000000000",
          "2025-02-14T00:00:00.000000000",
          "2025-02-17T00:00:00.000000000",
          "2025-02-18T00:00:00.000000000",
          "2025-02-19T00:00:00.000000000",
          "2025-02-20T00:00:00.000000000",
          "2025-02-21T00:00:00.000000000",
          "2025-02-24T00:00:00.000000000",
          "2025-02-25T00:00:00.000000000",
          "2025-02-26T00:00:00.000000000",
          "2025-02-27T00:00:00.000000000",
          "2025-02-28T00:00:00.000000000",
          "2025-03-03T00:00:00.000000000",
          "2025-03-04T00:00:00.000000000",
          "2025-03-05T00:00:00.000000000",
          "2025-03-06T00:00:00.000000000",
          "2025-03-07T00:00:00.000000000",
          "2025-03-10T00:00:00.000000000",
          "2025-03-11T00:00:00.000000000",
          "2025-03-12T00:00:00.000000000",
          "2025-03-13T00:00:00.000000000",
          "2025-03-14T00:00:00.000000000",
          "2025-03-17T00:00:00.000000000",
          "2025-03-18T00:00:00.000000000"
         ],
         "xaxis": "x3",
         "y": {
          "bdata": "AAAAAAAA+H8AAAAAAAD4fwAAAAAAAPh/AAAAAAAA+H8AAAAAAAD4fwAAAAAAAPh/AAAAAAAA+H8AAAAAAAD4fwAAAAAAAPh/AAAAAAAA+H8AAAAAAAD4fwAAAAAAAPh/AAAAAAAA+H9Z9xmGPqFPQCfVUw1aaFBAeIB+PdFmUUB7kYwnBNdMQE3JQNAMAklAg605q4okTUDtIW41e59MQFZKgXfJGE5APzOZt6mxTUDghUHfN4xMQDCdXWioCE1ANL8cV42tTUAuZfNZdjpQQA/0P4prr01AB8NJ0PEPUEC6MIAGKxBPQH4ttnYA1UxAMzG1T1e6TkDShOeSTilMQKSuTr22UE1AK5ub7ERjTkBu4siwgVlPQFIfUBwnqktA7lgg/YuNR0AVxIyO5u5FQOaSR458IkRA4ONzdz+FREAhBxxkuhBDQGxDfoHohkdASplXnQgYQ0D0PaqZOQJAQAjlDZcRiD1AlNLKQZkXOUAcF9xjTJo4QBjc//+bazRAfIvPR8b7MUAUR4wRs6k1QPgKDV0KpzRAhC6xb9SsPkAAcjBOXnNAQORAWXk5BT9A",
          "dtype": "f8"
         },
         "yaxis": "y3"
        }
       ],
       "layout": {
        "height": 800,
        "shapes": [
         {
          "line": {
           "color": "green",
           "dash": "dash",
           "width": 1
          },
          "type": "line",
          "x0": 0,
          "x1": 1,
          "xref": "x3 domain",
          "y0": 30,
          "y1": 30,
          "yref": "y3"
         },
         {
          "line": {
           "color": "red",
           "dash": "dash",
           "width": 1
          },
          "type": "line",
          "x0": 0,
          "x1": 1,
          "xref": "x3 domain",
          "y0": 70,
          "y1": 70,
          "yref": "y3"
         }
        ],
        "showlegend": false,
        "template": {
         "data": {
          "bar": [
           {
            "error_x": {
             "color": "#2a3f5f"
            },
            "error_y": {
             "color": "#2a3f5f"
            },
            "marker": {
             "line": {
              "color": "#E5ECF6",
              "width": 0.5
             },
             "pattern": {
              "fillmode": "overlay",
              "size": 10,
              "solidity": 0.2
             }
            },
            "type": "bar"
           }
          ],
          "barpolar": [
           {
            "marker": {
             "line": {
              "color": "#E5ECF6",
              "width": 0.5
             },
             "pattern": {
              "fillmode": "overlay",
              "size": 10,
              "solidity": 0.2
             }
            },
            "type": "barpolar"
           }
          ],
          "carpet": [
           {
            "aaxis": {
             "endlinecolor": "#2a3f5f",
             "gridcolor": "white",
             "linecolor": "white",
             "minorgridcolor": "white",
             "startlinecolor": "#2a3f5f"
            },
            "baxis": {
             "endlinecolor": "#2a3f5f",
             "gridcolor": "white",
             "linecolor": "white",
             "minorgridcolor": "white",
             "startlinecolor": "#2a3f5f"
            },
            "type": "carpet"
           }
          ],
          "choropleth": [
           {
            "colorbar": {
             "outlinewidth": 0,
             "ticks": ""
            },
            "type": "choropleth"
           }
          ],
          "contour": [
           {
            "colorbar": {
             "outlinewidth": 0,
             "ticks": ""
            },
            "colorscale": [
             [
              0,
              "#0d0887"
             ],
             [
              0.1111111111111111,
              "#46039f"
             ],
             [
              0.2222222222222222,
              "#7201a8"
             ],
             [
              0.3333333333333333,
              "#9c179e"
             ],
             [
              0.4444444444444444,
              "#bd3786"
             ],
             [
              0.5555555555555556,
              "#d8576b"
             ],
             [
              0.6666666666666666,
              "#ed7953"
             ],
             [
              0.7777777777777778,
              "#fb9f3a"
             ],
             [
              0.8888888888888888,
              "#fdca26"
             ],
             [
              1,
              "#f0f921"
             ]
            ],
            "type": "contour"
           }
          ],
          "contourcarpet": [
           {
            "colorbar": {
             "outlinewidth": 0,
             "ticks": ""
            },
            "type": "contourcarpet"
           }
          ],
          "heatmap": [
           {
            "colorbar": {
             "outlinewidth": 0,
             "ticks": ""
            },
            "colorscale": [
             [
              0,
              "#0d0887"
             ],
             [
              0.1111111111111111,
              "#46039f"
             ],
             [
              0.2222222222222222,
              "#7201a8"
             ],
             [
              0.3333333333333333,
              "#9c179e"
             ],
             [
              0.4444444444444444,
              "#bd3786"
             ],
             [
              0.5555555555555556,
              "#d8576b"
             ],
             [
              0.6666666666666666,
              "#ed7953"
             ],
             [
              0.7777777777777778,
              "#fb9f3a"
             ],
             [
              0.8888888888888888,
              "#fdca26"
             ],
             [
              1,
              "#f0f921"
             ]
            ],
            "type": "heatmap"
           }
          ],
          "histogram": [
           {
            "marker": {
             "pattern": {
              "fillmode": "overlay",
              "size": 10,
              "solidity": 0.2
             }
            },
            "type": "histogram"
           }
          ],
          "histogram2d": [
           {
            "colorbar": {
             "outlinewidth": 0,
             "ticks": ""
            },
            "colorscale": [
             [
              0,
              "#0d0887"
             ],
             [
              0.1111111111111111,
              "#46039f"
             ],
             [
              0.2222222222222222,
              "#7201a8"
             ],
             [
              0.3333333333333333,
              "#9c179e"
             ],
             [
              0.4444444444444444,
              "#bd3786"
             ],
             [
              0.5555555555555556,
              "#d8576b"
             ],
             [
              0.6666666666666666,
              "#ed7953"
             ],
             [
              0.7777777777777778,
              "#fb9f3a"
             ],
             [
              0.8888888888888888,
              "#fdca26"
             ],
             [
              1,
              "#f0f921"
             ]
            ],
            "type": "histogram2d"
           }
          ],
          "histogram2dcontour": [
           {
            "colorbar": {
             "outlinewidth": 0,
             "ticks": ""
            },
            "colorscale": [
             [
              0,
              "#0d0887"
             ],
             [
              0.1111111111111111,
              "#46039f"
             ],
             [
              0.2222222222222222,
              "#7201a8"
             ],
             [
              0.3333333333333333,
              "#9c179e"
             ],
             [
              0.4444444444444444,
              "#bd3786"
             ],
             [
              0.5555555555555556,
              "#d8576b"
             ],
             [
              0.6666666666666666,
              "#ed7953"
             ],
             [
              0.7777777777777778,
              "#fb9f3a"
             ],
             [
              0.8888888888888888,
              "#fdca26"
             ],
             [
              1,
              "#f0f921"
             ]
            ],
            "type": "histogram2dcontour"
           }
          ],
          "mesh3d": [
           {
            "colorbar": {
             "outlinewidth": 0,
             "ticks": ""
            },
            "type": "mesh3d"
           }
          ],
          "parcoords": [
           {
            "line": {
             "colorbar": {
              "outlinewidth": 0,
              "ticks": ""
             }
            },
            "type": "parcoords"
           }
          ],
          "pie": [
           {
            "automargin": true,
            "type": "pie"
           }
          ],
          "scatter": [
           {
            "fillpattern": {
             "fillmode": "overlay",
             "size": 10,
             "solidity": 0.2
            },
            "type": "scatter"
           }
          ],
          "scatter3d": [
           {
            "line": {
             "colorbar": {
              "outlinewidth": 0,
              "ticks": ""
             }
            },
            "marker": {
             "colorbar": {
              "outlinewidth": 0,
              "ticks": ""
             }
            },
            "type": "scatter3d"
           }
          ],
          "scattercarpet": [
           {
            "marker": {
             "colorbar": {
              "outlinewidth": 0,
              "ticks": ""
             }
            },
            "type": "scattercarpet"
           }
          ],
          "scattergeo": [
           {
            "marker": {
             "colorbar": {
              "outlinewidth": 0,
              "ticks": ""
             }
            },
            "type": "scattergeo"
           }
          ],
          "scattergl": [
           {
            "marker": {
             "colorbar": {
              "outlinewidth": 0,
              "ticks": ""
             }
            },
            "type": "scattergl"
           }
          ],
          "scattermap": [
           {
            "marker": {
             "colorbar": {
              "outlinewidth": 0,
              "ticks": ""
             }
            },
            "type": "scattermap"
           }
          ],
          "scattermapbox": [
           {
            "marker": {
             "colorbar": {
              "outlinewidth": 0,
              "ticks": ""
             }
            },
            "type": "scattermapbox"
           }
          ],
          "scatterpolar": [
           {
            "marker": {
             "colorbar": {
              "outlinewidth": 0,
              "ticks": ""
             }
            },
            "type": "scatterpolar"
           }
          ],
          "scatterpolargl": [
           {
            "marker": {
             "colorbar": {
              "outlinewidth": 0,
              "ticks": ""
             }
            },
            "type": "scatterpolargl"
           }
          ],
          "scatterternary": [
           {
            "marker": {
             "colorbar": {
              "outlinewidth": 0,
              "ticks": ""
             }
            },
            "type": "scatterternary"
           }
          ],
          "surface": [
           {
            "colorbar": {
             "outlinewidth": 0,
             "ticks": ""
            },
            "colorscale": [
             [
              0,
              "#0d0887"
             ],
             [
              0.1111111111111111,
              "#46039f"
             ],
             [
              0.2222222222222222,
              "#7201a8"
             ],
             [
              0.3333333333333333,
              "#9c179e"
             ],
             [
              0.4444444444444444,
              "#bd3786"
             ],
             [
              0.5555555555555556,
              "#d8576b"
             ],
             [
              0.6666666666666666,
              "#ed7953"
             ],
             [
              0.7777777777777778,
              "#fb9f3a"
             ],
             [
              0.8888888888888888,
              "#fdca26"
             ],
             [
              1,
              "#f0f921"
             ]
            ],
            "type": "surface"
           }
          ],
          "table": [
           {
            "cells": {
             "fill": {
              "color": "#EBF0F8"
             },
             "line": {
              "color": "white"
             }
            },
            "header": {
             "fill": {
              "color": "#C8D4E3"
             },
             "line": {
              "color": "white"
             }
            },
            "type": "table"
           }
          ]
         },
         "layout": {
          "annotationdefaults": {
           "arrowcolor": "#2a3f5f",
           "arrowhead": 0,
           "arrowwidth": 1
          },
          "autotypenumbers": "strict",
          "coloraxis": {
           "colorbar": {
            "outlinewidth": 0,
            "ticks": ""
           }
          },
          "colorscale": {
           "diverging": [
            [
             0,
             "#8e0152"
            ],
            [
             0.1,
             "#c51b7d"
            ],
            [
             0.2,
             "#de77ae"
            ],
            [
             0.3,
             "#f1b6da"
            ],
            [
             0.4,
             "#fde0ef"
            ],
            [
             0.5,
             "#f7f7f7"
            ],
            [
             0.6,
             "#e6f5d0"
            ],
            [
             0.7,
             "#b8e186"
            ],
            [
             0.8,
             "#7fbc41"
            ],
            [
             0.9,
             "#4d9221"
            ],
            [
             1,
             "#276419"
            ]
           ],
           "sequential": [
            [
             0,
             "#0d0887"
            ],
            [
             0.1111111111111111,
             "#46039f"
            ],
            [
             0.2222222222222222,
             "#7201a8"
            ],
            [
             0.3333333333333333,
             "#9c179e"
            ],
            [
             0.4444444444444444,
             "#bd3786"
            ],
            [
             0.5555555555555556,
             "#d8576b"
            ],
            [
             0.6666666666666666,
             "#ed7953"
            ],
            [
             0.7777777777777778,
             "#fb9f3a"
            ],
            [
             0.8888888888888888,
             "#fdca26"
            ],
            [
             1,
             "#f0f921"
            ]
           ],
           "sequentialminus": [
            [
             0,
             "#0d0887"
            ],
            [
             0.1111111111111111,
             "#46039f"
            ],
            [
             0.2222222222222222,
             "#7201a8"
            ],
            [
             0.3333333333333333,
             "#9c179e"
            ],
            [
             0.4444444444444444,
             "#bd3786"
            ],
            [
             0.5555555555555556,
             "#d8576b"
            ],
            [
             0.6666666666666666,
             "#ed7953"
            ],
            [
             0.7777777777777778,
             "#fb9f3a"
            ],
            [
             0.8888888888888888,
             "#fdca26"
            ],
            [
             1,
             "#f0f921"
            ]
           ]
          },
          "colorway": [
           "#636efa",
           "#EF553B",
           "#00cc96",
           "#ab63fa",
           "#FFA15A",
           "#19d3f3",
           "#FF6692",
           "#B6E880",
           "#FF97FF",
           "#FECB52"
          ],
          "font": {
           "color": "#2a3f5f"
          },
          "geo": {
           "bgcolor": "white",
           "lakecolor": "white",
           "landcolor": "#E5ECF6",
           "showlakes": true,
           "showland": true,
           "subunitcolor": "white"
          },
          "hoverlabel": {
           "align": "left"
          },
          "hovermode": "closest",
          "mapbox": {
           "style": "light"
          },
          "paper_bgcolor": "white",
          "plot_bgcolor": "#E5ECF6",
          "polar": {
           "angularaxis": {
            "gridcolor": "white",
            "linecolor": "white",
            "ticks": ""
           },
           "bgcolor": "#E5ECF6",
           "radialaxis": {
            "gridcolor": "white",
            "linecolor": "white",
            "ticks": ""
           }
          },
          "scene": {
           "xaxis": {
            "backgroundcolor": "#E5ECF6",
            "gridcolor": "white",
            "gridwidth": 2,
            "linecolor": "white",
            "showbackground": true,
            "ticks": "",
            "zerolinecolor": "white"
           },
           "yaxis": {
            "backgroundcolor": "#E5ECF6",
            "gridcolor": "white",
            "gridwidth": 2,
            "linecolor": "white",
            "showbackground": true,
            "ticks": "",
            "zerolinecolor": "white"
           },
           "zaxis": {
            "backgroundcolor": "#E5ECF6",
            "gridcolor": "white",
            "gridwidth": 2,
            "linecolor": "white",
            "showbackground": true,
            "ticks": "",
            "zerolinecolor": "white"
           }
          },
          "shapedefaults": {
           "line": {
            "color": "#2a3f5f"
           }
          },
          "ternary": {
           "aaxis": {
            "gridcolor": "white",
            "linecolor": "white",
            "ticks": ""
           },
           "baxis": {
            "gridcolor": "white",
            "linecolor": "white",
            "ticks": ""
           },
           "bgcolor": "#E5ECF6",
           "caxis": {
            "gridcolor": "white",
            "linecolor": "white",
            "ticks": ""
           }
          },
          "title": {
           "x": 0.05
          },
          "xaxis": {
           "automargin": true,
           "gridcolor": "white",
           "linecolor": "white",
           "ticks": "",
           "title": {
            "standoff": 15
           },
           "zerolinecolor": "white",
           "zerolinewidth": 2
          },
          "yaxis": {
           "automargin": true,
           "gridcolor": "white",
           "linecolor": "white",
           "ticks": "",
           "title": {
            "standoff": 15
           },
           "zerolinecolor": "white",
           "zerolinewidth": 2
          }
         }
        },
        "title": {
         "text": "0P0001CLDK.F 2025"
        },
        "width": 1300,
        "xaxis": {
         "anchor": "y",
         "domain": [
          0,
          1
         ],
         "matches": "x3",
         "showticklabels": false
        },
        "xaxis2": {
         "anchor": "y2",
         "domain": [
          0,
          1
         ],
         "matches": "x3",
         "showticklabels": false
        },
        "xaxis3": {
         "anchor": "y3",
         "domain": [
          0,
          1
         ]
        },
        "yaxis": {
         "anchor": "x",
         "domain": [
          0.505,
          1
         ],
         "title": {
          "text": "Price"
         }
        },
        "yaxis2": {
         "anchor": "x2",
         "domain": [
          0.2525,
          0.495
         ],
         "title": {
          "text": "Volume"
         }
        },
        "yaxis3": {
         "anchor": "x3",
         "domain": [
          0,
          0.2425
         ],
         "title": {
          "text": "RSI"
         }
        }
       }
      },
      "text/html": [
       "<div>            <script src=\"https://cdnjs.cloudflare.com/ajax/libs/mathjax/2.7.5/MathJax.js?config=TeX-AMS-MML_SVG\"></script><script type=\"text/javascript\">if (window.MathJax && window.MathJax.Hub && window.MathJax.Hub.Config) {window.MathJax.Hub.Config({SVG: {font: \"STIX-Web\"}});}</script>                <script type=\"text/javascript\">window.PlotlyConfig = {MathJaxConfig: 'local'};</script>\n",
       "        <script charset=\"utf-8\" src=\"https://cdn.plot.ly/plotly-3.0.0.min.js\"></script>                <div id=\"b90e6b28-130e-4dac-95bb-9a242ff41f58\" class=\"plotly-graph-div\" style=\"height:800px; width:1300px;\"></div>            <script type=\"text/javascript\">                window.PLOTLYENV=window.PLOTLYENV || {};                                if (document.getElementById(\"b90e6b28-130e-4dac-95bb-9a242ff41f58\")) {                    Plotly.newPlot(                        \"b90e6b28-130e-4dac-95bb-9a242ff41f58\",                        [{\"mode\":\"lines\",\"name\":\"0P0001CLDK.F\",\"x\":[\"2025-01-02T00:00:00.000000000\",\"2025-01-03T00:00:00.000000000\",\"2025-01-06T00:00:00.000000000\",\"2025-01-07T00:00:00.000000000\",\"2025-01-08T00:00:00.000000000\",\"2025-01-09T00:00:00.000000000\",\"2025-01-10T00:00:00.000000000\",\"2025-01-13T00:00:00.000000000\",\"2025-01-14T00:00:00.000000000\",\"2025-01-15T00:00:00.000000000\",\"2025-01-16T00:00:00.000000000\",\"2025-01-17T00:00:00.000000000\",\"2025-01-20T00:00:00.000000000\",\"2025-01-21T00:00:00.000000000\",\"2025-01-22T00:00:00.000000000\",\"2025-01-23T00:00:00.000000000\",\"2025-01-24T00:00:00.000000000\",\"2025-01-27T00:00:00.000000000\",\"2025-01-28T00:00:00.000000000\",\"2025-01-29T00:00:00.000000000\",\"2025-01-30T00:00:00.000000000\",\"2025-01-31T00:00:00.000000000\",\"2025-02-03T00:00:00.000000000\",\"2025-02-04T00:00:00.000000000\",\"2025-02-05T00:00:00.000000000\",\"2025-02-06T00:00:00.000000000\",\"2025-02-07T00:00:00.000000000\",\"2025-02-10T00:00:00.000000000\",\"2025-02-11T00:00:00.000000000\",\"2025-02-12T00:00:00.000000000\",\"2025-02-13T00:00:00.000000000\",\"2025-02-14T00:00:00.000000000\",\"2025-02-17T00:00:00.000000000\",\"2025-02-18T00:00:00.000000000\",\"2025-02-19T00:00:00.000000000\",\"2025-02-20T00:00:00.000000000\",\"2025-02-21T00:00:00.000000000\",\"2025-02-24T00:00:00.000000000\",\"2025-02-25T00:00:00.000000000\",\"2025-02-26T00:00:00.000000000\",\"2025-02-27T00:00:00.000000000\",\"2025-02-28T00:00:00.000000000\",\"2025-03-03T00:00:00.000000000\",\"2025-03-04T00:00:00.000000000\",\"2025-03-05T00:00:00.000000000\",\"2025-03-06T00:00:00.000000000\",\"2025-03-07T00:00:00.000000000\",\"2025-03-10T00:00:00.000000000\",\"2025-03-11T00:00:00.000000000\",\"2025-03-12T00:00:00.000000000\",\"2025-03-13T00:00:00.000000000\",\"2025-03-14T00:00:00.000000000\",\"2025-03-17T00:00:00.000000000\",\"2025-03-18T00:00:00.000000000\"],\"y\":{\"dtype\":\"f8\",\"bdata\":\"AAAA4MljJ0AAAABALJQnQAAAAKBOgCdAAAAAoHBdJ0AAAADgOIUnQAEAAAC8hSdA\\u002f\\u002f\\u002f\\u002fnzxMJ0ABAACglGUnQAAAAID7OidAAAAAYPyYJ0ABAACA2Z0nQAAAAKCQzydAAAAAADKmJ0AAAABALNQnQAAAAMBk6idAAAAAYDkUKEABAAAAzM4nQP\\u002f\\u002f\\u002fz8llSdAAAAAgATlJ0AAAACA4NwnQAAAACBD\\u002fCdAAAAAIIf2J0AAAADAjeYnQAAAAGB27ydAAAAAoAj7J0AAAACgbjIoQAAAAABPDyhAAAAAIG5DKEAAAABgqDUoQAEAAKC0FyhAAAAAYMw9KEAAAAAAzhkoQAAAAMAgMChAAQAAoJRFKEAAAAAgZVkoQAAAAIBsJyhAAAAAQILiJ0AAAACgtsInQAAAAGBdnCdAAAAAQAyiJ0AAAAAA3oInQAAAACCuxydAAAAAwNFgJ0AAAAAgIf8mQAAAAEDfzyZAAQAA4OBrJkAAAAAgl18mQAEAAEDI5yVAAQAAoBqPJUAAAACAg68lQAAAAMCxjiVAAAAAgCjtJUD\\u002f\\u002f\\u002f+\\u002fMgQmQAEAAEDN2yVA\"},\"type\":\"scatter\",\"xaxis\":\"x\",\"yaxis\":\"y\"},{\"mode\":\"lines\",\"name\":\"BB_Lower\",\"x\":[\"2025-01-02T00:00:00.000000000\",\"2025-01-03T00:00:00.000000000\",\"2025-01-06T00:00:00.000000000\",\"2025-01-07T00:00:00.000000000\",\"2025-01-08T00:00:00.000000000\",\"2025-01-09T00:00:00.000000000\",\"2025-01-10T00:00:00.000000000\",\"2025-01-13T00:00:00.000000000\",\"2025-01-14T00:00:00.000000000\",\"2025-01-15T00:00:00.000000000\",\"2025-01-16T00:00:00.000000000\",\"2025-01-17T00:00:00.000000000\",\"2025-01-20T00:00:00.000000000\",\"2025-01-21T00:00:00.000000000\",\"2025-01-22T00:00:00.000000000\",\"2025-01-23T00:00:00.000000000\",\"2025-01-24T00:00:00.000000000\",\"2025-01-27T00:00:00.000000000\",\"2025-01-28T00:00:00.000000000\",\"2025-01-29T00:00:00.000000000\",\"2025-01-30T00:00:00.000000000\",\"2025-01-31T00:00:00.000000000\",\"2025-02-03T00:00:00.000000000\",\"2025-02-04T00:00:00.000000000\",\"2025-02-05T00:00:00.000000000\",\"2025-02-06T00:00:00.000000000\",\"2025-02-07T00:00:00.000000000\",\"2025-02-10T00:00:00.000000000\",\"2025-02-11T00:00:00.000000000\",\"2025-02-12T00:00:00.000000000\",\"2025-02-13T00:00:00.000000000\",\"2025-02-14T00:00:00.000000000\",\"2025-02-17T00:00:00.000000000\",\"2025-02-18T00:00:00.000000000\",\"2025-02-19T00:00:00.000000000\",\"2025-02-20T00:00:00.000000000\",\"2025-02-21T00:00:00.000000000\",\"2025-02-24T00:00:00.000000000\",\"2025-02-25T00:00:00.000000000\",\"2025-02-26T00:00:00.000000000\",\"2025-02-27T00:00:00.000000000\",\"2025-02-28T00:00:00.000000000\",\"2025-03-03T00:00:00.000000000\",\"2025-03-04T00:00:00.000000000\",\"2025-03-05T00:00:00.000000000\",\"2025-03-06T00:00:00.000000000\",\"2025-03-07T00:00:00.000000000\",\"2025-03-10T00:00:00.000000000\",\"2025-03-11T00:00:00.000000000\",\"2025-03-12T00:00:00.000000000\",\"2025-03-13T00:00:00.000000000\",\"2025-03-14T00:00:00.000000000\",\"2025-03-17T00:00:00.000000000\",\"2025-03-18T00:00:00.000000000\"],\"y\":{\"dtype\":\"f8\",\"bdata\":\"AAAAAAAA+H8AAAAAAAD4fwAAAAAAAPh\\u002fAAAAAAAA+H8AAAAAAAD4fwAAAAAAAPh\\u002fAAAAAAAA+H8AAAAAAAD4fwAAAAAAAPh\\u002fAAAAAAAA+H8AAAAAAAD4fwAAAAAAAPh\\u002fAAAAAAAA+H8AAAAAAAD4fwAAAAAAAPh\\u002fAAAAAAAA+H8AAAAAAAD4fwAAAAAAAPh\\u002fAAAAAAAA+H\\u002fmtzjxVCwnQOMnW\\u002fKWMCdAQ1j\\u002f8fMwJ0D7O2GLPDUnQJSNJa7uPydA6BQLZd5EJ0CYMtfhbEYnQA+wTRCeWSdA0\\u002f\\u002fVyk9lJ0AT\\u002f7OEBoUnQPWXccVYkCdAp3obx\\u002fSZJ0B2XYdtQ54nQN10JEPlqidAHB1oQUGuJ0CDnkcC6K0nQMvNTJwtridASx5zgWSxJ0Dt+bzTAb4nQH4ONeuerSdAidn\\u002f4rehJ0B5AvA5LIwnQOMFG3sShydAq1\\u002fIw\\u002f5tJ0AP5JfTMjwnQJhL6i8HBidAq\\u002fQjpVy9JkDLHzfBUn8mQGgaMGF\\u002fLSZAzoMh8unSJUBZOuA2r48lQLbAndvdUSVAYNBzv3UuJUCTSvaHrRYlQNnMk9FvASVA\"},\"type\":\"scatter\",\"xaxis\":\"x\",\"yaxis\":\"y\"},{\"mode\":\"lines\",\"name\":\"BB_Upper\",\"x\":[\"2025-01-02T00:00:00.000000000\",\"2025-01-03T00:00:00.000000000\",\"2025-01-06T00:00:00.000000000\",\"2025-01-07T00:00:00.000000000\",\"2025-01-08T00:00:00.000000000\",\"2025-01-09T00:00:00.000000000\",\"2025-01-10T00:00:00.000000000\",\"2025-01-13T00:00:00.000000000\",\"2025-01-14T00:00:00.000000000\",\"2025-01-15T00:00:00.000000000\",\"2025-01-16T00:00:00.000000000\",\"2025-01-17T00:00:00.000000000\",\"2025-01-20T00:00:00.000000000\",\"2025-01-21T00:00:00.000000000\",\"2025-01-22T00:00:00.000000000\",\"2025-01-23T00:00:00.000000000\",\"2025-01-24T00:00:00.000000000\",\"2025-01-27T00:00:00.000000000\",\"2025-01-28T00:00:00.000000000\",\"2025-01-29T00:00:00.000000000\",\"2025-01-30T00:00:00.000000000\",\"2025-01-31T00:00:00.000000000\",\"2025-02-03T00:00:00.000000000\",\"2025-02-04T00:00:00.000000000\",\"2025-02-05T00:00:00.000000000\",\"2025-02-06T00:00:00.000000000\",\"2025-02-07T00:00:00.000000000\",\"2025-02-10T00:00:00.000000000\",\"2025-02-11T00:00:00.000000000\",\"2025-02-12T00:00:00.000000000\",\"2025-02-13T00:00:00.000000000\",\"2025-02-14T00:00:00.000000000\",\"2025-02-17T00:00:00.000000000\",\"2025-02-18T00:00:00.000000000\",\"2025-02-19T00:00:00.000000000\",\"2025-02-20T00:00:00.000000000\",\"2025-02-21T00:00:00.000000000\",\"2025-02-24T00:00:00.000000000\",\"2025-02-25T00:00:00.000000000\",\"2025-02-26T00:00:00.000000000\",\"2025-02-27T00:00:00.000000000\",\"2025-02-28T00:00:00.000000000\",\"2025-03-03T00:00:00.000000000\",\"2025-03-04T00:00:00.000000000\",\"2025-03-05T00:00:00.000000000\",\"2025-03-06T00:00:00.000000000\",\"2025-03-07T00:00:00.000000000\",\"2025-03-10T00:00:00.000000000\",\"2025-03-11T00:00:00.000000000\",\"2025-03-12T00:00:00.000000000\",\"2025-03-13T00:00:00.000000000\",\"2025-03-14T00:00:00.000000000\",\"2025-03-17T00:00:00.000000000\",\"2025-03-18T00:00:00.000000000\"],\"y\":{\"dtype\":\"f8\",\"bdata\":\"AAAAAAAA+H8AAAAAAAD4fwAAAAAAAPh\\u002fAAAAAAAA+H8AAAAAAAD4fwAAAAAAAPh\\u002fAAAAAAAA+H8AAAAAAAD4fwAAAAAAAPh\\u002fAAAAAAAA+H8AAAAAAAD4fwAAAAAAAPh\\u002fAAAAAAAA+H8AAAAAAAD4fwAAAAAAAPh\\u002fAAAAAAAA+H8AAAAAAAD4fwAAAAAAAPh\\u002fAAAAAAAA+H+Ari1FVhIoQLdxPpdTHShAiXTNeswmKEAFxJ5kvSwoQDg\\u002fp26lMChAflFbsX03KEDOM49ENEcoQL0cf+yERyhAk2aQiwJSKEDtAEwbXUsoQHHO9OC2TChAv+tKjxlTKECKonhyN1YoQFe+DrBgVyhA5OKX7ltfKECxlOvQzmooQJuYGbp0bChAG0jzdDZrKEATBkOsJ2MoQOhXMatGbChAdyYArUtyKEAhl6mfs3soQOnGsREefChAidNqL9KHKEC96DSZlaEoQJznSLPWuShAVQvcqgzVKEBpE\\u002fyR6ucoQJjlz45g\\u002fShAmOJEBBsUKUDb+FI8txkpQLClyLrSEilAoC+MsJD+KECh6Dwbwd4oQCczbK43tihA\"},\"type\":\"scatter\",\"xaxis\":\"x\",\"yaxis\":\"y\"},{\"mode\":\"lines\",\"name\":\"MMA20\",\"x\":[\"2025-01-02T00:00:00.000000000\",\"2025-01-03T00:00:00.000000000\",\"2025-01-06T00:00:00.000000000\",\"2025-01-07T00:00:00.000000000\",\"2025-01-08T00:00:00.000000000\",\"2025-01-09T00:00:00.000000000\",\"2025-01-10T00:00:00.000000000\",\"2025-01-13T00:00:00.000000000\",\"2025-01-14T00:00:00.000000000\",\"2025-01-15T00:00:00.000000000\",\"2025-01-16T00:00:00.000000000\",\"2025-01-17T00:00:00.000000000\",\"2025-01-20T00:00:00.000000000\",\"2025-01-21T00:00:00.000000000\",\"2025-01-22T00:00:00.000000000\",\"2025-01-23T00:00:00.000000000\",\"2025-01-24T00:00:00.000000000\",\"2025-01-27T00:00:00.000000000\",\"2025-01-28T00:00:00.000000000\",\"2025-01-29T00:00:00.000000000\",\"2025-01-30T00:00:00.000000000\",\"2025-01-31T00:00:00.000000000\",\"2025-02-03T00:00:00.000000000\",\"2025-02-04T00:00:00.000000000\",\"2025-02-05T00:00:00.000000000\",\"2025-02-06T00:00:00.000000000\",\"2025-02-07T00:00:00.000000000\",\"2025-02-10T00:00:00.000000000\",\"2025-02-11T00:00:00.000000000\",\"2025-02-12T00:00:00.000000000\",\"2025-02-13T00:00:00.000000000\",\"2025-02-14T00:00:00.000000000\",\"2025-02-17T00:00:00.000000000\",\"2025-02-18T00:00:00.000000000\",\"2025-02-19T00:00:00.000000000\",\"2025-02-20T00:00:00.000000000\",\"2025-02-21T00:00:00.000000000\",\"2025-02-24T00:00:00.000000000\",\"2025-02-25T00:00:00.000000000\",\"2025-02-26T00:00:00.000000000\",\"2025-02-27T00:00:00.000000000\",\"2025-02-28T00:00:00.000000000\",\"2025-03-03T00:00:00.000000000\",\"2025-03-04T00:00:00.000000000\",\"2025-03-05T00:00:00.000000000\",\"2025-03-06T00:00:00.000000000\",\"2025-03-07T00:00:00.000000000\",\"2025-03-10T00:00:00.000000000\",\"2025-03-11T00:00:00.000000000\",\"2025-03-12T00:00:00.000000000\",\"2025-03-13T00:00:00.000000000\",\"2025-03-14T00:00:00.000000000\",\"2025-03-17T00:00:00.000000000\",\"2025-03-18T00:00:00.000000000\"],\"y\":{\"dtype\":\"f8\",\"bdata\":\"AAAAAAAA+H8AAAAAAAD4fwAAAAAAAPh\\u002fAAAAAAAA+H8AAAAAAAD4fwAAAAAAAPh\\u002fAAAAAAAA+H8AAAAAAAD4fwAAAAAAAPh\\u002fAAAAAAAA+H8AAAAAAAD4fwAAAAAAAPh\\u002fAAAAAAAA+H8AAAAAAAD4fwAAAAAAAPh\\u002fAAAAAAAA+H8AAAAAAAD4fwAAAAAAAPh\\u002fAAAAAAAA+H8zMzObVZ8nQM3MzET1pidAZmZmNuCrJ0AAAAD4\\u002fLAnQGZmZg5KuCdAMzMzCy6+J0AzMzOT0MYnQGZmZn6R0CdAMzMzK6nbJ0AAAADQMegnQDMzM9OH7idAMzMzK4f2J0AAAABwPfonQJqZmfkiAShAAAAAmM4GKECamZlpWwwoQDMzMytRDShAMzMze00OKEAAAADAlBAoQDMzM8vyDChAAAAAyAEKKEDNzMzs7wMoQGZmZkaYAShAmpmZeej6J0BmZmY25O4nQJqZmfHu3ydAAAAAqDTJJ0CamZmpnrMnQAAAAPhvlSdAMzMze4JzJ0CamZk5s1QnQDMzM0tYMidAAAAAOIMWJ0CamZlRt\\u002fomQAAAAMDT2yZA\"},\"type\":\"scatter\",\"xaxis\":\"x\",\"yaxis\":\"y\"},{\"mode\":\"lines\",\"name\":\"Volume\",\"x\":[\"2025-01-02T00:00:00.000000000\",\"2025-01-03T00:00:00.000000000\",\"2025-01-06T00:00:00.000000000\",\"2025-01-07T00:00:00.000000000\",\"2025-01-08T00:00:00.000000000\",\"2025-01-09T00:00:00.000000000\",\"2025-01-10T00:00:00.000000000\",\"2025-01-13T00:00:00.000000000\",\"2025-01-14T00:00:00.000000000\",\"2025-01-15T00:00:00.000000000\",\"2025-01-16T00:00:00.000000000\",\"2025-01-17T00:00:00.000000000\",\"2025-01-20T00:00:00.000000000\",\"2025-01-21T00:00:00.000000000\",\"2025-01-22T00:00:00.000000000\",\"2025-01-23T00:00:00.000000000\",\"2025-01-24T00:00:00.000000000\",\"2025-01-27T00:00:00.000000000\",\"2025-01-28T00:00:00.000000000\",\"2025-01-29T00:00:00.000000000\",\"2025-01-30T00:00:00.000000000\",\"2025-01-31T00:00:00.000000000\",\"2025-02-03T00:00:00.000000000\",\"2025-02-04T00:00:00.000000000\",\"2025-02-05T00:00:00.000000000\",\"2025-02-06T00:00:00.000000000\",\"2025-02-07T00:00:00.000000000\",\"2025-02-10T00:00:00.000000000\",\"2025-02-11T00:00:00.000000000\",\"2025-02-12T00:00:00.000000000\",\"2025-02-13T00:00:00.000000000\",\"2025-02-14T00:00:00.000000000\",\"2025-02-17T00:00:00.000000000\",\"2025-02-18T00:00:00.000000000\",\"2025-02-19T00:00:00.000000000\",\"2025-02-20T00:00:00.000000000\",\"2025-02-21T00:00:00.000000000\",\"2025-02-24T00:00:00.000000000\",\"2025-02-25T00:00:00.000000000\",\"2025-02-26T00:00:00.000000000\",\"2025-02-27T00:00:00.000000000\",\"2025-02-28T00:00:00.000000000\",\"2025-03-03T00:00:00.000000000\",\"2025-03-04T00:00:00.000000000\",\"2025-03-05T00:00:00.000000000\",\"2025-03-06T00:00:00.000000000\",\"2025-03-07T00:00:00.000000000\",\"2025-03-10T00:00:00.000000000\",\"2025-03-11T00:00:00.000000000\",\"2025-03-12T00:00:00.000000000\",\"2025-03-13T00:00:00.000000000\",\"2025-03-14T00:00:00.000000000\",\"2025-03-17T00:00:00.000000000\",\"2025-03-18T00:00:00.000000000\"],\"y\":{\"dtype\":\"i1\",\"bdata\":\"AAAAAAAAAAAAAAAAAAAAAAAAAAAAAAAAAAAAAAAAAAAAAAAAAAAAAAAAAAAAAAAAAAAAAAAA\"},\"type\":\"scatter\",\"xaxis\":\"x2\",\"yaxis\":\"y2\"},{\"mode\":\"lines\",\"name\":\"MMA20\",\"x\":[\"2025-01-02T00:00:00.000000000\",\"2025-01-03T00:00:00.000000000\",\"2025-01-06T00:00:00.000000000\",\"2025-01-07T00:00:00.000000000\",\"2025-01-08T00:00:00.000000000\",\"2025-01-09T00:00:00.000000000\",\"2025-01-10T00:00:00.000000000\",\"2025-01-13T00:00:00.000000000\",\"2025-01-14T00:00:00.000000000\",\"2025-01-15T00:00:00.000000000\",\"2025-01-16T00:00:00.000000000\",\"2025-01-17T00:00:00.000000000\",\"2025-01-20T00:00:00.000000000\",\"2025-01-21T00:00:00.000000000\",\"2025-01-22T00:00:00.000000000\",\"2025-01-23T00:00:00.000000000\",\"2025-01-24T00:00:00.000000000\",\"2025-01-27T00:00:00.000000000\",\"2025-01-28T00:00:00.000000000\",\"2025-01-29T00:00:00.000000000\",\"2025-01-30T00:00:00.000000000\",\"2025-01-31T00:00:00.000000000\",\"2025-02-03T00:00:00.000000000\",\"2025-02-04T00:00:00.000000000\",\"2025-02-05T00:00:00.000000000\",\"2025-02-06T00:00:00.000000000\",\"2025-02-07T00:00:00.000000000\",\"2025-02-10T00:00:00.000000000\",\"2025-02-11T00:00:00.000000000\",\"2025-02-12T00:00:00.000000000\",\"2025-02-13T00:00:00.000000000\",\"2025-02-14T00:00:00.000000000\",\"2025-02-17T00:00:00.000000000\",\"2025-02-18T00:00:00.000000000\",\"2025-02-19T00:00:00.000000000\",\"2025-02-20T00:00:00.000000000\",\"2025-02-21T00:00:00.000000000\",\"2025-02-24T00:00:00.000000000\",\"2025-02-25T00:00:00.000000000\",\"2025-02-26T00:00:00.000000000\",\"2025-02-27T00:00:00.000000000\",\"2025-02-28T00:00:00.000000000\",\"2025-03-03T00:00:00.000000000\",\"2025-03-04T00:00:00.000000000\",\"2025-03-05T00:00:00.000000000\",\"2025-03-06T00:00:00.000000000\",\"2025-03-07T00:00:00.000000000\",\"2025-03-10T00:00:00.000000000\",\"2025-03-11T00:00:00.000000000\",\"2025-03-12T00:00:00.000000000\",\"2025-03-13T00:00:00.000000000\",\"2025-03-14T00:00:00.000000000\",\"2025-03-17T00:00:00.000000000\",\"2025-03-18T00:00:00.000000000\"],\"y\":{\"dtype\":\"f8\",\"bdata\":\"AAAAAAAA+H8AAAAAAAD4fwAAAAAAAPh\\u002fAAAAAAAA+H8AAAAAAAD4fwAAAAAAAPh\\u002fAAAAAAAA+H8AAAAAAAD4fwAAAAAAAPh\\u002fAAAAAAAA+H8AAAAAAAD4fwAAAAAAAPh\\u002fAAAAAAAA+H8AAAAAAAD4fwAAAAAAAPh\\u002fAAAAAAAA+H8AAAAAAAD4fwAAAAAAAPh\\u002fAAAAAAAA+H8AAAAAAAAAAAAAAAAAAAAAAAAAAAAAAAAAAAAAAAAAAAAAAAAAAAAAAAAAAAAAAAAAAAAAAAAAAAAAAAAAAAAAAAAAAAAAAAAAAAAAAAAAAAAAAAAAAAAAAAAAAAAAAAAAAAAAAAAAAAAAAAAAAAAAAAAAAAAAAAAAAAAAAAAAAAAAAAAAAAAAAAAAAAAAAAAAAAAAAAAAAAAAAAAAAAAAAAAAAAAAAAAAAAAAAAAAAAAAAAAAAAAAAAAAAAAAAAAAAAAAAAAAAAAAAAAAAAAAAAAAAAAAAAAAAAAAAAAAAAAAAAAAAAAAAAAAAAAAAAAAAAAAAAAAAAAAAAAAAAAAAAAAAAAAAAAAAAAAAAAAAAAAAAAAAAAA\"},\"type\":\"scatter\",\"xaxis\":\"x2\",\"yaxis\":\"y2\"},{\"mode\":\"lines\",\"name\":\"RSI\",\"x\":[\"2025-01-02T00:00:00.000000000\",\"2025-01-03T00:00:00.000000000\",\"2025-01-06T00:00:00.000000000\",\"2025-01-07T00:00:00.000000000\",\"2025-01-08T00:00:00.000000000\",\"2025-01-09T00:00:00.000000000\",\"2025-01-10T00:00:00.000000000\",\"2025-01-13T00:00:00.000000000\",\"2025-01-14T00:00:00.000000000\",\"2025-01-15T00:00:00.000000000\",\"2025-01-16T00:00:00.000000000\",\"2025-01-17T00:00:00.000000000\",\"2025-01-20T00:00:00.000000000\",\"2025-01-21T00:00:00.000000000\",\"2025-01-22T00:00:00.000000000\",\"2025-01-23T00:00:00.000000000\",\"2025-01-24T00:00:00.000000000\",\"2025-01-27T00:00:00.000000000\",\"2025-01-28T00:00:00.000000000\",\"2025-01-29T00:00:00.000000000\",\"2025-01-30T00:00:00.000000000\",\"2025-01-31T00:00:00.000000000\",\"2025-02-03T00:00:00.000000000\",\"2025-02-04T00:00:00.000000000\",\"2025-02-05T00:00:00.000000000\",\"2025-02-06T00:00:00.000000000\",\"2025-02-07T00:00:00.000000000\",\"2025-02-10T00:00:00.000000000\",\"2025-02-11T00:00:00.000000000\",\"2025-02-12T00:00:00.000000000\",\"2025-02-13T00:00:00.000000000\",\"2025-02-14T00:00:00.000000000\",\"2025-02-17T00:00:00.000000000\",\"2025-02-18T00:00:00.000000000\",\"2025-02-19T00:00:00.000000000\",\"2025-02-20T00:00:00.000000000\",\"2025-02-21T00:00:00.000000000\",\"2025-02-24T00:00:00.000000000\",\"2025-02-25T00:00:00.000000000\",\"2025-02-26T00:00:00.000000000\",\"2025-02-27T00:00:00.000000000\",\"2025-02-28T00:00:00.000000000\",\"2025-03-03T00:00:00.000000000\",\"2025-03-04T00:00:00.000000000\",\"2025-03-05T00:00:00.000000000\",\"2025-03-06T00:00:00.000000000\",\"2025-03-07T00:00:00.000000000\",\"2025-03-10T00:00:00.000000000\",\"2025-03-11T00:00:00.000000000\",\"2025-03-12T00:00:00.000000000\",\"2025-03-13T00:00:00.000000000\",\"2025-03-14T00:00:00.000000000\",\"2025-03-17T00:00:00.000000000\",\"2025-03-18T00:00:00.000000000\"],\"y\":{\"dtype\":\"f8\",\"bdata\":\"AAAAAAAA+H8AAAAAAAD4fwAAAAAAAPh\\u002fAAAAAAAA+H8AAAAAAAD4fwAAAAAAAPh\\u002fAAAAAAAA+H8AAAAAAAD4fwAAAAAAAPh\\u002fAAAAAAAA+H8AAAAAAAD4fwAAAAAAAPh\\u002fAAAAAAAA+H9Z9xmGPqFPQCfVUw1aaFBAeIB+PdFmUUB7kYwnBNdMQE3JQNAMAklAg605q4okTUDtIW41e59MQFZKgXfJGE5APzOZt6mxTUDghUHfN4xMQDCdXWioCE1ANL8cV42tTUAuZfNZdjpQQA\\u002f0P4prr01AB8NJ0PEPUEC6MIAGKxBPQH4ttnYA1UxAMzG1T1e6TkDShOeSTilMQKSuTr22UE1AK5ub7ERjTkBu4siwgVlPQFIfUBwnqktA7lgg\\u002fYuNR0AVxIyO5u5FQOaSR458IkRA4ONzdz+FREAhBxxkuhBDQGxDfoHohkdASplXnQgYQ0D0PaqZOQJAQAjlDZcRiD1AlNLKQZkXOUAcF9xjTJo4QBjc\\u002f\\u002f+bazRAfIvPR8b7MUAUR4wRs6k1QPgKDV0KpzRAhC6xb9SsPkAAcjBOXnNAQORAWXk5BT9A\"},\"type\":\"scatter\",\"xaxis\":\"x3\",\"yaxis\":\"y3\"}],                        {\"template\":{\"data\":{\"histogram2dcontour\":[{\"type\":\"histogram2dcontour\",\"colorbar\":{\"outlinewidth\":0,\"ticks\":\"\"},\"colorscale\":[[0.0,\"#0d0887\"],[0.1111111111111111,\"#46039f\"],[0.2222222222222222,\"#7201a8\"],[0.3333333333333333,\"#9c179e\"],[0.4444444444444444,\"#bd3786\"],[0.5555555555555556,\"#d8576b\"],[0.6666666666666666,\"#ed7953\"],[0.7777777777777778,\"#fb9f3a\"],[0.8888888888888888,\"#fdca26\"],[1.0,\"#f0f921\"]]}],\"choropleth\":[{\"type\":\"choropleth\",\"colorbar\":{\"outlinewidth\":0,\"ticks\":\"\"}}],\"histogram2d\":[{\"type\":\"histogram2d\",\"colorbar\":{\"outlinewidth\":0,\"ticks\":\"\"},\"colorscale\":[[0.0,\"#0d0887\"],[0.1111111111111111,\"#46039f\"],[0.2222222222222222,\"#7201a8\"],[0.3333333333333333,\"#9c179e\"],[0.4444444444444444,\"#bd3786\"],[0.5555555555555556,\"#d8576b\"],[0.6666666666666666,\"#ed7953\"],[0.7777777777777778,\"#fb9f3a\"],[0.8888888888888888,\"#fdca26\"],[1.0,\"#f0f921\"]]}],\"heatmap\":[{\"type\":\"heatmap\",\"colorbar\":{\"outlinewidth\":0,\"ticks\":\"\"},\"colorscale\":[[0.0,\"#0d0887\"],[0.1111111111111111,\"#46039f\"],[0.2222222222222222,\"#7201a8\"],[0.3333333333333333,\"#9c179e\"],[0.4444444444444444,\"#bd3786\"],[0.5555555555555556,\"#d8576b\"],[0.6666666666666666,\"#ed7953\"],[0.7777777777777778,\"#fb9f3a\"],[0.8888888888888888,\"#fdca26\"],[1.0,\"#f0f921\"]]}],\"contourcarpet\":[{\"type\":\"contourcarpet\",\"colorbar\":{\"outlinewidth\":0,\"ticks\":\"\"}}],\"contour\":[{\"type\":\"contour\",\"colorbar\":{\"outlinewidth\":0,\"ticks\":\"\"},\"colorscale\":[[0.0,\"#0d0887\"],[0.1111111111111111,\"#46039f\"],[0.2222222222222222,\"#7201a8\"],[0.3333333333333333,\"#9c179e\"],[0.4444444444444444,\"#bd3786\"],[0.5555555555555556,\"#d8576b\"],[0.6666666666666666,\"#ed7953\"],[0.7777777777777778,\"#fb9f3a\"],[0.8888888888888888,\"#fdca26\"],[1.0,\"#f0f921\"]]}],\"surface\":[{\"type\":\"surface\",\"colorbar\":{\"outlinewidth\":0,\"ticks\":\"\"},\"colorscale\":[[0.0,\"#0d0887\"],[0.1111111111111111,\"#46039f\"],[0.2222222222222222,\"#7201a8\"],[0.3333333333333333,\"#9c179e\"],[0.4444444444444444,\"#bd3786\"],[0.5555555555555556,\"#d8576b\"],[0.6666666666666666,\"#ed7953\"],[0.7777777777777778,\"#fb9f3a\"],[0.8888888888888888,\"#fdca26\"],[1.0,\"#f0f921\"]]}],\"mesh3d\":[{\"type\":\"mesh3d\",\"colorbar\":{\"outlinewidth\":0,\"ticks\":\"\"}}],\"scatter\":[{\"fillpattern\":{\"fillmode\":\"overlay\",\"size\":10,\"solidity\":0.2},\"type\":\"scatter\"}],\"parcoords\":[{\"type\":\"parcoords\",\"line\":{\"colorbar\":{\"outlinewidth\":0,\"ticks\":\"\"}}}],\"scatterpolargl\":[{\"type\":\"scatterpolargl\",\"marker\":{\"colorbar\":{\"outlinewidth\":0,\"ticks\":\"\"}}}],\"bar\":[{\"error_x\":{\"color\":\"#2a3f5f\"},\"error_y\":{\"color\":\"#2a3f5f\"},\"marker\":{\"line\":{\"color\":\"#E5ECF6\",\"width\":0.5},\"pattern\":{\"fillmode\":\"overlay\",\"size\":10,\"solidity\":0.2}},\"type\":\"bar\"}],\"scattergeo\":[{\"type\":\"scattergeo\",\"marker\":{\"colorbar\":{\"outlinewidth\":0,\"ticks\":\"\"}}}],\"scatterpolar\":[{\"type\":\"scatterpolar\",\"marker\":{\"colorbar\":{\"outlinewidth\":0,\"ticks\":\"\"}}}],\"histogram\":[{\"marker\":{\"pattern\":{\"fillmode\":\"overlay\",\"size\":10,\"solidity\":0.2}},\"type\":\"histogram\"}],\"scattergl\":[{\"type\":\"scattergl\",\"marker\":{\"colorbar\":{\"outlinewidth\":0,\"ticks\":\"\"}}}],\"scatter3d\":[{\"type\":\"scatter3d\",\"line\":{\"colorbar\":{\"outlinewidth\":0,\"ticks\":\"\"}},\"marker\":{\"colorbar\":{\"outlinewidth\":0,\"ticks\":\"\"}}}],\"scattermap\":[{\"type\":\"scattermap\",\"marker\":{\"colorbar\":{\"outlinewidth\":0,\"ticks\":\"\"}}}],\"scattermapbox\":[{\"type\":\"scattermapbox\",\"marker\":{\"colorbar\":{\"outlinewidth\":0,\"ticks\":\"\"}}}],\"scatterternary\":[{\"type\":\"scatterternary\",\"marker\":{\"colorbar\":{\"outlinewidth\":0,\"ticks\":\"\"}}}],\"scattercarpet\":[{\"type\":\"scattercarpet\",\"marker\":{\"colorbar\":{\"outlinewidth\":0,\"ticks\":\"\"}}}],\"carpet\":[{\"aaxis\":{\"endlinecolor\":\"#2a3f5f\",\"gridcolor\":\"white\",\"linecolor\":\"white\",\"minorgridcolor\":\"white\",\"startlinecolor\":\"#2a3f5f\"},\"baxis\":{\"endlinecolor\":\"#2a3f5f\",\"gridcolor\":\"white\",\"linecolor\":\"white\",\"minorgridcolor\":\"white\",\"startlinecolor\":\"#2a3f5f\"},\"type\":\"carpet\"}],\"table\":[{\"cells\":{\"fill\":{\"color\":\"#EBF0F8\"},\"line\":{\"color\":\"white\"}},\"header\":{\"fill\":{\"color\":\"#C8D4E3\"},\"line\":{\"color\":\"white\"}},\"type\":\"table\"}],\"barpolar\":[{\"marker\":{\"line\":{\"color\":\"#E5ECF6\",\"width\":0.5},\"pattern\":{\"fillmode\":\"overlay\",\"size\":10,\"solidity\":0.2}},\"type\":\"barpolar\"}],\"pie\":[{\"automargin\":true,\"type\":\"pie\"}]},\"layout\":{\"autotypenumbers\":\"strict\",\"colorway\":[\"#636efa\",\"#EF553B\",\"#00cc96\",\"#ab63fa\",\"#FFA15A\",\"#19d3f3\",\"#FF6692\",\"#B6E880\",\"#FF97FF\",\"#FECB52\"],\"font\":{\"color\":\"#2a3f5f\"},\"hovermode\":\"closest\",\"hoverlabel\":{\"align\":\"left\"},\"paper_bgcolor\":\"white\",\"plot_bgcolor\":\"#E5ECF6\",\"polar\":{\"bgcolor\":\"#E5ECF6\",\"angularaxis\":{\"gridcolor\":\"white\",\"linecolor\":\"white\",\"ticks\":\"\"},\"radialaxis\":{\"gridcolor\":\"white\",\"linecolor\":\"white\",\"ticks\":\"\"}},\"ternary\":{\"bgcolor\":\"#E5ECF6\",\"aaxis\":{\"gridcolor\":\"white\",\"linecolor\":\"white\",\"ticks\":\"\"},\"baxis\":{\"gridcolor\":\"white\",\"linecolor\":\"white\",\"ticks\":\"\"},\"caxis\":{\"gridcolor\":\"white\",\"linecolor\":\"white\",\"ticks\":\"\"}},\"coloraxis\":{\"colorbar\":{\"outlinewidth\":0,\"ticks\":\"\"}},\"colorscale\":{\"sequential\":[[0.0,\"#0d0887\"],[0.1111111111111111,\"#46039f\"],[0.2222222222222222,\"#7201a8\"],[0.3333333333333333,\"#9c179e\"],[0.4444444444444444,\"#bd3786\"],[0.5555555555555556,\"#d8576b\"],[0.6666666666666666,\"#ed7953\"],[0.7777777777777778,\"#fb9f3a\"],[0.8888888888888888,\"#fdca26\"],[1.0,\"#f0f921\"]],\"sequentialminus\":[[0.0,\"#0d0887\"],[0.1111111111111111,\"#46039f\"],[0.2222222222222222,\"#7201a8\"],[0.3333333333333333,\"#9c179e\"],[0.4444444444444444,\"#bd3786\"],[0.5555555555555556,\"#d8576b\"],[0.6666666666666666,\"#ed7953\"],[0.7777777777777778,\"#fb9f3a\"],[0.8888888888888888,\"#fdca26\"],[1.0,\"#f0f921\"]],\"diverging\":[[0,\"#8e0152\"],[0.1,\"#c51b7d\"],[0.2,\"#de77ae\"],[0.3,\"#f1b6da\"],[0.4,\"#fde0ef\"],[0.5,\"#f7f7f7\"],[0.6,\"#e6f5d0\"],[0.7,\"#b8e186\"],[0.8,\"#7fbc41\"],[0.9,\"#4d9221\"],[1,\"#276419\"]]},\"xaxis\":{\"gridcolor\":\"white\",\"linecolor\":\"white\",\"ticks\":\"\",\"title\":{\"standoff\":15},\"zerolinecolor\":\"white\",\"automargin\":true,\"zerolinewidth\":2},\"yaxis\":{\"gridcolor\":\"white\",\"linecolor\":\"white\",\"ticks\":\"\",\"title\":{\"standoff\":15},\"zerolinecolor\":\"white\",\"automargin\":true,\"zerolinewidth\":2},\"scene\":{\"xaxis\":{\"backgroundcolor\":\"#E5ECF6\",\"gridcolor\":\"white\",\"linecolor\":\"white\",\"showbackground\":true,\"ticks\":\"\",\"zerolinecolor\":\"white\",\"gridwidth\":2},\"yaxis\":{\"backgroundcolor\":\"#E5ECF6\",\"gridcolor\":\"white\",\"linecolor\":\"white\",\"showbackground\":true,\"ticks\":\"\",\"zerolinecolor\":\"white\",\"gridwidth\":2},\"zaxis\":{\"backgroundcolor\":\"#E5ECF6\",\"gridcolor\":\"white\",\"linecolor\":\"white\",\"showbackground\":true,\"ticks\":\"\",\"zerolinecolor\":\"white\",\"gridwidth\":2}},\"shapedefaults\":{\"line\":{\"color\":\"#2a3f5f\"}},\"annotationdefaults\":{\"arrowcolor\":\"#2a3f5f\",\"arrowhead\":0,\"arrowwidth\":1},\"geo\":{\"bgcolor\":\"white\",\"landcolor\":\"#E5ECF6\",\"subunitcolor\":\"white\",\"showland\":true,\"showlakes\":true,\"lakecolor\":\"white\"},\"title\":{\"x\":0.05},\"mapbox\":{\"style\":\"light\"}}},\"xaxis\":{\"anchor\":\"y\",\"domain\":[0.0,1.0],\"matches\":\"x3\",\"showticklabels\":false},\"yaxis\":{\"anchor\":\"x\",\"domain\":[0.505,1.0],\"title\":{\"text\":\"Price\"}},\"xaxis2\":{\"anchor\":\"y2\",\"domain\":[0.0,1.0],\"matches\":\"x3\",\"showticklabels\":false},\"yaxis2\":{\"anchor\":\"x2\",\"domain\":[0.2525,0.495],\"title\":{\"text\":\"Volume\"}},\"xaxis3\":{\"anchor\":\"y3\",\"domain\":[0.0,1.0]},\"yaxis3\":{\"anchor\":\"x3\",\"domain\":[0.0,0.2425],\"title\":{\"text\":\"RSI\"}},\"shapes\":[{\"line\":{\"color\":\"green\",\"dash\":\"dash\",\"width\":1},\"type\":\"line\",\"x0\":0,\"x1\":1,\"xref\":\"x3 domain\",\"y0\":30,\"y1\":30,\"yref\":\"y3\"},{\"line\":{\"color\":\"red\",\"dash\":\"dash\",\"width\":1},\"type\":\"line\",\"x0\":0,\"x1\":1,\"xref\":\"x3 domain\",\"y0\":70,\"y1\":70,\"yref\":\"y3\"}],\"height\":800,\"width\":1300,\"showlegend\":false,\"title\":{\"text\":\"0P0001CLDK.F 2025\"}},                        {\"responsive\": true}                    ).then(function(){\n",
       "                            \n",
       "var gd = document.getElementById('b90e6b28-130e-4dac-95bb-9a242ff41f58');\n",
       "var x = new MutationObserver(function (mutations, observer) {{\n",
       "        var display = window.getComputedStyle(gd).display;\n",
       "        if (!display || display === 'none') {{\n",
       "            console.log([gd, 'removed!']);\n",
       "            Plotly.purge(gd);\n",
       "            observer.disconnect();\n",
       "        }}\n",
       "}});\n",
       "\n",
       "// Listen for the removal of the full notebook cells\n",
       "var notebookContainer = gd.closest('#notebook-container');\n",
       "if (notebookContainer) {{\n",
       "    x.observe(notebookContainer, {childList: true});\n",
       "}}\n",
       "\n",
       "// Listen for the clearing of the current output cell\n",
       "var outputEl = gd.closest('.output');\n",
       "if (outputEl) {{\n",
       "    x.observe(outputEl, {childList: true});\n",
       "}}\n",
       "\n",
       "                        })                };            </script>        </div>"
      ]
     },
     "metadata": {},
     "output_type": "display_data"
    }
   ],
   "source": [
    "# Plot the adjusted close price\n",
    "fig = make_subplots(rows=4, cols=1,shared_xaxes=True,vertical_spacing=0.01,specs=[[{'rowspan':2,'colspan':1}],[None],[{'rowspan':1,'colspan':1}],[{'rowspan':1,'colspan':1}]])\n",
    "\n",
    "# Graph (1,1)\n",
    "fig.add_trace(go.Scatter(x=stock_ticker['Adj Close'].loc[year].index,y=stock_ticker['Adj Close'].loc[year],mode=\"lines\",name=f'{ticker}'),row=1,col=1)\n",
    "fig.add_trace(go.Scatter(x=stock_ticker['BB_Lower'].loc[year].index,y=stock_ticker['BB_Lower'].loc[year],mode=\"lines\",name='BB_Lower'),row=1,col=1)\n",
    "fig.add_trace(go.Scatter(x=stock_ticker['BB_Upper'].loc[year].index,y=stock_ticker['BB_Upper'].loc[year],mode=\"lines\",name='BB_Upper'),row=1,col=1)\n",
    "fig.add_trace(go.Scatter(x=stock_ticker['MMA20'].loc[year].index,y=stock_ticker['MMA20'].loc[year],mode=\"lines\",name='MMA20'),row=1,col=1)\n",
    "# Update xaxis properties\n",
    "fig.update_yaxes(title_text=\"Price\", row=1, col=1)\n",
    "\n",
    "# Graph (3,1)\n",
    "fig.add_trace(go.Scatter(x=stock_ticker['Volume'].loc[year].index,y=stock_ticker['Volume'].loc[year],mode=\"lines\",name='Volume'),row=3, col=1)\n",
    "fig.add_trace(go.Scatter(x=stock_ticker['Volume'].loc[year].index,y=stock_ticker['Volume'].loc[year].rolling(20).mean(),mode=\"lines\",name='MMA20'),row=3,col=1)\n",
    "fig.update_yaxes(title_text=\"Volume\", row=3, col=1)\n",
    "\n",
    "# Graph (4,1)\n",
    "fig.add_trace(go.Scatter(x=stock_ticker['RSI'].loc[year].index,y=stock_ticker['RSI'].loc[year],mode=\"lines\",name='RSI'),row=4, col=1)\n",
    "fig.add_hline(y=30, line_width=1, line_dash=\"dash\", line_color=\"green\",row=4,col=1)\n",
    "fig.add_hline(y=70, line_width=1, line_dash=\"dash\", line_color=\"red\",row=4,col=1)\n",
    "fig.update_yaxes(title_text=\"RSI\", row=4, col=1)\n",
    "\n",
    "fig.update_layout(height=800, width=1300,showlegend=False,title=f\"{ticker} {year}\")\n",
    "\n",
    "fig.show()"
   ]
  },
  {
   "cell_type": "code",
   "execution_count": 19,
   "metadata": {},
   "outputs": [
    {
     "data": {
      "application/vnd.jupyter.widget-view+json": {
       "model_id": "71f828497d9c428f98390b4ed433b44b",
       "version_major": 2,
       "version_minor": 0
      },
      "text/plain": [
       "  0%|          | 0/1 [00:00<?, ?it/s]"
      ]
     },
     "metadata": {},
     "output_type": "display_data"
    },
    {
     "data": {
      "text/html": [
       "<div>\n",
       "<style scoped>\n",
       "    .dataframe tbody tr th:only-of-type {\n",
       "        vertical-align: middle;\n",
       "    }\n",
       "\n",
       "    .dataframe tbody tr th {\n",
       "        vertical-align: top;\n",
       "    }\n",
       "\n",
       "    .dataframe thead th {\n",
       "        text-align: right;\n",
       "    }\n",
       "</style>\n",
       "<table border=\"1\" class=\"dataframe\">\n",
       "  <thead>\n",
       "    <tr style=\"text-align: right;\">\n",
       "      <th></th>\n",
       "      <th>Ticker</th>\n",
       "      <th>Name</th>\n",
       "      <th>Date</th>\n",
       "      <th>Daily_Return</th>\n",
       "    </tr>\n",
       "  </thead>\n",
       "  <tbody>\n",
       "    <tr>\n",
       "      <th>0</th>\n",
       "      <td>0P0001CLDK.F</td>\n",
       "      <td>Fidelity MSCI World Index EUR P Acc</td>\n",
       "      <td>2025-03-18</td>\n",
       "      <td>-0.716733</td>\n",
       "    </tr>\n",
       "  </tbody>\n",
       "</table>\n",
       "</div>"
      ],
      "text/plain": [
       "         Ticker                                 Name       Date  Daily_Return\n",
       "0  0P0001CLDK.F  Fidelity MSCI World Index EUR P Acc 2025-03-18     -0.716733"
      ]
     },
     "execution_count": 19,
     "metadata": {},
     "output_type": "execute_result"
    }
   ],
   "source": [
    "# Create also table of daily returns\n",
    "list = []\n",
    "\n",
    "for stock in tqdm(index_list):\n",
    "    f = os.path.join(\"../input\",stock)\n",
    "    df = pd.read_csv(f+\".csv\",index_col=\"Date\",parse_dates=True)\n",
    "    df['Daily_Return'] = daily_return(df[\"Adj Close\"].loc[year])\n",
    "    list.append([df.loc[year].tail(1).index.item(),stock.split('.csv')[0],df[\"Daily_Return\"].loc[year].iloc[-1]])\n",
    "\n",
    "\n",
    "cum = pd.DataFrame(list, columns=['Date','Ticker','Daily_Return'])\n",
    "cum = wiki[['Ticker','Name']].merge(cum,on='Ticker')\n",
    "cum.sort_values(by=['Daily_Return'],ignore_index=True, ascending=False).head(40)"
   ]
  }
 ],
 "metadata": {
  "kernelspec": {
   "display_name": ".venv",
   "language": "python",
   "name": "python3"
  },
  "language_info": {
   "codemirror_mode": {
    "name": "ipython",
    "version": 3
   },
   "file_extension": ".py",
   "mimetype": "text/x-python",
   "name": "python",
   "nbconvert_exporter": "python",
   "pygments_lexer": "ipython3",
   "version": "3.12.3"
  }
 },
 "nbformat": 4,
 "nbformat_minor": 2
}
